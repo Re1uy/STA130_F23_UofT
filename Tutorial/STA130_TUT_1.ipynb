{
 "cells": [
  {
   "cell_type": "markdown",
   "id": "87918176",
   "metadata": {
    "slideshow": {
     "slide_type": "slide"
    }
   },
   "source": [
    "# STA130 Tutorial (with \\<Your Favorite TA\\>): <br>Introduction to Statistical Reasoning and Data Science\n",
    "\n",
    "![](https://media.gettyimages.com/id/517357578/photo/1912-original-caption-reads-this-terrible-scene-painted-by-german-artist-willy-stoewer-depicts.jpg?s=612x612&w=gi&k=20&c=WK6J0tZQhdgYjdkGa-WpdcAdwrMqzRfvHV8b8WVCbWc=)\n",
    "\n",
    "## Let's start with a good old-fashioned icebreaker"
   ]
  },
  {
   "cell_type": "markdown",
   "id": "12b3fbbe",
   "metadata": {
    "slideshow": {
     "slide_type": "slide"
    }
   },
   "source": [
    "# Icebreaker (30 minutes)\n",
    "\n",
    "- What's your name?\n",
    "\n",
    "And answer one or two of the following?\n",
    "\n",
    "- Share a boring fact about yourself \n",
    "\n",
    "- Something you're grateful for -- nothing is too big or too small\n",
    "\n",
    "- Something you really like OR really dislike.\n",
    "\n",
    "- Something you did in the summer\n",
    "\n",
    "- Something interesting about where you're from (at any geographic scale)\n",
    "\n",
    "- 2 truths and 1 lie."
   ]
  },
  {
   "cell_type": "markdown",
   "id": "7c043b56",
   "metadata": {
    "slideshow": {
     "slide_type": "slide"
    }
   },
   "source": [
    "# Tutorial Activity (Part I): Open Notes Syllabus Quiz (10 minutes)\n",
    "\n",
    "- Hand in written answers to TA at the end of the tutorial\n",
    "- Question credit for attempting to provide an answer: answers will not be reviewed in detail during marking\n",
    "\n",
    "*Students can \"Double Click\"/\"Exit Slide Mode\" AFTER Tutorial to see the answers if they want... or just refer to the syllabus...*\n",
    "\n",
    "> *You may refer to the course slides and syllabus as you answer these questions; but, this is evaluated for participation, not correctness... it's more to help you realize you should review the syllabus a bit more if that's indeed the case...*\n",
    "\n",
    "| | |\n",
    "|-|-|\n",
    "|0. What is your name?<br><br>1. Where are all the answers to the following questions? <!-- The syllabus and quercus course homepage --> <br><br> 2. When is `Weekly Homework` due? <!-- Thursdays, 5 PM ET --> <br><br> 3. When are ***Tutorial Assignments*** due? <!-- Monday, 9 AM ET --> <br><br> 4. Who are project team groupings submitted to? <!-- Your TA --> <br><br> 5. How many students are on a project team? <!-- 5 to 4... maybe 3 in some circumstances --> <br><br> 6. When are project team groupings due? <!-- Oct 13 (when the Course Project Notebook is introduced in Tutorial) --> <br><br> 7. What happens if I don't submit a  project team grouping in time? <!-- You'll lose up to 2 of 100 course points and be randomly assigned a project team --> | <br><br> 8. What happens if I miss the midterm? <!-- The weight is added to the final --> <br><br> 9. Can I miss the final? <!-- Perhaps, if FAS approves your exam deferral petition --> <br><br> 10. When are office hours? <!-- See the Qerucus Course Homepage. SS621 Tuesday 11 AM - 12 PM and 5-7 PM and Wednesday 11 AM - 1 PM and 5-7 PM; Online Monday 5-7 PM <br> Tuesday 12-1 PM and 5-8 PM <br> Wedneday 11 AM - 12 PM and 6-8 PM; and there are special coding OHs as well: ONLINE: Monday 6-8 PM and Wednesday 11:30 AM - 1:30 PM <br>IN PERSON: Tuesday 11 AM - 1 PM and Wednesday 5-7 PM --> <br><br> 11. Where are office hours? <!-- Sidney Smith (SS) 621 and remotely online through zoom --> <br><br> 12. Are there office hours specifically about learning to code? <!-- Yes --> <br><br> 13. When are piazza questions reviewed and answered? <!-- Mon-Thur 4-6PM --> <br><br> 14. How many assignments can be missed without penalty? <!-- Two in each category: weekly homework, tutorial activity, and tutorial exercise -->| "
   ]
  },
  {
   "cell_type": "markdown",
   "id": "be20456d",
   "metadata": {
    "slideshow": {
     "slide_type": "slide"
    }
   },
   "source": [
    "# Group Discussion (3 min) [Click \"down\" next]\n",
    "\n",
    "- *Break into groups of about 4*\n",
    "\n",
    "Your team, along with famous statistician Abraham Wald, work for the US Statistical Research Group (SRG) which has assembled the best American statisticians to support the World War II war effort. You're currently working on a problem about how to best armour planes. \n",
    "\n",
    "- Too little armour: planes easily shot down \n",
    "- Too much armour: heavier less maneuverable planes use more fuel"
   ]
  },
  {
   "cell_type": "markdown",
   "id": "7b943f5c",
   "metadata": {
    "slideshow": {
     "slide_type": "subslide"
    }
   },
   "source": [
    "# Continued Group Discussion (2 minutes) [Click \"down\" next]\n",
    "\n",
    "You observed that the planes returning from combat were covered in bullet holes, \n",
    "but the holes weren't uniformly distributed across the aircraft.\n",
    "\n",
    "> Have at least one of your group members roughly draw this figure so your group can refer to it during your discussion if needed.\n",
    "\n",
    "\n",
    "![](https://upload.wikimedia.org/wikipedia/commons/thumb/b/b2/Survivorship-bias.svg/640px-Survivorship-bias.svg.png)"
   ]
  },
  {
   "cell_type": "markdown",
   "id": "377cb34b",
   "metadata": {
    "slideshow": {
     "slide_type": "subslide"
    }
   },
   "source": [
    "# Continued Group Discussion (10 minutes) \n",
    "\n",
    "- Based on this observation, you put together a table to summarize the distribution of bullet holes across plane sections:\n",
    "\n",
    "| Section of plane                        | Bullet holes per square foot |\n",
    "|:----------------------------------------|:-----------------------------|\n",
    "| A. Engine                               | 1.11                         |\n",
    "| B. Fuselage (main body of the aircraft) | 1.73                         |\n",
    "| C. Fuel system                          | 1.55                         |\n",
    "| D. Rest of plane (e.g. wings and tail)  | 1.80                         |\n",
    "\n",
    "1. **Which part of the plane has the greatest need for armour?**  \n",
    "2. **Did you all agree?**  \n",
    "3. **Can you change your classmates’ minds to agree with you? Or can they argue persuasively so you agree with them?**\n",
    "\n",
    "# Conclude Group Discussion (5 minutes)\n",
    "\n",
    "What's the answer? \n",
    "\n",
    "Are the conclusions the same across the groups?\n"
   ]
  },
  {
   "cell_type": "markdown",
   "id": "fb86fdb1",
   "metadata": {
    "slideshow": {
     "slide_type": "slide"
    }
   },
   "source": [
    "# Tutorial Activity II Primer (10 min) [Click \"down\" next]\n",
    "\n",
    "- *Break into new groups of 5*\n",
    "\n",
    "Exchange answers and discuss the following questions:\n",
    "\n",
    "1. How is it that you have come to take STA130?\n",
    "\n",
    "2. Do you currently have a sense of the kind of career (e.g., industry, company, type of work) you think you might want to pursue?  Please describe your current thinking on this aspect of your university experience."
   ]
  },
  {
   "cell_type": "markdown",
   "id": "dd2860c1",
   "metadata": {
    "slideshow": {
     "slide_type": "subslide"
    }
   },
   "source": [
    "# Tutorial Activity (Part II): Tell us a bit about yourself! (20 min)\n",
    "\n",
    "> - Hand in written answers to TA at the end of the tutorial\n",
    "> - Question credit for providing an answer: TAs WILL REVIEW THESE SUBMISSIONS, and may provide some feedback, but there's not really \"right\" or \"wrong\" answers here...\n",
    "\n",
    "Identify ONE of the following learning objectives that you're most excited about and describe why you think this objective is the most interesting option. Elaborate based on your programs and subjects of interest and future career goals.\n",
    "\n",
    "  1. Wrangling data using `python` and `pandas`\n",
    "\n",
    "  2. Doing analyses with `python`, `statsmodels`, and `scikit-learn`\n",
    "\n",
    "  3. Identifying the strengths and weaknesses of relevant statistical methods \n",
    "\n",
    "  4. Interpreting and communicating results to (non-)technical audiences\n",
    "\n",
    "  5. Describing how statistical methods can be used to learn from data, including methods for description, explanation, and prediction\n",
    "\n",
    " "
   ]
  },
  {
   "cell_type": "markdown",
   "id": "b85727c7",
   "metadata": {
    "slideshow": {
     "slide_type": "slide"
    }
   },
   "source": [
    "## Tutorial Assignment *[Click \"down\" next]*<br>(introduce and begin in the remaining tutorial time)<br> (but generally this will need to be completed after tutorial)\n",
    "\n",
    "- Submit your work for the assignment through Quercus\n",
    "\n",
    "### Marking is based on clarity and correctness of your written submission<br>as judged from the perspective of a nonstatistical audience\n",
    "\n",
    "- Don't spend more than 60 minutes on this assignment (unless really needed...)    \n",
    "\n",
    "    - Aim for something close to 200 to 500 words\n",
    "    - Grammar is *not* the main focus of the assessment, but it is important that you communicate in a clear and professional manner; so, \n",
    "    - Use full sentences (without slang or emojis) "
   ]
  },
  {
   "cell_type": "markdown",
   "id": "52e41d94",
   "metadata": {
    "slideshow": {
     "slide_type": "subslide"
    }
   },
   "source": [
    "## Tutorial Assignment<br>(Compete After Tutorial: Due Next Monday 9 AM ET)\n",
    "\n",
    "Suppose you ask your friends to name 10 songs produced prior to Dec 31, 1999 and 10 songs produced after Jan 1, 2000. Then, suppose you check the song statistics on Spotify. Answer the following four questions.\n",
    "\n",
    "1. Are the 10 songs produced prior to Dec 31, 1999 that your friend selected fairly representative of all songs produced prior to Dec 31, 1999?\n",
    "\n",
    "<!-- Hint: would you expect your friend to remember all songs equally to remembering their favorite songs? -->\n",
    "\n",
    "\n",
    "2. If the total number of times the older songs your friend named have been listened to is greater than the newer songs, would this confirm that music from earlier periods is better than music now?\n",
    "\n",
    "<!-- Hint: do you think the amount of time a song has to accumuilate \"listenes\" could matter? -->\n",
    "\n",
    "3. If the average number of times (per user and per year) the older songs have been listened to is greater than the newer songs, would this confirm that music from earlier periods is better than music now?\n",
    "\n",
    "<!-- Hint: putting the first two hints together, suppose your friend named only very popular songs... would we maybe expect some bias in total listens between older and new popular songs? -->\n",
    "\n",
    "4. Could there be a systematic reason that the 10 songs produced prior to Dec 31, 1999 that your friend selected might be expected to have a higher number of listens?\n",
    "\n",
    "<!-- *Following up on the rationale from the previous questions, it's most likely that the older songs that your friend remembers have been significantly filtered down to just those that are pretty universally \"liked\" over very long periods of time; but, this is probably less likely to be the case for current musical trends which have yet to \"stand the test of time\".  So the songs that are selected are indeed likely to be selected in systematically different ways.* -->"
   ]
  }
 ],
 "metadata": {
  "celltoolbar": "Slideshow",
  "kernelspec": {
   "display_name": "Python 3 (ipykernel)",
   "language": "python",
   "name": "python3"
  },
  "language_info": {
   "codemirror_mode": {
    "name": "ipython",
    "version": 3
   },
   "file_extension": ".py",
   "mimetype": "text/x-python",
   "name": "python",
   "nbconvert_exporter": "python",
   "pygments_lexer": "ipython3",
   "version": "3.11.4"
  }
 },
 "nbformat": 4,
 "nbformat_minor": 5
}
