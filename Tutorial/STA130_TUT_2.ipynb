{
 "cells": [
  {
   "cell_type": "markdown",
   "id": "e3ef9e6c",
   "metadata": {
    "slideshow": {
     "slide_type": "slide"
    }
   },
   "source": [
    "# STA130 Tutorial 2: Data Wrangling<br>[5 minutes, or 10 minutes to answer this question?]\n",
    "\n",
    "NASA: \\<determines temperature doesn't affects \"o-ring\" by subseting data to just \"o-ring\" incidents\\><br><br>\n",
    "Also NASA: \\<launches the shuttle on a cold day\\>\n",
    "\n",
    "## What's the problem here? *[Click \"down\" next]*\n",
    "<!-- bad data wrangling... subsetted the data when you shouldn't have!!! -->\n",
    "\n",
    "|![](https://etzq49yfnmd.exactdn.com/wp-content/uploads/2022/03/image06-14.png)|![](https://etzq49yfnmd.exactdn.com/wp-content/uploads/2022/03/image02-33.png)|\n",
    "|-|-|\n",
    "| | |\n",
    "\n"
   ]
  },
  {
   "cell_type": "markdown",
   "id": "c3f215dd",
   "metadata": {
    "slideshow": {
     "slide_type": "subslide"
    }
   },
   "source": [
    "# [The Challenger Disaster](https://priceonomics.com/the-space-shuttle-challenger-explosion-and-the-o): cost of less than ideal data wrangling \n",
    "\n",
    "- \"Potential improvements in our data wrangling workflow could be considered.\" 😂/😭 = 💀\n",
    "\n",
    "\n",
    "\n",
    "|![](https://upload.wikimedia.org/wikipedia/commons/8/8b/Shuttle_Challenger_explosion.gif?20190203170223)|![](https://media.tenor.com/VAGI1Ec5us8AAAAC/challenger-explosion.gif)\"Wait, what were you just saying?\"|\n",
    "|-|-|\n",
    "| ![](https://i.makeagif.com/media/10-27-2015/2aLPvN.gif) | <div><img src=\"https://assets.bwbx.io/images/users/iqjWHBFdfxIU/i59J1oFVgxvg/v1/1200x-1.jpg\" width=\"416\"></div>\"It's all good guys, we have liftoff.\" |\n",
    "\n",
    "> CMD+\"+\" and CMD+\"-\" or CTRL+\"+\" and CTRL+\"-\" or to resize...<br>\n",
    "> Everyone likes to take a good long look at an accident as they pass by..."
   ]
  },
  {
   "cell_type": "markdown",
   "id": "4de0e4ff",
   "metadata": {
    "slideshow": {
     "slide_type": "slide"
    }
   },
   "source": [
    "# Tutorial Activity: Quiz (20 minutes) *[Click \"down\" next]*\n",
    "\n",
    "$\\quad\\;$ O. What's your name? <!-- you probably know this better than me... not sure if I can help you if you don't know this... --> $\\quad$ 1. What happens if your data wrangling is not good? <!-- a space shuttle might blow up... Or Worse! -->\n",
    "\n",
    "2. What are `[]`, `.iloc[]`, and `.loc[]` used for relative to a `DataFrame` named `df` and how is this done?\n",
    "<!-- `df['single column']` or df[['one column', 'another column']] or `df[boolean_selection_column]` <--(!); `df.iloc[]` only takes numbers to index rows/columns; and the most powerful of these is the last, which is typically used something like `df.loc[boolean_selection_column, ['one column', 'another column']]`-->\n",
    "3. For a column `col` in the `df`<br>what's the difference between `df.col`, `df['col']`, and `df[['col']]`?  <!-- no difference between the first two: they give a column (of type `pd.Series`); but, the last gives a pandas data frame with a single column... Yes, these two things are different... -->\n",
    "4. Write code which adds the `col2` column to `df` which has the value of `col` times two. <!-- `df['col2'] = df.col*2` or `df['col2'] = df.col+df.col` -->\n",
    "5. What is \"boolean selection\"? <!-- `df[boolean_selection_column]` and `df.loc[boolean_selection_column, ['one column', 'another column']]` are examples... but what do they do? Select certain rows based on some condition, right? --> $\\quad\\quad$ 6. What does the following code do? <!-- Gets three columns of information of really short and really long books that are paperback books... -->\n",
    "\n",
    "```python \n",
    "amazonbooks.loc[ (amazonbooks.Hard_or_Paper!='H') & \n",
    "                 ( (amazonbooks.NumPages<50) | (amazonbooks.NumPages>600) ),\n",
    "                 ('Title','Author','List Price') ]\n",
    "```\n",
    "7. How could the code above be extended to sort the output by the `'NumPages'` column? <!-- We need to select the column 'NumPages' and append `.sort_values('NumPages')` or `.sort_values('NumPages', ascending=True)` to the code. -->\n",
    "\n",
    "8. Write `pandas` code which provides a count of the number of missing values in `df`.\n",
    "<!-- df.isnull().sum() -->\n",
    "\n",
    "9. Write a \"group by\" command and aggregation function for `df`. \n",
    "<!-- df.groupby('col').sum() # or .mean() or .count() or .std() etc. -->\n",
    "\n",
    "10. What does `df['col'].value_counts()` do? <!-- counts the number of each observed data value in `col` -->"
   ]
  },
  {
   "cell_type": "markdown",
   "id": "09bc00f8",
   "metadata": {
    "slideshow": {
     "slide_type": "subslide"
    }
   },
   "source": [
    "# Group Discussion and Review (30 minutes)\n",
    "\n",
    "### Review the quiz and address any open questions or concerns\n",
    "- Return to the previous slide\n",
    "\n",
    "    - There, click \"X\" and double click cell for answers if needed\n",
    "    \n",
    "    - But try to answer all the questions as a group without needing to double click\n",
    "    \n",
    "- You have 30 mintues to do this, and you can return to \"presentation mode\" after you're done and continue with the remaining Tutorial Slides.\n",
    "\n",
    "### It's going to be unusual to this much \"Review/Discussion\" time in tutorial\n",
    "\n",
    "- But getting started with `python` and especially **data wrangling** are very important...\n",
    "- So this should be kind of a \"coding help\" session to make sure students seem to getting the hang of things..."
   ]
  },
  {
   "cell_type": "markdown",
   "id": "6ee1a0d2",
   "metadata": {
    "slideshow": {
     "slide_type": "slide"
    }
   },
   "source": [
    "# Plagiarism and Paraphrasing (35 minutes)<br>(it's okay if you take a little more time on this... but not too much...)<br>(start the Tutorial Activity [next slide] in TUT since it's a little long...) \n",
    "\n",
    "\n",
    "1. (10/35 mintues) Play this video for students: [Plagiarism](https://play.library.utoronto.ca/watch/c02da8ec6e8cd7cd0de6df40aa82d74a) (and here's a [backup](https://web.microsoftstream.com/video/496ed3f7-4136-420f-9108-b5f3605bc899) link)\n",
    "2. (10/35 minutes) Disucss the following questions\n",
    "\n",
    "  - What are the 6 most common types of plagiarism?\n",
    "  \n",
    "  - What is unexpected to you from the video or what have you learned from this video?\n",
    "  \n",
    "  - Did you see any behavior of others that could've been counted as plagarism? How would you correct them/help them avoid plagarism?\n",
    "  \n",
    "3. (10/35 minutes) Put students in groups of 3 and have the students the best of the 4 choices: [https://github.com/quin97/STA130_M3_Tutorial/blob/main/Bach%20Oboe%20Source%20Use%20(plagiarism).pdf](https://github.com/quin97/STA130_M3_Tutorial/blob/main/Bach%20Oboe%20Source%20Use%20(plagiarism).pdf)\n",
    "5. (5/35 minutes) Discuss and convey the critical nature of academic integrity and UofT\n",
    "        "
   ]
  },
  {
   "cell_type": "markdown",
   "id": "2397e626",
   "metadata": {
    "slideshow": {
     "slide_type": "slide"
    }
   },
   "source": [
    "## Tutorial Assignment *[Click \"down\" next]*<br>(introduce and begin in the remaining tutorial time)<br> (but generally this will need to be completed after tutorial)\n",
    "\n",
    "- Submit your work for the assignment through Quercus\n",
    "- Copy-paste your written submission into the Quercus textbox.\n",
    "- Upload your code as a `.ipynb` notebook along with your written submission.\n",
    "    - Annotate your notebook with comments where it's helpful for understanding what you're doing.\n",
    "\n",
    "### Marking is based on clarity of your written submission as judged from the perspective of a nonstatistical audience and correctness as judged by a statistically literate audience. \n",
    "\n",
    "- Don't spend more than 90 minutes on this assignment (unless really needed...)    \n",
    "\n",
    "    - Aim for something close to 200 to 500 words for your written submission\n",
    "    - Grammar is *not* the main focus of the assessment, but it is important that you communicate in a clear and professional manner; so, \n",
    "    - Use full sentences (without slang or emojis) \n",
    "\n"
   ]
  },
  {
   "cell_type": "markdown",
   "id": "4eee1673",
   "metadata": {
    "slideshow": {
     "slide_type": "subslide"
    }
   },
   "source": [
    "## Tutorial Assignment<br>(Compete After Tutorial: Due Next Monday 9 AM ET)\n",
    "\n",
    "Use your newly acquired ***Data Wrangling*** skills\n",
    "- `.groupby()` with the `.sum()` or `.mean()` \"aggregation functions\"\n",
    "- `.describe()`,`.value_counts()` and `sort_values()`\n",
    "- in conjunction with some interesting ***boolean selection*** choices \n",
    "\n",
    "to explore and subsequently describe the `oly12countries.csv`  and/or `oly12athletes.csv` data<br>and some findings of note that you feel are worth reporting.\n",
    "\n",
    "- As you report your various findings, additionally paraphrase the coding that produced each result, but **don't include any code in your written submission.**\n",
    "\n",
    "Write this as if you were explaining to your boss what you're seeing in the data, and what the coding that you did was to uncover what you found. "
   ]
  }
 ],
 "metadata": {
  "celltoolbar": "Slideshow",
  "kernelspec": {
   "display_name": "Python 3 (ipykernel)",
   "language": "python",
   "name": "python3"
  },
  "language_info": {
   "codemirror_mode": {
    "name": "ipython",
    "version": 3
   },
   "file_extension": ".py",
   "mimetype": "text/x-python",
   "name": "python",
   "nbconvert_exporter": "python",
   "pygments_lexer": "ipython3",
   "version": "3.11.4"
  }
 },
 "nbformat": 4,
 "nbformat_minor": 5
}
