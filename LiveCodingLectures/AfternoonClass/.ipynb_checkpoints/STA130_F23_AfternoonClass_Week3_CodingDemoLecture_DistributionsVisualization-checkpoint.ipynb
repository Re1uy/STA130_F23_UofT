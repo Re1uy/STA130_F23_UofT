{
 "cells": [
  {
   "cell_type": "markdown",
   "id": "a4fc367e",
   "metadata": {},
   "source": [
    "# Distributions / Data Visualization\n",
    "- `px.histogram` (`nbins`) \n",
    "    - `import plotly.express as px`\n",
    "        - VS matplotlib (pandas), seaborn, ggplot (R but Python), shiny, bokeh, [The Pudding](https://pudding.cool) (`D3.js`), https://informationisbeautiful.net (\"Data Journalism\")\n",
    "    - skew, modeality, heavy tailed, outliers... \n",
    "\n",
    "- Definitions\n",
    "    - Sample / Population\n",
    "    - Statistics / Parameters \n",
    "        - `.describe()` and other aggregation functions\n",
    "        - Relate ***statistics*** $\\bar x$ and ***sample variance*** $s^2$ (***sample standard deviation*** $s$)\n",
    "            - to corresponding ***parameters*** $\\mu$ and $\\sigma^2$ (and $\\sigma$)\n",
    "            \n",
    "- Parameters / Populations \n",
    "    - `from scipy import stats`\n",
    "        - `stats.norm(loc=mu, scale=std)`\n",
    "            - `.rvs()` and `.pdf()`\n",
    "                - `import numpy as np` and `np.linspace()`\n",
    "        - `px.line`\n",
    "- Kernel Density Estimation: `import plotly.figure_factory as ff`\n",
    "- `px.box` and `pd.melt` \n",
    "    - How boxplots define ***outliers***\n",
    "    - `pd.melt` different from `ff.create_distplot`\n"
   ]
  },
  {
   "cell_type": "code",
   "execution_count": 22,
   "id": "bd683a9f",
   "metadata": {},
   "outputs": [
    {
     "name": "stdout",
     "output_type": "stream",
     "text": [
      "(325, 13)\n"
     ]
    },
    {
     "data": {
      "text/plain": [
       "Title            0\n",
       "Author           1\n",
       "List Price       1\n",
       "Amazon Price     0\n",
       "Hard_or_Paper    0\n",
       "NumPages         2\n",
       "Publisher        1\n",
       "Pub year         1\n",
       "ISBN-10          0\n",
       "Height           4\n",
       "Width            5\n",
       "Thick            1\n",
       "Weight_oz        9\n",
       "dtype: int64"
      ]
     },
     "execution_count": 22,
     "metadata": {},
     "output_type": "execute_result"
    }
   ],
   "source": [
    "import pandas as pd\n",
    "ab = pd.read_csv(\"amazonbooks.csv\", encoding=\"ISO-8859-1\")#.dropna()\n",
    "print(ab.shape)\n",
    "ab.isnull().sum()"
   ]
  },
  {
   "cell_type": "code",
   "execution_count": 25,
   "id": "d5b89a48",
   "metadata": {},
   "outputs": [
    {
     "name": "stdout",
     "output_type": "stream",
     "text": [
      "(319, 11)\n"
     ]
    },
    {
     "data": {
      "text/plain": [
       "Title              object\n",
       "Author             object\n",
       "List Price        float64\n",
       "Amazon Price      float64\n",
       "Hard_or_Paper      object\n",
       "NumPages            int64\n",
       "Publisher          object\n",
       "Pub year            int64\n",
       "ISBN-10            object\n",
       "Thick             float64\n",
       "Paper_or_Hard    category\n",
       "dtype: object"
      ]
     },
     "execution_count": 25,
     "metadata": {},
     "output_type": "execute_result"
    }
   ],
   "source": [
    "ab_noNaN = ab.drop(['Weight_oz','Width','Height'], axis=1).dropna()\n",
    "ab_noNaN['Pub year'] = ab_noNaN['Pub year'].astype(int)\n",
    "ab_noNaN['NumPages'] = ab_noNaN['NumPages'].astype(int)\n",
    "ab_noNaN['Paper_or_Hard'] = ab_noNaN['Paper_or_Hard'].astype(\"category\")\n",
    "print(ab_noNaN.shape)\n",
    "ab_noNaN.dtypes"
   ]
  },
  {
   "cell_type": "code",
   "execution_count": null,
   "id": "a69a27df",
   "metadata": {},
   "outputs": [],
   "source": []
  }
 ],
 "metadata": {
  "kernelspec": {
   "display_name": "Python 3 (ipykernel)",
   "language": "python",
   "name": "python3"
  },
  "language_info": {
   "codemirror_mode": {
    "name": "ipython",
    "version": 3
   },
   "file_extension": ".py",
   "mimetype": "text/x-python",
   "name": "python",
   "nbconvert_exporter": "python",
   "pygments_lexer": "ipython3",
   "version": "3.10.8"
  }
 },
 "nbformat": 4,
 "nbformat_minor": 5
}
