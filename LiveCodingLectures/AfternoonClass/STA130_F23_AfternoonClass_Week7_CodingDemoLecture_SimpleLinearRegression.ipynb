{
 "cells": [
  {
   "cell_type": "markdown",
   "id": "59d74d59",
   "metadata": {},
   "source": [
    "# Simple Linear Regression\n",
    "\n",
    "- Demonstrate the equation of a line $y = mx + b$\n",
    "    - Interpret $b$ as the \"intercept\" and $m$ as the \"rise over run\" slope\n",
    "    - Introduce flexible notation for an ***expected linear relationship*** $E[y_i] = \\beta_0 + \\beta_1x_i$ that is inexact $y_i \\approx \\beta_0 + \\beta_1x_i$ but $y_i \\neq \\beta_0 + \\beta_1x_i$ \n",
    "- Demonstrate ***simple linear regression*** model\n",
    "    - Give the $y_i = \\beta_0 + \\beta_1x_i + \\epsilon_i, \\epsilon_i \\sim \\mathcal N (0,\\sigma^2)$ mathematical specification of ***simple linear regression***\n",
    "        - We won't cover the assumptions implied here carefully; but, the homework will address them more fully and explicitly\n",
    "        - This is the same as $y_i \\sim \\mathcal N (\\mu_{x_i} = \\beta_0 + \\beta_1x_i, \\sigma^2)$ so ***simple linear regression*** is just a ***normal distribution population model***\n",
    "            - where the mean $\\mu_{x_i}$ depends on $x_i$\n",
    "        - Interpret ***coefficients*** $\\beta_0$ as the \"intercept\" and $\\beta_1$ as the \"rise over run\" slope and now $\\epsilon_i$ as the ***error***\n",
    "- Define ***correlation*** $r_{xy} = \\frac{\\text{Cov}(x,y)}{s_xs_y} \\in [-1,1]$\n",
    "    - We probably won't have time for a fuller mathematical definition, but perhaps we'll start it?\n",
    "    - Explore the behavior of $r_{xy}$ relative to $\\sigma$\n",
    "- Introduce `import statsmodels.api as sm` and contrast it with `statsmodels.formula.api as smf`\n",
    "    - Define ***predictions*** as ***fitted values*** $\\hat y_i = \\hat \\beta_0 + \\hat \\beta_1x_i$\n",
    "        - Contrast ***parameters*** versus ***estimated*** (\"intercept\" and \"slope\") ***coefficients***\n",
    "        - Interpret ***estimated*** (\"intercept\" and \"slope\") ***coefficients***\n",
    "        - Explore \n",
    "            - `np.cov(x,y, ddof=1)`, `x.var(ddof=1)`, `y.var(ddof=1)`, \n",
    "            - `np.cov(x,y, ddof=1)[0,1]/(x.std(ddof=1)*y.std(ddof=1)`, `np.corrcoef(x,y)[0,1]`\n",
    "            - $\\hat \\beta_1 = $`np.corrcoef(x,y)[0,1]*y.std(ddof=1)/x.std(ddof=1)`\n",
    "        \n",
    "            - $\\hat \\beta_0 =$ `y.mean() - `$\\hat \\beta_1$` * x.mean()`\n",
    "            \n",
    "    - Provide ***statistical inference*** based on the ***null hypothesis*** for \"slope\" $\\beta_1$ using the ***coefficient*** $\\hat \\beta_1$ (***test statistic***)\n",
    "- Make ***predictions*** with ***fitted values*** $\\hat y_i = \\hat \\beta_0 + \\hat \\beta_1x_i$ or ***extrapolations*** $\\tilde y_i = \\hat \\beta_0 + \\hat \\beta_1 \\tilde x_i$ \n",
    "    - Give synonyms \n",
    "        - $y_i$ (outcomes, responses, dependent/endogenous variables)\n",
    "        - $x_i$ (covariates, features, independent/exogenous/explanatory variables)\n",
    "    - Define ***residuals*** $e_i = \\hat \\epsilon_i = y_i - \\hat y_i \\neq \\epsilon_i$\n",
    "- Define ***proportion of variation explained*** $R^2 = r_{y\\hat y}^2 = 1-\\frac{\\sum_{i=1}^n(y_i-\\hat y_i)^2}{\\sum_{i=1}^n(y_i-\\bar y_i)^2} = 1-\\frac{\\frac{1}{n-1}\\sum_{i=1}^ne_i^2}{s_y^2}$     \n",
    "    \n",
    "- Do some examples with \"amazonbooks.csv\" (`ab_noNaN`)\n"
   ]
  },
  {
   "cell_type": "code",
   "execution_count": 7,
   "id": "bfd4cad4",
   "metadata": {},
   "outputs": [
    {
     "data": {
      "text/plain": [
       "array([3.46813151, 5.79405812, 3.3765849 , 5.94032302, 0.42005484,\n",
       "       3.93113716, 0.39258481, 4.24241201, 4.10543059, 8.59782529,\n",
       "       5.11351993, 1.66249068, 6.56813692, 0.23853907, 7.48428971,\n",
       "       0.47588917, 3.82460993, 6.40173168, 6.15381433, 5.82715669,\n",
       "       9.87181061, 1.47713169, 2.8843529 , 3.42963969, 5.63468789,\n",
       "       5.58173896, 6.5272543 , 9.15533899, 7.15851167, 9.61203416,\n",
       "       0.32957747, 7.5991751 , 8.56901826, 4.4641432 , 6.06045152,\n",
       "       2.17679537, 4.57994947, 9.92688446, 0.11269917, 5.80325948,\n",
       "       7.07044104, 7.70194738, 6.38504437, 9.68188781, 0.69561834,\n",
       "       0.65650503, 6.64349475, 7.70338965, 4.55791778, 0.11537027,\n",
       "       7.80012415, 7.57369719, 0.19651778, 8.94643067, 4.87679378,\n",
       "       6.6883127 , 2.44838409, 7.88685328, 9.29512991, 6.39803588,\n",
       "       4.63180507, 7.75302212, 6.50410178, 2.52153283, 9.16606053,\n",
       "       6.44310705, 4.54151492, 2.0424636 , 8.26646154, 3.78320699,\n",
       "       1.14352169, 6.05260598, 6.92810802, 3.59293023, 0.23047758,\n",
       "       4.10835465, 1.54398426, 9.7161062 , 7.35199624, 2.27506863,\n",
       "       8.59319205, 6.64932255, 3.1761783 , 2.51539857, 1.82696137,\n",
       "       5.04167619, 7.14448833, 1.45596094, 5.03661873, 0.72928164,\n",
       "       2.63681489, 9.84523796, 9.07253891, 1.59860381, 2.98631625,\n",
       "       7.41574656, 4.03309312, 4.69811998, 9.8360133 , 9.05408683])"
      ]
     },
     "execution_count": 7,
     "metadata": {},
     "output_type": "execute_result"
    }
   ],
   "source": [
    "from scipy import stats\n",
    "n = 100 # 10000\n",
    "x = stats.uniform(loc=0, scale=10).rvs(n)\n",
    "x"
   ]
  },
  {
   "cell_type": "code",
   "execution_count": 2,
   "id": "6b11a280",
   "metadata": {},
   "outputs": [],
   "source": [
    "stats.uniform?"
   ]
  },
  {
   "cell_type": "code",
   "execution_count": 8,
   "id": "f48d98bc",
   "metadata": {},
   "outputs": [
    {
     "data": {
      "application/vnd.plotly.v1+json": {
       "config": {
        "plotlyServerURL": "https://plot.ly"
       },
       "data": [
        {
         "alignmentgroup": "True",
         "bingroup": "x",
         "hovertemplate": "x=%{x}<br>count=%{y}<extra></extra>",
         "legendgroup": "",
         "marker": {
          "color": "#636efa",
          "pattern": {
           "shape": ""
          }
         },
         "name": "",
         "offsetgroup": "",
         "orientation": "v",
         "showlegend": false,
         "type": "histogram",
         "x": [
          3.468131514511933,
          5.794058122331647,
          3.3765848953823085,
          5.940323020002037,
          0.4200548413016236,
          3.931137157832898,
          0.3925848071724125,
          4.242412011758404,
          4.105430591297674,
          8.597825293481286,
          5.113519930360601,
          1.6624906781645388,
          6.568136923335225,
          0.23853907332096802,
          7.484289711995791,
          0.47588916939863,
          3.8246099276157928,
          6.401731678039031,
          6.153814330913221,
          5.82715668797109,
          9.871810611059995,
          1.4771316918161947,
          2.8843529008870483,
          3.429639685094543,
          5.63468789125074,
          5.581738959732996,
          6.527254301616723,
          9.155338985999936,
          7.158511671400518,
          9.612034155702624,
          0.32957747270005333,
          7.5991751004286865,
          8.569018255729127,
          4.464143197441509,
          6.060451521015273,
          2.176795366639687,
          4.5799494701018615,
          9.92688445583376,
          0.11269917368606719,
          5.803259480450684,
          7.0704410431329245,
          7.701947375408226,
          6.385044373500788,
          9.68188780915564,
          0.6956183374943548,
          0.6565050313928167,
          6.64349475167496,
          7.703389649387256,
          4.55791777974591,
          0.11537027254930665,
          7.8001241541867605,
          7.573697193921733,
          0.1965177773953497,
          8.946430672491948,
          4.876793780909395,
          6.688312704736586,
          2.448384086950192,
          7.886853283029857,
          9.295129912340043,
          6.398035884660834,
          4.631805067248135,
          7.753022120344566,
          6.504101776810663,
          2.5215328348838506,
          9.166060531737715,
          6.443107054159354,
          4.541514919899626,
          2.0424636029311563,
          8.266461544213769,
          3.783206985295635,
          1.1435216883008614,
          6.052605977403839,
          6.928108024201674,
          3.5929302283658107,
          0.23047758321444012,
          4.108354651033555,
          1.5439842567040618,
          9.716106197951666,
          7.351996240376447,
          2.2750686265716547,
          8.593192054357434,
          6.649322554827448,
          3.1761782980094475,
          2.515398572577517,
          1.826961370670418,
          5.041676185358128,
          7.144488327119733,
          1.4559609380358685,
          5.036618732578416,
          0.7292816351214049,
          2.6368148948026415,
          9.845237958594465,
          9.072538910037542,
          1.5986038087672705,
          2.986316248937124,
          7.415746556908457,
          4.03309311535783,
          4.698119980100994,
          9.83601330300737,
          9.054086831131354
         ],
         "xaxis": "x",
         "yaxis": "y"
        }
       ],
       "layout": {
        "barmode": "relative",
        "legend": {
         "tracegroupgap": 0
        },
        "margin": {
         "t": 60
        },
        "template": {
         "data": {
          "bar": [
           {
            "error_x": {
             "color": "#2a3f5f"
            },
            "error_y": {
             "color": "#2a3f5f"
            },
            "marker": {
             "line": {
              "color": "#E5ECF6",
              "width": 0.5
             },
             "pattern": {
              "fillmode": "overlay",
              "size": 10,
              "solidity": 0.2
             }
            },
            "type": "bar"
           }
          ],
          "barpolar": [
           {
            "marker": {
             "line": {
              "color": "#E5ECF6",
              "width": 0.5
             },
             "pattern": {
              "fillmode": "overlay",
              "size": 10,
              "solidity": 0.2
             }
            },
            "type": "barpolar"
           }
          ],
          "carpet": [
           {
            "aaxis": {
             "endlinecolor": "#2a3f5f",
             "gridcolor": "white",
             "linecolor": "white",
             "minorgridcolor": "white",
             "startlinecolor": "#2a3f5f"
            },
            "baxis": {
             "endlinecolor": "#2a3f5f",
             "gridcolor": "white",
             "linecolor": "white",
             "minorgridcolor": "white",
             "startlinecolor": "#2a3f5f"
            },
            "type": "carpet"
           }
          ],
          "choropleth": [
           {
            "colorbar": {
             "outlinewidth": 0,
             "ticks": ""
            },
            "type": "choropleth"
           }
          ],
          "contour": [
           {
            "colorbar": {
             "outlinewidth": 0,
             "ticks": ""
            },
            "colorscale": [
             [
              0,
              "#0d0887"
             ],
             [
              0.1111111111111111,
              "#46039f"
             ],
             [
              0.2222222222222222,
              "#7201a8"
             ],
             [
              0.3333333333333333,
              "#9c179e"
             ],
             [
              0.4444444444444444,
              "#bd3786"
             ],
             [
              0.5555555555555556,
              "#d8576b"
             ],
             [
              0.6666666666666666,
              "#ed7953"
             ],
             [
              0.7777777777777778,
              "#fb9f3a"
             ],
             [
              0.8888888888888888,
              "#fdca26"
             ],
             [
              1,
              "#f0f921"
             ]
            ],
            "type": "contour"
           }
          ],
          "contourcarpet": [
           {
            "colorbar": {
             "outlinewidth": 0,
             "ticks": ""
            },
            "type": "contourcarpet"
           }
          ],
          "heatmap": [
           {
            "colorbar": {
             "outlinewidth": 0,
             "ticks": ""
            },
            "colorscale": [
             [
              0,
              "#0d0887"
             ],
             [
              0.1111111111111111,
              "#46039f"
             ],
             [
              0.2222222222222222,
              "#7201a8"
             ],
             [
              0.3333333333333333,
              "#9c179e"
             ],
             [
              0.4444444444444444,
              "#bd3786"
             ],
             [
              0.5555555555555556,
              "#d8576b"
             ],
             [
              0.6666666666666666,
              "#ed7953"
             ],
             [
              0.7777777777777778,
              "#fb9f3a"
             ],
             [
              0.8888888888888888,
              "#fdca26"
             ],
             [
              1,
              "#f0f921"
             ]
            ],
            "type": "heatmap"
           }
          ],
          "heatmapgl": [
           {
            "colorbar": {
             "outlinewidth": 0,
             "ticks": ""
            },
            "colorscale": [
             [
              0,
              "#0d0887"
             ],
             [
              0.1111111111111111,
              "#46039f"
             ],
             [
              0.2222222222222222,
              "#7201a8"
             ],
             [
              0.3333333333333333,
              "#9c179e"
             ],
             [
              0.4444444444444444,
              "#bd3786"
             ],
             [
              0.5555555555555556,
              "#d8576b"
             ],
             [
              0.6666666666666666,
              "#ed7953"
             ],
             [
              0.7777777777777778,
              "#fb9f3a"
             ],
             [
              0.8888888888888888,
              "#fdca26"
             ],
             [
              1,
              "#f0f921"
             ]
            ],
            "type": "heatmapgl"
           }
          ],
          "histogram": [
           {
            "marker": {
             "pattern": {
              "fillmode": "overlay",
              "size": 10,
              "solidity": 0.2
             }
            },
            "type": "histogram"
           }
          ],
          "histogram2d": [
           {
            "colorbar": {
             "outlinewidth": 0,
             "ticks": ""
            },
            "colorscale": [
             [
              0,
              "#0d0887"
             ],
             [
              0.1111111111111111,
              "#46039f"
             ],
             [
              0.2222222222222222,
              "#7201a8"
             ],
             [
              0.3333333333333333,
              "#9c179e"
             ],
             [
              0.4444444444444444,
              "#bd3786"
             ],
             [
              0.5555555555555556,
              "#d8576b"
             ],
             [
              0.6666666666666666,
              "#ed7953"
             ],
             [
              0.7777777777777778,
              "#fb9f3a"
             ],
             [
              0.8888888888888888,
              "#fdca26"
             ],
             [
              1,
              "#f0f921"
             ]
            ],
            "type": "histogram2d"
           }
          ],
          "histogram2dcontour": [
           {
            "colorbar": {
             "outlinewidth": 0,
             "ticks": ""
            },
            "colorscale": [
             [
              0,
              "#0d0887"
             ],
             [
              0.1111111111111111,
              "#46039f"
             ],
             [
              0.2222222222222222,
              "#7201a8"
             ],
             [
              0.3333333333333333,
              "#9c179e"
             ],
             [
              0.4444444444444444,
              "#bd3786"
             ],
             [
              0.5555555555555556,
              "#d8576b"
             ],
             [
              0.6666666666666666,
              "#ed7953"
             ],
             [
              0.7777777777777778,
              "#fb9f3a"
             ],
             [
              0.8888888888888888,
              "#fdca26"
             ],
             [
              1,
              "#f0f921"
             ]
            ],
            "type": "histogram2dcontour"
           }
          ],
          "mesh3d": [
           {
            "colorbar": {
             "outlinewidth": 0,
             "ticks": ""
            },
            "type": "mesh3d"
           }
          ],
          "parcoords": [
           {
            "line": {
             "colorbar": {
              "outlinewidth": 0,
              "ticks": ""
             }
            },
            "type": "parcoords"
           }
          ],
          "pie": [
           {
            "automargin": true,
            "type": "pie"
           }
          ],
          "scatter": [
           {
            "fillpattern": {
             "fillmode": "overlay",
             "size": 10,
             "solidity": 0.2
            },
            "type": "scatter"
           }
          ],
          "scatter3d": [
           {
            "line": {
             "colorbar": {
              "outlinewidth": 0,
              "ticks": ""
             }
            },
            "marker": {
             "colorbar": {
              "outlinewidth": 0,
              "ticks": ""
             }
            },
            "type": "scatter3d"
           }
          ],
          "scattercarpet": [
           {
            "marker": {
             "colorbar": {
              "outlinewidth": 0,
              "ticks": ""
             }
            },
            "type": "scattercarpet"
           }
          ],
          "scattergeo": [
           {
            "marker": {
             "colorbar": {
              "outlinewidth": 0,
              "ticks": ""
             }
            },
            "type": "scattergeo"
           }
          ],
          "scattergl": [
           {
            "marker": {
             "colorbar": {
              "outlinewidth": 0,
              "ticks": ""
             }
            },
            "type": "scattergl"
           }
          ],
          "scattermapbox": [
           {
            "marker": {
             "colorbar": {
              "outlinewidth": 0,
              "ticks": ""
             }
            },
            "type": "scattermapbox"
           }
          ],
          "scatterpolar": [
           {
            "marker": {
             "colorbar": {
              "outlinewidth": 0,
              "ticks": ""
             }
            },
            "type": "scatterpolar"
           }
          ],
          "scatterpolargl": [
           {
            "marker": {
             "colorbar": {
              "outlinewidth": 0,
              "ticks": ""
             }
            },
            "type": "scatterpolargl"
           }
          ],
          "scatterternary": [
           {
            "marker": {
             "colorbar": {
              "outlinewidth": 0,
              "ticks": ""
             }
            },
            "type": "scatterternary"
           }
          ],
          "surface": [
           {
            "colorbar": {
             "outlinewidth": 0,
             "ticks": ""
            },
            "colorscale": [
             [
              0,
              "#0d0887"
             ],
             [
              0.1111111111111111,
              "#46039f"
             ],
             [
              0.2222222222222222,
              "#7201a8"
             ],
             [
              0.3333333333333333,
              "#9c179e"
             ],
             [
              0.4444444444444444,
              "#bd3786"
             ],
             [
              0.5555555555555556,
              "#d8576b"
             ],
             [
              0.6666666666666666,
              "#ed7953"
             ],
             [
              0.7777777777777778,
              "#fb9f3a"
             ],
             [
              0.8888888888888888,
              "#fdca26"
             ],
             [
              1,
              "#f0f921"
             ]
            ],
            "type": "surface"
           }
          ],
          "table": [
           {
            "cells": {
             "fill": {
              "color": "#EBF0F8"
             },
             "line": {
              "color": "white"
             }
            },
            "header": {
             "fill": {
              "color": "#C8D4E3"
             },
             "line": {
              "color": "white"
             }
            },
            "type": "table"
           }
          ]
         },
         "layout": {
          "annotationdefaults": {
           "arrowcolor": "#2a3f5f",
           "arrowhead": 0,
           "arrowwidth": 1
          },
          "autotypenumbers": "strict",
          "coloraxis": {
           "colorbar": {
            "outlinewidth": 0,
            "ticks": ""
           }
          },
          "colorscale": {
           "diverging": [
            [
             0,
             "#8e0152"
            ],
            [
             0.1,
             "#c51b7d"
            ],
            [
             0.2,
             "#de77ae"
            ],
            [
             0.3,
             "#f1b6da"
            ],
            [
             0.4,
             "#fde0ef"
            ],
            [
             0.5,
             "#f7f7f7"
            ],
            [
             0.6,
             "#e6f5d0"
            ],
            [
             0.7,
             "#b8e186"
            ],
            [
             0.8,
             "#7fbc41"
            ],
            [
             0.9,
             "#4d9221"
            ],
            [
             1,
             "#276419"
            ]
           ],
           "sequential": [
            [
             0,
             "#0d0887"
            ],
            [
             0.1111111111111111,
             "#46039f"
            ],
            [
             0.2222222222222222,
             "#7201a8"
            ],
            [
             0.3333333333333333,
             "#9c179e"
            ],
            [
             0.4444444444444444,
             "#bd3786"
            ],
            [
             0.5555555555555556,
             "#d8576b"
            ],
            [
             0.6666666666666666,
             "#ed7953"
            ],
            [
             0.7777777777777778,
             "#fb9f3a"
            ],
            [
             0.8888888888888888,
             "#fdca26"
            ],
            [
             1,
             "#f0f921"
            ]
           ],
           "sequentialminus": [
            [
             0,
             "#0d0887"
            ],
            [
             0.1111111111111111,
             "#46039f"
            ],
            [
             0.2222222222222222,
             "#7201a8"
            ],
            [
             0.3333333333333333,
             "#9c179e"
            ],
            [
             0.4444444444444444,
             "#bd3786"
            ],
            [
             0.5555555555555556,
             "#d8576b"
            ],
            [
             0.6666666666666666,
             "#ed7953"
            ],
            [
             0.7777777777777778,
             "#fb9f3a"
            ],
            [
             0.8888888888888888,
             "#fdca26"
            ],
            [
             1,
             "#f0f921"
            ]
           ]
          },
          "colorway": [
           "#636efa",
           "#EF553B",
           "#00cc96",
           "#ab63fa",
           "#FFA15A",
           "#19d3f3",
           "#FF6692",
           "#B6E880",
           "#FF97FF",
           "#FECB52"
          ],
          "font": {
           "color": "#2a3f5f"
          },
          "geo": {
           "bgcolor": "white",
           "lakecolor": "white",
           "landcolor": "#E5ECF6",
           "showlakes": true,
           "showland": true,
           "subunitcolor": "white"
          },
          "hoverlabel": {
           "align": "left"
          },
          "hovermode": "closest",
          "mapbox": {
           "style": "light"
          },
          "paper_bgcolor": "white",
          "plot_bgcolor": "#E5ECF6",
          "polar": {
           "angularaxis": {
            "gridcolor": "white",
            "linecolor": "white",
            "ticks": ""
           },
           "bgcolor": "#E5ECF6",
           "radialaxis": {
            "gridcolor": "white",
            "linecolor": "white",
            "ticks": ""
           }
          },
          "scene": {
           "xaxis": {
            "backgroundcolor": "#E5ECF6",
            "gridcolor": "white",
            "gridwidth": 2,
            "linecolor": "white",
            "showbackground": true,
            "ticks": "",
            "zerolinecolor": "white"
           },
           "yaxis": {
            "backgroundcolor": "#E5ECF6",
            "gridcolor": "white",
            "gridwidth": 2,
            "linecolor": "white",
            "showbackground": true,
            "ticks": "",
            "zerolinecolor": "white"
           },
           "zaxis": {
            "backgroundcolor": "#E5ECF6",
            "gridcolor": "white",
            "gridwidth": 2,
            "linecolor": "white",
            "showbackground": true,
            "ticks": "",
            "zerolinecolor": "white"
           }
          },
          "shapedefaults": {
           "line": {
            "color": "#2a3f5f"
           }
          },
          "ternary": {
           "aaxis": {
            "gridcolor": "white",
            "linecolor": "white",
            "ticks": ""
           },
           "baxis": {
            "gridcolor": "white",
            "linecolor": "white",
            "ticks": ""
           },
           "bgcolor": "#E5ECF6",
           "caxis": {
            "gridcolor": "white",
            "linecolor": "white",
            "ticks": ""
           }
          },
          "title": {
           "x": 0.05
          },
          "xaxis": {
           "automargin": true,
           "gridcolor": "white",
           "linecolor": "white",
           "ticks": "",
           "title": {
            "standoff": 15
           },
           "zerolinecolor": "white",
           "zerolinewidth": 2
          },
          "yaxis": {
           "automargin": true,
           "gridcolor": "white",
           "linecolor": "white",
           "ticks": "",
           "title": {
            "standoff": 15
           },
           "zerolinecolor": "white",
           "zerolinewidth": 2
          }
         }
        },
        "xaxis": {
         "anchor": "y",
         "domain": [
          0,
          1
         ],
         "title": {
          "text": "x"
         }
        },
        "yaxis": {
         "anchor": "x",
         "domain": [
          0,
          1
         ],
         "title": {
          "text": "count"
         }
        }
       }
      },
      "text/html": [
       "<div>                            <div id=\"d67b9885-a354-4ee6-8441-26a59e6ef2d3\" class=\"plotly-graph-div\" style=\"height:525px; width:100%;\"></div>            <script type=\"text/javascript\">                require([\"plotly\"], function(Plotly) {                    window.PLOTLYENV=window.PLOTLYENV || {};                                    if (document.getElementById(\"d67b9885-a354-4ee6-8441-26a59e6ef2d3\")) {                    Plotly.newPlot(                        \"d67b9885-a354-4ee6-8441-26a59e6ef2d3\",                        [{\"alignmentgroup\":\"True\",\"bingroup\":\"x\",\"hovertemplate\":\"x=%{x}\\u003cbr\\u003ecount=%{y}\\u003cextra\\u003e\\u003c\\u002fextra\\u003e\",\"legendgroup\":\"\",\"marker\":{\"color\":\"#636efa\",\"pattern\":{\"shape\":\"\"}},\"name\":\"\",\"offsetgroup\":\"\",\"orientation\":\"v\",\"showlegend\":false,\"x\":[3.468131514511933,5.794058122331647,3.3765848953823085,5.940323020002037,0.4200548413016236,3.931137157832898,0.3925848071724125,4.242412011758404,4.105430591297674,8.597825293481286,5.113519930360601,1.6624906781645388,6.568136923335225,0.23853907332096802,7.484289711995791,0.47588916939863,3.8246099276157928,6.401731678039031,6.153814330913221,5.82715668797109,9.871810611059995,1.4771316918161947,2.8843529008870483,3.429639685094543,5.63468789125074,5.581738959732996,6.527254301616723,9.155338985999936,7.158511671400518,9.612034155702624,0.32957747270005333,7.5991751004286865,8.569018255729127,4.464143197441509,6.060451521015273,2.176795366639687,4.5799494701018615,9.92688445583376,0.11269917368606719,5.803259480450684,7.0704410431329245,7.701947375408226,6.385044373500788,9.68188780915564,0.6956183374943548,0.6565050313928167,6.64349475167496,7.703389649387256,4.55791777974591,0.11537027254930665,7.8001241541867605,7.573697193921733,0.1965177773953497,8.946430672491948,4.876793780909395,6.688312704736586,2.448384086950192,7.886853283029857,9.295129912340043,6.398035884660834,4.631805067248135,7.753022120344566,6.504101776810663,2.5215328348838506,9.166060531737715,6.443107054159354,4.541514919899626,2.0424636029311563,8.266461544213769,3.783206985295635,1.1435216883008614,6.052605977403839,6.928108024201674,3.5929302283658107,0.23047758321444012,4.108354651033555,1.5439842567040618,9.716106197951666,7.351996240376447,2.2750686265716547,8.593192054357434,6.649322554827448,3.1761782980094475,2.515398572577517,1.826961370670418,5.041676185358128,7.144488327119733,1.4559609380358685,5.036618732578416,0.7292816351214049,2.6368148948026415,9.845237958594465,9.072538910037542,1.5986038087672705,2.986316248937124,7.415746556908457,4.03309311535783,4.698119980100994,9.83601330300737,9.054086831131354],\"xaxis\":\"x\",\"yaxis\":\"y\",\"type\":\"histogram\"}],                        {\"template\":{\"data\":{\"histogram2dcontour\":[{\"type\":\"histogram2dcontour\",\"colorbar\":{\"outlinewidth\":0,\"ticks\":\"\"},\"colorscale\":[[0.0,\"#0d0887\"],[0.1111111111111111,\"#46039f\"],[0.2222222222222222,\"#7201a8\"],[0.3333333333333333,\"#9c179e\"],[0.4444444444444444,\"#bd3786\"],[0.5555555555555556,\"#d8576b\"],[0.6666666666666666,\"#ed7953\"],[0.7777777777777778,\"#fb9f3a\"],[0.8888888888888888,\"#fdca26\"],[1.0,\"#f0f921\"]]}],\"choropleth\":[{\"type\":\"choropleth\",\"colorbar\":{\"outlinewidth\":0,\"ticks\":\"\"}}],\"histogram2d\":[{\"type\":\"histogram2d\",\"colorbar\":{\"outlinewidth\":0,\"ticks\":\"\"},\"colorscale\":[[0.0,\"#0d0887\"],[0.1111111111111111,\"#46039f\"],[0.2222222222222222,\"#7201a8\"],[0.3333333333333333,\"#9c179e\"],[0.4444444444444444,\"#bd3786\"],[0.5555555555555556,\"#d8576b\"],[0.6666666666666666,\"#ed7953\"],[0.7777777777777778,\"#fb9f3a\"],[0.8888888888888888,\"#fdca26\"],[1.0,\"#f0f921\"]]}],\"heatmap\":[{\"type\":\"heatmap\",\"colorbar\":{\"outlinewidth\":0,\"ticks\":\"\"},\"colorscale\":[[0.0,\"#0d0887\"],[0.1111111111111111,\"#46039f\"],[0.2222222222222222,\"#7201a8\"],[0.3333333333333333,\"#9c179e\"],[0.4444444444444444,\"#bd3786\"],[0.5555555555555556,\"#d8576b\"],[0.6666666666666666,\"#ed7953\"],[0.7777777777777778,\"#fb9f3a\"],[0.8888888888888888,\"#fdca26\"],[1.0,\"#f0f921\"]]}],\"heatmapgl\":[{\"type\":\"heatmapgl\",\"colorbar\":{\"outlinewidth\":0,\"ticks\":\"\"},\"colorscale\":[[0.0,\"#0d0887\"],[0.1111111111111111,\"#46039f\"],[0.2222222222222222,\"#7201a8\"],[0.3333333333333333,\"#9c179e\"],[0.4444444444444444,\"#bd3786\"],[0.5555555555555556,\"#d8576b\"],[0.6666666666666666,\"#ed7953\"],[0.7777777777777778,\"#fb9f3a\"],[0.8888888888888888,\"#fdca26\"],[1.0,\"#f0f921\"]]}],\"contourcarpet\":[{\"type\":\"contourcarpet\",\"colorbar\":{\"outlinewidth\":0,\"ticks\":\"\"}}],\"contour\":[{\"type\":\"contour\",\"colorbar\":{\"outlinewidth\":0,\"ticks\":\"\"},\"colorscale\":[[0.0,\"#0d0887\"],[0.1111111111111111,\"#46039f\"],[0.2222222222222222,\"#7201a8\"],[0.3333333333333333,\"#9c179e\"],[0.4444444444444444,\"#bd3786\"],[0.5555555555555556,\"#d8576b\"],[0.6666666666666666,\"#ed7953\"],[0.7777777777777778,\"#fb9f3a\"],[0.8888888888888888,\"#fdca26\"],[1.0,\"#f0f921\"]]}],\"surface\":[{\"type\":\"surface\",\"colorbar\":{\"outlinewidth\":0,\"ticks\":\"\"},\"colorscale\":[[0.0,\"#0d0887\"],[0.1111111111111111,\"#46039f\"],[0.2222222222222222,\"#7201a8\"],[0.3333333333333333,\"#9c179e\"],[0.4444444444444444,\"#bd3786\"],[0.5555555555555556,\"#d8576b\"],[0.6666666666666666,\"#ed7953\"],[0.7777777777777778,\"#fb9f3a\"],[0.8888888888888888,\"#fdca26\"],[1.0,\"#f0f921\"]]}],\"mesh3d\":[{\"type\":\"mesh3d\",\"colorbar\":{\"outlinewidth\":0,\"ticks\":\"\"}}],\"scatter\":[{\"fillpattern\":{\"fillmode\":\"overlay\",\"size\":10,\"solidity\":0.2},\"type\":\"scatter\"}],\"parcoords\":[{\"type\":\"parcoords\",\"line\":{\"colorbar\":{\"outlinewidth\":0,\"ticks\":\"\"}}}],\"scatterpolargl\":[{\"type\":\"scatterpolargl\",\"marker\":{\"colorbar\":{\"outlinewidth\":0,\"ticks\":\"\"}}}],\"bar\":[{\"error_x\":{\"color\":\"#2a3f5f\"},\"error_y\":{\"color\":\"#2a3f5f\"},\"marker\":{\"line\":{\"color\":\"#E5ECF6\",\"width\":0.5},\"pattern\":{\"fillmode\":\"overlay\",\"size\":10,\"solidity\":0.2}},\"type\":\"bar\"}],\"scattergeo\":[{\"type\":\"scattergeo\",\"marker\":{\"colorbar\":{\"outlinewidth\":0,\"ticks\":\"\"}}}],\"scatterpolar\":[{\"type\":\"scatterpolar\",\"marker\":{\"colorbar\":{\"outlinewidth\":0,\"ticks\":\"\"}}}],\"histogram\":[{\"marker\":{\"pattern\":{\"fillmode\":\"overlay\",\"size\":10,\"solidity\":0.2}},\"type\":\"histogram\"}],\"scattergl\":[{\"type\":\"scattergl\",\"marker\":{\"colorbar\":{\"outlinewidth\":0,\"ticks\":\"\"}}}],\"scatter3d\":[{\"type\":\"scatter3d\",\"line\":{\"colorbar\":{\"outlinewidth\":0,\"ticks\":\"\"}},\"marker\":{\"colorbar\":{\"outlinewidth\":0,\"ticks\":\"\"}}}],\"scattermapbox\":[{\"type\":\"scattermapbox\",\"marker\":{\"colorbar\":{\"outlinewidth\":0,\"ticks\":\"\"}}}],\"scatterternary\":[{\"type\":\"scatterternary\",\"marker\":{\"colorbar\":{\"outlinewidth\":0,\"ticks\":\"\"}}}],\"scattercarpet\":[{\"type\":\"scattercarpet\",\"marker\":{\"colorbar\":{\"outlinewidth\":0,\"ticks\":\"\"}}}],\"carpet\":[{\"aaxis\":{\"endlinecolor\":\"#2a3f5f\",\"gridcolor\":\"white\",\"linecolor\":\"white\",\"minorgridcolor\":\"white\",\"startlinecolor\":\"#2a3f5f\"},\"baxis\":{\"endlinecolor\":\"#2a3f5f\",\"gridcolor\":\"white\",\"linecolor\":\"white\",\"minorgridcolor\":\"white\",\"startlinecolor\":\"#2a3f5f\"},\"type\":\"carpet\"}],\"table\":[{\"cells\":{\"fill\":{\"color\":\"#EBF0F8\"},\"line\":{\"color\":\"white\"}},\"header\":{\"fill\":{\"color\":\"#C8D4E3\"},\"line\":{\"color\":\"white\"}},\"type\":\"table\"}],\"barpolar\":[{\"marker\":{\"line\":{\"color\":\"#E5ECF6\",\"width\":0.5},\"pattern\":{\"fillmode\":\"overlay\",\"size\":10,\"solidity\":0.2}},\"type\":\"barpolar\"}],\"pie\":[{\"automargin\":true,\"type\":\"pie\"}]},\"layout\":{\"autotypenumbers\":\"strict\",\"colorway\":[\"#636efa\",\"#EF553B\",\"#00cc96\",\"#ab63fa\",\"#FFA15A\",\"#19d3f3\",\"#FF6692\",\"#B6E880\",\"#FF97FF\",\"#FECB52\"],\"font\":{\"color\":\"#2a3f5f\"},\"hovermode\":\"closest\",\"hoverlabel\":{\"align\":\"left\"},\"paper_bgcolor\":\"white\",\"plot_bgcolor\":\"#E5ECF6\",\"polar\":{\"bgcolor\":\"#E5ECF6\",\"angularaxis\":{\"gridcolor\":\"white\",\"linecolor\":\"white\",\"ticks\":\"\"},\"radialaxis\":{\"gridcolor\":\"white\",\"linecolor\":\"white\",\"ticks\":\"\"}},\"ternary\":{\"bgcolor\":\"#E5ECF6\",\"aaxis\":{\"gridcolor\":\"white\",\"linecolor\":\"white\",\"ticks\":\"\"},\"baxis\":{\"gridcolor\":\"white\",\"linecolor\":\"white\",\"ticks\":\"\"},\"caxis\":{\"gridcolor\":\"white\",\"linecolor\":\"white\",\"ticks\":\"\"}},\"coloraxis\":{\"colorbar\":{\"outlinewidth\":0,\"ticks\":\"\"}},\"colorscale\":{\"sequential\":[[0.0,\"#0d0887\"],[0.1111111111111111,\"#46039f\"],[0.2222222222222222,\"#7201a8\"],[0.3333333333333333,\"#9c179e\"],[0.4444444444444444,\"#bd3786\"],[0.5555555555555556,\"#d8576b\"],[0.6666666666666666,\"#ed7953\"],[0.7777777777777778,\"#fb9f3a\"],[0.8888888888888888,\"#fdca26\"],[1.0,\"#f0f921\"]],\"sequentialminus\":[[0.0,\"#0d0887\"],[0.1111111111111111,\"#46039f\"],[0.2222222222222222,\"#7201a8\"],[0.3333333333333333,\"#9c179e\"],[0.4444444444444444,\"#bd3786\"],[0.5555555555555556,\"#d8576b\"],[0.6666666666666666,\"#ed7953\"],[0.7777777777777778,\"#fb9f3a\"],[0.8888888888888888,\"#fdca26\"],[1.0,\"#f0f921\"]],\"diverging\":[[0,\"#8e0152\"],[0.1,\"#c51b7d\"],[0.2,\"#de77ae\"],[0.3,\"#f1b6da\"],[0.4,\"#fde0ef\"],[0.5,\"#f7f7f7\"],[0.6,\"#e6f5d0\"],[0.7,\"#b8e186\"],[0.8,\"#7fbc41\"],[0.9,\"#4d9221\"],[1,\"#276419\"]]},\"xaxis\":{\"gridcolor\":\"white\",\"linecolor\":\"white\",\"ticks\":\"\",\"title\":{\"standoff\":15},\"zerolinecolor\":\"white\",\"automargin\":true,\"zerolinewidth\":2},\"yaxis\":{\"gridcolor\":\"white\",\"linecolor\":\"white\",\"ticks\":\"\",\"title\":{\"standoff\":15},\"zerolinecolor\":\"white\",\"automargin\":true,\"zerolinewidth\":2},\"scene\":{\"xaxis\":{\"backgroundcolor\":\"#E5ECF6\",\"gridcolor\":\"white\",\"linecolor\":\"white\",\"showbackground\":true,\"ticks\":\"\",\"zerolinecolor\":\"white\",\"gridwidth\":2},\"yaxis\":{\"backgroundcolor\":\"#E5ECF6\",\"gridcolor\":\"white\",\"linecolor\":\"white\",\"showbackground\":true,\"ticks\":\"\",\"zerolinecolor\":\"white\",\"gridwidth\":2},\"zaxis\":{\"backgroundcolor\":\"#E5ECF6\",\"gridcolor\":\"white\",\"linecolor\":\"white\",\"showbackground\":true,\"ticks\":\"\",\"zerolinecolor\":\"white\",\"gridwidth\":2}},\"shapedefaults\":{\"line\":{\"color\":\"#2a3f5f\"}},\"annotationdefaults\":{\"arrowcolor\":\"#2a3f5f\",\"arrowhead\":0,\"arrowwidth\":1},\"geo\":{\"bgcolor\":\"white\",\"landcolor\":\"#E5ECF6\",\"subunitcolor\":\"white\",\"showland\":true,\"showlakes\":true,\"lakecolor\":\"white\"},\"title\":{\"x\":0.05},\"mapbox\":{\"style\":\"light\"}}},\"xaxis\":{\"anchor\":\"y\",\"domain\":[0.0,1.0],\"title\":{\"text\":\"x\"}},\"yaxis\":{\"anchor\":\"x\",\"domain\":[0.0,1.0],\"title\":{\"text\":\"count\"}},\"legend\":{\"tracegroupgap\":0},\"margin\":{\"t\":60},\"barmode\":\"relative\"},                        {\"responsive\": true}                    ).then(function(){\n",
       "                            \n",
       "var gd = document.getElementById('d67b9885-a354-4ee6-8441-26a59e6ef2d3');\n",
       "var x = new MutationObserver(function (mutations, observer) {{\n",
       "        var display = window.getComputedStyle(gd).display;\n",
       "        if (!display || display === 'none') {{\n",
       "            console.log([gd, 'removed!']);\n",
       "            Plotly.purge(gd);\n",
       "            observer.disconnect();\n",
       "        }}\n",
       "}});\n",
       "\n",
       "// Listen for the removal of the full notebook cells\n",
       "var notebookContainer = gd.closest('#notebook-container');\n",
       "if (notebookContainer) {{\n",
       "    x.observe(notebookContainer, {childList: true});\n",
       "}}\n",
       "\n",
       "// Listen for the clearing of the current output cell\n",
       "var outputEl = gd.closest('.output');\n",
       "if (outputEl) {{\n",
       "    x.observe(outputEl, {childList: true});\n",
       "}}\n",
       "\n",
       "                        })                };                });            </script>        </div>"
      ]
     },
     "metadata": {},
     "output_type": "display_data"
    }
   ],
   "source": [
    "import plotly.express as px\n",
    "import pandas as pd\n",
    "df = pd.DataFrame({'x': x})\n",
    "px.histogram(df, x='x')\n"
   ]
  },
  {
   "cell_type": "markdown",
   "id": "bfaf7635",
   "metadata": {},
   "source": [
    "# $y = mx + b$"
   ]
  },
  {
   "cell_type": "code",
   "execution_count": 10,
   "id": "89a6adf3",
   "metadata": {},
   "outputs": [
    {
     "data": {
      "application/vnd.plotly.v1+json": {
       "config": {
        "plotlyServerURL": "https://plot.ly"
       },
       "data": [
        {
         "hovertemplate": "x=%{x}<br>y=%{y}<extra></extra>",
         "legendgroup": "",
         "marker": {
          "color": "#636efa",
          "symbol": "circle"
         },
         "mode": "markers",
         "name": "",
         "orientation": "v",
         "showlegend": false,
         "type": "scatter",
         "x": [
          3.468131514511933,
          5.794058122331647,
          3.3765848953823085,
          5.940323020002037,
          0.4200548413016236,
          3.931137157832898,
          0.3925848071724125,
          4.242412011758404,
          4.105430591297674,
          8.597825293481286,
          5.113519930360601,
          1.6624906781645388,
          6.568136923335225,
          0.23853907332096802,
          7.484289711995791,
          0.47588916939863,
          3.8246099276157928,
          6.401731678039031,
          6.153814330913221,
          5.82715668797109,
          9.871810611059995,
          1.4771316918161947,
          2.8843529008870483,
          3.429639685094543,
          5.63468789125074,
          5.581738959732996,
          6.527254301616723,
          9.155338985999936,
          7.158511671400518,
          9.612034155702624,
          0.32957747270005333,
          7.5991751004286865,
          8.569018255729127,
          4.464143197441509,
          6.060451521015273,
          2.176795366639687,
          4.5799494701018615,
          9.92688445583376,
          0.11269917368606719,
          5.803259480450684,
          7.0704410431329245,
          7.701947375408226,
          6.385044373500788,
          9.68188780915564,
          0.6956183374943548,
          0.6565050313928167,
          6.64349475167496,
          7.703389649387256,
          4.55791777974591,
          0.11537027254930665,
          7.8001241541867605,
          7.573697193921733,
          0.1965177773953497,
          8.946430672491948,
          4.876793780909395,
          6.688312704736586,
          2.448384086950192,
          7.886853283029857,
          9.295129912340043,
          6.398035884660834,
          4.631805067248135,
          7.753022120344566,
          6.504101776810663,
          2.5215328348838506,
          9.166060531737715,
          6.443107054159354,
          4.541514919899626,
          2.0424636029311563,
          8.266461544213769,
          3.783206985295635,
          1.1435216883008614,
          6.052605977403839,
          6.928108024201674,
          3.5929302283658107,
          0.23047758321444012,
          4.108354651033555,
          1.5439842567040618,
          9.716106197951666,
          7.351996240376447,
          2.2750686265716547,
          8.593192054357434,
          6.649322554827448,
          3.1761782980094475,
          2.515398572577517,
          1.826961370670418,
          5.041676185358128,
          7.144488327119733,
          1.4559609380358685,
          5.036618732578416,
          0.7292816351214049,
          2.6368148948026415,
          9.845237958594465,
          9.072538910037542,
          1.5986038087672705,
          2.986316248937124,
          7.415746556908457,
          4.03309311535783,
          4.698119980100994,
          9.83601330300737,
          9.054086831131354
         ],
         "xaxis": "x",
         "y": [
          16.936263029023866,
          21.588116244663293,
          16.753169790764616,
          21.880646040004073,
          10.840109682603247,
          17.862274315665797,
          10.785169614344825,
          18.484824023516808,
          18.210861182595348,
          27.19565058696257,
          20.227039860721202,
          13.324981356329078,
          23.13627384667045,
          10.477078146641936,
          24.96857942399158,
          10.95177833879726,
          17.649219855231586,
          22.803463356078062,
          22.307628661826442,
          21.65431337594218,
          29.74362122211999,
          12.954263383632389,
          15.768705801774097,
          16.859279370189086,
          21.26937578250148,
          21.16347791946599,
          23.054508603233444,
          28.310677971999873,
          24.317023342801036,
          29.224068311405247,
          10.659154945400108,
          25.198350200857373,
          27.138036511458253,
          18.928286394883017,
          22.120903042030548,
          14.353590733279374,
          19.159898940203725,
          29.85376891166752,
          10.225398347372135,
          21.60651896090137,
          24.140882086265847,
          25.403894750816452,
          22.770088747001576,
          29.36377561831128,
          11.39123667498871,
          11.313010062785633,
          23.286989503349922,
          25.40677929877451,
          19.11583555949182,
          10.230740545098612,
          25.600248308373523,
          25.147394387843466,
          10.3930355547907,
          27.892861344983896,
          19.75358756181879,
          23.37662540947317,
          14.896768173900384,
          25.773706566059715,
          28.590259824680086,
          22.796071769321667,
          19.26361013449627,
          25.506044240689132,
          23.00820355362133,
          15.043065669767701,
          28.33212106347543,
          22.886214108318708,
          19.083029839799252,
          14.084927205862313,
          26.532923088427538,
          17.56641397059127,
          12.287043376601723,
          22.10521195480768,
          23.856216048403347,
          17.18586045673162,
          10.46095516642888,
          18.21670930206711,
          13.087968513408123,
          29.43221239590333,
          24.703992480752895,
          14.550137253143308,
          27.18638410871487,
          23.298645109654895,
          16.352356596018893,
          15.030797145155034,
          13.653922741340836,
          20.083352370716256,
          24.288976654239466,
          12.911921876071737,
          20.073237465156833,
          11.45856327024281,
          15.273629789605284,
          29.69047591718893,
          28.145077820075084,
          13.197207617534541,
          15.972632497874248,
          24.83149311381691,
          18.066186230715658,
          19.39623996020199,
          29.67202660601474,
          28.108173662262708
         ],
         "yaxis": "y"
        }
       ],
       "layout": {
        "legend": {
         "tracegroupgap": 0
        },
        "margin": {
         "t": 60
        },
        "template": {
         "data": {
          "bar": [
           {
            "error_x": {
             "color": "#2a3f5f"
            },
            "error_y": {
             "color": "#2a3f5f"
            },
            "marker": {
             "line": {
              "color": "#E5ECF6",
              "width": 0.5
             },
             "pattern": {
              "fillmode": "overlay",
              "size": 10,
              "solidity": 0.2
             }
            },
            "type": "bar"
           }
          ],
          "barpolar": [
           {
            "marker": {
             "line": {
              "color": "#E5ECF6",
              "width": 0.5
             },
             "pattern": {
              "fillmode": "overlay",
              "size": 10,
              "solidity": 0.2
             }
            },
            "type": "barpolar"
           }
          ],
          "carpet": [
           {
            "aaxis": {
             "endlinecolor": "#2a3f5f",
             "gridcolor": "white",
             "linecolor": "white",
             "minorgridcolor": "white",
             "startlinecolor": "#2a3f5f"
            },
            "baxis": {
             "endlinecolor": "#2a3f5f",
             "gridcolor": "white",
             "linecolor": "white",
             "minorgridcolor": "white",
             "startlinecolor": "#2a3f5f"
            },
            "type": "carpet"
           }
          ],
          "choropleth": [
           {
            "colorbar": {
             "outlinewidth": 0,
             "ticks": ""
            },
            "type": "choropleth"
           }
          ],
          "contour": [
           {
            "colorbar": {
             "outlinewidth": 0,
             "ticks": ""
            },
            "colorscale": [
             [
              0,
              "#0d0887"
             ],
             [
              0.1111111111111111,
              "#46039f"
             ],
             [
              0.2222222222222222,
              "#7201a8"
             ],
             [
              0.3333333333333333,
              "#9c179e"
             ],
             [
              0.4444444444444444,
              "#bd3786"
             ],
             [
              0.5555555555555556,
              "#d8576b"
             ],
             [
              0.6666666666666666,
              "#ed7953"
             ],
             [
              0.7777777777777778,
              "#fb9f3a"
             ],
             [
              0.8888888888888888,
              "#fdca26"
             ],
             [
              1,
              "#f0f921"
             ]
            ],
            "type": "contour"
           }
          ],
          "contourcarpet": [
           {
            "colorbar": {
             "outlinewidth": 0,
             "ticks": ""
            },
            "type": "contourcarpet"
           }
          ],
          "heatmap": [
           {
            "colorbar": {
             "outlinewidth": 0,
             "ticks": ""
            },
            "colorscale": [
             [
              0,
              "#0d0887"
             ],
             [
              0.1111111111111111,
              "#46039f"
             ],
             [
              0.2222222222222222,
              "#7201a8"
             ],
             [
              0.3333333333333333,
              "#9c179e"
             ],
             [
              0.4444444444444444,
              "#bd3786"
             ],
             [
              0.5555555555555556,
              "#d8576b"
             ],
             [
              0.6666666666666666,
              "#ed7953"
             ],
             [
              0.7777777777777778,
              "#fb9f3a"
             ],
             [
              0.8888888888888888,
              "#fdca26"
             ],
             [
              1,
              "#f0f921"
             ]
            ],
            "type": "heatmap"
           }
          ],
          "heatmapgl": [
           {
            "colorbar": {
             "outlinewidth": 0,
             "ticks": ""
            },
            "colorscale": [
             [
              0,
              "#0d0887"
             ],
             [
              0.1111111111111111,
              "#46039f"
             ],
             [
              0.2222222222222222,
              "#7201a8"
             ],
             [
              0.3333333333333333,
              "#9c179e"
             ],
             [
              0.4444444444444444,
              "#bd3786"
             ],
             [
              0.5555555555555556,
              "#d8576b"
             ],
             [
              0.6666666666666666,
              "#ed7953"
             ],
             [
              0.7777777777777778,
              "#fb9f3a"
             ],
             [
              0.8888888888888888,
              "#fdca26"
             ],
             [
              1,
              "#f0f921"
             ]
            ],
            "type": "heatmapgl"
           }
          ],
          "histogram": [
           {
            "marker": {
             "pattern": {
              "fillmode": "overlay",
              "size": 10,
              "solidity": 0.2
             }
            },
            "type": "histogram"
           }
          ],
          "histogram2d": [
           {
            "colorbar": {
             "outlinewidth": 0,
             "ticks": ""
            },
            "colorscale": [
             [
              0,
              "#0d0887"
             ],
             [
              0.1111111111111111,
              "#46039f"
             ],
             [
              0.2222222222222222,
              "#7201a8"
             ],
             [
              0.3333333333333333,
              "#9c179e"
             ],
             [
              0.4444444444444444,
              "#bd3786"
             ],
             [
              0.5555555555555556,
              "#d8576b"
             ],
             [
              0.6666666666666666,
              "#ed7953"
             ],
             [
              0.7777777777777778,
              "#fb9f3a"
             ],
             [
              0.8888888888888888,
              "#fdca26"
             ],
             [
              1,
              "#f0f921"
             ]
            ],
            "type": "histogram2d"
           }
          ],
          "histogram2dcontour": [
           {
            "colorbar": {
             "outlinewidth": 0,
             "ticks": ""
            },
            "colorscale": [
             [
              0,
              "#0d0887"
             ],
             [
              0.1111111111111111,
              "#46039f"
             ],
             [
              0.2222222222222222,
              "#7201a8"
             ],
             [
              0.3333333333333333,
              "#9c179e"
             ],
             [
              0.4444444444444444,
              "#bd3786"
             ],
             [
              0.5555555555555556,
              "#d8576b"
             ],
             [
              0.6666666666666666,
              "#ed7953"
             ],
             [
              0.7777777777777778,
              "#fb9f3a"
             ],
             [
              0.8888888888888888,
              "#fdca26"
             ],
             [
              1,
              "#f0f921"
             ]
            ],
            "type": "histogram2dcontour"
           }
          ],
          "mesh3d": [
           {
            "colorbar": {
             "outlinewidth": 0,
             "ticks": ""
            },
            "type": "mesh3d"
           }
          ],
          "parcoords": [
           {
            "line": {
             "colorbar": {
              "outlinewidth": 0,
              "ticks": ""
             }
            },
            "type": "parcoords"
           }
          ],
          "pie": [
           {
            "automargin": true,
            "type": "pie"
           }
          ],
          "scatter": [
           {
            "fillpattern": {
             "fillmode": "overlay",
             "size": 10,
             "solidity": 0.2
            },
            "type": "scatter"
           }
          ],
          "scatter3d": [
           {
            "line": {
             "colorbar": {
              "outlinewidth": 0,
              "ticks": ""
             }
            },
            "marker": {
             "colorbar": {
              "outlinewidth": 0,
              "ticks": ""
             }
            },
            "type": "scatter3d"
           }
          ],
          "scattercarpet": [
           {
            "marker": {
             "colorbar": {
              "outlinewidth": 0,
              "ticks": ""
             }
            },
            "type": "scattercarpet"
           }
          ],
          "scattergeo": [
           {
            "marker": {
             "colorbar": {
              "outlinewidth": 0,
              "ticks": ""
             }
            },
            "type": "scattergeo"
           }
          ],
          "scattergl": [
           {
            "marker": {
             "colorbar": {
              "outlinewidth": 0,
              "ticks": ""
             }
            },
            "type": "scattergl"
           }
          ],
          "scattermapbox": [
           {
            "marker": {
             "colorbar": {
              "outlinewidth": 0,
              "ticks": ""
             }
            },
            "type": "scattermapbox"
           }
          ],
          "scatterpolar": [
           {
            "marker": {
             "colorbar": {
              "outlinewidth": 0,
              "ticks": ""
             }
            },
            "type": "scatterpolar"
           }
          ],
          "scatterpolargl": [
           {
            "marker": {
             "colorbar": {
              "outlinewidth": 0,
              "ticks": ""
             }
            },
            "type": "scatterpolargl"
           }
          ],
          "scatterternary": [
           {
            "marker": {
             "colorbar": {
              "outlinewidth": 0,
              "ticks": ""
             }
            },
            "type": "scatterternary"
           }
          ],
          "surface": [
           {
            "colorbar": {
             "outlinewidth": 0,
             "ticks": ""
            },
            "colorscale": [
             [
              0,
              "#0d0887"
             ],
             [
              0.1111111111111111,
              "#46039f"
             ],
             [
              0.2222222222222222,
              "#7201a8"
             ],
             [
              0.3333333333333333,
              "#9c179e"
             ],
             [
              0.4444444444444444,
              "#bd3786"
             ],
             [
              0.5555555555555556,
              "#d8576b"
             ],
             [
              0.6666666666666666,
              "#ed7953"
             ],
             [
              0.7777777777777778,
              "#fb9f3a"
             ],
             [
              0.8888888888888888,
              "#fdca26"
             ],
             [
              1,
              "#f0f921"
             ]
            ],
            "type": "surface"
           }
          ],
          "table": [
           {
            "cells": {
             "fill": {
              "color": "#EBF0F8"
             },
             "line": {
              "color": "white"
             }
            },
            "header": {
             "fill": {
              "color": "#C8D4E3"
             },
             "line": {
              "color": "white"
             }
            },
            "type": "table"
           }
          ]
         },
         "layout": {
          "annotationdefaults": {
           "arrowcolor": "#2a3f5f",
           "arrowhead": 0,
           "arrowwidth": 1
          },
          "autotypenumbers": "strict",
          "coloraxis": {
           "colorbar": {
            "outlinewidth": 0,
            "ticks": ""
           }
          },
          "colorscale": {
           "diverging": [
            [
             0,
             "#8e0152"
            ],
            [
             0.1,
             "#c51b7d"
            ],
            [
             0.2,
             "#de77ae"
            ],
            [
             0.3,
             "#f1b6da"
            ],
            [
             0.4,
             "#fde0ef"
            ],
            [
             0.5,
             "#f7f7f7"
            ],
            [
             0.6,
             "#e6f5d0"
            ],
            [
             0.7,
             "#b8e186"
            ],
            [
             0.8,
             "#7fbc41"
            ],
            [
             0.9,
             "#4d9221"
            ],
            [
             1,
             "#276419"
            ]
           ],
           "sequential": [
            [
             0,
             "#0d0887"
            ],
            [
             0.1111111111111111,
             "#46039f"
            ],
            [
             0.2222222222222222,
             "#7201a8"
            ],
            [
             0.3333333333333333,
             "#9c179e"
            ],
            [
             0.4444444444444444,
             "#bd3786"
            ],
            [
             0.5555555555555556,
             "#d8576b"
            ],
            [
             0.6666666666666666,
             "#ed7953"
            ],
            [
             0.7777777777777778,
             "#fb9f3a"
            ],
            [
             0.8888888888888888,
             "#fdca26"
            ],
            [
             1,
             "#f0f921"
            ]
           ],
           "sequentialminus": [
            [
             0,
             "#0d0887"
            ],
            [
             0.1111111111111111,
             "#46039f"
            ],
            [
             0.2222222222222222,
             "#7201a8"
            ],
            [
             0.3333333333333333,
             "#9c179e"
            ],
            [
             0.4444444444444444,
             "#bd3786"
            ],
            [
             0.5555555555555556,
             "#d8576b"
            ],
            [
             0.6666666666666666,
             "#ed7953"
            ],
            [
             0.7777777777777778,
             "#fb9f3a"
            ],
            [
             0.8888888888888888,
             "#fdca26"
            ],
            [
             1,
             "#f0f921"
            ]
           ]
          },
          "colorway": [
           "#636efa",
           "#EF553B",
           "#00cc96",
           "#ab63fa",
           "#FFA15A",
           "#19d3f3",
           "#FF6692",
           "#B6E880",
           "#FF97FF",
           "#FECB52"
          ],
          "font": {
           "color": "#2a3f5f"
          },
          "geo": {
           "bgcolor": "white",
           "lakecolor": "white",
           "landcolor": "#E5ECF6",
           "showlakes": true,
           "showland": true,
           "subunitcolor": "white"
          },
          "hoverlabel": {
           "align": "left"
          },
          "hovermode": "closest",
          "mapbox": {
           "style": "light"
          },
          "paper_bgcolor": "white",
          "plot_bgcolor": "#E5ECF6",
          "polar": {
           "angularaxis": {
            "gridcolor": "white",
            "linecolor": "white",
            "ticks": ""
           },
           "bgcolor": "#E5ECF6",
           "radialaxis": {
            "gridcolor": "white",
            "linecolor": "white",
            "ticks": ""
           }
          },
          "scene": {
           "xaxis": {
            "backgroundcolor": "#E5ECF6",
            "gridcolor": "white",
            "gridwidth": 2,
            "linecolor": "white",
            "showbackground": true,
            "ticks": "",
            "zerolinecolor": "white"
           },
           "yaxis": {
            "backgroundcolor": "#E5ECF6",
            "gridcolor": "white",
            "gridwidth": 2,
            "linecolor": "white",
            "showbackground": true,
            "ticks": "",
            "zerolinecolor": "white"
           },
           "zaxis": {
            "backgroundcolor": "#E5ECF6",
            "gridcolor": "white",
            "gridwidth": 2,
            "linecolor": "white",
            "showbackground": true,
            "ticks": "",
            "zerolinecolor": "white"
           }
          },
          "shapedefaults": {
           "line": {
            "color": "#2a3f5f"
           }
          },
          "ternary": {
           "aaxis": {
            "gridcolor": "white",
            "linecolor": "white",
            "ticks": ""
           },
           "baxis": {
            "gridcolor": "white",
            "linecolor": "white",
            "ticks": ""
           },
           "bgcolor": "#E5ECF6",
           "caxis": {
            "gridcolor": "white",
            "linecolor": "white",
            "ticks": ""
           }
          },
          "title": {
           "x": 0.05
          },
          "xaxis": {
           "automargin": true,
           "gridcolor": "white",
           "linecolor": "white",
           "ticks": "",
           "title": {
            "standoff": 15
           },
           "zerolinecolor": "white",
           "zerolinewidth": 2
          },
          "yaxis": {
           "automargin": true,
           "gridcolor": "white",
           "linecolor": "white",
           "ticks": "",
           "title": {
            "standoff": 15
           },
           "zerolinecolor": "white",
           "zerolinewidth": 2
          }
         }
        },
        "xaxis": {
         "anchor": "y",
         "domain": [
          0,
          1
         ],
         "title": {
          "text": "x"
         }
        },
        "yaxis": {
         "anchor": "x",
         "domain": [
          0,
          1
         ],
         "title": {
          "text": "y"
         }
        }
       }
      },
      "text/html": [
       "<div>                            <div id=\"a57adc3d-b043-4d03-8201-e318d1dfa21a\" class=\"plotly-graph-div\" style=\"height:525px; width:100%;\"></div>            <script type=\"text/javascript\">                require([\"plotly\"], function(Plotly) {                    window.PLOTLYENV=window.PLOTLYENV || {};                                    if (document.getElementById(\"a57adc3d-b043-4d03-8201-e318d1dfa21a\")) {                    Plotly.newPlot(                        \"a57adc3d-b043-4d03-8201-e318d1dfa21a\",                        [{\"hovertemplate\":\"x=%{x}\\u003cbr\\u003ey=%{y}\\u003cextra\\u003e\\u003c\\u002fextra\\u003e\",\"legendgroup\":\"\",\"marker\":{\"color\":\"#636efa\",\"symbol\":\"circle\"},\"mode\":\"markers\",\"name\":\"\",\"orientation\":\"v\",\"showlegend\":false,\"x\":[3.468131514511933,5.794058122331647,3.3765848953823085,5.940323020002037,0.4200548413016236,3.931137157832898,0.3925848071724125,4.242412011758404,4.105430591297674,8.597825293481286,5.113519930360601,1.6624906781645388,6.568136923335225,0.23853907332096802,7.484289711995791,0.47588916939863,3.8246099276157928,6.401731678039031,6.153814330913221,5.82715668797109,9.871810611059995,1.4771316918161947,2.8843529008870483,3.429639685094543,5.63468789125074,5.581738959732996,6.527254301616723,9.155338985999936,7.158511671400518,9.612034155702624,0.32957747270005333,7.5991751004286865,8.569018255729127,4.464143197441509,6.060451521015273,2.176795366639687,4.5799494701018615,9.92688445583376,0.11269917368606719,5.803259480450684,7.0704410431329245,7.701947375408226,6.385044373500788,9.68188780915564,0.6956183374943548,0.6565050313928167,6.64349475167496,7.703389649387256,4.55791777974591,0.11537027254930665,7.8001241541867605,7.573697193921733,0.1965177773953497,8.946430672491948,4.876793780909395,6.688312704736586,2.448384086950192,7.886853283029857,9.295129912340043,6.398035884660834,4.631805067248135,7.753022120344566,6.504101776810663,2.5215328348838506,9.166060531737715,6.443107054159354,4.541514919899626,2.0424636029311563,8.266461544213769,3.783206985295635,1.1435216883008614,6.052605977403839,6.928108024201674,3.5929302283658107,0.23047758321444012,4.108354651033555,1.5439842567040618,9.716106197951666,7.351996240376447,2.2750686265716547,8.593192054357434,6.649322554827448,3.1761782980094475,2.515398572577517,1.826961370670418,5.041676185358128,7.144488327119733,1.4559609380358685,5.036618732578416,0.7292816351214049,2.6368148948026415,9.845237958594465,9.072538910037542,1.5986038087672705,2.986316248937124,7.415746556908457,4.03309311535783,4.698119980100994,9.83601330300737,9.054086831131354],\"xaxis\":\"x\",\"y\":[16.936263029023866,21.588116244663293,16.753169790764616,21.880646040004073,10.840109682603247,17.862274315665797,10.785169614344825,18.484824023516808,18.210861182595348,27.19565058696257,20.227039860721202,13.324981356329078,23.13627384667045,10.477078146641936,24.96857942399158,10.95177833879726,17.649219855231586,22.803463356078062,22.307628661826442,21.65431337594218,29.74362122211999,12.954263383632389,15.768705801774097,16.859279370189086,21.26937578250148,21.16347791946599,23.054508603233444,28.310677971999873,24.317023342801036,29.224068311405247,10.659154945400108,25.198350200857373,27.138036511458253,18.928286394883017,22.120903042030548,14.353590733279374,19.159898940203725,29.85376891166752,10.225398347372135,21.60651896090137,24.140882086265847,25.403894750816452,22.770088747001576,29.36377561831128,11.39123667498871,11.313010062785633,23.286989503349922,25.40677929877451,19.11583555949182,10.230740545098612,25.600248308373523,25.147394387843466,10.3930355547907,27.892861344983896,19.75358756181879,23.37662540947317,14.896768173900384,25.773706566059715,28.590259824680086,22.796071769321667,19.26361013449627,25.506044240689132,23.00820355362133,15.043065669767701,28.33212106347543,22.886214108318708,19.083029839799252,14.084927205862313,26.532923088427538,17.56641397059127,12.287043376601723,22.10521195480768,23.856216048403347,17.18586045673162,10.46095516642888,18.21670930206711,13.087968513408123,29.43221239590333,24.703992480752895,14.550137253143308,27.18638410871487,23.298645109654895,16.352356596018893,15.030797145155034,13.653922741340836,20.083352370716256,24.288976654239466,12.911921876071737,20.073237465156833,11.45856327024281,15.273629789605284,29.69047591718893,28.145077820075084,13.197207617534541,15.972632497874248,24.83149311381691,18.066186230715658,19.39623996020199,29.67202660601474,28.108173662262708],\"yaxis\":\"y\",\"type\":\"scatter\"}],                        {\"template\":{\"data\":{\"histogram2dcontour\":[{\"type\":\"histogram2dcontour\",\"colorbar\":{\"outlinewidth\":0,\"ticks\":\"\"},\"colorscale\":[[0.0,\"#0d0887\"],[0.1111111111111111,\"#46039f\"],[0.2222222222222222,\"#7201a8\"],[0.3333333333333333,\"#9c179e\"],[0.4444444444444444,\"#bd3786\"],[0.5555555555555556,\"#d8576b\"],[0.6666666666666666,\"#ed7953\"],[0.7777777777777778,\"#fb9f3a\"],[0.8888888888888888,\"#fdca26\"],[1.0,\"#f0f921\"]]}],\"choropleth\":[{\"type\":\"choropleth\",\"colorbar\":{\"outlinewidth\":0,\"ticks\":\"\"}}],\"histogram2d\":[{\"type\":\"histogram2d\",\"colorbar\":{\"outlinewidth\":0,\"ticks\":\"\"},\"colorscale\":[[0.0,\"#0d0887\"],[0.1111111111111111,\"#46039f\"],[0.2222222222222222,\"#7201a8\"],[0.3333333333333333,\"#9c179e\"],[0.4444444444444444,\"#bd3786\"],[0.5555555555555556,\"#d8576b\"],[0.6666666666666666,\"#ed7953\"],[0.7777777777777778,\"#fb9f3a\"],[0.8888888888888888,\"#fdca26\"],[1.0,\"#f0f921\"]]}],\"heatmap\":[{\"type\":\"heatmap\",\"colorbar\":{\"outlinewidth\":0,\"ticks\":\"\"},\"colorscale\":[[0.0,\"#0d0887\"],[0.1111111111111111,\"#46039f\"],[0.2222222222222222,\"#7201a8\"],[0.3333333333333333,\"#9c179e\"],[0.4444444444444444,\"#bd3786\"],[0.5555555555555556,\"#d8576b\"],[0.6666666666666666,\"#ed7953\"],[0.7777777777777778,\"#fb9f3a\"],[0.8888888888888888,\"#fdca26\"],[1.0,\"#f0f921\"]]}],\"heatmapgl\":[{\"type\":\"heatmapgl\",\"colorbar\":{\"outlinewidth\":0,\"ticks\":\"\"},\"colorscale\":[[0.0,\"#0d0887\"],[0.1111111111111111,\"#46039f\"],[0.2222222222222222,\"#7201a8\"],[0.3333333333333333,\"#9c179e\"],[0.4444444444444444,\"#bd3786\"],[0.5555555555555556,\"#d8576b\"],[0.6666666666666666,\"#ed7953\"],[0.7777777777777778,\"#fb9f3a\"],[0.8888888888888888,\"#fdca26\"],[1.0,\"#f0f921\"]]}],\"contourcarpet\":[{\"type\":\"contourcarpet\",\"colorbar\":{\"outlinewidth\":0,\"ticks\":\"\"}}],\"contour\":[{\"type\":\"contour\",\"colorbar\":{\"outlinewidth\":0,\"ticks\":\"\"},\"colorscale\":[[0.0,\"#0d0887\"],[0.1111111111111111,\"#46039f\"],[0.2222222222222222,\"#7201a8\"],[0.3333333333333333,\"#9c179e\"],[0.4444444444444444,\"#bd3786\"],[0.5555555555555556,\"#d8576b\"],[0.6666666666666666,\"#ed7953\"],[0.7777777777777778,\"#fb9f3a\"],[0.8888888888888888,\"#fdca26\"],[1.0,\"#f0f921\"]]}],\"surface\":[{\"type\":\"surface\",\"colorbar\":{\"outlinewidth\":0,\"ticks\":\"\"},\"colorscale\":[[0.0,\"#0d0887\"],[0.1111111111111111,\"#46039f\"],[0.2222222222222222,\"#7201a8\"],[0.3333333333333333,\"#9c179e\"],[0.4444444444444444,\"#bd3786\"],[0.5555555555555556,\"#d8576b\"],[0.6666666666666666,\"#ed7953\"],[0.7777777777777778,\"#fb9f3a\"],[0.8888888888888888,\"#fdca26\"],[1.0,\"#f0f921\"]]}],\"mesh3d\":[{\"type\":\"mesh3d\",\"colorbar\":{\"outlinewidth\":0,\"ticks\":\"\"}}],\"scatter\":[{\"fillpattern\":{\"fillmode\":\"overlay\",\"size\":10,\"solidity\":0.2},\"type\":\"scatter\"}],\"parcoords\":[{\"type\":\"parcoords\",\"line\":{\"colorbar\":{\"outlinewidth\":0,\"ticks\":\"\"}}}],\"scatterpolargl\":[{\"type\":\"scatterpolargl\",\"marker\":{\"colorbar\":{\"outlinewidth\":0,\"ticks\":\"\"}}}],\"bar\":[{\"error_x\":{\"color\":\"#2a3f5f\"},\"error_y\":{\"color\":\"#2a3f5f\"},\"marker\":{\"line\":{\"color\":\"#E5ECF6\",\"width\":0.5},\"pattern\":{\"fillmode\":\"overlay\",\"size\":10,\"solidity\":0.2}},\"type\":\"bar\"}],\"scattergeo\":[{\"type\":\"scattergeo\",\"marker\":{\"colorbar\":{\"outlinewidth\":0,\"ticks\":\"\"}}}],\"scatterpolar\":[{\"type\":\"scatterpolar\",\"marker\":{\"colorbar\":{\"outlinewidth\":0,\"ticks\":\"\"}}}],\"histogram\":[{\"marker\":{\"pattern\":{\"fillmode\":\"overlay\",\"size\":10,\"solidity\":0.2}},\"type\":\"histogram\"}],\"scattergl\":[{\"type\":\"scattergl\",\"marker\":{\"colorbar\":{\"outlinewidth\":0,\"ticks\":\"\"}}}],\"scatter3d\":[{\"type\":\"scatter3d\",\"line\":{\"colorbar\":{\"outlinewidth\":0,\"ticks\":\"\"}},\"marker\":{\"colorbar\":{\"outlinewidth\":0,\"ticks\":\"\"}}}],\"scattermapbox\":[{\"type\":\"scattermapbox\",\"marker\":{\"colorbar\":{\"outlinewidth\":0,\"ticks\":\"\"}}}],\"scatterternary\":[{\"type\":\"scatterternary\",\"marker\":{\"colorbar\":{\"outlinewidth\":0,\"ticks\":\"\"}}}],\"scattercarpet\":[{\"type\":\"scattercarpet\",\"marker\":{\"colorbar\":{\"outlinewidth\":0,\"ticks\":\"\"}}}],\"carpet\":[{\"aaxis\":{\"endlinecolor\":\"#2a3f5f\",\"gridcolor\":\"white\",\"linecolor\":\"white\",\"minorgridcolor\":\"white\",\"startlinecolor\":\"#2a3f5f\"},\"baxis\":{\"endlinecolor\":\"#2a3f5f\",\"gridcolor\":\"white\",\"linecolor\":\"white\",\"minorgridcolor\":\"white\",\"startlinecolor\":\"#2a3f5f\"},\"type\":\"carpet\"}],\"table\":[{\"cells\":{\"fill\":{\"color\":\"#EBF0F8\"},\"line\":{\"color\":\"white\"}},\"header\":{\"fill\":{\"color\":\"#C8D4E3\"},\"line\":{\"color\":\"white\"}},\"type\":\"table\"}],\"barpolar\":[{\"marker\":{\"line\":{\"color\":\"#E5ECF6\",\"width\":0.5},\"pattern\":{\"fillmode\":\"overlay\",\"size\":10,\"solidity\":0.2}},\"type\":\"barpolar\"}],\"pie\":[{\"automargin\":true,\"type\":\"pie\"}]},\"layout\":{\"autotypenumbers\":\"strict\",\"colorway\":[\"#636efa\",\"#EF553B\",\"#00cc96\",\"#ab63fa\",\"#FFA15A\",\"#19d3f3\",\"#FF6692\",\"#B6E880\",\"#FF97FF\",\"#FECB52\"],\"font\":{\"color\":\"#2a3f5f\"},\"hovermode\":\"closest\",\"hoverlabel\":{\"align\":\"left\"},\"paper_bgcolor\":\"white\",\"plot_bgcolor\":\"#E5ECF6\",\"polar\":{\"bgcolor\":\"#E5ECF6\",\"angularaxis\":{\"gridcolor\":\"white\",\"linecolor\":\"white\",\"ticks\":\"\"},\"radialaxis\":{\"gridcolor\":\"white\",\"linecolor\":\"white\",\"ticks\":\"\"}},\"ternary\":{\"bgcolor\":\"#E5ECF6\",\"aaxis\":{\"gridcolor\":\"white\",\"linecolor\":\"white\",\"ticks\":\"\"},\"baxis\":{\"gridcolor\":\"white\",\"linecolor\":\"white\",\"ticks\":\"\"},\"caxis\":{\"gridcolor\":\"white\",\"linecolor\":\"white\",\"ticks\":\"\"}},\"coloraxis\":{\"colorbar\":{\"outlinewidth\":0,\"ticks\":\"\"}},\"colorscale\":{\"sequential\":[[0.0,\"#0d0887\"],[0.1111111111111111,\"#46039f\"],[0.2222222222222222,\"#7201a8\"],[0.3333333333333333,\"#9c179e\"],[0.4444444444444444,\"#bd3786\"],[0.5555555555555556,\"#d8576b\"],[0.6666666666666666,\"#ed7953\"],[0.7777777777777778,\"#fb9f3a\"],[0.8888888888888888,\"#fdca26\"],[1.0,\"#f0f921\"]],\"sequentialminus\":[[0.0,\"#0d0887\"],[0.1111111111111111,\"#46039f\"],[0.2222222222222222,\"#7201a8\"],[0.3333333333333333,\"#9c179e\"],[0.4444444444444444,\"#bd3786\"],[0.5555555555555556,\"#d8576b\"],[0.6666666666666666,\"#ed7953\"],[0.7777777777777778,\"#fb9f3a\"],[0.8888888888888888,\"#fdca26\"],[1.0,\"#f0f921\"]],\"diverging\":[[0,\"#8e0152\"],[0.1,\"#c51b7d\"],[0.2,\"#de77ae\"],[0.3,\"#f1b6da\"],[0.4,\"#fde0ef\"],[0.5,\"#f7f7f7\"],[0.6,\"#e6f5d0\"],[0.7,\"#b8e186\"],[0.8,\"#7fbc41\"],[0.9,\"#4d9221\"],[1,\"#276419\"]]},\"xaxis\":{\"gridcolor\":\"white\",\"linecolor\":\"white\",\"ticks\":\"\",\"title\":{\"standoff\":15},\"zerolinecolor\":\"white\",\"automargin\":true,\"zerolinewidth\":2},\"yaxis\":{\"gridcolor\":\"white\",\"linecolor\":\"white\",\"ticks\":\"\",\"title\":{\"standoff\":15},\"zerolinecolor\":\"white\",\"automargin\":true,\"zerolinewidth\":2},\"scene\":{\"xaxis\":{\"backgroundcolor\":\"#E5ECF6\",\"gridcolor\":\"white\",\"linecolor\":\"white\",\"showbackground\":true,\"ticks\":\"\",\"zerolinecolor\":\"white\",\"gridwidth\":2},\"yaxis\":{\"backgroundcolor\":\"#E5ECF6\",\"gridcolor\":\"white\",\"linecolor\":\"white\",\"showbackground\":true,\"ticks\":\"\",\"zerolinecolor\":\"white\",\"gridwidth\":2},\"zaxis\":{\"backgroundcolor\":\"#E5ECF6\",\"gridcolor\":\"white\",\"linecolor\":\"white\",\"showbackground\":true,\"ticks\":\"\",\"zerolinecolor\":\"white\",\"gridwidth\":2}},\"shapedefaults\":{\"line\":{\"color\":\"#2a3f5f\"}},\"annotationdefaults\":{\"arrowcolor\":\"#2a3f5f\",\"arrowhead\":0,\"arrowwidth\":1},\"geo\":{\"bgcolor\":\"white\",\"landcolor\":\"#E5ECF6\",\"subunitcolor\":\"white\",\"showland\":true,\"showlakes\":true,\"lakecolor\":\"white\"},\"title\":{\"x\":0.05},\"mapbox\":{\"style\":\"light\"}}},\"xaxis\":{\"anchor\":\"y\",\"domain\":[0.0,1.0],\"title\":{\"text\":\"x\"}},\"yaxis\":{\"anchor\":\"x\",\"domain\":[0.0,1.0],\"title\":{\"text\":\"y\"}},\"legend\":{\"tracegroupgap\":0},\"margin\":{\"t\":60}},                        {\"responsive\": true}                    ).then(function(){\n",
       "                            \n",
       "var gd = document.getElementById('a57adc3d-b043-4d03-8201-e318d1dfa21a');\n",
       "var x = new MutationObserver(function (mutations, observer) {{\n",
       "        var display = window.getComputedStyle(gd).display;\n",
       "        if (!display || display === 'none') {{\n",
       "            console.log([gd, 'removed!']);\n",
       "            Plotly.purge(gd);\n",
       "            observer.disconnect();\n",
       "        }}\n",
       "}});\n",
       "\n",
       "// Listen for the removal of the full notebook cells\n",
       "var notebookContainer = gd.closest('#notebook-container');\n",
       "if (notebookContainer) {{\n",
       "    x.observe(notebookContainer, {childList: true});\n",
       "}}\n",
       "\n",
       "// Listen for the clearing of the current output cell\n",
       "var outputEl = gd.closest('.output');\n",
       "if (outputEl) {{\n",
       "    x.observe(outputEl, {childList: true});\n",
       "}}\n",
       "\n",
       "                        })                };                });            </script>        </div>"
      ]
     },
     "metadata": {},
     "output_type": "display_data"
    }
   ],
   "source": [
    "b = 10 # \"intercept\"\n",
    "m = 2 # \"slope\" \"rise over run\"\n",
    "y = m*x+b # y = m1*x1 + m2*x2 + b # \n",
    "df2 = pd.DataFrame({'x':x, 'y':y})\n",
    "px.scatter(df2, x='x', y='y')"
   ]
  },
  {
   "cell_type": "markdown",
   "id": "2047e1ba",
   "metadata": {},
   "source": [
    "# $y_i \\approx mx + b \\longrightarrow E[y_i] = \\beta_0 + \\beta_1 x_i$"
   ]
  },
  {
   "cell_type": "markdown",
   "id": "46a3c05f",
   "metadata": {},
   "source": [
    "# $y_i = \\beta_0 + \\beta_1 x_i + \\epsilon_i, \\epsilon_i \\sim \\mathcal N(0, \\sigma)$\n",
    "- this is equivalent to $y_i \\sim \\mathcal N(\\mu_{x_i} = \\beta_0 + \\beta_1 x_i, \\sigma)$\n",
    "- epsilon $\\epsilon$ is the \"error\" or \"noise\" and is normally distributed\n",
    "- $x_i$ is \"measured with out error\" or is \"known and fixed\""
   ]
  },
  {
   "cell_type": "markdown",
   "id": "a758d89e",
   "metadata": {},
   "source": [
    "# Simple linear regression\n",
    "\n",
    "- error is normally distribted\n",
    "- errors are homoskedastic (variability in errors is constant regardless of $x_i$)\n",
    "- the \"linear form\" is true (and $x_i$ is \"measured with out error\" or is \"known and fixed\")\n",
    "- the errors are independent"
   ]
  },
  {
   "cell_type": "code",
   "execution_count": 66,
   "id": "acd7cdc3",
   "metadata": {},
   "outputs": [
    {
     "data": {
      "application/vnd.plotly.v1+json": {
       "config": {
        "plotlyServerURL": "https://plot.ly"
       },
       "data": [
        {
         "hovertemplate": "x=%{x}<br>y=%{y}<extra></extra>",
         "legendgroup": "",
         "marker": {
          "color": "#636efa",
          "symbol": "circle"
         },
         "mode": "markers",
         "name": "",
         "orientation": "v",
         "showlegend": false,
         "type": "scatter",
         "x": [
          3.468131514511933,
          5.794058122331647,
          3.3765848953823085,
          5.940323020002037,
          0.4200548413016236,
          3.931137157832898,
          0.3925848071724125,
          4.242412011758404,
          4.105430591297674,
          8.597825293481286,
          5.113519930360601,
          1.6624906781645388,
          6.568136923335225,
          0.23853907332096802,
          7.484289711995791,
          0.47588916939863,
          3.8246099276157928,
          6.401731678039031,
          6.153814330913221,
          5.82715668797109,
          9.871810611059995,
          1.4771316918161947,
          2.8843529008870483,
          3.429639685094543,
          5.63468789125074,
          5.581738959732996,
          6.527254301616723,
          9.155338985999936,
          7.158511671400518,
          9.612034155702624,
          0.32957747270005333,
          7.5991751004286865,
          8.569018255729127,
          4.464143197441509,
          6.060451521015273,
          2.176795366639687,
          4.5799494701018615,
          9.92688445583376,
          0.11269917368606719,
          5.803259480450684,
          7.0704410431329245,
          7.701947375408226,
          6.385044373500788,
          9.68188780915564,
          0.6956183374943548,
          0.6565050313928167,
          6.64349475167496,
          7.703389649387256,
          4.55791777974591,
          0.11537027254930665,
          7.8001241541867605,
          7.573697193921733,
          0.1965177773953497,
          8.946430672491948,
          4.876793780909395,
          6.688312704736586,
          2.448384086950192,
          7.886853283029857,
          9.295129912340043,
          6.398035884660834,
          4.631805067248135,
          7.753022120344566,
          6.504101776810663,
          2.5215328348838506,
          9.166060531737715,
          6.443107054159354,
          4.541514919899626,
          2.0424636029311563,
          8.266461544213769,
          3.783206985295635,
          1.1435216883008614,
          6.052605977403839,
          6.928108024201674,
          3.5929302283658107,
          0.23047758321444012,
          4.108354651033555,
          1.5439842567040618,
          9.716106197951666,
          7.351996240376447,
          2.2750686265716547,
          8.593192054357434,
          6.649322554827448,
          3.1761782980094475,
          2.515398572577517,
          1.826961370670418,
          5.041676185358128,
          7.144488327119733,
          1.4559609380358685,
          5.036618732578416,
          0.7292816351214049,
          2.6368148948026415,
          9.845237958594465,
          9.072538910037542,
          1.5986038087672705,
          2.986316248937124,
          7.415746556908457,
          4.03309311535783,
          4.698119980100994,
          9.83601330300737,
          9.054086831131354
         ],
         "xaxis": "x",
         "y": [
          15.46911007052029,
          19.923635014045598,
          16.929930584411643,
          18.349846956829758,
          7.261573506505236,
          15.928159296809815,
          8.732719092835904,
          16.07833366568752,
          16.98817899046533,
          27.264608072059904,
          21.222285298998088,
          15.069089537249514,
          22.604234745891098,
          11.59089308293969,
          30.415383403255824,
          13.705508947042535,
          18.88248314898045,
          24.474607033805004,
          20.602890327203813,
          21.242939555331677,
          29.560390989402556,
          12.572671425743735,
          14.578275155822563,
          19.060692411765622,
          24.628229466761024,
          20.234327903407163,
          25.756626851400632,
          25.71431735208396,
          26.315160259485182,
          29.68641614873477,
          8.481449043164897,
          24.872340424605937,
          26.507639033737426,
          13.6195098190194,
          21.792595773633796,
          16.077791134031944,
          20.384440003100043,
          27.18605902797144,
          13.408492077293483,
          25.058348875902837,
          23.483910959886497,
          23.300046179817176,
          26.049384556278085,
          30.0465170955084,
          11.90578414669244,
          12.493934578669453,
          24.500891089415155,
          24.885425843118334,
          21.512906957196552,
          9.103241818801278,
          26.494218831725142,
          30.85089851437913,
          11.85488581325513,
          29.000696102632975,
          17.918957286386032,
          22.318703724816892,
          17.598036310062465,
          24.83166345741924,
          27.787794764782852,
          22.599886385217662,
          19.388805017821525,
          24.774356546783757,
          22.146721654269296,
          15.400114143640995,
          23.19151084514506,
          19.704068685225796,
          19.62419035993892,
          13.80492939936918,
          26.37545055558745,
          17.27947507282166,
          11.205913873924104,
          25.91407275595769,
          21.097556746808387,
          19.739694234068022,
          11.51776379008042,
          16.34574353977616,
          12.202682051397387,
          31.203795479538755,
          25.58306241778376,
          14.821398506037186,
          26.90651505779276,
          20.06323499993732,
          21.470810146984448,
          14.476056040722188,
          14.015392660646906,
          22.46511543110189,
          23.965215647092634,
          15.246106341964538,
          21.556964540027934,
          14.050515969781454,
          13.766113641314046,
          29.310825073801027,
          29.44854244088718,
          10.369560015658609,
          19.094806512943784,
          22.771697679082436,
          15.871508906209238,
          17.841610177733404,
          27.871151809867293,
          28.957967497206358
         ],
         "yaxis": "y"
        }
       ],
       "layout": {
        "legend": {
         "tracegroupgap": 0
        },
        "margin": {
         "t": 60
        },
        "template": {
         "data": {
          "bar": [
           {
            "error_x": {
             "color": "#2a3f5f"
            },
            "error_y": {
             "color": "#2a3f5f"
            },
            "marker": {
             "line": {
              "color": "#E5ECF6",
              "width": 0.5
             },
             "pattern": {
              "fillmode": "overlay",
              "size": 10,
              "solidity": 0.2
             }
            },
            "type": "bar"
           }
          ],
          "barpolar": [
           {
            "marker": {
             "line": {
              "color": "#E5ECF6",
              "width": 0.5
             },
             "pattern": {
              "fillmode": "overlay",
              "size": 10,
              "solidity": 0.2
             }
            },
            "type": "barpolar"
           }
          ],
          "carpet": [
           {
            "aaxis": {
             "endlinecolor": "#2a3f5f",
             "gridcolor": "white",
             "linecolor": "white",
             "minorgridcolor": "white",
             "startlinecolor": "#2a3f5f"
            },
            "baxis": {
             "endlinecolor": "#2a3f5f",
             "gridcolor": "white",
             "linecolor": "white",
             "minorgridcolor": "white",
             "startlinecolor": "#2a3f5f"
            },
            "type": "carpet"
           }
          ],
          "choropleth": [
           {
            "colorbar": {
             "outlinewidth": 0,
             "ticks": ""
            },
            "type": "choropleth"
           }
          ],
          "contour": [
           {
            "colorbar": {
             "outlinewidth": 0,
             "ticks": ""
            },
            "colorscale": [
             [
              0,
              "#0d0887"
             ],
             [
              0.1111111111111111,
              "#46039f"
             ],
             [
              0.2222222222222222,
              "#7201a8"
             ],
             [
              0.3333333333333333,
              "#9c179e"
             ],
             [
              0.4444444444444444,
              "#bd3786"
             ],
             [
              0.5555555555555556,
              "#d8576b"
             ],
             [
              0.6666666666666666,
              "#ed7953"
             ],
             [
              0.7777777777777778,
              "#fb9f3a"
             ],
             [
              0.8888888888888888,
              "#fdca26"
             ],
             [
              1,
              "#f0f921"
             ]
            ],
            "type": "contour"
           }
          ],
          "contourcarpet": [
           {
            "colorbar": {
             "outlinewidth": 0,
             "ticks": ""
            },
            "type": "contourcarpet"
           }
          ],
          "heatmap": [
           {
            "colorbar": {
             "outlinewidth": 0,
             "ticks": ""
            },
            "colorscale": [
             [
              0,
              "#0d0887"
             ],
             [
              0.1111111111111111,
              "#46039f"
             ],
             [
              0.2222222222222222,
              "#7201a8"
             ],
             [
              0.3333333333333333,
              "#9c179e"
             ],
             [
              0.4444444444444444,
              "#bd3786"
             ],
             [
              0.5555555555555556,
              "#d8576b"
             ],
             [
              0.6666666666666666,
              "#ed7953"
             ],
             [
              0.7777777777777778,
              "#fb9f3a"
             ],
             [
              0.8888888888888888,
              "#fdca26"
             ],
             [
              1,
              "#f0f921"
             ]
            ],
            "type": "heatmap"
           }
          ],
          "heatmapgl": [
           {
            "colorbar": {
             "outlinewidth": 0,
             "ticks": ""
            },
            "colorscale": [
             [
              0,
              "#0d0887"
             ],
             [
              0.1111111111111111,
              "#46039f"
             ],
             [
              0.2222222222222222,
              "#7201a8"
             ],
             [
              0.3333333333333333,
              "#9c179e"
             ],
             [
              0.4444444444444444,
              "#bd3786"
             ],
             [
              0.5555555555555556,
              "#d8576b"
             ],
             [
              0.6666666666666666,
              "#ed7953"
             ],
             [
              0.7777777777777778,
              "#fb9f3a"
             ],
             [
              0.8888888888888888,
              "#fdca26"
             ],
             [
              1,
              "#f0f921"
             ]
            ],
            "type": "heatmapgl"
           }
          ],
          "histogram": [
           {
            "marker": {
             "pattern": {
              "fillmode": "overlay",
              "size": 10,
              "solidity": 0.2
             }
            },
            "type": "histogram"
           }
          ],
          "histogram2d": [
           {
            "colorbar": {
             "outlinewidth": 0,
             "ticks": ""
            },
            "colorscale": [
             [
              0,
              "#0d0887"
             ],
             [
              0.1111111111111111,
              "#46039f"
             ],
             [
              0.2222222222222222,
              "#7201a8"
             ],
             [
              0.3333333333333333,
              "#9c179e"
             ],
             [
              0.4444444444444444,
              "#bd3786"
             ],
             [
              0.5555555555555556,
              "#d8576b"
             ],
             [
              0.6666666666666666,
              "#ed7953"
             ],
             [
              0.7777777777777778,
              "#fb9f3a"
             ],
             [
              0.8888888888888888,
              "#fdca26"
             ],
             [
              1,
              "#f0f921"
             ]
            ],
            "type": "histogram2d"
           }
          ],
          "histogram2dcontour": [
           {
            "colorbar": {
             "outlinewidth": 0,
             "ticks": ""
            },
            "colorscale": [
             [
              0,
              "#0d0887"
             ],
             [
              0.1111111111111111,
              "#46039f"
             ],
             [
              0.2222222222222222,
              "#7201a8"
             ],
             [
              0.3333333333333333,
              "#9c179e"
             ],
             [
              0.4444444444444444,
              "#bd3786"
             ],
             [
              0.5555555555555556,
              "#d8576b"
             ],
             [
              0.6666666666666666,
              "#ed7953"
             ],
             [
              0.7777777777777778,
              "#fb9f3a"
             ],
             [
              0.8888888888888888,
              "#fdca26"
             ],
             [
              1,
              "#f0f921"
             ]
            ],
            "type": "histogram2dcontour"
           }
          ],
          "mesh3d": [
           {
            "colorbar": {
             "outlinewidth": 0,
             "ticks": ""
            },
            "type": "mesh3d"
           }
          ],
          "parcoords": [
           {
            "line": {
             "colorbar": {
              "outlinewidth": 0,
              "ticks": ""
             }
            },
            "type": "parcoords"
           }
          ],
          "pie": [
           {
            "automargin": true,
            "type": "pie"
           }
          ],
          "scatter": [
           {
            "fillpattern": {
             "fillmode": "overlay",
             "size": 10,
             "solidity": 0.2
            },
            "type": "scatter"
           }
          ],
          "scatter3d": [
           {
            "line": {
             "colorbar": {
              "outlinewidth": 0,
              "ticks": ""
             }
            },
            "marker": {
             "colorbar": {
              "outlinewidth": 0,
              "ticks": ""
             }
            },
            "type": "scatter3d"
           }
          ],
          "scattercarpet": [
           {
            "marker": {
             "colorbar": {
              "outlinewidth": 0,
              "ticks": ""
             }
            },
            "type": "scattercarpet"
           }
          ],
          "scattergeo": [
           {
            "marker": {
             "colorbar": {
              "outlinewidth": 0,
              "ticks": ""
             }
            },
            "type": "scattergeo"
           }
          ],
          "scattergl": [
           {
            "marker": {
             "colorbar": {
              "outlinewidth": 0,
              "ticks": ""
             }
            },
            "type": "scattergl"
           }
          ],
          "scattermapbox": [
           {
            "marker": {
             "colorbar": {
              "outlinewidth": 0,
              "ticks": ""
             }
            },
            "type": "scattermapbox"
           }
          ],
          "scatterpolar": [
           {
            "marker": {
             "colorbar": {
              "outlinewidth": 0,
              "ticks": ""
             }
            },
            "type": "scatterpolar"
           }
          ],
          "scatterpolargl": [
           {
            "marker": {
             "colorbar": {
              "outlinewidth": 0,
              "ticks": ""
             }
            },
            "type": "scatterpolargl"
           }
          ],
          "scatterternary": [
           {
            "marker": {
             "colorbar": {
              "outlinewidth": 0,
              "ticks": ""
             }
            },
            "type": "scatterternary"
           }
          ],
          "surface": [
           {
            "colorbar": {
             "outlinewidth": 0,
             "ticks": ""
            },
            "colorscale": [
             [
              0,
              "#0d0887"
             ],
             [
              0.1111111111111111,
              "#46039f"
             ],
             [
              0.2222222222222222,
              "#7201a8"
             ],
             [
              0.3333333333333333,
              "#9c179e"
             ],
             [
              0.4444444444444444,
              "#bd3786"
             ],
             [
              0.5555555555555556,
              "#d8576b"
             ],
             [
              0.6666666666666666,
              "#ed7953"
             ],
             [
              0.7777777777777778,
              "#fb9f3a"
             ],
             [
              0.8888888888888888,
              "#fdca26"
             ],
             [
              1,
              "#f0f921"
             ]
            ],
            "type": "surface"
           }
          ],
          "table": [
           {
            "cells": {
             "fill": {
              "color": "#EBF0F8"
             },
             "line": {
              "color": "white"
             }
            },
            "header": {
             "fill": {
              "color": "#C8D4E3"
             },
             "line": {
              "color": "white"
             }
            },
            "type": "table"
           }
          ]
         },
         "layout": {
          "annotationdefaults": {
           "arrowcolor": "#2a3f5f",
           "arrowhead": 0,
           "arrowwidth": 1
          },
          "autotypenumbers": "strict",
          "coloraxis": {
           "colorbar": {
            "outlinewidth": 0,
            "ticks": ""
           }
          },
          "colorscale": {
           "diverging": [
            [
             0,
             "#8e0152"
            ],
            [
             0.1,
             "#c51b7d"
            ],
            [
             0.2,
             "#de77ae"
            ],
            [
             0.3,
             "#f1b6da"
            ],
            [
             0.4,
             "#fde0ef"
            ],
            [
             0.5,
             "#f7f7f7"
            ],
            [
             0.6,
             "#e6f5d0"
            ],
            [
             0.7,
             "#b8e186"
            ],
            [
             0.8,
             "#7fbc41"
            ],
            [
             0.9,
             "#4d9221"
            ],
            [
             1,
             "#276419"
            ]
           ],
           "sequential": [
            [
             0,
             "#0d0887"
            ],
            [
             0.1111111111111111,
             "#46039f"
            ],
            [
             0.2222222222222222,
             "#7201a8"
            ],
            [
             0.3333333333333333,
             "#9c179e"
            ],
            [
             0.4444444444444444,
             "#bd3786"
            ],
            [
             0.5555555555555556,
             "#d8576b"
            ],
            [
             0.6666666666666666,
             "#ed7953"
            ],
            [
             0.7777777777777778,
             "#fb9f3a"
            ],
            [
             0.8888888888888888,
             "#fdca26"
            ],
            [
             1,
             "#f0f921"
            ]
           ],
           "sequentialminus": [
            [
             0,
             "#0d0887"
            ],
            [
             0.1111111111111111,
             "#46039f"
            ],
            [
             0.2222222222222222,
             "#7201a8"
            ],
            [
             0.3333333333333333,
             "#9c179e"
            ],
            [
             0.4444444444444444,
             "#bd3786"
            ],
            [
             0.5555555555555556,
             "#d8576b"
            ],
            [
             0.6666666666666666,
             "#ed7953"
            ],
            [
             0.7777777777777778,
             "#fb9f3a"
            ],
            [
             0.8888888888888888,
             "#fdca26"
            ],
            [
             1,
             "#f0f921"
            ]
           ]
          },
          "colorway": [
           "#636efa",
           "#EF553B",
           "#00cc96",
           "#ab63fa",
           "#FFA15A",
           "#19d3f3",
           "#FF6692",
           "#B6E880",
           "#FF97FF",
           "#FECB52"
          ],
          "font": {
           "color": "#2a3f5f"
          },
          "geo": {
           "bgcolor": "white",
           "lakecolor": "white",
           "landcolor": "#E5ECF6",
           "showlakes": true,
           "showland": true,
           "subunitcolor": "white"
          },
          "hoverlabel": {
           "align": "left"
          },
          "hovermode": "closest",
          "mapbox": {
           "style": "light"
          },
          "paper_bgcolor": "white",
          "plot_bgcolor": "#E5ECF6",
          "polar": {
           "angularaxis": {
            "gridcolor": "white",
            "linecolor": "white",
            "ticks": ""
           },
           "bgcolor": "#E5ECF6",
           "radialaxis": {
            "gridcolor": "white",
            "linecolor": "white",
            "ticks": ""
           }
          },
          "scene": {
           "xaxis": {
            "backgroundcolor": "#E5ECF6",
            "gridcolor": "white",
            "gridwidth": 2,
            "linecolor": "white",
            "showbackground": true,
            "ticks": "",
            "zerolinecolor": "white"
           },
           "yaxis": {
            "backgroundcolor": "#E5ECF6",
            "gridcolor": "white",
            "gridwidth": 2,
            "linecolor": "white",
            "showbackground": true,
            "ticks": "",
            "zerolinecolor": "white"
           },
           "zaxis": {
            "backgroundcolor": "#E5ECF6",
            "gridcolor": "white",
            "gridwidth": 2,
            "linecolor": "white",
            "showbackground": true,
            "ticks": "",
            "zerolinecolor": "white"
           }
          },
          "shapedefaults": {
           "line": {
            "color": "#2a3f5f"
           }
          },
          "ternary": {
           "aaxis": {
            "gridcolor": "white",
            "linecolor": "white",
            "ticks": ""
           },
           "baxis": {
            "gridcolor": "white",
            "linecolor": "white",
            "ticks": ""
           },
           "bgcolor": "#E5ECF6",
           "caxis": {
            "gridcolor": "white",
            "linecolor": "white",
            "ticks": ""
           }
          },
          "title": {
           "x": 0.05
          },
          "xaxis": {
           "automargin": true,
           "gridcolor": "white",
           "linecolor": "white",
           "ticks": "",
           "title": {
            "standoff": 15
           },
           "zerolinecolor": "white",
           "zerolinewidth": 2
          },
          "yaxis": {
           "automargin": true,
           "gridcolor": "white",
           "linecolor": "white",
           "ticks": "",
           "title": {
            "standoff": 15
           },
           "zerolinecolor": "white",
           "zerolinewidth": 2
          }
         }
        },
        "xaxis": {
         "anchor": "y",
         "domain": [
          0,
          1
         ],
         "title": {
          "text": "x"
         }
        },
        "yaxis": {
         "anchor": "x",
         "domain": [
          0,
          1
         ],
         "title": {
          "text": "y"
         }
        }
       }
      },
      "text/html": [
       "<div>                            <div id=\"65a35241-2f8a-48e1-8ba9-9d1495389678\" class=\"plotly-graph-div\" style=\"height:525px; width:100%;\"></div>            <script type=\"text/javascript\">                require([\"plotly\"], function(Plotly) {                    window.PLOTLYENV=window.PLOTLYENV || {};                                    if (document.getElementById(\"65a35241-2f8a-48e1-8ba9-9d1495389678\")) {                    Plotly.newPlot(                        \"65a35241-2f8a-48e1-8ba9-9d1495389678\",                        [{\"hovertemplate\":\"x=%{x}\\u003cbr\\u003ey=%{y}\\u003cextra\\u003e\\u003c\\u002fextra\\u003e\",\"legendgroup\":\"\",\"marker\":{\"color\":\"#636efa\",\"symbol\":\"circle\"},\"mode\":\"markers\",\"name\":\"\",\"orientation\":\"v\",\"showlegend\":false,\"x\":[3.468131514511933,5.794058122331647,3.3765848953823085,5.940323020002037,0.4200548413016236,3.931137157832898,0.3925848071724125,4.242412011758404,4.105430591297674,8.597825293481286,5.113519930360601,1.6624906781645388,6.568136923335225,0.23853907332096802,7.484289711995791,0.47588916939863,3.8246099276157928,6.401731678039031,6.153814330913221,5.82715668797109,9.871810611059995,1.4771316918161947,2.8843529008870483,3.429639685094543,5.63468789125074,5.581738959732996,6.527254301616723,9.155338985999936,7.158511671400518,9.612034155702624,0.32957747270005333,7.5991751004286865,8.569018255729127,4.464143197441509,6.060451521015273,2.176795366639687,4.5799494701018615,9.92688445583376,0.11269917368606719,5.803259480450684,7.0704410431329245,7.701947375408226,6.385044373500788,9.68188780915564,0.6956183374943548,0.6565050313928167,6.64349475167496,7.703389649387256,4.55791777974591,0.11537027254930665,7.8001241541867605,7.573697193921733,0.1965177773953497,8.946430672491948,4.876793780909395,6.688312704736586,2.448384086950192,7.886853283029857,9.295129912340043,6.398035884660834,4.631805067248135,7.753022120344566,6.504101776810663,2.5215328348838506,9.166060531737715,6.443107054159354,4.541514919899626,2.0424636029311563,8.266461544213769,3.783206985295635,1.1435216883008614,6.052605977403839,6.928108024201674,3.5929302283658107,0.23047758321444012,4.108354651033555,1.5439842567040618,9.716106197951666,7.351996240376447,2.2750686265716547,8.593192054357434,6.649322554827448,3.1761782980094475,2.515398572577517,1.826961370670418,5.041676185358128,7.144488327119733,1.4559609380358685,5.036618732578416,0.7292816351214049,2.6368148948026415,9.845237958594465,9.072538910037542,1.5986038087672705,2.986316248937124,7.415746556908457,4.03309311535783,4.698119980100994,9.83601330300737,9.054086831131354],\"xaxis\":\"x\",\"y\":[15.46911007052029,19.923635014045598,16.929930584411643,18.349846956829758,7.261573506505236,15.928159296809815,8.732719092835904,16.07833366568752,16.98817899046533,27.264608072059904,21.222285298998088,15.069089537249514,22.604234745891098,11.59089308293969,30.415383403255824,13.705508947042535,18.88248314898045,24.474607033805004,20.602890327203813,21.242939555331677,29.560390989402556,12.572671425743735,14.578275155822563,19.060692411765622,24.628229466761024,20.234327903407163,25.756626851400632,25.71431735208396,26.315160259485182,29.68641614873477,8.481449043164897,24.872340424605937,26.507639033737426,13.6195098190194,21.792595773633796,16.077791134031944,20.384440003100043,27.18605902797144,13.408492077293483,25.058348875902837,23.483910959886497,23.300046179817176,26.049384556278085,30.0465170955084,11.90578414669244,12.493934578669453,24.500891089415155,24.885425843118334,21.512906957196552,9.103241818801278,26.494218831725142,30.85089851437913,11.85488581325513,29.000696102632975,17.918957286386032,22.318703724816892,17.598036310062465,24.83166345741924,27.787794764782852,22.599886385217662,19.388805017821525,24.774356546783757,22.146721654269296,15.400114143640995,23.19151084514506,19.704068685225796,19.62419035993892,13.80492939936918,26.37545055558745,17.27947507282166,11.205913873924104,25.91407275595769,21.097556746808387,19.739694234068022,11.51776379008042,16.34574353977616,12.202682051397387,31.203795479538755,25.58306241778376,14.821398506037186,26.90651505779276,20.06323499993732,21.470810146984448,14.476056040722188,14.015392660646906,22.46511543110189,23.965215647092634,15.246106341964538,21.556964540027934,14.050515969781454,13.766113641314046,29.310825073801027,29.44854244088718,10.369560015658609,19.094806512943784,22.771697679082436,15.871508906209238,17.841610177733404,27.871151809867293,28.957967497206358],\"yaxis\":\"y\",\"type\":\"scatter\"}],                        {\"template\":{\"data\":{\"histogram2dcontour\":[{\"type\":\"histogram2dcontour\",\"colorbar\":{\"outlinewidth\":0,\"ticks\":\"\"},\"colorscale\":[[0.0,\"#0d0887\"],[0.1111111111111111,\"#46039f\"],[0.2222222222222222,\"#7201a8\"],[0.3333333333333333,\"#9c179e\"],[0.4444444444444444,\"#bd3786\"],[0.5555555555555556,\"#d8576b\"],[0.6666666666666666,\"#ed7953\"],[0.7777777777777778,\"#fb9f3a\"],[0.8888888888888888,\"#fdca26\"],[1.0,\"#f0f921\"]]}],\"choropleth\":[{\"type\":\"choropleth\",\"colorbar\":{\"outlinewidth\":0,\"ticks\":\"\"}}],\"histogram2d\":[{\"type\":\"histogram2d\",\"colorbar\":{\"outlinewidth\":0,\"ticks\":\"\"},\"colorscale\":[[0.0,\"#0d0887\"],[0.1111111111111111,\"#46039f\"],[0.2222222222222222,\"#7201a8\"],[0.3333333333333333,\"#9c179e\"],[0.4444444444444444,\"#bd3786\"],[0.5555555555555556,\"#d8576b\"],[0.6666666666666666,\"#ed7953\"],[0.7777777777777778,\"#fb9f3a\"],[0.8888888888888888,\"#fdca26\"],[1.0,\"#f0f921\"]]}],\"heatmap\":[{\"type\":\"heatmap\",\"colorbar\":{\"outlinewidth\":0,\"ticks\":\"\"},\"colorscale\":[[0.0,\"#0d0887\"],[0.1111111111111111,\"#46039f\"],[0.2222222222222222,\"#7201a8\"],[0.3333333333333333,\"#9c179e\"],[0.4444444444444444,\"#bd3786\"],[0.5555555555555556,\"#d8576b\"],[0.6666666666666666,\"#ed7953\"],[0.7777777777777778,\"#fb9f3a\"],[0.8888888888888888,\"#fdca26\"],[1.0,\"#f0f921\"]]}],\"heatmapgl\":[{\"type\":\"heatmapgl\",\"colorbar\":{\"outlinewidth\":0,\"ticks\":\"\"},\"colorscale\":[[0.0,\"#0d0887\"],[0.1111111111111111,\"#46039f\"],[0.2222222222222222,\"#7201a8\"],[0.3333333333333333,\"#9c179e\"],[0.4444444444444444,\"#bd3786\"],[0.5555555555555556,\"#d8576b\"],[0.6666666666666666,\"#ed7953\"],[0.7777777777777778,\"#fb9f3a\"],[0.8888888888888888,\"#fdca26\"],[1.0,\"#f0f921\"]]}],\"contourcarpet\":[{\"type\":\"contourcarpet\",\"colorbar\":{\"outlinewidth\":0,\"ticks\":\"\"}}],\"contour\":[{\"type\":\"contour\",\"colorbar\":{\"outlinewidth\":0,\"ticks\":\"\"},\"colorscale\":[[0.0,\"#0d0887\"],[0.1111111111111111,\"#46039f\"],[0.2222222222222222,\"#7201a8\"],[0.3333333333333333,\"#9c179e\"],[0.4444444444444444,\"#bd3786\"],[0.5555555555555556,\"#d8576b\"],[0.6666666666666666,\"#ed7953\"],[0.7777777777777778,\"#fb9f3a\"],[0.8888888888888888,\"#fdca26\"],[1.0,\"#f0f921\"]]}],\"surface\":[{\"type\":\"surface\",\"colorbar\":{\"outlinewidth\":0,\"ticks\":\"\"},\"colorscale\":[[0.0,\"#0d0887\"],[0.1111111111111111,\"#46039f\"],[0.2222222222222222,\"#7201a8\"],[0.3333333333333333,\"#9c179e\"],[0.4444444444444444,\"#bd3786\"],[0.5555555555555556,\"#d8576b\"],[0.6666666666666666,\"#ed7953\"],[0.7777777777777778,\"#fb9f3a\"],[0.8888888888888888,\"#fdca26\"],[1.0,\"#f0f921\"]]}],\"mesh3d\":[{\"type\":\"mesh3d\",\"colorbar\":{\"outlinewidth\":0,\"ticks\":\"\"}}],\"scatter\":[{\"fillpattern\":{\"fillmode\":\"overlay\",\"size\":10,\"solidity\":0.2},\"type\":\"scatter\"}],\"parcoords\":[{\"type\":\"parcoords\",\"line\":{\"colorbar\":{\"outlinewidth\":0,\"ticks\":\"\"}}}],\"scatterpolargl\":[{\"type\":\"scatterpolargl\",\"marker\":{\"colorbar\":{\"outlinewidth\":0,\"ticks\":\"\"}}}],\"bar\":[{\"error_x\":{\"color\":\"#2a3f5f\"},\"error_y\":{\"color\":\"#2a3f5f\"},\"marker\":{\"line\":{\"color\":\"#E5ECF6\",\"width\":0.5},\"pattern\":{\"fillmode\":\"overlay\",\"size\":10,\"solidity\":0.2}},\"type\":\"bar\"}],\"scattergeo\":[{\"type\":\"scattergeo\",\"marker\":{\"colorbar\":{\"outlinewidth\":0,\"ticks\":\"\"}}}],\"scatterpolar\":[{\"type\":\"scatterpolar\",\"marker\":{\"colorbar\":{\"outlinewidth\":0,\"ticks\":\"\"}}}],\"histogram\":[{\"marker\":{\"pattern\":{\"fillmode\":\"overlay\",\"size\":10,\"solidity\":0.2}},\"type\":\"histogram\"}],\"scattergl\":[{\"type\":\"scattergl\",\"marker\":{\"colorbar\":{\"outlinewidth\":0,\"ticks\":\"\"}}}],\"scatter3d\":[{\"type\":\"scatter3d\",\"line\":{\"colorbar\":{\"outlinewidth\":0,\"ticks\":\"\"}},\"marker\":{\"colorbar\":{\"outlinewidth\":0,\"ticks\":\"\"}}}],\"scattermapbox\":[{\"type\":\"scattermapbox\",\"marker\":{\"colorbar\":{\"outlinewidth\":0,\"ticks\":\"\"}}}],\"scatterternary\":[{\"type\":\"scatterternary\",\"marker\":{\"colorbar\":{\"outlinewidth\":0,\"ticks\":\"\"}}}],\"scattercarpet\":[{\"type\":\"scattercarpet\",\"marker\":{\"colorbar\":{\"outlinewidth\":0,\"ticks\":\"\"}}}],\"carpet\":[{\"aaxis\":{\"endlinecolor\":\"#2a3f5f\",\"gridcolor\":\"white\",\"linecolor\":\"white\",\"minorgridcolor\":\"white\",\"startlinecolor\":\"#2a3f5f\"},\"baxis\":{\"endlinecolor\":\"#2a3f5f\",\"gridcolor\":\"white\",\"linecolor\":\"white\",\"minorgridcolor\":\"white\",\"startlinecolor\":\"#2a3f5f\"},\"type\":\"carpet\"}],\"table\":[{\"cells\":{\"fill\":{\"color\":\"#EBF0F8\"},\"line\":{\"color\":\"white\"}},\"header\":{\"fill\":{\"color\":\"#C8D4E3\"},\"line\":{\"color\":\"white\"}},\"type\":\"table\"}],\"barpolar\":[{\"marker\":{\"line\":{\"color\":\"#E5ECF6\",\"width\":0.5},\"pattern\":{\"fillmode\":\"overlay\",\"size\":10,\"solidity\":0.2}},\"type\":\"barpolar\"}],\"pie\":[{\"automargin\":true,\"type\":\"pie\"}]},\"layout\":{\"autotypenumbers\":\"strict\",\"colorway\":[\"#636efa\",\"#EF553B\",\"#00cc96\",\"#ab63fa\",\"#FFA15A\",\"#19d3f3\",\"#FF6692\",\"#B6E880\",\"#FF97FF\",\"#FECB52\"],\"font\":{\"color\":\"#2a3f5f\"},\"hovermode\":\"closest\",\"hoverlabel\":{\"align\":\"left\"},\"paper_bgcolor\":\"white\",\"plot_bgcolor\":\"#E5ECF6\",\"polar\":{\"bgcolor\":\"#E5ECF6\",\"angularaxis\":{\"gridcolor\":\"white\",\"linecolor\":\"white\",\"ticks\":\"\"},\"radialaxis\":{\"gridcolor\":\"white\",\"linecolor\":\"white\",\"ticks\":\"\"}},\"ternary\":{\"bgcolor\":\"#E5ECF6\",\"aaxis\":{\"gridcolor\":\"white\",\"linecolor\":\"white\",\"ticks\":\"\"},\"baxis\":{\"gridcolor\":\"white\",\"linecolor\":\"white\",\"ticks\":\"\"},\"caxis\":{\"gridcolor\":\"white\",\"linecolor\":\"white\",\"ticks\":\"\"}},\"coloraxis\":{\"colorbar\":{\"outlinewidth\":0,\"ticks\":\"\"}},\"colorscale\":{\"sequential\":[[0.0,\"#0d0887\"],[0.1111111111111111,\"#46039f\"],[0.2222222222222222,\"#7201a8\"],[0.3333333333333333,\"#9c179e\"],[0.4444444444444444,\"#bd3786\"],[0.5555555555555556,\"#d8576b\"],[0.6666666666666666,\"#ed7953\"],[0.7777777777777778,\"#fb9f3a\"],[0.8888888888888888,\"#fdca26\"],[1.0,\"#f0f921\"]],\"sequentialminus\":[[0.0,\"#0d0887\"],[0.1111111111111111,\"#46039f\"],[0.2222222222222222,\"#7201a8\"],[0.3333333333333333,\"#9c179e\"],[0.4444444444444444,\"#bd3786\"],[0.5555555555555556,\"#d8576b\"],[0.6666666666666666,\"#ed7953\"],[0.7777777777777778,\"#fb9f3a\"],[0.8888888888888888,\"#fdca26\"],[1.0,\"#f0f921\"]],\"diverging\":[[0,\"#8e0152\"],[0.1,\"#c51b7d\"],[0.2,\"#de77ae\"],[0.3,\"#f1b6da\"],[0.4,\"#fde0ef\"],[0.5,\"#f7f7f7\"],[0.6,\"#e6f5d0\"],[0.7,\"#b8e186\"],[0.8,\"#7fbc41\"],[0.9,\"#4d9221\"],[1,\"#276419\"]]},\"xaxis\":{\"gridcolor\":\"white\",\"linecolor\":\"white\",\"ticks\":\"\",\"title\":{\"standoff\":15},\"zerolinecolor\":\"white\",\"automargin\":true,\"zerolinewidth\":2},\"yaxis\":{\"gridcolor\":\"white\",\"linecolor\":\"white\",\"ticks\":\"\",\"title\":{\"standoff\":15},\"zerolinecolor\":\"white\",\"automargin\":true,\"zerolinewidth\":2},\"scene\":{\"xaxis\":{\"backgroundcolor\":\"#E5ECF6\",\"gridcolor\":\"white\",\"linecolor\":\"white\",\"showbackground\":true,\"ticks\":\"\",\"zerolinecolor\":\"white\",\"gridwidth\":2},\"yaxis\":{\"backgroundcolor\":\"#E5ECF6\",\"gridcolor\":\"white\",\"linecolor\":\"white\",\"showbackground\":true,\"ticks\":\"\",\"zerolinecolor\":\"white\",\"gridwidth\":2},\"zaxis\":{\"backgroundcolor\":\"#E5ECF6\",\"gridcolor\":\"white\",\"linecolor\":\"white\",\"showbackground\":true,\"ticks\":\"\",\"zerolinecolor\":\"white\",\"gridwidth\":2}},\"shapedefaults\":{\"line\":{\"color\":\"#2a3f5f\"}},\"annotationdefaults\":{\"arrowcolor\":\"#2a3f5f\",\"arrowhead\":0,\"arrowwidth\":1},\"geo\":{\"bgcolor\":\"white\",\"landcolor\":\"#E5ECF6\",\"subunitcolor\":\"white\",\"showland\":true,\"showlakes\":true,\"lakecolor\":\"white\"},\"title\":{\"x\":0.05},\"mapbox\":{\"style\":\"light\"}}},\"xaxis\":{\"anchor\":\"y\",\"domain\":[0.0,1.0],\"title\":{\"text\":\"x\"}},\"yaxis\":{\"anchor\":\"x\",\"domain\":[0.0,1.0],\"title\":{\"text\":\"y\"}},\"legend\":{\"tracegroupgap\":0},\"margin\":{\"t\":60}},                        {\"responsive\": true}                    ).then(function(){\n",
       "                            \n",
       "var gd = document.getElementById('65a35241-2f8a-48e1-8ba9-9d1495389678');\n",
       "var x = new MutationObserver(function (mutations, observer) {{\n",
       "        var display = window.getComputedStyle(gd).display;\n",
       "        if (!display || display === 'none') {{\n",
       "            console.log([gd, 'removed!']);\n",
       "            Plotly.purge(gd);\n",
       "            observer.disconnect();\n",
       "        }}\n",
       "}});\n",
       "\n",
       "// Listen for the removal of the full notebook cells\n",
       "var notebookContainer = gd.closest('#notebook-container');\n",
       "if (notebookContainer) {{\n",
       "    x.observe(notebookContainer, {childList: true});\n",
       "}}\n",
       "\n",
       "// Listen for the clearing of the current output cell\n",
       "var outputEl = gd.closest('.output');\n",
       "if (outputEl) {{\n",
       "    x.observe(outputEl, {childList: true});\n",
       "}}\n",
       "\n",
       "                        })                };                });            </script>        </div>"
      ]
     },
     "metadata": {},
     "output_type": "display_data"
    }
   ],
   "source": [
    "x\n",
    "beta0 = b\n",
    "beta1 = m\n",
    "error = stats.norm(loc=0, scale=2).rvs(n)\n",
    "y_with_error = beta0 + beta1*x + error  #y = m*x+b \n",
    "\n",
    "df3 = pd.DataFrame({'x':x, 'y': y_with_error})\n",
    "px.scatter(df3, x='x', y='y')"
   ]
  },
  {
   "cell_type": "markdown",
   "id": "c1c827c9",
   "metadata": {},
   "source": [
    "# Correlation $r_{xy} = \\frac{\\text{Cov}(x,y)}{s_x s_y} \\in [-1 ,1]$\n",
    "\n",
    "- a measure of the uniform strength of linear association between x and y"
   ]
  },
  {
   "cell_type": "code",
   "execution_count": 55,
   "id": "e4517201",
   "metadata": {},
   "outputs": [
    {
     "data": {
      "text/plain": [
       "0.9502977942521981"
      ]
     },
     "execution_count": 55,
     "metadata": {},
     "output_type": "execute_result"
    }
   ],
   "source": [
    "import numpy as np\n",
    "\n",
    "np.corrcoef(1000000*x,10*y_with_error)[0,1] # matrix\n",
    "np.corrcoef(x,y_with_error)[0,1] # matrix"
   ]
  },
  {
   "cell_type": "code",
   "execution_count": 21,
   "id": "c2844c1d",
   "metadata": {},
   "outputs": [
    {
     "data": {
      "text/plain": [
       "array([[ 8.54666997, 17.89893529],\n",
       "       [17.89893529, 41.56424596]])"
      ]
     },
     "execution_count": 21,
     "metadata": {},
     "output_type": "execute_result"
    }
   ],
   "source": [
    "np.cov(x,y_with_error)"
   ]
  },
  {
   "cell_type": "markdown",
   "id": "7e58c9b1",
   "metadata": {},
   "source": [
    "# ordinary least squares (ols) -- provide a \"line of best fit\" through data"
   ]
  },
  {
   "cell_type": "code",
   "execution_count": 60,
   "id": "18990b54",
   "metadata": {},
   "outputs": [
    {
     "data": {
      "text/html": [
       "<table class=\"simpletable\">\n",
       "<caption>OLS Regression Results</caption>\n",
       "<tr>\n",
       "  <th>Dep. Variable:</th>            <td>y</td>        <th>  R-squared:         </th> <td>   0.876</td>\n",
       "</tr>\n",
       "<tr>\n",
       "  <th>Model:</th>                   <td>OLS</td>       <th>  Adj. R-squared:    </th> <td>   0.874</td>\n",
       "</tr>\n",
       "<tr>\n",
       "  <th>Method:</th>             <td>Least Squares</td>  <th>  F-statistic:       </th> <td>   689.4</td>\n",
       "</tr>\n",
       "<tr>\n",
       "  <th>Date:</th>             <td>Mon, 13 Nov 2023</td> <th>  Prob (F-statistic):</th> <td>3.89e-46</td>\n",
       "</tr>\n",
       "<tr>\n",
       "  <th>Time:</th>                 <td>14:36:46</td>     <th>  Log-Likelihood:    </th> <td> -224.80</td>\n",
       "</tr>\n",
       "<tr>\n",
       "  <th>No. Observations:</th>      <td>   100</td>      <th>  AIC:               </th> <td>   453.6</td>\n",
       "</tr>\n",
       "<tr>\n",
       "  <th>Df Residuals:</th>          <td>    98</td>      <th>  BIC:               </th> <td>   458.8</td>\n",
       "</tr>\n",
       "<tr>\n",
       "  <th>Df Model:</th>              <td>     1</td>      <th>                     </th>     <td> </td>   \n",
       "</tr>\n",
       "<tr>\n",
       "  <th>Covariance Type:</th>      <td>nonrobust</td>    <th>                     </th>     <td> </td>   \n",
       "</tr>\n",
       "</table>\n",
       "<table class=\"simpletable\">\n",
       "<tr>\n",
       "      <td></td>         <th>coef</th>     <th>std err</th>      <th>t</th>      <th>P>|t|</th>  <th>[0.025</th>    <th>0.975]</th>  \n",
       "</tr>\n",
       "<tr>\n",
       "  <th>Intercept</th> <td>    9.5922</td> <td>    0.467</td> <td>   20.526</td> <td> 0.000</td> <td>    8.665</td> <td>   10.520</td>\n",
       "</tr>\n",
       "<tr>\n",
       "  <th>x</th>         <td>    2.0891</td> <td>    0.080</td> <td>   26.256</td> <td> 0.000</td> <td>    1.931</td> <td>    2.247</td>\n",
       "</tr>\n",
       "</table>\n",
       "<table class=\"simpletable\">\n",
       "<tr>\n",
       "  <th>Omnibus:</th>       <td> 0.561</td> <th>  Durbin-Watson:     </th> <td>   2.030</td>\n",
       "</tr>\n",
       "<tr>\n",
       "  <th>Prob(Omnibus):</th> <td> 0.755</td> <th>  Jarque-Bera (JB):  </th> <td>   0.687</td>\n",
       "</tr>\n",
       "<tr>\n",
       "  <th>Skew:</th>          <td>-0.063</td> <th>  Prob(JB):          </th> <td>   0.709</td>\n",
       "</tr>\n",
       "<tr>\n",
       "  <th>Kurtosis:</th>      <td> 2.614</td> <th>  Cond. No.          </th> <td>    12.1</td>\n",
       "</tr>\n",
       "</table><br/><br/>Notes:<br/>[1] Standard Errors assume that the covariance matrix of the errors is correctly specified."
      ],
      "text/plain": [
       "<class 'statsmodels.iolib.summary.Summary'>\n",
       "\"\"\"\n",
       "                            OLS Regression Results                            \n",
       "==============================================================================\n",
       "Dep. Variable:                      y   R-squared:                       0.876\n",
       "Model:                            OLS   Adj. R-squared:                  0.874\n",
       "Method:                 Least Squares   F-statistic:                     689.4\n",
       "Date:                Mon, 13 Nov 2023   Prob (F-statistic):           3.89e-46\n",
       "Time:                        14:36:46   Log-Likelihood:                -224.80\n",
       "No. Observations:                 100   AIC:                             453.6\n",
       "Df Residuals:                      98   BIC:                             458.8\n",
       "Df Model:                           1                                         \n",
       "Covariance Type:            nonrobust                                         \n",
       "==============================================================================\n",
       "                 coef    std err          t      P>|t|      [0.025      0.975]\n",
       "------------------------------------------------------------------------------\n",
       "Intercept      9.5922      0.467     20.526      0.000       8.665      10.520\n",
       "x              2.0891      0.080     26.256      0.000       1.931       2.247\n",
       "==============================================================================\n",
       "Omnibus:                        0.561   Durbin-Watson:                   2.030\n",
       "Prob(Omnibus):                  0.755   Jarque-Bera (JB):                0.687\n",
       "Skew:                          -0.063   Prob(JB):                        0.709\n",
       "Kurtosis:                       2.614   Cond. No.                         12.1\n",
       "==============================================================================\n",
       "\n",
       "Notes:\n",
       "[1] Standard Errors assume that the covariance matrix of the errors is correctly specified.\n",
       "\"\"\""
      ]
     },
     "execution_count": 60,
     "metadata": {},
     "output_type": "execute_result"
    }
   ],
   "source": [
    "import statsmodels.api as sm # not demo'ing this today \n",
    "import statsmodels.formula.api as smf\n",
    "\n",
    "simple_linear_regression_model = smf.ols('y ~ x', data=df3)\n",
    "slrm_fit = simple_linear_regression_model.fit()\n",
    "slrm_fit.summary()"
   ]
  },
  {
   "cell_type": "markdown",
   "id": "8c0e5a24",
   "metadata": {},
   "source": [
    "# $E[y_i] = \\beta_0 + \\beta_1 x_i$\n",
    "# $\\hat y_i = \\hat \\beta_0 + \\hat\\beta_1 x_i \\longrightarrow 9.5922 + 2.0891 x_i $\n",
    "- predicted values"
   ]
  },
  {
   "cell_type": "code",
   "execution_count": 64,
   "id": "da4fd2f2",
   "metadata": {},
   "outputs": [
    {
     "data": {
      "application/vnd.plotly.v1+json": {
       "config": {
        "plotlyServerURL": "https://plot.ly"
       },
       "data": [
        {
         "hovertemplate": "x=%{x}<br>y=%{y}<extra></extra>",
         "legendgroup": "",
         "marker": {
          "color": "#636efa",
          "symbol": "circle"
         },
         "mode": "markers",
         "name": "",
         "orientation": "v",
         "showlegend": false,
         "type": "scatter",
         "x": [
          3.468131514511933,
          5.794058122331647,
          3.3765848953823085,
          5.940323020002037,
          0.4200548413016236,
          3.931137157832898,
          0.3925848071724125,
          4.242412011758404,
          4.105430591297674,
          8.597825293481286,
          5.113519930360601,
          1.6624906781645388,
          6.568136923335225,
          0.23853907332096802,
          7.484289711995791,
          0.47588916939863,
          3.8246099276157928,
          6.401731678039031,
          6.153814330913221,
          5.82715668797109,
          9.871810611059995,
          1.4771316918161947,
          2.8843529008870483,
          3.429639685094543,
          5.63468789125074,
          5.581738959732996,
          6.527254301616723,
          9.155338985999936,
          7.158511671400518,
          9.612034155702624,
          0.32957747270005333,
          7.5991751004286865,
          8.569018255729127,
          4.464143197441509,
          6.060451521015273,
          2.176795366639687,
          4.5799494701018615,
          9.92688445583376,
          0.11269917368606719,
          5.803259480450684,
          7.0704410431329245,
          7.701947375408226,
          6.385044373500788,
          9.68188780915564,
          0.6956183374943548,
          0.6565050313928167,
          6.64349475167496,
          7.703389649387256,
          4.55791777974591,
          0.11537027254930665,
          7.8001241541867605,
          7.573697193921733,
          0.1965177773953497,
          8.946430672491948,
          4.876793780909395,
          6.688312704736586,
          2.448384086950192,
          7.886853283029857,
          9.295129912340043,
          6.398035884660834,
          4.631805067248135,
          7.753022120344566,
          6.504101776810663,
          2.5215328348838506,
          9.166060531737715,
          6.443107054159354,
          4.541514919899626,
          2.0424636029311563,
          8.266461544213769,
          3.783206985295635,
          1.1435216883008614,
          6.052605977403839,
          6.928108024201674,
          3.5929302283658107,
          0.23047758321444012,
          4.108354651033555,
          1.5439842567040618,
          9.716106197951666,
          7.351996240376447,
          2.2750686265716547,
          8.593192054357434,
          6.649322554827448,
          3.1761782980094475,
          2.515398572577517,
          1.826961370670418,
          5.041676185358128,
          7.144488327119733,
          1.4559609380358685,
          5.036618732578416,
          0.7292816351214049,
          2.6368148948026415,
          9.845237958594465,
          9.072538910037542,
          1.5986038087672705,
          2.986316248937124,
          7.415746556908457,
          4.03309311535783,
          4.698119980100994,
          9.83601330300737,
          9.054086831131354
         ],
         "xaxis": "x",
         "y": [
          20.47305814243399,
          24.148819274587375,
          19.862721994815505,
          22.19406005414045,
          12.76397641843205,
          19.92709572213242,
          14.980017908100503,
          19.7282796280531,
          12.922092603730672,
          27.930740603199826,
          15.282964024560837,
          14.04792303520055,
          27.207167624399553,
          6.930309746173744,
          26.784098539706076,
          8.992479363957479,
          21.570625595561587,
          24.857737626574103,
          22.110388777423584,
          23.043545364175877,
          32.84840893855638,
          12.727036442425957,
          16.214884548965777,
          20.37998596518033,
          19.395024221951168,
          20.748750406625433,
          19.999069488074316,
          28.1977859076062,
          22.27026094954004,
          31.762515777384916,
          9.325714468530759,
          27.7201217464759,
          23.44381025271516,
          18.0032142764192,
          25.8756060234397,
          13.629782264608307,
          22.53467204214388,
          28.18339685141185,
          11.269112555521287,
          19.27170000936958,
          25.85828568081058,
          24.323116002793206,
          23.309413188792178,
          28.56660290322107,
          10.255897465790394,
          10.335293833280346,
          21.668536431564256,
          23.288773758174322,
          17.97752386526737,
          4.908363244947624,
          27.266030889845812,
          26.992837077552476,
          7.580900177230904,
          28.290527550909772,
          20.391778704343402,
          24.22794987041944,
          11.661023332273952,
          24.061566504307248,
          26.21913059935366,
          24.748147554776,
          23.93686361329621,
          27.567810187315285,
          23.954619744164663,
          12.671311562138674,
          24.946935594305657,
          24.086283564233838,
          19.578074453392503,
          14.555413267275798,
          28.497538010869942,
          16.19100338448608,
          12.009992674503206,
          22.310401595286848,
          24.11982359911222,
          18.809259181497058,
          10.316952837726227,
          19.950574169637726,
          12.765357789033747,
          30.00256509213829,
          23.611254032140515,
          13.974876830285256,
          25.881197803221482,
          23.494689355756798,
          16.257708374307914,
          16.60367154073981,
          9.047016294435362,
          20.925017756285044,
          25.473218257137024,
          12.120233606909636,
          16.78737072863396,
          9.144223731173504,
          12.297927984234372,
          31.492130230344095,
          26.581278773015864,
          15.877219781746575,
          12.749305346428384,
          22.508966214451124,
          23.533125387953483,
          20.483206988594905,
          31.74547961748575,
          26.810241944544504
         ],
         "yaxis": "y"
        },
        {
         "mode": "lines",
         "type": "scatter",
         "x": [
          3.468131514511933,
          5.794058122331647,
          3.3765848953823085,
          5.940323020002037,
          0.4200548413016236,
          3.931137157832898,
          0.3925848071724125,
          4.242412011758404,
          4.105430591297674,
          8.597825293481286,
          5.113519930360601,
          1.6624906781645388,
          6.568136923335225,
          0.23853907332096802,
          7.484289711995791,
          0.47588916939863,
          3.8246099276157928,
          6.401731678039031,
          6.153814330913221,
          5.82715668797109,
          9.871810611059995,
          1.4771316918161947,
          2.8843529008870483,
          3.429639685094543,
          5.63468789125074,
          5.581738959732996,
          6.527254301616723,
          9.155338985999936,
          7.158511671400518,
          9.612034155702624,
          0.32957747270005333,
          7.5991751004286865,
          8.569018255729127,
          4.464143197441509,
          6.060451521015273,
          2.176795366639687,
          4.5799494701018615,
          9.92688445583376,
          0.11269917368606719,
          5.803259480450684,
          7.0704410431329245,
          7.701947375408226,
          6.385044373500788,
          9.68188780915564,
          0.6956183374943548,
          0.6565050313928167,
          6.64349475167496,
          7.703389649387256,
          4.55791777974591,
          0.11537027254930665,
          7.8001241541867605,
          7.573697193921733,
          0.1965177773953497,
          8.946430672491948,
          4.876793780909395,
          6.688312704736586,
          2.448384086950192,
          7.886853283029857,
          9.295129912340043,
          6.398035884660834,
          4.631805067248135,
          7.753022120344566,
          6.504101776810663,
          2.5215328348838506,
          9.166060531737715,
          6.443107054159354,
          4.541514919899626,
          2.0424636029311563,
          8.266461544213769,
          3.783206985295635,
          1.1435216883008614,
          6.052605977403839,
          6.928108024201674,
          3.5929302283658107,
          0.23047758321444012,
          4.108354651033555,
          1.5439842567040618,
          9.716106197951666,
          7.351996240376447,
          2.2750686265716547,
          8.593192054357434,
          6.649322554827448,
          3.1761782980094475,
          2.515398572577517,
          1.826961370670418,
          5.041676185358128,
          7.144488327119733,
          1.4559609380358685,
          5.036618732578416,
          0.7292816351214049,
          2.6368148948026415,
          9.845237958594465,
          9.072538910037542,
          1.5986038087672705,
          2.986316248937124,
          7.415746556908457,
          4.03309311535783,
          4.698119980100994,
          9.83601330300737,
          9.054086831131354
         ],
         "y": [
          16.837511771625927,
          21.696612741616782,
          16.646261426788467,
          22.0021752231484,
          10.4697647113323,
          17.80477839259685,
          10.412376972168829,
          18.45506371955349,
          18.16889538096804,
          27.553972013039555,
          20.274898153716663,
          13.065341527795606,
          23.313743325256155,
          10.090559520034274,
          25.227681146455645,
          10.586408390846017,
          17.582232003584352,
          22.966105576880146,
          22.448180626949842,
          21.76575906457608,
          30.21545895402417,
          12.678107456293219,
          15.617937938905722,
          16.75709836346853,
          21.363671864708028,
          21.25305607673223,
          23.22833530499435,
          28.71867571219881,
          24.54709716425421,
          29.672759101860294,
          10.280748141309816,
          25.46768859144349,
          27.493791135184907,
          18.918283072996438,
          22.253136071970765,
          14.139777153682793,
          19.160214340269924,
          30.33051390531181,
          9.827666969459482,
          21.715835329299097,
          24.363108523424348,
          25.68239049104872,
          22.93124407377179,
          29.818690600347743,
          11.045445322724985,
          10.96373358557104,
          23.471173613705908,
          25.685403550389005,
          19.11418786307188,
          9.833247170930017,
          25.887491924339663,
          25.41446261268515,
          10.002772691719926,
          28.28224466343182,
          19.780352771866113,
          23.56480294769375,
          14.707154047632336,
          26.06867803428446,
          29.010713398810026,
          22.958384682708974,
          19.2685460397938,
          25.789090909637963,
          23.179967288839137,
          14.85996933889866,
          28.74107412886385,
          23.052543011992704,
          19.079920594310373,
          13.859144221782778,
          26.861718908374783,
          17.495736979832532,
          11.981161694449277,
          22.236745920860983,
          24.065760142772362,
          17.098229177541597,
          10.073718234387295,
          18.175004043834342,
          12.81776937073235,
          29.890176349567554,
          24.95130641730132,
          14.345080146070504,
          27.5442926978603,
          23.483348496548714,
          16.22759134132096,
          14.847154231223863,
          13.408937795538346,
          20.124809148390508,
          24.517800949331445,
          12.63387956454308,
          20.1142436070596,
          11.115771429147587,
          15.10080547159978,
          30.159945937862616,
          28.545697799623433,
          12.93187525761568,
          15.83094990658688,
          25.08448741443875,
          18.017774920707488,
          19.40708474358817,
          30.140674679362718,
          28.507149500545566
         ]
        },
        {
         "mode": "markers",
         "type": "scatter",
         "x": [
          3.468131514511933,
          5.794058122331647,
          3.3765848953823085,
          5.940323020002037,
          0.4200548413016236,
          3.931137157832898,
          0.3925848071724125,
          4.242412011758404,
          4.105430591297674,
          8.597825293481286,
          5.113519930360601,
          1.6624906781645388,
          6.568136923335225,
          0.23853907332096802,
          7.484289711995791,
          0.47588916939863,
          3.8246099276157928,
          6.401731678039031,
          6.153814330913221,
          5.82715668797109,
          9.871810611059995,
          1.4771316918161947,
          2.8843529008870483,
          3.429639685094543,
          5.63468789125074,
          5.581738959732996,
          6.527254301616723,
          9.155338985999936,
          7.158511671400518,
          9.612034155702624,
          0.32957747270005333,
          7.5991751004286865,
          8.569018255729127,
          4.464143197441509,
          6.060451521015273,
          2.176795366639687,
          4.5799494701018615,
          9.92688445583376,
          0.11269917368606719,
          5.803259480450684,
          7.0704410431329245,
          7.701947375408226,
          6.385044373500788,
          9.68188780915564,
          0.6956183374943548,
          0.6565050313928167,
          6.64349475167496,
          7.703389649387256,
          4.55791777974591,
          0.11537027254930665,
          7.8001241541867605,
          7.573697193921733,
          0.1965177773953497,
          8.946430672491948,
          4.876793780909395,
          6.688312704736586,
          2.448384086950192,
          7.886853283029857,
          9.295129912340043,
          6.398035884660834,
          4.631805067248135,
          7.753022120344566,
          6.504101776810663,
          2.5215328348838506,
          9.166060531737715,
          6.443107054159354,
          4.541514919899626,
          2.0424636029311563,
          8.266461544213769,
          3.783206985295635,
          1.1435216883008614,
          6.052605977403839,
          6.928108024201674,
          3.5929302283658107,
          0.23047758321444012,
          4.108354651033555,
          1.5439842567040618,
          9.716106197951666,
          7.351996240376447,
          2.2750686265716547,
          8.593192054357434,
          6.649322554827448,
          3.1761782980094475,
          2.515398572577517,
          1.826961370670418,
          5.041676185358128,
          7.144488327119733,
          1.4559609380358685,
          5.036618732578416,
          0.7292816351214049,
          2.6368148948026415,
          9.845237958594465,
          9.072538910037542,
          1.5986038087672705,
          2.986316248937124,
          7.415746556908457,
          4.03309311535783,
          4.698119980100994,
          9.83601330300737,
          9.054086831131354
         ],
         "y": [
          16.837511771625927,
          21.696612741616782,
          16.646261426788467,
          22.0021752231484,
          10.4697647113323,
          17.80477839259685,
          10.412376972168829,
          18.45506371955349,
          18.16889538096804,
          27.553972013039555,
          20.274898153716663,
          13.065341527795606,
          23.313743325256155,
          10.090559520034274,
          25.227681146455645,
          10.586408390846017,
          17.582232003584352,
          22.966105576880146,
          22.448180626949842,
          21.76575906457608,
          30.21545895402417,
          12.678107456293219,
          15.617937938905722,
          16.75709836346853,
          21.363671864708028,
          21.25305607673223,
          23.22833530499435,
          28.71867571219881,
          24.54709716425421,
          29.672759101860294,
          10.280748141309816,
          25.46768859144349,
          27.493791135184907,
          18.918283072996438,
          22.253136071970765,
          14.139777153682793,
          19.160214340269924,
          30.33051390531181,
          9.827666969459482,
          21.715835329299097,
          24.363108523424348,
          25.68239049104872,
          22.93124407377179,
          29.818690600347743,
          11.045445322724985,
          10.96373358557104,
          23.471173613705908,
          25.685403550389005,
          19.11418786307188,
          9.833247170930017,
          25.887491924339663,
          25.41446261268515,
          10.002772691719926,
          28.28224466343182,
          19.780352771866113,
          23.56480294769375,
          14.707154047632336,
          26.06867803428446,
          29.010713398810026,
          22.958384682708974,
          19.2685460397938,
          25.789090909637963,
          23.179967288839137,
          14.85996933889866,
          28.74107412886385,
          23.052543011992704,
          19.079920594310373,
          13.859144221782778,
          26.861718908374783,
          17.495736979832532,
          11.981161694449277,
          22.236745920860983,
          24.065760142772362,
          17.098229177541597,
          10.073718234387295,
          18.175004043834342,
          12.81776937073235,
          29.890176349567554,
          24.95130641730132,
          14.345080146070504,
          27.5442926978603,
          23.483348496548714,
          16.22759134132096,
          14.847154231223863,
          13.408937795538346,
          20.124809148390508,
          24.517800949331445,
          12.63387956454308,
          20.1142436070596,
          11.115771429147587,
          15.10080547159978,
          30.159945937862616,
          28.545697799623433,
          12.93187525761568,
          15.83094990658688,
          25.08448741443875,
          18.017774920707488,
          19.40708474358817,
          30.140674679362718,
          28.507149500545566
         ]
        }
       ],
       "layout": {
        "legend": {
         "tracegroupgap": 0
        },
        "margin": {
         "t": 60
        },
        "template": {
         "data": {
          "bar": [
           {
            "error_x": {
             "color": "#2a3f5f"
            },
            "error_y": {
             "color": "#2a3f5f"
            },
            "marker": {
             "line": {
              "color": "#E5ECF6",
              "width": 0.5
             },
             "pattern": {
              "fillmode": "overlay",
              "size": 10,
              "solidity": 0.2
             }
            },
            "type": "bar"
           }
          ],
          "barpolar": [
           {
            "marker": {
             "line": {
              "color": "#E5ECF6",
              "width": 0.5
             },
             "pattern": {
              "fillmode": "overlay",
              "size": 10,
              "solidity": 0.2
             }
            },
            "type": "barpolar"
           }
          ],
          "carpet": [
           {
            "aaxis": {
             "endlinecolor": "#2a3f5f",
             "gridcolor": "white",
             "linecolor": "white",
             "minorgridcolor": "white",
             "startlinecolor": "#2a3f5f"
            },
            "baxis": {
             "endlinecolor": "#2a3f5f",
             "gridcolor": "white",
             "linecolor": "white",
             "minorgridcolor": "white",
             "startlinecolor": "#2a3f5f"
            },
            "type": "carpet"
           }
          ],
          "choropleth": [
           {
            "colorbar": {
             "outlinewidth": 0,
             "ticks": ""
            },
            "type": "choropleth"
           }
          ],
          "contour": [
           {
            "colorbar": {
             "outlinewidth": 0,
             "ticks": ""
            },
            "colorscale": [
             [
              0,
              "#0d0887"
             ],
             [
              0.1111111111111111,
              "#46039f"
             ],
             [
              0.2222222222222222,
              "#7201a8"
             ],
             [
              0.3333333333333333,
              "#9c179e"
             ],
             [
              0.4444444444444444,
              "#bd3786"
             ],
             [
              0.5555555555555556,
              "#d8576b"
             ],
             [
              0.6666666666666666,
              "#ed7953"
             ],
             [
              0.7777777777777778,
              "#fb9f3a"
             ],
             [
              0.8888888888888888,
              "#fdca26"
             ],
             [
              1,
              "#f0f921"
             ]
            ],
            "type": "contour"
           }
          ],
          "contourcarpet": [
           {
            "colorbar": {
             "outlinewidth": 0,
             "ticks": ""
            },
            "type": "contourcarpet"
           }
          ],
          "heatmap": [
           {
            "colorbar": {
             "outlinewidth": 0,
             "ticks": ""
            },
            "colorscale": [
             [
              0,
              "#0d0887"
             ],
             [
              0.1111111111111111,
              "#46039f"
             ],
             [
              0.2222222222222222,
              "#7201a8"
             ],
             [
              0.3333333333333333,
              "#9c179e"
             ],
             [
              0.4444444444444444,
              "#bd3786"
             ],
             [
              0.5555555555555556,
              "#d8576b"
             ],
             [
              0.6666666666666666,
              "#ed7953"
             ],
             [
              0.7777777777777778,
              "#fb9f3a"
             ],
             [
              0.8888888888888888,
              "#fdca26"
             ],
             [
              1,
              "#f0f921"
             ]
            ],
            "type": "heatmap"
           }
          ],
          "heatmapgl": [
           {
            "colorbar": {
             "outlinewidth": 0,
             "ticks": ""
            },
            "colorscale": [
             [
              0,
              "#0d0887"
             ],
             [
              0.1111111111111111,
              "#46039f"
             ],
             [
              0.2222222222222222,
              "#7201a8"
             ],
             [
              0.3333333333333333,
              "#9c179e"
             ],
             [
              0.4444444444444444,
              "#bd3786"
             ],
             [
              0.5555555555555556,
              "#d8576b"
             ],
             [
              0.6666666666666666,
              "#ed7953"
             ],
             [
              0.7777777777777778,
              "#fb9f3a"
             ],
             [
              0.8888888888888888,
              "#fdca26"
             ],
             [
              1,
              "#f0f921"
             ]
            ],
            "type": "heatmapgl"
           }
          ],
          "histogram": [
           {
            "marker": {
             "pattern": {
              "fillmode": "overlay",
              "size": 10,
              "solidity": 0.2
             }
            },
            "type": "histogram"
           }
          ],
          "histogram2d": [
           {
            "colorbar": {
             "outlinewidth": 0,
             "ticks": ""
            },
            "colorscale": [
             [
              0,
              "#0d0887"
             ],
             [
              0.1111111111111111,
              "#46039f"
             ],
             [
              0.2222222222222222,
              "#7201a8"
             ],
             [
              0.3333333333333333,
              "#9c179e"
             ],
             [
              0.4444444444444444,
              "#bd3786"
             ],
             [
              0.5555555555555556,
              "#d8576b"
             ],
             [
              0.6666666666666666,
              "#ed7953"
             ],
             [
              0.7777777777777778,
              "#fb9f3a"
             ],
             [
              0.8888888888888888,
              "#fdca26"
             ],
             [
              1,
              "#f0f921"
             ]
            ],
            "type": "histogram2d"
           }
          ],
          "histogram2dcontour": [
           {
            "colorbar": {
             "outlinewidth": 0,
             "ticks": ""
            },
            "colorscale": [
             [
              0,
              "#0d0887"
             ],
             [
              0.1111111111111111,
              "#46039f"
             ],
             [
              0.2222222222222222,
              "#7201a8"
             ],
             [
              0.3333333333333333,
              "#9c179e"
             ],
             [
              0.4444444444444444,
              "#bd3786"
             ],
             [
              0.5555555555555556,
              "#d8576b"
             ],
             [
              0.6666666666666666,
              "#ed7953"
             ],
             [
              0.7777777777777778,
              "#fb9f3a"
             ],
             [
              0.8888888888888888,
              "#fdca26"
             ],
             [
              1,
              "#f0f921"
             ]
            ],
            "type": "histogram2dcontour"
           }
          ],
          "mesh3d": [
           {
            "colorbar": {
             "outlinewidth": 0,
             "ticks": ""
            },
            "type": "mesh3d"
           }
          ],
          "parcoords": [
           {
            "line": {
             "colorbar": {
              "outlinewidth": 0,
              "ticks": ""
             }
            },
            "type": "parcoords"
           }
          ],
          "pie": [
           {
            "automargin": true,
            "type": "pie"
           }
          ],
          "scatter": [
           {
            "fillpattern": {
             "fillmode": "overlay",
             "size": 10,
             "solidity": 0.2
            },
            "type": "scatter"
           }
          ],
          "scatter3d": [
           {
            "line": {
             "colorbar": {
              "outlinewidth": 0,
              "ticks": ""
             }
            },
            "marker": {
             "colorbar": {
              "outlinewidth": 0,
              "ticks": ""
             }
            },
            "type": "scatter3d"
           }
          ],
          "scattercarpet": [
           {
            "marker": {
             "colorbar": {
              "outlinewidth": 0,
              "ticks": ""
             }
            },
            "type": "scattercarpet"
           }
          ],
          "scattergeo": [
           {
            "marker": {
             "colorbar": {
              "outlinewidth": 0,
              "ticks": ""
             }
            },
            "type": "scattergeo"
           }
          ],
          "scattergl": [
           {
            "marker": {
             "colorbar": {
              "outlinewidth": 0,
              "ticks": ""
             }
            },
            "type": "scattergl"
           }
          ],
          "scattermapbox": [
           {
            "marker": {
             "colorbar": {
              "outlinewidth": 0,
              "ticks": ""
             }
            },
            "type": "scattermapbox"
           }
          ],
          "scatterpolar": [
           {
            "marker": {
             "colorbar": {
              "outlinewidth": 0,
              "ticks": ""
             }
            },
            "type": "scatterpolar"
           }
          ],
          "scatterpolargl": [
           {
            "marker": {
             "colorbar": {
              "outlinewidth": 0,
              "ticks": ""
             }
            },
            "type": "scatterpolargl"
           }
          ],
          "scatterternary": [
           {
            "marker": {
             "colorbar": {
              "outlinewidth": 0,
              "ticks": ""
             }
            },
            "type": "scatterternary"
           }
          ],
          "surface": [
           {
            "colorbar": {
             "outlinewidth": 0,
             "ticks": ""
            },
            "colorscale": [
             [
              0,
              "#0d0887"
             ],
             [
              0.1111111111111111,
              "#46039f"
             ],
             [
              0.2222222222222222,
              "#7201a8"
             ],
             [
              0.3333333333333333,
              "#9c179e"
             ],
             [
              0.4444444444444444,
              "#bd3786"
             ],
             [
              0.5555555555555556,
              "#d8576b"
             ],
             [
              0.6666666666666666,
              "#ed7953"
             ],
             [
              0.7777777777777778,
              "#fb9f3a"
             ],
             [
              0.8888888888888888,
              "#fdca26"
             ],
             [
              1,
              "#f0f921"
             ]
            ],
            "type": "surface"
           }
          ],
          "table": [
           {
            "cells": {
             "fill": {
              "color": "#EBF0F8"
             },
             "line": {
              "color": "white"
             }
            },
            "header": {
             "fill": {
              "color": "#C8D4E3"
             },
             "line": {
              "color": "white"
             }
            },
            "type": "table"
           }
          ]
         },
         "layout": {
          "annotationdefaults": {
           "arrowcolor": "#2a3f5f",
           "arrowhead": 0,
           "arrowwidth": 1
          },
          "autotypenumbers": "strict",
          "coloraxis": {
           "colorbar": {
            "outlinewidth": 0,
            "ticks": ""
           }
          },
          "colorscale": {
           "diverging": [
            [
             0,
             "#8e0152"
            ],
            [
             0.1,
             "#c51b7d"
            ],
            [
             0.2,
             "#de77ae"
            ],
            [
             0.3,
             "#f1b6da"
            ],
            [
             0.4,
             "#fde0ef"
            ],
            [
             0.5,
             "#f7f7f7"
            ],
            [
             0.6,
             "#e6f5d0"
            ],
            [
             0.7,
             "#b8e186"
            ],
            [
             0.8,
             "#7fbc41"
            ],
            [
             0.9,
             "#4d9221"
            ],
            [
             1,
             "#276419"
            ]
           ],
           "sequential": [
            [
             0,
             "#0d0887"
            ],
            [
             0.1111111111111111,
             "#46039f"
            ],
            [
             0.2222222222222222,
             "#7201a8"
            ],
            [
             0.3333333333333333,
             "#9c179e"
            ],
            [
             0.4444444444444444,
             "#bd3786"
            ],
            [
             0.5555555555555556,
             "#d8576b"
            ],
            [
             0.6666666666666666,
             "#ed7953"
            ],
            [
             0.7777777777777778,
             "#fb9f3a"
            ],
            [
             0.8888888888888888,
             "#fdca26"
            ],
            [
             1,
             "#f0f921"
            ]
           ],
           "sequentialminus": [
            [
             0,
             "#0d0887"
            ],
            [
             0.1111111111111111,
             "#46039f"
            ],
            [
             0.2222222222222222,
             "#7201a8"
            ],
            [
             0.3333333333333333,
             "#9c179e"
            ],
            [
             0.4444444444444444,
             "#bd3786"
            ],
            [
             0.5555555555555556,
             "#d8576b"
            ],
            [
             0.6666666666666666,
             "#ed7953"
            ],
            [
             0.7777777777777778,
             "#fb9f3a"
            ],
            [
             0.8888888888888888,
             "#fdca26"
            ],
            [
             1,
             "#f0f921"
            ]
           ]
          },
          "colorway": [
           "#636efa",
           "#EF553B",
           "#00cc96",
           "#ab63fa",
           "#FFA15A",
           "#19d3f3",
           "#FF6692",
           "#B6E880",
           "#FF97FF",
           "#FECB52"
          ],
          "font": {
           "color": "#2a3f5f"
          },
          "geo": {
           "bgcolor": "white",
           "lakecolor": "white",
           "landcolor": "#E5ECF6",
           "showlakes": true,
           "showland": true,
           "subunitcolor": "white"
          },
          "hoverlabel": {
           "align": "left"
          },
          "hovermode": "closest",
          "mapbox": {
           "style": "light"
          },
          "paper_bgcolor": "white",
          "plot_bgcolor": "#E5ECF6",
          "polar": {
           "angularaxis": {
            "gridcolor": "white",
            "linecolor": "white",
            "ticks": ""
           },
           "bgcolor": "#E5ECF6",
           "radialaxis": {
            "gridcolor": "white",
            "linecolor": "white",
            "ticks": ""
           }
          },
          "scene": {
           "xaxis": {
            "backgroundcolor": "#E5ECF6",
            "gridcolor": "white",
            "gridwidth": 2,
            "linecolor": "white",
            "showbackground": true,
            "ticks": "",
            "zerolinecolor": "white"
           },
           "yaxis": {
            "backgroundcolor": "#E5ECF6",
            "gridcolor": "white",
            "gridwidth": 2,
            "linecolor": "white",
            "showbackground": true,
            "ticks": "",
            "zerolinecolor": "white"
           },
           "zaxis": {
            "backgroundcolor": "#E5ECF6",
            "gridcolor": "white",
            "gridwidth": 2,
            "linecolor": "white",
            "showbackground": true,
            "ticks": "",
            "zerolinecolor": "white"
           }
          },
          "shapedefaults": {
           "line": {
            "color": "#2a3f5f"
           }
          },
          "ternary": {
           "aaxis": {
            "gridcolor": "white",
            "linecolor": "white",
            "ticks": ""
           },
           "baxis": {
            "gridcolor": "white",
            "linecolor": "white",
            "ticks": ""
           },
           "bgcolor": "#E5ECF6",
           "caxis": {
            "gridcolor": "white",
            "linecolor": "white",
            "ticks": ""
           }
          },
          "title": {
           "x": 0.05
          },
          "xaxis": {
           "automargin": true,
           "gridcolor": "white",
           "linecolor": "white",
           "ticks": "",
           "title": {
            "standoff": 15
           },
           "zerolinecolor": "white",
           "zerolinewidth": 2
          },
          "yaxis": {
           "automargin": true,
           "gridcolor": "white",
           "linecolor": "white",
           "ticks": "",
           "title": {
            "standoff": 15
           },
           "zerolinecolor": "white",
           "zerolinewidth": 2
          }
         }
        },
        "xaxis": {
         "anchor": "y",
         "domain": [
          0,
          1
         ],
         "title": {
          "text": "x"
         }
        },
        "yaxis": {
         "anchor": "x",
         "domain": [
          0,
          1
         ],
         "title": {
          "text": "y"
         }
        }
       }
      },
      "text/html": [
       "<div>                            <div id=\"adc375bc-e96c-4b58-a7b9-5a724eb552c5\" class=\"plotly-graph-div\" style=\"height:525px; width:100%;\"></div>            <script type=\"text/javascript\">                require([\"plotly\"], function(Plotly) {                    window.PLOTLYENV=window.PLOTLYENV || {};                                    if (document.getElementById(\"adc375bc-e96c-4b58-a7b9-5a724eb552c5\")) {                    Plotly.newPlot(                        \"adc375bc-e96c-4b58-a7b9-5a724eb552c5\",                        [{\"hovertemplate\":\"x=%{x}\\u003cbr\\u003ey=%{y}\\u003cextra\\u003e\\u003c\\u002fextra\\u003e\",\"legendgroup\":\"\",\"marker\":{\"color\":\"#636efa\",\"symbol\":\"circle\"},\"mode\":\"markers\",\"name\":\"\",\"orientation\":\"v\",\"showlegend\":false,\"x\":[3.468131514511933,5.794058122331647,3.3765848953823085,5.940323020002037,0.4200548413016236,3.931137157832898,0.3925848071724125,4.242412011758404,4.105430591297674,8.597825293481286,5.113519930360601,1.6624906781645388,6.568136923335225,0.23853907332096802,7.484289711995791,0.47588916939863,3.8246099276157928,6.401731678039031,6.153814330913221,5.82715668797109,9.871810611059995,1.4771316918161947,2.8843529008870483,3.429639685094543,5.63468789125074,5.581738959732996,6.527254301616723,9.155338985999936,7.158511671400518,9.612034155702624,0.32957747270005333,7.5991751004286865,8.569018255729127,4.464143197441509,6.060451521015273,2.176795366639687,4.5799494701018615,9.92688445583376,0.11269917368606719,5.803259480450684,7.0704410431329245,7.701947375408226,6.385044373500788,9.68188780915564,0.6956183374943548,0.6565050313928167,6.64349475167496,7.703389649387256,4.55791777974591,0.11537027254930665,7.8001241541867605,7.573697193921733,0.1965177773953497,8.946430672491948,4.876793780909395,6.688312704736586,2.448384086950192,7.886853283029857,9.295129912340043,6.398035884660834,4.631805067248135,7.753022120344566,6.504101776810663,2.5215328348838506,9.166060531737715,6.443107054159354,4.541514919899626,2.0424636029311563,8.266461544213769,3.783206985295635,1.1435216883008614,6.052605977403839,6.928108024201674,3.5929302283658107,0.23047758321444012,4.108354651033555,1.5439842567040618,9.716106197951666,7.351996240376447,2.2750686265716547,8.593192054357434,6.649322554827448,3.1761782980094475,2.515398572577517,1.826961370670418,5.041676185358128,7.144488327119733,1.4559609380358685,5.036618732578416,0.7292816351214049,2.6368148948026415,9.845237958594465,9.072538910037542,1.5986038087672705,2.986316248937124,7.415746556908457,4.03309311535783,4.698119980100994,9.83601330300737,9.054086831131354],\"xaxis\":\"x\",\"y\":[20.47305814243399,24.148819274587375,19.862721994815505,22.19406005414045,12.76397641843205,19.92709572213242,14.980017908100503,19.7282796280531,12.922092603730672,27.930740603199826,15.282964024560837,14.04792303520055,27.207167624399553,6.930309746173744,26.784098539706076,8.992479363957479,21.570625595561587,24.857737626574103,22.110388777423584,23.043545364175877,32.84840893855638,12.727036442425957,16.214884548965777,20.37998596518033,19.395024221951168,20.748750406625433,19.999069488074316,28.1977859076062,22.27026094954004,31.762515777384916,9.325714468530759,27.7201217464759,23.44381025271516,18.0032142764192,25.8756060234397,13.629782264608307,22.53467204214388,28.18339685141185,11.269112555521287,19.27170000936958,25.85828568081058,24.323116002793206,23.309413188792178,28.56660290322107,10.255897465790394,10.335293833280346,21.668536431564256,23.288773758174322,17.97752386526737,4.908363244947624,27.266030889845812,26.992837077552476,7.580900177230904,28.290527550909772,20.391778704343402,24.22794987041944,11.661023332273952,24.061566504307248,26.21913059935366,24.748147554776,23.93686361329621,27.567810187315285,23.954619744164663,12.671311562138674,24.946935594305657,24.086283564233838,19.578074453392503,14.555413267275798,28.497538010869942,16.19100338448608,12.009992674503206,22.310401595286848,24.11982359911222,18.809259181497058,10.316952837726227,19.950574169637726,12.765357789033747,30.00256509213829,23.611254032140515,13.974876830285256,25.881197803221482,23.494689355756798,16.257708374307914,16.60367154073981,9.047016294435362,20.925017756285044,25.473218257137024,12.120233606909636,16.78737072863396,9.144223731173504,12.297927984234372,31.492130230344095,26.581278773015864,15.877219781746575,12.749305346428384,22.508966214451124,23.533125387953483,20.483206988594905,31.74547961748575,26.810241944544504],\"yaxis\":\"y\",\"type\":\"scatter\"},{\"mode\":\"lines\",\"x\":[3.468131514511933,5.794058122331647,3.3765848953823085,5.940323020002037,0.4200548413016236,3.931137157832898,0.3925848071724125,4.242412011758404,4.105430591297674,8.597825293481286,5.113519930360601,1.6624906781645388,6.568136923335225,0.23853907332096802,7.484289711995791,0.47588916939863,3.8246099276157928,6.401731678039031,6.153814330913221,5.82715668797109,9.871810611059995,1.4771316918161947,2.8843529008870483,3.429639685094543,5.63468789125074,5.581738959732996,6.527254301616723,9.155338985999936,7.158511671400518,9.612034155702624,0.32957747270005333,7.5991751004286865,8.569018255729127,4.464143197441509,6.060451521015273,2.176795366639687,4.5799494701018615,9.92688445583376,0.11269917368606719,5.803259480450684,7.0704410431329245,7.701947375408226,6.385044373500788,9.68188780915564,0.6956183374943548,0.6565050313928167,6.64349475167496,7.703389649387256,4.55791777974591,0.11537027254930665,7.8001241541867605,7.573697193921733,0.1965177773953497,8.946430672491948,4.876793780909395,6.688312704736586,2.448384086950192,7.886853283029857,9.295129912340043,6.398035884660834,4.631805067248135,7.753022120344566,6.504101776810663,2.5215328348838506,9.166060531737715,6.443107054159354,4.541514919899626,2.0424636029311563,8.266461544213769,3.783206985295635,1.1435216883008614,6.052605977403839,6.928108024201674,3.5929302283658107,0.23047758321444012,4.108354651033555,1.5439842567040618,9.716106197951666,7.351996240376447,2.2750686265716547,8.593192054357434,6.649322554827448,3.1761782980094475,2.515398572577517,1.826961370670418,5.041676185358128,7.144488327119733,1.4559609380358685,5.036618732578416,0.7292816351214049,2.6368148948026415,9.845237958594465,9.072538910037542,1.5986038087672705,2.986316248937124,7.415746556908457,4.03309311535783,4.698119980100994,9.83601330300737,9.054086831131354],\"y\":[16.837511771625927,21.696612741616782,16.646261426788467,22.0021752231484,10.4697647113323,17.80477839259685,10.412376972168829,18.45506371955349,18.16889538096804,27.553972013039555,20.274898153716663,13.065341527795606,23.313743325256155,10.090559520034274,25.227681146455645,10.586408390846017,17.582232003584352,22.966105576880146,22.448180626949842,21.76575906457608,30.21545895402417,12.678107456293219,15.617937938905722,16.75709836346853,21.363671864708028,21.25305607673223,23.22833530499435,28.71867571219881,24.54709716425421,29.672759101860294,10.280748141309816,25.46768859144349,27.493791135184907,18.918283072996438,22.253136071970765,14.139777153682793,19.160214340269924,30.33051390531181,9.827666969459482,21.715835329299097,24.363108523424348,25.68239049104872,22.93124407377179,29.818690600347743,11.045445322724985,10.96373358557104,23.471173613705908,25.685403550389005,19.11418786307188,9.833247170930017,25.887491924339663,25.41446261268515,10.002772691719926,28.28224466343182,19.780352771866113,23.56480294769375,14.707154047632336,26.06867803428446,29.010713398810026,22.958384682708974,19.2685460397938,25.789090909637963,23.179967288839137,14.85996933889866,28.74107412886385,23.052543011992704,19.079920594310373,13.859144221782778,26.861718908374783,17.495736979832532,11.981161694449277,22.236745920860983,24.065760142772362,17.098229177541597,10.073718234387295,18.175004043834342,12.81776937073235,29.890176349567554,24.95130641730132,14.345080146070504,27.5442926978603,23.483348496548714,16.22759134132096,14.847154231223863,13.408937795538346,20.124809148390508,24.517800949331445,12.63387956454308,20.1142436070596,11.115771429147587,15.10080547159978,30.159945937862616,28.545697799623433,12.93187525761568,15.83094990658688,25.08448741443875,18.017774920707488,19.40708474358817,30.140674679362718,28.507149500545566],\"type\":\"scatter\"},{\"mode\":\"markers\",\"x\":[3.468131514511933,5.794058122331647,3.3765848953823085,5.940323020002037,0.4200548413016236,3.931137157832898,0.3925848071724125,4.242412011758404,4.105430591297674,8.597825293481286,5.113519930360601,1.6624906781645388,6.568136923335225,0.23853907332096802,7.484289711995791,0.47588916939863,3.8246099276157928,6.401731678039031,6.153814330913221,5.82715668797109,9.871810611059995,1.4771316918161947,2.8843529008870483,3.429639685094543,5.63468789125074,5.581738959732996,6.527254301616723,9.155338985999936,7.158511671400518,9.612034155702624,0.32957747270005333,7.5991751004286865,8.569018255729127,4.464143197441509,6.060451521015273,2.176795366639687,4.5799494701018615,9.92688445583376,0.11269917368606719,5.803259480450684,7.0704410431329245,7.701947375408226,6.385044373500788,9.68188780915564,0.6956183374943548,0.6565050313928167,6.64349475167496,7.703389649387256,4.55791777974591,0.11537027254930665,7.8001241541867605,7.573697193921733,0.1965177773953497,8.946430672491948,4.876793780909395,6.688312704736586,2.448384086950192,7.886853283029857,9.295129912340043,6.398035884660834,4.631805067248135,7.753022120344566,6.504101776810663,2.5215328348838506,9.166060531737715,6.443107054159354,4.541514919899626,2.0424636029311563,8.266461544213769,3.783206985295635,1.1435216883008614,6.052605977403839,6.928108024201674,3.5929302283658107,0.23047758321444012,4.108354651033555,1.5439842567040618,9.716106197951666,7.351996240376447,2.2750686265716547,8.593192054357434,6.649322554827448,3.1761782980094475,2.515398572577517,1.826961370670418,5.041676185358128,7.144488327119733,1.4559609380358685,5.036618732578416,0.7292816351214049,2.6368148948026415,9.845237958594465,9.072538910037542,1.5986038087672705,2.986316248937124,7.415746556908457,4.03309311535783,4.698119980100994,9.83601330300737,9.054086831131354],\"y\":[16.837511771625927,21.696612741616782,16.646261426788467,22.0021752231484,10.4697647113323,17.80477839259685,10.412376972168829,18.45506371955349,18.16889538096804,27.553972013039555,20.274898153716663,13.065341527795606,23.313743325256155,10.090559520034274,25.227681146455645,10.586408390846017,17.582232003584352,22.966105576880146,22.448180626949842,21.76575906457608,30.21545895402417,12.678107456293219,15.617937938905722,16.75709836346853,21.363671864708028,21.25305607673223,23.22833530499435,28.71867571219881,24.54709716425421,29.672759101860294,10.280748141309816,25.46768859144349,27.493791135184907,18.918283072996438,22.253136071970765,14.139777153682793,19.160214340269924,30.33051390531181,9.827666969459482,21.715835329299097,24.363108523424348,25.68239049104872,22.93124407377179,29.818690600347743,11.045445322724985,10.96373358557104,23.471173613705908,25.685403550389005,19.11418786307188,9.833247170930017,25.887491924339663,25.41446261268515,10.002772691719926,28.28224466343182,19.780352771866113,23.56480294769375,14.707154047632336,26.06867803428446,29.010713398810026,22.958384682708974,19.2685460397938,25.789090909637963,23.179967288839137,14.85996933889866,28.74107412886385,23.052543011992704,19.079920594310373,13.859144221782778,26.861718908374783,17.495736979832532,11.981161694449277,22.236745920860983,24.065760142772362,17.098229177541597,10.073718234387295,18.175004043834342,12.81776937073235,29.890176349567554,24.95130641730132,14.345080146070504,27.5442926978603,23.483348496548714,16.22759134132096,14.847154231223863,13.408937795538346,20.124809148390508,24.517800949331445,12.63387956454308,20.1142436070596,11.115771429147587,15.10080547159978,30.159945937862616,28.545697799623433,12.93187525761568,15.83094990658688,25.08448741443875,18.017774920707488,19.40708474358817,30.140674679362718,28.507149500545566],\"type\":\"scatter\"}],                        {\"template\":{\"data\":{\"histogram2dcontour\":[{\"type\":\"histogram2dcontour\",\"colorbar\":{\"outlinewidth\":0,\"ticks\":\"\"},\"colorscale\":[[0.0,\"#0d0887\"],[0.1111111111111111,\"#46039f\"],[0.2222222222222222,\"#7201a8\"],[0.3333333333333333,\"#9c179e\"],[0.4444444444444444,\"#bd3786\"],[0.5555555555555556,\"#d8576b\"],[0.6666666666666666,\"#ed7953\"],[0.7777777777777778,\"#fb9f3a\"],[0.8888888888888888,\"#fdca26\"],[1.0,\"#f0f921\"]]}],\"choropleth\":[{\"type\":\"choropleth\",\"colorbar\":{\"outlinewidth\":0,\"ticks\":\"\"}}],\"histogram2d\":[{\"type\":\"histogram2d\",\"colorbar\":{\"outlinewidth\":0,\"ticks\":\"\"},\"colorscale\":[[0.0,\"#0d0887\"],[0.1111111111111111,\"#46039f\"],[0.2222222222222222,\"#7201a8\"],[0.3333333333333333,\"#9c179e\"],[0.4444444444444444,\"#bd3786\"],[0.5555555555555556,\"#d8576b\"],[0.6666666666666666,\"#ed7953\"],[0.7777777777777778,\"#fb9f3a\"],[0.8888888888888888,\"#fdca26\"],[1.0,\"#f0f921\"]]}],\"heatmap\":[{\"type\":\"heatmap\",\"colorbar\":{\"outlinewidth\":0,\"ticks\":\"\"},\"colorscale\":[[0.0,\"#0d0887\"],[0.1111111111111111,\"#46039f\"],[0.2222222222222222,\"#7201a8\"],[0.3333333333333333,\"#9c179e\"],[0.4444444444444444,\"#bd3786\"],[0.5555555555555556,\"#d8576b\"],[0.6666666666666666,\"#ed7953\"],[0.7777777777777778,\"#fb9f3a\"],[0.8888888888888888,\"#fdca26\"],[1.0,\"#f0f921\"]]}],\"heatmapgl\":[{\"type\":\"heatmapgl\",\"colorbar\":{\"outlinewidth\":0,\"ticks\":\"\"},\"colorscale\":[[0.0,\"#0d0887\"],[0.1111111111111111,\"#46039f\"],[0.2222222222222222,\"#7201a8\"],[0.3333333333333333,\"#9c179e\"],[0.4444444444444444,\"#bd3786\"],[0.5555555555555556,\"#d8576b\"],[0.6666666666666666,\"#ed7953\"],[0.7777777777777778,\"#fb9f3a\"],[0.8888888888888888,\"#fdca26\"],[1.0,\"#f0f921\"]]}],\"contourcarpet\":[{\"type\":\"contourcarpet\",\"colorbar\":{\"outlinewidth\":0,\"ticks\":\"\"}}],\"contour\":[{\"type\":\"contour\",\"colorbar\":{\"outlinewidth\":0,\"ticks\":\"\"},\"colorscale\":[[0.0,\"#0d0887\"],[0.1111111111111111,\"#46039f\"],[0.2222222222222222,\"#7201a8\"],[0.3333333333333333,\"#9c179e\"],[0.4444444444444444,\"#bd3786\"],[0.5555555555555556,\"#d8576b\"],[0.6666666666666666,\"#ed7953\"],[0.7777777777777778,\"#fb9f3a\"],[0.8888888888888888,\"#fdca26\"],[1.0,\"#f0f921\"]]}],\"surface\":[{\"type\":\"surface\",\"colorbar\":{\"outlinewidth\":0,\"ticks\":\"\"},\"colorscale\":[[0.0,\"#0d0887\"],[0.1111111111111111,\"#46039f\"],[0.2222222222222222,\"#7201a8\"],[0.3333333333333333,\"#9c179e\"],[0.4444444444444444,\"#bd3786\"],[0.5555555555555556,\"#d8576b\"],[0.6666666666666666,\"#ed7953\"],[0.7777777777777778,\"#fb9f3a\"],[0.8888888888888888,\"#fdca26\"],[1.0,\"#f0f921\"]]}],\"mesh3d\":[{\"type\":\"mesh3d\",\"colorbar\":{\"outlinewidth\":0,\"ticks\":\"\"}}],\"scatter\":[{\"fillpattern\":{\"fillmode\":\"overlay\",\"size\":10,\"solidity\":0.2},\"type\":\"scatter\"}],\"parcoords\":[{\"type\":\"parcoords\",\"line\":{\"colorbar\":{\"outlinewidth\":0,\"ticks\":\"\"}}}],\"scatterpolargl\":[{\"type\":\"scatterpolargl\",\"marker\":{\"colorbar\":{\"outlinewidth\":0,\"ticks\":\"\"}}}],\"bar\":[{\"error_x\":{\"color\":\"#2a3f5f\"},\"error_y\":{\"color\":\"#2a3f5f\"},\"marker\":{\"line\":{\"color\":\"#E5ECF6\",\"width\":0.5},\"pattern\":{\"fillmode\":\"overlay\",\"size\":10,\"solidity\":0.2}},\"type\":\"bar\"}],\"scattergeo\":[{\"type\":\"scattergeo\",\"marker\":{\"colorbar\":{\"outlinewidth\":0,\"ticks\":\"\"}}}],\"scatterpolar\":[{\"type\":\"scatterpolar\",\"marker\":{\"colorbar\":{\"outlinewidth\":0,\"ticks\":\"\"}}}],\"histogram\":[{\"marker\":{\"pattern\":{\"fillmode\":\"overlay\",\"size\":10,\"solidity\":0.2}},\"type\":\"histogram\"}],\"scattergl\":[{\"type\":\"scattergl\",\"marker\":{\"colorbar\":{\"outlinewidth\":0,\"ticks\":\"\"}}}],\"scatter3d\":[{\"type\":\"scatter3d\",\"line\":{\"colorbar\":{\"outlinewidth\":0,\"ticks\":\"\"}},\"marker\":{\"colorbar\":{\"outlinewidth\":0,\"ticks\":\"\"}}}],\"scattermapbox\":[{\"type\":\"scattermapbox\",\"marker\":{\"colorbar\":{\"outlinewidth\":0,\"ticks\":\"\"}}}],\"scatterternary\":[{\"type\":\"scatterternary\",\"marker\":{\"colorbar\":{\"outlinewidth\":0,\"ticks\":\"\"}}}],\"scattercarpet\":[{\"type\":\"scattercarpet\",\"marker\":{\"colorbar\":{\"outlinewidth\":0,\"ticks\":\"\"}}}],\"carpet\":[{\"aaxis\":{\"endlinecolor\":\"#2a3f5f\",\"gridcolor\":\"white\",\"linecolor\":\"white\",\"minorgridcolor\":\"white\",\"startlinecolor\":\"#2a3f5f\"},\"baxis\":{\"endlinecolor\":\"#2a3f5f\",\"gridcolor\":\"white\",\"linecolor\":\"white\",\"minorgridcolor\":\"white\",\"startlinecolor\":\"#2a3f5f\"},\"type\":\"carpet\"}],\"table\":[{\"cells\":{\"fill\":{\"color\":\"#EBF0F8\"},\"line\":{\"color\":\"white\"}},\"header\":{\"fill\":{\"color\":\"#C8D4E3\"},\"line\":{\"color\":\"white\"}},\"type\":\"table\"}],\"barpolar\":[{\"marker\":{\"line\":{\"color\":\"#E5ECF6\",\"width\":0.5},\"pattern\":{\"fillmode\":\"overlay\",\"size\":10,\"solidity\":0.2}},\"type\":\"barpolar\"}],\"pie\":[{\"automargin\":true,\"type\":\"pie\"}]},\"layout\":{\"autotypenumbers\":\"strict\",\"colorway\":[\"#636efa\",\"#EF553B\",\"#00cc96\",\"#ab63fa\",\"#FFA15A\",\"#19d3f3\",\"#FF6692\",\"#B6E880\",\"#FF97FF\",\"#FECB52\"],\"font\":{\"color\":\"#2a3f5f\"},\"hovermode\":\"closest\",\"hoverlabel\":{\"align\":\"left\"},\"paper_bgcolor\":\"white\",\"plot_bgcolor\":\"#E5ECF6\",\"polar\":{\"bgcolor\":\"#E5ECF6\",\"angularaxis\":{\"gridcolor\":\"white\",\"linecolor\":\"white\",\"ticks\":\"\"},\"radialaxis\":{\"gridcolor\":\"white\",\"linecolor\":\"white\",\"ticks\":\"\"}},\"ternary\":{\"bgcolor\":\"#E5ECF6\",\"aaxis\":{\"gridcolor\":\"white\",\"linecolor\":\"white\",\"ticks\":\"\"},\"baxis\":{\"gridcolor\":\"white\",\"linecolor\":\"white\",\"ticks\":\"\"},\"caxis\":{\"gridcolor\":\"white\",\"linecolor\":\"white\",\"ticks\":\"\"}},\"coloraxis\":{\"colorbar\":{\"outlinewidth\":0,\"ticks\":\"\"}},\"colorscale\":{\"sequential\":[[0.0,\"#0d0887\"],[0.1111111111111111,\"#46039f\"],[0.2222222222222222,\"#7201a8\"],[0.3333333333333333,\"#9c179e\"],[0.4444444444444444,\"#bd3786\"],[0.5555555555555556,\"#d8576b\"],[0.6666666666666666,\"#ed7953\"],[0.7777777777777778,\"#fb9f3a\"],[0.8888888888888888,\"#fdca26\"],[1.0,\"#f0f921\"]],\"sequentialminus\":[[0.0,\"#0d0887\"],[0.1111111111111111,\"#46039f\"],[0.2222222222222222,\"#7201a8\"],[0.3333333333333333,\"#9c179e\"],[0.4444444444444444,\"#bd3786\"],[0.5555555555555556,\"#d8576b\"],[0.6666666666666666,\"#ed7953\"],[0.7777777777777778,\"#fb9f3a\"],[0.8888888888888888,\"#fdca26\"],[1.0,\"#f0f921\"]],\"diverging\":[[0,\"#8e0152\"],[0.1,\"#c51b7d\"],[0.2,\"#de77ae\"],[0.3,\"#f1b6da\"],[0.4,\"#fde0ef\"],[0.5,\"#f7f7f7\"],[0.6,\"#e6f5d0\"],[0.7,\"#b8e186\"],[0.8,\"#7fbc41\"],[0.9,\"#4d9221\"],[1,\"#276419\"]]},\"xaxis\":{\"gridcolor\":\"white\",\"linecolor\":\"white\",\"ticks\":\"\",\"title\":{\"standoff\":15},\"zerolinecolor\":\"white\",\"automargin\":true,\"zerolinewidth\":2},\"yaxis\":{\"gridcolor\":\"white\",\"linecolor\":\"white\",\"ticks\":\"\",\"title\":{\"standoff\":15},\"zerolinecolor\":\"white\",\"automargin\":true,\"zerolinewidth\":2},\"scene\":{\"xaxis\":{\"backgroundcolor\":\"#E5ECF6\",\"gridcolor\":\"white\",\"linecolor\":\"white\",\"showbackground\":true,\"ticks\":\"\",\"zerolinecolor\":\"white\",\"gridwidth\":2},\"yaxis\":{\"backgroundcolor\":\"#E5ECF6\",\"gridcolor\":\"white\",\"linecolor\":\"white\",\"showbackground\":true,\"ticks\":\"\",\"zerolinecolor\":\"white\",\"gridwidth\":2},\"zaxis\":{\"backgroundcolor\":\"#E5ECF6\",\"gridcolor\":\"white\",\"linecolor\":\"white\",\"showbackground\":true,\"ticks\":\"\",\"zerolinecolor\":\"white\",\"gridwidth\":2}},\"shapedefaults\":{\"line\":{\"color\":\"#2a3f5f\"}},\"annotationdefaults\":{\"arrowcolor\":\"#2a3f5f\",\"arrowhead\":0,\"arrowwidth\":1},\"geo\":{\"bgcolor\":\"white\",\"landcolor\":\"#E5ECF6\",\"subunitcolor\":\"white\",\"showland\":true,\"showlakes\":true,\"lakecolor\":\"white\"},\"title\":{\"x\":0.05},\"mapbox\":{\"style\":\"light\"}}},\"xaxis\":{\"anchor\":\"y\",\"domain\":[0.0,1.0],\"title\":{\"text\":\"x\"}},\"yaxis\":{\"anchor\":\"x\",\"domain\":[0.0,1.0],\"title\":{\"text\":\"y\"}},\"legend\":{\"tracegroupgap\":0},\"margin\":{\"t\":60}},                        {\"responsive\": true}                    ).then(function(){\n",
       "                            \n",
       "var gd = document.getElementById('adc375bc-e96c-4b58-a7b9-5a724eb552c5');\n",
       "var x = new MutationObserver(function (mutations, observer) {{\n",
       "        var display = window.getComputedStyle(gd).display;\n",
       "        if (!display || display === 'none') {{\n",
       "            console.log([gd, 'removed!']);\n",
       "            Plotly.purge(gd);\n",
       "            observer.disconnect();\n",
       "        }}\n",
       "}});\n",
       "\n",
       "// Listen for the removal of the full notebook cells\n",
       "var notebookContainer = gd.closest('#notebook-container');\n",
       "if (notebookContainer) {{\n",
       "    x.observe(notebookContainer, {childList: true});\n",
       "}}\n",
       "\n",
       "// Listen for the clearing of the current output cell\n",
       "var outputEl = gd.closest('.output');\n",
       "if (outputEl) {{\n",
       "    x.observe(outputEl, {childList: true});\n",
       "}}\n",
       "\n",
       "                        })                };                });            </script>        </div>"
      ]
     },
     "metadata": {},
     "output_type": "display_data"
    }
   ],
   "source": [
    "df3 = pd.DataFrame({'x':x, 'y': y_with_error})\n",
    "fig = px.scatter(df3, x='x', y='y')\n",
    "\n",
    "import plotly.graph_objects as go\n",
    "fig.add_trace(go.Scatter(x=x, y=slrm_fit.predict(), mode=\"lines\"))\n",
    "\n",
    "fig.add_trace(go.Scatter(x=x, y=slrm_fit.predict(), mode=\"markers\"))"
   ]
  },
  {
   "cell_type": "markdown",
   "id": "ded4990a",
   "metadata": {},
   "source": [
    "# Hypothesis test for simple linear regression\n",
    "\n",
    "# $H_0: \\beta_1 =0 \\quad \\text{there is no linear association between x and y}$\n",
    "\n",
    "for the model $y_i = \\beta_0 + \\beta_1 x_i + \\epsilon_i, \\epsilon_i \\sim \\mathcal N(0, \\sigma)$\n",
    "\n",
    "implies sampling distribution under $H_0$ for (test) statistic $\\hat \\beta_1$\n",
    "\n",
    "# $H_1: \\beta_1 \\neq 0 $"
   ]
  },
  {
   "cell_type": "code",
   "execution_count": 4,
   "id": "52322efc",
   "metadata": {},
   "outputs": [
    {
     "data": {
      "text/html": [
       "<div>\n",
       "<style scoped>\n",
       "    .dataframe tbody tr th:only-of-type {\n",
       "        vertical-align: middle;\n",
       "    }\n",
       "\n",
       "    .dataframe tbody tr th {\n",
       "        vertical-align: top;\n",
       "    }\n",
       "\n",
       "    .dataframe thead th {\n",
       "        text-align: right;\n",
       "    }\n",
       "</style>\n",
       "<table border=\"1\" class=\"dataframe\">\n",
       "  <thead>\n",
       "    <tr style=\"text-align: right;\">\n",
       "      <th></th>\n",
       "      <th>Title</th>\n",
       "      <th>Author</th>\n",
       "      <th>List Price</th>\n",
       "      <th>Amazon Price</th>\n",
       "      <th>Hard_or_Paper</th>\n",
       "      <th>NumPages</th>\n",
       "      <th>Publisher</th>\n",
       "      <th>Pub year</th>\n",
       "      <th>ISBN-10</th>\n",
       "      <th>Thick</th>\n",
       "    </tr>\n",
       "  </thead>\n",
       "  <tbody>\n",
       "    <tr>\n",
       "      <th>0</th>\n",
       "      <td>1,001 Facts that Will Scare the S#*t Out of Yo...</td>\n",
       "      <td>Cary McNeal</td>\n",
       "      <td>12.95</td>\n",
       "      <td>5.18</td>\n",
       "      <td>P</td>\n",
       "      <td>304</td>\n",
       "      <td>Adams Media</td>\n",
       "      <td>2010</td>\n",
       "      <td>1605506249</td>\n",
       "      <td>0.8</td>\n",
       "    </tr>\n",
       "    <tr>\n",
       "      <th>1</th>\n",
       "      <td>21: Bringing Down the House - Movie Tie-In: Th...</td>\n",
       "      <td>Ben Mezrich</td>\n",
       "      <td>15.00</td>\n",
       "      <td>10.20</td>\n",
       "      <td>P</td>\n",
       "      <td>273</td>\n",
       "      <td>Free Press</td>\n",
       "      <td>2008</td>\n",
       "      <td>1416564195</td>\n",
       "      <td>0.7</td>\n",
       "    </tr>\n",
       "    <tr>\n",
       "      <th>2</th>\n",
       "      <td>100 Best-Loved Poems (Dover Thrift Editions)</td>\n",
       "      <td>Smith</td>\n",
       "      <td>1.50</td>\n",
       "      <td>1.50</td>\n",
       "      <td>P</td>\n",
       "      <td>96</td>\n",
       "      <td>Dover Publications</td>\n",
       "      <td>1995</td>\n",
       "      <td>486285537</td>\n",
       "      <td>0.3</td>\n",
       "    </tr>\n",
       "    <tr>\n",
       "      <th>3</th>\n",
       "      <td>1421: The Year China Discovered America</td>\n",
       "      <td>Gavin Menzies</td>\n",
       "      <td>15.99</td>\n",
       "      <td>10.87</td>\n",
       "      <td>P</td>\n",
       "      <td>672</td>\n",
       "      <td>Harper Perennial</td>\n",
       "      <td>2008</td>\n",
       "      <td>61564893</td>\n",
       "      <td>1.6</td>\n",
       "    </tr>\n",
       "    <tr>\n",
       "      <th>4</th>\n",
       "      <td>1493: Uncovering the New World Columbus Created</td>\n",
       "      <td>Charles C. Mann</td>\n",
       "      <td>30.50</td>\n",
       "      <td>16.77</td>\n",
       "      <td>P</td>\n",
       "      <td>720</td>\n",
       "      <td>Knopf</td>\n",
       "      <td>2011</td>\n",
       "      <td>307265722</td>\n",
       "      <td>1.4</td>\n",
       "    </tr>\n",
       "    <tr>\n",
       "      <th>...</th>\n",
       "      <td>...</td>\n",
       "      <td>...</td>\n",
       "      <td>...</td>\n",
       "      <td>...</td>\n",
       "      <td>...</td>\n",
       "      <td>...</td>\n",
       "      <td>...</td>\n",
       "      <td>...</td>\n",
       "      <td>...</td>\n",
       "      <td>...</td>\n",
       "    </tr>\n",
       "    <tr>\n",
       "      <th>320</th>\n",
       "      <td>Where the Sidewalk Ends</td>\n",
       "      <td>Shel Silverstein</td>\n",
       "      <td>18.99</td>\n",
       "      <td>12.24</td>\n",
       "      <td>H</td>\n",
       "      <td>192</td>\n",
       "      <td>HarperCollins</td>\n",
       "      <td>2004</td>\n",
       "      <td>60572345</td>\n",
       "      <td>1.1</td>\n",
       "    </tr>\n",
       "    <tr>\n",
       "      <th>321</th>\n",
       "      <td>White Privilege</td>\n",
       "      <td>Paula S. Rothenberg</td>\n",
       "      <td>27.55</td>\n",
       "      <td>27.55</td>\n",
       "      <td>P</td>\n",
       "      <td>160</td>\n",
       "      <td>Worth Publishers</td>\n",
       "      <td>2011</td>\n",
       "      <td>1429233443</td>\n",
       "      <td>0.7</td>\n",
       "    </tr>\n",
       "    <tr>\n",
       "      <th>322</th>\n",
       "      <td>Why I wore lipstick</td>\n",
       "      <td>Geralyn Lucas</td>\n",
       "      <td>12.95</td>\n",
       "      <td>5.18</td>\n",
       "      <td>P</td>\n",
       "      <td>224</td>\n",
       "      <td>St Martin's Griffin</td>\n",
       "      <td>2005</td>\n",
       "      <td>031233446X</td>\n",
       "      <td>0.7</td>\n",
       "    </tr>\n",
       "    <tr>\n",
       "      <th>323</th>\n",
       "      <td>Worlds Together, Worlds Apart: A History of th...</td>\n",
       "      <td>Robert Tignor</td>\n",
       "      <td>97.50</td>\n",
       "      <td>97.50</td>\n",
       "      <td>P</td>\n",
       "      <td>480</td>\n",
       "      <td>W. W. Norton &amp; Company</td>\n",
       "      <td>2010</td>\n",
       "      <td>393934942</td>\n",
       "      <td>0.9</td>\n",
       "    </tr>\n",
       "    <tr>\n",
       "      <th>324</th>\n",
       "      <td>Wuthering Heights</td>\n",
       "      <td>Emily Bronte</td>\n",
       "      <td>16.99</td>\n",
       "      <td>4.95</td>\n",
       "      <td>P</td>\n",
       "      <td>344</td>\n",
       "      <td>CreatSpace</td>\n",
       "      <td>2011</td>\n",
       "      <td>1463533411</td>\n",
       "      <td>1.0</td>\n",
       "    </tr>\n",
       "  </tbody>\n",
       "</table>\n",
       "<p>319 rows × 10 columns</p>\n",
       "</div>"
      ],
      "text/plain": [
       "                                                 Title               Author  \\\n",
       "0    1,001 Facts that Will Scare the S#*t Out of Yo...          Cary McNeal   \n",
       "1    21: Bringing Down the House - Movie Tie-In: Th...          Ben Mezrich   \n",
       "2         100 Best-Loved Poems (Dover Thrift Editions)                Smith   \n",
       "3              1421: The Year China Discovered America        Gavin Menzies   \n",
       "4      1493: Uncovering the New World Columbus Created      Charles C. Mann   \n",
       "..                                                 ...                  ...   \n",
       "320                            Where the Sidewalk Ends     Shel Silverstein   \n",
       "321                                    White Privilege  Paula S. Rothenberg   \n",
       "322                                Why I wore lipstick        Geralyn Lucas   \n",
       "323  Worlds Together, Worlds Apart: A History of th...        Robert Tignor   \n",
       "324                                  Wuthering Heights         Emily Bronte   \n",
       "\n",
       "     List Price  Amazon Price Hard_or_Paper  NumPages               Publisher  \\\n",
       "0         12.95          5.18             P       304             Adams Media   \n",
       "1         15.00         10.20             P       273              Free Press   \n",
       "2          1.50          1.50             P        96      Dover Publications   \n",
       "3         15.99         10.87             P       672        Harper Perennial   \n",
       "4         30.50         16.77             P       720                   Knopf   \n",
       "..          ...           ...           ...       ...                     ...   \n",
       "320       18.99         12.24             H       192           HarperCollins   \n",
       "321       27.55         27.55             P       160        Worth Publishers   \n",
       "322       12.95          5.18             P       224     St Martin's Griffin   \n",
       "323       97.50         97.50             P       480  W. W. Norton & Company   \n",
       "324       16.99          4.95             P       344              CreatSpace   \n",
       "\n",
       "     Pub year     ISBN-10  Thick  \n",
       "0        2010  1605506249    0.8  \n",
       "1        2008  1416564195    0.7  \n",
       "2        1995   486285537    0.3  \n",
       "3        2008    61564893    1.6  \n",
       "4        2011   307265722    1.4  \n",
       "..        ...         ...    ...  \n",
       "320      2004    60572345    1.1  \n",
       "321      2011  1429233443    0.7  \n",
       "322      2005  031233446X    0.7  \n",
       "323      2010   393934942    0.9  \n",
       "324      2011  1463533411    1.0  \n",
       "\n",
       "[319 rows x 10 columns]"
      ]
     },
     "execution_count": 4,
     "metadata": {},
     "output_type": "execute_result"
    }
   ],
   "source": [
    "import pandas as pd\n",
    "ab = pd.read_csv(\"../amazonbooks.csv\", encoding=\"ISO-8859-1\")#.dropna()\n",
    "#print(ab.shape)\n",
    "#ab.isnull().sum()\n",
    "ab_noNaN = ab.drop(['Weight_oz','Width','Height'], axis=1).dropna()\n",
    "ab_noNaN['Pub year'] = ab_noNaN['Pub year'].astype(int)\n",
    "ab_noNaN['NumPages'] = ab_noNaN['NumPages'].astype(int)\n",
    "ab_noNaN['Hard_or_Paper'] = ab_noNaN['Hard_or_Paper'].astype(\"category\")\n",
    "#print(ab_noNaN.shape)\n",
    "#ab_noNaN.dtypes\n",
    "ab_noNaN"
   ]
  },
  {
   "cell_type": "code",
   "execution_count": null,
   "id": "9262d768",
   "metadata": {},
   "outputs": [],
   "source": []
  }
 ],
 "metadata": {
  "kernelspec": {
   "display_name": "Python 3 (ipykernel)",
   "language": "python",
   "name": "python3"
  },
  "language_info": {
   "codemirror_mode": {
    "name": "ipython",
    "version": 3
   },
   "file_extension": ".py",
   "mimetype": "text/x-python",
   "name": "python",
   "nbconvert_exporter": "python",
   "pygments_lexer": "ipython3",
   "version": "3.10.8"
  }
 },
 "nbformat": 4,
 "nbformat_minor": 5
}
