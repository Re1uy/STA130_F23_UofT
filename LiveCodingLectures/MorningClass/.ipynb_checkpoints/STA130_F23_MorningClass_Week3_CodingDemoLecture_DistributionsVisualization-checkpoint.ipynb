{
 "cells": [
  {
   "cell_type": "markdown",
   "id": "a4fc367e",
   "metadata": {},
   "source": [
    "# Distributions / Data Visualization\n",
    "- Definitions\n",
    "    - Sample / Population\n",
    "    - Statistics / Parameters \n",
    "        - `.describe()` and other aggregation functions\n",
    "- `import plotly.express as px`\n",
    "    - VS matplotlib(pandas), seaborn, ggplot (R but Python), shiny, bokeh, [The Pudding](https://pudding.cool) (`D3.js`), https://informationisbeautiful.net (\"Data Journalism\")\n",
    "    - `px.histogram` (`nbins`) \n",
    "        - skew, modality, heavy tailed, outliers... \n",
    "        - Relates ***statistics*** $\\bar x$ and ***sample variance*** $s^2$ (***sample standard deviation*** $s$)\n",
    "            - Corresponding ***parameters*** $\\mu$ and $\\sigma^2$ (and $\\sigma$)\n",
    "            - Parameters / Populations `from scipy import stats`\n",
    "    - Kernel Density Estimation: `import plotly.figure_factory as ff`\n",
    "    - `px.box` and `pd.melt` \n",
    "        - How boxplots define ***outliers***\n",
    "        - `pd.melt` different from `ff.create_distplot`\n",
    "\n",
    "\n",
    "    "
   ]
  },
  {
   "cell_type": "code",
   "execution_count": 11,
   "id": "bd683a9f",
   "metadata": {},
   "outputs": [
    {
     "name": "stdout",
     "output_type": "stream",
     "text": [
      "(325, 13)\n"
     ]
    },
    {
     "data": {
      "text/plain": [
       "Title            0\n",
       "Author           1\n",
       "List Price       1\n",
       "Amazon Price     0\n",
       "Hard_or_Paper    0\n",
       "NumPages         2\n",
       "Publisher        1\n",
       "Pub year         1\n",
       "ISBN-10          0\n",
       "Height           4\n",
       "Width            5\n",
       "Thick            1\n",
       "Weight_oz        9\n",
       "dtype: int64"
      ]
     },
     "execution_count": 11,
     "metadata": {},
     "output_type": "execute_result"
    }
   ],
   "source": [
    "import pandas as pd\n",
    "ab = pd.read_csv(\"../../amazonbooks.csv\", encoding=\"ISO-8859-1\")#.dropna()\n",
    "print(ab.shape)\n",
    "ab.isnull().sum()"
   ]
  },
  {
   "cell_type": "code",
   "execution_count": 13,
   "id": "d5b89a48",
   "metadata": {},
   "outputs": [
    {
     "name": "stdout",
     "output_type": "stream",
     "text": [
      "(319, 10)\n"
     ]
    },
    {
     "data": {
      "text/plain": [
       "Title              object\n",
       "Author             object\n",
       "List Price        float64\n",
       "Amazon Price      float64\n",
       "Hard_or_Paper    category\n",
       "NumPages            int64\n",
       "Publisher          object\n",
       "Pub year            int64\n",
       "ISBN-10            object\n",
       "Thick             float64\n",
       "dtype: object"
      ]
     },
     "execution_count": 13,
     "metadata": {},
     "output_type": "execute_result"
    }
   ],
   "source": [
    "ab_noNaN = ab.drop(['Weight_oz','Width','Height'], axis=1).dropna()\n",
    "ab_noNaN['Pub year'] = ab_noNaN['Pub year'].astype(int)\n",
    "ab_noNaN['NumPages'] = ab_noNaN['NumPages'].astype(int)\n",
    "ab_noNaN['Hard_or_Paper'] = ab_noNaN['Hard_or_Paper'].astype(\"category\")\n",
    "print(ab_noNaN.shape)\n",
    "ab_noNaN.dtypes"
   ]
  },
  {
   "cell_type": "code",
   "execution_count": 5,
   "id": "a69a27df",
   "metadata": {},
   "outputs": [
    {
     "data": {
      "text/plain": [
       "0      0.8\n",
       "1      0.7\n",
       "2      0.3\n",
       "3      1.6\n",
       "4      1.4\n",
       "      ... \n",
       "320    1.1\n",
       "321    0.7\n",
       "322    0.7\n",
       "323    0.9\n",
       "324    1.0\n",
       "Name: Thick, Length: 319, dtype: float64"
      ]
     },
     "execution_count": 5,
     "metadata": {},
     "output_type": "execute_result"
    }
   ],
   "source": [
    "ab_noNaN\n",
    "ab_noNaN.Thick"
   ]
  },
  {
   "cell_type": "code",
   "execution_count": 15,
   "id": "ec6dde96",
   "metadata": {},
   "outputs": [
    {
     "data": {
      "application/vnd.plotly.v1+json": {
       "config": {
        "plotlyServerURL": "https://plot.ly"
       },
       "data": [
        {
         "alignmentgroup": "True",
         "bingroup": "x",
         "hovertemplate": "Thick=%{x}<br>count=%{y}<extra></extra>",
         "legendgroup": "",
         "marker": {
          "color": "#636efa",
          "pattern": {
           "shape": ""
          }
         },
         "name": "",
         "nbinsx": 4,
         "offsetgroup": "",
         "orientation": "v",
         "showlegend": false,
         "type": "histogram",
         "x": [
          0.8,
          0.7,
          0.3,
          1.6,
          1.4,
          1.7,
          1.2,
          0.8,
          1.1,
          1.7,
          1.5,
          1.3,
          1,
          0.8,
          1,
          0.5,
          0.8,
          0.6,
          0.7,
          0.5,
          1.2,
          0.5,
          0.8,
          1.4,
          0.7,
          1.2,
          1.1,
          1,
          0.9,
          0.6,
          0.9,
          1.8,
          0.4,
          0.5,
          0.4,
          0.9,
          0.6,
          0.8,
          0.5,
          0.4,
          0.2,
          1.1,
          1,
          0.7,
          0.8,
          0.4,
          1.5,
          1,
          1.4,
          1.3,
          0.9,
          1.5,
          0.9,
          0.9,
          0.1,
          1.2,
          0.6,
          0.8,
          0.6,
          1.2,
          1.2,
          0.8,
          0.8,
          0.8,
          1.6,
          0.8,
          1.6,
          1,
          1,
          0.8,
          0.8,
          0.5,
          0.7,
          0.7,
          0.7,
          0.7,
          1,
          0.9,
          1.1,
          0.6,
          0.8,
          1.4,
          1.7,
          1.5,
          0.9,
          0.3,
          0.8,
          1,
          0.9,
          1.2,
          1.2,
          0.9,
          1.8,
          0.9,
          0.4,
          0.9,
          0.6,
          0.5,
          0.5,
          1,
          0.8,
          1.5,
          1.4,
          0.4,
          2.1,
          0.6,
          0.2,
          0.5,
          1.1,
          1.8,
          0.6,
          0.6,
          0.8,
          0.9,
          1.1,
          1.2,
          0.6,
          0.7,
          1,
          1,
          0.6,
          0.9,
          1.2,
          0.6,
          1.4,
          0.5,
          1,
          0.6,
          0.9,
          1.4,
          1.1,
          1,
          2,
          1,
          1.5,
          0.6,
          1,
          1.2,
          1,
          0.7,
          0.7,
          0.8,
          0.6,
          0.7,
          1,
          0.4,
          0.9,
          1.5,
          1,
          0.7,
          0.7,
          0.9,
          0.7,
          1.1,
          0.4,
          0.4,
          1.2,
          0.6,
          0.6,
          0.5,
          0.7,
          0.7,
          1.2,
          1.5,
          1,
          1,
          1.4,
          1.1,
          0.4,
          0.8,
          1.3,
          1,
          1,
          0.6,
          1.2,
          0.8,
          1,
          0.7,
          0.9,
          0.7,
          0.9,
          1.2,
          1.3,
          0.7,
          0.6,
          1.1,
          0.6,
          1,
          0.8,
          0.8,
          1.4,
          0.5,
          1.6,
          0.5,
          0.4,
          1.2,
          0.6,
          0.5,
          0.5,
          0.6,
          0.8,
          0.9,
          1.4,
          0.7,
          0.8,
          0.9,
          0.5,
          0.7,
          0.4,
          0.9,
          1.2,
          1.3,
          0.9,
          0.3,
          0.4,
          1.7,
          1,
          0.7,
          0.4,
          0.4,
          0.9,
          0.6,
          1.3,
          1,
          1.6,
          0.5,
          0.6,
          0.6,
          0.7,
          0.7,
          1.5,
          1.1,
          0.5,
          0.4,
          1.4,
          0.8,
          0.7,
          0.5,
          0.5,
          0.7,
          1.1,
          0.9,
          0.8,
          0.5,
          0.8,
          1.2,
          1.2,
          0.8,
          1,
          0.8,
          1.6,
          1.4,
          0.5,
          1,
          0.8,
          1.2,
          1.2,
          0.8,
          0.6,
          0.6,
          1.3,
          0.7,
          0.5,
          0.4,
          1.5,
          1.2,
          0.8,
          0.5,
          1.1,
          0.5,
          1.5,
          0.6,
          1,
          0.9,
          0.5,
          1,
          1,
          0.3,
          0.6,
          0.8,
          1.5,
          1,
          0.8,
          1,
          0.6,
          0.5,
          1.2,
          0.7,
          1.1,
          0.7,
          1.2,
          1.3,
          1.5,
          1.7,
          0.5,
          0.7,
          0.7,
          0.4,
          1,
          1,
          1.7,
          1.3,
          1.4,
          0.4,
          0.8,
          0.5,
          0.8,
          1.4,
          1.7,
          0.9,
          0.7,
          0.9,
          1,
          0.5,
          1.1,
          0.7,
          0.7,
          0.9,
          1
         ],
         "xaxis": "x",
         "yaxis": "y"
        }
       ],
       "layout": {
        "barmode": "relative",
        "legend": {
         "tracegroupgap": 0
        },
        "margin": {
         "t": 60
        },
        "template": {
         "data": {
          "bar": [
           {
            "error_x": {
             "color": "#2a3f5f"
            },
            "error_y": {
             "color": "#2a3f5f"
            },
            "marker": {
             "line": {
              "color": "#E5ECF6",
              "width": 0.5
             },
             "pattern": {
              "fillmode": "overlay",
              "size": 10,
              "solidity": 0.2
             }
            },
            "type": "bar"
           }
          ],
          "barpolar": [
           {
            "marker": {
             "line": {
              "color": "#E5ECF6",
              "width": 0.5
             },
             "pattern": {
              "fillmode": "overlay",
              "size": 10,
              "solidity": 0.2
             }
            },
            "type": "barpolar"
           }
          ],
          "carpet": [
           {
            "aaxis": {
             "endlinecolor": "#2a3f5f",
             "gridcolor": "white",
             "linecolor": "white",
             "minorgridcolor": "white",
             "startlinecolor": "#2a3f5f"
            },
            "baxis": {
             "endlinecolor": "#2a3f5f",
             "gridcolor": "white",
             "linecolor": "white",
             "minorgridcolor": "white",
             "startlinecolor": "#2a3f5f"
            },
            "type": "carpet"
           }
          ],
          "choropleth": [
           {
            "colorbar": {
             "outlinewidth": 0,
             "ticks": ""
            },
            "type": "choropleth"
           }
          ],
          "contour": [
           {
            "colorbar": {
             "outlinewidth": 0,
             "ticks": ""
            },
            "colorscale": [
             [
              0,
              "#0d0887"
             ],
             [
              0.1111111111111111,
              "#46039f"
             ],
             [
              0.2222222222222222,
              "#7201a8"
             ],
             [
              0.3333333333333333,
              "#9c179e"
             ],
             [
              0.4444444444444444,
              "#bd3786"
             ],
             [
              0.5555555555555556,
              "#d8576b"
             ],
             [
              0.6666666666666666,
              "#ed7953"
             ],
             [
              0.7777777777777778,
              "#fb9f3a"
             ],
             [
              0.8888888888888888,
              "#fdca26"
             ],
             [
              1,
              "#f0f921"
             ]
            ],
            "type": "contour"
           }
          ],
          "contourcarpet": [
           {
            "colorbar": {
             "outlinewidth": 0,
             "ticks": ""
            },
            "type": "contourcarpet"
           }
          ],
          "heatmap": [
           {
            "colorbar": {
             "outlinewidth": 0,
             "ticks": ""
            },
            "colorscale": [
             [
              0,
              "#0d0887"
             ],
             [
              0.1111111111111111,
              "#46039f"
             ],
             [
              0.2222222222222222,
              "#7201a8"
             ],
             [
              0.3333333333333333,
              "#9c179e"
             ],
             [
              0.4444444444444444,
              "#bd3786"
             ],
             [
              0.5555555555555556,
              "#d8576b"
             ],
             [
              0.6666666666666666,
              "#ed7953"
             ],
             [
              0.7777777777777778,
              "#fb9f3a"
             ],
             [
              0.8888888888888888,
              "#fdca26"
             ],
             [
              1,
              "#f0f921"
             ]
            ],
            "type": "heatmap"
           }
          ],
          "heatmapgl": [
           {
            "colorbar": {
             "outlinewidth": 0,
             "ticks": ""
            },
            "colorscale": [
             [
              0,
              "#0d0887"
             ],
             [
              0.1111111111111111,
              "#46039f"
             ],
             [
              0.2222222222222222,
              "#7201a8"
             ],
             [
              0.3333333333333333,
              "#9c179e"
             ],
             [
              0.4444444444444444,
              "#bd3786"
             ],
             [
              0.5555555555555556,
              "#d8576b"
             ],
             [
              0.6666666666666666,
              "#ed7953"
             ],
             [
              0.7777777777777778,
              "#fb9f3a"
             ],
             [
              0.8888888888888888,
              "#fdca26"
             ],
             [
              1,
              "#f0f921"
             ]
            ],
            "type": "heatmapgl"
           }
          ],
          "histogram": [
           {
            "marker": {
             "pattern": {
              "fillmode": "overlay",
              "size": 10,
              "solidity": 0.2
             }
            },
            "type": "histogram"
           }
          ],
          "histogram2d": [
           {
            "colorbar": {
             "outlinewidth": 0,
             "ticks": ""
            },
            "colorscale": [
             [
              0,
              "#0d0887"
             ],
             [
              0.1111111111111111,
              "#46039f"
             ],
             [
              0.2222222222222222,
              "#7201a8"
             ],
             [
              0.3333333333333333,
              "#9c179e"
             ],
             [
              0.4444444444444444,
              "#bd3786"
             ],
             [
              0.5555555555555556,
              "#d8576b"
             ],
             [
              0.6666666666666666,
              "#ed7953"
             ],
             [
              0.7777777777777778,
              "#fb9f3a"
             ],
             [
              0.8888888888888888,
              "#fdca26"
             ],
             [
              1,
              "#f0f921"
             ]
            ],
            "type": "histogram2d"
           }
          ],
          "histogram2dcontour": [
           {
            "colorbar": {
             "outlinewidth": 0,
             "ticks": ""
            },
            "colorscale": [
             [
              0,
              "#0d0887"
             ],
             [
              0.1111111111111111,
              "#46039f"
             ],
             [
              0.2222222222222222,
              "#7201a8"
             ],
             [
              0.3333333333333333,
              "#9c179e"
             ],
             [
              0.4444444444444444,
              "#bd3786"
             ],
             [
              0.5555555555555556,
              "#d8576b"
             ],
             [
              0.6666666666666666,
              "#ed7953"
             ],
             [
              0.7777777777777778,
              "#fb9f3a"
             ],
             [
              0.8888888888888888,
              "#fdca26"
             ],
             [
              1,
              "#f0f921"
             ]
            ],
            "type": "histogram2dcontour"
           }
          ],
          "mesh3d": [
           {
            "colorbar": {
             "outlinewidth": 0,
             "ticks": ""
            },
            "type": "mesh3d"
           }
          ],
          "parcoords": [
           {
            "line": {
             "colorbar": {
              "outlinewidth": 0,
              "ticks": ""
             }
            },
            "type": "parcoords"
           }
          ],
          "pie": [
           {
            "automargin": true,
            "type": "pie"
           }
          ],
          "scatter": [
           {
            "fillpattern": {
             "fillmode": "overlay",
             "size": 10,
             "solidity": 0.2
            },
            "type": "scatter"
           }
          ],
          "scatter3d": [
           {
            "line": {
             "colorbar": {
              "outlinewidth": 0,
              "ticks": ""
             }
            },
            "marker": {
             "colorbar": {
              "outlinewidth": 0,
              "ticks": ""
             }
            },
            "type": "scatter3d"
           }
          ],
          "scattercarpet": [
           {
            "marker": {
             "colorbar": {
              "outlinewidth": 0,
              "ticks": ""
             }
            },
            "type": "scattercarpet"
           }
          ],
          "scattergeo": [
           {
            "marker": {
             "colorbar": {
              "outlinewidth": 0,
              "ticks": ""
             }
            },
            "type": "scattergeo"
           }
          ],
          "scattergl": [
           {
            "marker": {
             "colorbar": {
              "outlinewidth": 0,
              "ticks": ""
             }
            },
            "type": "scattergl"
           }
          ],
          "scattermapbox": [
           {
            "marker": {
             "colorbar": {
              "outlinewidth": 0,
              "ticks": ""
             }
            },
            "type": "scattermapbox"
           }
          ],
          "scatterpolar": [
           {
            "marker": {
             "colorbar": {
              "outlinewidth": 0,
              "ticks": ""
             }
            },
            "type": "scatterpolar"
           }
          ],
          "scatterpolargl": [
           {
            "marker": {
             "colorbar": {
              "outlinewidth": 0,
              "ticks": ""
             }
            },
            "type": "scatterpolargl"
           }
          ],
          "scatterternary": [
           {
            "marker": {
             "colorbar": {
              "outlinewidth": 0,
              "ticks": ""
             }
            },
            "type": "scatterternary"
           }
          ],
          "surface": [
           {
            "colorbar": {
             "outlinewidth": 0,
             "ticks": ""
            },
            "colorscale": [
             [
              0,
              "#0d0887"
             ],
             [
              0.1111111111111111,
              "#46039f"
             ],
             [
              0.2222222222222222,
              "#7201a8"
             ],
             [
              0.3333333333333333,
              "#9c179e"
             ],
             [
              0.4444444444444444,
              "#bd3786"
             ],
             [
              0.5555555555555556,
              "#d8576b"
             ],
             [
              0.6666666666666666,
              "#ed7953"
             ],
             [
              0.7777777777777778,
              "#fb9f3a"
             ],
             [
              0.8888888888888888,
              "#fdca26"
             ],
             [
              1,
              "#f0f921"
             ]
            ],
            "type": "surface"
           }
          ],
          "table": [
           {
            "cells": {
             "fill": {
              "color": "#EBF0F8"
             },
             "line": {
              "color": "white"
             }
            },
            "header": {
             "fill": {
              "color": "#C8D4E3"
             },
             "line": {
              "color": "white"
             }
            },
            "type": "table"
           }
          ]
         },
         "layout": {
          "annotationdefaults": {
           "arrowcolor": "#2a3f5f",
           "arrowhead": 0,
           "arrowwidth": 1
          },
          "autotypenumbers": "strict",
          "coloraxis": {
           "colorbar": {
            "outlinewidth": 0,
            "ticks": ""
           }
          },
          "colorscale": {
           "diverging": [
            [
             0,
             "#8e0152"
            ],
            [
             0.1,
             "#c51b7d"
            ],
            [
             0.2,
             "#de77ae"
            ],
            [
             0.3,
             "#f1b6da"
            ],
            [
             0.4,
             "#fde0ef"
            ],
            [
             0.5,
             "#f7f7f7"
            ],
            [
             0.6,
             "#e6f5d0"
            ],
            [
             0.7,
             "#b8e186"
            ],
            [
             0.8,
             "#7fbc41"
            ],
            [
             0.9,
             "#4d9221"
            ],
            [
             1,
             "#276419"
            ]
           ],
           "sequential": [
            [
             0,
             "#0d0887"
            ],
            [
             0.1111111111111111,
             "#46039f"
            ],
            [
             0.2222222222222222,
             "#7201a8"
            ],
            [
             0.3333333333333333,
             "#9c179e"
            ],
            [
             0.4444444444444444,
             "#bd3786"
            ],
            [
             0.5555555555555556,
             "#d8576b"
            ],
            [
             0.6666666666666666,
             "#ed7953"
            ],
            [
             0.7777777777777778,
             "#fb9f3a"
            ],
            [
             0.8888888888888888,
             "#fdca26"
            ],
            [
             1,
             "#f0f921"
            ]
           ],
           "sequentialminus": [
            [
             0,
             "#0d0887"
            ],
            [
             0.1111111111111111,
             "#46039f"
            ],
            [
             0.2222222222222222,
             "#7201a8"
            ],
            [
             0.3333333333333333,
             "#9c179e"
            ],
            [
             0.4444444444444444,
             "#bd3786"
            ],
            [
             0.5555555555555556,
             "#d8576b"
            ],
            [
             0.6666666666666666,
             "#ed7953"
            ],
            [
             0.7777777777777778,
             "#fb9f3a"
            ],
            [
             0.8888888888888888,
             "#fdca26"
            ],
            [
             1,
             "#f0f921"
            ]
           ]
          },
          "colorway": [
           "#636efa",
           "#EF553B",
           "#00cc96",
           "#ab63fa",
           "#FFA15A",
           "#19d3f3",
           "#FF6692",
           "#B6E880",
           "#FF97FF",
           "#FECB52"
          ],
          "font": {
           "color": "#2a3f5f"
          },
          "geo": {
           "bgcolor": "white",
           "lakecolor": "white",
           "landcolor": "#E5ECF6",
           "showlakes": true,
           "showland": true,
           "subunitcolor": "white"
          },
          "hoverlabel": {
           "align": "left"
          },
          "hovermode": "closest",
          "mapbox": {
           "style": "light"
          },
          "paper_bgcolor": "white",
          "plot_bgcolor": "#E5ECF6",
          "polar": {
           "angularaxis": {
            "gridcolor": "white",
            "linecolor": "white",
            "ticks": ""
           },
           "bgcolor": "#E5ECF6",
           "radialaxis": {
            "gridcolor": "white",
            "linecolor": "white",
            "ticks": ""
           }
          },
          "scene": {
           "xaxis": {
            "backgroundcolor": "#E5ECF6",
            "gridcolor": "white",
            "gridwidth": 2,
            "linecolor": "white",
            "showbackground": true,
            "ticks": "",
            "zerolinecolor": "white"
           },
           "yaxis": {
            "backgroundcolor": "#E5ECF6",
            "gridcolor": "white",
            "gridwidth": 2,
            "linecolor": "white",
            "showbackground": true,
            "ticks": "",
            "zerolinecolor": "white"
           },
           "zaxis": {
            "backgroundcolor": "#E5ECF6",
            "gridcolor": "white",
            "gridwidth": 2,
            "linecolor": "white",
            "showbackground": true,
            "ticks": "",
            "zerolinecolor": "white"
           }
          },
          "shapedefaults": {
           "line": {
            "color": "#2a3f5f"
           }
          },
          "ternary": {
           "aaxis": {
            "gridcolor": "white",
            "linecolor": "white",
            "ticks": ""
           },
           "baxis": {
            "gridcolor": "white",
            "linecolor": "white",
            "ticks": ""
           },
           "bgcolor": "#E5ECF6",
           "caxis": {
            "gridcolor": "white",
            "linecolor": "white",
            "ticks": ""
           }
          },
          "title": {
           "x": 0.05
          },
          "xaxis": {
           "automargin": true,
           "gridcolor": "white",
           "linecolor": "white",
           "ticks": "",
           "title": {
            "standoff": 15
           },
           "zerolinecolor": "white",
           "zerolinewidth": 2
          },
          "yaxis": {
           "automargin": true,
           "gridcolor": "white",
           "linecolor": "white",
           "ticks": "",
           "title": {
            "standoff": 15
           },
           "zerolinecolor": "white",
           "zerolinewidth": 2
          }
         }
        },
        "xaxis": {
         "anchor": "y",
         "domain": [
          0,
          1
         ],
         "title": {
          "text": "Thick"
         }
        },
        "yaxis": {
         "anchor": "x",
         "domain": [
          0,
          1
         ],
         "title": {
          "text": "count"
         }
        }
       }
      },
      "text/html": [
       "<div>                            <div id=\"c69a9873-3af7-451e-8bd7-67cad7588a59\" class=\"plotly-graph-div\" style=\"height:525px; width:100%;\"></div>            <script type=\"text/javascript\">                require([\"plotly\"], function(Plotly) {                    window.PLOTLYENV=window.PLOTLYENV || {};                                    if (document.getElementById(\"c69a9873-3af7-451e-8bd7-67cad7588a59\")) {                    Plotly.newPlot(                        \"c69a9873-3af7-451e-8bd7-67cad7588a59\",                        [{\"alignmentgroup\":\"True\",\"bingroup\":\"x\",\"hovertemplate\":\"Thick=%{x}\\u003cbr\\u003ecount=%{y}\\u003cextra\\u003e\\u003c\\u002fextra\\u003e\",\"legendgroup\":\"\",\"marker\":{\"color\":\"#636efa\",\"pattern\":{\"shape\":\"\"}},\"name\":\"\",\"nbinsx\":4,\"offsetgroup\":\"\",\"orientation\":\"v\",\"showlegend\":false,\"x\":[0.8,0.7,0.3,1.6,1.4,1.7,1.2,0.8,1.1,1.7,1.5,1.3,1.0,0.8,1.0,0.5,0.8,0.6,0.7,0.5,1.2,0.5,0.8,1.4,0.7,1.2,1.1,1.0,0.9,0.6,0.9,1.8,0.4,0.5,0.4,0.9,0.6,0.8,0.5,0.4,0.2,1.1,1.0,0.7,0.8,0.4,1.5,1.0,1.4,1.3,0.9,1.5,0.9,0.9,0.1,1.2,0.6,0.8,0.6,1.2,1.2,0.8,0.8,0.8,1.6,0.8,1.6,1.0,1.0,0.8,0.8,0.5,0.7,0.7,0.7,0.7,1.0,0.9,1.1,0.6,0.8,1.4,1.7,1.5,0.9,0.3,0.8,1.0,0.9,1.2,1.2,0.9,1.8,0.9,0.4,0.9,0.6,0.5,0.5,1.0,0.8,1.5,1.4,0.4,2.1,0.6,0.2,0.5,1.1,1.8,0.6,0.6,0.8,0.9,1.1,1.2,0.6,0.7,1.0,1.0,0.6,0.9,1.2,0.6,1.4,0.5,1.0,0.6,0.9,1.4,1.1,1.0,2.0,1.0,1.5,0.6,1.0,1.2,1.0,0.7,0.7,0.8,0.6,0.7,1.0,0.4,0.9,1.5,1.0,0.7,0.7,0.9,0.7,1.1,0.4,0.4,1.2,0.6,0.6,0.5,0.7,0.7,1.2,1.5,1.0,1.0,1.4,1.1,0.4,0.8,1.3,1.0,1.0,0.6,1.2,0.8,1.0,0.7,0.9,0.7,0.9,1.2,1.3,0.7,0.6,1.1,0.6,1.0,0.8,0.8,1.4,0.5,1.6,0.5,0.4,1.2,0.6,0.5,0.5,0.6,0.8,0.9,1.4,0.7,0.8,0.9,0.5,0.7,0.4,0.9,1.2,1.3,0.9,0.3,0.4,1.7,1.0,0.7,0.4,0.4,0.9,0.6,1.3,1.0,1.6,0.5,0.6,0.6,0.7,0.7,1.5,1.1,0.5,0.4,1.4,0.8,0.7,0.5,0.5,0.7,1.1,0.9,0.8,0.5,0.8,1.2,1.2,0.8,1.0,0.8,1.6,1.4,0.5,1.0,0.8,1.2,1.2,0.8,0.6,0.6,1.3,0.7,0.5,0.4,1.5,1.2,0.8,0.5,1.1,0.5,1.5,0.6,1.0,0.9,0.5,1.0,1.0,0.3,0.6,0.8,1.5,1.0,0.8,1.0,0.6,0.5,1.2,0.7,1.1,0.7,1.2,1.3,1.5,1.7,0.5,0.7,0.7,0.4,1.0,1.0,1.7,1.3,1.4,0.4,0.8,0.5,0.8,1.4,1.7,0.9,0.7,0.9,1.0,0.5,1.1,0.7,0.7,0.9,1.0],\"xaxis\":\"x\",\"yaxis\":\"y\",\"type\":\"histogram\"}],                        {\"template\":{\"data\":{\"histogram2dcontour\":[{\"type\":\"histogram2dcontour\",\"colorbar\":{\"outlinewidth\":0,\"ticks\":\"\"},\"colorscale\":[[0.0,\"#0d0887\"],[0.1111111111111111,\"#46039f\"],[0.2222222222222222,\"#7201a8\"],[0.3333333333333333,\"#9c179e\"],[0.4444444444444444,\"#bd3786\"],[0.5555555555555556,\"#d8576b\"],[0.6666666666666666,\"#ed7953\"],[0.7777777777777778,\"#fb9f3a\"],[0.8888888888888888,\"#fdca26\"],[1.0,\"#f0f921\"]]}],\"choropleth\":[{\"type\":\"choropleth\",\"colorbar\":{\"outlinewidth\":0,\"ticks\":\"\"}}],\"histogram2d\":[{\"type\":\"histogram2d\",\"colorbar\":{\"outlinewidth\":0,\"ticks\":\"\"},\"colorscale\":[[0.0,\"#0d0887\"],[0.1111111111111111,\"#46039f\"],[0.2222222222222222,\"#7201a8\"],[0.3333333333333333,\"#9c179e\"],[0.4444444444444444,\"#bd3786\"],[0.5555555555555556,\"#d8576b\"],[0.6666666666666666,\"#ed7953\"],[0.7777777777777778,\"#fb9f3a\"],[0.8888888888888888,\"#fdca26\"],[1.0,\"#f0f921\"]]}],\"heatmap\":[{\"type\":\"heatmap\",\"colorbar\":{\"outlinewidth\":0,\"ticks\":\"\"},\"colorscale\":[[0.0,\"#0d0887\"],[0.1111111111111111,\"#46039f\"],[0.2222222222222222,\"#7201a8\"],[0.3333333333333333,\"#9c179e\"],[0.4444444444444444,\"#bd3786\"],[0.5555555555555556,\"#d8576b\"],[0.6666666666666666,\"#ed7953\"],[0.7777777777777778,\"#fb9f3a\"],[0.8888888888888888,\"#fdca26\"],[1.0,\"#f0f921\"]]}],\"heatmapgl\":[{\"type\":\"heatmapgl\",\"colorbar\":{\"outlinewidth\":0,\"ticks\":\"\"},\"colorscale\":[[0.0,\"#0d0887\"],[0.1111111111111111,\"#46039f\"],[0.2222222222222222,\"#7201a8\"],[0.3333333333333333,\"#9c179e\"],[0.4444444444444444,\"#bd3786\"],[0.5555555555555556,\"#d8576b\"],[0.6666666666666666,\"#ed7953\"],[0.7777777777777778,\"#fb9f3a\"],[0.8888888888888888,\"#fdca26\"],[1.0,\"#f0f921\"]]}],\"contourcarpet\":[{\"type\":\"contourcarpet\",\"colorbar\":{\"outlinewidth\":0,\"ticks\":\"\"}}],\"contour\":[{\"type\":\"contour\",\"colorbar\":{\"outlinewidth\":0,\"ticks\":\"\"},\"colorscale\":[[0.0,\"#0d0887\"],[0.1111111111111111,\"#46039f\"],[0.2222222222222222,\"#7201a8\"],[0.3333333333333333,\"#9c179e\"],[0.4444444444444444,\"#bd3786\"],[0.5555555555555556,\"#d8576b\"],[0.6666666666666666,\"#ed7953\"],[0.7777777777777778,\"#fb9f3a\"],[0.8888888888888888,\"#fdca26\"],[1.0,\"#f0f921\"]]}],\"surface\":[{\"type\":\"surface\",\"colorbar\":{\"outlinewidth\":0,\"ticks\":\"\"},\"colorscale\":[[0.0,\"#0d0887\"],[0.1111111111111111,\"#46039f\"],[0.2222222222222222,\"#7201a8\"],[0.3333333333333333,\"#9c179e\"],[0.4444444444444444,\"#bd3786\"],[0.5555555555555556,\"#d8576b\"],[0.6666666666666666,\"#ed7953\"],[0.7777777777777778,\"#fb9f3a\"],[0.8888888888888888,\"#fdca26\"],[1.0,\"#f0f921\"]]}],\"mesh3d\":[{\"type\":\"mesh3d\",\"colorbar\":{\"outlinewidth\":0,\"ticks\":\"\"}}],\"scatter\":[{\"fillpattern\":{\"fillmode\":\"overlay\",\"size\":10,\"solidity\":0.2},\"type\":\"scatter\"}],\"parcoords\":[{\"type\":\"parcoords\",\"line\":{\"colorbar\":{\"outlinewidth\":0,\"ticks\":\"\"}}}],\"scatterpolargl\":[{\"type\":\"scatterpolargl\",\"marker\":{\"colorbar\":{\"outlinewidth\":0,\"ticks\":\"\"}}}],\"bar\":[{\"error_x\":{\"color\":\"#2a3f5f\"},\"error_y\":{\"color\":\"#2a3f5f\"},\"marker\":{\"line\":{\"color\":\"#E5ECF6\",\"width\":0.5},\"pattern\":{\"fillmode\":\"overlay\",\"size\":10,\"solidity\":0.2}},\"type\":\"bar\"}],\"scattergeo\":[{\"type\":\"scattergeo\",\"marker\":{\"colorbar\":{\"outlinewidth\":0,\"ticks\":\"\"}}}],\"scatterpolar\":[{\"type\":\"scatterpolar\",\"marker\":{\"colorbar\":{\"outlinewidth\":0,\"ticks\":\"\"}}}],\"histogram\":[{\"marker\":{\"pattern\":{\"fillmode\":\"overlay\",\"size\":10,\"solidity\":0.2}},\"type\":\"histogram\"}],\"scattergl\":[{\"type\":\"scattergl\",\"marker\":{\"colorbar\":{\"outlinewidth\":0,\"ticks\":\"\"}}}],\"scatter3d\":[{\"type\":\"scatter3d\",\"line\":{\"colorbar\":{\"outlinewidth\":0,\"ticks\":\"\"}},\"marker\":{\"colorbar\":{\"outlinewidth\":0,\"ticks\":\"\"}}}],\"scattermapbox\":[{\"type\":\"scattermapbox\",\"marker\":{\"colorbar\":{\"outlinewidth\":0,\"ticks\":\"\"}}}],\"scatterternary\":[{\"type\":\"scatterternary\",\"marker\":{\"colorbar\":{\"outlinewidth\":0,\"ticks\":\"\"}}}],\"scattercarpet\":[{\"type\":\"scattercarpet\",\"marker\":{\"colorbar\":{\"outlinewidth\":0,\"ticks\":\"\"}}}],\"carpet\":[{\"aaxis\":{\"endlinecolor\":\"#2a3f5f\",\"gridcolor\":\"white\",\"linecolor\":\"white\",\"minorgridcolor\":\"white\",\"startlinecolor\":\"#2a3f5f\"},\"baxis\":{\"endlinecolor\":\"#2a3f5f\",\"gridcolor\":\"white\",\"linecolor\":\"white\",\"minorgridcolor\":\"white\",\"startlinecolor\":\"#2a3f5f\"},\"type\":\"carpet\"}],\"table\":[{\"cells\":{\"fill\":{\"color\":\"#EBF0F8\"},\"line\":{\"color\":\"white\"}},\"header\":{\"fill\":{\"color\":\"#C8D4E3\"},\"line\":{\"color\":\"white\"}},\"type\":\"table\"}],\"barpolar\":[{\"marker\":{\"line\":{\"color\":\"#E5ECF6\",\"width\":0.5},\"pattern\":{\"fillmode\":\"overlay\",\"size\":10,\"solidity\":0.2}},\"type\":\"barpolar\"}],\"pie\":[{\"automargin\":true,\"type\":\"pie\"}]},\"layout\":{\"autotypenumbers\":\"strict\",\"colorway\":[\"#636efa\",\"#EF553B\",\"#00cc96\",\"#ab63fa\",\"#FFA15A\",\"#19d3f3\",\"#FF6692\",\"#B6E880\",\"#FF97FF\",\"#FECB52\"],\"font\":{\"color\":\"#2a3f5f\"},\"hovermode\":\"closest\",\"hoverlabel\":{\"align\":\"left\"},\"paper_bgcolor\":\"white\",\"plot_bgcolor\":\"#E5ECF6\",\"polar\":{\"bgcolor\":\"#E5ECF6\",\"angularaxis\":{\"gridcolor\":\"white\",\"linecolor\":\"white\",\"ticks\":\"\"},\"radialaxis\":{\"gridcolor\":\"white\",\"linecolor\":\"white\",\"ticks\":\"\"}},\"ternary\":{\"bgcolor\":\"#E5ECF6\",\"aaxis\":{\"gridcolor\":\"white\",\"linecolor\":\"white\",\"ticks\":\"\"},\"baxis\":{\"gridcolor\":\"white\",\"linecolor\":\"white\",\"ticks\":\"\"},\"caxis\":{\"gridcolor\":\"white\",\"linecolor\":\"white\",\"ticks\":\"\"}},\"coloraxis\":{\"colorbar\":{\"outlinewidth\":0,\"ticks\":\"\"}},\"colorscale\":{\"sequential\":[[0.0,\"#0d0887\"],[0.1111111111111111,\"#46039f\"],[0.2222222222222222,\"#7201a8\"],[0.3333333333333333,\"#9c179e\"],[0.4444444444444444,\"#bd3786\"],[0.5555555555555556,\"#d8576b\"],[0.6666666666666666,\"#ed7953\"],[0.7777777777777778,\"#fb9f3a\"],[0.8888888888888888,\"#fdca26\"],[1.0,\"#f0f921\"]],\"sequentialminus\":[[0.0,\"#0d0887\"],[0.1111111111111111,\"#46039f\"],[0.2222222222222222,\"#7201a8\"],[0.3333333333333333,\"#9c179e\"],[0.4444444444444444,\"#bd3786\"],[0.5555555555555556,\"#d8576b\"],[0.6666666666666666,\"#ed7953\"],[0.7777777777777778,\"#fb9f3a\"],[0.8888888888888888,\"#fdca26\"],[1.0,\"#f0f921\"]],\"diverging\":[[0,\"#8e0152\"],[0.1,\"#c51b7d\"],[0.2,\"#de77ae\"],[0.3,\"#f1b6da\"],[0.4,\"#fde0ef\"],[0.5,\"#f7f7f7\"],[0.6,\"#e6f5d0\"],[0.7,\"#b8e186\"],[0.8,\"#7fbc41\"],[0.9,\"#4d9221\"],[1,\"#276419\"]]},\"xaxis\":{\"gridcolor\":\"white\",\"linecolor\":\"white\",\"ticks\":\"\",\"title\":{\"standoff\":15},\"zerolinecolor\":\"white\",\"automargin\":true,\"zerolinewidth\":2},\"yaxis\":{\"gridcolor\":\"white\",\"linecolor\":\"white\",\"ticks\":\"\",\"title\":{\"standoff\":15},\"zerolinecolor\":\"white\",\"automargin\":true,\"zerolinewidth\":2},\"scene\":{\"xaxis\":{\"backgroundcolor\":\"#E5ECF6\",\"gridcolor\":\"white\",\"linecolor\":\"white\",\"showbackground\":true,\"ticks\":\"\",\"zerolinecolor\":\"white\",\"gridwidth\":2},\"yaxis\":{\"backgroundcolor\":\"#E5ECF6\",\"gridcolor\":\"white\",\"linecolor\":\"white\",\"showbackground\":true,\"ticks\":\"\",\"zerolinecolor\":\"white\",\"gridwidth\":2},\"zaxis\":{\"backgroundcolor\":\"#E5ECF6\",\"gridcolor\":\"white\",\"linecolor\":\"white\",\"showbackground\":true,\"ticks\":\"\",\"zerolinecolor\":\"white\",\"gridwidth\":2}},\"shapedefaults\":{\"line\":{\"color\":\"#2a3f5f\"}},\"annotationdefaults\":{\"arrowcolor\":\"#2a3f5f\",\"arrowhead\":0,\"arrowwidth\":1},\"geo\":{\"bgcolor\":\"white\",\"landcolor\":\"#E5ECF6\",\"subunitcolor\":\"white\",\"showland\":true,\"showlakes\":true,\"lakecolor\":\"white\"},\"title\":{\"x\":0.05},\"mapbox\":{\"style\":\"light\"}}},\"xaxis\":{\"anchor\":\"y\",\"domain\":[0.0,1.0],\"title\":{\"text\":\"Thick\"}},\"yaxis\":{\"anchor\":\"x\",\"domain\":[0.0,1.0],\"title\":{\"text\":\"count\"}},\"legend\":{\"tracegroupgap\":0},\"margin\":{\"t\":60},\"barmode\":\"relative\"},                        {\"responsive\": true}                    ).then(function(){\n",
       "                            \n",
       "var gd = document.getElementById('c69a9873-3af7-451e-8bd7-67cad7588a59');\n",
       "var x = new MutationObserver(function (mutations, observer) {{\n",
       "        var display = window.getComputedStyle(gd).display;\n",
       "        if (!display || display === 'none') {{\n",
       "            console.log([gd, 'removed!']);\n",
       "            Plotly.purge(gd);\n",
       "            observer.disconnect();\n",
       "        }}\n",
       "}});\n",
       "\n",
       "// Listen for the removal of the full notebook cells\n",
       "var notebookContainer = gd.closest('#notebook-container');\n",
       "if (notebookContainer) {{\n",
       "    x.observe(notebookContainer, {childList: true});\n",
       "}}\n",
       "\n",
       "// Listen for the clearing of the current output cell\n",
       "var outputEl = gd.closest('.output');\n",
       "if (outputEl) {{\n",
       "    x.observe(outputEl, {childList: true});\n",
       "}}\n",
       "\n",
       "                        })                };                });            </script>        </div>"
      ]
     },
     "metadata": {},
     "output_type": "display_data"
    }
   ],
   "source": [
    "import plotly.express as px\n",
    "px.histogram(ab_noNaN, x='Thick', nbins=4)"
   ]
  },
  {
   "cell_type": "code",
   "execution_count": 16,
   "id": "a873ce62",
   "metadata": {},
   "outputs": [
    {
     "data": {
      "application/vnd.plotly.v1+json": {
       "config": {
        "plotlyServerURL": "https://plot.ly"
       },
       "data": [
        {
         "alignmentgroup": "True",
         "bingroup": "x",
         "hovertemplate": "Thick=%{x}<br>count=%{y}<extra></extra>",
         "legendgroup": "",
         "marker": {
          "color": "#636efa",
          "pattern": {
           "shape": ""
          }
         },
         "name": "",
         "offsetgroup": "",
         "orientation": "v",
         "showlegend": false,
         "type": "histogram",
         "x": [
          0.8,
          0.7,
          0.3,
          1.6,
          1.4,
          1.7,
          1.2,
          0.8,
          1.1,
          1.7,
          1.5,
          1.3,
          1,
          0.8,
          1,
          0.5,
          0.8,
          0.6,
          0.7,
          0.5,
          1.2,
          0.5,
          0.8,
          1.4,
          0.7,
          1.2,
          1.1,
          1,
          0.9,
          0.6,
          0.9,
          1.8,
          0.4,
          0.5,
          0.4,
          0.9,
          0.6,
          0.8,
          0.5,
          0.4,
          0.2,
          1.1,
          1,
          0.7,
          0.8,
          0.4,
          1.5,
          1,
          1.4,
          1.3,
          0.9,
          1.5,
          0.9,
          0.9,
          0.1,
          1.2,
          0.6,
          0.8,
          0.6,
          1.2,
          1.2,
          0.8,
          0.8,
          0.8,
          1.6,
          0.8,
          1.6,
          1,
          1,
          0.8,
          0.8,
          0.5,
          0.7,
          0.7,
          0.7,
          0.7,
          1,
          0.9,
          1.1,
          0.6,
          0.8,
          1.4,
          1.7,
          1.5,
          0.9,
          0.3,
          0.8,
          1,
          0.9,
          1.2,
          1.2,
          0.9,
          1.8,
          0.9,
          0.4,
          0.9,
          0.6,
          0.5,
          0.5,
          1,
          0.8,
          1.5,
          1.4,
          0.4,
          2.1,
          0.6,
          0.2,
          0.5,
          1.1,
          1.8,
          0.6,
          0.6,
          0.8,
          0.9,
          1.1,
          1.2,
          0.6,
          0.7,
          1,
          1,
          0.6,
          0.9,
          1.2,
          0.6,
          1.4,
          0.5,
          1,
          0.6,
          0.9,
          1.4,
          1.1,
          1,
          2,
          1,
          1.5,
          0.6,
          1,
          1.2,
          1,
          0.7,
          0.7,
          0.8,
          0.6,
          0.7,
          1,
          0.4,
          0.9,
          1.5,
          1,
          0.7,
          0.7,
          0.9,
          0.7,
          1.1,
          0.4,
          0.4,
          1.2,
          0.6,
          0.6,
          0.5,
          0.7,
          0.7,
          1.2,
          1.5,
          1,
          1,
          1.4,
          1.1,
          0.4,
          0.8,
          1.3,
          1,
          1,
          0.6,
          1.2,
          0.8,
          1,
          0.7,
          0.9,
          0.7,
          0.9,
          1.2,
          1.3,
          0.7,
          0.6,
          1.1,
          0.6,
          1,
          0.8,
          0.8,
          1.4,
          0.5,
          1.6,
          0.5,
          0.4,
          1.2,
          0.6,
          0.5,
          0.5,
          0.6,
          0.8,
          0.9,
          1.4,
          0.7,
          0.8,
          0.9,
          0.5,
          0.7,
          0.4,
          0.9,
          1.2,
          1.3,
          0.9,
          0.3,
          0.4,
          1.7,
          1,
          0.7,
          0.4,
          0.4,
          0.9,
          0.6,
          1.3,
          1,
          1.6,
          0.5,
          0.6,
          0.6,
          0.7,
          0.7,
          1.5,
          1.1,
          0.5,
          0.4,
          1.4,
          0.8,
          0.7,
          0.5,
          0.5,
          0.7,
          1.1,
          0.9,
          0.8,
          0.5,
          0.8,
          1.2,
          1.2,
          0.8,
          1,
          0.8,
          1.6,
          1.4,
          0.5,
          1,
          0.8,
          1.2,
          1.2,
          0.8,
          0.6,
          0.6,
          1.3,
          0.7,
          0.5,
          0.4,
          1.5,
          1.2,
          0.8,
          0.5,
          1.1,
          0.5,
          1.5,
          0.6,
          1,
          0.9,
          0.5,
          1,
          1,
          0.3,
          0.6,
          0.8,
          1.5,
          1,
          0.8,
          1,
          0.6,
          0.5,
          1.2,
          0.7,
          1.1,
          0.7,
          1.2,
          1.3,
          1.5,
          1.7,
          0.5,
          0.7,
          0.7,
          0.4,
          1,
          1,
          1.7,
          1.3,
          1.4,
          0.4,
          0.8,
          0.5,
          0.8,
          1.4,
          1.7,
          0.9,
          0.7,
          0.9,
          1,
          0.5,
          1.1,
          0.7,
          0.7,
          0.9,
          1
         ],
         "xaxis": "x",
         "yaxis": "y"
        }
       ],
       "layout": {
        "barmode": "relative",
        "legend": {
         "tracegroupgap": 0
        },
        "margin": {
         "t": 60
        },
        "template": {
         "data": {
          "bar": [
           {
            "error_x": {
             "color": "#2a3f5f"
            },
            "error_y": {
             "color": "#2a3f5f"
            },
            "marker": {
             "line": {
              "color": "#E5ECF6",
              "width": 0.5
             },
             "pattern": {
              "fillmode": "overlay",
              "size": 10,
              "solidity": 0.2
             }
            },
            "type": "bar"
           }
          ],
          "barpolar": [
           {
            "marker": {
             "line": {
              "color": "#E5ECF6",
              "width": 0.5
             },
             "pattern": {
              "fillmode": "overlay",
              "size": 10,
              "solidity": 0.2
             }
            },
            "type": "barpolar"
           }
          ],
          "carpet": [
           {
            "aaxis": {
             "endlinecolor": "#2a3f5f",
             "gridcolor": "white",
             "linecolor": "white",
             "minorgridcolor": "white",
             "startlinecolor": "#2a3f5f"
            },
            "baxis": {
             "endlinecolor": "#2a3f5f",
             "gridcolor": "white",
             "linecolor": "white",
             "minorgridcolor": "white",
             "startlinecolor": "#2a3f5f"
            },
            "type": "carpet"
           }
          ],
          "choropleth": [
           {
            "colorbar": {
             "outlinewidth": 0,
             "ticks": ""
            },
            "type": "choropleth"
           }
          ],
          "contour": [
           {
            "colorbar": {
             "outlinewidth": 0,
             "ticks": ""
            },
            "colorscale": [
             [
              0,
              "#0d0887"
             ],
             [
              0.1111111111111111,
              "#46039f"
             ],
             [
              0.2222222222222222,
              "#7201a8"
             ],
             [
              0.3333333333333333,
              "#9c179e"
             ],
             [
              0.4444444444444444,
              "#bd3786"
             ],
             [
              0.5555555555555556,
              "#d8576b"
             ],
             [
              0.6666666666666666,
              "#ed7953"
             ],
             [
              0.7777777777777778,
              "#fb9f3a"
             ],
             [
              0.8888888888888888,
              "#fdca26"
             ],
             [
              1,
              "#f0f921"
             ]
            ],
            "type": "contour"
           }
          ],
          "contourcarpet": [
           {
            "colorbar": {
             "outlinewidth": 0,
             "ticks": ""
            },
            "type": "contourcarpet"
           }
          ],
          "heatmap": [
           {
            "colorbar": {
             "outlinewidth": 0,
             "ticks": ""
            },
            "colorscale": [
             [
              0,
              "#0d0887"
             ],
             [
              0.1111111111111111,
              "#46039f"
             ],
             [
              0.2222222222222222,
              "#7201a8"
             ],
             [
              0.3333333333333333,
              "#9c179e"
             ],
             [
              0.4444444444444444,
              "#bd3786"
             ],
             [
              0.5555555555555556,
              "#d8576b"
             ],
             [
              0.6666666666666666,
              "#ed7953"
             ],
             [
              0.7777777777777778,
              "#fb9f3a"
             ],
             [
              0.8888888888888888,
              "#fdca26"
             ],
             [
              1,
              "#f0f921"
             ]
            ],
            "type": "heatmap"
           }
          ],
          "heatmapgl": [
           {
            "colorbar": {
             "outlinewidth": 0,
             "ticks": ""
            },
            "colorscale": [
             [
              0,
              "#0d0887"
             ],
             [
              0.1111111111111111,
              "#46039f"
             ],
             [
              0.2222222222222222,
              "#7201a8"
             ],
             [
              0.3333333333333333,
              "#9c179e"
             ],
             [
              0.4444444444444444,
              "#bd3786"
             ],
             [
              0.5555555555555556,
              "#d8576b"
             ],
             [
              0.6666666666666666,
              "#ed7953"
             ],
             [
              0.7777777777777778,
              "#fb9f3a"
             ],
             [
              0.8888888888888888,
              "#fdca26"
             ],
             [
              1,
              "#f0f921"
             ]
            ],
            "type": "heatmapgl"
           }
          ],
          "histogram": [
           {
            "marker": {
             "pattern": {
              "fillmode": "overlay",
              "size": 10,
              "solidity": 0.2
             }
            },
            "type": "histogram"
           }
          ],
          "histogram2d": [
           {
            "colorbar": {
             "outlinewidth": 0,
             "ticks": ""
            },
            "colorscale": [
             [
              0,
              "#0d0887"
             ],
             [
              0.1111111111111111,
              "#46039f"
             ],
             [
              0.2222222222222222,
              "#7201a8"
             ],
             [
              0.3333333333333333,
              "#9c179e"
             ],
             [
              0.4444444444444444,
              "#bd3786"
             ],
             [
              0.5555555555555556,
              "#d8576b"
             ],
             [
              0.6666666666666666,
              "#ed7953"
             ],
             [
              0.7777777777777778,
              "#fb9f3a"
             ],
             [
              0.8888888888888888,
              "#fdca26"
             ],
             [
              1,
              "#f0f921"
             ]
            ],
            "type": "histogram2d"
           }
          ],
          "histogram2dcontour": [
           {
            "colorbar": {
             "outlinewidth": 0,
             "ticks": ""
            },
            "colorscale": [
             [
              0,
              "#0d0887"
             ],
             [
              0.1111111111111111,
              "#46039f"
             ],
             [
              0.2222222222222222,
              "#7201a8"
             ],
             [
              0.3333333333333333,
              "#9c179e"
             ],
             [
              0.4444444444444444,
              "#bd3786"
             ],
             [
              0.5555555555555556,
              "#d8576b"
             ],
             [
              0.6666666666666666,
              "#ed7953"
             ],
             [
              0.7777777777777778,
              "#fb9f3a"
             ],
             [
              0.8888888888888888,
              "#fdca26"
             ],
             [
              1,
              "#f0f921"
             ]
            ],
            "type": "histogram2dcontour"
           }
          ],
          "mesh3d": [
           {
            "colorbar": {
             "outlinewidth": 0,
             "ticks": ""
            },
            "type": "mesh3d"
           }
          ],
          "parcoords": [
           {
            "line": {
             "colorbar": {
              "outlinewidth": 0,
              "ticks": ""
             }
            },
            "type": "parcoords"
           }
          ],
          "pie": [
           {
            "automargin": true,
            "type": "pie"
           }
          ],
          "scatter": [
           {
            "fillpattern": {
             "fillmode": "overlay",
             "size": 10,
             "solidity": 0.2
            },
            "type": "scatter"
           }
          ],
          "scatter3d": [
           {
            "line": {
             "colorbar": {
              "outlinewidth": 0,
              "ticks": ""
             }
            },
            "marker": {
             "colorbar": {
              "outlinewidth": 0,
              "ticks": ""
             }
            },
            "type": "scatter3d"
           }
          ],
          "scattercarpet": [
           {
            "marker": {
             "colorbar": {
              "outlinewidth": 0,
              "ticks": ""
             }
            },
            "type": "scattercarpet"
           }
          ],
          "scattergeo": [
           {
            "marker": {
             "colorbar": {
              "outlinewidth": 0,
              "ticks": ""
             }
            },
            "type": "scattergeo"
           }
          ],
          "scattergl": [
           {
            "marker": {
             "colorbar": {
              "outlinewidth": 0,
              "ticks": ""
             }
            },
            "type": "scattergl"
           }
          ],
          "scattermapbox": [
           {
            "marker": {
             "colorbar": {
              "outlinewidth": 0,
              "ticks": ""
             }
            },
            "type": "scattermapbox"
           }
          ],
          "scatterpolar": [
           {
            "marker": {
             "colorbar": {
              "outlinewidth": 0,
              "ticks": ""
             }
            },
            "type": "scatterpolar"
           }
          ],
          "scatterpolargl": [
           {
            "marker": {
             "colorbar": {
              "outlinewidth": 0,
              "ticks": ""
             }
            },
            "type": "scatterpolargl"
           }
          ],
          "scatterternary": [
           {
            "marker": {
             "colorbar": {
              "outlinewidth": 0,
              "ticks": ""
             }
            },
            "type": "scatterternary"
           }
          ],
          "surface": [
           {
            "colorbar": {
             "outlinewidth": 0,
             "ticks": ""
            },
            "colorscale": [
             [
              0,
              "#0d0887"
             ],
             [
              0.1111111111111111,
              "#46039f"
             ],
             [
              0.2222222222222222,
              "#7201a8"
             ],
             [
              0.3333333333333333,
              "#9c179e"
             ],
             [
              0.4444444444444444,
              "#bd3786"
             ],
             [
              0.5555555555555556,
              "#d8576b"
             ],
             [
              0.6666666666666666,
              "#ed7953"
             ],
             [
              0.7777777777777778,
              "#fb9f3a"
             ],
             [
              0.8888888888888888,
              "#fdca26"
             ],
             [
              1,
              "#f0f921"
             ]
            ],
            "type": "surface"
           }
          ],
          "table": [
           {
            "cells": {
             "fill": {
              "color": "#EBF0F8"
             },
             "line": {
              "color": "white"
             }
            },
            "header": {
             "fill": {
              "color": "#C8D4E3"
             },
             "line": {
              "color": "white"
             }
            },
            "type": "table"
           }
          ]
         },
         "layout": {
          "annotationdefaults": {
           "arrowcolor": "#2a3f5f",
           "arrowhead": 0,
           "arrowwidth": 1
          },
          "autotypenumbers": "strict",
          "coloraxis": {
           "colorbar": {
            "outlinewidth": 0,
            "ticks": ""
           }
          },
          "colorscale": {
           "diverging": [
            [
             0,
             "#8e0152"
            ],
            [
             0.1,
             "#c51b7d"
            ],
            [
             0.2,
             "#de77ae"
            ],
            [
             0.3,
             "#f1b6da"
            ],
            [
             0.4,
             "#fde0ef"
            ],
            [
             0.5,
             "#f7f7f7"
            ],
            [
             0.6,
             "#e6f5d0"
            ],
            [
             0.7,
             "#b8e186"
            ],
            [
             0.8,
             "#7fbc41"
            ],
            [
             0.9,
             "#4d9221"
            ],
            [
             1,
             "#276419"
            ]
           ],
           "sequential": [
            [
             0,
             "#0d0887"
            ],
            [
             0.1111111111111111,
             "#46039f"
            ],
            [
             0.2222222222222222,
             "#7201a8"
            ],
            [
             0.3333333333333333,
             "#9c179e"
            ],
            [
             0.4444444444444444,
             "#bd3786"
            ],
            [
             0.5555555555555556,
             "#d8576b"
            ],
            [
             0.6666666666666666,
             "#ed7953"
            ],
            [
             0.7777777777777778,
             "#fb9f3a"
            ],
            [
             0.8888888888888888,
             "#fdca26"
            ],
            [
             1,
             "#f0f921"
            ]
           ],
           "sequentialminus": [
            [
             0,
             "#0d0887"
            ],
            [
             0.1111111111111111,
             "#46039f"
            ],
            [
             0.2222222222222222,
             "#7201a8"
            ],
            [
             0.3333333333333333,
             "#9c179e"
            ],
            [
             0.4444444444444444,
             "#bd3786"
            ],
            [
             0.5555555555555556,
             "#d8576b"
            ],
            [
             0.6666666666666666,
             "#ed7953"
            ],
            [
             0.7777777777777778,
             "#fb9f3a"
            ],
            [
             0.8888888888888888,
             "#fdca26"
            ],
            [
             1,
             "#f0f921"
            ]
           ]
          },
          "colorway": [
           "#636efa",
           "#EF553B",
           "#00cc96",
           "#ab63fa",
           "#FFA15A",
           "#19d3f3",
           "#FF6692",
           "#B6E880",
           "#FF97FF",
           "#FECB52"
          ],
          "font": {
           "color": "#2a3f5f"
          },
          "geo": {
           "bgcolor": "white",
           "lakecolor": "white",
           "landcolor": "#E5ECF6",
           "showlakes": true,
           "showland": true,
           "subunitcolor": "white"
          },
          "hoverlabel": {
           "align": "left"
          },
          "hovermode": "closest",
          "mapbox": {
           "style": "light"
          },
          "paper_bgcolor": "white",
          "plot_bgcolor": "#E5ECF6",
          "polar": {
           "angularaxis": {
            "gridcolor": "white",
            "linecolor": "white",
            "ticks": ""
           },
           "bgcolor": "#E5ECF6",
           "radialaxis": {
            "gridcolor": "white",
            "linecolor": "white",
            "ticks": ""
           }
          },
          "scene": {
           "xaxis": {
            "backgroundcolor": "#E5ECF6",
            "gridcolor": "white",
            "gridwidth": 2,
            "linecolor": "white",
            "showbackground": true,
            "ticks": "",
            "zerolinecolor": "white"
           },
           "yaxis": {
            "backgroundcolor": "#E5ECF6",
            "gridcolor": "white",
            "gridwidth": 2,
            "linecolor": "white",
            "showbackground": true,
            "ticks": "",
            "zerolinecolor": "white"
           },
           "zaxis": {
            "backgroundcolor": "#E5ECF6",
            "gridcolor": "white",
            "gridwidth": 2,
            "linecolor": "white",
            "showbackground": true,
            "ticks": "",
            "zerolinecolor": "white"
           }
          },
          "shapedefaults": {
           "line": {
            "color": "#2a3f5f"
           }
          },
          "ternary": {
           "aaxis": {
            "gridcolor": "white",
            "linecolor": "white",
            "ticks": ""
           },
           "baxis": {
            "gridcolor": "white",
            "linecolor": "white",
            "ticks": ""
           },
           "bgcolor": "#E5ECF6",
           "caxis": {
            "gridcolor": "white",
            "linecolor": "white",
            "ticks": ""
           }
          },
          "title": {
           "x": 0.05
          },
          "xaxis": {
           "automargin": true,
           "gridcolor": "white",
           "linecolor": "white",
           "ticks": "",
           "title": {
            "standoff": 15
           },
           "zerolinecolor": "white",
           "zerolinewidth": 2
          },
          "yaxis": {
           "automargin": true,
           "gridcolor": "white",
           "linecolor": "white",
           "ticks": "",
           "title": {
            "standoff": 15
           },
           "zerolinecolor": "white",
           "zerolinewidth": 2
          }
         }
        },
        "xaxis": {
         "anchor": "y",
         "domain": [
          0,
          1
         ],
         "title": {
          "text": "Thick"
         }
        },
        "yaxis": {
         "anchor": "x",
         "domain": [
          0,
          1
         ],
         "title": {
          "text": "count"
         }
        }
       }
      },
      "text/html": [
       "<div>                            <div id=\"70562295-432d-4d64-8146-99ecc15d383f\" class=\"plotly-graph-div\" style=\"height:525px; width:100%;\"></div>            <script type=\"text/javascript\">                require([\"plotly\"], function(Plotly) {                    window.PLOTLYENV=window.PLOTLYENV || {};                                    if (document.getElementById(\"70562295-432d-4d64-8146-99ecc15d383f\")) {                    Plotly.newPlot(                        \"70562295-432d-4d64-8146-99ecc15d383f\",                        [{\"alignmentgroup\":\"True\",\"bingroup\":\"x\",\"hovertemplate\":\"Thick=%{x}\\u003cbr\\u003ecount=%{y}\\u003cextra\\u003e\\u003c\\u002fextra\\u003e\",\"legendgroup\":\"\",\"marker\":{\"color\":\"#636efa\",\"pattern\":{\"shape\":\"\"}},\"name\":\"\",\"offsetgroup\":\"\",\"orientation\":\"v\",\"showlegend\":false,\"x\":[0.8,0.7,0.3,1.6,1.4,1.7,1.2,0.8,1.1,1.7,1.5,1.3,1.0,0.8,1.0,0.5,0.8,0.6,0.7,0.5,1.2,0.5,0.8,1.4,0.7,1.2,1.1,1.0,0.9,0.6,0.9,1.8,0.4,0.5,0.4,0.9,0.6,0.8,0.5,0.4,0.2,1.1,1.0,0.7,0.8,0.4,1.5,1.0,1.4,1.3,0.9,1.5,0.9,0.9,0.1,1.2,0.6,0.8,0.6,1.2,1.2,0.8,0.8,0.8,1.6,0.8,1.6,1.0,1.0,0.8,0.8,0.5,0.7,0.7,0.7,0.7,1.0,0.9,1.1,0.6,0.8,1.4,1.7,1.5,0.9,0.3,0.8,1.0,0.9,1.2,1.2,0.9,1.8,0.9,0.4,0.9,0.6,0.5,0.5,1.0,0.8,1.5,1.4,0.4,2.1,0.6,0.2,0.5,1.1,1.8,0.6,0.6,0.8,0.9,1.1,1.2,0.6,0.7,1.0,1.0,0.6,0.9,1.2,0.6,1.4,0.5,1.0,0.6,0.9,1.4,1.1,1.0,2.0,1.0,1.5,0.6,1.0,1.2,1.0,0.7,0.7,0.8,0.6,0.7,1.0,0.4,0.9,1.5,1.0,0.7,0.7,0.9,0.7,1.1,0.4,0.4,1.2,0.6,0.6,0.5,0.7,0.7,1.2,1.5,1.0,1.0,1.4,1.1,0.4,0.8,1.3,1.0,1.0,0.6,1.2,0.8,1.0,0.7,0.9,0.7,0.9,1.2,1.3,0.7,0.6,1.1,0.6,1.0,0.8,0.8,1.4,0.5,1.6,0.5,0.4,1.2,0.6,0.5,0.5,0.6,0.8,0.9,1.4,0.7,0.8,0.9,0.5,0.7,0.4,0.9,1.2,1.3,0.9,0.3,0.4,1.7,1.0,0.7,0.4,0.4,0.9,0.6,1.3,1.0,1.6,0.5,0.6,0.6,0.7,0.7,1.5,1.1,0.5,0.4,1.4,0.8,0.7,0.5,0.5,0.7,1.1,0.9,0.8,0.5,0.8,1.2,1.2,0.8,1.0,0.8,1.6,1.4,0.5,1.0,0.8,1.2,1.2,0.8,0.6,0.6,1.3,0.7,0.5,0.4,1.5,1.2,0.8,0.5,1.1,0.5,1.5,0.6,1.0,0.9,0.5,1.0,1.0,0.3,0.6,0.8,1.5,1.0,0.8,1.0,0.6,0.5,1.2,0.7,1.1,0.7,1.2,1.3,1.5,1.7,0.5,0.7,0.7,0.4,1.0,1.0,1.7,1.3,1.4,0.4,0.8,0.5,0.8,1.4,1.7,0.9,0.7,0.9,1.0,0.5,1.1,0.7,0.7,0.9,1.0],\"xaxis\":\"x\",\"yaxis\":\"y\",\"type\":\"histogram\"}],                        {\"template\":{\"data\":{\"histogram2dcontour\":[{\"type\":\"histogram2dcontour\",\"colorbar\":{\"outlinewidth\":0,\"ticks\":\"\"},\"colorscale\":[[0.0,\"#0d0887\"],[0.1111111111111111,\"#46039f\"],[0.2222222222222222,\"#7201a8\"],[0.3333333333333333,\"#9c179e\"],[0.4444444444444444,\"#bd3786\"],[0.5555555555555556,\"#d8576b\"],[0.6666666666666666,\"#ed7953\"],[0.7777777777777778,\"#fb9f3a\"],[0.8888888888888888,\"#fdca26\"],[1.0,\"#f0f921\"]]}],\"choropleth\":[{\"type\":\"choropleth\",\"colorbar\":{\"outlinewidth\":0,\"ticks\":\"\"}}],\"histogram2d\":[{\"type\":\"histogram2d\",\"colorbar\":{\"outlinewidth\":0,\"ticks\":\"\"},\"colorscale\":[[0.0,\"#0d0887\"],[0.1111111111111111,\"#46039f\"],[0.2222222222222222,\"#7201a8\"],[0.3333333333333333,\"#9c179e\"],[0.4444444444444444,\"#bd3786\"],[0.5555555555555556,\"#d8576b\"],[0.6666666666666666,\"#ed7953\"],[0.7777777777777778,\"#fb9f3a\"],[0.8888888888888888,\"#fdca26\"],[1.0,\"#f0f921\"]]}],\"heatmap\":[{\"type\":\"heatmap\",\"colorbar\":{\"outlinewidth\":0,\"ticks\":\"\"},\"colorscale\":[[0.0,\"#0d0887\"],[0.1111111111111111,\"#46039f\"],[0.2222222222222222,\"#7201a8\"],[0.3333333333333333,\"#9c179e\"],[0.4444444444444444,\"#bd3786\"],[0.5555555555555556,\"#d8576b\"],[0.6666666666666666,\"#ed7953\"],[0.7777777777777778,\"#fb9f3a\"],[0.8888888888888888,\"#fdca26\"],[1.0,\"#f0f921\"]]}],\"heatmapgl\":[{\"type\":\"heatmapgl\",\"colorbar\":{\"outlinewidth\":0,\"ticks\":\"\"},\"colorscale\":[[0.0,\"#0d0887\"],[0.1111111111111111,\"#46039f\"],[0.2222222222222222,\"#7201a8\"],[0.3333333333333333,\"#9c179e\"],[0.4444444444444444,\"#bd3786\"],[0.5555555555555556,\"#d8576b\"],[0.6666666666666666,\"#ed7953\"],[0.7777777777777778,\"#fb9f3a\"],[0.8888888888888888,\"#fdca26\"],[1.0,\"#f0f921\"]]}],\"contourcarpet\":[{\"type\":\"contourcarpet\",\"colorbar\":{\"outlinewidth\":0,\"ticks\":\"\"}}],\"contour\":[{\"type\":\"contour\",\"colorbar\":{\"outlinewidth\":0,\"ticks\":\"\"},\"colorscale\":[[0.0,\"#0d0887\"],[0.1111111111111111,\"#46039f\"],[0.2222222222222222,\"#7201a8\"],[0.3333333333333333,\"#9c179e\"],[0.4444444444444444,\"#bd3786\"],[0.5555555555555556,\"#d8576b\"],[0.6666666666666666,\"#ed7953\"],[0.7777777777777778,\"#fb9f3a\"],[0.8888888888888888,\"#fdca26\"],[1.0,\"#f0f921\"]]}],\"surface\":[{\"type\":\"surface\",\"colorbar\":{\"outlinewidth\":0,\"ticks\":\"\"},\"colorscale\":[[0.0,\"#0d0887\"],[0.1111111111111111,\"#46039f\"],[0.2222222222222222,\"#7201a8\"],[0.3333333333333333,\"#9c179e\"],[0.4444444444444444,\"#bd3786\"],[0.5555555555555556,\"#d8576b\"],[0.6666666666666666,\"#ed7953\"],[0.7777777777777778,\"#fb9f3a\"],[0.8888888888888888,\"#fdca26\"],[1.0,\"#f0f921\"]]}],\"mesh3d\":[{\"type\":\"mesh3d\",\"colorbar\":{\"outlinewidth\":0,\"ticks\":\"\"}}],\"scatter\":[{\"fillpattern\":{\"fillmode\":\"overlay\",\"size\":10,\"solidity\":0.2},\"type\":\"scatter\"}],\"parcoords\":[{\"type\":\"parcoords\",\"line\":{\"colorbar\":{\"outlinewidth\":0,\"ticks\":\"\"}}}],\"scatterpolargl\":[{\"type\":\"scatterpolargl\",\"marker\":{\"colorbar\":{\"outlinewidth\":0,\"ticks\":\"\"}}}],\"bar\":[{\"error_x\":{\"color\":\"#2a3f5f\"},\"error_y\":{\"color\":\"#2a3f5f\"},\"marker\":{\"line\":{\"color\":\"#E5ECF6\",\"width\":0.5},\"pattern\":{\"fillmode\":\"overlay\",\"size\":10,\"solidity\":0.2}},\"type\":\"bar\"}],\"scattergeo\":[{\"type\":\"scattergeo\",\"marker\":{\"colorbar\":{\"outlinewidth\":0,\"ticks\":\"\"}}}],\"scatterpolar\":[{\"type\":\"scatterpolar\",\"marker\":{\"colorbar\":{\"outlinewidth\":0,\"ticks\":\"\"}}}],\"histogram\":[{\"marker\":{\"pattern\":{\"fillmode\":\"overlay\",\"size\":10,\"solidity\":0.2}},\"type\":\"histogram\"}],\"scattergl\":[{\"type\":\"scattergl\",\"marker\":{\"colorbar\":{\"outlinewidth\":0,\"ticks\":\"\"}}}],\"scatter3d\":[{\"type\":\"scatter3d\",\"line\":{\"colorbar\":{\"outlinewidth\":0,\"ticks\":\"\"}},\"marker\":{\"colorbar\":{\"outlinewidth\":0,\"ticks\":\"\"}}}],\"scattermapbox\":[{\"type\":\"scattermapbox\",\"marker\":{\"colorbar\":{\"outlinewidth\":0,\"ticks\":\"\"}}}],\"scatterternary\":[{\"type\":\"scatterternary\",\"marker\":{\"colorbar\":{\"outlinewidth\":0,\"ticks\":\"\"}}}],\"scattercarpet\":[{\"type\":\"scattercarpet\",\"marker\":{\"colorbar\":{\"outlinewidth\":0,\"ticks\":\"\"}}}],\"carpet\":[{\"aaxis\":{\"endlinecolor\":\"#2a3f5f\",\"gridcolor\":\"white\",\"linecolor\":\"white\",\"minorgridcolor\":\"white\",\"startlinecolor\":\"#2a3f5f\"},\"baxis\":{\"endlinecolor\":\"#2a3f5f\",\"gridcolor\":\"white\",\"linecolor\":\"white\",\"minorgridcolor\":\"white\",\"startlinecolor\":\"#2a3f5f\"},\"type\":\"carpet\"}],\"table\":[{\"cells\":{\"fill\":{\"color\":\"#EBF0F8\"},\"line\":{\"color\":\"white\"}},\"header\":{\"fill\":{\"color\":\"#C8D4E3\"},\"line\":{\"color\":\"white\"}},\"type\":\"table\"}],\"barpolar\":[{\"marker\":{\"line\":{\"color\":\"#E5ECF6\",\"width\":0.5},\"pattern\":{\"fillmode\":\"overlay\",\"size\":10,\"solidity\":0.2}},\"type\":\"barpolar\"}],\"pie\":[{\"automargin\":true,\"type\":\"pie\"}]},\"layout\":{\"autotypenumbers\":\"strict\",\"colorway\":[\"#636efa\",\"#EF553B\",\"#00cc96\",\"#ab63fa\",\"#FFA15A\",\"#19d3f3\",\"#FF6692\",\"#B6E880\",\"#FF97FF\",\"#FECB52\"],\"font\":{\"color\":\"#2a3f5f\"},\"hovermode\":\"closest\",\"hoverlabel\":{\"align\":\"left\"},\"paper_bgcolor\":\"white\",\"plot_bgcolor\":\"#E5ECF6\",\"polar\":{\"bgcolor\":\"#E5ECF6\",\"angularaxis\":{\"gridcolor\":\"white\",\"linecolor\":\"white\",\"ticks\":\"\"},\"radialaxis\":{\"gridcolor\":\"white\",\"linecolor\":\"white\",\"ticks\":\"\"}},\"ternary\":{\"bgcolor\":\"#E5ECF6\",\"aaxis\":{\"gridcolor\":\"white\",\"linecolor\":\"white\",\"ticks\":\"\"},\"baxis\":{\"gridcolor\":\"white\",\"linecolor\":\"white\",\"ticks\":\"\"},\"caxis\":{\"gridcolor\":\"white\",\"linecolor\":\"white\",\"ticks\":\"\"}},\"coloraxis\":{\"colorbar\":{\"outlinewidth\":0,\"ticks\":\"\"}},\"colorscale\":{\"sequential\":[[0.0,\"#0d0887\"],[0.1111111111111111,\"#46039f\"],[0.2222222222222222,\"#7201a8\"],[0.3333333333333333,\"#9c179e\"],[0.4444444444444444,\"#bd3786\"],[0.5555555555555556,\"#d8576b\"],[0.6666666666666666,\"#ed7953\"],[0.7777777777777778,\"#fb9f3a\"],[0.8888888888888888,\"#fdca26\"],[1.0,\"#f0f921\"]],\"sequentialminus\":[[0.0,\"#0d0887\"],[0.1111111111111111,\"#46039f\"],[0.2222222222222222,\"#7201a8\"],[0.3333333333333333,\"#9c179e\"],[0.4444444444444444,\"#bd3786\"],[0.5555555555555556,\"#d8576b\"],[0.6666666666666666,\"#ed7953\"],[0.7777777777777778,\"#fb9f3a\"],[0.8888888888888888,\"#fdca26\"],[1.0,\"#f0f921\"]],\"diverging\":[[0,\"#8e0152\"],[0.1,\"#c51b7d\"],[0.2,\"#de77ae\"],[0.3,\"#f1b6da\"],[0.4,\"#fde0ef\"],[0.5,\"#f7f7f7\"],[0.6,\"#e6f5d0\"],[0.7,\"#b8e186\"],[0.8,\"#7fbc41\"],[0.9,\"#4d9221\"],[1,\"#276419\"]]},\"xaxis\":{\"gridcolor\":\"white\",\"linecolor\":\"white\",\"ticks\":\"\",\"title\":{\"standoff\":15},\"zerolinecolor\":\"white\",\"automargin\":true,\"zerolinewidth\":2},\"yaxis\":{\"gridcolor\":\"white\",\"linecolor\":\"white\",\"ticks\":\"\",\"title\":{\"standoff\":15},\"zerolinecolor\":\"white\",\"automargin\":true,\"zerolinewidth\":2},\"scene\":{\"xaxis\":{\"backgroundcolor\":\"#E5ECF6\",\"gridcolor\":\"white\",\"linecolor\":\"white\",\"showbackground\":true,\"ticks\":\"\",\"zerolinecolor\":\"white\",\"gridwidth\":2},\"yaxis\":{\"backgroundcolor\":\"#E5ECF6\",\"gridcolor\":\"white\",\"linecolor\":\"white\",\"showbackground\":true,\"ticks\":\"\",\"zerolinecolor\":\"white\",\"gridwidth\":2},\"zaxis\":{\"backgroundcolor\":\"#E5ECF6\",\"gridcolor\":\"white\",\"linecolor\":\"white\",\"showbackground\":true,\"ticks\":\"\",\"zerolinecolor\":\"white\",\"gridwidth\":2}},\"shapedefaults\":{\"line\":{\"color\":\"#2a3f5f\"}},\"annotationdefaults\":{\"arrowcolor\":\"#2a3f5f\",\"arrowhead\":0,\"arrowwidth\":1},\"geo\":{\"bgcolor\":\"white\",\"landcolor\":\"#E5ECF6\",\"subunitcolor\":\"white\",\"showland\":true,\"showlakes\":true,\"lakecolor\":\"white\"},\"title\":{\"x\":0.05},\"mapbox\":{\"style\":\"light\"}}},\"xaxis\":{\"anchor\":\"y\",\"domain\":[0.0,1.0],\"title\":{\"text\":\"Thick\"}},\"yaxis\":{\"anchor\":\"x\",\"domain\":[0.0,1.0],\"title\":{\"text\":\"count\"}},\"legend\":{\"tracegroupgap\":0},\"margin\":{\"t\":60},\"barmode\":\"relative\"},                        {\"responsive\": true}                    ).then(function(){\n",
       "                            \n",
       "var gd = document.getElementById('70562295-432d-4d64-8146-99ecc15d383f');\n",
       "var x = new MutationObserver(function (mutations, observer) {{\n",
       "        var display = window.getComputedStyle(gd).display;\n",
       "        if (!display || display === 'none') {{\n",
       "            console.log([gd, 'removed!']);\n",
       "            Plotly.purge(gd);\n",
       "            observer.disconnect();\n",
       "        }}\n",
       "}});\n",
       "\n",
       "// Listen for the removal of the full notebook cells\n",
       "var notebookContainer = gd.closest('#notebook-container');\n",
       "if (notebookContainer) {{\n",
       "    x.observe(notebookContainer, {childList: true});\n",
       "}}\n",
       "\n",
       "// Listen for the clearing of the current output cell\n",
       "var outputEl = gd.closest('.output');\n",
       "if (outputEl) {{\n",
       "    x.observe(outputEl, {childList: true});\n",
       "}}\n",
       "\n",
       "                        })                };                });            </script>        </div>"
      ]
     },
     "metadata": {},
     "output_type": "display_data"
    }
   ],
   "source": [
    "px.histogram(ab_noNaN, x='Thick')"
   ]
  },
  {
   "cell_type": "code",
   "execution_count": 8,
   "id": "27fe9f50",
   "metadata": {},
   "outputs": [
    {
     "data": {
      "application/vnd.plotly.v1+json": {
       "config": {
        "plotlyServerURL": "https://plot.ly"
       },
       "data": [
        {
         "alignmentgroup": "True",
         "bingroup": "x",
         "hovertemplate": "Pub year=%{x}<br>count=%{y}<extra></extra>",
         "legendgroup": "",
         "marker": {
          "color": "#636efa",
          "pattern": {
           "shape": ""
          }
         },
         "name": "",
         "offsetgroup": "",
         "orientation": "v",
         "showlegend": false,
         "type": "histogram",
         "x": [
          2010,
          2008,
          1995,
          2008,
          2011,
          2011,
          2010,
          1987,
          1997,
          2001,
          2011,
          2008,
          1992,
          2000,
          2009,
          2003,
          2004,
          2004,
          1995,
          2000,
          2011,
          1997,
          2011,
          2003,
          1991,
          1990,
          2004,
          2011,
          2008,
          2009,
          1991,
          2007,
          2003,
          2005,
          2007,
          2009,
          1996,
          2004,
          2006,
          1993,
          2006,
          2009,
          2011,
          2006,
          2006,
          2008,
          2002,
          1998,
          1995,
          2011,
          2001,
          2009,
          1999,
          2001,
          1982,
          2007,
          2002,
          2007,
          2011,
          2010,
          2010,
          1996,
          2006,
          1991,
          2011,
          2001,
          2002,
          2011,
          1994,
          1990,
          1965,
          2003,
          2009,
          1987,
          1998,
          2005,
          1964,
          1999,
          2003,
          2011,
          2009,
          2011,
          2010,
          2011,
          2008,
          2011,
          1994,
          2006,
          2004,
          1993,
          2010,
          2010,
          2011,
          2008,
          1963,
          1998,
          2005,
          2008,
          2002,
          2007,
          2010,
          2011,
          2011,
          2007,
          2011,
          2006,
          2010,
          1999,
          1995,
          1995,
          1990,
          2011,
          1990,
          2007,
          2006,
          2000,
          1988,
          2006,
          2011,
          2003,
          2001,
          2002,
          2003,
          1959,
          2011,
          1967,
          2010,
          2006,
          2005,
          2010,
          2001,
          1999,
          2011,
          2004,
          2010,
          1955,
          2004,
          2005,
          1987,
          1994,
          1989,
          2000,
          1989,
          1998,
          2010,
          2002,
          2010,
          2010,
          1979,
          1989,
          1999,
          2006,
          2008,
          2003,
          2004,
          2005,
          2007,
          2011,
          1989,
          2007,
          2011,
          1995,
          2011,
          2009,
          2010,
          2003,
          2005,
          1997,
          1964,
          2000,
          2010,
          2004,
          2011,
          2000,
          2010,
          2005,
          2011,
          1993,
          2008,
          2010,
          2002,
          2004,
          2011,
          2010,
          1999,
          2010,
          1993,
          1992,
          1989,
          2010,
          2011,
          2008,
          2010,
          2010,
          2002,
          2011,
          1989,
          2010,
          2011,
          1998,
          2009,
          2009,
          1992,
          1995,
          2009,
          1993,
          2011,
          1982,
          1999,
          2009,
          1988,
          2007,
          2004,
          2009,
          1957,
          2002,
          1997,
          1963,
          1976,
          2006,
          2005,
          2009,
          2009,
          2011,
          2011,
          1998,
          2006,
          2002,
          2003,
          2010,
          2010,
          2009,
          2004,
          1999,
          2008,
          2010,
          1996,
          1999,
          1999,
          2009,
          1994,
          2004,
          2011,
          1991,
          2010,
          2008,
          2011,
          2011,
          1996,
          2003,
          2003,
          2011,
          1999,
          2007,
          2010,
          2010,
          2011,
          2010,
          1996,
          1990,
          1985,
          2010,
          1998,
          2001,
          1999,
          2010,
          1995,
          1997,
          2011,
          1999,
          2011,
          2004,
          2006,
          2010,
          2008,
          2011,
          2003,
          1993,
          1997,
          2001,
          2009,
          2010,
          1993,
          1992,
          1996,
          1936,
          2006,
          2009,
          2011,
          2005,
          2004,
          2011,
          2011,
          2010,
          2002,
          2006,
          2006,
          2009,
          2011,
          2011,
          2011,
          2006,
          2011,
          1993,
          2002,
          1994,
          1996,
          2008,
          2010,
          2001,
          2000,
          2005,
          2007,
          1993,
          2004,
          2011,
          2005,
          2010,
          2011
         ],
         "xaxis": "x",
         "yaxis": "y"
        }
       ],
       "layout": {
        "barmode": "relative",
        "legend": {
         "tracegroupgap": 0
        },
        "margin": {
         "t": 60
        },
        "template": {
         "data": {
          "bar": [
           {
            "error_x": {
             "color": "#2a3f5f"
            },
            "error_y": {
             "color": "#2a3f5f"
            },
            "marker": {
             "line": {
              "color": "#E5ECF6",
              "width": 0.5
             },
             "pattern": {
              "fillmode": "overlay",
              "size": 10,
              "solidity": 0.2
             }
            },
            "type": "bar"
           }
          ],
          "barpolar": [
           {
            "marker": {
             "line": {
              "color": "#E5ECF6",
              "width": 0.5
             },
             "pattern": {
              "fillmode": "overlay",
              "size": 10,
              "solidity": 0.2
             }
            },
            "type": "barpolar"
           }
          ],
          "carpet": [
           {
            "aaxis": {
             "endlinecolor": "#2a3f5f",
             "gridcolor": "white",
             "linecolor": "white",
             "minorgridcolor": "white",
             "startlinecolor": "#2a3f5f"
            },
            "baxis": {
             "endlinecolor": "#2a3f5f",
             "gridcolor": "white",
             "linecolor": "white",
             "minorgridcolor": "white",
             "startlinecolor": "#2a3f5f"
            },
            "type": "carpet"
           }
          ],
          "choropleth": [
           {
            "colorbar": {
             "outlinewidth": 0,
             "ticks": ""
            },
            "type": "choropleth"
           }
          ],
          "contour": [
           {
            "colorbar": {
             "outlinewidth": 0,
             "ticks": ""
            },
            "colorscale": [
             [
              0,
              "#0d0887"
             ],
             [
              0.1111111111111111,
              "#46039f"
             ],
             [
              0.2222222222222222,
              "#7201a8"
             ],
             [
              0.3333333333333333,
              "#9c179e"
             ],
             [
              0.4444444444444444,
              "#bd3786"
             ],
             [
              0.5555555555555556,
              "#d8576b"
             ],
             [
              0.6666666666666666,
              "#ed7953"
             ],
             [
              0.7777777777777778,
              "#fb9f3a"
             ],
             [
              0.8888888888888888,
              "#fdca26"
             ],
             [
              1,
              "#f0f921"
             ]
            ],
            "type": "contour"
           }
          ],
          "contourcarpet": [
           {
            "colorbar": {
             "outlinewidth": 0,
             "ticks": ""
            },
            "type": "contourcarpet"
           }
          ],
          "heatmap": [
           {
            "colorbar": {
             "outlinewidth": 0,
             "ticks": ""
            },
            "colorscale": [
             [
              0,
              "#0d0887"
             ],
             [
              0.1111111111111111,
              "#46039f"
             ],
             [
              0.2222222222222222,
              "#7201a8"
             ],
             [
              0.3333333333333333,
              "#9c179e"
             ],
             [
              0.4444444444444444,
              "#bd3786"
             ],
             [
              0.5555555555555556,
              "#d8576b"
             ],
             [
              0.6666666666666666,
              "#ed7953"
             ],
             [
              0.7777777777777778,
              "#fb9f3a"
             ],
             [
              0.8888888888888888,
              "#fdca26"
             ],
             [
              1,
              "#f0f921"
             ]
            ],
            "type": "heatmap"
           }
          ],
          "heatmapgl": [
           {
            "colorbar": {
             "outlinewidth": 0,
             "ticks": ""
            },
            "colorscale": [
             [
              0,
              "#0d0887"
             ],
             [
              0.1111111111111111,
              "#46039f"
             ],
             [
              0.2222222222222222,
              "#7201a8"
             ],
             [
              0.3333333333333333,
              "#9c179e"
             ],
             [
              0.4444444444444444,
              "#bd3786"
             ],
             [
              0.5555555555555556,
              "#d8576b"
             ],
             [
              0.6666666666666666,
              "#ed7953"
             ],
             [
              0.7777777777777778,
              "#fb9f3a"
             ],
             [
              0.8888888888888888,
              "#fdca26"
             ],
             [
              1,
              "#f0f921"
             ]
            ],
            "type": "heatmapgl"
           }
          ],
          "histogram": [
           {
            "marker": {
             "pattern": {
              "fillmode": "overlay",
              "size": 10,
              "solidity": 0.2
             }
            },
            "type": "histogram"
           }
          ],
          "histogram2d": [
           {
            "colorbar": {
             "outlinewidth": 0,
             "ticks": ""
            },
            "colorscale": [
             [
              0,
              "#0d0887"
             ],
             [
              0.1111111111111111,
              "#46039f"
             ],
             [
              0.2222222222222222,
              "#7201a8"
             ],
             [
              0.3333333333333333,
              "#9c179e"
             ],
             [
              0.4444444444444444,
              "#bd3786"
             ],
             [
              0.5555555555555556,
              "#d8576b"
             ],
             [
              0.6666666666666666,
              "#ed7953"
             ],
             [
              0.7777777777777778,
              "#fb9f3a"
             ],
             [
              0.8888888888888888,
              "#fdca26"
             ],
             [
              1,
              "#f0f921"
             ]
            ],
            "type": "histogram2d"
           }
          ],
          "histogram2dcontour": [
           {
            "colorbar": {
             "outlinewidth": 0,
             "ticks": ""
            },
            "colorscale": [
             [
              0,
              "#0d0887"
             ],
             [
              0.1111111111111111,
              "#46039f"
             ],
             [
              0.2222222222222222,
              "#7201a8"
             ],
             [
              0.3333333333333333,
              "#9c179e"
             ],
             [
              0.4444444444444444,
              "#bd3786"
             ],
             [
              0.5555555555555556,
              "#d8576b"
             ],
             [
              0.6666666666666666,
              "#ed7953"
             ],
             [
              0.7777777777777778,
              "#fb9f3a"
             ],
             [
              0.8888888888888888,
              "#fdca26"
             ],
             [
              1,
              "#f0f921"
             ]
            ],
            "type": "histogram2dcontour"
           }
          ],
          "mesh3d": [
           {
            "colorbar": {
             "outlinewidth": 0,
             "ticks": ""
            },
            "type": "mesh3d"
           }
          ],
          "parcoords": [
           {
            "line": {
             "colorbar": {
              "outlinewidth": 0,
              "ticks": ""
             }
            },
            "type": "parcoords"
           }
          ],
          "pie": [
           {
            "automargin": true,
            "type": "pie"
           }
          ],
          "scatter": [
           {
            "fillpattern": {
             "fillmode": "overlay",
             "size": 10,
             "solidity": 0.2
            },
            "type": "scatter"
           }
          ],
          "scatter3d": [
           {
            "line": {
             "colorbar": {
              "outlinewidth": 0,
              "ticks": ""
             }
            },
            "marker": {
             "colorbar": {
              "outlinewidth": 0,
              "ticks": ""
             }
            },
            "type": "scatter3d"
           }
          ],
          "scattercarpet": [
           {
            "marker": {
             "colorbar": {
              "outlinewidth": 0,
              "ticks": ""
             }
            },
            "type": "scattercarpet"
           }
          ],
          "scattergeo": [
           {
            "marker": {
             "colorbar": {
              "outlinewidth": 0,
              "ticks": ""
             }
            },
            "type": "scattergeo"
           }
          ],
          "scattergl": [
           {
            "marker": {
             "colorbar": {
              "outlinewidth": 0,
              "ticks": ""
             }
            },
            "type": "scattergl"
           }
          ],
          "scattermapbox": [
           {
            "marker": {
             "colorbar": {
              "outlinewidth": 0,
              "ticks": ""
             }
            },
            "type": "scattermapbox"
           }
          ],
          "scatterpolar": [
           {
            "marker": {
             "colorbar": {
              "outlinewidth": 0,
              "ticks": ""
             }
            },
            "type": "scatterpolar"
           }
          ],
          "scatterpolargl": [
           {
            "marker": {
             "colorbar": {
              "outlinewidth": 0,
              "ticks": ""
             }
            },
            "type": "scatterpolargl"
           }
          ],
          "scatterternary": [
           {
            "marker": {
             "colorbar": {
              "outlinewidth": 0,
              "ticks": ""
             }
            },
            "type": "scatterternary"
           }
          ],
          "surface": [
           {
            "colorbar": {
             "outlinewidth": 0,
             "ticks": ""
            },
            "colorscale": [
             [
              0,
              "#0d0887"
             ],
             [
              0.1111111111111111,
              "#46039f"
             ],
             [
              0.2222222222222222,
              "#7201a8"
             ],
             [
              0.3333333333333333,
              "#9c179e"
             ],
             [
              0.4444444444444444,
              "#bd3786"
             ],
             [
              0.5555555555555556,
              "#d8576b"
             ],
             [
              0.6666666666666666,
              "#ed7953"
             ],
             [
              0.7777777777777778,
              "#fb9f3a"
             ],
             [
              0.8888888888888888,
              "#fdca26"
             ],
             [
              1,
              "#f0f921"
             ]
            ],
            "type": "surface"
           }
          ],
          "table": [
           {
            "cells": {
             "fill": {
              "color": "#EBF0F8"
             },
             "line": {
              "color": "white"
             }
            },
            "header": {
             "fill": {
              "color": "#C8D4E3"
             },
             "line": {
              "color": "white"
             }
            },
            "type": "table"
           }
          ]
         },
         "layout": {
          "annotationdefaults": {
           "arrowcolor": "#2a3f5f",
           "arrowhead": 0,
           "arrowwidth": 1
          },
          "autotypenumbers": "strict",
          "coloraxis": {
           "colorbar": {
            "outlinewidth": 0,
            "ticks": ""
           }
          },
          "colorscale": {
           "diverging": [
            [
             0,
             "#8e0152"
            ],
            [
             0.1,
             "#c51b7d"
            ],
            [
             0.2,
             "#de77ae"
            ],
            [
             0.3,
             "#f1b6da"
            ],
            [
             0.4,
             "#fde0ef"
            ],
            [
             0.5,
             "#f7f7f7"
            ],
            [
             0.6,
             "#e6f5d0"
            ],
            [
             0.7,
             "#b8e186"
            ],
            [
             0.8,
             "#7fbc41"
            ],
            [
             0.9,
             "#4d9221"
            ],
            [
             1,
             "#276419"
            ]
           ],
           "sequential": [
            [
             0,
             "#0d0887"
            ],
            [
             0.1111111111111111,
             "#46039f"
            ],
            [
             0.2222222222222222,
             "#7201a8"
            ],
            [
             0.3333333333333333,
             "#9c179e"
            ],
            [
             0.4444444444444444,
             "#bd3786"
            ],
            [
             0.5555555555555556,
             "#d8576b"
            ],
            [
             0.6666666666666666,
             "#ed7953"
            ],
            [
             0.7777777777777778,
             "#fb9f3a"
            ],
            [
             0.8888888888888888,
             "#fdca26"
            ],
            [
             1,
             "#f0f921"
            ]
           ],
           "sequentialminus": [
            [
             0,
             "#0d0887"
            ],
            [
             0.1111111111111111,
             "#46039f"
            ],
            [
             0.2222222222222222,
             "#7201a8"
            ],
            [
             0.3333333333333333,
             "#9c179e"
            ],
            [
             0.4444444444444444,
             "#bd3786"
            ],
            [
             0.5555555555555556,
             "#d8576b"
            ],
            [
             0.6666666666666666,
             "#ed7953"
            ],
            [
             0.7777777777777778,
             "#fb9f3a"
            ],
            [
             0.8888888888888888,
             "#fdca26"
            ],
            [
             1,
             "#f0f921"
            ]
           ]
          },
          "colorway": [
           "#636efa",
           "#EF553B",
           "#00cc96",
           "#ab63fa",
           "#FFA15A",
           "#19d3f3",
           "#FF6692",
           "#B6E880",
           "#FF97FF",
           "#FECB52"
          ],
          "font": {
           "color": "#2a3f5f"
          },
          "geo": {
           "bgcolor": "white",
           "lakecolor": "white",
           "landcolor": "#E5ECF6",
           "showlakes": true,
           "showland": true,
           "subunitcolor": "white"
          },
          "hoverlabel": {
           "align": "left"
          },
          "hovermode": "closest",
          "mapbox": {
           "style": "light"
          },
          "paper_bgcolor": "white",
          "plot_bgcolor": "#E5ECF6",
          "polar": {
           "angularaxis": {
            "gridcolor": "white",
            "linecolor": "white",
            "ticks": ""
           },
           "bgcolor": "#E5ECF6",
           "radialaxis": {
            "gridcolor": "white",
            "linecolor": "white",
            "ticks": ""
           }
          },
          "scene": {
           "xaxis": {
            "backgroundcolor": "#E5ECF6",
            "gridcolor": "white",
            "gridwidth": 2,
            "linecolor": "white",
            "showbackground": true,
            "ticks": "",
            "zerolinecolor": "white"
           },
           "yaxis": {
            "backgroundcolor": "#E5ECF6",
            "gridcolor": "white",
            "gridwidth": 2,
            "linecolor": "white",
            "showbackground": true,
            "ticks": "",
            "zerolinecolor": "white"
           },
           "zaxis": {
            "backgroundcolor": "#E5ECF6",
            "gridcolor": "white",
            "gridwidth": 2,
            "linecolor": "white",
            "showbackground": true,
            "ticks": "",
            "zerolinecolor": "white"
           }
          },
          "shapedefaults": {
           "line": {
            "color": "#2a3f5f"
           }
          },
          "ternary": {
           "aaxis": {
            "gridcolor": "white",
            "linecolor": "white",
            "ticks": ""
           },
           "baxis": {
            "gridcolor": "white",
            "linecolor": "white",
            "ticks": ""
           },
           "bgcolor": "#E5ECF6",
           "caxis": {
            "gridcolor": "white",
            "linecolor": "white",
            "ticks": ""
           }
          },
          "title": {
           "x": 0.05
          },
          "xaxis": {
           "automargin": true,
           "gridcolor": "white",
           "linecolor": "white",
           "ticks": "",
           "title": {
            "standoff": 15
           },
           "zerolinecolor": "white",
           "zerolinewidth": 2
          },
          "yaxis": {
           "automargin": true,
           "gridcolor": "white",
           "linecolor": "white",
           "ticks": "",
           "title": {
            "standoff": 15
           },
           "zerolinecolor": "white",
           "zerolinewidth": 2
          }
         }
        },
        "xaxis": {
         "anchor": "y",
         "domain": [
          0,
          1
         ],
         "title": {
          "text": "Pub year"
         }
        },
        "yaxis": {
         "anchor": "x",
         "domain": [
          0,
          1
         ],
         "title": {
          "text": "count"
         }
        }
       }
      },
      "text/html": [
       "<div>                            <div id=\"f6f09001-c88d-4dfc-a85b-0fd8bad6bf5a\" class=\"plotly-graph-div\" style=\"height:525px; width:100%;\"></div>            <script type=\"text/javascript\">                require([\"plotly\"], function(Plotly) {                    window.PLOTLYENV=window.PLOTLYENV || {};                                    if (document.getElementById(\"f6f09001-c88d-4dfc-a85b-0fd8bad6bf5a\")) {                    Plotly.newPlot(                        \"f6f09001-c88d-4dfc-a85b-0fd8bad6bf5a\",                        [{\"alignmentgroup\":\"True\",\"bingroup\":\"x\",\"hovertemplate\":\"Pub year=%{x}\\u003cbr\\u003ecount=%{y}\\u003cextra\\u003e\\u003c\\u002fextra\\u003e\",\"legendgroup\":\"\",\"marker\":{\"color\":\"#636efa\",\"pattern\":{\"shape\":\"\"}},\"name\":\"\",\"offsetgroup\":\"\",\"orientation\":\"v\",\"showlegend\":false,\"x\":[2010,2008,1995,2008,2011,2011,2010,1987,1997,2001,2011,2008,1992,2000,2009,2003,2004,2004,1995,2000,2011,1997,2011,2003,1991,1990,2004,2011,2008,2009,1991,2007,2003,2005,2007,2009,1996,2004,2006,1993,2006,2009,2011,2006,2006,2008,2002,1998,1995,2011,2001,2009,1999,2001,1982,2007,2002,2007,2011,2010,2010,1996,2006,1991,2011,2001,2002,2011,1994,1990,1965,2003,2009,1987,1998,2005,1964,1999,2003,2011,2009,2011,2010,2011,2008,2011,1994,2006,2004,1993,2010,2010,2011,2008,1963,1998,2005,2008,2002,2007,2010,2011,2011,2007,2011,2006,2010,1999,1995,1995,1990,2011,1990,2007,2006,2000,1988,2006,2011,2003,2001,2002,2003,1959,2011,1967,2010,2006,2005,2010,2001,1999,2011,2004,2010,1955,2004,2005,1987,1994,1989,2000,1989,1998,2010,2002,2010,2010,1979,1989,1999,2006,2008,2003,2004,2005,2007,2011,1989,2007,2011,1995,2011,2009,2010,2003,2005,1997,1964,2000,2010,2004,2011,2000,2010,2005,2011,1993,2008,2010,2002,2004,2011,2010,1999,2010,1993,1992,1989,2010,2011,2008,2010,2010,2002,2011,1989,2010,2011,1998,2009,2009,1992,1995,2009,1993,2011,1982,1999,2009,1988,2007,2004,2009,1957,2002,1997,1963,1976,2006,2005,2009,2009,2011,2011,1998,2006,2002,2003,2010,2010,2009,2004,1999,2008,2010,1996,1999,1999,2009,1994,2004,2011,1991,2010,2008,2011,2011,1996,2003,2003,2011,1999,2007,2010,2010,2011,2010,1996,1990,1985,2010,1998,2001,1999,2010,1995,1997,2011,1999,2011,2004,2006,2010,2008,2011,2003,1993,1997,2001,2009,2010,1993,1992,1996,1936,2006,2009,2011,2005,2004,2011,2011,2010,2002,2006,2006,2009,2011,2011,2011,2006,2011,1993,2002,1994,1996,2008,2010,2001,2000,2005,2007,1993,2004,2011,2005,2010,2011],\"xaxis\":\"x\",\"yaxis\":\"y\",\"type\":\"histogram\"}],                        {\"template\":{\"data\":{\"histogram2dcontour\":[{\"type\":\"histogram2dcontour\",\"colorbar\":{\"outlinewidth\":0,\"ticks\":\"\"},\"colorscale\":[[0.0,\"#0d0887\"],[0.1111111111111111,\"#46039f\"],[0.2222222222222222,\"#7201a8\"],[0.3333333333333333,\"#9c179e\"],[0.4444444444444444,\"#bd3786\"],[0.5555555555555556,\"#d8576b\"],[0.6666666666666666,\"#ed7953\"],[0.7777777777777778,\"#fb9f3a\"],[0.8888888888888888,\"#fdca26\"],[1.0,\"#f0f921\"]]}],\"choropleth\":[{\"type\":\"choropleth\",\"colorbar\":{\"outlinewidth\":0,\"ticks\":\"\"}}],\"histogram2d\":[{\"type\":\"histogram2d\",\"colorbar\":{\"outlinewidth\":0,\"ticks\":\"\"},\"colorscale\":[[0.0,\"#0d0887\"],[0.1111111111111111,\"#46039f\"],[0.2222222222222222,\"#7201a8\"],[0.3333333333333333,\"#9c179e\"],[0.4444444444444444,\"#bd3786\"],[0.5555555555555556,\"#d8576b\"],[0.6666666666666666,\"#ed7953\"],[0.7777777777777778,\"#fb9f3a\"],[0.8888888888888888,\"#fdca26\"],[1.0,\"#f0f921\"]]}],\"heatmap\":[{\"type\":\"heatmap\",\"colorbar\":{\"outlinewidth\":0,\"ticks\":\"\"},\"colorscale\":[[0.0,\"#0d0887\"],[0.1111111111111111,\"#46039f\"],[0.2222222222222222,\"#7201a8\"],[0.3333333333333333,\"#9c179e\"],[0.4444444444444444,\"#bd3786\"],[0.5555555555555556,\"#d8576b\"],[0.6666666666666666,\"#ed7953\"],[0.7777777777777778,\"#fb9f3a\"],[0.8888888888888888,\"#fdca26\"],[1.0,\"#f0f921\"]]}],\"heatmapgl\":[{\"type\":\"heatmapgl\",\"colorbar\":{\"outlinewidth\":0,\"ticks\":\"\"},\"colorscale\":[[0.0,\"#0d0887\"],[0.1111111111111111,\"#46039f\"],[0.2222222222222222,\"#7201a8\"],[0.3333333333333333,\"#9c179e\"],[0.4444444444444444,\"#bd3786\"],[0.5555555555555556,\"#d8576b\"],[0.6666666666666666,\"#ed7953\"],[0.7777777777777778,\"#fb9f3a\"],[0.8888888888888888,\"#fdca26\"],[1.0,\"#f0f921\"]]}],\"contourcarpet\":[{\"type\":\"contourcarpet\",\"colorbar\":{\"outlinewidth\":0,\"ticks\":\"\"}}],\"contour\":[{\"type\":\"contour\",\"colorbar\":{\"outlinewidth\":0,\"ticks\":\"\"},\"colorscale\":[[0.0,\"#0d0887\"],[0.1111111111111111,\"#46039f\"],[0.2222222222222222,\"#7201a8\"],[0.3333333333333333,\"#9c179e\"],[0.4444444444444444,\"#bd3786\"],[0.5555555555555556,\"#d8576b\"],[0.6666666666666666,\"#ed7953\"],[0.7777777777777778,\"#fb9f3a\"],[0.8888888888888888,\"#fdca26\"],[1.0,\"#f0f921\"]]}],\"surface\":[{\"type\":\"surface\",\"colorbar\":{\"outlinewidth\":0,\"ticks\":\"\"},\"colorscale\":[[0.0,\"#0d0887\"],[0.1111111111111111,\"#46039f\"],[0.2222222222222222,\"#7201a8\"],[0.3333333333333333,\"#9c179e\"],[0.4444444444444444,\"#bd3786\"],[0.5555555555555556,\"#d8576b\"],[0.6666666666666666,\"#ed7953\"],[0.7777777777777778,\"#fb9f3a\"],[0.8888888888888888,\"#fdca26\"],[1.0,\"#f0f921\"]]}],\"mesh3d\":[{\"type\":\"mesh3d\",\"colorbar\":{\"outlinewidth\":0,\"ticks\":\"\"}}],\"scatter\":[{\"fillpattern\":{\"fillmode\":\"overlay\",\"size\":10,\"solidity\":0.2},\"type\":\"scatter\"}],\"parcoords\":[{\"type\":\"parcoords\",\"line\":{\"colorbar\":{\"outlinewidth\":0,\"ticks\":\"\"}}}],\"scatterpolargl\":[{\"type\":\"scatterpolargl\",\"marker\":{\"colorbar\":{\"outlinewidth\":0,\"ticks\":\"\"}}}],\"bar\":[{\"error_x\":{\"color\":\"#2a3f5f\"},\"error_y\":{\"color\":\"#2a3f5f\"},\"marker\":{\"line\":{\"color\":\"#E5ECF6\",\"width\":0.5},\"pattern\":{\"fillmode\":\"overlay\",\"size\":10,\"solidity\":0.2}},\"type\":\"bar\"}],\"scattergeo\":[{\"type\":\"scattergeo\",\"marker\":{\"colorbar\":{\"outlinewidth\":0,\"ticks\":\"\"}}}],\"scatterpolar\":[{\"type\":\"scatterpolar\",\"marker\":{\"colorbar\":{\"outlinewidth\":0,\"ticks\":\"\"}}}],\"histogram\":[{\"marker\":{\"pattern\":{\"fillmode\":\"overlay\",\"size\":10,\"solidity\":0.2}},\"type\":\"histogram\"}],\"scattergl\":[{\"type\":\"scattergl\",\"marker\":{\"colorbar\":{\"outlinewidth\":0,\"ticks\":\"\"}}}],\"scatter3d\":[{\"type\":\"scatter3d\",\"line\":{\"colorbar\":{\"outlinewidth\":0,\"ticks\":\"\"}},\"marker\":{\"colorbar\":{\"outlinewidth\":0,\"ticks\":\"\"}}}],\"scattermapbox\":[{\"type\":\"scattermapbox\",\"marker\":{\"colorbar\":{\"outlinewidth\":0,\"ticks\":\"\"}}}],\"scatterternary\":[{\"type\":\"scatterternary\",\"marker\":{\"colorbar\":{\"outlinewidth\":0,\"ticks\":\"\"}}}],\"scattercarpet\":[{\"type\":\"scattercarpet\",\"marker\":{\"colorbar\":{\"outlinewidth\":0,\"ticks\":\"\"}}}],\"carpet\":[{\"aaxis\":{\"endlinecolor\":\"#2a3f5f\",\"gridcolor\":\"white\",\"linecolor\":\"white\",\"minorgridcolor\":\"white\",\"startlinecolor\":\"#2a3f5f\"},\"baxis\":{\"endlinecolor\":\"#2a3f5f\",\"gridcolor\":\"white\",\"linecolor\":\"white\",\"minorgridcolor\":\"white\",\"startlinecolor\":\"#2a3f5f\"},\"type\":\"carpet\"}],\"table\":[{\"cells\":{\"fill\":{\"color\":\"#EBF0F8\"},\"line\":{\"color\":\"white\"}},\"header\":{\"fill\":{\"color\":\"#C8D4E3\"},\"line\":{\"color\":\"white\"}},\"type\":\"table\"}],\"barpolar\":[{\"marker\":{\"line\":{\"color\":\"#E5ECF6\",\"width\":0.5},\"pattern\":{\"fillmode\":\"overlay\",\"size\":10,\"solidity\":0.2}},\"type\":\"barpolar\"}],\"pie\":[{\"automargin\":true,\"type\":\"pie\"}]},\"layout\":{\"autotypenumbers\":\"strict\",\"colorway\":[\"#636efa\",\"#EF553B\",\"#00cc96\",\"#ab63fa\",\"#FFA15A\",\"#19d3f3\",\"#FF6692\",\"#B6E880\",\"#FF97FF\",\"#FECB52\"],\"font\":{\"color\":\"#2a3f5f\"},\"hovermode\":\"closest\",\"hoverlabel\":{\"align\":\"left\"},\"paper_bgcolor\":\"white\",\"plot_bgcolor\":\"#E5ECF6\",\"polar\":{\"bgcolor\":\"#E5ECF6\",\"angularaxis\":{\"gridcolor\":\"white\",\"linecolor\":\"white\",\"ticks\":\"\"},\"radialaxis\":{\"gridcolor\":\"white\",\"linecolor\":\"white\",\"ticks\":\"\"}},\"ternary\":{\"bgcolor\":\"#E5ECF6\",\"aaxis\":{\"gridcolor\":\"white\",\"linecolor\":\"white\",\"ticks\":\"\"},\"baxis\":{\"gridcolor\":\"white\",\"linecolor\":\"white\",\"ticks\":\"\"},\"caxis\":{\"gridcolor\":\"white\",\"linecolor\":\"white\",\"ticks\":\"\"}},\"coloraxis\":{\"colorbar\":{\"outlinewidth\":0,\"ticks\":\"\"}},\"colorscale\":{\"sequential\":[[0.0,\"#0d0887\"],[0.1111111111111111,\"#46039f\"],[0.2222222222222222,\"#7201a8\"],[0.3333333333333333,\"#9c179e\"],[0.4444444444444444,\"#bd3786\"],[0.5555555555555556,\"#d8576b\"],[0.6666666666666666,\"#ed7953\"],[0.7777777777777778,\"#fb9f3a\"],[0.8888888888888888,\"#fdca26\"],[1.0,\"#f0f921\"]],\"sequentialminus\":[[0.0,\"#0d0887\"],[0.1111111111111111,\"#46039f\"],[0.2222222222222222,\"#7201a8\"],[0.3333333333333333,\"#9c179e\"],[0.4444444444444444,\"#bd3786\"],[0.5555555555555556,\"#d8576b\"],[0.6666666666666666,\"#ed7953\"],[0.7777777777777778,\"#fb9f3a\"],[0.8888888888888888,\"#fdca26\"],[1.0,\"#f0f921\"]],\"diverging\":[[0,\"#8e0152\"],[0.1,\"#c51b7d\"],[0.2,\"#de77ae\"],[0.3,\"#f1b6da\"],[0.4,\"#fde0ef\"],[0.5,\"#f7f7f7\"],[0.6,\"#e6f5d0\"],[0.7,\"#b8e186\"],[0.8,\"#7fbc41\"],[0.9,\"#4d9221\"],[1,\"#276419\"]]},\"xaxis\":{\"gridcolor\":\"white\",\"linecolor\":\"white\",\"ticks\":\"\",\"title\":{\"standoff\":15},\"zerolinecolor\":\"white\",\"automargin\":true,\"zerolinewidth\":2},\"yaxis\":{\"gridcolor\":\"white\",\"linecolor\":\"white\",\"ticks\":\"\",\"title\":{\"standoff\":15},\"zerolinecolor\":\"white\",\"automargin\":true,\"zerolinewidth\":2},\"scene\":{\"xaxis\":{\"backgroundcolor\":\"#E5ECF6\",\"gridcolor\":\"white\",\"linecolor\":\"white\",\"showbackground\":true,\"ticks\":\"\",\"zerolinecolor\":\"white\",\"gridwidth\":2},\"yaxis\":{\"backgroundcolor\":\"#E5ECF6\",\"gridcolor\":\"white\",\"linecolor\":\"white\",\"showbackground\":true,\"ticks\":\"\",\"zerolinecolor\":\"white\",\"gridwidth\":2},\"zaxis\":{\"backgroundcolor\":\"#E5ECF6\",\"gridcolor\":\"white\",\"linecolor\":\"white\",\"showbackground\":true,\"ticks\":\"\",\"zerolinecolor\":\"white\",\"gridwidth\":2}},\"shapedefaults\":{\"line\":{\"color\":\"#2a3f5f\"}},\"annotationdefaults\":{\"arrowcolor\":\"#2a3f5f\",\"arrowhead\":0,\"arrowwidth\":1},\"geo\":{\"bgcolor\":\"white\",\"landcolor\":\"#E5ECF6\",\"subunitcolor\":\"white\",\"showland\":true,\"showlakes\":true,\"lakecolor\":\"white\"},\"title\":{\"x\":0.05},\"mapbox\":{\"style\":\"light\"}}},\"xaxis\":{\"anchor\":\"y\",\"domain\":[0.0,1.0],\"title\":{\"text\":\"Pub year\"}},\"yaxis\":{\"anchor\":\"x\",\"domain\":[0.0,1.0],\"title\":{\"text\":\"count\"}},\"legend\":{\"tracegroupgap\":0},\"margin\":{\"t\":60},\"barmode\":\"relative\"},                        {\"responsive\": true}                    ).then(function(){\n",
       "                            \n",
       "var gd = document.getElementById('f6f09001-c88d-4dfc-a85b-0fd8bad6bf5a');\n",
       "var x = new MutationObserver(function (mutations, observer) {{\n",
       "        var display = window.getComputedStyle(gd).display;\n",
       "        if (!display || display === 'none') {{\n",
       "            console.log([gd, 'removed!']);\n",
       "            Plotly.purge(gd);\n",
       "            observer.disconnect();\n",
       "        }}\n",
       "}});\n",
       "\n",
       "// Listen for the removal of the full notebook cells\n",
       "var notebookContainer = gd.closest('#notebook-container');\n",
       "if (notebookContainer) {{\n",
       "    x.observe(notebookContainer, {childList: true});\n",
       "}}\n",
       "\n",
       "// Listen for the clearing of the current output cell\n",
       "var outputEl = gd.closest('.output');\n",
       "if (outputEl) {{\n",
       "    x.observe(outputEl, {childList: true});\n",
       "}}\n",
       "\n",
       "                        })                };                });            </script>        </div>"
      ]
     },
     "metadata": {},
     "output_type": "display_data"
    }
   ],
   "source": [
    "px.histogram(ab_noNaN, x='Pub year')"
   ]
  },
  {
   "cell_type": "code",
   "execution_count": 14,
   "id": "1b099968",
   "metadata": {},
   "outputs": [
    {
     "data": {
      "application/vnd.plotly.v1+json": {
       "config": {
        "plotlyServerURL": "https://plot.ly"
       },
       "data": [
        {
         "alignmentgroup": "True",
         "bingroup": "x",
         "hovertemplate": "Hard_or_Paper=%{x}<br>count=%{y}<extra></extra>",
         "legendgroup": "",
         "marker": {
          "color": "#636efa",
          "pattern": {
           "shape": ""
          }
         },
         "name": "",
         "offsetgroup": "",
         "orientation": "v",
         "showlegend": false,
         "type": "histogram",
         "x": [
          "P",
          "P",
          "P",
          "P",
          "P",
          "H",
          "H",
          "P",
          "H",
          "P",
          "P",
          "H",
          "P",
          "P",
          "H",
          "P",
          "P",
          "P",
          "H",
          "P",
          "P",
          "P",
          "P",
          "H",
          "P",
          "P",
          "H",
          "P",
          "P",
          "H",
          "H",
          "P",
          "P",
          "P",
          "P",
          "P",
          "P",
          "P",
          "H",
          "P",
          "P",
          "H",
          "H",
          "P",
          "P",
          "P",
          "P",
          "H",
          "H",
          "P",
          "P",
          "H",
          "P",
          "P",
          "P",
          "P",
          "P",
          "P",
          "P",
          "P",
          "P",
          "P",
          "P",
          "P",
          "H",
          "P",
          "P",
          "H",
          "P",
          "P",
          "P",
          "P",
          "P",
          "P",
          "P",
          "P",
          "H",
          "H",
          "P",
          "P",
          "P",
          "H",
          "H",
          "P",
          "P",
          "H",
          "P",
          "P",
          "P",
          "P",
          "P",
          "P",
          "H",
          "H",
          "H",
          "H",
          "P",
          "P",
          "P",
          "P",
          "P",
          "H",
          "H",
          "P",
          "H",
          "P",
          "P",
          "P",
          "P",
          "H",
          "P",
          "P",
          "P",
          "P",
          "P",
          "P",
          "P",
          "P",
          "H",
          "P",
          "P",
          "H",
          "H",
          "P",
          "H",
          "H",
          "H",
          "P",
          "P",
          "H",
          "P",
          "P",
          "H",
          "P",
          "H",
          "P",
          "P",
          "P",
          "H",
          "P",
          "P",
          "P",
          "H",
          "P",
          "P",
          "P",
          "P",
          "H",
          "P",
          "P",
          "P",
          "P",
          "P",
          "P",
          "P",
          "P",
          "P",
          "P",
          "P",
          "P",
          "P",
          "H",
          "H",
          "H",
          "P",
          "H",
          "H",
          "P",
          "P",
          "P",
          "H",
          "P",
          "P",
          "P",
          "P",
          "P",
          "P",
          "P",
          "P",
          "P",
          "P",
          "H",
          "H",
          "H",
          "P",
          "H",
          "P",
          "P",
          "P",
          "H",
          "H",
          "P",
          "P",
          "P",
          "P",
          "P",
          "P",
          "P",
          "P",
          "P",
          "P",
          "P",
          "P",
          "P",
          "P",
          "P",
          "P",
          "H",
          "H",
          "P",
          "P",
          "P",
          "P",
          "P",
          "H",
          "H",
          "P",
          "P",
          "P",
          "P",
          "P",
          "P",
          "H",
          "P",
          "P",
          "P",
          "P",
          "H",
          "H",
          "P",
          "P",
          "P",
          "H",
          "P",
          "P",
          "H",
          "H",
          "P",
          "P",
          "H",
          "P",
          "P",
          "P",
          "P",
          "P",
          "H",
          "P",
          "P",
          "P",
          "P",
          "P",
          "P",
          "P",
          "H",
          "P",
          "H",
          "P",
          "H",
          "P",
          "P",
          "P",
          "P",
          "P",
          "P",
          "P",
          "P",
          "P",
          "P",
          "H",
          "P",
          "H",
          "P",
          "P",
          "P",
          "P",
          "P",
          "P",
          "P",
          "H",
          "P",
          "P",
          "H",
          "P",
          "H",
          "P",
          "H",
          "P",
          "P",
          "H",
          "P",
          "P",
          "H",
          "H",
          "H",
          "P",
          "P",
          "P",
          "P",
          "P",
          "H",
          "H",
          "H",
          "P",
          "P",
          "P",
          "P",
          "P",
          "H",
          "H",
          "P",
          "P",
          "P",
          "P",
          "P",
          "H",
          "P",
          "P",
          "P",
          "P"
         ],
         "xaxis": "x",
         "yaxis": "y"
        }
       ],
       "layout": {
        "barmode": "relative",
        "legend": {
         "tracegroupgap": 0
        },
        "margin": {
         "t": 60
        },
        "template": {
         "data": {
          "bar": [
           {
            "error_x": {
             "color": "#2a3f5f"
            },
            "error_y": {
             "color": "#2a3f5f"
            },
            "marker": {
             "line": {
              "color": "#E5ECF6",
              "width": 0.5
             },
             "pattern": {
              "fillmode": "overlay",
              "size": 10,
              "solidity": 0.2
             }
            },
            "type": "bar"
           }
          ],
          "barpolar": [
           {
            "marker": {
             "line": {
              "color": "#E5ECF6",
              "width": 0.5
             },
             "pattern": {
              "fillmode": "overlay",
              "size": 10,
              "solidity": 0.2
             }
            },
            "type": "barpolar"
           }
          ],
          "carpet": [
           {
            "aaxis": {
             "endlinecolor": "#2a3f5f",
             "gridcolor": "white",
             "linecolor": "white",
             "minorgridcolor": "white",
             "startlinecolor": "#2a3f5f"
            },
            "baxis": {
             "endlinecolor": "#2a3f5f",
             "gridcolor": "white",
             "linecolor": "white",
             "minorgridcolor": "white",
             "startlinecolor": "#2a3f5f"
            },
            "type": "carpet"
           }
          ],
          "choropleth": [
           {
            "colorbar": {
             "outlinewidth": 0,
             "ticks": ""
            },
            "type": "choropleth"
           }
          ],
          "contour": [
           {
            "colorbar": {
             "outlinewidth": 0,
             "ticks": ""
            },
            "colorscale": [
             [
              0,
              "#0d0887"
             ],
             [
              0.1111111111111111,
              "#46039f"
             ],
             [
              0.2222222222222222,
              "#7201a8"
             ],
             [
              0.3333333333333333,
              "#9c179e"
             ],
             [
              0.4444444444444444,
              "#bd3786"
             ],
             [
              0.5555555555555556,
              "#d8576b"
             ],
             [
              0.6666666666666666,
              "#ed7953"
             ],
             [
              0.7777777777777778,
              "#fb9f3a"
             ],
             [
              0.8888888888888888,
              "#fdca26"
             ],
             [
              1,
              "#f0f921"
             ]
            ],
            "type": "contour"
           }
          ],
          "contourcarpet": [
           {
            "colorbar": {
             "outlinewidth": 0,
             "ticks": ""
            },
            "type": "contourcarpet"
           }
          ],
          "heatmap": [
           {
            "colorbar": {
             "outlinewidth": 0,
             "ticks": ""
            },
            "colorscale": [
             [
              0,
              "#0d0887"
             ],
             [
              0.1111111111111111,
              "#46039f"
             ],
             [
              0.2222222222222222,
              "#7201a8"
             ],
             [
              0.3333333333333333,
              "#9c179e"
             ],
             [
              0.4444444444444444,
              "#bd3786"
             ],
             [
              0.5555555555555556,
              "#d8576b"
             ],
             [
              0.6666666666666666,
              "#ed7953"
             ],
             [
              0.7777777777777778,
              "#fb9f3a"
             ],
             [
              0.8888888888888888,
              "#fdca26"
             ],
             [
              1,
              "#f0f921"
             ]
            ],
            "type": "heatmap"
           }
          ],
          "heatmapgl": [
           {
            "colorbar": {
             "outlinewidth": 0,
             "ticks": ""
            },
            "colorscale": [
             [
              0,
              "#0d0887"
             ],
             [
              0.1111111111111111,
              "#46039f"
             ],
             [
              0.2222222222222222,
              "#7201a8"
             ],
             [
              0.3333333333333333,
              "#9c179e"
             ],
             [
              0.4444444444444444,
              "#bd3786"
             ],
             [
              0.5555555555555556,
              "#d8576b"
             ],
             [
              0.6666666666666666,
              "#ed7953"
             ],
             [
              0.7777777777777778,
              "#fb9f3a"
             ],
             [
              0.8888888888888888,
              "#fdca26"
             ],
             [
              1,
              "#f0f921"
             ]
            ],
            "type": "heatmapgl"
           }
          ],
          "histogram": [
           {
            "marker": {
             "pattern": {
              "fillmode": "overlay",
              "size": 10,
              "solidity": 0.2
             }
            },
            "type": "histogram"
           }
          ],
          "histogram2d": [
           {
            "colorbar": {
             "outlinewidth": 0,
             "ticks": ""
            },
            "colorscale": [
             [
              0,
              "#0d0887"
             ],
             [
              0.1111111111111111,
              "#46039f"
             ],
             [
              0.2222222222222222,
              "#7201a8"
             ],
             [
              0.3333333333333333,
              "#9c179e"
             ],
             [
              0.4444444444444444,
              "#bd3786"
             ],
             [
              0.5555555555555556,
              "#d8576b"
             ],
             [
              0.6666666666666666,
              "#ed7953"
             ],
             [
              0.7777777777777778,
              "#fb9f3a"
             ],
             [
              0.8888888888888888,
              "#fdca26"
             ],
             [
              1,
              "#f0f921"
             ]
            ],
            "type": "histogram2d"
           }
          ],
          "histogram2dcontour": [
           {
            "colorbar": {
             "outlinewidth": 0,
             "ticks": ""
            },
            "colorscale": [
             [
              0,
              "#0d0887"
             ],
             [
              0.1111111111111111,
              "#46039f"
             ],
             [
              0.2222222222222222,
              "#7201a8"
             ],
             [
              0.3333333333333333,
              "#9c179e"
             ],
             [
              0.4444444444444444,
              "#bd3786"
             ],
             [
              0.5555555555555556,
              "#d8576b"
             ],
             [
              0.6666666666666666,
              "#ed7953"
             ],
             [
              0.7777777777777778,
              "#fb9f3a"
             ],
             [
              0.8888888888888888,
              "#fdca26"
             ],
             [
              1,
              "#f0f921"
             ]
            ],
            "type": "histogram2dcontour"
           }
          ],
          "mesh3d": [
           {
            "colorbar": {
             "outlinewidth": 0,
             "ticks": ""
            },
            "type": "mesh3d"
           }
          ],
          "parcoords": [
           {
            "line": {
             "colorbar": {
              "outlinewidth": 0,
              "ticks": ""
             }
            },
            "type": "parcoords"
           }
          ],
          "pie": [
           {
            "automargin": true,
            "type": "pie"
           }
          ],
          "scatter": [
           {
            "fillpattern": {
             "fillmode": "overlay",
             "size": 10,
             "solidity": 0.2
            },
            "type": "scatter"
           }
          ],
          "scatter3d": [
           {
            "line": {
             "colorbar": {
              "outlinewidth": 0,
              "ticks": ""
             }
            },
            "marker": {
             "colorbar": {
              "outlinewidth": 0,
              "ticks": ""
             }
            },
            "type": "scatter3d"
           }
          ],
          "scattercarpet": [
           {
            "marker": {
             "colorbar": {
              "outlinewidth": 0,
              "ticks": ""
             }
            },
            "type": "scattercarpet"
           }
          ],
          "scattergeo": [
           {
            "marker": {
             "colorbar": {
              "outlinewidth": 0,
              "ticks": ""
             }
            },
            "type": "scattergeo"
           }
          ],
          "scattergl": [
           {
            "marker": {
             "colorbar": {
              "outlinewidth": 0,
              "ticks": ""
             }
            },
            "type": "scattergl"
           }
          ],
          "scattermapbox": [
           {
            "marker": {
             "colorbar": {
              "outlinewidth": 0,
              "ticks": ""
             }
            },
            "type": "scattermapbox"
           }
          ],
          "scatterpolar": [
           {
            "marker": {
             "colorbar": {
              "outlinewidth": 0,
              "ticks": ""
             }
            },
            "type": "scatterpolar"
           }
          ],
          "scatterpolargl": [
           {
            "marker": {
             "colorbar": {
              "outlinewidth": 0,
              "ticks": ""
             }
            },
            "type": "scatterpolargl"
           }
          ],
          "scatterternary": [
           {
            "marker": {
             "colorbar": {
              "outlinewidth": 0,
              "ticks": ""
             }
            },
            "type": "scatterternary"
           }
          ],
          "surface": [
           {
            "colorbar": {
             "outlinewidth": 0,
             "ticks": ""
            },
            "colorscale": [
             [
              0,
              "#0d0887"
             ],
             [
              0.1111111111111111,
              "#46039f"
             ],
             [
              0.2222222222222222,
              "#7201a8"
             ],
             [
              0.3333333333333333,
              "#9c179e"
             ],
             [
              0.4444444444444444,
              "#bd3786"
             ],
             [
              0.5555555555555556,
              "#d8576b"
             ],
             [
              0.6666666666666666,
              "#ed7953"
             ],
             [
              0.7777777777777778,
              "#fb9f3a"
             ],
             [
              0.8888888888888888,
              "#fdca26"
             ],
             [
              1,
              "#f0f921"
             ]
            ],
            "type": "surface"
           }
          ],
          "table": [
           {
            "cells": {
             "fill": {
              "color": "#EBF0F8"
             },
             "line": {
              "color": "white"
             }
            },
            "header": {
             "fill": {
              "color": "#C8D4E3"
             },
             "line": {
              "color": "white"
             }
            },
            "type": "table"
           }
          ]
         },
         "layout": {
          "annotationdefaults": {
           "arrowcolor": "#2a3f5f",
           "arrowhead": 0,
           "arrowwidth": 1
          },
          "autotypenumbers": "strict",
          "coloraxis": {
           "colorbar": {
            "outlinewidth": 0,
            "ticks": ""
           }
          },
          "colorscale": {
           "diverging": [
            [
             0,
             "#8e0152"
            ],
            [
             0.1,
             "#c51b7d"
            ],
            [
             0.2,
             "#de77ae"
            ],
            [
             0.3,
             "#f1b6da"
            ],
            [
             0.4,
             "#fde0ef"
            ],
            [
             0.5,
             "#f7f7f7"
            ],
            [
             0.6,
             "#e6f5d0"
            ],
            [
             0.7,
             "#b8e186"
            ],
            [
             0.8,
             "#7fbc41"
            ],
            [
             0.9,
             "#4d9221"
            ],
            [
             1,
             "#276419"
            ]
           ],
           "sequential": [
            [
             0,
             "#0d0887"
            ],
            [
             0.1111111111111111,
             "#46039f"
            ],
            [
             0.2222222222222222,
             "#7201a8"
            ],
            [
             0.3333333333333333,
             "#9c179e"
            ],
            [
             0.4444444444444444,
             "#bd3786"
            ],
            [
             0.5555555555555556,
             "#d8576b"
            ],
            [
             0.6666666666666666,
             "#ed7953"
            ],
            [
             0.7777777777777778,
             "#fb9f3a"
            ],
            [
             0.8888888888888888,
             "#fdca26"
            ],
            [
             1,
             "#f0f921"
            ]
           ],
           "sequentialminus": [
            [
             0,
             "#0d0887"
            ],
            [
             0.1111111111111111,
             "#46039f"
            ],
            [
             0.2222222222222222,
             "#7201a8"
            ],
            [
             0.3333333333333333,
             "#9c179e"
            ],
            [
             0.4444444444444444,
             "#bd3786"
            ],
            [
             0.5555555555555556,
             "#d8576b"
            ],
            [
             0.6666666666666666,
             "#ed7953"
            ],
            [
             0.7777777777777778,
             "#fb9f3a"
            ],
            [
             0.8888888888888888,
             "#fdca26"
            ],
            [
             1,
             "#f0f921"
            ]
           ]
          },
          "colorway": [
           "#636efa",
           "#EF553B",
           "#00cc96",
           "#ab63fa",
           "#FFA15A",
           "#19d3f3",
           "#FF6692",
           "#B6E880",
           "#FF97FF",
           "#FECB52"
          ],
          "font": {
           "color": "#2a3f5f"
          },
          "geo": {
           "bgcolor": "white",
           "lakecolor": "white",
           "landcolor": "#E5ECF6",
           "showlakes": true,
           "showland": true,
           "subunitcolor": "white"
          },
          "hoverlabel": {
           "align": "left"
          },
          "hovermode": "closest",
          "mapbox": {
           "style": "light"
          },
          "paper_bgcolor": "white",
          "plot_bgcolor": "#E5ECF6",
          "polar": {
           "angularaxis": {
            "gridcolor": "white",
            "linecolor": "white",
            "ticks": ""
           },
           "bgcolor": "#E5ECF6",
           "radialaxis": {
            "gridcolor": "white",
            "linecolor": "white",
            "ticks": ""
           }
          },
          "scene": {
           "xaxis": {
            "backgroundcolor": "#E5ECF6",
            "gridcolor": "white",
            "gridwidth": 2,
            "linecolor": "white",
            "showbackground": true,
            "ticks": "",
            "zerolinecolor": "white"
           },
           "yaxis": {
            "backgroundcolor": "#E5ECF6",
            "gridcolor": "white",
            "gridwidth": 2,
            "linecolor": "white",
            "showbackground": true,
            "ticks": "",
            "zerolinecolor": "white"
           },
           "zaxis": {
            "backgroundcolor": "#E5ECF6",
            "gridcolor": "white",
            "gridwidth": 2,
            "linecolor": "white",
            "showbackground": true,
            "ticks": "",
            "zerolinecolor": "white"
           }
          },
          "shapedefaults": {
           "line": {
            "color": "#2a3f5f"
           }
          },
          "ternary": {
           "aaxis": {
            "gridcolor": "white",
            "linecolor": "white",
            "ticks": ""
           },
           "baxis": {
            "gridcolor": "white",
            "linecolor": "white",
            "ticks": ""
           },
           "bgcolor": "#E5ECF6",
           "caxis": {
            "gridcolor": "white",
            "linecolor": "white",
            "ticks": ""
           }
          },
          "title": {
           "x": 0.05
          },
          "xaxis": {
           "automargin": true,
           "gridcolor": "white",
           "linecolor": "white",
           "ticks": "",
           "title": {
            "standoff": 15
           },
           "zerolinecolor": "white",
           "zerolinewidth": 2
          },
          "yaxis": {
           "automargin": true,
           "gridcolor": "white",
           "linecolor": "white",
           "ticks": "",
           "title": {
            "standoff": 15
           },
           "zerolinecolor": "white",
           "zerolinewidth": 2
          }
         }
        },
        "xaxis": {
         "anchor": "y",
         "domain": [
          0,
          1
         ],
         "title": {
          "text": "Hard_or_Paper"
         }
        },
        "yaxis": {
         "anchor": "x",
         "domain": [
          0,
          1
         ],
         "title": {
          "text": "count"
         }
        }
       }
      },
      "text/html": [
       "<div>                            <div id=\"4e0482e7-1c1b-492c-a2e3-b1518ba5cbfa\" class=\"plotly-graph-div\" style=\"height:525px; width:100%;\"></div>            <script type=\"text/javascript\">                require([\"plotly\"], function(Plotly) {                    window.PLOTLYENV=window.PLOTLYENV || {};                                    if (document.getElementById(\"4e0482e7-1c1b-492c-a2e3-b1518ba5cbfa\")) {                    Plotly.newPlot(                        \"4e0482e7-1c1b-492c-a2e3-b1518ba5cbfa\",                        [{\"alignmentgroup\":\"True\",\"bingroup\":\"x\",\"hovertemplate\":\"Hard_or_Paper=%{x}\\u003cbr\\u003ecount=%{y}\\u003cextra\\u003e\\u003c\\u002fextra\\u003e\",\"legendgroup\":\"\",\"marker\":{\"color\":\"#636efa\",\"pattern\":{\"shape\":\"\"}},\"name\":\"\",\"offsetgroup\":\"\",\"orientation\":\"v\",\"showlegend\":false,\"x\":[\"P\",\"P\",\"P\",\"P\",\"P\",\"H\",\"H\",\"P\",\"H\",\"P\",\"P\",\"H\",\"P\",\"P\",\"H\",\"P\",\"P\",\"P\",\"H\",\"P\",\"P\",\"P\",\"P\",\"H\",\"P\",\"P\",\"H\",\"P\",\"P\",\"H\",\"H\",\"P\",\"P\",\"P\",\"P\",\"P\",\"P\",\"P\",\"H\",\"P\",\"P\",\"H\",\"H\",\"P\",\"P\",\"P\",\"P\",\"H\",\"H\",\"P\",\"P\",\"H\",\"P\",\"P\",\"P\",\"P\",\"P\",\"P\",\"P\",\"P\",\"P\",\"P\",\"P\",\"P\",\"H\",\"P\",\"P\",\"H\",\"P\",\"P\",\"P\",\"P\",\"P\",\"P\",\"P\",\"P\",\"H\",\"H\",\"P\",\"P\",\"P\",\"H\",\"H\",\"P\",\"P\",\"H\",\"P\",\"P\",\"P\",\"P\",\"P\",\"P\",\"H\",\"H\",\"H\",\"H\",\"P\",\"P\",\"P\",\"P\",\"P\",\"H\",\"H\",\"P\",\"H\",\"P\",\"P\",\"P\",\"P\",\"H\",\"P\",\"P\",\"P\",\"P\",\"P\",\"P\",\"P\",\"P\",\"H\",\"P\",\"P\",\"H\",\"H\",\"P\",\"H\",\"H\",\"H\",\"P\",\"P\",\"H\",\"P\",\"P\",\"H\",\"P\",\"H\",\"P\",\"P\",\"P\",\"H\",\"P\",\"P\",\"P\",\"H\",\"P\",\"P\",\"P\",\"P\",\"H\",\"P\",\"P\",\"P\",\"P\",\"P\",\"P\",\"P\",\"P\",\"P\",\"P\",\"P\",\"P\",\"P\",\"H\",\"H\",\"H\",\"P\",\"H\",\"H\",\"P\",\"P\",\"P\",\"H\",\"P\",\"P\",\"P\",\"P\",\"P\",\"P\",\"P\",\"P\",\"P\",\"P\",\"H\",\"H\",\"H\",\"P\",\"H\",\"P\",\"P\",\"P\",\"H\",\"H\",\"P\",\"P\",\"P\",\"P\",\"P\",\"P\",\"P\",\"P\",\"P\",\"P\",\"P\",\"P\",\"P\",\"P\",\"P\",\"P\",\"H\",\"H\",\"P\",\"P\",\"P\",\"P\",\"P\",\"H\",\"H\",\"P\",\"P\",\"P\",\"P\",\"P\",\"P\",\"H\",\"P\",\"P\",\"P\",\"P\",\"H\",\"H\",\"P\",\"P\",\"P\",\"H\",\"P\",\"P\",\"H\",\"H\",\"P\",\"P\",\"H\",\"P\",\"P\",\"P\",\"P\",\"P\",\"H\",\"P\",\"P\",\"P\",\"P\",\"P\",\"P\",\"P\",\"H\",\"P\",\"H\",\"P\",\"H\",\"P\",\"P\",\"P\",\"P\",\"P\",\"P\",\"P\",\"P\",\"P\",\"P\",\"H\",\"P\",\"H\",\"P\",\"P\",\"P\",\"P\",\"P\",\"P\",\"P\",\"H\",\"P\",\"P\",\"H\",\"P\",\"H\",\"P\",\"H\",\"P\",\"P\",\"H\",\"P\",\"P\",\"H\",\"H\",\"H\",\"P\",\"P\",\"P\",\"P\",\"P\",\"H\",\"H\",\"H\",\"P\",\"P\",\"P\",\"P\",\"P\",\"H\",\"H\",\"P\",\"P\",\"P\",\"P\",\"P\",\"H\",\"P\",\"P\",\"P\",\"P\"],\"xaxis\":\"x\",\"yaxis\":\"y\",\"type\":\"histogram\"}],                        {\"template\":{\"data\":{\"histogram2dcontour\":[{\"type\":\"histogram2dcontour\",\"colorbar\":{\"outlinewidth\":0,\"ticks\":\"\"},\"colorscale\":[[0.0,\"#0d0887\"],[0.1111111111111111,\"#46039f\"],[0.2222222222222222,\"#7201a8\"],[0.3333333333333333,\"#9c179e\"],[0.4444444444444444,\"#bd3786\"],[0.5555555555555556,\"#d8576b\"],[0.6666666666666666,\"#ed7953\"],[0.7777777777777778,\"#fb9f3a\"],[0.8888888888888888,\"#fdca26\"],[1.0,\"#f0f921\"]]}],\"choropleth\":[{\"type\":\"choropleth\",\"colorbar\":{\"outlinewidth\":0,\"ticks\":\"\"}}],\"histogram2d\":[{\"type\":\"histogram2d\",\"colorbar\":{\"outlinewidth\":0,\"ticks\":\"\"},\"colorscale\":[[0.0,\"#0d0887\"],[0.1111111111111111,\"#46039f\"],[0.2222222222222222,\"#7201a8\"],[0.3333333333333333,\"#9c179e\"],[0.4444444444444444,\"#bd3786\"],[0.5555555555555556,\"#d8576b\"],[0.6666666666666666,\"#ed7953\"],[0.7777777777777778,\"#fb9f3a\"],[0.8888888888888888,\"#fdca26\"],[1.0,\"#f0f921\"]]}],\"heatmap\":[{\"type\":\"heatmap\",\"colorbar\":{\"outlinewidth\":0,\"ticks\":\"\"},\"colorscale\":[[0.0,\"#0d0887\"],[0.1111111111111111,\"#46039f\"],[0.2222222222222222,\"#7201a8\"],[0.3333333333333333,\"#9c179e\"],[0.4444444444444444,\"#bd3786\"],[0.5555555555555556,\"#d8576b\"],[0.6666666666666666,\"#ed7953\"],[0.7777777777777778,\"#fb9f3a\"],[0.8888888888888888,\"#fdca26\"],[1.0,\"#f0f921\"]]}],\"heatmapgl\":[{\"type\":\"heatmapgl\",\"colorbar\":{\"outlinewidth\":0,\"ticks\":\"\"},\"colorscale\":[[0.0,\"#0d0887\"],[0.1111111111111111,\"#46039f\"],[0.2222222222222222,\"#7201a8\"],[0.3333333333333333,\"#9c179e\"],[0.4444444444444444,\"#bd3786\"],[0.5555555555555556,\"#d8576b\"],[0.6666666666666666,\"#ed7953\"],[0.7777777777777778,\"#fb9f3a\"],[0.8888888888888888,\"#fdca26\"],[1.0,\"#f0f921\"]]}],\"contourcarpet\":[{\"type\":\"contourcarpet\",\"colorbar\":{\"outlinewidth\":0,\"ticks\":\"\"}}],\"contour\":[{\"type\":\"contour\",\"colorbar\":{\"outlinewidth\":0,\"ticks\":\"\"},\"colorscale\":[[0.0,\"#0d0887\"],[0.1111111111111111,\"#46039f\"],[0.2222222222222222,\"#7201a8\"],[0.3333333333333333,\"#9c179e\"],[0.4444444444444444,\"#bd3786\"],[0.5555555555555556,\"#d8576b\"],[0.6666666666666666,\"#ed7953\"],[0.7777777777777778,\"#fb9f3a\"],[0.8888888888888888,\"#fdca26\"],[1.0,\"#f0f921\"]]}],\"surface\":[{\"type\":\"surface\",\"colorbar\":{\"outlinewidth\":0,\"ticks\":\"\"},\"colorscale\":[[0.0,\"#0d0887\"],[0.1111111111111111,\"#46039f\"],[0.2222222222222222,\"#7201a8\"],[0.3333333333333333,\"#9c179e\"],[0.4444444444444444,\"#bd3786\"],[0.5555555555555556,\"#d8576b\"],[0.6666666666666666,\"#ed7953\"],[0.7777777777777778,\"#fb9f3a\"],[0.8888888888888888,\"#fdca26\"],[1.0,\"#f0f921\"]]}],\"mesh3d\":[{\"type\":\"mesh3d\",\"colorbar\":{\"outlinewidth\":0,\"ticks\":\"\"}}],\"scatter\":[{\"fillpattern\":{\"fillmode\":\"overlay\",\"size\":10,\"solidity\":0.2},\"type\":\"scatter\"}],\"parcoords\":[{\"type\":\"parcoords\",\"line\":{\"colorbar\":{\"outlinewidth\":0,\"ticks\":\"\"}}}],\"scatterpolargl\":[{\"type\":\"scatterpolargl\",\"marker\":{\"colorbar\":{\"outlinewidth\":0,\"ticks\":\"\"}}}],\"bar\":[{\"error_x\":{\"color\":\"#2a3f5f\"},\"error_y\":{\"color\":\"#2a3f5f\"},\"marker\":{\"line\":{\"color\":\"#E5ECF6\",\"width\":0.5},\"pattern\":{\"fillmode\":\"overlay\",\"size\":10,\"solidity\":0.2}},\"type\":\"bar\"}],\"scattergeo\":[{\"type\":\"scattergeo\",\"marker\":{\"colorbar\":{\"outlinewidth\":0,\"ticks\":\"\"}}}],\"scatterpolar\":[{\"type\":\"scatterpolar\",\"marker\":{\"colorbar\":{\"outlinewidth\":0,\"ticks\":\"\"}}}],\"histogram\":[{\"marker\":{\"pattern\":{\"fillmode\":\"overlay\",\"size\":10,\"solidity\":0.2}},\"type\":\"histogram\"}],\"scattergl\":[{\"type\":\"scattergl\",\"marker\":{\"colorbar\":{\"outlinewidth\":0,\"ticks\":\"\"}}}],\"scatter3d\":[{\"type\":\"scatter3d\",\"line\":{\"colorbar\":{\"outlinewidth\":0,\"ticks\":\"\"}},\"marker\":{\"colorbar\":{\"outlinewidth\":0,\"ticks\":\"\"}}}],\"scattermapbox\":[{\"type\":\"scattermapbox\",\"marker\":{\"colorbar\":{\"outlinewidth\":0,\"ticks\":\"\"}}}],\"scatterternary\":[{\"type\":\"scatterternary\",\"marker\":{\"colorbar\":{\"outlinewidth\":0,\"ticks\":\"\"}}}],\"scattercarpet\":[{\"type\":\"scattercarpet\",\"marker\":{\"colorbar\":{\"outlinewidth\":0,\"ticks\":\"\"}}}],\"carpet\":[{\"aaxis\":{\"endlinecolor\":\"#2a3f5f\",\"gridcolor\":\"white\",\"linecolor\":\"white\",\"minorgridcolor\":\"white\",\"startlinecolor\":\"#2a3f5f\"},\"baxis\":{\"endlinecolor\":\"#2a3f5f\",\"gridcolor\":\"white\",\"linecolor\":\"white\",\"minorgridcolor\":\"white\",\"startlinecolor\":\"#2a3f5f\"},\"type\":\"carpet\"}],\"table\":[{\"cells\":{\"fill\":{\"color\":\"#EBF0F8\"},\"line\":{\"color\":\"white\"}},\"header\":{\"fill\":{\"color\":\"#C8D4E3\"},\"line\":{\"color\":\"white\"}},\"type\":\"table\"}],\"barpolar\":[{\"marker\":{\"line\":{\"color\":\"#E5ECF6\",\"width\":0.5},\"pattern\":{\"fillmode\":\"overlay\",\"size\":10,\"solidity\":0.2}},\"type\":\"barpolar\"}],\"pie\":[{\"automargin\":true,\"type\":\"pie\"}]},\"layout\":{\"autotypenumbers\":\"strict\",\"colorway\":[\"#636efa\",\"#EF553B\",\"#00cc96\",\"#ab63fa\",\"#FFA15A\",\"#19d3f3\",\"#FF6692\",\"#B6E880\",\"#FF97FF\",\"#FECB52\"],\"font\":{\"color\":\"#2a3f5f\"},\"hovermode\":\"closest\",\"hoverlabel\":{\"align\":\"left\"},\"paper_bgcolor\":\"white\",\"plot_bgcolor\":\"#E5ECF6\",\"polar\":{\"bgcolor\":\"#E5ECF6\",\"angularaxis\":{\"gridcolor\":\"white\",\"linecolor\":\"white\",\"ticks\":\"\"},\"radialaxis\":{\"gridcolor\":\"white\",\"linecolor\":\"white\",\"ticks\":\"\"}},\"ternary\":{\"bgcolor\":\"#E5ECF6\",\"aaxis\":{\"gridcolor\":\"white\",\"linecolor\":\"white\",\"ticks\":\"\"},\"baxis\":{\"gridcolor\":\"white\",\"linecolor\":\"white\",\"ticks\":\"\"},\"caxis\":{\"gridcolor\":\"white\",\"linecolor\":\"white\",\"ticks\":\"\"}},\"coloraxis\":{\"colorbar\":{\"outlinewidth\":0,\"ticks\":\"\"}},\"colorscale\":{\"sequential\":[[0.0,\"#0d0887\"],[0.1111111111111111,\"#46039f\"],[0.2222222222222222,\"#7201a8\"],[0.3333333333333333,\"#9c179e\"],[0.4444444444444444,\"#bd3786\"],[0.5555555555555556,\"#d8576b\"],[0.6666666666666666,\"#ed7953\"],[0.7777777777777778,\"#fb9f3a\"],[0.8888888888888888,\"#fdca26\"],[1.0,\"#f0f921\"]],\"sequentialminus\":[[0.0,\"#0d0887\"],[0.1111111111111111,\"#46039f\"],[0.2222222222222222,\"#7201a8\"],[0.3333333333333333,\"#9c179e\"],[0.4444444444444444,\"#bd3786\"],[0.5555555555555556,\"#d8576b\"],[0.6666666666666666,\"#ed7953\"],[0.7777777777777778,\"#fb9f3a\"],[0.8888888888888888,\"#fdca26\"],[1.0,\"#f0f921\"]],\"diverging\":[[0,\"#8e0152\"],[0.1,\"#c51b7d\"],[0.2,\"#de77ae\"],[0.3,\"#f1b6da\"],[0.4,\"#fde0ef\"],[0.5,\"#f7f7f7\"],[0.6,\"#e6f5d0\"],[0.7,\"#b8e186\"],[0.8,\"#7fbc41\"],[0.9,\"#4d9221\"],[1,\"#276419\"]]},\"xaxis\":{\"gridcolor\":\"white\",\"linecolor\":\"white\",\"ticks\":\"\",\"title\":{\"standoff\":15},\"zerolinecolor\":\"white\",\"automargin\":true,\"zerolinewidth\":2},\"yaxis\":{\"gridcolor\":\"white\",\"linecolor\":\"white\",\"ticks\":\"\",\"title\":{\"standoff\":15},\"zerolinecolor\":\"white\",\"automargin\":true,\"zerolinewidth\":2},\"scene\":{\"xaxis\":{\"backgroundcolor\":\"#E5ECF6\",\"gridcolor\":\"white\",\"linecolor\":\"white\",\"showbackground\":true,\"ticks\":\"\",\"zerolinecolor\":\"white\",\"gridwidth\":2},\"yaxis\":{\"backgroundcolor\":\"#E5ECF6\",\"gridcolor\":\"white\",\"linecolor\":\"white\",\"showbackground\":true,\"ticks\":\"\",\"zerolinecolor\":\"white\",\"gridwidth\":2},\"zaxis\":{\"backgroundcolor\":\"#E5ECF6\",\"gridcolor\":\"white\",\"linecolor\":\"white\",\"showbackground\":true,\"ticks\":\"\",\"zerolinecolor\":\"white\",\"gridwidth\":2}},\"shapedefaults\":{\"line\":{\"color\":\"#2a3f5f\"}},\"annotationdefaults\":{\"arrowcolor\":\"#2a3f5f\",\"arrowhead\":0,\"arrowwidth\":1},\"geo\":{\"bgcolor\":\"white\",\"landcolor\":\"#E5ECF6\",\"subunitcolor\":\"white\",\"showland\":true,\"showlakes\":true,\"lakecolor\":\"white\"},\"title\":{\"x\":0.05},\"mapbox\":{\"style\":\"light\"}}},\"xaxis\":{\"anchor\":\"y\",\"domain\":[0.0,1.0],\"title\":{\"text\":\"Hard_or_Paper\"}},\"yaxis\":{\"anchor\":\"x\",\"domain\":[0.0,1.0],\"title\":{\"text\":\"count\"}},\"legend\":{\"tracegroupgap\":0},\"margin\":{\"t\":60},\"barmode\":\"relative\"},                        {\"responsive\": true}                    ).then(function(){\n",
       "                            \n",
       "var gd = document.getElementById('4e0482e7-1c1b-492c-a2e3-b1518ba5cbfa');\n",
       "var x = new MutationObserver(function (mutations, observer) {{\n",
       "        var display = window.getComputedStyle(gd).display;\n",
       "        if (!display || display === 'none') {{\n",
       "            console.log([gd, 'removed!']);\n",
       "            Plotly.purge(gd);\n",
       "            observer.disconnect();\n",
       "        }}\n",
       "}});\n",
       "\n",
       "// Listen for the removal of the full notebook cells\n",
       "var notebookContainer = gd.closest('#notebook-container');\n",
       "if (notebookContainer) {{\n",
       "    x.observe(notebookContainer, {childList: true});\n",
       "}}\n",
       "\n",
       "// Listen for the clearing of the current output cell\n",
       "var outputEl = gd.closest('.output');\n",
       "if (outputEl) {{\n",
       "    x.observe(outputEl, {childList: true});\n",
       "}}\n",
       "\n",
       "                        })                };                });            </script>        </div>"
      ]
     },
     "metadata": {},
     "output_type": "display_data"
    }
   ],
   "source": [
    "px.histogram(ab_noNaN, x='Hard_or_Paper')"
   ]
  },
  {
   "cell_type": "code",
   "execution_count": 17,
   "id": "45a7726f",
   "metadata": {},
   "outputs": [
    {
     "data": {
      "application/vnd.plotly.v1+json": {
       "config": {
        "plotlyServerURL": "https://plot.ly"
       },
       "data": [
        {
         "alignmentgroup": "True",
         "bingroup": "x",
         "hovertemplate": "Thick=%{x}<br>count=%{y}<extra></extra>",
         "legendgroup": "",
         "marker": {
          "color": "#636efa",
          "pattern": {
           "shape": ""
          }
         },
         "name": "",
         "offsetgroup": "",
         "orientation": "v",
         "showlegend": false,
         "type": "histogram",
         "x": [
          0.8,
          0.7,
          0.3,
          1.6,
          1.4,
          1.7,
          1.2,
          0.8,
          1.1,
          1.7,
          1.5,
          1.3,
          1,
          0.8,
          1,
          0.5,
          0.8,
          0.6,
          0.7,
          0.5,
          1.2,
          0.5,
          0.8,
          1.4,
          0.7,
          1.2,
          1.1,
          1,
          0.9,
          0.6,
          0.9,
          1.8,
          0.4,
          0.5,
          0.4,
          0.9,
          0.6,
          0.8,
          0.5,
          0.4,
          0.2,
          1.1,
          1,
          0.7,
          0.8,
          0.4,
          1.5,
          1,
          1.4,
          1.3,
          0.9,
          1.5,
          0.9,
          0.9,
          0.1,
          1.2,
          0.6,
          0.8,
          0.6,
          1.2,
          1.2,
          0.8,
          0.8,
          0.8,
          1.6,
          0.8,
          1.6,
          1,
          1,
          0.8,
          0.8,
          0.5,
          0.7,
          0.7,
          0.7,
          0.7,
          1,
          0.9,
          1.1,
          0.6,
          0.8,
          1.4,
          1.7,
          1.5,
          0.9,
          0.3,
          0.8,
          1,
          0.9,
          1.2,
          1.2,
          0.9,
          1.8,
          0.9,
          0.4,
          0.9,
          0.6,
          0.5,
          0.5,
          1,
          0.8,
          1.5,
          1.4,
          0.4,
          2.1,
          0.6,
          0.2,
          0.5,
          1.1,
          1.8,
          0.6,
          0.6,
          0.8,
          0.9,
          1.1,
          1.2,
          0.6,
          0.7,
          1,
          1,
          0.6,
          0.9,
          1.2,
          0.6,
          1.4,
          0.5,
          1,
          0.6,
          0.9,
          1.4,
          1.1,
          1,
          2,
          1,
          1.5,
          0.6,
          1,
          1.2,
          1,
          0.7,
          0.7,
          0.8,
          0.6,
          0.7,
          1,
          0.4,
          0.9,
          1.5,
          1,
          0.7,
          0.7,
          0.9,
          0.7,
          1.1,
          0.4,
          0.4,
          1.2,
          0.6,
          0.6,
          0.5,
          0.7,
          0.7,
          1.2,
          1.5,
          1,
          1,
          1.4,
          1.1,
          0.4,
          0.8,
          1.3,
          1,
          1,
          0.6,
          1.2,
          0.8,
          1,
          0.7,
          0.9,
          0.7,
          0.9,
          1.2,
          1.3,
          0.7,
          0.6,
          1.1,
          0.6,
          1,
          0.8,
          0.8,
          1.4,
          0.5,
          1.6,
          0.5,
          0.4,
          1.2,
          0.6,
          0.5,
          0.5,
          0.6,
          0.8,
          0.9,
          1.4,
          0.7,
          0.8,
          0.9,
          0.5,
          0.7,
          0.4,
          0.9,
          1.2,
          1.3,
          0.9,
          0.3,
          0.4,
          1.7,
          1,
          0.7,
          0.4,
          0.4,
          0.9,
          0.6,
          1.3,
          1,
          1.6,
          0.5,
          0.6,
          0.6,
          0.7,
          0.7,
          1.5,
          1.1,
          0.5,
          0.4,
          1.4,
          0.8,
          0.7,
          0.5,
          0.5,
          0.7,
          1.1,
          0.9,
          0.8,
          0.5,
          0.8,
          1.2,
          1.2,
          0.8,
          1,
          0.8,
          1.6,
          1.4,
          0.5,
          1,
          0.8,
          1.2,
          1.2,
          0.8,
          0.6,
          0.6,
          1.3,
          0.7,
          0.5,
          0.4,
          1.5,
          1.2,
          0.8,
          0.5,
          1.1,
          0.5,
          1.5,
          0.6,
          1,
          0.9,
          0.5,
          1,
          1,
          0.3,
          0.6,
          0.8,
          1.5,
          1,
          0.8,
          1,
          0.6,
          0.5,
          1.2,
          0.7,
          1.1,
          0.7,
          1.2,
          1.3,
          1.5,
          1.7,
          0.5,
          0.7,
          0.7,
          0.4,
          1,
          1,
          1.7,
          1.3,
          1.4,
          0.4,
          0.8,
          0.5,
          0.8,
          1.4,
          1.7,
          0.9,
          0.7,
          0.9,
          1,
          0.5,
          1.1,
          0.7,
          0.7,
          0.9,
          1
         ],
         "xaxis": "x",
         "yaxis": "y"
        }
       ],
       "layout": {
        "barmode": "relative",
        "legend": {
         "tracegroupgap": 0
        },
        "margin": {
         "t": 60
        },
        "template": {
         "data": {
          "bar": [
           {
            "error_x": {
             "color": "#2a3f5f"
            },
            "error_y": {
             "color": "#2a3f5f"
            },
            "marker": {
             "line": {
              "color": "#E5ECF6",
              "width": 0.5
             },
             "pattern": {
              "fillmode": "overlay",
              "size": 10,
              "solidity": 0.2
             }
            },
            "type": "bar"
           }
          ],
          "barpolar": [
           {
            "marker": {
             "line": {
              "color": "#E5ECF6",
              "width": 0.5
             },
             "pattern": {
              "fillmode": "overlay",
              "size": 10,
              "solidity": 0.2
             }
            },
            "type": "barpolar"
           }
          ],
          "carpet": [
           {
            "aaxis": {
             "endlinecolor": "#2a3f5f",
             "gridcolor": "white",
             "linecolor": "white",
             "minorgridcolor": "white",
             "startlinecolor": "#2a3f5f"
            },
            "baxis": {
             "endlinecolor": "#2a3f5f",
             "gridcolor": "white",
             "linecolor": "white",
             "minorgridcolor": "white",
             "startlinecolor": "#2a3f5f"
            },
            "type": "carpet"
           }
          ],
          "choropleth": [
           {
            "colorbar": {
             "outlinewidth": 0,
             "ticks": ""
            },
            "type": "choropleth"
           }
          ],
          "contour": [
           {
            "colorbar": {
             "outlinewidth": 0,
             "ticks": ""
            },
            "colorscale": [
             [
              0,
              "#0d0887"
             ],
             [
              0.1111111111111111,
              "#46039f"
             ],
             [
              0.2222222222222222,
              "#7201a8"
             ],
             [
              0.3333333333333333,
              "#9c179e"
             ],
             [
              0.4444444444444444,
              "#bd3786"
             ],
             [
              0.5555555555555556,
              "#d8576b"
             ],
             [
              0.6666666666666666,
              "#ed7953"
             ],
             [
              0.7777777777777778,
              "#fb9f3a"
             ],
             [
              0.8888888888888888,
              "#fdca26"
             ],
             [
              1,
              "#f0f921"
             ]
            ],
            "type": "contour"
           }
          ],
          "contourcarpet": [
           {
            "colorbar": {
             "outlinewidth": 0,
             "ticks": ""
            },
            "type": "contourcarpet"
           }
          ],
          "heatmap": [
           {
            "colorbar": {
             "outlinewidth": 0,
             "ticks": ""
            },
            "colorscale": [
             [
              0,
              "#0d0887"
             ],
             [
              0.1111111111111111,
              "#46039f"
             ],
             [
              0.2222222222222222,
              "#7201a8"
             ],
             [
              0.3333333333333333,
              "#9c179e"
             ],
             [
              0.4444444444444444,
              "#bd3786"
             ],
             [
              0.5555555555555556,
              "#d8576b"
             ],
             [
              0.6666666666666666,
              "#ed7953"
             ],
             [
              0.7777777777777778,
              "#fb9f3a"
             ],
             [
              0.8888888888888888,
              "#fdca26"
             ],
             [
              1,
              "#f0f921"
             ]
            ],
            "type": "heatmap"
           }
          ],
          "heatmapgl": [
           {
            "colorbar": {
             "outlinewidth": 0,
             "ticks": ""
            },
            "colorscale": [
             [
              0,
              "#0d0887"
             ],
             [
              0.1111111111111111,
              "#46039f"
             ],
             [
              0.2222222222222222,
              "#7201a8"
             ],
             [
              0.3333333333333333,
              "#9c179e"
             ],
             [
              0.4444444444444444,
              "#bd3786"
             ],
             [
              0.5555555555555556,
              "#d8576b"
             ],
             [
              0.6666666666666666,
              "#ed7953"
             ],
             [
              0.7777777777777778,
              "#fb9f3a"
             ],
             [
              0.8888888888888888,
              "#fdca26"
             ],
             [
              1,
              "#f0f921"
             ]
            ],
            "type": "heatmapgl"
           }
          ],
          "histogram": [
           {
            "marker": {
             "pattern": {
              "fillmode": "overlay",
              "size": 10,
              "solidity": 0.2
             }
            },
            "type": "histogram"
           }
          ],
          "histogram2d": [
           {
            "colorbar": {
             "outlinewidth": 0,
             "ticks": ""
            },
            "colorscale": [
             [
              0,
              "#0d0887"
             ],
             [
              0.1111111111111111,
              "#46039f"
             ],
             [
              0.2222222222222222,
              "#7201a8"
             ],
             [
              0.3333333333333333,
              "#9c179e"
             ],
             [
              0.4444444444444444,
              "#bd3786"
             ],
             [
              0.5555555555555556,
              "#d8576b"
             ],
             [
              0.6666666666666666,
              "#ed7953"
             ],
             [
              0.7777777777777778,
              "#fb9f3a"
             ],
             [
              0.8888888888888888,
              "#fdca26"
             ],
             [
              1,
              "#f0f921"
             ]
            ],
            "type": "histogram2d"
           }
          ],
          "histogram2dcontour": [
           {
            "colorbar": {
             "outlinewidth": 0,
             "ticks": ""
            },
            "colorscale": [
             [
              0,
              "#0d0887"
             ],
             [
              0.1111111111111111,
              "#46039f"
             ],
             [
              0.2222222222222222,
              "#7201a8"
             ],
             [
              0.3333333333333333,
              "#9c179e"
             ],
             [
              0.4444444444444444,
              "#bd3786"
             ],
             [
              0.5555555555555556,
              "#d8576b"
             ],
             [
              0.6666666666666666,
              "#ed7953"
             ],
             [
              0.7777777777777778,
              "#fb9f3a"
             ],
             [
              0.8888888888888888,
              "#fdca26"
             ],
             [
              1,
              "#f0f921"
             ]
            ],
            "type": "histogram2dcontour"
           }
          ],
          "mesh3d": [
           {
            "colorbar": {
             "outlinewidth": 0,
             "ticks": ""
            },
            "type": "mesh3d"
           }
          ],
          "parcoords": [
           {
            "line": {
             "colorbar": {
              "outlinewidth": 0,
              "ticks": ""
             }
            },
            "type": "parcoords"
           }
          ],
          "pie": [
           {
            "automargin": true,
            "type": "pie"
           }
          ],
          "scatter": [
           {
            "fillpattern": {
             "fillmode": "overlay",
             "size": 10,
             "solidity": 0.2
            },
            "type": "scatter"
           }
          ],
          "scatter3d": [
           {
            "line": {
             "colorbar": {
              "outlinewidth": 0,
              "ticks": ""
             }
            },
            "marker": {
             "colorbar": {
              "outlinewidth": 0,
              "ticks": ""
             }
            },
            "type": "scatter3d"
           }
          ],
          "scattercarpet": [
           {
            "marker": {
             "colorbar": {
              "outlinewidth": 0,
              "ticks": ""
             }
            },
            "type": "scattercarpet"
           }
          ],
          "scattergeo": [
           {
            "marker": {
             "colorbar": {
              "outlinewidth": 0,
              "ticks": ""
             }
            },
            "type": "scattergeo"
           }
          ],
          "scattergl": [
           {
            "marker": {
             "colorbar": {
              "outlinewidth": 0,
              "ticks": ""
             }
            },
            "type": "scattergl"
           }
          ],
          "scattermapbox": [
           {
            "marker": {
             "colorbar": {
              "outlinewidth": 0,
              "ticks": ""
             }
            },
            "type": "scattermapbox"
           }
          ],
          "scatterpolar": [
           {
            "marker": {
             "colorbar": {
              "outlinewidth": 0,
              "ticks": ""
             }
            },
            "type": "scatterpolar"
           }
          ],
          "scatterpolargl": [
           {
            "marker": {
             "colorbar": {
              "outlinewidth": 0,
              "ticks": ""
             }
            },
            "type": "scatterpolargl"
           }
          ],
          "scatterternary": [
           {
            "marker": {
             "colorbar": {
              "outlinewidth": 0,
              "ticks": ""
             }
            },
            "type": "scatterternary"
           }
          ],
          "surface": [
           {
            "colorbar": {
             "outlinewidth": 0,
             "ticks": ""
            },
            "colorscale": [
             [
              0,
              "#0d0887"
             ],
             [
              0.1111111111111111,
              "#46039f"
             ],
             [
              0.2222222222222222,
              "#7201a8"
             ],
             [
              0.3333333333333333,
              "#9c179e"
             ],
             [
              0.4444444444444444,
              "#bd3786"
             ],
             [
              0.5555555555555556,
              "#d8576b"
             ],
             [
              0.6666666666666666,
              "#ed7953"
             ],
             [
              0.7777777777777778,
              "#fb9f3a"
             ],
             [
              0.8888888888888888,
              "#fdca26"
             ],
             [
              1,
              "#f0f921"
             ]
            ],
            "type": "surface"
           }
          ],
          "table": [
           {
            "cells": {
             "fill": {
              "color": "#EBF0F8"
             },
             "line": {
              "color": "white"
             }
            },
            "header": {
             "fill": {
              "color": "#C8D4E3"
             },
             "line": {
              "color": "white"
             }
            },
            "type": "table"
           }
          ]
         },
         "layout": {
          "annotationdefaults": {
           "arrowcolor": "#2a3f5f",
           "arrowhead": 0,
           "arrowwidth": 1
          },
          "autotypenumbers": "strict",
          "coloraxis": {
           "colorbar": {
            "outlinewidth": 0,
            "ticks": ""
           }
          },
          "colorscale": {
           "diverging": [
            [
             0,
             "#8e0152"
            ],
            [
             0.1,
             "#c51b7d"
            ],
            [
             0.2,
             "#de77ae"
            ],
            [
             0.3,
             "#f1b6da"
            ],
            [
             0.4,
             "#fde0ef"
            ],
            [
             0.5,
             "#f7f7f7"
            ],
            [
             0.6,
             "#e6f5d0"
            ],
            [
             0.7,
             "#b8e186"
            ],
            [
             0.8,
             "#7fbc41"
            ],
            [
             0.9,
             "#4d9221"
            ],
            [
             1,
             "#276419"
            ]
           ],
           "sequential": [
            [
             0,
             "#0d0887"
            ],
            [
             0.1111111111111111,
             "#46039f"
            ],
            [
             0.2222222222222222,
             "#7201a8"
            ],
            [
             0.3333333333333333,
             "#9c179e"
            ],
            [
             0.4444444444444444,
             "#bd3786"
            ],
            [
             0.5555555555555556,
             "#d8576b"
            ],
            [
             0.6666666666666666,
             "#ed7953"
            ],
            [
             0.7777777777777778,
             "#fb9f3a"
            ],
            [
             0.8888888888888888,
             "#fdca26"
            ],
            [
             1,
             "#f0f921"
            ]
           ],
           "sequentialminus": [
            [
             0,
             "#0d0887"
            ],
            [
             0.1111111111111111,
             "#46039f"
            ],
            [
             0.2222222222222222,
             "#7201a8"
            ],
            [
             0.3333333333333333,
             "#9c179e"
            ],
            [
             0.4444444444444444,
             "#bd3786"
            ],
            [
             0.5555555555555556,
             "#d8576b"
            ],
            [
             0.6666666666666666,
             "#ed7953"
            ],
            [
             0.7777777777777778,
             "#fb9f3a"
            ],
            [
             0.8888888888888888,
             "#fdca26"
            ],
            [
             1,
             "#f0f921"
            ]
           ]
          },
          "colorway": [
           "#636efa",
           "#EF553B",
           "#00cc96",
           "#ab63fa",
           "#FFA15A",
           "#19d3f3",
           "#FF6692",
           "#B6E880",
           "#FF97FF",
           "#FECB52"
          ],
          "font": {
           "color": "#2a3f5f"
          },
          "geo": {
           "bgcolor": "white",
           "lakecolor": "white",
           "landcolor": "#E5ECF6",
           "showlakes": true,
           "showland": true,
           "subunitcolor": "white"
          },
          "hoverlabel": {
           "align": "left"
          },
          "hovermode": "closest",
          "mapbox": {
           "style": "light"
          },
          "paper_bgcolor": "white",
          "plot_bgcolor": "#E5ECF6",
          "polar": {
           "angularaxis": {
            "gridcolor": "white",
            "linecolor": "white",
            "ticks": ""
           },
           "bgcolor": "#E5ECF6",
           "radialaxis": {
            "gridcolor": "white",
            "linecolor": "white",
            "ticks": ""
           }
          },
          "scene": {
           "xaxis": {
            "backgroundcolor": "#E5ECF6",
            "gridcolor": "white",
            "gridwidth": 2,
            "linecolor": "white",
            "showbackground": true,
            "ticks": "",
            "zerolinecolor": "white"
           },
           "yaxis": {
            "backgroundcolor": "#E5ECF6",
            "gridcolor": "white",
            "gridwidth": 2,
            "linecolor": "white",
            "showbackground": true,
            "ticks": "",
            "zerolinecolor": "white"
           },
           "zaxis": {
            "backgroundcolor": "#E5ECF6",
            "gridcolor": "white",
            "gridwidth": 2,
            "linecolor": "white",
            "showbackground": true,
            "ticks": "",
            "zerolinecolor": "white"
           }
          },
          "shapedefaults": {
           "line": {
            "color": "#2a3f5f"
           }
          },
          "ternary": {
           "aaxis": {
            "gridcolor": "white",
            "linecolor": "white",
            "ticks": ""
           },
           "baxis": {
            "gridcolor": "white",
            "linecolor": "white",
            "ticks": ""
           },
           "bgcolor": "#E5ECF6",
           "caxis": {
            "gridcolor": "white",
            "linecolor": "white",
            "ticks": ""
           }
          },
          "title": {
           "x": 0.05
          },
          "xaxis": {
           "automargin": true,
           "gridcolor": "white",
           "linecolor": "white",
           "ticks": "",
           "title": {
            "standoff": 15
           },
           "zerolinecolor": "white",
           "zerolinewidth": 2
          },
          "yaxis": {
           "automargin": true,
           "gridcolor": "white",
           "linecolor": "white",
           "ticks": "",
           "title": {
            "standoff": 15
           },
           "zerolinecolor": "white",
           "zerolinewidth": 2
          }
         }
        },
        "xaxis": {
         "anchor": "y",
         "domain": [
          0,
          1
         ],
         "title": {
          "text": "Thick"
         }
        },
        "yaxis": {
         "anchor": "x",
         "domain": [
          0,
          1
         ],
         "title": {
          "text": "count"
         }
        }
       }
      },
      "text/html": [
       "<div>                            <div id=\"1e885fc2-f06c-4965-8dd7-8d5b7e718628\" class=\"plotly-graph-div\" style=\"height:525px; width:100%;\"></div>            <script type=\"text/javascript\">                require([\"plotly\"], function(Plotly) {                    window.PLOTLYENV=window.PLOTLYENV || {};                                    if (document.getElementById(\"1e885fc2-f06c-4965-8dd7-8d5b7e718628\")) {                    Plotly.newPlot(                        \"1e885fc2-f06c-4965-8dd7-8d5b7e718628\",                        [{\"alignmentgroup\":\"True\",\"bingroup\":\"x\",\"hovertemplate\":\"Thick=%{x}\\u003cbr\\u003ecount=%{y}\\u003cextra\\u003e\\u003c\\u002fextra\\u003e\",\"legendgroup\":\"\",\"marker\":{\"color\":\"#636efa\",\"pattern\":{\"shape\":\"\"}},\"name\":\"\",\"offsetgroup\":\"\",\"orientation\":\"v\",\"showlegend\":false,\"x\":[0.8,0.7,0.3,1.6,1.4,1.7,1.2,0.8,1.1,1.7,1.5,1.3,1.0,0.8,1.0,0.5,0.8,0.6,0.7,0.5,1.2,0.5,0.8,1.4,0.7,1.2,1.1,1.0,0.9,0.6,0.9,1.8,0.4,0.5,0.4,0.9,0.6,0.8,0.5,0.4,0.2,1.1,1.0,0.7,0.8,0.4,1.5,1.0,1.4,1.3,0.9,1.5,0.9,0.9,0.1,1.2,0.6,0.8,0.6,1.2,1.2,0.8,0.8,0.8,1.6,0.8,1.6,1.0,1.0,0.8,0.8,0.5,0.7,0.7,0.7,0.7,1.0,0.9,1.1,0.6,0.8,1.4,1.7,1.5,0.9,0.3,0.8,1.0,0.9,1.2,1.2,0.9,1.8,0.9,0.4,0.9,0.6,0.5,0.5,1.0,0.8,1.5,1.4,0.4,2.1,0.6,0.2,0.5,1.1,1.8,0.6,0.6,0.8,0.9,1.1,1.2,0.6,0.7,1.0,1.0,0.6,0.9,1.2,0.6,1.4,0.5,1.0,0.6,0.9,1.4,1.1,1.0,2.0,1.0,1.5,0.6,1.0,1.2,1.0,0.7,0.7,0.8,0.6,0.7,1.0,0.4,0.9,1.5,1.0,0.7,0.7,0.9,0.7,1.1,0.4,0.4,1.2,0.6,0.6,0.5,0.7,0.7,1.2,1.5,1.0,1.0,1.4,1.1,0.4,0.8,1.3,1.0,1.0,0.6,1.2,0.8,1.0,0.7,0.9,0.7,0.9,1.2,1.3,0.7,0.6,1.1,0.6,1.0,0.8,0.8,1.4,0.5,1.6,0.5,0.4,1.2,0.6,0.5,0.5,0.6,0.8,0.9,1.4,0.7,0.8,0.9,0.5,0.7,0.4,0.9,1.2,1.3,0.9,0.3,0.4,1.7,1.0,0.7,0.4,0.4,0.9,0.6,1.3,1.0,1.6,0.5,0.6,0.6,0.7,0.7,1.5,1.1,0.5,0.4,1.4,0.8,0.7,0.5,0.5,0.7,1.1,0.9,0.8,0.5,0.8,1.2,1.2,0.8,1.0,0.8,1.6,1.4,0.5,1.0,0.8,1.2,1.2,0.8,0.6,0.6,1.3,0.7,0.5,0.4,1.5,1.2,0.8,0.5,1.1,0.5,1.5,0.6,1.0,0.9,0.5,1.0,1.0,0.3,0.6,0.8,1.5,1.0,0.8,1.0,0.6,0.5,1.2,0.7,1.1,0.7,1.2,1.3,1.5,1.7,0.5,0.7,0.7,0.4,1.0,1.0,1.7,1.3,1.4,0.4,0.8,0.5,0.8,1.4,1.7,0.9,0.7,0.9,1.0,0.5,1.1,0.7,0.7,0.9,1.0],\"xaxis\":\"x\",\"yaxis\":\"y\",\"type\":\"histogram\"}],                        {\"template\":{\"data\":{\"histogram2dcontour\":[{\"type\":\"histogram2dcontour\",\"colorbar\":{\"outlinewidth\":0,\"ticks\":\"\"},\"colorscale\":[[0.0,\"#0d0887\"],[0.1111111111111111,\"#46039f\"],[0.2222222222222222,\"#7201a8\"],[0.3333333333333333,\"#9c179e\"],[0.4444444444444444,\"#bd3786\"],[0.5555555555555556,\"#d8576b\"],[0.6666666666666666,\"#ed7953\"],[0.7777777777777778,\"#fb9f3a\"],[0.8888888888888888,\"#fdca26\"],[1.0,\"#f0f921\"]]}],\"choropleth\":[{\"type\":\"choropleth\",\"colorbar\":{\"outlinewidth\":0,\"ticks\":\"\"}}],\"histogram2d\":[{\"type\":\"histogram2d\",\"colorbar\":{\"outlinewidth\":0,\"ticks\":\"\"},\"colorscale\":[[0.0,\"#0d0887\"],[0.1111111111111111,\"#46039f\"],[0.2222222222222222,\"#7201a8\"],[0.3333333333333333,\"#9c179e\"],[0.4444444444444444,\"#bd3786\"],[0.5555555555555556,\"#d8576b\"],[0.6666666666666666,\"#ed7953\"],[0.7777777777777778,\"#fb9f3a\"],[0.8888888888888888,\"#fdca26\"],[1.0,\"#f0f921\"]]}],\"heatmap\":[{\"type\":\"heatmap\",\"colorbar\":{\"outlinewidth\":0,\"ticks\":\"\"},\"colorscale\":[[0.0,\"#0d0887\"],[0.1111111111111111,\"#46039f\"],[0.2222222222222222,\"#7201a8\"],[0.3333333333333333,\"#9c179e\"],[0.4444444444444444,\"#bd3786\"],[0.5555555555555556,\"#d8576b\"],[0.6666666666666666,\"#ed7953\"],[0.7777777777777778,\"#fb9f3a\"],[0.8888888888888888,\"#fdca26\"],[1.0,\"#f0f921\"]]}],\"heatmapgl\":[{\"type\":\"heatmapgl\",\"colorbar\":{\"outlinewidth\":0,\"ticks\":\"\"},\"colorscale\":[[0.0,\"#0d0887\"],[0.1111111111111111,\"#46039f\"],[0.2222222222222222,\"#7201a8\"],[0.3333333333333333,\"#9c179e\"],[0.4444444444444444,\"#bd3786\"],[0.5555555555555556,\"#d8576b\"],[0.6666666666666666,\"#ed7953\"],[0.7777777777777778,\"#fb9f3a\"],[0.8888888888888888,\"#fdca26\"],[1.0,\"#f0f921\"]]}],\"contourcarpet\":[{\"type\":\"contourcarpet\",\"colorbar\":{\"outlinewidth\":0,\"ticks\":\"\"}}],\"contour\":[{\"type\":\"contour\",\"colorbar\":{\"outlinewidth\":0,\"ticks\":\"\"},\"colorscale\":[[0.0,\"#0d0887\"],[0.1111111111111111,\"#46039f\"],[0.2222222222222222,\"#7201a8\"],[0.3333333333333333,\"#9c179e\"],[0.4444444444444444,\"#bd3786\"],[0.5555555555555556,\"#d8576b\"],[0.6666666666666666,\"#ed7953\"],[0.7777777777777778,\"#fb9f3a\"],[0.8888888888888888,\"#fdca26\"],[1.0,\"#f0f921\"]]}],\"surface\":[{\"type\":\"surface\",\"colorbar\":{\"outlinewidth\":0,\"ticks\":\"\"},\"colorscale\":[[0.0,\"#0d0887\"],[0.1111111111111111,\"#46039f\"],[0.2222222222222222,\"#7201a8\"],[0.3333333333333333,\"#9c179e\"],[0.4444444444444444,\"#bd3786\"],[0.5555555555555556,\"#d8576b\"],[0.6666666666666666,\"#ed7953\"],[0.7777777777777778,\"#fb9f3a\"],[0.8888888888888888,\"#fdca26\"],[1.0,\"#f0f921\"]]}],\"mesh3d\":[{\"type\":\"mesh3d\",\"colorbar\":{\"outlinewidth\":0,\"ticks\":\"\"}}],\"scatter\":[{\"fillpattern\":{\"fillmode\":\"overlay\",\"size\":10,\"solidity\":0.2},\"type\":\"scatter\"}],\"parcoords\":[{\"type\":\"parcoords\",\"line\":{\"colorbar\":{\"outlinewidth\":0,\"ticks\":\"\"}}}],\"scatterpolargl\":[{\"type\":\"scatterpolargl\",\"marker\":{\"colorbar\":{\"outlinewidth\":0,\"ticks\":\"\"}}}],\"bar\":[{\"error_x\":{\"color\":\"#2a3f5f\"},\"error_y\":{\"color\":\"#2a3f5f\"},\"marker\":{\"line\":{\"color\":\"#E5ECF6\",\"width\":0.5},\"pattern\":{\"fillmode\":\"overlay\",\"size\":10,\"solidity\":0.2}},\"type\":\"bar\"}],\"scattergeo\":[{\"type\":\"scattergeo\",\"marker\":{\"colorbar\":{\"outlinewidth\":0,\"ticks\":\"\"}}}],\"scatterpolar\":[{\"type\":\"scatterpolar\",\"marker\":{\"colorbar\":{\"outlinewidth\":0,\"ticks\":\"\"}}}],\"histogram\":[{\"marker\":{\"pattern\":{\"fillmode\":\"overlay\",\"size\":10,\"solidity\":0.2}},\"type\":\"histogram\"}],\"scattergl\":[{\"type\":\"scattergl\",\"marker\":{\"colorbar\":{\"outlinewidth\":0,\"ticks\":\"\"}}}],\"scatter3d\":[{\"type\":\"scatter3d\",\"line\":{\"colorbar\":{\"outlinewidth\":0,\"ticks\":\"\"}},\"marker\":{\"colorbar\":{\"outlinewidth\":0,\"ticks\":\"\"}}}],\"scattermapbox\":[{\"type\":\"scattermapbox\",\"marker\":{\"colorbar\":{\"outlinewidth\":0,\"ticks\":\"\"}}}],\"scatterternary\":[{\"type\":\"scatterternary\",\"marker\":{\"colorbar\":{\"outlinewidth\":0,\"ticks\":\"\"}}}],\"scattercarpet\":[{\"type\":\"scattercarpet\",\"marker\":{\"colorbar\":{\"outlinewidth\":0,\"ticks\":\"\"}}}],\"carpet\":[{\"aaxis\":{\"endlinecolor\":\"#2a3f5f\",\"gridcolor\":\"white\",\"linecolor\":\"white\",\"minorgridcolor\":\"white\",\"startlinecolor\":\"#2a3f5f\"},\"baxis\":{\"endlinecolor\":\"#2a3f5f\",\"gridcolor\":\"white\",\"linecolor\":\"white\",\"minorgridcolor\":\"white\",\"startlinecolor\":\"#2a3f5f\"},\"type\":\"carpet\"}],\"table\":[{\"cells\":{\"fill\":{\"color\":\"#EBF0F8\"},\"line\":{\"color\":\"white\"}},\"header\":{\"fill\":{\"color\":\"#C8D4E3\"},\"line\":{\"color\":\"white\"}},\"type\":\"table\"}],\"barpolar\":[{\"marker\":{\"line\":{\"color\":\"#E5ECF6\",\"width\":0.5},\"pattern\":{\"fillmode\":\"overlay\",\"size\":10,\"solidity\":0.2}},\"type\":\"barpolar\"}],\"pie\":[{\"automargin\":true,\"type\":\"pie\"}]},\"layout\":{\"autotypenumbers\":\"strict\",\"colorway\":[\"#636efa\",\"#EF553B\",\"#00cc96\",\"#ab63fa\",\"#FFA15A\",\"#19d3f3\",\"#FF6692\",\"#B6E880\",\"#FF97FF\",\"#FECB52\"],\"font\":{\"color\":\"#2a3f5f\"},\"hovermode\":\"closest\",\"hoverlabel\":{\"align\":\"left\"},\"paper_bgcolor\":\"white\",\"plot_bgcolor\":\"#E5ECF6\",\"polar\":{\"bgcolor\":\"#E5ECF6\",\"angularaxis\":{\"gridcolor\":\"white\",\"linecolor\":\"white\",\"ticks\":\"\"},\"radialaxis\":{\"gridcolor\":\"white\",\"linecolor\":\"white\",\"ticks\":\"\"}},\"ternary\":{\"bgcolor\":\"#E5ECF6\",\"aaxis\":{\"gridcolor\":\"white\",\"linecolor\":\"white\",\"ticks\":\"\"},\"baxis\":{\"gridcolor\":\"white\",\"linecolor\":\"white\",\"ticks\":\"\"},\"caxis\":{\"gridcolor\":\"white\",\"linecolor\":\"white\",\"ticks\":\"\"}},\"coloraxis\":{\"colorbar\":{\"outlinewidth\":0,\"ticks\":\"\"}},\"colorscale\":{\"sequential\":[[0.0,\"#0d0887\"],[0.1111111111111111,\"#46039f\"],[0.2222222222222222,\"#7201a8\"],[0.3333333333333333,\"#9c179e\"],[0.4444444444444444,\"#bd3786\"],[0.5555555555555556,\"#d8576b\"],[0.6666666666666666,\"#ed7953\"],[0.7777777777777778,\"#fb9f3a\"],[0.8888888888888888,\"#fdca26\"],[1.0,\"#f0f921\"]],\"sequentialminus\":[[0.0,\"#0d0887\"],[0.1111111111111111,\"#46039f\"],[0.2222222222222222,\"#7201a8\"],[0.3333333333333333,\"#9c179e\"],[0.4444444444444444,\"#bd3786\"],[0.5555555555555556,\"#d8576b\"],[0.6666666666666666,\"#ed7953\"],[0.7777777777777778,\"#fb9f3a\"],[0.8888888888888888,\"#fdca26\"],[1.0,\"#f0f921\"]],\"diverging\":[[0,\"#8e0152\"],[0.1,\"#c51b7d\"],[0.2,\"#de77ae\"],[0.3,\"#f1b6da\"],[0.4,\"#fde0ef\"],[0.5,\"#f7f7f7\"],[0.6,\"#e6f5d0\"],[0.7,\"#b8e186\"],[0.8,\"#7fbc41\"],[0.9,\"#4d9221\"],[1,\"#276419\"]]},\"xaxis\":{\"gridcolor\":\"white\",\"linecolor\":\"white\",\"ticks\":\"\",\"title\":{\"standoff\":15},\"zerolinecolor\":\"white\",\"automargin\":true,\"zerolinewidth\":2},\"yaxis\":{\"gridcolor\":\"white\",\"linecolor\":\"white\",\"ticks\":\"\",\"title\":{\"standoff\":15},\"zerolinecolor\":\"white\",\"automargin\":true,\"zerolinewidth\":2},\"scene\":{\"xaxis\":{\"backgroundcolor\":\"#E5ECF6\",\"gridcolor\":\"white\",\"linecolor\":\"white\",\"showbackground\":true,\"ticks\":\"\",\"zerolinecolor\":\"white\",\"gridwidth\":2},\"yaxis\":{\"backgroundcolor\":\"#E5ECF6\",\"gridcolor\":\"white\",\"linecolor\":\"white\",\"showbackground\":true,\"ticks\":\"\",\"zerolinecolor\":\"white\",\"gridwidth\":2},\"zaxis\":{\"backgroundcolor\":\"#E5ECF6\",\"gridcolor\":\"white\",\"linecolor\":\"white\",\"showbackground\":true,\"ticks\":\"\",\"zerolinecolor\":\"white\",\"gridwidth\":2}},\"shapedefaults\":{\"line\":{\"color\":\"#2a3f5f\"}},\"annotationdefaults\":{\"arrowcolor\":\"#2a3f5f\",\"arrowhead\":0,\"arrowwidth\":1},\"geo\":{\"bgcolor\":\"white\",\"landcolor\":\"#E5ECF6\",\"subunitcolor\":\"white\",\"showland\":true,\"showlakes\":true,\"lakecolor\":\"white\"},\"title\":{\"x\":0.05},\"mapbox\":{\"style\":\"light\"}}},\"xaxis\":{\"anchor\":\"y\",\"domain\":[0.0,1.0],\"title\":{\"text\":\"Thick\"}},\"yaxis\":{\"anchor\":\"x\",\"domain\":[0.0,1.0],\"title\":{\"text\":\"count\"}},\"legend\":{\"tracegroupgap\":0},\"margin\":{\"t\":60},\"barmode\":\"relative\"},                        {\"responsive\": true}                    ).then(function(){\n",
       "                            \n",
       "var gd = document.getElementById('1e885fc2-f06c-4965-8dd7-8d5b7e718628');\n",
       "var x = new MutationObserver(function (mutations, observer) {{\n",
       "        var display = window.getComputedStyle(gd).display;\n",
       "        if (!display || display === 'none') {{\n",
       "            console.log([gd, 'removed!']);\n",
       "            Plotly.purge(gd);\n",
       "            observer.disconnect();\n",
       "        }}\n",
       "}});\n",
       "\n",
       "// Listen for the removal of the full notebook cells\n",
       "var notebookContainer = gd.closest('#notebook-container');\n",
       "if (notebookContainer) {{\n",
       "    x.observe(notebookContainer, {childList: true});\n",
       "}}\n",
       "\n",
       "// Listen for the clearing of the current output cell\n",
       "var outputEl = gd.closest('.output');\n",
       "if (outputEl) {{\n",
       "    x.observe(outputEl, {childList: true});\n",
       "}}\n",
       "\n",
       "                        })                };                });            </script>        </div>"
      ]
     },
     "metadata": {},
     "output_type": "display_data"
    }
   ],
   "source": [
    "px.histogram(ab_noNaN, x='Thick')"
   ]
  },
  {
   "cell_type": "markdown",
   "id": "55a9e0d3",
   "metadata": {},
   "source": [
    "- Sample: of thinkness in 319 amazon.com book listings 2011\n",
    "    - Statistic: a function of data characterizing the data\n",
    "        - sample mean \n",
    "\n",
    "            $\\bar x = \\frac{1}{n} \\sum_{i=1}^n x_i \\longrightarrow \\text{ estimates population mean parameter } \\mu$  \n",
    "            \n",
    "        - sample variance  \n",
    "        \n",
    "           $s^2 = \\frac{1}{n-1} \\sum_{i=1}^n (x_i-\\bar x)^2 \\longrightarrow \\text{ estimates population variance parameter } \\sigma^2$\n",
    "        - sample standard deviation \n",
    "        \n",
    "           $s = \\sqrt{s^2}$\n",
    "      \n",
    "      \n",
    "      \n",
    "**Statistics estimate paramters**      \n",
    "      \n",
    "- Population: ALL amazon.com book listings 2011\n",
    "    - Parameter: the statistic if it was calculated on ALL the population\n",
    "    \n",
    "  "
   ]
  },
  {
   "cell_type": "code",
   "execution_count": 19,
   "id": "3637211d",
   "metadata": {},
   "outputs": [
    {
     "data": {
      "text/plain": [
       "2011"
      ]
     },
     "execution_count": 19,
     "metadata": {},
     "output_type": "execute_result"
    }
   ],
   "source": [
    "ab_noNaN['Pub year'].max()"
   ]
  },
  {
   "cell_type": "code",
   "execution_count": 21,
   "id": "198ec7ce",
   "metadata": {},
   "outputs": [
    {
     "data": {
      "text/plain": [
       "(0.9034482758620691, 0.365261201002392)"
      ]
     },
     "execution_count": 21,
     "metadata": {},
     "output_type": "execute_result"
    }
   ],
   "source": [
    "ab_noNaN.Thick.mean(), ab_noNaN.Thick.std(ddof=1) # ab_noNaN.Thick.var()\n",
    "\n"
   ]
  },
  {
   "cell_type": "code",
   "execution_count": 23,
   "id": "b2223f30",
   "metadata": {},
   "outputs": [],
   "source": [
    "from scipy import stats\n",
    "mu,sd = 1,.35\n",
    "\n",
    "my_normal_theoretical_population = stats.norm(loc=mu, scale=sd)"
   ]
  },
  {
   "cell_type": "code",
   "execution_count": 24,
   "id": "b31d20a5",
   "metadata": {},
   "outputs": [],
   "source": [
    "my_theoretical_sample = my_normal_theoretical_population.rvs(size = 319)"
   ]
  },
  {
   "cell_type": "code",
   "execution_count": 25,
   "id": "ffc1ae7c",
   "metadata": {},
   "outputs": [
    {
     "data": {
      "application/vnd.plotly.v1+json": {
       "config": {
        "plotlyServerURL": "https://plot.ly"
       },
       "data": [
        {
         "alignmentgroup": "True",
         "bingroup": "x",
         "hovertemplate": "my_theoretical_sample=%{x}<br>count=%{y}<extra></extra>",
         "legendgroup": "",
         "marker": {
          "color": "#636efa",
          "pattern": {
           "shape": ""
          }
         },
         "name": "",
         "offsetgroup": "",
         "orientation": "v",
         "showlegend": false,
         "type": "histogram",
         "x": [
          1.1066225103637195,
          0.9722454668455022,
          0.9772641262551858,
          1.4711181237072632,
          1.483448868041174,
          0.6916767109932962,
          0.7412212200727465,
          0.860166818575792,
          1.2059902046196713,
          1.536355642718692,
          1.425242435336631,
          0.8817577849125996,
          0.6673620639122065,
          1.3669151438515614,
          1.0554427495232572,
          0.7753807469153989,
          1.250214904425234,
          0.8934446319758524,
          0.9069469106904434,
          1.1057884226032797,
          0.35641250266933144,
          0.8068939829528667,
          1.1191482968704707,
          1.1580235071686968,
          1.627763103345894,
          0.9967664870898058,
          1.2870092112857834,
          0.8153358745138598,
          0.49675397799552035,
          1.0007303817506374,
          1.266459801512994,
          0.6673468840431664,
          1.0704705161340362,
          0.5990162096037863,
          0.8849219268468265,
          1.2940512195361613,
          0.45352784796909906,
          0.855665935849025,
          1.293509714230352,
          1.1131544559523756,
          1.304543317544688,
          0.5579651668900956,
          1.1045961243465567,
          1.0148683001383856,
          0.7812666177469175,
          0.6132643934324372,
          0.2929490363993078,
          1.2168139665880608,
          1.4431350794975901,
          1.3023697770361922,
          1.334986382013095,
          0.8053710521906396,
          1.431260833247529,
          1.1155264218637144,
          0.9643865881857544,
          1.3633799860406417,
          0.9660704019904852,
          0.7166765914383828,
          0.8203279526032297,
          1.0663866031015177,
          1.5222664722813444,
          0.5573033577072356,
          0.8374466552513731,
          0.8731678673514021,
          0.6963026746375747,
          1.2330338041885802,
          0.9436696499815459,
          0.2301000242991873,
          0.7303074637918932,
          0.9485635902645472,
          1.4170030605846247,
          1.4251009704341397,
          0.2314084207980711,
          1.2069453075462588,
          1.1676404982153477,
          1.4023220377531245,
          1.2246231312401894,
          0.20111475992960182,
          0.37761997553392324,
          1.1002491241367567,
          1.4077262507392985,
          1.0056338876210256,
          0.7446699009578983,
          1.4559543310830236,
          1.0064861161752081,
          0.41523282226550007,
          0.998233469401592,
          1.2032460664859104,
          0.30837826739551044,
          0.6106856808157116,
          1.4620689405572653,
          1.062934128799256,
          1.1351664665609726,
          0.5812554816899287,
          0.6540858125145207,
          1.365972688090525,
          1.0350231755672914,
          1.2433992224844448,
          1.2130626698399254,
          1.3529927961623134,
          0.9328583566030408,
          1.5265786380337758,
          1.2228427104229793,
          0.9676420498410393,
          0.636896955706667,
          0.5348743875719969,
          1.3096586530690795,
          0.9518557390357583,
          1.105987173942193,
          0.33922664699468585,
          0.4137870027516377,
          1.4543705218715597,
          1.3188497191327384,
          1.0831963844626453,
          0.5160327581213813,
          0.5974523446598646,
          1.3889100436245365,
          0.8423863650575859,
          0.732874002504805,
          0.9827358143606304,
          0.7217278878164137,
          1.5294458972867022,
          0.9680925607044955,
          1.2029576614444506,
          0.663170984685969,
          1.1417335700067404,
          1.1330843524024412,
          0.6878739040754007,
          1.5999603396159894,
          1.2394501804151197,
          0.9242342456878949,
          -0.04079361909244206,
          0.983594431697444,
          0.985139875492642,
          1.4083746586309471,
          1.0705717000593407,
          1.5256167785881245,
          0.8985259900236567,
          0.45059177434297804,
          1.6228426616174563,
          1.0834593229160772,
          1.4920403408005118,
          1.1370509177176138,
          1.1043862947941019,
          1.1003790712924062,
          0.7946987834995312,
          1.3384070666841121,
          0.9526482878791189,
          0.8332278436183562,
          0.9747787972021512,
          0.6709619877366055,
          0.9218313301308071,
          0.9727589478037174,
          1.170471916569093,
          1.5059624939302898,
          0.49695980735684087,
          0.6610144873194269,
          0.7011565615963999,
          0.07478204297654101,
          0.941114028844963,
          1.0241230486255313,
          0.6015651682754897,
          0.8881927090197247,
          1.068398932300699,
          1.7927991171102309,
          1.1977722266318522,
          0.46873015705616594,
          0.8016403505656244,
          1.4815229031347565,
          1.8950580803273347,
          1.0358846743457464,
          0.9532916096074714,
          1.104413234310812,
          0.5585635691549498,
          0.762163030851769,
          0.42095954131575186,
          0.7652988153127855,
          0.5318709033388003,
          1.595690287629019,
          1.1327347167388877,
          1.2948934128425684,
          1.0816127489134952,
          1.7710964603879833,
          1.1994126915058474,
          1.3176068250347077,
          0.8405307594528545,
          0.5916383915751757,
          0.6858116646487381,
          1.2234955643624488,
          0.5567114336966055,
          1.4353761762754984,
          0.8918790375522453,
          1.2168441831216381,
          0.6991874125144794,
          1.0172021904965889,
          0.8260422567817839,
          0.7381093655090856,
          0.6406299425247224,
          1.4490473687555196,
          1.0319890001306449,
          0.965460870313225,
          0.9116306657322548,
          1.295019592636103,
          1.2407966356860967,
          0.9106823004560773,
          0.4341978107407206,
          1.2512717311920083,
          1.3198057553917373,
          1.3850748777629167,
          0.6164614335860222,
          1.256811629916303,
          1.640890440735933,
          1.2840796536345418,
          1.1888191092933162,
          1.4594518833327383,
          0.6282924506683742,
          1.5120412543436375,
          1.1623300258687053,
          1.1930353437969052,
          0.9222090541365224,
          1.0929982387920367,
          0.8172226775739069,
          0.9900869897649637,
          0.9558758297814629,
          1.199483718578505,
          1.7076344448052927,
          1.1828158630609822,
          1.494883322743625,
          1.087136996566688,
          0.6612512919424807,
          1.4834600083060314,
          1.7274734812935266,
          0.656383924717826,
          1.4118251307350524,
          1.0107568281334687,
          0.8583340511873782,
          0.8115088375834829,
          1.149321089871845,
          0.7503699233372256,
          0.9305208468697236,
          0.20905066462205946,
          0.6684317621257845,
          1.1501729126107052,
          0.9757063831028618,
          1.4945866475378975,
          1.1957104371622223,
          0.8549817809364022,
          0.7734399304148389,
          0.5454306449743045,
          1.0047424007059127,
          1.1502720030956115,
          1.4573226325537174,
          0.7420957673772488,
          1.4127054853880234,
          1.0106005180794806,
          1.3257642249933292,
          0.33578066377090043,
          1.0257672814686534,
          0.8880020383842507,
          0.8201262327436948,
          1.3381745963916285,
          0.5114860091699454,
          1.2313197774090554,
          0.8171991142690668,
          0.8696341817425168,
          0.9145798598686437,
          1.3809556958751228,
          1.2664781546050412,
          0.8900129482380612,
          1.2964237595001633,
          1.5497017453641297,
          0.5929024773803786,
          1.2361354750387417,
          0.9001576154527858,
          1.4192799847956756,
          0.6768157106936429,
          0.1060687549028081,
          1.3614033432934023,
          0.7607290941578609,
          1.0502442103302299,
          1.385830193506051,
          1.5126951073352595,
          1.1708732884965312,
          0.6137246714121846,
          1.3646477834380084,
          1.5214670946413869,
          0.8406681269913812,
          1.209687955863628,
          1.129091039133992,
          0.48405124039097414,
          1.3565966874879059,
          1.1626481484818594,
          0.44415939612836,
          1.3025606042393663,
          0.6690709069452399,
          1.3523411376253107,
          1.0512309233335515,
          1.5007109211894183,
          0.7587046227929646,
          0.9138146350924999,
          0.8313862795560116,
          1.849872436715637,
          0.731093394399264,
          1.0004592351439345,
          1.0571557992285996,
          0.7915106358547453,
          1.2325679005427994,
          1.1144433339273265,
          0.9721900149160924,
          0.887329534434942,
          1.5118870859301556,
          0.3089960293432902,
          0.956005419789227,
          1.7645238373953682,
          0.4371379964574329,
          0.772833211753403,
          1.0304395134663389,
          1.0847540613650521,
          1.3647221661638573
         ],
         "xaxis": "x",
         "yaxis": "y"
        }
       ],
       "layout": {
        "barmode": "relative",
        "legend": {
         "tracegroupgap": 0
        },
        "margin": {
         "t": 60
        },
        "template": {
         "data": {
          "bar": [
           {
            "error_x": {
             "color": "#2a3f5f"
            },
            "error_y": {
             "color": "#2a3f5f"
            },
            "marker": {
             "line": {
              "color": "#E5ECF6",
              "width": 0.5
             },
             "pattern": {
              "fillmode": "overlay",
              "size": 10,
              "solidity": 0.2
             }
            },
            "type": "bar"
           }
          ],
          "barpolar": [
           {
            "marker": {
             "line": {
              "color": "#E5ECF6",
              "width": 0.5
             },
             "pattern": {
              "fillmode": "overlay",
              "size": 10,
              "solidity": 0.2
             }
            },
            "type": "barpolar"
           }
          ],
          "carpet": [
           {
            "aaxis": {
             "endlinecolor": "#2a3f5f",
             "gridcolor": "white",
             "linecolor": "white",
             "minorgridcolor": "white",
             "startlinecolor": "#2a3f5f"
            },
            "baxis": {
             "endlinecolor": "#2a3f5f",
             "gridcolor": "white",
             "linecolor": "white",
             "minorgridcolor": "white",
             "startlinecolor": "#2a3f5f"
            },
            "type": "carpet"
           }
          ],
          "choropleth": [
           {
            "colorbar": {
             "outlinewidth": 0,
             "ticks": ""
            },
            "type": "choropleth"
           }
          ],
          "contour": [
           {
            "colorbar": {
             "outlinewidth": 0,
             "ticks": ""
            },
            "colorscale": [
             [
              0,
              "#0d0887"
             ],
             [
              0.1111111111111111,
              "#46039f"
             ],
             [
              0.2222222222222222,
              "#7201a8"
             ],
             [
              0.3333333333333333,
              "#9c179e"
             ],
             [
              0.4444444444444444,
              "#bd3786"
             ],
             [
              0.5555555555555556,
              "#d8576b"
             ],
             [
              0.6666666666666666,
              "#ed7953"
             ],
             [
              0.7777777777777778,
              "#fb9f3a"
             ],
             [
              0.8888888888888888,
              "#fdca26"
             ],
             [
              1,
              "#f0f921"
             ]
            ],
            "type": "contour"
           }
          ],
          "contourcarpet": [
           {
            "colorbar": {
             "outlinewidth": 0,
             "ticks": ""
            },
            "type": "contourcarpet"
           }
          ],
          "heatmap": [
           {
            "colorbar": {
             "outlinewidth": 0,
             "ticks": ""
            },
            "colorscale": [
             [
              0,
              "#0d0887"
             ],
             [
              0.1111111111111111,
              "#46039f"
             ],
             [
              0.2222222222222222,
              "#7201a8"
             ],
             [
              0.3333333333333333,
              "#9c179e"
             ],
             [
              0.4444444444444444,
              "#bd3786"
             ],
             [
              0.5555555555555556,
              "#d8576b"
             ],
             [
              0.6666666666666666,
              "#ed7953"
             ],
             [
              0.7777777777777778,
              "#fb9f3a"
             ],
             [
              0.8888888888888888,
              "#fdca26"
             ],
             [
              1,
              "#f0f921"
             ]
            ],
            "type": "heatmap"
           }
          ],
          "heatmapgl": [
           {
            "colorbar": {
             "outlinewidth": 0,
             "ticks": ""
            },
            "colorscale": [
             [
              0,
              "#0d0887"
             ],
             [
              0.1111111111111111,
              "#46039f"
             ],
             [
              0.2222222222222222,
              "#7201a8"
             ],
             [
              0.3333333333333333,
              "#9c179e"
             ],
             [
              0.4444444444444444,
              "#bd3786"
             ],
             [
              0.5555555555555556,
              "#d8576b"
             ],
             [
              0.6666666666666666,
              "#ed7953"
             ],
             [
              0.7777777777777778,
              "#fb9f3a"
             ],
             [
              0.8888888888888888,
              "#fdca26"
             ],
             [
              1,
              "#f0f921"
             ]
            ],
            "type": "heatmapgl"
           }
          ],
          "histogram": [
           {
            "marker": {
             "pattern": {
              "fillmode": "overlay",
              "size": 10,
              "solidity": 0.2
             }
            },
            "type": "histogram"
           }
          ],
          "histogram2d": [
           {
            "colorbar": {
             "outlinewidth": 0,
             "ticks": ""
            },
            "colorscale": [
             [
              0,
              "#0d0887"
             ],
             [
              0.1111111111111111,
              "#46039f"
             ],
             [
              0.2222222222222222,
              "#7201a8"
             ],
             [
              0.3333333333333333,
              "#9c179e"
             ],
             [
              0.4444444444444444,
              "#bd3786"
             ],
             [
              0.5555555555555556,
              "#d8576b"
             ],
             [
              0.6666666666666666,
              "#ed7953"
             ],
             [
              0.7777777777777778,
              "#fb9f3a"
             ],
             [
              0.8888888888888888,
              "#fdca26"
             ],
             [
              1,
              "#f0f921"
             ]
            ],
            "type": "histogram2d"
           }
          ],
          "histogram2dcontour": [
           {
            "colorbar": {
             "outlinewidth": 0,
             "ticks": ""
            },
            "colorscale": [
             [
              0,
              "#0d0887"
             ],
             [
              0.1111111111111111,
              "#46039f"
             ],
             [
              0.2222222222222222,
              "#7201a8"
             ],
             [
              0.3333333333333333,
              "#9c179e"
             ],
             [
              0.4444444444444444,
              "#bd3786"
             ],
             [
              0.5555555555555556,
              "#d8576b"
             ],
             [
              0.6666666666666666,
              "#ed7953"
             ],
             [
              0.7777777777777778,
              "#fb9f3a"
             ],
             [
              0.8888888888888888,
              "#fdca26"
             ],
             [
              1,
              "#f0f921"
             ]
            ],
            "type": "histogram2dcontour"
           }
          ],
          "mesh3d": [
           {
            "colorbar": {
             "outlinewidth": 0,
             "ticks": ""
            },
            "type": "mesh3d"
           }
          ],
          "parcoords": [
           {
            "line": {
             "colorbar": {
              "outlinewidth": 0,
              "ticks": ""
             }
            },
            "type": "parcoords"
           }
          ],
          "pie": [
           {
            "automargin": true,
            "type": "pie"
           }
          ],
          "scatter": [
           {
            "fillpattern": {
             "fillmode": "overlay",
             "size": 10,
             "solidity": 0.2
            },
            "type": "scatter"
           }
          ],
          "scatter3d": [
           {
            "line": {
             "colorbar": {
              "outlinewidth": 0,
              "ticks": ""
             }
            },
            "marker": {
             "colorbar": {
              "outlinewidth": 0,
              "ticks": ""
             }
            },
            "type": "scatter3d"
           }
          ],
          "scattercarpet": [
           {
            "marker": {
             "colorbar": {
              "outlinewidth": 0,
              "ticks": ""
             }
            },
            "type": "scattercarpet"
           }
          ],
          "scattergeo": [
           {
            "marker": {
             "colorbar": {
              "outlinewidth": 0,
              "ticks": ""
             }
            },
            "type": "scattergeo"
           }
          ],
          "scattergl": [
           {
            "marker": {
             "colorbar": {
              "outlinewidth": 0,
              "ticks": ""
             }
            },
            "type": "scattergl"
           }
          ],
          "scattermapbox": [
           {
            "marker": {
             "colorbar": {
              "outlinewidth": 0,
              "ticks": ""
             }
            },
            "type": "scattermapbox"
           }
          ],
          "scatterpolar": [
           {
            "marker": {
             "colorbar": {
              "outlinewidth": 0,
              "ticks": ""
             }
            },
            "type": "scatterpolar"
           }
          ],
          "scatterpolargl": [
           {
            "marker": {
             "colorbar": {
              "outlinewidth": 0,
              "ticks": ""
             }
            },
            "type": "scatterpolargl"
           }
          ],
          "scatterternary": [
           {
            "marker": {
             "colorbar": {
              "outlinewidth": 0,
              "ticks": ""
             }
            },
            "type": "scatterternary"
           }
          ],
          "surface": [
           {
            "colorbar": {
             "outlinewidth": 0,
             "ticks": ""
            },
            "colorscale": [
             [
              0,
              "#0d0887"
             ],
             [
              0.1111111111111111,
              "#46039f"
             ],
             [
              0.2222222222222222,
              "#7201a8"
             ],
             [
              0.3333333333333333,
              "#9c179e"
             ],
             [
              0.4444444444444444,
              "#bd3786"
             ],
             [
              0.5555555555555556,
              "#d8576b"
             ],
             [
              0.6666666666666666,
              "#ed7953"
             ],
             [
              0.7777777777777778,
              "#fb9f3a"
             ],
             [
              0.8888888888888888,
              "#fdca26"
             ],
             [
              1,
              "#f0f921"
             ]
            ],
            "type": "surface"
           }
          ],
          "table": [
           {
            "cells": {
             "fill": {
              "color": "#EBF0F8"
             },
             "line": {
              "color": "white"
             }
            },
            "header": {
             "fill": {
              "color": "#C8D4E3"
             },
             "line": {
              "color": "white"
             }
            },
            "type": "table"
           }
          ]
         },
         "layout": {
          "annotationdefaults": {
           "arrowcolor": "#2a3f5f",
           "arrowhead": 0,
           "arrowwidth": 1
          },
          "autotypenumbers": "strict",
          "coloraxis": {
           "colorbar": {
            "outlinewidth": 0,
            "ticks": ""
           }
          },
          "colorscale": {
           "diverging": [
            [
             0,
             "#8e0152"
            ],
            [
             0.1,
             "#c51b7d"
            ],
            [
             0.2,
             "#de77ae"
            ],
            [
             0.3,
             "#f1b6da"
            ],
            [
             0.4,
             "#fde0ef"
            ],
            [
             0.5,
             "#f7f7f7"
            ],
            [
             0.6,
             "#e6f5d0"
            ],
            [
             0.7,
             "#b8e186"
            ],
            [
             0.8,
             "#7fbc41"
            ],
            [
             0.9,
             "#4d9221"
            ],
            [
             1,
             "#276419"
            ]
           ],
           "sequential": [
            [
             0,
             "#0d0887"
            ],
            [
             0.1111111111111111,
             "#46039f"
            ],
            [
             0.2222222222222222,
             "#7201a8"
            ],
            [
             0.3333333333333333,
             "#9c179e"
            ],
            [
             0.4444444444444444,
             "#bd3786"
            ],
            [
             0.5555555555555556,
             "#d8576b"
            ],
            [
             0.6666666666666666,
             "#ed7953"
            ],
            [
             0.7777777777777778,
             "#fb9f3a"
            ],
            [
             0.8888888888888888,
             "#fdca26"
            ],
            [
             1,
             "#f0f921"
            ]
           ],
           "sequentialminus": [
            [
             0,
             "#0d0887"
            ],
            [
             0.1111111111111111,
             "#46039f"
            ],
            [
             0.2222222222222222,
             "#7201a8"
            ],
            [
             0.3333333333333333,
             "#9c179e"
            ],
            [
             0.4444444444444444,
             "#bd3786"
            ],
            [
             0.5555555555555556,
             "#d8576b"
            ],
            [
             0.6666666666666666,
             "#ed7953"
            ],
            [
             0.7777777777777778,
             "#fb9f3a"
            ],
            [
             0.8888888888888888,
             "#fdca26"
            ],
            [
             1,
             "#f0f921"
            ]
           ]
          },
          "colorway": [
           "#636efa",
           "#EF553B",
           "#00cc96",
           "#ab63fa",
           "#FFA15A",
           "#19d3f3",
           "#FF6692",
           "#B6E880",
           "#FF97FF",
           "#FECB52"
          ],
          "font": {
           "color": "#2a3f5f"
          },
          "geo": {
           "bgcolor": "white",
           "lakecolor": "white",
           "landcolor": "#E5ECF6",
           "showlakes": true,
           "showland": true,
           "subunitcolor": "white"
          },
          "hoverlabel": {
           "align": "left"
          },
          "hovermode": "closest",
          "mapbox": {
           "style": "light"
          },
          "paper_bgcolor": "white",
          "plot_bgcolor": "#E5ECF6",
          "polar": {
           "angularaxis": {
            "gridcolor": "white",
            "linecolor": "white",
            "ticks": ""
           },
           "bgcolor": "#E5ECF6",
           "radialaxis": {
            "gridcolor": "white",
            "linecolor": "white",
            "ticks": ""
           }
          },
          "scene": {
           "xaxis": {
            "backgroundcolor": "#E5ECF6",
            "gridcolor": "white",
            "gridwidth": 2,
            "linecolor": "white",
            "showbackground": true,
            "ticks": "",
            "zerolinecolor": "white"
           },
           "yaxis": {
            "backgroundcolor": "#E5ECF6",
            "gridcolor": "white",
            "gridwidth": 2,
            "linecolor": "white",
            "showbackground": true,
            "ticks": "",
            "zerolinecolor": "white"
           },
           "zaxis": {
            "backgroundcolor": "#E5ECF6",
            "gridcolor": "white",
            "gridwidth": 2,
            "linecolor": "white",
            "showbackground": true,
            "ticks": "",
            "zerolinecolor": "white"
           }
          },
          "shapedefaults": {
           "line": {
            "color": "#2a3f5f"
           }
          },
          "ternary": {
           "aaxis": {
            "gridcolor": "white",
            "linecolor": "white",
            "ticks": ""
           },
           "baxis": {
            "gridcolor": "white",
            "linecolor": "white",
            "ticks": ""
           },
           "bgcolor": "#E5ECF6",
           "caxis": {
            "gridcolor": "white",
            "linecolor": "white",
            "ticks": ""
           }
          },
          "title": {
           "x": 0.05
          },
          "xaxis": {
           "automargin": true,
           "gridcolor": "white",
           "linecolor": "white",
           "ticks": "",
           "title": {
            "standoff": 15
           },
           "zerolinecolor": "white",
           "zerolinewidth": 2
          },
          "yaxis": {
           "automargin": true,
           "gridcolor": "white",
           "linecolor": "white",
           "ticks": "",
           "title": {
            "standoff": 15
           },
           "zerolinecolor": "white",
           "zerolinewidth": 2
          }
         }
        },
        "xaxis": {
         "anchor": "y",
         "domain": [
          0,
          1
         ],
         "title": {
          "text": "my_theoretical_sample"
         }
        },
        "yaxis": {
         "anchor": "x",
         "domain": [
          0,
          1
         ],
         "title": {
          "text": "count"
         }
        }
       }
      },
      "text/html": [
       "<div>                            <div id=\"68e16403-5bf5-4165-8599-37a545cd5739\" class=\"plotly-graph-div\" style=\"height:525px; width:100%;\"></div>            <script type=\"text/javascript\">                require([\"plotly\"], function(Plotly) {                    window.PLOTLYENV=window.PLOTLYENV || {};                                    if (document.getElementById(\"68e16403-5bf5-4165-8599-37a545cd5739\")) {                    Plotly.newPlot(                        \"68e16403-5bf5-4165-8599-37a545cd5739\",                        [{\"alignmentgroup\":\"True\",\"bingroup\":\"x\",\"hovertemplate\":\"my_theoretical_sample=%{x}\\u003cbr\\u003ecount=%{y}\\u003cextra\\u003e\\u003c\\u002fextra\\u003e\",\"legendgroup\":\"\",\"marker\":{\"color\":\"#636efa\",\"pattern\":{\"shape\":\"\"}},\"name\":\"\",\"offsetgroup\":\"\",\"orientation\":\"v\",\"showlegend\":false,\"x\":[1.1066225103637195,0.9722454668455022,0.9772641262551858,1.4711181237072632,1.483448868041174,0.6916767109932962,0.7412212200727465,0.860166818575792,1.2059902046196713,1.536355642718692,1.425242435336631,0.8817577849125996,0.6673620639122065,1.3669151438515614,1.0554427495232572,0.7753807469153989,1.250214904425234,0.8934446319758524,0.9069469106904434,1.1057884226032797,0.35641250266933144,0.8068939829528667,1.1191482968704707,1.1580235071686968,1.627763103345894,0.9967664870898058,1.2870092112857834,0.8153358745138598,0.49675397799552035,1.0007303817506374,1.266459801512994,0.6673468840431664,1.0704705161340362,0.5990162096037863,0.8849219268468265,1.2940512195361613,0.45352784796909906,0.855665935849025,1.293509714230352,1.1131544559523756,1.304543317544688,0.5579651668900956,1.1045961243465567,1.0148683001383856,0.7812666177469175,0.6132643934324372,0.2929490363993078,1.2168139665880608,1.4431350794975901,1.3023697770361922,1.334986382013095,0.8053710521906396,1.431260833247529,1.1155264218637144,0.9643865881857544,1.3633799860406417,0.9660704019904852,0.7166765914383828,0.8203279526032297,1.0663866031015177,1.5222664722813444,0.5573033577072356,0.8374466552513731,0.8731678673514021,0.6963026746375747,1.2330338041885802,0.9436696499815459,0.2301000242991873,0.7303074637918932,0.9485635902645472,1.4170030605846247,1.4251009704341397,0.2314084207980711,1.2069453075462588,1.1676404982153477,1.4023220377531245,1.2246231312401894,0.20111475992960182,0.37761997553392324,1.1002491241367567,1.4077262507392985,1.0056338876210256,0.7446699009578983,1.4559543310830236,1.0064861161752081,0.41523282226550007,0.998233469401592,1.2032460664859104,0.30837826739551044,0.6106856808157116,1.4620689405572653,1.062934128799256,1.1351664665609726,0.5812554816899287,0.6540858125145207,1.365972688090525,1.0350231755672914,1.2433992224844448,1.2130626698399254,1.3529927961623134,0.9328583566030408,1.5265786380337758,1.2228427104229793,0.9676420498410393,0.636896955706667,0.5348743875719969,1.3096586530690795,0.9518557390357583,1.105987173942193,0.33922664699468585,0.4137870027516377,1.4543705218715597,1.3188497191327384,1.0831963844626453,0.5160327581213813,0.5974523446598646,1.3889100436245365,0.8423863650575859,0.732874002504805,0.9827358143606304,0.7217278878164137,1.5294458972867022,0.9680925607044955,1.2029576614444506,0.663170984685969,1.1417335700067404,1.1330843524024412,0.6878739040754007,1.5999603396159894,1.2394501804151197,0.9242342456878949,-0.04079361909244206,0.983594431697444,0.985139875492642,1.4083746586309471,1.0705717000593407,1.5256167785881245,0.8985259900236567,0.45059177434297804,1.6228426616174563,1.0834593229160772,1.4920403408005118,1.1370509177176138,1.1043862947941019,1.1003790712924062,0.7946987834995312,1.3384070666841121,0.9526482878791189,0.8332278436183562,0.9747787972021512,0.6709619877366055,0.9218313301308071,0.9727589478037174,1.170471916569093,1.5059624939302898,0.49695980735684087,0.6610144873194269,0.7011565615963999,0.07478204297654101,0.941114028844963,1.0241230486255313,0.6015651682754897,0.8881927090197247,1.068398932300699,1.7927991171102309,1.1977722266318522,0.46873015705616594,0.8016403505656244,1.4815229031347565,1.8950580803273347,1.0358846743457464,0.9532916096074714,1.104413234310812,0.5585635691549498,0.762163030851769,0.42095954131575186,0.7652988153127855,0.5318709033388003,1.595690287629019,1.1327347167388877,1.2948934128425684,1.0816127489134952,1.7710964603879833,1.1994126915058474,1.3176068250347077,0.8405307594528545,0.5916383915751757,0.6858116646487381,1.2234955643624488,0.5567114336966055,1.4353761762754984,0.8918790375522453,1.2168441831216381,0.6991874125144794,1.0172021904965889,0.8260422567817839,0.7381093655090856,0.6406299425247224,1.4490473687555196,1.0319890001306449,0.965460870313225,0.9116306657322548,1.295019592636103,1.2407966356860967,0.9106823004560773,0.4341978107407206,1.2512717311920083,1.3198057553917373,1.3850748777629167,0.6164614335860222,1.256811629916303,1.640890440735933,1.2840796536345418,1.1888191092933162,1.4594518833327383,0.6282924506683742,1.5120412543436375,1.1623300258687053,1.1930353437969052,0.9222090541365224,1.0929982387920367,0.8172226775739069,0.9900869897649637,0.9558758297814629,1.199483718578505,1.7076344448052927,1.1828158630609822,1.494883322743625,1.087136996566688,0.6612512919424807,1.4834600083060314,1.7274734812935266,0.656383924717826,1.4118251307350524,1.0107568281334687,0.8583340511873782,0.8115088375834829,1.149321089871845,0.7503699233372256,0.9305208468697236,0.20905066462205946,0.6684317621257845,1.1501729126107052,0.9757063831028618,1.4945866475378975,1.1957104371622223,0.8549817809364022,0.7734399304148389,0.5454306449743045,1.0047424007059127,1.1502720030956115,1.4573226325537174,0.7420957673772488,1.4127054853880234,1.0106005180794806,1.3257642249933292,0.33578066377090043,1.0257672814686534,0.8880020383842507,0.8201262327436948,1.3381745963916285,0.5114860091699454,1.2313197774090554,0.8171991142690668,0.8696341817425168,0.9145798598686437,1.3809556958751228,1.2664781546050412,0.8900129482380612,1.2964237595001633,1.5497017453641297,0.5929024773803786,1.2361354750387417,0.9001576154527858,1.4192799847956756,0.6768157106936429,0.1060687549028081,1.3614033432934023,0.7607290941578609,1.0502442103302299,1.385830193506051,1.5126951073352595,1.1708732884965312,0.6137246714121846,1.3646477834380084,1.5214670946413869,0.8406681269913812,1.209687955863628,1.129091039133992,0.48405124039097414,1.3565966874879059,1.1626481484818594,0.44415939612836,1.3025606042393663,0.6690709069452399,1.3523411376253107,1.0512309233335515,1.5007109211894183,0.7587046227929646,0.9138146350924999,0.8313862795560116,1.849872436715637,0.731093394399264,1.0004592351439345,1.0571557992285996,0.7915106358547453,1.2325679005427994,1.1144433339273265,0.9721900149160924,0.887329534434942,1.5118870859301556,0.3089960293432902,0.956005419789227,1.7645238373953682,0.4371379964574329,0.772833211753403,1.0304395134663389,1.0847540613650521,1.3647221661638573],\"xaxis\":\"x\",\"yaxis\":\"y\",\"type\":\"histogram\"}],                        {\"template\":{\"data\":{\"histogram2dcontour\":[{\"type\":\"histogram2dcontour\",\"colorbar\":{\"outlinewidth\":0,\"ticks\":\"\"},\"colorscale\":[[0.0,\"#0d0887\"],[0.1111111111111111,\"#46039f\"],[0.2222222222222222,\"#7201a8\"],[0.3333333333333333,\"#9c179e\"],[0.4444444444444444,\"#bd3786\"],[0.5555555555555556,\"#d8576b\"],[0.6666666666666666,\"#ed7953\"],[0.7777777777777778,\"#fb9f3a\"],[0.8888888888888888,\"#fdca26\"],[1.0,\"#f0f921\"]]}],\"choropleth\":[{\"type\":\"choropleth\",\"colorbar\":{\"outlinewidth\":0,\"ticks\":\"\"}}],\"histogram2d\":[{\"type\":\"histogram2d\",\"colorbar\":{\"outlinewidth\":0,\"ticks\":\"\"},\"colorscale\":[[0.0,\"#0d0887\"],[0.1111111111111111,\"#46039f\"],[0.2222222222222222,\"#7201a8\"],[0.3333333333333333,\"#9c179e\"],[0.4444444444444444,\"#bd3786\"],[0.5555555555555556,\"#d8576b\"],[0.6666666666666666,\"#ed7953\"],[0.7777777777777778,\"#fb9f3a\"],[0.8888888888888888,\"#fdca26\"],[1.0,\"#f0f921\"]]}],\"heatmap\":[{\"type\":\"heatmap\",\"colorbar\":{\"outlinewidth\":0,\"ticks\":\"\"},\"colorscale\":[[0.0,\"#0d0887\"],[0.1111111111111111,\"#46039f\"],[0.2222222222222222,\"#7201a8\"],[0.3333333333333333,\"#9c179e\"],[0.4444444444444444,\"#bd3786\"],[0.5555555555555556,\"#d8576b\"],[0.6666666666666666,\"#ed7953\"],[0.7777777777777778,\"#fb9f3a\"],[0.8888888888888888,\"#fdca26\"],[1.0,\"#f0f921\"]]}],\"heatmapgl\":[{\"type\":\"heatmapgl\",\"colorbar\":{\"outlinewidth\":0,\"ticks\":\"\"},\"colorscale\":[[0.0,\"#0d0887\"],[0.1111111111111111,\"#46039f\"],[0.2222222222222222,\"#7201a8\"],[0.3333333333333333,\"#9c179e\"],[0.4444444444444444,\"#bd3786\"],[0.5555555555555556,\"#d8576b\"],[0.6666666666666666,\"#ed7953\"],[0.7777777777777778,\"#fb9f3a\"],[0.8888888888888888,\"#fdca26\"],[1.0,\"#f0f921\"]]}],\"contourcarpet\":[{\"type\":\"contourcarpet\",\"colorbar\":{\"outlinewidth\":0,\"ticks\":\"\"}}],\"contour\":[{\"type\":\"contour\",\"colorbar\":{\"outlinewidth\":0,\"ticks\":\"\"},\"colorscale\":[[0.0,\"#0d0887\"],[0.1111111111111111,\"#46039f\"],[0.2222222222222222,\"#7201a8\"],[0.3333333333333333,\"#9c179e\"],[0.4444444444444444,\"#bd3786\"],[0.5555555555555556,\"#d8576b\"],[0.6666666666666666,\"#ed7953\"],[0.7777777777777778,\"#fb9f3a\"],[0.8888888888888888,\"#fdca26\"],[1.0,\"#f0f921\"]]}],\"surface\":[{\"type\":\"surface\",\"colorbar\":{\"outlinewidth\":0,\"ticks\":\"\"},\"colorscale\":[[0.0,\"#0d0887\"],[0.1111111111111111,\"#46039f\"],[0.2222222222222222,\"#7201a8\"],[0.3333333333333333,\"#9c179e\"],[0.4444444444444444,\"#bd3786\"],[0.5555555555555556,\"#d8576b\"],[0.6666666666666666,\"#ed7953\"],[0.7777777777777778,\"#fb9f3a\"],[0.8888888888888888,\"#fdca26\"],[1.0,\"#f0f921\"]]}],\"mesh3d\":[{\"type\":\"mesh3d\",\"colorbar\":{\"outlinewidth\":0,\"ticks\":\"\"}}],\"scatter\":[{\"fillpattern\":{\"fillmode\":\"overlay\",\"size\":10,\"solidity\":0.2},\"type\":\"scatter\"}],\"parcoords\":[{\"type\":\"parcoords\",\"line\":{\"colorbar\":{\"outlinewidth\":0,\"ticks\":\"\"}}}],\"scatterpolargl\":[{\"type\":\"scatterpolargl\",\"marker\":{\"colorbar\":{\"outlinewidth\":0,\"ticks\":\"\"}}}],\"bar\":[{\"error_x\":{\"color\":\"#2a3f5f\"},\"error_y\":{\"color\":\"#2a3f5f\"},\"marker\":{\"line\":{\"color\":\"#E5ECF6\",\"width\":0.5},\"pattern\":{\"fillmode\":\"overlay\",\"size\":10,\"solidity\":0.2}},\"type\":\"bar\"}],\"scattergeo\":[{\"type\":\"scattergeo\",\"marker\":{\"colorbar\":{\"outlinewidth\":0,\"ticks\":\"\"}}}],\"scatterpolar\":[{\"type\":\"scatterpolar\",\"marker\":{\"colorbar\":{\"outlinewidth\":0,\"ticks\":\"\"}}}],\"histogram\":[{\"marker\":{\"pattern\":{\"fillmode\":\"overlay\",\"size\":10,\"solidity\":0.2}},\"type\":\"histogram\"}],\"scattergl\":[{\"type\":\"scattergl\",\"marker\":{\"colorbar\":{\"outlinewidth\":0,\"ticks\":\"\"}}}],\"scatter3d\":[{\"type\":\"scatter3d\",\"line\":{\"colorbar\":{\"outlinewidth\":0,\"ticks\":\"\"}},\"marker\":{\"colorbar\":{\"outlinewidth\":0,\"ticks\":\"\"}}}],\"scattermapbox\":[{\"type\":\"scattermapbox\",\"marker\":{\"colorbar\":{\"outlinewidth\":0,\"ticks\":\"\"}}}],\"scatterternary\":[{\"type\":\"scatterternary\",\"marker\":{\"colorbar\":{\"outlinewidth\":0,\"ticks\":\"\"}}}],\"scattercarpet\":[{\"type\":\"scattercarpet\",\"marker\":{\"colorbar\":{\"outlinewidth\":0,\"ticks\":\"\"}}}],\"carpet\":[{\"aaxis\":{\"endlinecolor\":\"#2a3f5f\",\"gridcolor\":\"white\",\"linecolor\":\"white\",\"minorgridcolor\":\"white\",\"startlinecolor\":\"#2a3f5f\"},\"baxis\":{\"endlinecolor\":\"#2a3f5f\",\"gridcolor\":\"white\",\"linecolor\":\"white\",\"minorgridcolor\":\"white\",\"startlinecolor\":\"#2a3f5f\"},\"type\":\"carpet\"}],\"table\":[{\"cells\":{\"fill\":{\"color\":\"#EBF0F8\"},\"line\":{\"color\":\"white\"}},\"header\":{\"fill\":{\"color\":\"#C8D4E3\"},\"line\":{\"color\":\"white\"}},\"type\":\"table\"}],\"barpolar\":[{\"marker\":{\"line\":{\"color\":\"#E5ECF6\",\"width\":0.5},\"pattern\":{\"fillmode\":\"overlay\",\"size\":10,\"solidity\":0.2}},\"type\":\"barpolar\"}],\"pie\":[{\"automargin\":true,\"type\":\"pie\"}]},\"layout\":{\"autotypenumbers\":\"strict\",\"colorway\":[\"#636efa\",\"#EF553B\",\"#00cc96\",\"#ab63fa\",\"#FFA15A\",\"#19d3f3\",\"#FF6692\",\"#B6E880\",\"#FF97FF\",\"#FECB52\"],\"font\":{\"color\":\"#2a3f5f\"},\"hovermode\":\"closest\",\"hoverlabel\":{\"align\":\"left\"},\"paper_bgcolor\":\"white\",\"plot_bgcolor\":\"#E5ECF6\",\"polar\":{\"bgcolor\":\"#E5ECF6\",\"angularaxis\":{\"gridcolor\":\"white\",\"linecolor\":\"white\",\"ticks\":\"\"},\"radialaxis\":{\"gridcolor\":\"white\",\"linecolor\":\"white\",\"ticks\":\"\"}},\"ternary\":{\"bgcolor\":\"#E5ECF6\",\"aaxis\":{\"gridcolor\":\"white\",\"linecolor\":\"white\",\"ticks\":\"\"},\"baxis\":{\"gridcolor\":\"white\",\"linecolor\":\"white\",\"ticks\":\"\"},\"caxis\":{\"gridcolor\":\"white\",\"linecolor\":\"white\",\"ticks\":\"\"}},\"coloraxis\":{\"colorbar\":{\"outlinewidth\":0,\"ticks\":\"\"}},\"colorscale\":{\"sequential\":[[0.0,\"#0d0887\"],[0.1111111111111111,\"#46039f\"],[0.2222222222222222,\"#7201a8\"],[0.3333333333333333,\"#9c179e\"],[0.4444444444444444,\"#bd3786\"],[0.5555555555555556,\"#d8576b\"],[0.6666666666666666,\"#ed7953\"],[0.7777777777777778,\"#fb9f3a\"],[0.8888888888888888,\"#fdca26\"],[1.0,\"#f0f921\"]],\"sequentialminus\":[[0.0,\"#0d0887\"],[0.1111111111111111,\"#46039f\"],[0.2222222222222222,\"#7201a8\"],[0.3333333333333333,\"#9c179e\"],[0.4444444444444444,\"#bd3786\"],[0.5555555555555556,\"#d8576b\"],[0.6666666666666666,\"#ed7953\"],[0.7777777777777778,\"#fb9f3a\"],[0.8888888888888888,\"#fdca26\"],[1.0,\"#f0f921\"]],\"diverging\":[[0,\"#8e0152\"],[0.1,\"#c51b7d\"],[0.2,\"#de77ae\"],[0.3,\"#f1b6da\"],[0.4,\"#fde0ef\"],[0.5,\"#f7f7f7\"],[0.6,\"#e6f5d0\"],[0.7,\"#b8e186\"],[0.8,\"#7fbc41\"],[0.9,\"#4d9221\"],[1,\"#276419\"]]},\"xaxis\":{\"gridcolor\":\"white\",\"linecolor\":\"white\",\"ticks\":\"\",\"title\":{\"standoff\":15},\"zerolinecolor\":\"white\",\"automargin\":true,\"zerolinewidth\":2},\"yaxis\":{\"gridcolor\":\"white\",\"linecolor\":\"white\",\"ticks\":\"\",\"title\":{\"standoff\":15},\"zerolinecolor\":\"white\",\"automargin\":true,\"zerolinewidth\":2},\"scene\":{\"xaxis\":{\"backgroundcolor\":\"#E5ECF6\",\"gridcolor\":\"white\",\"linecolor\":\"white\",\"showbackground\":true,\"ticks\":\"\",\"zerolinecolor\":\"white\",\"gridwidth\":2},\"yaxis\":{\"backgroundcolor\":\"#E5ECF6\",\"gridcolor\":\"white\",\"linecolor\":\"white\",\"showbackground\":true,\"ticks\":\"\",\"zerolinecolor\":\"white\",\"gridwidth\":2},\"zaxis\":{\"backgroundcolor\":\"#E5ECF6\",\"gridcolor\":\"white\",\"linecolor\":\"white\",\"showbackground\":true,\"ticks\":\"\",\"zerolinecolor\":\"white\",\"gridwidth\":2}},\"shapedefaults\":{\"line\":{\"color\":\"#2a3f5f\"}},\"annotationdefaults\":{\"arrowcolor\":\"#2a3f5f\",\"arrowhead\":0,\"arrowwidth\":1},\"geo\":{\"bgcolor\":\"white\",\"landcolor\":\"#E5ECF6\",\"subunitcolor\":\"white\",\"showland\":true,\"showlakes\":true,\"lakecolor\":\"white\"},\"title\":{\"x\":0.05},\"mapbox\":{\"style\":\"light\"}}},\"xaxis\":{\"anchor\":\"y\",\"domain\":[0.0,1.0],\"title\":{\"text\":\"my_theoretical_sample\"}},\"yaxis\":{\"anchor\":\"x\",\"domain\":[0.0,1.0],\"title\":{\"text\":\"count\"}},\"legend\":{\"tracegroupgap\":0},\"margin\":{\"t\":60},\"barmode\":\"relative\"},                        {\"responsive\": true}                    ).then(function(){\n",
       "                            \n",
       "var gd = document.getElementById('68e16403-5bf5-4165-8599-37a545cd5739');\n",
       "var x = new MutationObserver(function (mutations, observer) {{\n",
       "        var display = window.getComputedStyle(gd).display;\n",
       "        if (!display || display === 'none') {{\n",
       "            console.log([gd, 'removed!']);\n",
       "            Plotly.purge(gd);\n",
       "            observer.disconnect();\n",
       "        }}\n",
       "}});\n",
       "\n",
       "// Listen for the removal of the full notebook cells\n",
       "var notebookContainer = gd.closest('#notebook-container');\n",
       "if (notebookContainer) {{\n",
       "    x.observe(notebookContainer, {childList: true});\n",
       "}}\n",
       "\n",
       "// Listen for the clearing of the current output cell\n",
       "var outputEl = gd.closest('.output');\n",
       "if (outputEl) {{\n",
       "    x.observe(outputEl, {childList: true});\n",
       "}}\n",
       "\n",
       "                        })                };                });            </script>        </div>"
      ]
     },
     "metadata": {},
     "output_type": "display_data"
    }
   ],
   "source": [
    "df = pd.DataFrame({'my_theoretical_sample': my_theoretical_sample}) \n",
    "px.histogram(df, x = \"my_theoretical_sample\")"
   ]
  },
  {
   "cell_type": "code",
   "execution_count": 30,
   "id": "fb682dbf",
   "metadata": {},
   "outputs": [
    {
     "data": {
      "application/vnd.plotly.v1+json": {
       "config": {
        "plotlyServerURL": "https://plot.ly"
       },
       "data": [
        {
         "hovertemplate": "x=%{x}<br>density=%{y}<extra></extra>",
         "legendgroup": "",
         "line": {
          "color": "#636efa",
          "dash": "solid"
         },
         "marker": {
          "symbol": "circle"
         },
         "mode": "lines",
         "name": "",
         "orientation": "v",
         "showlegend": false,
         "type": "scatter",
         "x": [
          -1,
          -0.9595959595959596,
          -0.9191919191919192,
          -0.8787878787878788,
          -0.8383838383838383,
          -0.797979797979798,
          -0.7575757575757576,
          -0.7171717171717171,
          -0.6767676767676767,
          -0.6363636363636364,
          -0.5959595959595959,
          -0.5555555555555556,
          -0.5151515151515151,
          -0.4747474747474747,
          -0.43434343434343425,
          -0.3939393939393939,
          -0.3535353535353535,
          -0.31313131313131304,
          -0.2727272727272727,
          -0.23232323232323226,
          -0.19191919191919182,
          -0.1515151515151515,
          -0.11111111111111105,
          -0.07070707070707061,
          -0.030303030303030276,
          0.010101010101010166,
          0.05050505050505061,
          0.09090909090909105,
          0.1313131313131315,
          0.1717171717171717,
          0.21212121212121215,
          0.2525252525252526,
          0.29292929292929304,
          0.3333333333333335,
          0.3737373737373739,
          0.41414141414141437,
          0.4545454545454546,
          0.49494949494949503,
          0.5353535353535355,
          0.5757575757575759,
          0.6161616161616164,
          0.6565656565656568,
          0.696969696969697,
          0.7373737373737375,
          0.7777777777777779,
          0.8181818181818183,
          0.8585858585858588,
          0.8989898989898992,
          0.9393939393939394,
          0.9797979797979799,
          1.0202020202020203,
          1.060606060606061,
          1.1010101010101012,
          1.1414141414141414,
          1.181818181818182,
          1.2222222222222223,
          1.262626262626263,
          1.3030303030303032,
          1.3434343434343434,
          1.383838383838384,
          1.4242424242424243,
          1.464646464646465,
          1.5050505050505052,
          1.5454545454545459,
          1.585858585858586,
          1.6262626262626263,
          1.666666666666667,
          1.7070707070707072,
          1.7474747474747478,
          1.787878787878788,
          1.8282828282828287,
          1.868686868686869,
          1.9090909090909092,
          1.9494949494949498,
          1.98989898989899,
          2.0303030303030307,
          2.070707070707071,
          2.111111111111111,
          2.151515151515152,
          2.191919191919192,
          2.2323232323232327,
          2.272727272727273,
          2.3131313131313136,
          2.353535353535354,
          2.393939393939394,
          2.4343434343434347,
          2.474747474747475,
          2.5151515151515156,
          2.555555555555556,
          2.5959595959595965,
          2.6363636363636367,
          2.676767676767677,
          2.7171717171717176,
          2.757575757575758,
          2.7979797979797985,
          2.8383838383838387,
          2.878787878787879,
          2.9191919191919196,
          2.95959595959596,
          3
         ],
         "xaxis": "x",
         "y": [
          9.253794864382891e-08,
          1.777918365545075e-07,
          3.370669517561791e-07,
          6.305694704239729e-07,
          1.1640244858604101e-06,
          2.1203311862832056e-06,
          3.811164507882452e-06,
          6.759648275323972e-06,
          1.1830494871697708e-05,
          2.0431212159684804e-05,
          3.481751446933307e-05,
          5.854823470535292e-05,
          9.714987692712772e-05,
          0.00015906810730628804,
          0.00025700192816266844,
          0.0004097340522956179,
          0.0006445849265335324,
          0.0010006233684652028,
          0.0015327578395482654,
          0.0023168016842461912,
          0.003455545243902022,
          0.005085770006600619,
          0.007385999229976248,
          0.010584594119768618,
          0.014967579354278239,
          0.02088532985919312,
          0.028756996034295823,
          0.03907132194457259,
          0.05238236502410842,
          0.06929860766991675,
          0.09046411201224988,
          0.1165307520784143,
          0.14812118689276949,
          0.18578310912875234,
          0.229936374352987,
          0.28081580079266877,
          0.3384136029399556,
          0.4024264261692519,
          0.4722126109335603,
          0.5467654701176319,
          0.6247078849305707,
          0.7043123513409121,
          0.7835487656716428,
          0.860159848595074,
          0.9317613912656896,
          0.9959617619351718,
          1.0504926737781648,
          1.093341417771625,
          1.1228738860438086,
          1.137937927273257,
          1.137937927273257,
          1.1228738860438086,
          1.0933414177716245,
          1.0504926737781646,
          0.9959617619351712,
          0.9317613912656895,
          0.8601598485950733,
          0.7835487656716422,
          0.7043123513409116,
          0.6247078849305701,
          0.5467654701176314,
          0.4722126109335596,
          0.4024264261692515,
          0.338413602939955,
          0.28081580079266816,
          0.22993637435298675,
          0.18578310912875187,
          0.14812118689276924,
          0.11653075207841398,
          0.0904641120122498,
          0.06929860766991654,
          0.052382365024108216,
          0.03907132194457253,
          0.02875699603429571,
          0.020885329859193096,
          0.014967579354278173,
          0.010584594119768571,
          0.007385999229976248,
          0.005085770006600597,
          0.003455545243902013,
          0.0023168016842461804,
          0.0015327578395482628,
          0.0010006233684651973,
          0.0006445849265335291,
          0.0004097340522956179,
          0.0002570019281626671,
          0.0001590681073062875,
          9.714987692712685e-05,
          5.854823470535272e-05,
          3.481751446933295e-05,
          2.0431212159684624e-05,
          1.1830494871697666e-05,
          6.759648275323935e-06,
          3.811164507882432e-06,
          2.1203311862831984e-06,
          1.1640244858604038e-06,
          6.305694704239729e-07,
          3.370669517561773e-07,
          1.7779183655450654e-07,
          9.253794864382891e-08
         ],
         "yaxis": "y"
        }
       ],
       "layout": {
        "legend": {
         "tracegroupgap": 0
        },
        "margin": {
         "t": 60
        },
        "template": {
         "data": {
          "bar": [
           {
            "error_x": {
             "color": "#2a3f5f"
            },
            "error_y": {
             "color": "#2a3f5f"
            },
            "marker": {
             "line": {
              "color": "#E5ECF6",
              "width": 0.5
             },
             "pattern": {
              "fillmode": "overlay",
              "size": 10,
              "solidity": 0.2
             }
            },
            "type": "bar"
           }
          ],
          "barpolar": [
           {
            "marker": {
             "line": {
              "color": "#E5ECF6",
              "width": 0.5
             },
             "pattern": {
              "fillmode": "overlay",
              "size": 10,
              "solidity": 0.2
             }
            },
            "type": "barpolar"
           }
          ],
          "carpet": [
           {
            "aaxis": {
             "endlinecolor": "#2a3f5f",
             "gridcolor": "white",
             "linecolor": "white",
             "minorgridcolor": "white",
             "startlinecolor": "#2a3f5f"
            },
            "baxis": {
             "endlinecolor": "#2a3f5f",
             "gridcolor": "white",
             "linecolor": "white",
             "minorgridcolor": "white",
             "startlinecolor": "#2a3f5f"
            },
            "type": "carpet"
           }
          ],
          "choropleth": [
           {
            "colorbar": {
             "outlinewidth": 0,
             "ticks": ""
            },
            "type": "choropleth"
           }
          ],
          "contour": [
           {
            "colorbar": {
             "outlinewidth": 0,
             "ticks": ""
            },
            "colorscale": [
             [
              0,
              "#0d0887"
             ],
             [
              0.1111111111111111,
              "#46039f"
             ],
             [
              0.2222222222222222,
              "#7201a8"
             ],
             [
              0.3333333333333333,
              "#9c179e"
             ],
             [
              0.4444444444444444,
              "#bd3786"
             ],
             [
              0.5555555555555556,
              "#d8576b"
             ],
             [
              0.6666666666666666,
              "#ed7953"
             ],
             [
              0.7777777777777778,
              "#fb9f3a"
             ],
             [
              0.8888888888888888,
              "#fdca26"
             ],
             [
              1,
              "#f0f921"
             ]
            ],
            "type": "contour"
           }
          ],
          "contourcarpet": [
           {
            "colorbar": {
             "outlinewidth": 0,
             "ticks": ""
            },
            "type": "contourcarpet"
           }
          ],
          "heatmap": [
           {
            "colorbar": {
             "outlinewidth": 0,
             "ticks": ""
            },
            "colorscale": [
             [
              0,
              "#0d0887"
             ],
             [
              0.1111111111111111,
              "#46039f"
             ],
             [
              0.2222222222222222,
              "#7201a8"
             ],
             [
              0.3333333333333333,
              "#9c179e"
             ],
             [
              0.4444444444444444,
              "#bd3786"
             ],
             [
              0.5555555555555556,
              "#d8576b"
             ],
             [
              0.6666666666666666,
              "#ed7953"
             ],
             [
              0.7777777777777778,
              "#fb9f3a"
             ],
             [
              0.8888888888888888,
              "#fdca26"
             ],
             [
              1,
              "#f0f921"
             ]
            ],
            "type": "heatmap"
           }
          ],
          "heatmapgl": [
           {
            "colorbar": {
             "outlinewidth": 0,
             "ticks": ""
            },
            "colorscale": [
             [
              0,
              "#0d0887"
             ],
             [
              0.1111111111111111,
              "#46039f"
             ],
             [
              0.2222222222222222,
              "#7201a8"
             ],
             [
              0.3333333333333333,
              "#9c179e"
             ],
             [
              0.4444444444444444,
              "#bd3786"
             ],
             [
              0.5555555555555556,
              "#d8576b"
             ],
             [
              0.6666666666666666,
              "#ed7953"
             ],
             [
              0.7777777777777778,
              "#fb9f3a"
             ],
             [
              0.8888888888888888,
              "#fdca26"
             ],
             [
              1,
              "#f0f921"
             ]
            ],
            "type": "heatmapgl"
           }
          ],
          "histogram": [
           {
            "marker": {
             "pattern": {
              "fillmode": "overlay",
              "size": 10,
              "solidity": 0.2
             }
            },
            "type": "histogram"
           }
          ],
          "histogram2d": [
           {
            "colorbar": {
             "outlinewidth": 0,
             "ticks": ""
            },
            "colorscale": [
             [
              0,
              "#0d0887"
             ],
             [
              0.1111111111111111,
              "#46039f"
             ],
             [
              0.2222222222222222,
              "#7201a8"
             ],
             [
              0.3333333333333333,
              "#9c179e"
             ],
             [
              0.4444444444444444,
              "#bd3786"
             ],
             [
              0.5555555555555556,
              "#d8576b"
             ],
             [
              0.6666666666666666,
              "#ed7953"
             ],
             [
              0.7777777777777778,
              "#fb9f3a"
             ],
             [
              0.8888888888888888,
              "#fdca26"
             ],
             [
              1,
              "#f0f921"
             ]
            ],
            "type": "histogram2d"
           }
          ],
          "histogram2dcontour": [
           {
            "colorbar": {
             "outlinewidth": 0,
             "ticks": ""
            },
            "colorscale": [
             [
              0,
              "#0d0887"
             ],
             [
              0.1111111111111111,
              "#46039f"
             ],
             [
              0.2222222222222222,
              "#7201a8"
             ],
             [
              0.3333333333333333,
              "#9c179e"
             ],
             [
              0.4444444444444444,
              "#bd3786"
             ],
             [
              0.5555555555555556,
              "#d8576b"
             ],
             [
              0.6666666666666666,
              "#ed7953"
             ],
             [
              0.7777777777777778,
              "#fb9f3a"
             ],
             [
              0.8888888888888888,
              "#fdca26"
             ],
             [
              1,
              "#f0f921"
             ]
            ],
            "type": "histogram2dcontour"
           }
          ],
          "mesh3d": [
           {
            "colorbar": {
             "outlinewidth": 0,
             "ticks": ""
            },
            "type": "mesh3d"
           }
          ],
          "parcoords": [
           {
            "line": {
             "colorbar": {
              "outlinewidth": 0,
              "ticks": ""
             }
            },
            "type": "parcoords"
           }
          ],
          "pie": [
           {
            "automargin": true,
            "type": "pie"
           }
          ],
          "scatter": [
           {
            "fillpattern": {
             "fillmode": "overlay",
             "size": 10,
             "solidity": 0.2
            },
            "type": "scatter"
           }
          ],
          "scatter3d": [
           {
            "line": {
             "colorbar": {
              "outlinewidth": 0,
              "ticks": ""
             }
            },
            "marker": {
             "colorbar": {
              "outlinewidth": 0,
              "ticks": ""
             }
            },
            "type": "scatter3d"
           }
          ],
          "scattercarpet": [
           {
            "marker": {
             "colorbar": {
              "outlinewidth": 0,
              "ticks": ""
             }
            },
            "type": "scattercarpet"
           }
          ],
          "scattergeo": [
           {
            "marker": {
             "colorbar": {
              "outlinewidth": 0,
              "ticks": ""
             }
            },
            "type": "scattergeo"
           }
          ],
          "scattergl": [
           {
            "marker": {
             "colorbar": {
              "outlinewidth": 0,
              "ticks": ""
             }
            },
            "type": "scattergl"
           }
          ],
          "scattermapbox": [
           {
            "marker": {
             "colorbar": {
              "outlinewidth": 0,
              "ticks": ""
             }
            },
            "type": "scattermapbox"
           }
          ],
          "scatterpolar": [
           {
            "marker": {
             "colorbar": {
              "outlinewidth": 0,
              "ticks": ""
             }
            },
            "type": "scatterpolar"
           }
          ],
          "scatterpolargl": [
           {
            "marker": {
             "colorbar": {
              "outlinewidth": 0,
              "ticks": ""
             }
            },
            "type": "scatterpolargl"
           }
          ],
          "scatterternary": [
           {
            "marker": {
             "colorbar": {
              "outlinewidth": 0,
              "ticks": ""
             }
            },
            "type": "scatterternary"
           }
          ],
          "surface": [
           {
            "colorbar": {
             "outlinewidth": 0,
             "ticks": ""
            },
            "colorscale": [
             [
              0,
              "#0d0887"
             ],
             [
              0.1111111111111111,
              "#46039f"
             ],
             [
              0.2222222222222222,
              "#7201a8"
             ],
             [
              0.3333333333333333,
              "#9c179e"
             ],
             [
              0.4444444444444444,
              "#bd3786"
             ],
             [
              0.5555555555555556,
              "#d8576b"
             ],
             [
              0.6666666666666666,
              "#ed7953"
             ],
             [
              0.7777777777777778,
              "#fb9f3a"
             ],
             [
              0.8888888888888888,
              "#fdca26"
             ],
             [
              1,
              "#f0f921"
             ]
            ],
            "type": "surface"
           }
          ],
          "table": [
           {
            "cells": {
             "fill": {
              "color": "#EBF0F8"
             },
             "line": {
              "color": "white"
             }
            },
            "header": {
             "fill": {
              "color": "#C8D4E3"
             },
             "line": {
              "color": "white"
             }
            },
            "type": "table"
           }
          ]
         },
         "layout": {
          "annotationdefaults": {
           "arrowcolor": "#2a3f5f",
           "arrowhead": 0,
           "arrowwidth": 1
          },
          "autotypenumbers": "strict",
          "coloraxis": {
           "colorbar": {
            "outlinewidth": 0,
            "ticks": ""
           }
          },
          "colorscale": {
           "diverging": [
            [
             0,
             "#8e0152"
            ],
            [
             0.1,
             "#c51b7d"
            ],
            [
             0.2,
             "#de77ae"
            ],
            [
             0.3,
             "#f1b6da"
            ],
            [
             0.4,
             "#fde0ef"
            ],
            [
             0.5,
             "#f7f7f7"
            ],
            [
             0.6,
             "#e6f5d0"
            ],
            [
             0.7,
             "#b8e186"
            ],
            [
             0.8,
             "#7fbc41"
            ],
            [
             0.9,
             "#4d9221"
            ],
            [
             1,
             "#276419"
            ]
           ],
           "sequential": [
            [
             0,
             "#0d0887"
            ],
            [
             0.1111111111111111,
             "#46039f"
            ],
            [
             0.2222222222222222,
             "#7201a8"
            ],
            [
             0.3333333333333333,
             "#9c179e"
            ],
            [
             0.4444444444444444,
             "#bd3786"
            ],
            [
             0.5555555555555556,
             "#d8576b"
            ],
            [
             0.6666666666666666,
             "#ed7953"
            ],
            [
             0.7777777777777778,
             "#fb9f3a"
            ],
            [
             0.8888888888888888,
             "#fdca26"
            ],
            [
             1,
             "#f0f921"
            ]
           ],
           "sequentialminus": [
            [
             0,
             "#0d0887"
            ],
            [
             0.1111111111111111,
             "#46039f"
            ],
            [
             0.2222222222222222,
             "#7201a8"
            ],
            [
             0.3333333333333333,
             "#9c179e"
            ],
            [
             0.4444444444444444,
             "#bd3786"
            ],
            [
             0.5555555555555556,
             "#d8576b"
            ],
            [
             0.6666666666666666,
             "#ed7953"
            ],
            [
             0.7777777777777778,
             "#fb9f3a"
            ],
            [
             0.8888888888888888,
             "#fdca26"
            ],
            [
             1,
             "#f0f921"
            ]
           ]
          },
          "colorway": [
           "#636efa",
           "#EF553B",
           "#00cc96",
           "#ab63fa",
           "#FFA15A",
           "#19d3f3",
           "#FF6692",
           "#B6E880",
           "#FF97FF",
           "#FECB52"
          ],
          "font": {
           "color": "#2a3f5f"
          },
          "geo": {
           "bgcolor": "white",
           "lakecolor": "white",
           "landcolor": "#E5ECF6",
           "showlakes": true,
           "showland": true,
           "subunitcolor": "white"
          },
          "hoverlabel": {
           "align": "left"
          },
          "hovermode": "closest",
          "mapbox": {
           "style": "light"
          },
          "paper_bgcolor": "white",
          "plot_bgcolor": "#E5ECF6",
          "polar": {
           "angularaxis": {
            "gridcolor": "white",
            "linecolor": "white",
            "ticks": ""
           },
           "bgcolor": "#E5ECF6",
           "radialaxis": {
            "gridcolor": "white",
            "linecolor": "white",
            "ticks": ""
           }
          },
          "scene": {
           "xaxis": {
            "backgroundcolor": "#E5ECF6",
            "gridcolor": "white",
            "gridwidth": 2,
            "linecolor": "white",
            "showbackground": true,
            "ticks": "",
            "zerolinecolor": "white"
           },
           "yaxis": {
            "backgroundcolor": "#E5ECF6",
            "gridcolor": "white",
            "gridwidth": 2,
            "linecolor": "white",
            "showbackground": true,
            "ticks": "",
            "zerolinecolor": "white"
           },
           "zaxis": {
            "backgroundcolor": "#E5ECF6",
            "gridcolor": "white",
            "gridwidth": 2,
            "linecolor": "white",
            "showbackground": true,
            "ticks": "",
            "zerolinecolor": "white"
           }
          },
          "shapedefaults": {
           "line": {
            "color": "#2a3f5f"
           }
          },
          "ternary": {
           "aaxis": {
            "gridcolor": "white",
            "linecolor": "white",
            "ticks": ""
           },
           "baxis": {
            "gridcolor": "white",
            "linecolor": "white",
            "ticks": ""
           },
           "bgcolor": "#E5ECF6",
           "caxis": {
            "gridcolor": "white",
            "linecolor": "white",
            "ticks": ""
           }
          },
          "title": {
           "x": 0.05
          },
          "xaxis": {
           "automargin": true,
           "gridcolor": "white",
           "linecolor": "white",
           "ticks": "",
           "title": {
            "standoff": 15
           },
           "zerolinecolor": "white",
           "zerolinewidth": 2
          },
          "yaxis": {
           "automargin": true,
           "gridcolor": "white",
           "linecolor": "white",
           "ticks": "",
           "title": {
            "standoff": 15
           },
           "zerolinecolor": "white",
           "zerolinewidth": 2
          }
         }
        },
        "xaxis": {
         "anchor": "y",
         "domain": [
          0,
          1
         ],
         "title": {
          "text": "x"
         }
        },
        "yaxis": {
         "anchor": "x",
         "domain": [
          0,
          1
         ],
         "title": {
          "text": "density"
         }
        }
       }
      },
      "text/html": [
       "<div>                            <div id=\"183d28ea-795d-4055-b6e8-8652638aad44\" class=\"plotly-graph-div\" style=\"height:525px; width:100%;\"></div>            <script type=\"text/javascript\">                require([\"plotly\"], function(Plotly) {                    window.PLOTLYENV=window.PLOTLYENV || {};                                    if (document.getElementById(\"183d28ea-795d-4055-b6e8-8652638aad44\")) {                    Plotly.newPlot(                        \"183d28ea-795d-4055-b6e8-8652638aad44\",                        [{\"hovertemplate\":\"x=%{x}\\u003cbr\\u003edensity=%{y}\\u003cextra\\u003e\\u003c\\u002fextra\\u003e\",\"legendgroup\":\"\",\"line\":{\"color\":\"#636efa\",\"dash\":\"solid\"},\"marker\":{\"symbol\":\"circle\"},\"mode\":\"lines\",\"name\":\"\",\"orientation\":\"v\",\"showlegend\":false,\"x\":[-1.0,-0.9595959595959596,-0.9191919191919192,-0.8787878787878788,-0.8383838383838383,-0.797979797979798,-0.7575757575757576,-0.7171717171717171,-0.6767676767676767,-0.6363636363636364,-0.5959595959595959,-0.5555555555555556,-0.5151515151515151,-0.4747474747474747,-0.43434343434343425,-0.3939393939393939,-0.3535353535353535,-0.31313131313131304,-0.2727272727272727,-0.23232323232323226,-0.19191919191919182,-0.1515151515151515,-0.11111111111111105,-0.07070707070707061,-0.030303030303030276,0.010101010101010166,0.05050505050505061,0.09090909090909105,0.1313131313131315,0.1717171717171717,0.21212121212121215,0.2525252525252526,0.29292929292929304,0.3333333333333335,0.3737373737373739,0.41414141414141437,0.4545454545454546,0.49494949494949503,0.5353535353535355,0.5757575757575759,0.6161616161616164,0.6565656565656568,0.696969696969697,0.7373737373737375,0.7777777777777779,0.8181818181818183,0.8585858585858588,0.8989898989898992,0.9393939393939394,0.9797979797979799,1.0202020202020203,1.060606060606061,1.1010101010101012,1.1414141414141414,1.181818181818182,1.2222222222222223,1.262626262626263,1.3030303030303032,1.3434343434343434,1.383838383838384,1.4242424242424243,1.464646464646465,1.5050505050505052,1.5454545454545459,1.585858585858586,1.6262626262626263,1.666666666666667,1.7070707070707072,1.7474747474747478,1.787878787878788,1.8282828282828287,1.868686868686869,1.9090909090909092,1.9494949494949498,1.98989898989899,2.0303030303030307,2.070707070707071,2.111111111111111,2.151515151515152,2.191919191919192,2.2323232323232327,2.272727272727273,2.3131313131313136,2.353535353535354,2.393939393939394,2.4343434343434347,2.474747474747475,2.5151515151515156,2.555555555555556,2.5959595959595965,2.6363636363636367,2.676767676767677,2.7171717171717176,2.757575757575758,2.7979797979797985,2.8383838383838387,2.878787878787879,2.9191919191919196,2.95959595959596,3.0],\"xaxis\":\"x\",\"y\":[9.253794864382891e-08,1.777918365545075e-07,3.370669517561791e-07,6.305694704239729e-07,1.1640244858604101e-06,2.1203311862832056e-06,3.811164507882452e-06,6.759648275323972e-06,1.1830494871697708e-05,2.0431212159684804e-05,3.481751446933307e-05,5.854823470535292e-05,9.714987692712772e-05,0.00015906810730628804,0.00025700192816266844,0.0004097340522956179,0.0006445849265335324,0.0010006233684652028,0.0015327578395482654,0.0023168016842461912,0.003455545243902022,0.005085770006600619,0.007385999229976248,0.010584594119768618,0.014967579354278239,0.02088532985919312,0.028756996034295823,0.03907132194457259,0.05238236502410842,0.06929860766991675,0.09046411201224988,0.1165307520784143,0.14812118689276949,0.18578310912875234,0.229936374352987,0.28081580079266877,0.3384136029399556,0.4024264261692519,0.4722126109335603,0.5467654701176319,0.6247078849305707,0.7043123513409121,0.7835487656716428,0.860159848595074,0.9317613912656896,0.9959617619351718,1.0504926737781648,1.093341417771625,1.1228738860438086,1.137937927273257,1.137937927273257,1.1228738860438086,1.0933414177716245,1.0504926737781646,0.9959617619351712,0.9317613912656895,0.8601598485950733,0.7835487656716422,0.7043123513409116,0.6247078849305701,0.5467654701176314,0.4722126109335596,0.4024264261692515,0.338413602939955,0.28081580079266816,0.22993637435298675,0.18578310912875187,0.14812118689276924,0.11653075207841398,0.0904641120122498,0.06929860766991654,0.052382365024108216,0.03907132194457253,0.02875699603429571,0.020885329859193096,0.014967579354278173,0.010584594119768571,0.007385999229976248,0.005085770006600597,0.003455545243902013,0.0023168016842461804,0.0015327578395482628,0.0010006233684651973,0.0006445849265335291,0.0004097340522956179,0.0002570019281626671,0.0001590681073062875,9.714987692712685e-05,5.854823470535272e-05,3.481751446933295e-05,2.0431212159684624e-05,1.1830494871697666e-05,6.759648275323935e-06,3.811164507882432e-06,2.1203311862831984e-06,1.1640244858604038e-06,6.305694704239729e-07,3.370669517561773e-07,1.7779183655450654e-07,9.253794864382891e-08],\"yaxis\":\"y\",\"type\":\"scatter\"}],                        {\"template\":{\"data\":{\"histogram2dcontour\":[{\"type\":\"histogram2dcontour\",\"colorbar\":{\"outlinewidth\":0,\"ticks\":\"\"},\"colorscale\":[[0.0,\"#0d0887\"],[0.1111111111111111,\"#46039f\"],[0.2222222222222222,\"#7201a8\"],[0.3333333333333333,\"#9c179e\"],[0.4444444444444444,\"#bd3786\"],[0.5555555555555556,\"#d8576b\"],[0.6666666666666666,\"#ed7953\"],[0.7777777777777778,\"#fb9f3a\"],[0.8888888888888888,\"#fdca26\"],[1.0,\"#f0f921\"]]}],\"choropleth\":[{\"type\":\"choropleth\",\"colorbar\":{\"outlinewidth\":0,\"ticks\":\"\"}}],\"histogram2d\":[{\"type\":\"histogram2d\",\"colorbar\":{\"outlinewidth\":0,\"ticks\":\"\"},\"colorscale\":[[0.0,\"#0d0887\"],[0.1111111111111111,\"#46039f\"],[0.2222222222222222,\"#7201a8\"],[0.3333333333333333,\"#9c179e\"],[0.4444444444444444,\"#bd3786\"],[0.5555555555555556,\"#d8576b\"],[0.6666666666666666,\"#ed7953\"],[0.7777777777777778,\"#fb9f3a\"],[0.8888888888888888,\"#fdca26\"],[1.0,\"#f0f921\"]]}],\"heatmap\":[{\"type\":\"heatmap\",\"colorbar\":{\"outlinewidth\":0,\"ticks\":\"\"},\"colorscale\":[[0.0,\"#0d0887\"],[0.1111111111111111,\"#46039f\"],[0.2222222222222222,\"#7201a8\"],[0.3333333333333333,\"#9c179e\"],[0.4444444444444444,\"#bd3786\"],[0.5555555555555556,\"#d8576b\"],[0.6666666666666666,\"#ed7953\"],[0.7777777777777778,\"#fb9f3a\"],[0.8888888888888888,\"#fdca26\"],[1.0,\"#f0f921\"]]}],\"heatmapgl\":[{\"type\":\"heatmapgl\",\"colorbar\":{\"outlinewidth\":0,\"ticks\":\"\"},\"colorscale\":[[0.0,\"#0d0887\"],[0.1111111111111111,\"#46039f\"],[0.2222222222222222,\"#7201a8\"],[0.3333333333333333,\"#9c179e\"],[0.4444444444444444,\"#bd3786\"],[0.5555555555555556,\"#d8576b\"],[0.6666666666666666,\"#ed7953\"],[0.7777777777777778,\"#fb9f3a\"],[0.8888888888888888,\"#fdca26\"],[1.0,\"#f0f921\"]]}],\"contourcarpet\":[{\"type\":\"contourcarpet\",\"colorbar\":{\"outlinewidth\":0,\"ticks\":\"\"}}],\"contour\":[{\"type\":\"contour\",\"colorbar\":{\"outlinewidth\":0,\"ticks\":\"\"},\"colorscale\":[[0.0,\"#0d0887\"],[0.1111111111111111,\"#46039f\"],[0.2222222222222222,\"#7201a8\"],[0.3333333333333333,\"#9c179e\"],[0.4444444444444444,\"#bd3786\"],[0.5555555555555556,\"#d8576b\"],[0.6666666666666666,\"#ed7953\"],[0.7777777777777778,\"#fb9f3a\"],[0.8888888888888888,\"#fdca26\"],[1.0,\"#f0f921\"]]}],\"surface\":[{\"type\":\"surface\",\"colorbar\":{\"outlinewidth\":0,\"ticks\":\"\"},\"colorscale\":[[0.0,\"#0d0887\"],[0.1111111111111111,\"#46039f\"],[0.2222222222222222,\"#7201a8\"],[0.3333333333333333,\"#9c179e\"],[0.4444444444444444,\"#bd3786\"],[0.5555555555555556,\"#d8576b\"],[0.6666666666666666,\"#ed7953\"],[0.7777777777777778,\"#fb9f3a\"],[0.8888888888888888,\"#fdca26\"],[1.0,\"#f0f921\"]]}],\"mesh3d\":[{\"type\":\"mesh3d\",\"colorbar\":{\"outlinewidth\":0,\"ticks\":\"\"}}],\"scatter\":[{\"fillpattern\":{\"fillmode\":\"overlay\",\"size\":10,\"solidity\":0.2},\"type\":\"scatter\"}],\"parcoords\":[{\"type\":\"parcoords\",\"line\":{\"colorbar\":{\"outlinewidth\":0,\"ticks\":\"\"}}}],\"scatterpolargl\":[{\"type\":\"scatterpolargl\",\"marker\":{\"colorbar\":{\"outlinewidth\":0,\"ticks\":\"\"}}}],\"bar\":[{\"error_x\":{\"color\":\"#2a3f5f\"},\"error_y\":{\"color\":\"#2a3f5f\"},\"marker\":{\"line\":{\"color\":\"#E5ECF6\",\"width\":0.5},\"pattern\":{\"fillmode\":\"overlay\",\"size\":10,\"solidity\":0.2}},\"type\":\"bar\"}],\"scattergeo\":[{\"type\":\"scattergeo\",\"marker\":{\"colorbar\":{\"outlinewidth\":0,\"ticks\":\"\"}}}],\"scatterpolar\":[{\"type\":\"scatterpolar\",\"marker\":{\"colorbar\":{\"outlinewidth\":0,\"ticks\":\"\"}}}],\"histogram\":[{\"marker\":{\"pattern\":{\"fillmode\":\"overlay\",\"size\":10,\"solidity\":0.2}},\"type\":\"histogram\"}],\"scattergl\":[{\"type\":\"scattergl\",\"marker\":{\"colorbar\":{\"outlinewidth\":0,\"ticks\":\"\"}}}],\"scatter3d\":[{\"type\":\"scatter3d\",\"line\":{\"colorbar\":{\"outlinewidth\":0,\"ticks\":\"\"}},\"marker\":{\"colorbar\":{\"outlinewidth\":0,\"ticks\":\"\"}}}],\"scattermapbox\":[{\"type\":\"scattermapbox\",\"marker\":{\"colorbar\":{\"outlinewidth\":0,\"ticks\":\"\"}}}],\"scatterternary\":[{\"type\":\"scatterternary\",\"marker\":{\"colorbar\":{\"outlinewidth\":0,\"ticks\":\"\"}}}],\"scattercarpet\":[{\"type\":\"scattercarpet\",\"marker\":{\"colorbar\":{\"outlinewidth\":0,\"ticks\":\"\"}}}],\"carpet\":[{\"aaxis\":{\"endlinecolor\":\"#2a3f5f\",\"gridcolor\":\"white\",\"linecolor\":\"white\",\"minorgridcolor\":\"white\",\"startlinecolor\":\"#2a3f5f\"},\"baxis\":{\"endlinecolor\":\"#2a3f5f\",\"gridcolor\":\"white\",\"linecolor\":\"white\",\"minorgridcolor\":\"white\",\"startlinecolor\":\"#2a3f5f\"},\"type\":\"carpet\"}],\"table\":[{\"cells\":{\"fill\":{\"color\":\"#EBF0F8\"},\"line\":{\"color\":\"white\"}},\"header\":{\"fill\":{\"color\":\"#C8D4E3\"},\"line\":{\"color\":\"white\"}},\"type\":\"table\"}],\"barpolar\":[{\"marker\":{\"line\":{\"color\":\"#E5ECF6\",\"width\":0.5},\"pattern\":{\"fillmode\":\"overlay\",\"size\":10,\"solidity\":0.2}},\"type\":\"barpolar\"}],\"pie\":[{\"automargin\":true,\"type\":\"pie\"}]},\"layout\":{\"autotypenumbers\":\"strict\",\"colorway\":[\"#636efa\",\"#EF553B\",\"#00cc96\",\"#ab63fa\",\"#FFA15A\",\"#19d3f3\",\"#FF6692\",\"#B6E880\",\"#FF97FF\",\"#FECB52\"],\"font\":{\"color\":\"#2a3f5f\"},\"hovermode\":\"closest\",\"hoverlabel\":{\"align\":\"left\"},\"paper_bgcolor\":\"white\",\"plot_bgcolor\":\"#E5ECF6\",\"polar\":{\"bgcolor\":\"#E5ECF6\",\"angularaxis\":{\"gridcolor\":\"white\",\"linecolor\":\"white\",\"ticks\":\"\"},\"radialaxis\":{\"gridcolor\":\"white\",\"linecolor\":\"white\",\"ticks\":\"\"}},\"ternary\":{\"bgcolor\":\"#E5ECF6\",\"aaxis\":{\"gridcolor\":\"white\",\"linecolor\":\"white\",\"ticks\":\"\"},\"baxis\":{\"gridcolor\":\"white\",\"linecolor\":\"white\",\"ticks\":\"\"},\"caxis\":{\"gridcolor\":\"white\",\"linecolor\":\"white\",\"ticks\":\"\"}},\"coloraxis\":{\"colorbar\":{\"outlinewidth\":0,\"ticks\":\"\"}},\"colorscale\":{\"sequential\":[[0.0,\"#0d0887\"],[0.1111111111111111,\"#46039f\"],[0.2222222222222222,\"#7201a8\"],[0.3333333333333333,\"#9c179e\"],[0.4444444444444444,\"#bd3786\"],[0.5555555555555556,\"#d8576b\"],[0.6666666666666666,\"#ed7953\"],[0.7777777777777778,\"#fb9f3a\"],[0.8888888888888888,\"#fdca26\"],[1.0,\"#f0f921\"]],\"sequentialminus\":[[0.0,\"#0d0887\"],[0.1111111111111111,\"#46039f\"],[0.2222222222222222,\"#7201a8\"],[0.3333333333333333,\"#9c179e\"],[0.4444444444444444,\"#bd3786\"],[0.5555555555555556,\"#d8576b\"],[0.6666666666666666,\"#ed7953\"],[0.7777777777777778,\"#fb9f3a\"],[0.8888888888888888,\"#fdca26\"],[1.0,\"#f0f921\"]],\"diverging\":[[0,\"#8e0152\"],[0.1,\"#c51b7d\"],[0.2,\"#de77ae\"],[0.3,\"#f1b6da\"],[0.4,\"#fde0ef\"],[0.5,\"#f7f7f7\"],[0.6,\"#e6f5d0\"],[0.7,\"#b8e186\"],[0.8,\"#7fbc41\"],[0.9,\"#4d9221\"],[1,\"#276419\"]]},\"xaxis\":{\"gridcolor\":\"white\",\"linecolor\":\"white\",\"ticks\":\"\",\"title\":{\"standoff\":15},\"zerolinecolor\":\"white\",\"automargin\":true,\"zerolinewidth\":2},\"yaxis\":{\"gridcolor\":\"white\",\"linecolor\":\"white\",\"ticks\":\"\",\"title\":{\"standoff\":15},\"zerolinecolor\":\"white\",\"automargin\":true,\"zerolinewidth\":2},\"scene\":{\"xaxis\":{\"backgroundcolor\":\"#E5ECF6\",\"gridcolor\":\"white\",\"linecolor\":\"white\",\"showbackground\":true,\"ticks\":\"\",\"zerolinecolor\":\"white\",\"gridwidth\":2},\"yaxis\":{\"backgroundcolor\":\"#E5ECF6\",\"gridcolor\":\"white\",\"linecolor\":\"white\",\"showbackground\":true,\"ticks\":\"\",\"zerolinecolor\":\"white\",\"gridwidth\":2},\"zaxis\":{\"backgroundcolor\":\"#E5ECF6\",\"gridcolor\":\"white\",\"linecolor\":\"white\",\"showbackground\":true,\"ticks\":\"\",\"zerolinecolor\":\"white\",\"gridwidth\":2}},\"shapedefaults\":{\"line\":{\"color\":\"#2a3f5f\"}},\"annotationdefaults\":{\"arrowcolor\":\"#2a3f5f\",\"arrowhead\":0,\"arrowwidth\":1},\"geo\":{\"bgcolor\":\"white\",\"landcolor\":\"#E5ECF6\",\"subunitcolor\":\"white\",\"showland\":true,\"showlakes\":true,\"lakecolor\":\"white\"},\"title\":{\"x\":0.05},\"mapbox\":{\"style\":\"light\"}}},\"xaxis\":{\"anchor\":\"y\",\"domain\":[0.0,1.0],\"title\":{\"text\":\"x\"}},\"yaxis\":{\"anchor\":\"x\",\"domain\":[0.0,1.0],\"title\":{\"text\":\"density\"}},\"legend\":{\"tracegroupgap\":0},\"margin\":{\"t\":60}},                        {\"responsive\": true}                    ).then(function(){\n",
       "                            \n",
       "var gd = document.getElementById('183d28ea-795d-4055-b6e8-8652638aad44');\n",
       "var x = new MutationObserver(function (mutations, observer) {{\n",
       "        var display = window.getComputedStyle(gd).display;\n",
       "        if (!display || display === 'none') {{\n",
       "            console.log([gd, 'removed!']);\n",
       "            Plotly.purge(gd);\n",
       "            observer.disconnect();\n",
       "        }}\n",
       "}});\n",
       "\n",
       "// Listen for the removal of the full notebook cells\n",
       "var notebookContainer = gd.closest('#notebook-container');\n",
       "if (notebookContainer) {{\n",
       "    x.observe(notebookContainer, {childList: true});\n",
       "}}\n",
       "\n",
       "// Listen for the clearing of the current output cell\n",
       "var outputEl = gd.closest('.output');\n",
       "if (outputEl) {{\n",
       "    x.observe(outputEl, {childList: true});\n",
       "}}\n",
       "\n",
       "                        })                };                });            </script>        </div>"
      ]
     },
     "metadata": {},
     "output_type": "display_data"
    }
   ],
   "source": [
    "import numpy as np\n",
    "support = np.linspace(-1,3,100)\n",
    "df = pd.DataFrame({'x':support, \n",
    "                   'density':my_normal_theoretical_population.pdf(support)})\n",
    "px.line(df, x='x', y='density')"
   ]
  },
  {
   "cell_type": "code",
   "execution_count": 33,
   "id": "7e184948",
   "metadata": {},
   "outputs": [
    {
     "data": {
      "application/vnd.plotly.v1+json": {
       "config": {
        "plotlyServerURL": "https://plot.ly"
       },
       "data": [
        {
         "autobinx": false,
         "histnorm": "probability density",
         "legendgroup": "My theoretical sample",
         "marker": {
          "color": "rgb(31, 119, 180)"
         },
         "name": "My theoretical sample",
         "opacity": 0.7,
         "type": "histogram",
         "x": [
          1.1066225103637195,
          0.9722454668455022,
          0.9772641262551858,
          1.4711181237072632,
          1.483448868041174,
          0.6916767109932962,
          0.7412212200727465,
          0.860166818575792,
          1.2059902046196713,
          1.536355642718692,
          1.425242435336631,
          0.8817577849125996,
          0.6673620639122065,
          1.3669151438515614,
          1.0554427495232572,
          0.7753807469153989,
          1.250214904425234,
          0.8934446319758524,
          0.9069469106904434,
          1.1057884226032797,
          0.35641250266933144,
          0.8068939829528667,
          1.1191482968704707,
          1.1580235071686968,
          1.627763103345894,
          0.9967664870898058,
          1.2870092112857834,
          0.8153358745138598,
          0.49675397799552035,
          1.0007303817506374,
          1.266459801512994,
          0.6673468840431664,
          1.0704705161340362,
          0.5990162096037863,
          0.8849219268468265,
          1.2940512195361613,
          0.45352784796909906,
          0.855665935849025,
          1.293509714230352,
          1.1131544559523756,
          1.304543317544688,
          0.5579651668900956,
          1.1045961243465567,
          1.0148683001383856,
          0.7812666177469175,
          0.6132643934324372,
          0.2929490363993078,
          1.2168139665880608,
          1.4431350794975901,
          1.3023697770361922,
          1.334986382013095,
          0.8053710521906396,
          1.431260833247529,
          1.1155264218637144,
          0.9643865881857544,
          1.3633799860406417,
          0.9660704019904852,
          0.7166765914383828,
          0.8203279526032297,
          1.0663866031015177,
          1.5222664722813444,
          0.5573033577072356,
          0.8374466552513731,
          0.8731678673514021,
          0.6963026746375747,
          1.2330338041885802,
          0.9436696499815459,
          0.2301000242991873,
          0.7303074637918932,
          0.9485635902645472,
          1.4170030605846247,
          1.4251009704341397,
          0.2314084207980711,
          1.2069453075462588,
          1.1676404982153477,
          1.4023220377531245,
          1.2246231312401894,
          0.20111475992960182,
          0.37761997553392324,
          1.1002491241367567,
          1.4077262507392985,
          1.0056338876210256,
          0.7446699009578983,
          1.4559543310830236,
          1.0064861161752081,
          0.41523282226550007,
          0.998233469401592,
          1.2032460664859104,
          0.30837826739551044,
          0.6106856808157116,
          1.4620689405572653,
          1.062934128799256,
          1.1351664665609726,
          0.5812554816899287,
          0.6540858125145207,
          1.365972688090525,
          1.0350231755672914,
          1.2433992224844448,
          1.2130626698399254,
          1.3529927961623134,
          0.9328583566030408,
          1.5265786380337758,
          1.2228427104229793,
          0.9676420498410393,
          0.636896955706667,
          0.5348743875719969,
          1.3096586530690795,
          0.9518557390357583,
          1.105987173942193,
          0.33922664699468585,
          0.4137870027516377,
          1.4543705218715597,
          1.3188497191327384,
          1.0831963844626453,
          0.5160327581213813,
          0.5974523446598646,
          1.3889100436245365,
          0.8423863650575859,
          0.732874002504805,
          0.9827358143606304,
          0.7217278878164137,
          1.5294458972867022,
          0.9680925607044955,
          1.2029576614444506,
          0.663170984685969,
          1.1417335700067404,
          1.1330843524024412,
          0.6878739040754007,
          1.5999603396159894,
          1.2394501804151197,
          0.9242342456878949,
          -0.04079361909244206,
          0.983594431697444,
          0.985139875492642,
          1.4083746586309471,
          1.0705717000593407,
          1.5256167785881245,
          0.8985259900236567,
          0.45059177434297804,
          1.6228426616174563,
          1.0834593229160772,
          1.4920403408005118,
          1.1370509177176138,
          1.1043862947941019,
          1.1003790712924062,
          0.7946987834995312,
          1.3384070666841121,
          0.9526482878791189,
          0.8332278436183562,
          0.9747787972021512,
          0.6709619877366055,
          0.9218313301308071,
          0.9727589478037174,
          1.170471916569093,
          1.5059624939302898,
          0.49695980735684087,
          0.6610144873194269,
          0.7011565615963999,
          0.07478204297654101,
          0.941114028844963,
          1.0241230486255313,
          0.6015651682754897,
          0.8881927090197247,
          1.068398932300699,
          1.7927991171102309,
          1.1977722266318522,
          0.46873015705616594,
          0.8016403505656244,
          1.4815229031347565,
          1.8950580803273347,
          1.0358846743457464,
          0.9532916096074714,
          1.104413234310812,
          0.5585635691549498,
          0.762163030851769,
          0.42095954131575186,
          0.7652988153127855,
          0.5318709033388003,
          1.595690287629019,
          1.1327347167388877,
          1.2948934128425684,
          1.0816127489134952,
          1.7710964603879833,
          1.1994126915058474,
          1.3176068250347077,
          0.8405307594528545,
          0.5916383915751757,
          0.6858116646487381,
          1.2234955643624488,
          0.5567114336966055,
          1.4353761762754984,
          0.8918790375522453,
          1.2168441831216381,
          0.6991874125144794,
          1.0172021904965889,
          0.8260422567817839,
          0.7381093655090856,
          0.6406299425247224,
          1.4490473687555196,
          1.0319890001306449,
          0.965460870313225,
          0.9116306657322548,
          1.295019592636103,
          1.2407966356860967,
          0.9106823004560773,
          0.4341978107407206,
          1.2512717311920083,
          1.3198057553917373,
          1.3850748777629167,
          0.6164614335860222,
          1.256811629916303,
          1.640890440735933,
          1.2840796536345418,
          1.1888191092933162,
          1.4594518833327383,
          0.6282924506683742,
          1.5120412543436375,
          1.1623300258687053,
          1.1930353437969052,
          0.9222090541365224,
          1.0929982387920367,
          0.8172226775739069,
          0.9900869897649637,
          0.9558758297814629,
          1.199483718578505,
          1.7076344448052927,
          1.1828158630609822,
          1.494883322743625,
          1.087136996566688,
          0.6612512919424807,
          1.4834600083060314,
          1.7274734812935266,
          0.656383924717826,
          1.4118251307350524,
          1.0107568281334687,
          0.8583340511873782,
          0.8115088375834829,
          1.149321089871845,
          0.7503699233372256,
          0.9305208468697236,
          0.20905066462205946,
          0.6684317621257845,
          1.1501729126107052,
          0.9757063831028618,
          1.4945866475378975,
          1.1957104371622223,
          0.8549817809364022,
          0.7734399304148389,
          0.5454306449743045,
          1.0047424007059127,
          1.1502720030956115,
          1.4573226325537174,
          0.7420957673772488,
          1.4127054853880234,
          1.0106005180794806,
          1.3257642249933292,
          0.33578066377090043,
          1.0257672814686534,
          0.8880020383842507,
          0.8201262327436948,
          1.3381745963916285,
          0.5114860091699454,
          1.2313197774090554,
          0.8171991142690668,
          0.8696341817425168,
          0.9145798598686437,
          1.3809556958751228,
          1.2664781546050412,
          0.8900129482380612,
          1.2964237595001633,
          1.5497017453641297,
          0.5929024773803786,
          1.2361354750387417,
          0.9001576154527858,
          1.4192799847956756,
          0.6768157106936429,
          0.1060687549028081,
          1.3614033432934023,
          0.7607290941578609,
          1.0502442103302299,
          1.385830193506051,
          1.5126951073352595,
          1.1708732884965312,
          0.6137246714121846,
          1.3646477834380084,
          1.5214670946413869,
          0.8406681269913812,
          1.209687955863628,
          1.129091039133992,
          0.48405124039097414,
          1.3565966874879059,
          1.1626481484818594,
          0.44415939612836,
          1.3025606042393663,
          0.6690709069452399,
          1.3523411376253107,
          1.0512309233335515,
          1.5007109211894183,
          0.7587046227929646,
          0.9138146350924999,
          0.8313862795560116,
          1.849872436715637,
          0.731093394399264,
          1.0004592351439345,
          1.0571557992285996,
          0.7915106358547453,
          1.2325679005427994,
          1.1144433339273265,
          0.9721900149160924,
          0.887329534434942,
          1.5118870859301556,
          0.3089960293432902,
          0.956005419789227,
          1.7645238373953682,
          0.4371379964574329,
          0.772833211753403,
          1.0304395134663389,
          1.0847540613650521,
          1.3647221661638573
         ],
         "xaxis": "x",
         "xbins": {
          "end": 1.8950580803273347,
          "size": 0.2,
          "start": -0.04079361909244206
         },
         "yaxis": "y"
        },
        {
         "autobinx": false,
         "histnorm": "probability density",
         "legendgroup": "My actually observed sample",
         "marker": {
          "color": "rgb(255, 127, 14)"
         },
         "name": "My actually observed sample",
         "opacity": 0.7,
         "type": "histogram",
         "x": [
          0.8,
          0.7,
          0.3,
          1.6,
          1.4,
          1.7,
          1.2,
          0.8,
          1.1,
          1.7,
          1.5,
          1.3,
          1,
          0.8,
          1,
          0.5,
          0.8,
          0.6,
          0.7,
          0.5,
          1.2,
          0.5,
          0.8,
          1.4,
          0.7,
          1.2,
          1.1,
          1,
          0.9,
          0.6,
          0.9,
          1.8,
          0.4,
          0.5,
          0.4,
          0.9,
          0.6,
          0.8,
          0.5,
          0.4,
          0.2,
          1.1,
          1,
          0.7,
          0.8,
          0.4,
          1.5,
          1,
          1.4,
          1.3,
          0.9,
          1.5,
          0.9,
          0.9,
          0.1,
          1.2,
          0.6,
          0.8,
          0.6,
          1.2,
          1.2,
          0.8,
          0.8,
          0.8,
          1.6,
          0.8,
          1.6,
          1,
          1,
          0.8,
          0.8,
          0.5,
          0.7,
          0.7,
          0.7,
          0.7,
          1,
          0.9,
          1.1,
          0.6,
          0.8,
          1.4,
          1.7,
          1.5,
          0.9,
          0.3,
          0.8,
          1,
          0.9,
          1.2,
          1.2,
          0.9,
          1.8,
          0.9,
          0.4,
          0.9,
          0.6,
          0.5,
          0.5,
          1,
          0.8,
          1.5,
          1.4,
          0.4,
          2.1,
          0.6,
          0.2,
          0.5,
          1.1,
          1.8,
          0.6,
          0.6,
          0.8,
          0.9,
          1.1,
          1.2,
          0.6,
          0.7,
          1,
          1,
          0.6,
          0.9,
          1.2,
          0.6,
          1.4,
          0.5,
          1,
          0.6,
          0.9,
          1.4,
          1.1,
          1,
          2,
          1,
          1.5,
          0.6,
          1,
          1.2,
          1,
          0.7,
          0.7,
          0.8,
          0.6,
          0.7,
          1,
          0.4,
          0.9,
          1.5,
          1,
          0.7,
          0.7,
          0.9,
          0.7,
          1.1,
          0.4,
          0.4,
          1.2,
          0.6,
          0.6,
          0.5,
          0.7,
          0.7,
          1.2,
          1.5,
          1,
          1,
          1.4,
          1.1,
          0.4,
          0.8,
          1.3,
          1,
          1,
          0.6,
          1.2,
          0.8,
          1,
          0.7,
          0.9,
          0.7,
          0.9,
          1.2,
          1.3,
          0.7,
          0.6,
          1.1,
          0.6,
          1,
          0.8,
          0.8,
          1.4,
          0.5,
          1.6,
          0.5,
          0.4,
          1.2,
          0.6,
          0.5,
          0.5,
          0.6,
          0.8,
          0.9,
          1.4,
          0.7,
          0.8,
          0.9,
          0.5,
          0.7,
          0.4,
          0.9,
          1.2,
          1.3,
          0.9,
          0.3,
          0.4,
          1.7,
          1,
          0.7,
          0.4,
          0.4,
          0.9,
          0.6,
          1.3,
          1,
          1.6,
          0.5,
          0.6,
          0.6,
          0.7,
          0.7,
          1.5,
          1.1,
          0.5,
          0.4,
          1.4,
          0.8,
          0.7,
          0.5,
          0.5,
          0.7,
          1.1,
          0.9,
          0.8,
          0.5,
          0.8,
          1.2,
          1.2,
          0.8,
          1,
          0.8,
          1.6,
          1.4,
          0.5,
          1,
          0.8,
          1.2,
          1.2,
          0.8,
          0.6,
          0.6,
          1.3,
          0.7,
          0.5,
          0.4,
          1.5,
          1.2,
          0.8,
          0.5,
          1.1,
          0.5,
          1.5,
          0.6,
          1,
          0.9,
          0.5,
          1,
          1,
          0.3,
          0.6,
          0.8,
          1.5,
          1,
          0.8,
          1,
          0.6,
          0.5,
          1.2,
          0.7,
          1.1,
          0.7,
          1.2,
          1.3,
          1.5,
          1.7,
          0.5,
          0.7,
          0.7,
          0.4,
          1,
          1,
          1.7,
          1.3,
          1.4,
          0.4,
          0.8,
          0.5,
          0.8,
          1.4,
          1.7,
          0.9,
          0.7,
          0.9,
          1,
          0.5,
          1.1,
          0.7,
          0.7,
          0.9,
          1
         ],
         "xaxis": "x",
         "xbins": {
          "end": 2.1,
          "size": 0.2,
          "start": 0.1
         },
         "yaxis": "y"
        },
        {
         "legendgroup": "My theoretical sample",
         "marker": {
          "color": "rgb(31, 119, 180)"
         },
         "mode": "lines",
         "name": "My theoretical sample",
         "showlegend": false,
         "type": "scatter",
         "x": [
          -0.04079361909244206,
          -0.0369219156936025,
          -0.03305021229476295,
          -0.029178508895923397,
          -0.02530680549708384,
          -0.02143510209824429,
          -0.017563398699404736,
          -0.013691695300565184,
          -0.009819991901725628,
          -0.005948288502886069,
          -0.0020765851040465202,
          0.0017951182947930286,
          0.005666821693632584,
          0.00953852509247214,
          0.013410228491311689,
          0.017281931890151245,
          0.0211536352889908,
          0.025025338687830356,
          0.02889704208666992,
          0.032768745485509454,
          0.03664044888434902,
          0.040512152283188566,
          0.044383855682028114,
          0.04825555908086766,
          0.052127262479707226,
          0.05599896587854679,
          0.05987066927738634,
          0.06374237267622589,
          0.06761407607506544,
          0.071485779473905,
          0.07535748287274455,
          0.0792291862715841,
          0.08310088967042366,
          0.08697259306926322,
          0.09084429646810277,
          0.09471599986694232,
          0.0985877032657819,
          0.10245940666462142,
          0.10633111006346097,
          0.11020281346230054,
          0.11407451686114009,
          0.11794622025997964,
          0.12181792365881919,
          0.12568962705765874,
          0.12956133045649829,
          0.13343303385533786,
          0.13730473725417738,
          0.14117644065301696,
          0.1450481440518565,
          0.14891984745069606,
          0.15279155084953563,
          0.15666325424837516,
          0.16053495764721473,
          0.16440666104605428,
          0.16827836444489383,
          0.1721500678437334,
          0.17602177124257293,
          0.17989347464141248,
          0.18376517804025205,
          0.1876368814390916,
          0.19150858483793115,
          0.1953802882367707,
          0.19925199163561025,
          0.20312369503444982,
          0.20699539843328937,
          0.21086710183212892,
          0.2147388052309685,
          0.21861050862980808,
          0.2224822120286476,
          0.22635391542748712,
          0.2302256188263267,
          0.23409732222516622,
          0.23796902562400585,
          0.24184072902284537,
          0.2457124324216849,
          0.24958413582052447,
          0.253455839219364,
          0.25732754261820356,
          0.26119924601704314,
          0.26507094941588266,
          0.26894265281472224,
          0.27281435621356176,
          0.27668605961240134,
          0.2805577630112409,
          0.28442946641008043,
          0.28830116980892,
          0.29217287320775953,
          0.29604457660659905,
          0.29991628000543863,
          0.3037879834042782,
          0.3076596868031178,
          0.3115313902019573,
          0.3154030936007968,
          0.3192747969996364,
          0.323146500398476,
          0.32701820379731555,
          0.3308899071961551,
          0.3347616105949946,
          0.3386333139938342,
          0.34250501739267375,
          0.3463767207915133,
          0.35024842419035285,
          0.35412012758919237,
          0.35799183098803194,
          0.3618635343868715,
          0.3657352377857111,
          0.3696069411845506,
          0.37347864458339014,
          0.3773503479822297,
          0.38122205138106924,
          0.38509375477990887,
          0.3889654581787484,
          0.3928371615775879,
          0.3967088649764275,
          0.400580568375267,
          0.40445227177410664,
          0.40832397517294616,
          0.4121956785717857,
          0.41606738197062526,
          0.4199390853694648,
          0.42381078876830436,
          0.42768249216714394,
          0.43155419556598346,
          0.43542589896482303,
          0.43929760236366255,
          0.44316930576250213,
          0.4470410091613417,
          0.45091271256018123,
          0.4547844159590208,
          0.4586561193578603,
          0.4625278227566999,
          0.4663995261555395,
          0.47027122955437906,
          0.4741429329532185,
          0.4780146363520582,
          0.4818863397508977,
          0.48575804314973725,
          0.4896297465485767,
          0.4935014499474163,
          0.497373153346256,
          0.5012448567450954,
          0.505116560143935,
          0.5089882635427745,
          0.5128599669416141,
          0.5167316703404538,
          0.5206033737392932,
          0.5244750771381328,
          0.5283467805369723,
          0.5322184839358118,
          0.5360901873346514,
          0.539961890733491,
          0.5438335941323306,
          0.54770529753117,
          0.5515770009300096,
          0.5554487043288492,
          0.5593204077276888,
          0.5631921111265283,
          0.5670638145253678,
          0.5709355179242074,
          0.574807221323047,
          0.5786789247218865,
          0.5825506281207261,
          0.5864223315195656,
          0.5902940349184052,
          0.5941657383172447,
          0.5980374417160843,
          0.6019091451149239,
          0.6057808485137633,
          0.6096525519126029,
          0.6135242553114424,
          0.6173959587102821,
          0.6212676621091217,
          0.6251393655079611,
          0.6290110689068007,
          0.6328827723056402,
          0.6367544757044798,
          0.6406261791033193,
          0.6444978825021589,
          0.6483695859009985,
          0.6522412892998379,
          0.6561129926986776,
          0.6599846960975171,
          0.6638563994963567,
          0.6677281028951962,
          0.6715998062940357,
          0.6754715096928754,
          0.6793432130917149,
          0.6832149164905544,
          0.687086619889394,
          0.6909583232882335,
          0.6948300266870732,
          0.6987017300859126,
          0.7025734334847522,
          0.7064451368835918,
          0.7103168402824312,
          0.7141885436812709,
          0.7180602470801104,
          0.72193195047895,
          0.7258036538777896,
          0.729675357276629,
          0.7335470606754687,
          0.7374187640743082,
          0.7412904674731478,
          0.7451621708719873,
          0.7490338742708268,
          0.7529055776696665,
          0.756777281068506,
          0.7606489844673455,
          0.7645206878661851,
          0.7683923912650246,
          0.7722640946638643,
          0.7761357980627037,
          0.7800075014615433,
          0.7838792048603828,
          0.7877509082592223,
          0.791622611658062,
          0.7954943150569015,
          0.7993660184557411,
          0.8032377218545805,
          0.8071094252534201,
          0.8109811286522598,
          0.8148528320510993,
          0.8187245354499388,
          0.8225962388487783,
          0.8264679422476179,
          0.8303396456464576,
          0.834211349045297,
          0.8380830524441366,
          0.8419547558429761,
          0.8458264592418157,
          0.8496981626406553,
          0.8535698660394948,
          0.8574415694383344,
          0.8613132728371738,
          0.8651849762360134,
          0.8690566796348531,
          0.8729283830336926,
          0.8768000864325322,
          0.8806717898313716,
          0.8845434932302112,
          0.8884151966290508,
          0.8922869000278904,
          0.8961586034267299,
          0.9000303068255694,
          0.903902010224409,
          0.9077737136232485,
          0.9116454170220881,
          0.9155171204209277,
          0.9193888238197672,
          0.9232605272186067,
          0.9271322306174463,
          0.9310039340162859,
          0.9348756374151255,
          0.9387473408139649,
          0.9426190442128045,
          0.9464907476116441,
          0.9503624510104837,
          0.9542341544093232,
          0.9581058578081627,
          0.9619775612070023,
          0.9658492646058419,
          0.9697209680046814,
          0.973592671403521,
          0.9774643748023606,
          0.9813360782012002,
          0.9852077816000395,
          0.9890794849988791,
          0.9929511883977187,
          0.9968228917965585,
          1.0006945951953978,
          1.0045662985942374,
          1.008438001993077,
          1.0123097053919166,
          1.0161814087907561,
          1.0200531121895955,
          1.023924815588435,
          1.0277965189872746,
          1.0316682223861142,
          1.035539925784954,
          1.0394116291837934,
          1.043283332582633,
          1.0471550359814725,
          1.051026739380312,
          1.0548984427791517,
          1.058770146177991,
          1.0626418495768306,
          1.0665135529756702,
          1.0703852563745098,
          1.0742569597733496,
          1.078128663172189,
          1.0820003665710285,
          1.085872069969868,
          1.0897437733687076,
          1.093615476767547,
          1.0974871801663866,
          1.1013588835652262,
          1.1052305869640657,
          1.1091022903629053,
          1.1129739937617449,
          1.1168456971605845,
          1.120717400559424,
          1.1245891039582636,
          1.1284608073571032,
          1.1323325107559425,
          1.1362042141547821,
          1.1400759175536217,
          1.1439476209524613,
          1.1478193243513009,
          1.1516910277501404,
          1.15556273114898,
          1.1594344345478196,
          1.1633061379466592,
          1.1671778413454987,
          1.171049544744338,
          1.1749212481431777,
          1.1787929515420172,
          1.1826646549408568,
          1.1865363583396964,
          1.190408061738536,
          1.1942797651373755,
          1.1981514685362151,
          1.2020231719350547,
          1.2058948753338943,
          1.2097665787327336,
          1.2136382821315732,
          1.2175099855304128,
          1.2213816889292524,
          1.225253392328092,
          1.2291250957269315,
          1.232996799125771,
          1.2368685025246107,
          1.2407402059234502,
          1.2446119093222898,
          1.2484836127211292,
          1.2523553161199688,
          1.2562270195188083,
          1.260098722917648,
          1.2639704263164875,
          1.2678421297153268,
          1.2717138331141666,
          1.2755855365130062,
          1.2794572399118458,
          1.2833289433106854,
          1.2872006467095247,
          1.2910723501083643,
          1.2949440535072039,
          1.2988157569060435,
          1.302687460304883,
          1.3065591637037224,
          1.3104308671025622,
          1.3143025705014018,
          1.3181742739002413,
          1.3220459772990807,
          1.3259176806979203,
          1.3297893840967598,
          1.3336610874955994,
          1.337532790894439,
          1.3414044942932783,
          1.345276197692118,
          1.3491479010909577,
          1.3530196044897973,
          1.3568913078886369,
          1.3607630112874762,
          1.3646347146863158,
          1.3685064180851554,
          1.372378121483995,
          1.3762498248828345,
          1.380121528281674,
          1.3839932316805135,
          1.3878649350793533,
          1.3917366384781928,
          1.3956083418770324,
          1.3994800452758718,
          1.4033517486747114,
          1.407223452073551,
          1.4110951554723905,
          1.41496685887123,
          1.4188385622700694,
          1.422710265668909,
          1.4265819690677488,
          1.4304536724665884,
          1.434325375865428,
          1.4381970792642673,
          1.442068782663107,
          1.4459404860619465,
          1.449812189460786,
          1.4536838928596256,
          1.457555596258465,
          1.4614272996573046,
          1.4652990030561444,
          1.469170706454984,
          1.4730424098538235,
          1.4769141132526629,
          1.4807858166515024,
          1.484657520050342,
          1.4885292234491816,
          1.4924009268480212,
          1.4962726302468605,
          1.5001443336457,
          1.50401603704454,
          1.5078877404433795,
          1.511759443842219,
          1.5156311472410584,
          1.519502850639898,
          1.5233745540387376,
          1.5272462574375771,
          1.5311179608364167,
          1.534989664235256,
          1.5388613676340956,
          1.5427330710329354,
          1.546604774431775,
          1.5504764778306146,
          1.554348181229454,
          1.5582198846282935,
          1.562091588027133,
          1.5659632914259727,
          1.5698349948248123,
          1.5737066982236516,
          1.5775784016224912,
          1.581450105021331,
          1.5853218084201706,
          1.58919351181901,
          1.5930652152178495,
          1.596936918616689,
          1.6008086220155286,
          1.6046803254143682,
          1.6085520288132076,
          1.6124237322120472,
          1.6162954356108867,
          1.6201671390097265,
          1.624038842408566,
          1.6279105458074055,
          1.631782249206245,
          1.6356539526050846,
          1.6395256560039242,
          1.6433973594027638,
          1.6472690628016031,
          1.6511407662004427,
          1.6550124695992823,
          1.658884172998122,
          1.6627558763969617,
          1.666627579795801,
          1.6704992831946406,
          1.6743709865934802,
          1.6782426899923197,
          1.6821143933911593,
          1.6859860967899987,
          1.6898578001888382,
          1.6937295035876778,
          1.6976012069865176,
          1.7014729103853572,
          1.7053446137841966,
          1.7092163171830361,
          1.7130880205818757,
          1.7169597239807153,
          1.7208314273795549,
          1.7247031307783942,
          1.7285748341772338,
          1.7324465375760734,
          1.7363182409749132,
          1.7401899443737527,
          1.744061647772592,
          1.7479333511714317,
          1.7518050545702712,
          1.7556767579691108,
          1.7595484613679504,
          1.7634201647667898,
          1.7672918681656293,
          1.771163571564469,
          1.7750352749633085,
          1.7789069783621483,
          1.7827786817609876,
          1.7866503851598272,
          1.7905220885586668,
          1.7943937919575064,
          1.798265495356346,
          1.8021371987551853,
          1.8060089021540249,
          1.8098806055528645,
          1.813752308951704,
          1.8176240123505436,
          1.8214957157493832,
          1.8253674191482228,
          1.8292391225470623,
          1.833110825945902,
          1.8369825293447413,
          1.8408542327435808,
          1.8447259361424204,
          1.84859763954126,
          1.8524693429400996,
          1.8563410463389391,
          1.8602127497377787,
          1.8640844531366183,
          1.8679561565354579,
          1.8718278599342975,
          1.8756995633331368,
          1.8795712667319764,
          1.883442970130816,
          1.8873146735296555,
          1.8911863769284951
         ],
         "xaxis": "x",
         "y": [
          0.026024429436129287,
          0.026775972567300767,
          0.027539620488211392,
          0.028315625442386808,
          0.029104264004701237,
          0.029905836893942616,
          0.030720668637527104,
          0.03154910708952933,
          0.0323915228041324,
          0.03324830826752276,
          0.03411987699215516,
          0.0350066624781915,
          0.03590911704776661,
          0.03682771055855888,
          0.03776292900393686,
          0.03871527300771462,
          0.03968525622227785,
          0.04067340363953595,
          0.04168024982481079,
          0.04270633708439012,
          0.04375221357804568,
          0.044818431388345126,
          0.045905544559062525,
          0.04701410711541768,
          0.048144671079237505,
          0.04929778449243283,
          0.050473989462415,
          0.05167382024322765,
          0.05289780136624192,
          0.05414644583424423,
          0.05542025339262856,
          0.05671970889119409,
          0.05804528074971959,
          0.0593974195400524,
          0.06077655669689446,
          0.062183103368793145,
          0.0636174494200483,
          0.06507996259332471,
          0.06657098784171987,
          0.06809084683787155,
          0.06963983766641639,
          0.07121823470472473,
          0.0728262886953527,
          0.0744642270120825,
          0.07613225411977032,
          0.07783055222651564,
          0.07955928212490801,
          0.08131858421733204,
          0.08310857971851891,
          0.08492937202676663,
          0.08678104825351095,
          0.08866368089925354,
          0.09057732966226115,
          0.09252204336495597,
          0.09449786198155809,
          0.09650481874932414,
          0.0985429423446833,
          0.10061225910471401,
          0.10271279527375396,
          0.10484457925450053,
          0.10700764384275997,
          0.10920202842503937,
          0.11142778111846006,
          0.1136849608330002,
          0.11597363923685575,
          0.11829390260672219,
          0.12064585354605394,
          0.12302961255582864,
          0.1254453194440177,
          0.12789313456182444,
          0.13037323985676996,
          0.13288583973486845,
          0.1354311617263871,
          0.13800945695203942,
          0.1406210003888285,
          0.14326609093716225,
          0.1459450512932193,
          0.14865822763285397,
          0.1514059891155351,
          0.1541887272188873,
          0.1570068549163129,
          0.15986080571188765,
          0.16275103254820297,
          0.16567800660406398,
          0.16864221599989979,
          0.17164416442940464,
          0.17468436973626864,
          0.1777633624548789,
          0.18088168433356197,
          0.18403988685829842,
          0.18723852979387498,
          0.19047817975815584,
          0.19375940884356463,
          0.19708279329800762,
          0.20044891227533174,
          0.20385834666306216,
          0.20731167799261713,
          0.21080948743448402,
          0.21435235487803142,
          0.2179408580927409,
          0.22157557196473276,
          0.22525706779958235,
          0.22898591267961832,
          0.2327626688612299,
          0.2365878931952064,
          0.2404621365508813,
          0.24438594322286197,
          0.24835985029746346,
          0.2523843869546628,
          0.25646007368049556,
          0.2605874213643379,
          0.26476693025552,
          0.2689990887541756,
          0.27328437201220235,
          0.27762324032166175,
          0.28201613726992597,
          0.2864634876433044,
          0.29096569506383657,
          0.2955231393472965,
          0.3001361735742634,
          0.304805120870284,
          0.3095302708956702,
          0.31431187605027017,
          0.3191501474035735,
          0.3240452503656868,
          0.32899730012000294,
          0.33400635684365904,
          0.33907242074714733,
          0.3441954269695185,
          0.34937524037055434,
          0.354611650265864,
          0.35990436515514435,
          0.36525300749765083,
          0.3706571085922499,
          0.3761161036221749,
          0.3816293269267387,
          0.3871960075637048,
          0.3928152652267514,
          0.3984861065824323,
          0.40420742209023397,
          0.40997798336771524,
          0.4157964411602942,
          0.4216613239720353,
          0.4275710374097689,
          0.4335238642881045,
          0.43951796553739286,
          0.445551381950497,
          0.45162203679741425,
          0.4577277393294116,
          0.4638661891864338,
          0.4700349817132716,
          0.4762316141813496,
          0.48245349290412193,
          0.48869794122508586,
          0.49496220834837484,
          0.5012434789729235,
          0.5075388836823811,
          0.5138455100344166,
          0.5201604142848621,
          0.5264806336744348,
          0.5328031991986053,
          0.5391251487746515,
          0.5454435407141144,
          0.5517554674038705,
          0.5580580690948234,
          0.5643485476939866,
          0.5706241804533478,
          0.5768823334475977,
          0.5831204747324229,
          0.5893361870757078,
          0.5955271801556471,
          0.6016913021224125,
          0.6078265504236056,
          0.6139310817982843,
          0.6200032213497327,
          0.626041470613439,
          0.6320445145437119,
          0.6380112273501214,
          0.6439406771232407,
          0.6498321291980733,
          0.6556850482128427,
          0.6614990988304997,
          0.6672741451002887,
          0.6730102484467784,
          0.6787076642840194,
          0.6843668372626659,
          0.6899883951680075,
          0.6955731414967766,
          0.7011220467502576,
          0.7066362384905415,
          0.712116990215701,
          0.7175657091180798,
          0.7229839227978544,
          0.7283732650113159,
          0.7337354605401191,
          0.7390723092737814,
          0.7443856696031336,
          0.7496774412271601,
          0.7549495474796257,
          0.7602039172852357,
          0.7654424668575892,
          0.7706670812530928,
          0.7758795958961423,
          0.7810817781913613,
          0.7862753093384903,
          0.7914617664646302,
          0.7966426051871348,
          0.8018191427182513,
          0.8069925416200131,
          0.8121637943145631,
          0.8173337084513537,
          0.8225028932282983,
          0.8276717467591796,
          0.83284044457429,
          0.8380089293355415,
          0.8431769018410805,
          0.848343813387803,
          0.8535088595531629,
          0.8586709754502062,
          0.8638288325020013,
          0.868980836773453,
          0.874125128890031,
          0.8792595855641171,
          0.8843818227406012,
          0.8894892003640121,
          0.8945788287598839,
          0.8996475766132942,
          0.9046920805176063,
          0.9097087560564047,
          0.914693810371574,
          0.9196432561603715,
          0.9245529270343845,
          0.9294184941633816,
          0.9342354841174391,
          0.9389992978113618,
          0.9437052304464519,
          0.9483484923361224,
          0.9529242304939405,
          0.9574275508552628,
          0.9618535409970813,
          0.9661972932148467,
          0.970453927810143,
          0.9746186164391528,
          0.9786866053689719,
          0.9826532384870633,
          0.9865139799085744,
          0.9902644360268712,
          0.993900376854598,
          0.9974177565057262,
          1.0008127326736438,
          1.0040816849661387,
          1.0072212319652447,
          1.0102282468883417,
          1.0130998717364834,
          1.0158335298267054,
          1.0184269366168883,
          1.020878108744617,
          1.0231853712151515,
          1.0253473626881313,
          1.0273630388277273,
          1.0292316736965927,
          1.0309528591898554,
          1.0325265025216182,
          1.0339528217924945,
          1.0352323396828398,
          1.0363658753319491,
          1.0373545344788224,
          1.0381996979546875,
          1.03890300863126,
          1.0394663569416718,
          1.0398918651027462,
          1.040181870177944,
          1.0403389061295238,
          1.0403656850163847,
          1.040265077500304,
          1.0400400928281188,
          1.0396938584604603,
          1.0392295995191383,
          1.0386506182250468,
          1.0379602734965196,
          1.0371619608745788,
          1.0362590929362838,
          1.0352550803507363,
          1.034153313724039,
          1.0329571463700045,
          1.031669878132513,
          1.0302947403734406,
          1.028834882227055,
          1.0272933582078843,
          1.025673117244409,
          1.0239769931957745,
          1.022207696893093,
          1.0203678097310196,
          1.01845977881944,
          1.0164859136891933,
          1.0144483845301868,
          1.012349221925073,
          1.0101903180270229,
          1.0079734291161822,
          1.0057001794563065,
          1.0033720663609207,
          1.0009904663672398,
          0.9985566424062255,
          0.9960717518484365,
          0.9935368552980182,
          0.9909529260012249,
          0.9883208597313285,
          0.9856414850086987,
          0.982915573513231,
          0.9801438505461635,
          0.977327005399632,
          0.9744657014950521,
          0.9715605861555393,
          0.9686122998829994,
          0.9656214850172529,
          0.9625887936624159,
          0.95951489477474,
          0.9564004803160802,
          0.9532462703880448,
          0.9500530172734978,
          0.946821508324382,
          0.9435525676477365,
          0.9402470565549649,
          0.9369058727530406,
          0.9335299482700052,
          0.9301202461209135,
          0.926677755734005,
          0.9232034871703781,
          0.9196984641835485,
          0.9161637161779631,
          0.9126002691376675,
          0.9090091356077912,
          0.905391303822259,
          0.9017477260809622,
          0.8980793064886665,
          0.8943868881757958,
          0.8906712401282553,
          0.8869330437591676,
          0.8831728793601354,
          0.8793912125730721,
          0.8755883810259495,
          0.8717645812768372,
          0.8679198562104748,
          0.8640540830302021,
          0.8601669619855017,
          0.8562580059716322,
          0.852326531132886,
          0.8483716485950061,
          0.8443922574451577,
          0.840387039069736,
          0.8363544529512374,
          0.832292734015424,
          0.8281998916092369,
          0.8240737101784048,
          0.8199117517014378,
          0.8157113599239743,
          0.8114696664241406,
          0.8071835985259204,
          0.8028498890635042,
          0.7984650879854376,
          0.7940255757729966,
          0.7895275786329029,
          0.7849671854102213,
          0.7803403661531472,
          0.775642992247629,
          0.7708708580262693,
          0.7660197037430294,
          0.761085239792847,
          0.7560631720435557,
          0.7509492281365474,
          0.7457391846025041,
          0.7404288946293818,
          0.7350143163116575,
          0.7294915412028876,
          0.7238568229876835,
          0.7181066060846746,
          0.7122375539886756,
          0.7062465771583315,
          0.7001308602549448,
          0.6938878885390881,
          0.6875154732338554,
          0.6810117756674725,
          0.6743753300131649,
          0.6676050644509124,
          0.6607003205838379,
          0.653660870951506,
          0.646486934493243,
          0.6391791898267742,
          0.6317387862207712,
          0.6241673521544318,
          0.616467001372623,
          0.6086403363615835,
          0.6006904491873047,
          0.5926209196565719,
          0.5844358107789722,
          0.5761396615268974,
          0.5677374769094718,
          0.5592347153953262,
          0.5506372737379939,
          0.5419514692762865,
          0.5331840198001672,
          0.5243420210902076,
          0.515432922255506,
          0.506464499010862,
          0.49744482504886206,
          0.48838224167620087,
          0.4792853258959535,
          0.4701628571284905,
          0.4610237827731404,
          0.45187718282063816,
          0.44273223373253295,
          0.4335981718082594,
          0.42448425626333713,
          0.4153997322431155,
          0.40635379399576094,
          0.39735554842563464,
          0.38841397924403254,
          0.37953791192837233,
          0.3707359796934897,
          0.36201659066973685,
          0.35338789647225216,
          0.3448577623340887,
          0.336433738963104,
          0.32812303626863837,
          0.31993249908919974,
          0.31186858503689036,
          0.3039373445581035,
          0.2961444032934282,
          0.28849494680275184,
          0.28099370770445636,
          0.27364495526049876,
          0.2664524874221812,
          0.2594196253347363,
          0.2525492102825323,
          0.24584360304096478,
          0.23930468558598184,
          0.2329338650978445,
          0.22673208018222302,
          0.22069980921919394,
          0.21483708073913838,
          0.20914348571411207,
          0.2036181916439042,
          0.19825995830784993,
          0.19306715504649657,
          0.18803777943143415,
          0.18316947717707896,
          0.17845956314482975,
          0.17390504328785208,
          0.16950263738374918,
          0.16524880240247894,
          0.16113975635807926,
          0.15717150249496653,
          0.15333985366276454,
          0.14964045673770413,
          0.146068816953541,
          0.1426203220106328,
          0.1392902658381695,
          0.13607387189153006,
          0.13296631587423227,
          0.12996274778189434,
          0.12705831317394178,
          0.12424817358739279,
          0.12152752601587924,
          0.11889162138600792,
          0.11633578197217347,
          0.11385541769995125,
          0.11144604129711952,
          0.10910328226015757,
          0.10682289961266274,
          0.10460079344047245,
          0.10243301519632798,
          0.10031577677461966,
          0.09824545836406409,
          0.09621861509307755,
          0.09423198248905103,
          0.09228248077872485,
          0.09036721806234602,
          0.08848349239928603,
          0.08662879284727318,
          0.08480079950134581,
          0.0829973825820877,
          0.0812166006256273,
          0.07945669783031713,
          0.0777161006169411,
          0.0759934134607649,
          0.07428741405474154,
          0.07259704786375935,
          0.07092142212997614,
          0.0692597993890531,
          0.06761159055651757,
          0.06597634764256832,
          0.06435375615241645,
          0.06274362722777363,
          0.06114588958336182,
          0.05956058129038841,
          0.057987841456802115,
          0.056427901851872464,
          0.054881078520235674,
          0.0533477634280439,
          0.05182841618128444
         ],
         "yaxis": "y"
        },
        {
         "legendgroup": "My actually observed sample",
         "marker": {
          "color": "rgb(255, 127, 14)"
         },
         "mode": "lines",
         "name": "My actually observed sample",
         "showlegend": false,
         "type": "scatter",
         "x": [
          0.1,
          0.10400000000000001,
          0.10800000000000001,
          0.112,
          0.116,
          0.12000000000000001,
          0.124,
          0.128,
          0.132,
          0.136,
          0.14,
          0.14400000000000002,
          0.14800000000000002,
          0.152,
          0.156,
          0.16,
          0.164,
          0.168,
          0.172,
          0.176,
          0.18,
          0.184,
          0.188,
          0.192,
          0.196,
          0.2,
          0.20400000000000001,
          0.20800000000000002,
          0.21200000000000002,
          0.21600000000000003,
          0.22,
          0.224,
          0.228,
          0.232,
          0.23600000000000002,
          0.24000000000000002,
          0.244,
          0.248,
          0.252,
          0.256,
          0.26,
          0.264,
          0.268,
          0.272,
          0.276,
          0.28,
          0.28400000000000003,
          0.28800000000000003,
          0.29200000000000004,
          0.29600000000000004,
          0.30000000000000004,
          0.304,
          0.308,
          0.312,
          0.316,
          0.32,
          0.324,
          0.328,
          0.332,
          0.33599999999999997,
          0.33999999999999997,
          0.344,
          0.348,
          0.352,
          0.356,
          0.36,
          0.364,
          0.368,
          0.372,
          0.376,
          0.38,
          0.384,
          0.388,
          0.392,
          0.396,
          0.4,
          0.404,
          0.40800000000000003,
          0.41200000000000003,
          0.41600000000000004,
          0.42000000000000004,
          0.42400000000000004,
          0.42800000000000005,
          0.43200000000000005,
          0.43600000000000005,
          0.44000000000000006,
          0.44399999999999995,
          0.44799999999999995,
          0.45199999999999996,
          0.45599999999999996,
          0.45999999999999996,
          0.46399999999999997,
          0.46799999999999997,
          0.472,
          0.476,
          0.48,
          0.484,
          0.488,
          0.492,
          0.496,
          0.5,
          0.504,
          0.508,
          0.512,
          0.516,
          0.52,
          0.524,
          0.528,
          0.532,
          0.536,
          0.54,
          0.544,
          0.548,
          0.552,
          0.556,
          0.56,
          0.5640000000000001,
          0.5680000000000001,
          0.572,
          0.576,
          0.58,
          0.584,
          0.588,
          0.592,
          0.596,
          0.6,
          0.604,
          0.608,
          0.612,
          0.616,
          0.62,
          0.624,
          0.628,
          0.632,
          0.636,
          0.64,
          0.644,
          0.648,
          0.652,
          0.656,
          0.66,
          0.6639999999999999,
          0.6679999999999999,
          0.6719999999999999,
          0.6759999999999999,
          0.6799999999999999,
          0.6839999999999999,
          0.688,
          0.692,
          0.696,
          0.7,
          0.704,
          0.708,
          0.712,
          0.716,
          0.72,
          0.724,
          0.728,
          0.732,
          0.736,
          0.74,
          0.744,
          0.748,
          0.752,
          0.756,
          0.76,
          0.764,
          0.768,
          0.772,
          0.776,
          0.78,
          0.784,
          0.7879999999999999,
          0.7919999999999999,
          0.7959999999999999,
          0.7999999999999999,
          0.8039999999999999,
          0.8079999999999999,
          0.8119999999999999,
          0.816,
          0.82,
          0.824,
          0.828,
          0.832,
          0.836,
          0.84,
          0.844,
          0.848,
          0.852,
          0.856,
          0.86,
          0.864,
          0.868,
          0.872,
          0.876,
          0.88,
          0.884,
          0.888,
          0.892,
          0.896,
          0.9,
          0.904,
          0.908,
          0.912,
          0.9159999999999999,
          0.9199999999999999,
          0.9239999999999999,
          0.9279999999999999,
          0.9319999999999999,
          0.9359999999999999,
          0.94,
          0.944,
          0.948,
          0.952,
          0.956,
          0.96,
          0.964,
          0.968,
          0.972,
          0.976,
          0.98,
          0.984,
          0.988,
          0.992,
          0.996,
          1,
          1.004,
          1.008,
          1.012,
          1.016,
          1.02,
          1.024,
          1.028,
          1.032,
          1.036,
          1.04,
          1.044,
          1.048,
          1.052,
          1.056,
          1.06,
          1.064,
          1.068,
          1.072,
          1.076,
          1.08,
          1.084,
          1.088,
          1.092,
          1.096,
          1.1,
          1.104,
          1.108,
          1.112,
          1.116,
          1.12,
          1.124,
          1.1280000000000001,
          1.1320000000000001,
          1.1360000000000001,
          1.1400000000000001,
          1.1440000000000001,
          1.1480000000000001,
          1.1520000000000001,
          1.1560000000000001,
          1.1600000000000001,
          1.1640000000000001,
          1.1680000000000001,
          1.1720000000000002,
          1.1760000000000002,
          1.1800000000000002,
          1.1840000000000002,
          1.1880000000000002,
          1.1920000000000002,
          1.1960000000000002,
          1.2000000000000002,
          1.2040000000000002,
          1.2080000000000002,
          1.2120000000000002,
          1.2160000000000002,
          1.2200000000000002,
          1.2240000000000002,
          1.228,
          1.232,
          1.236,
          1.24,
          1.244,
          1.248,
          1.252,
          1.256,
          1.26,
          1.264,
          1.268,
          1.272,
          1.276,
          1.28,
          1.284,
          1.288,
          1.292,
          1.296,
          1.3,
          1.304,
          1.308,
          1.312,
          1.316,
          1.32,
          1.324,
          1.328,
          1.332,
          1.336,
          1.34,
          1.344,
          1.348,
          1.352,
          1.356,
          1.36,
          1.364,
          1.368,
          1.372,
          1.3760000000000001,
          1.3800000000000001,
          1.3840000000000001,
          1.3880000000000001,
          1.3920000000000001,
          1.3960000000000001,
          1.4000000000000001,
          1.4040000000000001,
          1.4080000000000001,
          1.4120000000000001,
          1.4160000000000001,
          1.4200000000000002,
          1.4240000000000002,
          1.4280000000000002,
          1.4320000000000002,
          1.4360000000000002,
          1.4400000000000002,
          1.4440000000000002,
          1.4480000000000002,
          1.4520000000000002,
          1.4560000000000002,
          1.4600000000000002,
          1.4640000000000002,
          1.4680000000000002,
          1.4720000000000002,
          1.476,
          1.48,
          1.484,
          1.488,
          1.492,
          1.496,
          1.5,
          1.504,
          1.508,
          1.512,
          1.516,
          1.52,
          1.524,
          1.528,
          1.532,
          1.536,
          1.54,
          1.544,
          1.548,
          1.552,
          1.556,
          1.56,
          1.564,
          1.568,
          1.572,
          1.576,
          1.58,
          1.584,
          1.588,
          1.592,
          1.596,
          1.6,
          1.604,
          1.608,
          1.612,
          1.616,
          1.62,
          1.624,
          1.6280000000000001,
          1.6320000000000001,
          1.6360000000000001,
          1.6400000000000001,
          1.6440000000000001,
          1.6480000000000001,
          1.6520000000000001,
          1.6560000000000001,
          1.6600000000000001,
          1.6640000000000001,
          1.6680000000000001,
          1.6720000000000002,
          1.6760000000000002,
          1.6800000000000002,
          1.6840000000000002,
          1.6880000000000002,
          1.6920000000000002,
          1.6960000000000002,
          1.7000000000000002,
          1.7040000000000002,
          1.7080000000000002,
          1.7120000000000002,
          1.7160000000000002,
          1.7200000000000002,
          1.7240000000000002,
          1.728,
          1.732,
          1.736,
          1.74,
          1.744,
          1.748,
          1.752,
          1.756,
          1.76,
          1.764,
          1.768,
          1.772,
          1.776,
          1.78,
          1.784,
          1.788,
          1.792,
          1.796,
          1.8,
          1.804,
          1.808,
          1.812,
          1.816,
          1.82,
          1.824,
          1.828,
          1.832,
          1.836,
          1.84,
          1.844,
          1.848,
          1.852,
          1.856,
          1.86,
          1.864,
          1.868,
          1.872,
          1.8760000000000001,
          1.8800000000000001,
          1.8840000000000001,
          1.8880000000000001,
          1.8920000000000001,
          1.8960000000000001,
          1.9000000000000001,
          1.9040000000000001,
          1.9080000000000001,
          1.9120000000000001,
          1.9160000000000001,
          1.9200000000000002,
          1.9240000000000002,
          1.9280000000000002,
          1.9320000000000002,
          1.9360000000000002,
          1.9400000000000002,
          1.9440000000000002,
          1.9480000000000002,
          1.9520000000000002,
          1.9560000000000002,
          1.9600000000000002,
          1.9640000000000002,
          1.9680000000000002,
          1.9720000000000002,
          1.976,
          1.98,
          1.984,
          1.988,
          1.992,
          1.996,
          2,
          2.004,
          2.008,
          2.012,
          2.016,
          2.02,
          2.024,
          2.028,
          2.032,
          2.036,
          2.04,
          2.044,
          2.048,
          2.052,
          2.056,
          2.06,
          2.064,
          2.068,
          2.072,
          2.076,
          2.08,
          2.084,
          2.088,
          2.092,
          2.096
         ],
         "xaxis": "x",
         "y": [
          0.04318192771569552,
          0.044973145699576444,
          0.046832637951463967,
          0.048763361692385834,
          0.050768396711552866,
          0.052850944156466496,
          0.055014324572513165,
          0.057261975153610555,
          0.05959744616851489,
          0.06202439653089472,
          0.06454658848520585,
          0.06716788138480728,
          0.06989222454354821,
          0.07272364914731619,
          0.07566625921765663,
          0.07872422162557909,
          0.08190175516001667,
          0.0852031186620522,
          0.08863259824293845,
          0.09219449361107536,
          0.09589310354040896,
          0.09973271052011663,
          0.10371756463292345,
          0.10785186671682592,
          0.11213975087238899,
          0.11658526638499941,
          0.12119235913848103,
          0.12596485260317258,
          0.13090642848797385,
          0.13602060715174744,
          0.1413107278749394,
          0.14677992909709295,
          0.15243112873021647,
          0.1582670046614402,
          0.1642899755612345,
          0.17050218211541815,
          0.1769054688003557,
          0.1835013663210069,
          0.19029107483085994,
          0.19727544805124017,
          0.20445497840498553,
          0.21182978327607155,
          0.2193995925024155,
          0.22716373720382932,
          0.2351211400409689,
          0.24327030699410684,
          0.25160932074281994,
          0.26013583571907894,
          0.268847074897073,
          0.2777398283731955,
          0.28681045377927594,
          0.2960548785612696,
          0.3054686041443801,
          0.3150467119941032,
          0.32478387157092875,
          0.334674350164648,
          0.3447120245823955,
          0.3548903946527832,
          0.3652025984969776,
          0.37564142950624746,
          0.3861993549546324,
          0.3968685361648271,
          0.4076408501355181,
          0.41850791252896447,
          0.4294611019089546,
          0.440491585111294,
          0.4515903436217644,
          0.4627482008301625,
          0.4739558500234226,
          0.48520388297636435,
          0.49648281899472646,
          0.5077831342625352,
          0.5190952913439285,
          0.5304097686887509,
          0.541717089991247,
          0.5530078532521965,
          0.5642727593967198,
          0.5755026403028214,
          0.586688486099319,
          0.5978214715963509,
          0.6088929817169083,
          0.6198946358038931,
          0.6308183106838682,
          0.6416561623761959,
          0.6524006463441722,
          0.663044536193389,
          0.6735809407316803,
          0.6840033193145092,
          0.6943054954096558,
          0.7044816683253321,
          0.7145264230564694,
          0.7244347382146973,
          0.734201992018579,
          0.7438239663316858,
          0.7532968487473075,
          0.7626172327296795,
          0.7717821158326654,
          0.7807888960277897,
          0.7896353661841928,
          0.7983197067536285,
          0.8068404767236573,
          0.8151966029121249,
          0.823387367685255,
          0.8314123951906083,
          0.8392716362044418,
          0.846965351700804,
          0.8544940952567133,
          0.8618586944142076,
          0.8690602311256964,
          0.876100021414005,
          0.8829795943824242,
          0.8897006707135235,
          0.8962651407976895,
          0.9026750426339069,
          0.9089325396458848,
          0.9150398985562515,
          0.9209994674602734,
          0.9268136542384096,
          0.9324849054438776,
          0.9380156857973462,
          0.9434084584161347,
          0.948665665899287,
          0.9537897123835922,
          0.9587829466779818,
          0.963647646575804,
          0.9683860044354073,
          0.9730001141102026,
          0.9774919592990792,
          0.9818634033774767,
          0.9861161807582788,
          0.9902518898202105,
          0.9942719874294221,
          0.9981777850679824,
          1.0019704465705332,
          1.005650987458105,
          1.0092202758453914,
          1.01267903488578,
          1.0160278467057984,
          1.0192671577689498,
          1.0223972855970673,
          1.0254184267661088,
          1.0283306660825358,
          1.031133986836207,
          1.033828282016279,
          1.0364133663677038,
          1.0388889891582296,
          1.0412548475184875,
          1.0435106002121388,
          1.045655881687782,
          1.047690316260842,
          1.049613532270878,
          1.0514251760586375,
          1.053124925607146,
          1.054712503692548,
          1.0561876903932272,
          1.0575503348101136,
          1.0588003658565701,
          1.059937801983678,
          1.0609627597151652,
          1.0618754608764063,
          1.062676238413202,
          1.063365540709037,
          1.0639439343232717,
          1.0644121050882602,
          1.0647708575194272,
          1.0650211125098092,
          1.065163903298578,
          1.0652003697218535,
          1.0651317507735916,
          1.0649593755236795,
          1.0646846524605418,
          1.0643090573449479,
          1.0638341196814607,
          1.0632614079326976,
          1.0625925136199836,
          1.0618290344710648,
          1.060972556791774,
          1.0600246372530613,
          1.0589867842978162,
          1.057860439383024,
          1.0566469582818134,
          1.055347592676702,
          1.0539634722797229,
          1.052495587716797,
          1.0509447744128801,
          1.0493116977104702,
          1.047596839447751,
          1.0458004862128345,
          1.0439227194784901,
          1.04196340780639,
          1.0399222012920217,
          1.0377985284008422,
          1.0355915953232278,
          1.0333003879505076,
          1.030923676546896,
          1.028460023163362,
          1.0259077918084925,
          1.0232651613601944,
          1.0205301411692855,
          1.0177005892735012,
          1.0147742331074237,
          1.0117486925616823,
          1.0086215052132153,
          1.0053901535181242,
          1.0020520937302315,
          0.9986047862820683,
          0.9950457273409714,
          0.9913724812321671,
          0.987582713402746,
          0.9836742235862406,
          0.9796449788169729,
          0.975493145936974,
          0.9712171232358305,
          0.9668155708660667,
          0.9622874396829924,
          0.9576319981688055,
          0.9528488571159429,
          0.9479379917641714,
          0.9428997611093909,
          0.9377349241294669,
          0.9324446527035345,
          0.927030541035146,
          0.9214946114269696,
          0.9158393162939867,
          0.9100675363436795,
          0.9041825748944534,
          0.8981881483473998,
          0.8920883728705515,
          0.8858877473986556,
          0.8795911330946763,
          0.8732037294609665,
          0.8667310473278286,
          0.8601788789847123,
          0.8535532657536126,
          0.8468604633353493,
          0.840106905286427,
          0.833299165007235,
          0.8264439166404898,
          0.8195478952924075,
          0.8126178569974869,
          0.8056605388509809,
          0.7986826197311157,
          0.7916906820258554,
          0.7846911747665866,
          0.7776903785534356,
          0.7706943726349443,
          0.7637090044776496,
          0.7567398621303959,
          0.7497922496532363,
          0.742871165842774,
          0.7359812864447649,
          0.7291269500016918,
          0.722312147438032,
          0.7155405154398683,
          0.7088153336390537,
          0.7021395255656054,
          0.6955156632862665,
          0.6889459756028801,
          0.6824323596415545,
          0.6759763956236838,
          0.6695793645726168,
          0.6632422686762394,
          0.6569658539958084,
          0.6507506351857708,
          0.6445969218682759,
          0.6385048462896543,
          0.6324743918748241,
          0.6265054222892215,
          0.6205977106165207,
          0.614750968264258,
          0.6089648732181149,
          0.603239097279154,
          0.5975733319362809,
          0.5919673125485253,
          0.5864208405378732,
          0.5809338033231352,
          0.5755061917580813,
          0.570138114872464,
          0.5648298117520714,
          0.5595816604330632,
          0.5543941837259373,
          0.5492680519252231,
          0.5442040824015961,
          0.5392032361132875,
          0.5342666111126765,
          0.5293954331615335,
          0.5245910436038362,
          0.5198548846783503,
          0.5151884824832967,
          0.5105934278327982,
          0.5060713552684589,
          0.5016239205095915,
          0.497252776641923,
          0.4929595493568428,
          0.48874581156168356,
          0.484613057685584,
          0.48056267800586994,
          0.4765959333160366,
          0.47271393024899433,
          0.46891759755800766,
          0.4652076636433324,
          0.461584635594814,
          0.4580487800001998,
          0.4546001057458887,
          0.4512383490116555,
          0.44796296063369473,
          0.4447730959819878,
          0.441667607468228,
          0.438645039770369,
          0.43570362782911637,
          0.4328412976411631,
          0.430055669843639,
          0.42734406605489733,
          0.4247035179081094,
          0.42213077868712257,
          0.41962233744842464,
          0.4171744354892798,
          0.4147830850004724,
          0.41244408972244206,
          0.41015306740657337,
          0.40790547386848564,
          0.405696628408111,
          0.4035217403616146,
          0.40137593654317055,
          0.39925428933010304,
          0.3971518451429598,
          0.3950636530725559,
          0.3929847934088726,
          0.3909104058318601,
          0.3888357170314317,
          0.3867560675331352,
          0.38466693751716735,
          0.382563971430995,
          0.3804430012102013,
          0.3783000679376031,
          0.3761314417874011,
          0.37393364011861907,
          0.37170344360051216,
          0.3694379102713948,
          0.3671343874516434,
          0.36479052145109747,
          0.362404265030503,
          0.3599738825960485,
          0.35749795312506416,
          0.35497537083959846,
          0.3524053436626262,
          0.3497873895089869,
          0.3471213304797294,
          0.3444072850440882,
          0.3416456583079648,
          0.3388371304812392,
          0.33598264366858316,
          0.3330833871194405,
          0.3301407810826625,
          0.327156459419665,
          0.3241322511369655,
          0.32107016100465263,
          0.31797234943144537,
          0.3148411117698254,
          0.3116788572260252,
          0.30848808754961043,
          0.30527137567587975,
          0.3020313444915504,
          0.2987706458899953,
          0.29549194027692677,
          0.29219787668080993,
          0.2888910736144993,
          0.28557410082583673,
          0.2822494620650664,
          0.27891957898629904,
          0.27558677628871736,
          0.27225326819104484,
          0.2689211463200349,
          0.2655923690804623,
          0.26226875256051985,
          0.2589519630126461,
          0.2556435109358673,
          0.2523447467717338,
          0.24905685821211085,
          0.24578086910344155,
          0.24251763991884998,
          0.2392678697566731,
          0.23603209981174197,
          0.23281071825423474,
          0.22960396644008904,
          0.22641194636707268,
          0.22323462928157,
          0.2200718653331543,
          0.21692339416705883,
          0.21378885633878736,
          0.21066780543039926,
          0.20755972074441675,
          0.20446402044890974,
          0.20138007504607444,
          0.19830722103652765,
          0.1952447746526055,
          0.19219204553607694,
          0.18914835023888982,
          0.18611302542974986,
          0.18308544069447524,
          0.18006501082402737,
          0.17705120749093817,
          0.17404357022228734,
          0.17104171658552308,
          0.16804535151199124,
          0.16505427569211972,
          0.16206839298556946,
          0.15908771679927564,
          0.15611237539607117,
          0.1531426161063873,
          0.15017880842529804,
          0.14722144598681464,
          0.14427114741676486,
          0.14132865607474385,
          0.13839483870441016,
          0.13547068301976492,
          0.13255729426295734,
          0.129655890776494,
          0.12676779863955084,
          0.12389444542423249,
          0.12103735313319684,
          0.11819813038491653,
          0.11537846391708166,
          0.11258010948215315,
          0.1098048822119446,
          0.10705464653024306,
          0.10433130569400856,
          0.10163679104450045,
          0.09897305104991899,
          0.09634204022071836,
          0.09374570797778435,
          0.09118598755212051,
          0.0886647849926423,
          0.08618396835612657,
          0.08374535715039712,
          0.08135071209842197,
          0.07900172528725098,
          0.07670001076162816,
          0.0744470956177443,
          0.07224441164797331,
          0.07009328758260634,
          0.06799494196960622,
          0.06595047672826501,
          0.06396087140745127,
          0.06202697817382917,
          0.06014951755017187,
          0.058329074918577306,
          0.056566097798187276,
          0.05486089390183834,
          0.05321362997103017,
          0.05162433138369007,
          0.0500928825244507,
          0.048619027902607116,
          0.04720237399856279,
          0.04584239181545063,
          0.044538420108758525,
          0.04328966926317053,
          0.04209522578253926,
          0.040954057355872875,
          0.03986501845951941,
          0.03882685645333878,
          0.037838218126588885,
          0.03689765664752345,
          0.03600363886929026,
          0.035154552943666886,
          0.03434871619342332,
          0.033584383193711036,
          0.0328597540127855,
          0.032172982562610336,
          0.03152218501042951,
          0.030905448203221966,
          0.030320838058075363,
          0.029766407872881966,
          0.029240206513394932,
          0.028740286434536008,
          0.028264711495914526,
          0.027811564533777033,
          0.027378954654041054,
          0.026965024213643572,
          0.026567955460146734,
          0.02618597680235947,
          0.025817368687632184,
          0.025460469064447905,
          0.02511367841193778,
          0.024775464320975858,
          0.024444365614538093,
          0.02411899599801772,
          0.023798047233167075,
          0.023480291832252448,
          0.023164585271860983,
          0.022849867728563705,
          0.022535165341303294,
          0.02221959100793108,
          0.021902344725748025,
          0.02158271348820232,
          0.02126007075205001,
          0.020933875491292504,
          0.02060367085604991,
          0.0202690824562156,
          0.01992981629125812
         ],
         "yaxis": "y"
        },
        {
         "legendgroup": "My theoretical sample",
         "marker": {
          "color": "rgb(31, 119, 180)",
          "symbol": "line-ns-open"
         },
         "mode": "markers",
         "name": "My theoretical sample",
         "showlegend": false,
         "type": "scatter",
         "x": [
          1.1066225103637195,
          0.9722454668455022,
          0.9772641262551858,
          1.4711181237072632,
          1.483448868041174,
          0.6916767109932962,
          0.7412212200727465,
          0.860166818575792,
          1.2059902046196713,
          1.536355642718692,
          1.425242435336631,
          0.8817577849125996,
          0.6673620639122065,
          1.3669151438515614,
          1.0554427495232572,
          0.7753807469153989,
          1.250214904425234,
          0.8934446319758524,
          0.9069469106904434,
          1.1057884226032797,
          0.35641250266933144,
          0.8068939829528667,
          1.1191482968704707,
          1.1580235071686968,
          1.627763103345894,
          0.9967664870898058,
          1.2870092112857834,
          0.8153358745138598,
          0.49675397799552035,
          1.0007303817506374,
          1.266459801512994,
          0.6673468840431664,
          1.0704705161340362,
          0.5990162096037863,
          0.8849219268468265,
          1.2940512195361613,
          0.45352784796909906,
          0.855665935849025,
          1.293509714230352,
          1.1131544559523756,
          1.304543317544688,
          0.5579651668900956,
          1.1045961243465567,
          1.0148683001383856,
          0.7812666177469175,
          0.6132643934324372,
          0.2929490363993078,
          1.2168139665880608,
          1.4431350794975901,
          1.3023697770361922,
          1.334986382013095,
          0.8053710521906396,
          1.431260833247529,
          1.1155264218637144,
          0.9643865881857544,
          1.3633799860406417,
          0.9660704019904852,
          0.7166765914383828,
          0.8203279526032297,
          1.0663866031015177,
          1.5222664722813444,
          0.5573033577072356,
          0.8374466552513731,
          0.8731678673514021,
          0.6963026746375747,
          1.2330338041885802,
          0.9436696499815459,
          0.2301000242991873,
          0.7303074637918932,
          0.9485635902645472,
          1.4170030605846247,
          1.4251009704341397,
          0.2314084207980711,
          1.2069453075462588,
          1.1676404982153477,
          1.4023220377531245,
          1.2246231312401894,
          0.20111475992960182,
          0.37761997553392324,
          1.1002491241367567,
          1.4077262507392985,
          1.0056338876210256,
          0.7446699009578983,
          1.4559543310830236,
          1.0064861161752081,
          0.41523282226550007,
          0.998233469401592,
          1.2032460664859104,
          0.30837826739551044,
          0.6106856808157116,
          1.4620689405572653,
          1.062934128799256,
          1.1351664665609726,
          0.5812554816899287,
          0.6540858125145207,
          1.365972688090525,
          1.0350231755672914,
          1.2433992224844448,
          1.2130626698399254,
          1.3529927961623134,
          0.9328583566030408,
          1.5265786380337758,
          1.2228427104229793,
          0.9676420498410393,
          0.636896955706667,
          0.5348743875719969,
          1.3096586530690795,
          0.9518557390357583,
          1.105987173942193,
          0.33922664699468585,
          0.4137870027516377,
          1.4543705218715597,
          1.3188497191327384,
          1.0831963844626453,
          0.5160327581213813,
          0.5974523446598646,
          1.3889100436245365,
          0.8423863650575859,
          0.732874002504805,
          0.9827358143606304,
          0.7217278878164137,
          1.5294458972867022,
          0.9680925607044955,
          1.2029576614444506,
          0.663170984685969,
          1.1417335700067404,
          1.1330843524024412,
          0.6878739040754007,
          1.5999603396159894,
          1.2394501804151197,
          0.9242342456878949,
          -0.04079361909244206,
          0.983594431697444,
          0.985139875492642,
          1.4083746586309471,
          1.0705717000593407,
          1.5256167785881245,
          0.8985259900236567,
          0.45059177434297804,
          1.6228426616174563,
          1.0834593229160772,
          1.4920403408005118,
          1.1370509177176138,
          1.1043862947941019,
          1.1003790712924062,
          0.7946987834995312,
          1.3384070666841121,
          0.9526482878791189,
          0.8332278436183562,
          0.9747787972021512,
          0.6709619877366055,
          0.9218313301308071,
          0.9727589478037174,
          1.170471916569093,
          1.5059624939302898,
          0.49695980735684087,
          0.6610144873194269,
          0.7011565615963999,
          0.07478204297654101,
          0.941114028844963,
          1.0241230486255313,
          0.6015651682754897,
          0.8881927090197247,
          1.068398932300699,
          1.7927991171102309,
          1.1977722266318522,
          0.46873015705616594,
          0.8016403505656244,
          1.4815229031347565,
          1.8950580803273347,
          1.0358846743457464,
          0.9532916096074714,
          1.104413234310812,
          0.5585635691549498,
          0.762163030851769,
          0.42095954131575186,
          0.7652988153127855,
          0.5318709033388003,
          1.595690287629019,
          1.1327347167388877,
          1.2948934128425684,
          1.0816127489134952,
          1.7710964603879833,
          1.1994126915058474,
          1.3176068250347077,
          0.8405307594528545,
          0.5916383915751757,
          0.6858116646487381,
          1.2234955643624488,
          0.5567114336966055,
          1.4353761762754984,
          0.8918790375522453,
          1.2168441831216381,
          0.6991874125144794,
          1.0172021904965889,
          0.8260422567817839,
          0.7381093655090856,
          0.6406299425247224,
          1.4490473687555196,
          1.0319890001306449,
          0.965460870313225,
          0.9116306657322548,
          1.295019592636103,
          1.2407966356860967,
          0.9106823004560773,
          0.4341978107407206,
          1.2512717311920083,
          1.3198057553917373,
          1.3850748777629167,
          0.6164614335860222,
          1.256811629916303,
          1.640890440735933,
          1.2840796536345418,
          1.1888191092933162,
          1.4594518833327383,
          0.6282924506683742,
          1.5120412543436375,
          1.1623300258687053,
          1.1930353437969052,
          0.9222090541365224,
          1.0929982387920367,
          0.8172226775739069,
          0.9900869897649637,
          0.9558758297814629,
          1.199483718578505,
          1.7076344448052927,
          1.1828158630609822,
          1.494883322743625,
          1.087136996566688,
          0.6612512919424807,
          1.4834600083060314,
          1.7274734812935266,
          0.656383924717826,
          1.4118251307350524,
          1.0107568281334687,
          0.8583340511873782,
          0.8115088375834829,
          1.149321089871845,
          0.7503699233372256,
          0.9305208468697236,
          0.20905066462205946,
          0.6684317621257845,
          1.1501729126107052,
          0.9757063831028618,
          1.4945866475378975,
          1.1957104371622223,
          0.8549817809364022,
          0.7734399304148389,
          0.5454306449743045,
          1.0047424007059127,
          1.1502720030956115,
          1.4573226325537174,
          0.7420957673772488,
          1.4127054853880234,
          1.0106005180794806,
          1.3257642249933292,
          0.33578066377090043,
          1.0257672814686534,
          0.8880020383842507,
          0.8201262327436948,
          1.3381745963916285,
          0.5114860091699454,
          1.2313197774090554,
          0.8171991142690668,
          0.8696341817425168,
          0.9145798598686437,
          1.3809556958751228,
          1.2664781546050412,
          0.8900129482380612,
          1.2964237595001633,
          1.5497017453641297,
          0.5929024773803786,
          1.2361354750387417,
          0.9001576154527858,
          1.4192799847956756,
          0.6768157106936429,
          0.1060687549028081,
          1.3614033432934023,
          0.7607290941578609,
          1.0502442103302299,
          1.385830193506051,
          1.5126951073352595,
          1.1708732884965312,
          0.6137246714121846,
          1.3646477834380084,
          1.5214670946413869,
          0.8406681269913812,
          1.209687955863628,
          1.129091039133992,
          0.48405124039097414,
          1.3565966874879059,
          1.1626481484818594,
          0.44415939612836,
          1.3025606042393663,
          0.6690709069452399,
          1.3523411376253107,
          1.0512309233335515,
          1.5007109211894183,
          0.7587046227929646,
          0.9138146350924999,
          0.8313862795560116,
          1.849872436715637,
          0.731093394399264,
          1.0004592351439345,
          1.0571557992285996,
          0.7915106358547453,
          1.2325679005427994,
          1.1144433339273265,
          0.9721900149160924,
          0.887329534434942,
          1.5118870859301556,
          0.3089960293432902,
          0.956005419789227,
          1.7645238373953682,
          0.4371379964574329,
          0.772833211753403,
          1.0304395134663389,
          1.0847540613650521,
          1.3647221661638573
         ],
         "xaxis": "x",
         "y": [
          "My theoretical sample",
          "My theoretical sample",
          "My theoretical sample",
          "My theoretical sample",
          "My theoretical sample",
          "My theoretical sample",
          "My theoretical sample",
          "My theoretical sample",
          "My theoretical sample",
          "My theoretical sample",
          "My theoretical sample",
          "My theoretical sample",
          "My theoretical sample",
          "My theoretical sample",
          "My theoretical sample",
          "My theoretical sample",
          "My theoretical sample",
          "My theoretical sample",
          "My theoretical sample",
          "My theoretical sample",
          "My theoretical sample",
          "My theoretical sample",
          "My theoretical sample",
          "My theoretical sample",
          "My theoretical sample",
          "My theoretical sample",
          "My theoretical sample",
          "My theoretical sample",
          "My theoretical sample",
          "My theoretical sample",
          "My theoretical sample",
          "My theoretical sample",
          "My theoretical sample",
          "My theoretical sample",
          "My theoretical sample",
          "My theoretical sample",
          "My theoretical sample",
          "My theoretical sample",
          "My theoretical sample",
          "My theoretical sample",
          "My theoretical sample",
          "My theoretical sample",
          "My theoretical sample",
          "My theoretical sample",
          "My theoretical sample",
          "My theoretical sample",
          "My theoretical sample",
          "My theoretical sample",
          "My theoretical sample",
          "My theoretical sample",
          "My theoretical sample",
          "My theoretical sample",
          "My theoretical sample",
          "My theoretical sample",
          "My theoretical sample",
          "My theoretical sample",
          "My theoretical sample",
          "My theoretical sample",
          "My theoretical sample",
          "My theoretical sample",
          "My theoretical sample",
          "My theoretical sample",
          "My theoretical sample",
          "My theoretical sample",
          "My theoretical sample",
          "My theoretical sample",
          "My theoretical sample",
          "My theoretical sample",
          "My theoretical sample",
          "My theoretical sample",
          "My theoretical sample",
          "My theoretical sample",
          "My theoretical sample",
          "My theoretical sample",
          "My theoretical sample",
          "My theoretical sample",
          "My theoretical sample",
          "My theoretical sample",
          "My theoretical sample",
          "My theoretical sample",
          "My theoretical sample",
          "My theoretical sample",
          "My theoretical sample",
          "My theoretical sample",
          "My theoretical sample",
          "My theoretical sample",
          "My theoretical sample",
          "My theoretical sample",
          "My theoretical sample",
          "My theoretical sample",
          "My theoretical sample",
          "My theoretical sample",
          "My theoretical sample",
          "My theoretical sample",
          "My theoretical sample",
          "My theoretical sample",
          "My theoretical sample",
          "My theoretical sample",
          "My theoretical sample",
          "My theoretical sample",
          "My theoretical sample",
          "My theoretical sample",
          "My theoretical sample",
          "My theoretical sample",
          "My theoretical sample",
          "My theoretical sample",
          "My theoretical sample",
          "My theoretical sample",
          "My theoretical sample",
          "My theoretical sample",
          "My theoretical sample",
          "My theoretical sample",
          "My theoretical sample",
          "My theoretical sample",
          "My theoretical sample",
          "My theoretical sample",
          "My theoretical sample",
          "My theoretical sample",
          "My theoretical sample",
          "My theoretical sample",
          "My theoretical sample",
          "My theoretical sample",
          "My theoretical sample",
          "My theoretical sample",
          "My theoretical sample",
          "My theoretical sample",
          "My theoretical sample",
          "My theoretical sample",
          "My theoretical sample",
          "My theoretical sample",
          "My theoretical sample",
          "My theoretical sample",
          "My theoretical sample",
          "My theoretical sample",
          "My theoretical sample",
          "My theoretical sample",
          "My theoretical sample",
          "My theoretical sample",
          "My theoretical sample",
          "My theoretical sample",
          "My theoretical sample",
          "My theoretical sample",
          "My theoretical sample",
          "My theoretical sample",
          "My theoretical sample",
          "My theoretical sample",
          "My theoretical sample",
          "My theoretical sample",
          "My theoretical sample",
          "My theoretical sample",
          "My theoretical sample",
          "My theoretical sample",
          "My theoretical sample",
          "My theoretical sample",
          "My theoretical sample",
          "My theoretical sample",
          "My theoretical sample",
          "My theoretical sample",
          "My theoretical sample",
          "My theoretical sample",
          "My theoretical sample",
          "My theoretical sample",
          "My theoretical sample",
          "My theoretical sample",
          "My theoretical sample",
          "My theoretical sample",
          "My theoretical sample",
          "My theoretical sample",
          "My theoretical sample",
          "My theoretical sample",
          "My theoretical sample",
          "My theoretical sample",
          "My theoretical sample",
          "My theoretical sample",
          "My theoretical sample",
          "My theoretical sample",
          "My theoretical sample",
          "My theoretical sample",
          "My theoretical sample",
          "My theoretical sample",
          "My theoretical sample",
          "My theoretical sample",
          "My theoretical sample",
          "My theoretical sample",
          "My theoretical sample",
          "My theoretical sample",
          "My theoretical sample",
          "My theoretical sample",
          "My theoretical sample",
          "My theoretical sample",
          "My theoretical sample",
          "My theoretical sample",
          "My theoretical sample",
          "My theoretical sample",
          "My theoretical sample",
          "My theoretical sample",
          "My theoretical sample",
          "My theoretical sample",
          "My theoretical sample",
          "My theoretical sample",
          "My theoretical sample",
          "My theoretical sample",
          "My theoretical sample",
          "My theoretical sample",
          "My theoretical sample",
          "My theoretical sample",
          "My theoretical sample",
          "My theoretical sample",
          "My theoretical sample",
          "My theoretical sample",
          "My theoretical sample",
          "My theoretical sample",
          "My theoretical sample",
          "My theoretical sample",
          "My theoretical sample",
          "My theoretical sample",
          "My theoretical sample",
          "My theoretical sample",
          "My theoretical sample",
          "My theoretical sample",
          "My theoretical sample",
          "My theoretical sample",
          "My theoretical sample",
          "My theoretical sample",
          "My theoretical sample",
          "My theoretical sample",
          "My theoretical sample",
          "My theoretical sample",
          "My theoretical sample",
          "My theoretical sample",
          "My theoretical sample",
          "My theoretical sample",
          "My theoretical sample",
          "My theoretical sample",
          "My theoretical sample",
          "My theoretical sample",
          "My theoretical sample",
          "My theoretical sample",
          "My theoretical sample",
          "My theoretical sample",
          "My theoretical sample",
          "My theoretical sample",
          "My theoretical sample",
          "My theoretical sample",
          "My theoretical sample",
          "My theoretical sample",
          "My theoretical sample",
          "My theoretical sample",
          "My theoretical sample",
          "My theoretical sample",
          "My theoretical sample",
          "My theoretical sample",
          "My theoretical sample",
          "My theoretical sample",
          "My theoretical sample",
          "My theoretical sample",
          "My theoretical sample",
          "My theoretical sample",
          "My theoretical sample",
          "My theoretical sample",
          "My theoretical sample",
          "My theoretical sample",
          "My theoretical sample",
          "My theoretical sample",
          "My theoretical sample",
          "My theoretical sample",
          "My theoretical sample",
          "My theoretical sample",
          "My theoretical sample",
          "My theoretical sample",
          "My theoretical sample",
          "My theoretical sample",
          "My theoretical sample",
          "My theoretical sample",
          "My theoretical sample",
          "My theoretical sample",
          "My theoretical sample",
          "My theoretical sample",
          "My theoretical sample",
          "My theoretical sample",
          "My theoretical sample",
          "My theoretical sample",
          "My theoretical sample",
          "My theoretical sample",
          "My theoretical sample",
          "My theoretical sample",
          "My theoretical sample",
          "My theoretical sample",
          "My theoretical sample",
          "My theoretical sample",
          "My theoretical sample",
          "My theoretical sample",
          "My theoretical sample",
          "My theoretical sample",
          "My theoretical sample",
          "My theoretical sample",
          "My theoretical sample",
          "My theoretical sample",
          "My theoretical sample",
          "My theoretical sample",
          "My theoretical sample",
          "My theoretical sample",
          "My theoretical sample",
          "My theoretical sample",
          "My theoretical sample",
          "My theoretical sample",
          "My theoretical sample",
          "My theoretical sample",
          "My theoretical sample",
          "My theoretical sample",
          "My theoretical sample",
          "My theoretical sample",
          "My theoretical sample",
          "My theoretical sample",
          "My theoretical sample",
          "My theoretical sample",
          "My theoretical sample",
          "My theoretical sample",
          "My theoretical sample"
         ],
         "yaxis": "y2"
        },
        {
         "legendgroup": "My actually observed sample",
         "marker": {
          "color": "rgb(255, 127, 14)",
          "symbol": "line-ns-open"
         },
         "mode": "markers",
         "name": "My actually observed sample",
         "showlegend": false,
         "type": "scatter",
         "x": [
          0.8,
          0.7,
          0.3,
          1.6,
          1.4,
          1.7,
          1.2,
          0.8,
          1.1,
          1.7,
          1.5,
          1.3,
          1,
          0.8,
          1,
          0.5,
          0.8,
          0.6,
          0.7,
          0.5,
          1.2,
          0.5,
          0.8,
          1.4,
          0.7,
          1.2,
          1.1,
          1,
          0.9,
          0.6,
          0.9,
          1.8,
          0.4,
          0.5,
          0.4,
          0.9,
          0.6,
          0.8,
          0.5,
          0.4,
          0.2,
          1.1,
          1,
          0.7,
          0.8,
          0.4,
          1.5,
          1,
          1.4,
          1.3,
          0.9,
          1.5,
          0.9,
          0.9,
          0.1,
          1.2,
          0.6,
          0.8,
          0.6,
          1.2,
          1.2,
          0.8,
          0.8,
          0.8,
          1.6,
          0.8,
          1.6,
          1,
          1,
          0.8,
          0.8,
          0.5,
          0.7,
          0.7,
          0.7,
          0.7,
          1,
          0.9,
          1.1,
          0.6,
          0.8,
          1.4,
          1.7,
          1.5,
          0.9,
          0.3,
          0.8,
          1,
          0.9,
          1.2,
          1.2,
          0.9,
          1.8,
          0.9,
          0.4,
          0.9,
          0.6,
          0.5,
          0.5,
          1,
          0.8,
          1.5,
          1.4,
          0.4,
          2.1,
          0.6,
          0.2,
          0.5,
          1.1,
          1.8,
          0.6,
          0.6,
          0.8,
          0.9,
          1.1,
          1.2,
          0.6,
          0.7,
          1,
          1,
          0.6,
          0.9,
          1.2,
          0.6,
          1.4,
          0.5,
          1,
          0.6,
          0.9,
          1.4,
          1.1,
          1,
          2,
          1,
          1.5,
          0.6,
          1,
          1.2,
          1,
          0.7,
          0.7,
          0.8,
          0.6,
          0.7,
          1,
          0.4,
          0.9,
          1.5,
          1,
          0.7,
          0.7,
          0.9,
          0.7,
          1.1,
          0.4,
          0.4,
          1.2,
          0.6,
          0.6,
          0.5,
          0.7,
          0.7,
          1.2,
          1.5,
          1,
          1,
          1.4,
          1.1,
          0.4,
          0.8,
          1.3,
          1,
          1,
          0.6,
          1.2,
          0.8,
          1,
          0.7,
          0.9,
          0.7,
          0.9,
          1.2,
          1.3,
          0.7,
          0.6,
          1.1,
          0.6,
          1,
          0.8,
          0.8,
          1.4,
          0.5,
          1.6,
          0.5,
          0.4,
          1.2,
          0.6,
          0.5,
          0.5,
          0.6,
          0.8,
          0.9,
          1.4,
          0.7,
          0.8,
          0.9,
          0.5,
          0.7,
          0.4,
          0.9,
          1.2,
          1.3,
          0.9,
          0.3,
          0.4,
          1.7,
          1,
          0.7,
          0.4,
          0.4,
          0.9,
          0.6,
          1.3,
          1,
          1.6,
          0.5,
          0.6,
          0.6,
          0.7,
          0.7,
          1.5,
          1.1,
          0.5,
          0.4,
          1.4,
          0.8,
          0.7,
          0.5,
          0.5,
          0.7,
          1.1,
          0.9,
          0.8,
          0.5,
          0.8,
          1.2,
          1.2,
          0.8,
          1,
          0.8,
          1.6,
          1.4,
          0.5,
          1,
          0.8,
          1.2,
          1.2,
          0.8,
          0.6,
          0.6,
          1.3,
          0.7,
          0.5,
          0.4,
          1.5,
          1.2,
          0.8,
          0.5,
          1.1,
          0.5,
          1.5,
          0.6,
          1,
          0.9,
          0.5,
          1,
          1,
          0.3,
          0.6,
          0.8,
          1.5,
          1,
          0.8,
          1,
          0.6,
          0.5,
          1.2,
          0.7,
          1.1,
          0.7,
          1.2,
          1.3,
          1.5,
          1.7,
          0.5,
          0.7,
          0.7,
          0.4,
          1,
          1,
          1.7,
          1.3,
          1.4,
          0.4,
          0.8,
          0.5,
          0.8,
          1.4,
          1.7,
          0.9,
          0.7,
          0.9,
          1,
          0.5,
          1.1,
          0.7,
          0.7,
          0.9,
          1
         ],
         "xaxis": "x",
         "y": [
          "My actually observed sample",
          "My actually observed sample",
          "My actually observed sample",
          "My actually observed sample",
          "My actually observed sample",
          "My actually observed sample",
          "My actually observed sample",
          "My actually observed sample",
          "My actually observed sample",
          "My actually observed sample",
          "My actually observed sample",
          "My actually observed sample",
          "My actually observed sample",
          "My actually observed sample",
          "My actually observed sample",
          "My actually observed sample",
          "My actually observed sample",
          "My actually observed sample",
          "My actually observed sample",
          "My actually observed sample",
          "My actually observed sample",
          "My actually observed sample",
          "My actually observed sample",
          "My actually observed sample",
          "My actually observed sample",
          "My actually observed sample",
          "My actually observed sample",
          "My actually observed sample",
          "My actually observed sample",
          "My actually observed sample",
          "My actually observed sample",
          "My actually observed sample",
          "My actually observed sample",
          "My actually observed sample",
          "My actually observed sample",
          "My actually observed sample",
          "My actually observed sample",
          "My actually observed sample",
          "My actually observed sample",
          "My actually observed sample",
          "My actually observed sample",
          "My actually observed sample",
          "My actually observed sample",
          "My actually observed sample",
          "My actually observed sample",
          "My actually observed sample",
          "My actually observed sample",
          "My actually observed sample",
          "My actually observed sample",
          "My actually observed sample",
          "My actually observed sample",
          "My actually observed sample",
          "My actually observed sample",
          "My actually observed sample",
          "My actually observed sample",
          "My actually observed sample",
          "My actually observed sample",
          "My actually observed sample",
          "My actually observed sample",
          "My actually observed sample",
          "My actually observed sample",
          "My actually observed sample",
          "My actually observed sample",
          "My actually observed sample",
          "My actually observed sample",
          "My actually observed sample",
          "My actually observed sample",
          "My actually observed sample",
          "My actually observed sample",
          "My actually observed sample",
          "My actually observed sample",
          "My actually observed sample",
          "My actually observed sample",
          "My actually observed sample",
          "My actually observed sample",
          "My actually observed sample",
          "My actually observed sample",
          "My actually observed sample",
          "My actually observed sample",
          "My actually observed sample",
          "My actually observed sample",
          "My actually observed sample",
          "My actually observed sample",
          "My actually observed sample",
          "My actually observed sample",
          "My actually observed sample",
          "My actually observed sample",
          "My actually observed sample",
          "My actually observed sample",
          "My actually observed sample",
          "My actually observed sample",
          "My actually observed sample",
          "My actually observed sample",
          "My actually observed sample",
          "My actually observed sample",
          "My actually observed sample",
          "My actually observed sample",
          "My actually observed sample",
          "My actually observed sample",
          "My actually observed sample",
          "My actually observed sample",
          "My actually observed sample",
          "My actually observed sample",
          "My actually observed sample",
          "My actually observed sample",
          "My actually observed sample",
          "My actually observed sample",
          "My actually observed sample",
          "My actually observed sample",
          "My actually observed sample",
          "My actually observed sample",
          "My actually observed sample",
          "My actually observed sample",
          "My actually observed sample",
          "My actually observed sample",
          "My actually observed sample",
          "My actually observed sample",
          "My actually observed sample",
          "My actually observed sample",
          "My actually observed sample",
          "My actually observed sample",
          "My actually observed sample",
          "My actually observed sample",
          "My actually observed sample",
          "My actually observed sample",
          "My actually observed sample",
          "My actually observed sample",
          "My actually observed sample",
          "My actually observed sample",
          "My actually observed sample",
          "My actually observed sample",
          "My actually observed sample",
          "My actually observed sample",
          "My actually observed sample",
          "My actually observed sample",
          "My actually observed sample",
          "My actually observed sample",
          "My actually observed sample",
          "My actually observed sample",
          "My actually observed sample",
          "My actually observed sample",
          "My actually observed sample",
          "My actually observed sample",
          "My actually observed sample",
          "My actually observed sample",
          "My actually observed sample",
          "My actually observed sample",
          "My actually observed sample",
          "My actually observed sample",
          "My actually observed sample",
          "My actually observed sample",
          "My actually observed sample",
          "My actually observed sample",
          "My actually observed sample",
          "My actually observed sample",
          "My actually observed sample",
          "My actually observed sample",
          "My actually observed sample",
          "My actually observed sample",
          "My actually observed sample",
          "My actually observed sample",
          "My actually observed sample",
          "My actually observed sample",
          "My actually observed sample",
          "My actually observed sample",
          "My actually observed sample",
          "My actually observed sample",
          "My actually observed sample",
          "My actually observed sample",
          "My actually observed sample",
          "My actually observed sample",
          "My actually observed sample",
          "My actually observed sample",
          "My actually observed sample",
          "My actually observed sample",
          "My actually observed sample",
          "My actually observed sample",
          "My actually observed sample",
          "My actually observed sample",
          "My actually observed sample",
          "My actually observed sample",
          "My actually observed sample",
          "My actually observed sample",
          "My actually observed sample",
          "My actually observed sample",
          "My actually observed sample",
          "My actually observed sample",
          "My actually observed sample",
          "My actually observed sample",
          "My actually observed sample",
          "My actually observed sample",
          "My actually observed sample",
          "My actually observed sample",
          "My actually observed sample",
          "My actually observed sample",
          "My actually observed sample",
          "My actually observed sample",
          "My actually observed sample",
          "My actually observed sample",
          "My actually observed sample",
          "My actually observed sample",
          "My actually observed sample",
          "My actually observed sample",
          "My actually observed sample",
          "My actually observed sample",
          "My actually observed sample",
          "My actually observed sample",
          "My actually observed sample",
          "My actually observed sample",
          "My actually observed sample",
          "My actually observed sample",
          "My actually observed sample",
          "My actually observed sample",
          "My actually observed sample",
          "My actually observed sample",
          "My actually observed sample",
          "My actually observed sample",
          "My actually observed sample",
          "My actually observed sample",
          "My actually observed sample",
          "My actually observed sample",
          "My actually observed sample",
          "My actually observed sample",
          "My actually observed sample",
          "My actually observed sample",
          "My actually observed sample",
          "My actually observed sample",
          "My actually observed sample",
          "My actually observed sample",
          "My actually observed sample",
          "My actually observed sample",
          "My actually observed sample",
          "My actually observed sample",
          "My actually observed sample",
          "My actually observed sample",
          "My actually observed sample",
          "My actually observed sample",
          "My actually observed sample",
          "My actually observed sample",
          "My actually observed sample",
          "My actually observed sample",
          "My actually observed sample",
          "My actually observed sample",
          "My actually observed sample",
          "My actually observed sample",
          "My actually observed sample",
          "My actually observed sample",
          "My actually observed sample",
          "My actually observed sample",
          "My actually observed sample",
          "My actually observed sample",
          "My actually observed sample",
          "My actually observed sample",
          "My actually observed sample",
          "My actually observed sample",
          "My actually observed sample",
          "My actually observed sample",
          "My actually observed sample",
          "My actually observed sample",
          "My actually observed sample",
          "My actually observed sample",
          "My actually observed sample",
          "My actually observed sample",
          "My actually observed sample",
          "My actually observed sample",
          "My actually observed sample",
          "My actually observed sample",
          "My actually observed sample",
          "My actually observed sample",
          "My actually observed sample",
          "My actually observed sample",
          "My actually observed sample",
          "My actually observed sample",
          "My actually observed sample",
          "My actually observed sample",
          "My actually observed sample",
          "My actually observed sample",
          "My actually observed sample",
          "My actually observed sample",
          "My actually observed sample",
          "My actually observed sample",
          "My actually observed sample",
          "My actually observed sample",
          "My actually observed sample",
          "My actually observed sample",
          "My actually observed sample",
          "My actually observed sample",
          "My actually observed sample",
          "My actually observed sample",
          "My actually observed sample",
          "My actually observed sample",
          "My actually observed sample",
          "My actually observed sample",
          "My actually observed sample",
          "My actually observed sample",
          "My actually observed sample",
          "My actually observed sample",
          "My actually observed sample",
          "My actually observed sample",
          "My actually observed sample",
          "My actually observed sample",
          "My actually observed sample",
          "My actually observed sample",
          "My actually observed sample",
          "My actually observed sample",
          "My actually observed sample",
          "My actually observed sample",
          "My actually observed sample",
          "My actually observed sample",
          "My actually observed sample",
          "My actually observed sample",
          "My actually observed sample",
          "My actually observed sample",
          "My actually observed sample",
          "My actually observed sample",
          "My actually observed sample",
          "My actually observed sample",
          "My actually observed sample",
          "My actually observed sample"
         ],
         "yaxis": "y2"
        }
       ],
       "layout": {
        "barmode": "overlay",
        "hovermode": "closest",
        "legend": {
         "traceorder": "reversed"
        },
        "template": {
         "data": {
          "bar": [
           {
            "error_x": {
             "color": "#2a3f5f"
            },
            "error_y": {
             "color": "#2a3f5f"
            },
            "marker": {
             "line": {
              "color": "#E5ECF6",
              "width": 0.5
             },
             "pattern": {
              "fillmode": "overlay",
              "size": 10,
              "solidity": 0.2
             }
            },
            "type": "bar"
           }
          ],
          "barpolar": [
           {
            "marker": {
             "line": {
              "color": "#E5ECF6",
              "width": 0.5
             },
             "pattern": {
              "fillmode": "overlay",
              "size": 10,
              "solidity": 0.2
             }
            },
            "type": "barpolar"
           }
          ],
          "carpet": [
           {
            "aaxis": {
             "endlinecolor": "#2a3f5f",
             "gridcolor": "white",
             "linecolor": "white",
             "minorgridcolor": "white",
             "startlinecolor": "#2a3f5f"
            },
            "baxis": {
             "endlinecolor": "#2a3f5f",
             "gridcolor": "white",
             "linecolor": "white",
             "minorgridcolor": "white",
             "startlinecolor": "#2a3f5f"
            },
            "type": "carpet"
           }
          ],
          "choropleth": [
           {
            "colorbar": {
             "outlinewidth": 0,
             "ticks": ""
            },
            "type": "choropleth"
           }
          ],
          "contour": [
           {
            "colorbar": {
             "outlinewidth": 0,
             "ticks": ""
            },
            "colorscale": [
             [
              0,
              "#0d0887"
             ],
             [
              0.1111111111111111,
              "#46039f"
             ],
             [
              0.2222222222222222,
              "#7201a8"
             ],
             [
              0.3333333333333333,
              "#9c179e"
             ],
             [
              0.4444444444444444,
              "#bd3786"
             ],
             [
              0.5555555555555556,
              "#d8576b"
             ],
             [
              0.6666666666666666,
              "#ed7953"
             ],
             [
              0.7777777777777778,
              "#fb9f3a"
             ],
             [
              0.8888888888888888,
              "#fdca26"
             ],
             [
              1,
              "#f0f921"
             ]
            ],
            "type": "contour"
           }
          ],
          "contourcarpet": [
           {
            "colorbar": {
             "outlinewidth": 0,
             "ticks": ""
            },
            "type": "contourcarpet"
           }
          ],
          "heatmap": [
           {
            "colorbar": {
             "outlinewidth": 0,
             "ticks": ""
            },
            "colorscale": [
             [
              0,
              "#0d0887"
             ],
             [
              0.1111111111111111,
              "#46039f"
             ],
             [
              0.2222222222222222,
              "#7201a8"
             ],
             [
              0.3333333333333333,
              "#9c179e"
             ],
             [
              0.4444444444444444,
              "#bd3786"
             ],
             [
              0.5555555555555556,
              "#d8576b"
             ],
             [
              0.6666666666666666,
              "#ed7953"
             ],
             [
              0.7777777777777778,
              "#fb9f3a"
             ],
             [
              0.8888888888888888,
              "#fdca26"
             ],
             [
              1,
              "#f0f921"
             ]
            ],
            "type": "heatmap"
           }
          ],
          "heatmapgl": [
           {
            "colorbar": {
             "outlinewidth": 0,
             "ticks": ""
            },
            "colorscale": [
             [
              0,
              "#0d0887"
             ],
             [
              0.1111111111111111,
              "#46039f"
             ],
             [
              0.2222222222222222,
              "#7201a8"
             ],
             [
              0.3333333333333333,
              "#9c179e"
             ],
             [
              0.4444444444444444,
              "#bd3786"
             ],
             [
              0.5555555555555556,
              "#d8576b"
             ],
             [
              0.6666666666666666,
              "#ed7953"
             ],
             [
              0.7777777777777778,
              "#fb9f3a"
             ],
             [
              0.8888888888888888,
              "#fdca26"
             ],
             [
              1,
              "#f0f921"
             ]
            ],
            "type": "heatmapgl"
           }
          ],
          "histogram": [
           {
            "marker": {
             "pattern": {
              "fillmode": "overlay",
              "size": 10,
              "solidity": 0.2
             }
            },
            "type": "histogram"
           }
          ],
          "histogram2d": [
           {
            "colorbar": {
             "outlinewidth": 0,
             "ticks": ""
            },
            "colorscale": [
             [
              0,
              "#0d0887"
             ],
             [
              0.1111111111111111,
              "#46039f"
             ],
             [
              0.2222222222222222,
              "#7201a8"
             ],
             [
              0.3333333333333333,
              "#9c179e"
             ],
             [
              0.4444444444444444,
              "#bd3786"
             ],
             [
              0.5555555555555556,
              "#d8576b"
             ],
             [
              0.6666666666666666,
              "#ed7953"
             ],
             [
              0.7777777777777778,
              "#fb9f3a"
             ],
             [
              0.8888888888888888,
              "#fdca26"
             ],
             [
              1,
              "#f0f921"
             ]
            ],
            "type": "histogram2d"
           }
          ],
          "histogram2dcontour": [
           {
            "colorbar": {
             "outlinewidth": 0,
             "ticks": ""
            },
            "colorscale": [
             [
              0,
              "#0d0887"
             ],
             [
              0.1111111111111111,
              "#46039f"
             ],
             [
              0.2222222222222222,
              "#7201a8"
             ],
             [
              0.3333333333333333,
              "#9c179e"
             ],
             [
              0.4444444444444444,
              "#bd3786"
             ],
             [
              0.5555555555555556,
              "#d8576b"
             ],
             [
              0.6666666666666666,
              "#ed7953"
             ],
             [
              0.7777777777777778,
              "#fb9f3a"
             ],
             [
              0.8888888888888888,
              "#fdca26"
             ],
             [
              1,
              "#f0f921"
             ]
            ],
            "type": "histogram2dcontour"
           }
          ],
          "mesh3d": [
           {
            "colorbar": {
             "outlinewidth": 0,
             "ticks": ""
            },
            "type": "mesh3d"
           }
          ],
          "parcoords": [
           {
            "line": {
             "colorbar": {
              "outlinewidth": 0,
              "ticks": ""
             }
            },
            "type": "parcoords"
           }
          ],
          "pie": [
           {
            "automargin": true,
            "type": "pie"
           }
          ],
          "scatter": [
           {
            "fillpattern": {
             "fillmode": "overlay",
             "size": 10,
             "solidity": 0.2
            },
            "type": "scatter"
           }
          ],
          "scatter3d": [
           {
            "line": {
             "colorbar": {
              "outlinewidth": 0,
              "ticks": ""
             }
            },
            "marker": {
             "colorbar": {
              "outlinewidth": 0,
              "ticks": ""
             }
            },
            "type": "scatter3d"
           }
          ],
          "scattercarpet": [
           {
            "marker": {
             "colorbar": {
              "outlinewidth": 0,
              "ticks": ""
             }
            },
            "type": "scattercarpet"
           }
          ],
          "scattergeo": [
           {
            "marker": {
             "colorbar": {
              "outlinewidth": 0,
              "ticks": ""
             }
            },
            "type": "scattergeo"
           }
          ],
          "scattergl": [
           {
            "marker": {
             "colorbar": {
              "outlinewidth": 0,
              "ticks": ""
             }
            },
            "type": "scattergl"
           }
          ],
          "scattermapbox": [
           {
            "marker": {
             "colorbar": {
              "outlinewidth": 0,
              "ticks": ""
             }
            },
            "type": "scattermapbox"
           }
          ],
          "scatterpolar": [
           {
            "marker": {
             "colorbar": {
              "outlinewidth": 0,
              "ticks": ""
             }
            },
            "type": "scatterpolar"
           }
          ],
          "scatterpolargl": [
           {
            "marker": {
             "colorbar": {
              "outlinewidth": 0,
              "ticks": ""
             }
            },
            "type": "scatterpolargl"
           }
          ],
          "scatterternary": [
           {
            "marker": {
             "colorbar": {
              "outlinewidth": 0,
              "ticks": ""
             }
            },
            "type": "scatterternary"
           }
          ],
          "surface": [
           {
            "colorbar": {
             "outlinewidth": 0,
             "ticks": ""
            },
            "colorscale": [
             [
              0,
              "#0d0887"
             ],
             [
              0.1111111111111111,
              "#46039f"
             ],
             [
              0.2222222222222222,
              "#7201a8"
             ],
             [
              0.3333333333333333,
              "#9c179e"
             ],
             [
              0.4444444444444444,
              "#bd3786"
             ],
             [
              0.5555555555555556,
              "#d8576b"
             ],
             [
              0.6666666666666666,
              "#ed7953"
             ],
             [
              0.7777777777777778,
              "#fb9f3a"
             ],
             [
              0.8888888888888888,
              "#fdca26"
             ],
             [
              1,
              "#f0f921"
             ]
            ],
            "type": "surface"
           }
          ],
          "table": [
           {
            "cells": {
             "fill": {
              "color": "#EBF0F8"
             },
             "line": {
              "color": "white"
             }
            },
            "header": {
             "fill": {
              "color": "#C8D4E3"
             },
             "line": {
              "color": "white"
             }
            },
            "type": "table"
           }
          ]
         },
         "layout": {
          "annotationdefaults": {
           "arrowcolor": "#2a3f5f",
           "arrowhead": 0,
           "arrowwidth": 1
          },
          "autotypenumbers": "strict",
          "coloraxis": {
           "colorbar": {
            "outlinewidth": 0,
            "ticks": ""
           }
          },
          "colorscale": {
           "diverging": [
            [
             0,
             "#8e0152"
            ],
            [
             0.1,
             "#c51b7d"
            ],
            [
             0.2,
             "#de77ae"
            ],
            [
             0.3,
             "#f1b6da"
            ],
            [
             0.4,
             "#fde0ef"
            ],
            [
             0.5,
             "#f7f7f7"
            ],
            [
             0.6,
             "#e6f5d0"
            ],
            [
             0.7,
             "#b8e186"
            ],
            [
             0.8,
             "#7fbc41"
            ],
            [
             0.9,
             "#4d9221"
            ],
            [
             1,
             "#276419"
            ]
           ],
           "sequential": [
            [
             0,
             "#0d0887"
            ],
            [
             0.1111111111111111,
             "#46039f"
            ],
            [
             0.2222222222222222,
             "#7201a8"
            ],
            [
             0.3333333333333333,
             "#9c179e"
            ],
            [
             0.4444444444444444,
             "#bd3786"
            ],
            [
             0.5555555555555556,
             "#d8576b"
            ],
            [
             0.6666666666666666,
             "#ed7953"
            ],
            [
             0.7777777777777778,
             "#fb9f3a"
            ],
            [
             0.8888888888888888,
             "#fdca26"
            ],
            [
             1,
             "#f0f921"
            ]
           ],
           "sequentialminus": [
            [
             0,
             "#0d0887"
            ],
            [
             0.1111111111111111,
             "#46039f"
            ],
            [
             0.2222222222222222,
             "#7201a8"
            ],
            [
             0.3333333333333333,
             "#9c179e"
            ],
            [
             0.4444444444444444,
             "#bd3786"
            ],
            [
             0.5555555555555556,
             "#d8576b"
            ],
            [
             0.6666666666666666,
             "#ed7953"
            ],
            [
             0.7777777777777778,
             "#fb9f3a"
            ],
            [
             0.8888888888888888,
             "#fdca26"
            ],
            [
             1,
             "#f0f921"
            ]
           ]
          },
          "colorway": [
           "#636efa",
           "#EF553B",
           "#00cc96",
           "#ab63fa",
           "#FFA15A",
           "#19d3f3",
           "#FF6692",
           "#B6E880",
           "#FF97FF",
           "#FECB52"
          ],
          "font": {
           "color": "#2a3f5f"
          },
          "geo": {
           "bgcolor": "white",
           "lakecolor": "white",
           "landcolor": "#E5ECF6",
           "showlakes": true,
           "showland": true,
           "subunitcolor": "white"
          },
          "hoverlabel": {
           "align": "left"
          },
          "hovermode": "closest",
          "mapbox": {
           "style": "light"
          },
          "paper_bgcolor": "white",
          "plot_bgcolor": "#E5ECF6",
          "polar": {
           "angularaxis": {
            "gridcolor": "white",
            "linecolor": "white",
            "ticks": ""
           },
           "bgcolor": "#E5ECF6",
           "radialaxis": {
            "gridcolor": "white",
            "linecolor": "white",
            "ticks": ""
           }
          },
          "scene": {
           "xaxis": {
            "backgroundcolor": "#E5ECF6",
            "gridcolor": "white",
            "gridwidth": 2,
            "linecolor": "white",
            "showbackground": true,
            "ticks": "",
            "zerolinecolor": "white"
           },
           "yaxis": {
            "backgroundcolor": "#E5ECF6",
            "gridcolor": "white",
            "gridwidth": 2,
            "linecolor": "white",
            "showbackground": true,
            "ticks": "",
            "zerolinecolor": "white"
           },
           "zaxis": {
            "backgroundcolor": "#E5ECF6",
            "gridcolor": "white",
            "gridwidth": 2,
            "linecolor": "white",
            "showbackground": true,
            "ticks": "",
            "zerolinecolor": "white"
           }
          },
          "shapedefaults": {
           "line": {
            "color": "#2a3f5f"
           }
          },
          "ternary": {
           "aaxis": {
            "gridcolor": "white",
            "linecolor": "white",
            "ticks": ""
           },
           "baxis": {
            "gridcolor": "white",
            "linecolor": "white",
            "ticks": ""
           },
           "bgcolor": "#E5ECF6",
           "caxis": {
            "gridcolor": "white",
            "linecolor": "white",
            "ticks": ""
           }
          },
          "title": {
           "x": 0.05
          },
          "xaxis": {
           "automargin": true,
           "gridcolor": "white",
           "linecolor": "white",
           "ticks": "",
           "title": {
            "standoff": 15
           },
           "zerolinecolor": "white",
           "zerolinewidth": 2
          },
          "yaxis": {
           "automargin": true,
           "gridcolor": "white",
           "linecolor": "white",
           "ticks": "",
           "title": {
            "standoff": 15
           },
           "zerolinecolor": "white",
           "zerolinewidth": 2
          }
         }
        },
        "xaxis": {
         "anchor": "y2",
         "domain": [
          0,
          1
         ],
         "zeroline": false
        },
        "yaxis": {
         "anchor": "free",
         "domain": [
          0.35,
          1
         ],
         "position": 0
        },
        "yaxis2": {
         "anchor": "x",
         "domain": [
          0,
          0.25
         ],
         "dtick": 1,
         "showticklabels": false
        }
       }
      },
      "text/html": [
       "<div>                            <div id=\"fda30ada-b625-4f9c-8070-4ec015435685\" class=\"plotly-graph-div\" style=\"height:525px; width:100%;\"></div>            <script type=\"text/javascript\">                require([\"plotly\"], function(Plotly) {                    window.PLOTLYENV=window.PLOTLYENV || {};                                    if (document.getElementById(\"fda30ada-b625-4f9c-8070-4ec015435685\")) {                    Plotly.newPlot(                        \"fda30ada-b625-4f9c-8070-4ec015435685\",                        [{\"autobinx\":false,\"histnorm\":\"probability density\",\"legendgroup\":\"My theoretical sample\",\"marker\":{\"color\":\"rgb(31, 119, 180)\"},\"name\":\"My theoretical sample\",\"opacity\":0.7,\"x\":[1.1066225103637195,0.9722454668455022,0.9772641262551858,1.4711181237072632,1.483448868041174,0.6916767109932962,0.7412212200727465,0.860166818575792,1.2059902046196713,1.536355642718692,1.425242435336631,0.8817577849125996,0.6673620639122065,1.3669151438515614,1.0554427495232572,0.7753807469153989,1.250214904425234,0.8934446319758524,0.9069469106904434,1.1057884226032797,0.35641250266933144,0.8068939829528667,1.1191482968704707,1.1580235071686968,1.627763103345894,0.9967664870898058,1.2870092112857834,0.8153358745138598,0.49675397799552035,1.0007303817506374,1.266459801512994,0.6673468840431664,1.0704705161340362,0.5990162096037863,0.8849219268468265,1.2940512195361613,0.45352784796909906,0.855665935849025,1.293509714230352,1.1131544559523756,1.304543317544688,0.5579651668900956,1.1045961243465567,1.0148683001383856,0.7812666177469175,0.6132643934324372,0.2929490363993078,1.2168139665880608,1.4431350794975901,1.3023697770361922,1.334986382013095,0.8053710521906396,1.431260833247529,1.1155264218637144,0.9643865881857544,1.3633799860406417,0.9660704019904852,0.7166765914383828,0.8203279526032297,1.0663866031015177,1.5222664722813444,0.5573033577072356,0.8374466552513731,0.8731678673514021,0.6963026746375747,1.2330338041885802,0.9436696499815459,0.2301000242991873,0.7303074637918932,0.9485635902645472,1.4170030605846247,1.4251009704341397,0.2314084207980711,1.2069453075462588,1.1676404982153477,1.4023220377531245,1.2246231312401894,0.20111475992960182,0.37761997553392324,1.1002491241367567,1.4077262507392985,1.0056338876210256,0.7446699009578983,1.4559543310830236,1.0064861161752081,0.41523282226550007,0.998233469401592,1.2032460664859104,0.30837826739551044,0.6106856808157116,1.4620689405572653,1.062934128799256,1.1351664665609726,0.5812554816899287,0.6540858125145207,1.365972688090525,1.0350231755672914,1.2433992224844448,1.2130626698399254,1.3529927961623134,0.9328583566030408,1.5265786380337758,1.2228427104229793,0.9676420498410393,0.636896955706667,0.5348743875719969,1.3096586530690795,0.9518557390357583,1.105987173942193,0.33922664699468585,0.4137870027516377,1.4543705218715597,1.3188497191327384,1.0831963844626453,0.5160327581213813,0.5974523446598646,1.3889100436245365,0.8423863650575859,0.732874002504805,0.9827358143606304,0.7217278878164137,1.5294458972867022,0.9680925607044955,1.2029576614444506,0.663170984685969,1.1417335700067404,1.1330843524024412,0.6878739040754007,1.5999603396159894,1.2394501804151197,0.9242342456878949,-0.04079361909244206,0.983594431697444,0.985139875492642,1.4083746586309471,1.0705717000593407,1.5256167785881245,0.8985259900236567,0.45059177434297804,1.6228426616174563,1.0834593229160772,1.4920403408005118,1.1370509177176138,1.1043862947941019,1.1003790712924062,0.7946987834995312,1.3384070666841121,0.9526482878791189,0.8332278436183562,0.9747787972021512,0.6709619877366055,0.9218313301308071,0.9727589478037174,1.170471916569093,1.5059624939302898,0.49695980735684087,0.6610144873194269,0.7011565615963999,0.07478204297654101,0.941114028844963,1.0241230486255313,0.6015651682754897,0.8881927090197247,1.068398932300699,1.7927991171102309,1.1977722266318522,0.46873015705616594,0.8016403505656244,1.4815229031347565,1.8950580803273347,1.0358846743457464,0.9532916096074714,1.104413234310812,0.5585635691549498,0.762163030851769,0.42095954131575186,0.7652988153127855,0.5318709033388003,1.595690287629019,1.1327347167388877,1.2948934128425684,1.0816127489134952,1.7710964603879833,1.1994126915058474,1.3176068250347077,0.8405307594528545,0.5916383915751757,0.6858116646487381,1.2234955643624488,0.5567114336966055,1.4353761762754984,0.8918790375522453,1.2168441831216381,0.6991874125144794,1.0172021904965889,0.8260422567817839,0.7381093655090856,0.6406299425247224,1.4490473687555196,1.0319890001306449,0.965460870313225,0.9116306657322548,1.295019592636103,1.2407966356860967,0.9106823004560773,0.4341978107407206,1.2512717311920083,1.3198057553917373,1.3850748777629167,0.6164614335860222,1.256811629916303,1.640890440735933,1.2840796536345418,1.1888191092933162,1.4594518833327383,0.6282924506683742,1.5120412543436375,1.1623300258687053,1.1930353437969052,0.9222090541365224,1.0929982387920367,0.8172226775739069,0.9900869897649637,0.9558758297814629,1.199483718578505,1.7076344448052927,1.1828158630609822,1.494883322743625,1.087136996566688,0.6612512919424807,1.4834600083060314,1.7274734812935266,0.656383924717826,1.4118251307350524,1.0107568281334687,0.8583340511873782,0.8115088375834829,1.149321089871845,0.7503699233372256,0.9305208468697236,0.20905066462205946,0.6684317621257845,1.1501729126107052,0.9757063831028618,1.4945866475378975,1.1957104371622223,0.8549817809364022,0.7734399304148389,0.5454306449743045,1.0047424007059127,1.1502720030956115,1.4573226325537174,0.7420957673772488,1.4127054853880234,1.0106005180794806,1.3257642249933292,0.33578066377090043,1.0257672814686534,0.8880020383842507,0.8201262327436948,1.3381745963916285,0.5114860091699454,1.2313197774090554,0.8171991142690668,0.8696341817425168,0.9145798598686437,1.3809556958751228,1.2664781546050412,0.8900129482380612,1.2964237595001633,1.5497017453641297,0.5929024773803786,1.2361354750387417,0.9001576154527858,1.4192799847956756,0.6768157106936429,0.1060687549028081,1.3614033432934023,0.7607290941578609,1.0502442103302299,1.385830193506051,1.5126951073352595,1.1708732884965312,0.6137246714121846,1.3646477834380084,1.5214670946413869,0.8406681269913812,1.209687955863628,1.129091039133992,0.48405124039097414,1.3565966874879059,1.1626481484818594,0.44415939612836,1.3025606042393663,0.6690709069452399,1.3523411376253107,1.0512309233335515,1.5007109211894183,0.7587046227929646,0.9138146350924999,0.8313862795560116,1.849872436715637,0.731093394399264,1.0004592351439345,1.0571557992285996,0.7915106358547453,1.2325679005427994,1.1144433339273265,0.9721900149160924,0.887329534434942,1.5118870859301556,0.3089960293432902,0.956005419789227,1.7645238373953682,0.4371379964574329,0.772833211753403,1.0304395134663389,1.0847540613650521,1.3647221661638573],\"xaxis\":\"x\",\"xbins\":{\"end\":1.8950580803273347,\"size\":0.2,\"start\":-0.04079361909244206},\"yaxis\":\"y\",\"type\":\"histogram\"},{\"autobinx\":false,\"histnorm\":\"probability density\",\"legendgroup\":\"My actually observed sample\",\"marker\":{\"color\":\"rgb(255, 127, 14)\"},\"name\":\"My actually observed sample\",\"opacity\":0.7,\"x\":[0.8,0.7,0.3,1.6,1.4,1.7,1.2,0.8,1.1,1.7,1.5,1.3,1.0,0.8,1.0,0.5,0.8,0.6,0.7,0.5,1.2,0.5,0.8,1.4,0.7,1.2,1.1,1.0,0.9,0.6,0.9,1.8,0.4,0.5,0.4,0.9,0.6,0.8,0.5,0.4,0.2,1.1,1.0,0.7,0.8,0.4,1.5,1.0,1.4,1.3,0.9,1.5,0.9,0.9,0.1,1.2,0.6,0.8,0.6,1.2,1.2,0.8,0.8,0.8,1.6,0.8,1.6,1.0,1.0,0.8,0.8,0.5,0.7,0.7,0.7,0.7,1.0,0.9,1.1,0.6,0.8,1.4,1.7,1.5,0.9,0.3,0.8,1.0,0.9,1.2,1.2,0.9,1.8,0.9,0.4,0.9,0.6,0.5,0.5,1.0,0.8,1.5,1.4,0.4,2.1,0.6,0.2,0.5,1.1,1.8,0.6,0.6,0.8,0.9,1.1,1.2,0.6,0.7,1.0,1.0,0.6,0.9,1.2,0.6,1.4,0.5,1.0,0.6,0.9,1.4,1.1,1.0,2.0,1.0,1.5,0.6,1.0,1.2,1.0,0.7,0.7,0.8,0.6,0.7,1.0,0.4,0.9,1.5,1.0,0.7,0.7,0.9,0.7,1.1,0.4,0.4,1.2,0.6,0.6,0.5,0.7,0.7,1.2,1.5,1.0,1.0,1.4,1.1,0.4,0.8,1.3,1.0,1.0,0.6,1.2,0.8,1.0,0.7,0.9,0.7,0.9,1.2,1.3,0.7,0.6,1.1,0.6,1.0,0.8,0.8,1.4,0.5,1.6,0.5,0.4,1.2,0.6,0.5,0.5,0.6,0.8,0.9,1.4,0.7,0.8,0.9,0.5,0.7,0.4,0.9,1.2,1.3,0.9,0.3,0.4,1.7,1.0,0.7,0.4,0.4,0.9,0.6,1.3,1.0,1.6,0.5,0.6,0.6,0.7,0.7,1.5,1.1,0.5,0.4,1.4,0.8,0.7,0.5,0.5,0.7,1.1,0.9,0.8,0.5,0.8,1.2,1.2,0.8,1.0,0.8,1.6,1.4,0.5,1.0,0.8,1.2,1.2,0.8,0.6,0.6,1.3,0.7,0.5,0.4,1.5,1.2,0.8,0.5,1.1,0.5,1.5,0.6,1.0,0.9,0.5,1.0,1.0,0.3,0.6,0.8,1.5,1.0,0.8,1.0,0.6,0.5,1.2,0.7,1.1,0.7,1.2,1.3,1.5,1.7,0.5,0.7,0.7,0.4,1.0,1.0,1.7,1.3,1.4,0.4,0.8,0.5,0.8,1.4,1.7,0.9,0.7,0.9,1.0,0.5,1.1,0.7,0.7,0.9,1.0],\"xaxis\":\"x\",\"xbins\":{\"end\":2.1,\"size\":0.2,\"start\":0.1},\"yaxis\":\"y\",\"type\":\"histogram\"},{\"legendgroup\":\"My theoretical sample\",\"marker\":{\"color\":\"rgb(31, 119, 180)\"},\"mode\":\"lines\",\"name\":\"My theoretical sample\",\"showlegend\":false,\"x\":[-0.04079361909244206,-0.0369219156936025,-0.03305021229476295,-0.029178508895923397,-0.02530680549708384,-0.02143510209824429,-0.017563398699404736,-0.013691695300565184,-0.009819991901725628,-0.005948288502886069,-0.0020765851040465202,0.0017951182947930286,0.005666821693632584,0.00953852509247214,0.013410228491311689,0.017281931890151245,0.0211536352889908,0.025025338687830356,0.02889704208666992,0.032768745485509454,0.03664044888434902,0.040512152283188566,0.044383855682028114,0.04825555908086766,0.052127262479707226,0.05599896587854679,0.05987066927738634,0.06374237267622589,0.06761407607506544,0.071485779473905,0.07535748287274455,0.0792291862715841,0.08310088967042366,0.08697259306926322,0.09084429646810277,0.09471599986694232,0.0985877032657819,0.10245940666462142,0.10633111006346097,0.11020281346230054,0.11407451686114009,0.11794622025997964,0.12181792365881919,0.12568962705765874,0.12956133045649829,0.13343303385533786,0.13730473725417738,0.14117644065301696,0.1450481440518565,0.14891984745069606,0.15279155084953563,0.15666325424837516,0.16053495764721473,0.16440666104605428,0.16827836444489383,0.1721500678437334,0.17602177124257293,0.17989347464141248,0.18376517804025205,0.1876368814390916,0.19150858483793115,0.1953802882367707,0.19925199163561025,0.20312369503444982,0.20699539843328937,0.21086710183212892,0.2147388052309685,0.21861050862980808,0.2224822120286476,0.22635391542748712,0.2302256188263267,0.23409732222516622,0.23796902562400585,0.24184072902284537,0.2457124324216849,0.24958413582052447,0.253455839219364,0.25732754261820356,0.26119924601704314,0.26507094941588266,0.26894265281472224,0.27281435621356176,0.27668605961240134,0.2805577630112409,0.28442946641008043,0.28830116980892,0.29217287320775953,0.29604457660659905,0.29991628000543863,0.3037879834042782,0.3076596868031178,0.3115313902019573,0.3154030936007968,0.3192747969996364,0.323146500398476,0.32701820379731555,0.3308899071961551,0.3347616105949946,0.3386333139938342,0.34250501739267375,0.3463767207915133,0.35024842419035285,0.35412012758919237,0.35799183098803194,0.3618635343868715,0.3657352377857111,0.3696069411845506,0.37347864458339014,0.3773503479822297,0.38122205138106924,0.38509375477990887,0.3889654581787484,0.3928371615775879,0.3967088649764275,0.400580568375267,0.40445227177410664,0.40832397517294616,0.4121956785717857,0.41606738197062526,0.4199390853694648,0.42381078876830436,0.42768249216714394,0.43155419556598346,0.43542589896482303,0.43929760236366255,0.44316930576250213,0.4470410091613417,0.45091271256018123,0.4547844159590208,0.4586561193578603,0.4625278227566999,0.4663995261555395,0.47027122955437906,0.4741429329532185,0.4780146363520582,0.4818863397508977,0.48575804314973725,0.4896297465485767,0.4935014499474163,0.497373153346256,0.5012448567450954,0.505116560143935,0.5089882635427745,0.5128599669416141,0.5167316703404538,0.5206033737392932,0.5244750771381328,0.5283467805369723,0.5322184839358118,0.5360901873346514,0.539961890733491,0.5438335941323306,0.54770529753117,0.5515770009300096,0.5554487043288492,0.5593204077276888,0.5631921111265283,0.5670638145253678,0.5709355179242074,0.574807221323047,0.5786789247218865,0.5825506281207261,0.5864223315195656,0.5902940349184052,0.5941657383172447,0.5980374417160843,0.6019091451149239,0.6057808485137633,0.6096525519126029,0.6135242553114424,0.6173959587102821,0.6212676621091217,0.6251393655079611,0.6290110689068007,0.6328827723056402,0.6367544757044798,0.6406261791033193,0.6444978825021589,0.6483695859009985,0.6522412892998379,0.6561129926986776,0.6599846960975171,0.6638563994963567,0.6677281028951962,0.6715998062940357,0.6754715096928754,0.6793432130917149,0.6832149164905544,0.687086619889394,0.6909583232882335,0.6948300266870732,0.6987017300859126,0.7025734334847522,0.7064451368835918,0.7103168402824312,0.7141885436812709,0.7180602470801104,0.72193195047895,0.7258036538777896,0.729675357276629,0.7335470606754687,0.7374187640743082,0.7412904674731478,0.7451621708719873,0.7490338742708268,0.7529055776696665,0.756777281068506,0.7606489844673455,0.7645206878661851,0.7683923912650246,0.7722640946638643,0.7761357980627037,0.7800075014615433,0.7838792048603828,0.7877509082592223,0.791622611658062,0.7954943150569015,0.7993660184557411,0.8032377218545805,0.8071094252534201,0.8109811286522598,0.8148528320510993,0.8187245354499388,0.8225962388487783,0.8264679422476179,0.8303396456464576,0.834211349045297,0.8380830524441366,0.8419547558429761,0.8458264592418157,0.8496981626406553,0.8535698660394948,0.8574415694383344,0.8613132728371738,0.8651849762360134,0.8690566796348531,0.8729283830336926,0.8768000864325322,0.8806717898313716,0.8845434932302112,0.8884151966290508,0.8922869000278904,0.8961586034267299,0.9000303068255694,0.903902010224409,0.9077737136232485,0.9116454170220881,0.9155171204209277,0.9193888238197672,0.9232605272186067,0.9271322306174463,0.9310039340162859,0.9348756374151255,0.9387473408139649,0.9426190442128045,0.9464907476116441,0.9503624510104837,0.9542341544093232,0.9581058578081627,0.9619775612070023,0.9658492646058419,0.9697209680046814,0.973592671403521,0.9774643748023606,0.9813360782012002,0.9852077816000395,0.9890794849988791,0.9929511883977187,0.9968228917965585,1.0006945951953978,1.0045662985942374,1.008438001993077,1.0123097053919166,1.0161814087907561,1.0200531121895955,1.023924815588435,1.0277965189872746,1.0316682223861142,1.035539925784954,1.0394116291837934,1.043283332582633,1.0471550359814725,1.051026739380312,1.0548984427791517,1.058770146177991,1.0626418495768306,1.0665135529756702,1.0703852563745098,1.0742569597733496,1.078128663172189,1.0820003665710285,1.085872069969868,1.0897437733687076,1.093615476767547,1.0974871801663866,1.1013588835652262,1.1052305869640657,1.1091022903629053,1.1129739937617449,1.1168456971605845,1.120717400559424,1.1245891039582636,1.1284608073571032,1.1323325107559425,1.1362042141547821,1.1400759175536217,1.1439476209524613,1.1478193243513009,1.1516910277501404,1.15556273114898,1.1594344345478196,1.1633061379466592,1.1671778413454987,1.171049544744338,1.1749212481431777,1.1787929515420172,1.1826646549408568,1.1865363583396964,1.190408061738536,1.1942797651373755,1.1981514685362151,1.2020231719350547,1.2058948753338943,1.2097665787327336,1.2136382821315732,1.2175099855304128,1.2213816889292524,1.225253392328092,1.2291250957269315,1.232996799125771,1.2368685025246107,1.2407402059234502,1.2446119093222898,1.2484836127211292,1.2523553161199688,1.2562270195188083,1.260098722917648,1.2639704263164875,1.2678421297153268,1.2717138331141666,1.2755855365130062,1.2794572399118458,1.2833289433106854,1.2872006467095247,1.2910723501083643,1.2949440535072039,1.2988157569060435,1.302687460304883,1.3065591637037224,1.3104308671025622,1.3143025705014018,1.3181742739002413,1.3220459772990807,1.3259176806979203,1.3297893840967598,1.3336610874955994,1.337532790894439,1.3414044942932783,1.345276197692118,1.3491479010909577,1.3530196044897973,1.3568913078886369,1.3607630112874762,1.3646347146863158,1.3685064180851554,1.372378121483995,1.3762498248828345,1.380121528281674,1.3839932316805135,1.3878649350793533,1.3917366384781928,1.3956083418770324,1.3994800452758718,1.4033517486747114,1.407223452073551,1.4110951554723905,1.41496685887123,1.4188385622700694,1.422710265668909,1.4265819690677488,1.4304536724665884,1.434325375865428,1.4381970792642673,1.442068782663107,1.4459404860619465,1.449812189460786,1.4536838928596256,1.457555596258465,1.4614272996573046,1.4652990030561444,1.469170706454984,1.4730424098538235,1.4769141132526629,1.4807858166515024,1.484657520050342,1.4885292234491816,1.4924009268480212,1.4962726302468605,1.5001443336457,1.50401603704454,1.5078877404433795,1.511759443842219,1.5156311472410584,1.519502850639898,1.5233745540387376,1.5272462574375771,1.5311179608364167,1.534989664235256,1.5388613676340956,1.5427330710329354,1.546604774431775,1.5504764778306146,1.554348181229454,1.5582198846282935,1.562091588027133,1.5659632914259727,1.5698349948248123,1.5737066982236516,1.5775784016224912,1.581450105021331,1.5853218084201706,1.58919351181901,1.5930652152178495,1.596936918616689,1.6008086220155286,1.6046803254143682,1.6085520288132076,1.6124237322120472,1.6162954356108867,1.6201671390097265,1.624038842408566,1.6279105458074055,1.631782249206245,1.6356539526050846,1.6395256560039242,1.6433973594027638,1.6472690628016031,1.6511407662004427,1.6550124695992823,1.658884172998122,1.6627558763969617,1.666627579795801,1.6704992831946406,1.6743709865934802,1.6782426899923197,1.6821143933911593,1.6859860967899987,1.6898578001888382,1.6937295035876778,1.6976012069865176,1.7014729103853572,1.7053446137841966,1.7092163171830361,1.7130880205818757,1.7169597239807153,1.7208314273795549,1.7247031307783942,1.7285748341772338,1.7324465375760734,1.7363182409749132,1.7401899443737527,1.744061647772592,1.7479333511714317,1.7518050545702712,1.7556767579691108,1.7595484613679504,1.7634201647667898,1.7672918681656293,1.771163571564469,1.7750352749633085,1.7789069783621483,1.7827786817609876,1.7866503851598272,1.7905220885586668,1.7943937919575064,1.798265495356346,1.8021371987551853,1.8060089021540249,1.8098806055528645,1.813752308951704,1.8176240123505436,1.8214957157493832,1.8253674191482228,1.8292391225470623,1.833110825945902,1.8369825293447413,1.8408542327435808,1.8447259361424204,1.84859763954126,1.8524693429400996,1.8563410463389391,1.8602127497377787,1.8640844531366183,1.8679561565354579,1.8718278599342975,1.8756995633331368,1.8795712667319764,1.883442970130816,1.8873146735296555,1.8911863769284951],\"xaxis\":\"x\",\"y\":[0.026024429436129287,0.026775972567300767,0.027539620488211392,0.028315625442386808,0.029104264004701237,0.029905836893942616,0.030720668637527104,0.03154910708952933,0.0323915228041324,0.03324830826752276,0.03411987699215516,0.0350066624781915,0.03590911704776661,0.03682771055855888,0.03776292900393686,0.03871527300771462,0.03968525622227785,0.04067340363953595,0.04168024982481079,0.04270633708439012,0.04375221357804568,0.044818431388345126,0.045905544559062525,0.04701410711541768,0.048144671079237505,0.04929778449243283,0.050473989462415,0.05167382024322765,0.05289780136624192,0.05414644583424423,0.05542025339262856,0.05671970889119409,0.05804528074971959,0.0593974195400524,0.06077655669689446,0.062183103368793145,0.0636174494200483,0.06507996259332471,0.06657098784171987,0.06809084683787155,0.06963983766641639,0.07121823470472473,0.0728262886953527,0.0744642270120825,0.07613225411977032,0.07783055222651564,0.07955928212490801,0.08131858421733204,0.08310857971851891,0.08492937202676663,0.08678104825351095,0.08866368089925354,0.09057732966226115,0.09252204336495597,0.09449786198155809,0.09650481874932414,0.0985429423446833,0.10061225910471401,0.10271279527375396,0.10484457925450053,0.10700764384275997,0.10920202842503937,0.11142778111846006,0.1136849608330002,0.11597363923685575,0.11829390260672219,0.12064585354605394,0.12302961255582864,0.1254453194440177,0.12789313456182444,0.13037323985676996,0.13288583973486845,0.1354311617263871,0.13800945695203942,0.1406210003888285,0.14326609093716225,0.1459450512932193,0.14865822763285397,0.1514059891155351,0.1541887272188873,0.1570068549163129,0.15986080571188765,0.16275103254820297,0.16567800660406398,0.16864221599989979,0.17164416442940464,0.17468436973626864,0.1777633624548789,0.18088168433356197,0.18403988685829842,0.18723852979387498,0.19047817975815584,0.19375940884356463,0.19708279329800762,0.20044891227533174,0.20385834666306216,0.20731167799261713,0.21080948743448402,0.21435235487803142,0.2179408580927409,0.22157557196473276,0.22525706779958235,0.22898591267961832,0.2327626688612299,0.2365878931952064,0.2404621365508813,0.24438594322286197,0.24835985029746346,0.2523843869546628,0.25646007368049556,0.2605874213643379,0.26476693025552,0.2689990887541756,0.27328437201220235,0.27762324032166175,0.28201613726992597,0.2864634876433044,0.29096569506383657,0.2955231393472965,0.3001361735742634,0.304805120870284,0.3095302708956702,0.31431187605027017,0.3191501474035735,0.3240452503656868,0.32899730012000294,0.33400635684365904,0.33907242074714733,0.3441954269695185,0.34937524037055434,0.354611650265864,0.35990436515514435,0.36525300749765083,0.3706571085922499,0.3761161036221749,0.3816293269267387,0.3871960075637048,0.3928152652267514,0.3984861065824323,0.40420742209023397,0.40997798336771524,0.4157964411602942,0.4216613239720353,0.4275710374097689,0.4335238642881045,0.43951796553739286,0.445551381950497,0.45162203679741425,0.4577277393294116,0.4638661891864338,0.4700349817132716,0.4762316141813496,0.48245349290412193,0.48869794122508586,0.49496220834837484,0.5012434789729235,0.5075388836823811,0.5138455100344166,0.5201604142848621,0.5264806336744348,0.5328031991986053,0.5391251487746515,0.5454435407141144,0.5517554674038705,0.5580580690948234,0.5643485476939866,0.5706241804533478,0.5768823334475977,0.5831204747324229,0.5893361870757078,0.5955271801556471,0.6016913021224125,0.6078265504236056,0.6139310817982843,0.6200032213497327,0.626041470613439,0.6320445145437119,0.6380112273501214,0.6439406771232407,0.6498321291980733,0.6556850482128427,0.6614990988304997,0.6672741451002887,0.6730102484467784,0.6787076642840194,0.6843668372626659,0.6899883951680075,0.6955731414967766,0.7011220467502576,0.7066362384905415,0.712116990215701,0.7175657091180798,0.7229839227978544,0.7283732650113159,0.7337354605401191,0.7390723092737814,0.7443856696031336,0.7496774412271601,0.7549495474796257,0.7602039172852357,0.7654424668575892,0.7706670812530928,0.7758795958961423,0.7810817781913613,0.7862753093384903,0.7914617664646302,0.7966426051871348,0.8018191427182513,0.8069925416200131,0.8121637943145631,0.8173337084513537,0.8225028932282983,0.8276717467591796,0.83284044457429,0.8380089293355415,0.8431769018410805,0.848343813387803,0.8535088595531629,0.8586709754502062,0.8638288325020013,0.868980836773453,0.874125128890031,0.8792595855641171,0.8843818227406012,0.8894892003640121,0.8945788287598839,0.8996475766132942,0.9046920805176063,0.9097087560564047,0.914693810371574,0.9196432561603715,0.9245529270343845,0.9294184941633816,0.9342354841174391,0.9389992978113618,0.9437052304464519,0.9483484923361224,0.9529242304939405,0.9574275508552628,0.9618535409970813,0.9661972932148467,0.970453927810143,0.9746186164391528,0.9786866053689719,0.9826532384870633,0.9865139799085744,0.9902644360268712,0.993900376854598,0.9974177565057262,1.0008127326736438,1.0040816849661387,1.0072212319652447,1.0102282468883417,1.0130998717364834,1.0158335298267054,1.0184269366168883,1.020878108744617,1.0231853712151515,1.0253473626881313,1.0273630388277273,1.0292316736965927,1.0309528591898554,1.0325265025216182,1.0339528217924945,1.0352323396828398,1.0363658753319491,1.0373545344788224,1.0381996979546875,1.03890300863126,1.0394663569416718,1.0398918651027462,1.040181870177944,1.0403389061295238,1.0403656850163847,1.040265077500304,1.0400400928281188,1.0396938584604603,1.0392295995191383,1.0386506182250468,1.0379602734965196,1.0371619608745788,1.0362590929362838,1.0352550803507363,1.034153313724039,1.0329571463700045,1.031669878132513,1.0302947403734406,1.028834882227055,1.0272933582078843,1.025673117244409,1.0239769931957745,1.022207696893093,1.0203678097310196,1.01845977881944,1.0164859136891933,1.0144483845301868,1.012349221925073,1.0101903180270229,1.0079734291161822,1.0057001794563065,1.0033720663609207,1.0009904663672398,0.9985566424062255,0.9960717518484365,0.9935368552980182,0.9909529260012249,0.9883208597313285,0.9856414850086987,0.982915573513231,0.9801438505461635,0.977327005399632,0.9744657014950521,0.9715605861555393,0.9686122998829994,0.9656214850172529,0.9625887936624159,0.95951489477474,0.9564004803160802,0.9532462703880448,0.9500530172734978,0.946821508324382,0.9435525676477365,0.9402470565549649,0.9369058727530406,0.9335299482700052,0.9301202461209135,0.926677755734005,0.9232034871703781,0.9196984641835485,0.9161637161779631,0.9126002691376675,0.9090091356077912,0.905391303822259,0.9017477260809622,0.8980793064886665,0.8943868881757958,0.8906712401282553,0.8869330437591676,0.8831728793601354,0.8793912125730721,0.8755883810259495,0.8717645812768372,0.8679198562104748,0.8640540830302021,0.8601669619855017,0.8562580059716322,0.852326531132886,0.8483716485950061,0.8443922574451577,0.840387039069736,0.8363544529512374,0.832292734015424,0.8281998916092369,0.8240737101784048,0.8199117517014378,0.8157113599239743,0.8114696664241406,0.8071835985259204,0.8028498890635042,0.7984650879854376,0.7940255757729966,0.7895275786329029,0.7849671854102213,0.7803403661531472,0.775642992247629,0.7708708580262693,0.7660197037430294,0.761085239792847,0.7560631720435557,0.7509492281365474,0.7457391846025041,0.7404288946293818,0.7350143163116575,0.7294915412028876,0.7238568229876835,0.7181066060846746,0.7122375539886756,0.7062465771583315,0.7001308602549448,0.6938878885390881,0.6875154732338554,0.6810117756674725,0.6743753300131649,0.6676050644509124,0.6607003205838379,0.653660870951506,0.646486934493243,0.6391791898267742,0.6317387862207712,0.6241673521544318,0.616467001372623,0.6086403363615835,0.6006904491873047,0.5926209196565719,0.5844358107789722,0.5761396615268974,0.5677374769094718,0.5592347153953262,0.5506372737379939,0.5419514692762865,0.5331840198001672,0.5243420210902076,0.515432922255506,0.506464499010862,0.49744482504886206,0.48838224167620087,0.4792853258959535,0.4701628571284905,0.4610237827731404,0.45187718282063816,0.44273223373253295,0.4335981718082594,0.42448425626333713,0.4153997322431155,0.40635379399576094,0.39735554842563464,0.38841397924403254,0.37953791192837233,0.3707359796934897,0.36201659066973685,0.35338789647225216,0.3448577623340887,0.336433738963104,0.32812303626863837,0.31993249908919974,0.31186858503689036,0.3039373445581035,0.2961444032934282,0.28849494680275184,0.28099370770445636,0.27364495526049876,0.2664524874221812,0.2594196253347363,0.2525492102825323,0.24584360304096478,0.23930468558598184,0.2329338650978445,0.22673208018222302,0.22069980921919394,0.21483708073913838,0.20914348571411207,0.2036181916439042,0.19825995830784993,0.19306715504649657,0.18803777943143415,0.18316947717707896,0.17845956314482975,0.17390504328785208,0.16950263738374918,0.16524880240247894,0.16113975635807926,0.15717150249496653,0.15333985366276454,0.14964045673770413,0.146068816953541,0.1426203220106328,0.1392902658381695,0.13607387189153006,0.13296631587423227,0.12996274778189434,0.12705831317394178,0.12424817358739279,0.12152752601587924,0.11889162138600792,0.11633578197217347,0.11385541769995125,0.11144604129711952,0.10910328226015757,0.10682289961266274,0.10460079344047245,0.10243301519632798,0.10031577677461966,0.09824545836406409,0.09621861509307755,0.09423198248905103,0.09228248077872485,0.09036721806234602,0.08848349239928603,0.08662879284727318,0.08480079950134581,0.0829973825820877,0.0812166006256273,0.07945669783031713,0.0777161006169411,0.0759934134607649,0.07428741405474154,0.07259704786375935,0.07092142212997614,0.0692597993890531,0.06761159055651757,0.06597634764256832,0.06435375615241645,0.06274362722777363,0.06114588958336182,0.05956058129038841,0.057987841456802115,0.056427901851872464,0.054881078520235674,0.0533477634280439,0.05182841618128444],\"yaxis\":\"y\",\"type\":\"scatter\"},{\"legendgroup\":\"My actually observed sample\",\"marker\":{\"color\":\"rgb(255, 127, 14)\"},\"mode\":\"lines\",\"name\":\"My actually observed sample\",\"showlegend\":false,\"x\":[0.1,0.10400000000000001,0.10800000000000001,0.112,0.116,0.12000000000000001,0.124,0.128,0.132,0.136,0.14,0.14400000000000002,0.14800000000000002,0.152,0.156,0.16,0.164,0.168,0.172,0.176,0.18,0.184,0.188,0.192,0.196,0.2,0.20400000000000001,0.20800000000000002,0.21200000000000002,0.21600000000000003,0.22,0.224,0.228,0.232,0.23600000000000002,0.24000000000000002,0.244,0.248,0.252,0.256,0.26,0.264,0.268,0.272,0.276,0.28,0.28400000000000003,0.28800000000000003,0.29200000000000004,0.29600000000000004,0.30000000000000004,0.304,0.308,0.312,0.316,0.32,0.324,0.328,0.332,0.33599999999999997,0.33999999999999997,0.344,0.348,0.352,0.356,0.36,0.364,0.368,0.372,0.376,0.38,0.384,0.388,0.392,0.396,0.4,0.404,0.40800000000000003,0.41200000000000003,0.41600000000000004,0.42000000000000004,0.42400000000000004,0.42800000000000005,0.43200000000000005,0.43600000000000005,0.44000000000000006,0.44399999999999995,0.44799999999999995,0.45199999999999996,0.45599999999999996,0.45999999999999996,0.46399999999999997,0.46799999999999997,0.472,0.476,0.48,0.484,0.488,0.492,0.496,0.5,0.504,0.508,0.512,0.516,0.52,0.524,0.528,0.532,0.536,0.54,0.544,0.548,0.552,0.556,0.56,0.5640000000000001,0.5680000000000001,0.572,0.576,0.58,0.584,0.588,0.592,0.596,0.6,0.604,0.608,0.612,0.616,0.62,0.624,0.628,0.632,0.636,0.64,0.644,0.648,0.652,0.656,0.66,0.6639999999999999,0.6679999999999999,0.6719999999999999,0.6759999999999999,0.6799999999999999,0.6839999999999999,0.688,0.692,0.696,0.7,0.704,0.708,0.712,0.716,0.72,0.724,0.728,0.732,0.736,0.74,0.744,0.748,0.752,0.756,0.76,0.764,0.768,0.772,0.776,0.78,0.784,0.7879999999999999,0.7919999999999999,0.7959999999999999,0.7999999999999999,0.8039999999999999,0.8079999999999999,0.8119999999999999,0.816,0.82,0.824,0.828,0.832,0.836,0.84,0.844,0.848,0.852,0.856,0.86,0.864,0.868,0.872,0.876,0.88,0.884,0.888,0.892,0.896,0.9,0.904,0.908,0.912,0.9159999999999999,0.9199999999999999,0.9239999999999999,0.9279999999999999,0.9319999999999999,0.9359999999999999,0.94,0.944,0.948,0.952,0.956,0.96,0.964,0.968,0.972,0.976,0.98,0.984,0.988,0.992,0.996,1.0,1.004,1.008,1.012,1.016,1.02,1.024,1.028,1.032,1.036,1.04,1.044,1.048,1.052,1.056,1.06,1.064,1.068,1.072,1.076,1.08,1.084,1.088,1.092,1.096,1.1,1.104,1.108,1.112,1.116,1.12,1.124,1.1280000000000001,1.1320000000000001,1.1360000000000001,1.1400000000000001,1.1440000000000001,1.1480000000000001,1.1520000000000001,1.1560000000000001,1.1600000000000001,1.1640000000000001,1.1680000000000001,1.1720000000000002,1.1760000000000002,1.1800000000000002,1.1840000000000002,1.1880000000000002,1.1920000000000002,1.1960000000000002,1.2000000000000002,1.2040000000000002,1.2080000000000002,1.2120000000000002,1.2160000000000002,1.2200000000000002,1.2240000000000002,1.228,1.232,1.236,1.24,1.244,1.248,1.252,1.256,1.26,1.264,1.268,1.272,1.276,1.28,1.284,1.288,1.292,1.296,1.3,1.304,1.308,1.312,1.316,1.32,1.324,1.328,1.332,1.336,1.34,1.344,1.348,1.352,1.356,1.36,1.364,1.368,1.372,1.3760000000000001,1.3800000000000001,1.3840000000000001,1.3880000000000001,1.3920000000000001,1.3960000000000001,1.4000000000000001,1.4040000000000001,1.4080000000000001,1.4120000000000001,1.4160000000000001,1.4200000000000002,1.4240000000000002,1.4280000000000002,1.4320000000000002,1.4360000000000002,1.4400000000000002,1.4440000000000002,1.4480000000000002,1.4520000000000002,1.4560000000000002,1.4600000000000002,1.4640000000000002,1.4680000000000002,1.4720000000000002,1.476,1.48,1.484,1.488,1.492,1.496,1.5,1.504,1.508,1.512,1.516,1.52,1.524,1.528,1.532,1.536,1.54,1.544,1.548,1.552,1.556,1.56,1.564,1.568,1.572,1.576,1.58,1.584,1.588,1.592,1.596,1.6,1.604,1.608,1.612,1.616,1.62,1.624,1.6280000000000001,1.6320000000000001,1.6360000000000001,1.6400000000000001,1.6440000000000001,1.6480000000000001,1.6520000000000001,1.6560000000000001,1.6600000000000001,1.6640000000000001,1.6680000000000001,1.6720000000000002,1.6760000000000002,1.6800000000000002,1.6840000000000002,1.6880000000000002,1.6920000000000002,1.6960000000000002,1.7000000000000002,1.7040000000000002,1.7080000000000002,1.7120000000000002,1.7160000000000002,1.7200000000000002,1.7240000000000002,1.728,1.732,1.736,1.74,1.744,1.748,1.752,1.756,1.76,1.764,1.768,1.772,1.776,1.78,1.784,1.788,1.792,1.796,1.8,1.804,1.808,1.812,1.816,1.82,1.824,1.828,1.832,1.836,1.84,1.844,1.848,1.852,1.856,1.86,1.864,1.868,1.872,1.8760000000000001,1.8800000000000001,1.8840000000000001,1.8880000000000001,1.8920000000000001,1.8960000000000001,1.9000000000000001,1.9040000000000001,1.9080000000000001,1.9120000000000001,1.9160000000000001,1.9200000000000002,1.9240000000000002,1.9280000000000002,1.9320000000000002,1.9360000000000002,1.9400000000000002,1.9440000000000002,1.9480000000000002,1.9520000000000002,1.9560000000000002,1.9600000000000002,1.9640000000000002,1.9680000000000002,1.9720000000000002,1.976,1.98,1.984,1.988,1.992,1.996,2.0,2.004,2.008,2.012,2.016,2.02,2.024,2.028,2.032,2.036,2.04,2.044,2.048,2.052,2.056,2.06,2.064,2.068,2.072,2.076,2.08,2.084,2.088,2.092,2.096],\"xaxis\":\"x\",\"y\":[0.04318192771569552,0.044973145699576444,0.046832637951463967,0.048763361692385834,0.050768396711552866,0.052850944156466496,0.055014324572513165,0.057261975153610555,0.05959744616851489,0.06202439653089472,0.06454658848520585,0.06716788138480728,0.06989222454354821,0.07272364914731619,0.07566625921765663,0.07872422162557909,0.08190175516001667,0.0852031186620522,0.08863259824293845,0.09219449361107536,0.09589310354040896,0.09973271052011663,0.10371756463292345,0.10785186671682592,0.11213975087238899,0.11658526638499941,0.12119235913848103,0.12596485260317258,0.13090642848797385,0.13602060715174744,0.1413107278749394,0.14677992909709295,0.15243112873021647,0.1582670046614402,0.1642899755612345,0.17050218211541815,0.1769054688003557,0.1835013663210069,0.19029107483085994,0.19727544805124017,0.20445497840498553,0.21182978327607155,0.2193995925024155,0.22716373720382932,0.2351211400409689,0.24327030699410684,0.25160932074281994,0.26013583571907894,0.268847074897073,0.2777398283731955,0.28681045377927594,0.2960548785612696,0.3054686041443801,0.3150467119941032,0.32478387157092875,0.334674350164648,0.3447120245823955,0.3548903946527832,0.3652025984969776,0.37564142950624746,0.3861993549546324,0.3968685361648271,0.4076408501355181,0.41850791252896447,0.4294611019089546,0.440491585111294,0.4515903436217644,0.4627482008301625,0.4739558500234226,0.48520388297636435,0.49648281899472646,0.5077831342625352,0.5190952913439285,0.5304097686887509,0.541717089991247,0.5530078532521965,0.5642727593967198,0.5755026403028214,0.586688486099319,0.5978214715963509,0.6088929817169083,0.6198946358038931,0.6308183106838682,0.6416561623761959,0.6524006463441722,0.663044536193389,0.6735809407316803,0.6840033193145092,0.6943054954096558,0.7044816683253321,0.7145264230564694,0.7244347382146973,0.734201992018579,0.7438239663316858,0.7532968487473075,0.7626172327296795,0.7717821158326654,0.7807888960277897,0.7896353661841928,0.7983197067536285,0.8068404767236573,0.8151966029121249,0.823387367685255,0.8314123951906083,0.8392716362044418,0.846965351700804,0.8544940952567133,0.8618586944142076,0.8690602311256964,0.876100021414005,0.8829795943824242,0.8897006707135235,0.8962651407976895,0.9026750426339069,0.9089325396458848,0.9150398985562515,0.9209994674602734,0.9268136542384096,0.9324849054438776,0.9380156857973462,0.9434084584161347,0.948665665899287,0.9537897123835922,0.9587829466779818,0.963647646575804,0.9683860044354073,0.9730001141102026,0.9774919592990792,0.9818634033774767,0.9861161807582788,0.9902518898202105,0.9942719874294221,0.9981777850679824,1.0019704465705332,1.005650987458105,1.0092202758453914,1.01267903488578,1.0160278467057984,1.0192671577689498,1.0223972855970673,1.0254184267661088,1.0283306660825358,1.031133986836207,1.033828282016279,1.0364133663677038,1.0388889891582296,1.0412548475184875,1.0435106002121388,1.045655881687782,1.047690316260842,1.049613532270878,1.0514251760586375,1.053124925607146,1.054712503692548,1.0561876903932272,1.0575503348101136,1.0588003658565701,1.059937801983678,1.0609627597151652,1.0618754608764063,1.062676238413202,1.063365540709037,1.0639439343232717,1.0644121050882602,1.0647708575194272,1.0650211125098092,1.065163903298578,1.0652003697218535,1.0651317507735916,1.0649593755236795,1.0646846524605418,1.0643090573449479,1.0638341196814607,1.0632614079326976,1.0625925136199836,1.0618290344710648,1.060972556791774,1.0600246372530613,1.0589867842978162,1.057860439383024,1.0566469582818134,1.055347592676702,1.0539634722797229,1.052495587716797,1.0509447744128801,1.0493116977104702,1.047596839447751,1.0458004862128345,1.0439227194784901,1.04196340780639,1.0399222012920217,1.0377985284008422,1.0355915953232278,1.0333003879505076,1.030923676546896,1.028460023163362,1.0259077918084925,1.0232651613601944,1.0205301411692855,1.0177005892735012,1.0147742331074237,1.0117486925616823,1.0086215052132153,1.0053901535181242,1.0020520937302315,0.9986047862820683,0.9950457273409714,0.9913724812321671,0.987582713402746,0.9836742235862406,0.9796449788169729,0.975493145936974,0.9712171232358305,0.9668155708660667,0.9622874396829924,0.9576319981688055,0.9528488571159429,0.9479379917641714,0.9428997611093909,0.9377349241294669,0.9324446527035345,0.927030541035146,0.9214946114269696,0.9158393162939867,0.9100675363436795,0.9041825748944534,0.8981881483473998,0.8920883728705515,0.8858877473986556,0.8795911330946763,0.8732037294609665,0.8667310473278286,0.8601788789847123,0.8535532657536126,0.8468604633353493,0.840106905286427,0.833299165007235,0.8264439166404898,0.8195478952924075,0.8126178569974869,0.8056605388509809,0.7986826197311157,0.7916906820258554,0.7846911747665866,0.7776903785534356,0.7706943726349443,0.7637090044776496,0.7567398621303959,0.7497922496532363,0.742871165842774,0.7359812864447649,0.7291269500016918,0.722312147438032,0.7155405154398683,0.7088153336390537,0.7021395255656054,0.6955156632862665,0.6889459756028801,0.6824323596415545,0.6759763956236838,0.6695793645726168,0.6632422686762394,0.6569658539958084,0.6507506351857708,0.6445969218682759,0.6385048462896543,0.6324743918748241,0.6265054222892215,0.6205977106165207,0.614750968264258,0.6089648732181149,0.603239097279154,0.5975733319362809,0.5919673125485253,0.5864208405378732,0.5809338033231352,0.5755061917580813,0.570138114872464,0.5648298117520714,0.5595816604330632,0.5543941837259373,0.5492680519252231,0.5442040824015961,0.5392032361132875,0.5342666111126765,0.5293954331615335,0.5245910436038362,0.5198548846783503,0.5151884824832967,0.5105934278327982,0.5060713552684589,0.5016239205095915,0.497252776641923,0.4929595493568428,0.48874581156168356,0.484613057685584,0.48056267800586994,0.4765959333160366,0.47271393024899433,0.46891759755800766,0.4652076636433324,0.461584635594814,0.4580487800001998,0.4546001057458887,0.4512383490116555,0.44796296063369473,0.4447730959819878,0.441667607468228,0.438645039770369,0.43570362782911637,0.4328412976411631,0.430055669843639,0.42734406605489733,0.4247035179081094,0.42213077868712257,0.41962233744842464,0.4171744354892798,0.4147830850004724,0.41244408972244206,0.41015306740657337,0.40790547386848564,0.405696628408111,0.4035217403616146,0.40137593654317055,0.39925428933010304,0.3971518451429598,0.3950636530725559,0.3929847934088726,0.3909104058318601,0.3888357170314317,0.3867560675331352,0.38466693751716735,0.382563971430995,0.3804430012102013,0.3783000679376031,0.3761314417874011,0.37393364011861907,0.37170344360051216,0.3694379102713948,0.3671343874516434,0.36479052145109747,0.362404265030503,0.3599738825960485,0.35749795312506416,0.35497537083959846,0.3524053436626262,0.3497873895089869,0.3471213304797294,0.3444072850440882,0.3416456583079648,0.3388371304812392,0.33598264366858316,0.3330833871194405,0.3301407810826625,0.327156459419665,0.3241322511369655,0.32107016100465263,0.31797234943144537,0.3148411117698254,0.3116788572260252,0.30848808754961043,0.30527137567587975,0.3020313444915504,0.2987706458899953,0.29549194027692677,0.29219787668080993,0.2888910736144993,0.28557410082583673,0.2822494620650664,0.27891957898629904,0.27558677628871736,0.27225326819104484,0.2689211463200349,0.2655923690804623,0.26226875256051985,0.2589519630126461,0.2556435109358673,0.2523447467717338,0.24905685821211085,0.24578086910344155,0.24251763991884998,0.2392678697566731,0.23603209981174197,0.23281071825423474,0.22960396644008904,0.22641194636707268,0.22323462928157,0.2200718653331543,0.21692339416705883,0.21378885633878736,0.21066780543039926,0.20755972074441675,0.20446402044890974,0.20138007504607444,0.19830722103652765,0.1952447746526055,0.19219204553607694,0.18914835023888982,0.18611302542974986,0.18308544069447524,0.18006501082402737,0.17705120749093817,0.17404357022228734,0.17104171658552308,0.16804535151199124,0.16505427569211972,0.16206839298556946,0.15908771679927564,0.15611237539607117,0.1531426161063873,0.15017880842529804,0.14722144598681464,0.14427114741676486,0.14132865607474385,0.13839483870441016,0.13547068301976492,0.13255729426295734,0.129655890776494,0.12676779863955084,0.12389444542423249,0.12103735313319684,0.11819813038491653,0.11537846391708166,0.11258010948215315,0.1098048822119446,0.10705464653024306,0.10433130569400856,0.10163679104450045,0.09897305104991899,0.09634204022071836,0.09374570797778435,0.09118598755212051,0.0886647849926423,0.08618396835612657,0.08374535715039712,0.08135071209842197,0.07900172528725098,0.07670001076162816,0.0744470956177443,0.07224441164797331,0.07009328758260634,0.06799494196960622,0.06595047672826501,0.06396087140745127,0.06202697817382917,0.06014951755017187,0.058329074918577306,0.056566097798187276,0.05486089390183834,0.05321362997103017,0.05162433138369007,0.0500928825244507,0.048619027902607116,0.04720237399856279,0.04584239181545063,0.044538420108758525,0.04328966926317053,0.04209522578253926,0.040954057355872875,0.03986501845951941,0.03882685645333878,0.037838218126588885,0.03689765664752345,0.03600363886929026,0.035154552943666886,0.03434871619342332,0.033584383193711036,0.0328597540127855,0.032172982562610336,0.03152218501042951,0.030905448203221966,0.030320838058075363,0.029766407872881966,0.029240206513394932,0.028740286434536008,0.028264711495914526,0.027811564533777033,0.027378954654041054,0.026965024213643572,0.026567955460146734,0.02618597680235947,0.025817368687632184,0.025460469064447905,0.02511367841193778,0.024775464320975858,0.024444365614538093,0.02411899599801772,0.023798047233167075,0.023480291832252448,0.023164585271860983,0.022849867728563705,0.022535165341303294,0.02221959100793108,0.021902344725748025,0.02158271348820232,0.02126007075205001,0.020933875491292504,0.02060367085604991,0.0202690824562156,0.01992981629125812],\"yaxis\":\"y\",\"type\":\"scatter\"},{\"legendgroup\":\"My theoretical sample\",\"marker\":{\"color\":\"rgb(31, 119, 180)\",\"symbol\":\"line-ns-open\"},\"mode\":\"markers\",\"name\":\"My theoretical sample\",\"showlegend\":false,\"x\":[1.1066225103637195,0.9722454668455022,0.9772641262551858,1.4711181237072632,1.483448868041174,0.6916767109932962,0.7412212200727465,0.860166818575792,1.2059902046196713,1.536355642718692,1.425242435336631,0.8817577849125996,0.6673620639122065,1.3669151438515614,1.0554427495232572,0.7753807469153989,1.250214904425234,0.8934446319758524,0.9069469106904434,1.1057884226032797,0.35641250266933144,0.8068939829528667,1.1191482968704707,1.1580235071686968,1.627763103345894,0.9967664870898058,1.2870092112857834,0.8153358745138598,0.49675397799552035,1.0007303817506374,1.266459801512994,0.6673468840431664,1.0704705161340362,0.5990162096037863,0.8849219268468265,1.2940512195361613,0.45352784796909906,0.855665935849025,1.293509714230352,1.1131544559523756,1.304543317544688,0.5579651668900956,1.1045961243465567,1.0148683001383856,0.7812666177469175,0.6132643934324372,0.2929490363993078,1.2168139665880608,1.4431350794975901,1.3023697770361922,1.334986382013095,0.8053710521906396,1.431260833247529,1.1155264218637144,0.9643865881857544,1.3633799860406417,0.9660704019904852,0.7166765914383828,0.8203279526032297,1.0663866031015177,1.5222664722813444,0.5573033577072356,0.8374466552513731,0.8731678673514021,0.6963026746375747,1.2330338041885802,0.9436696499815459,0.2301000242991873,0.7303074637918932,0.9485635902645472,1.4170030605846247,1.4251009704341397,0.2314084207980711,1.2069453075462588,1.1676404982153477,1.4023220377531245,1.2246231312401894,0.20111475992960182,0.37761997553392324,1.1002491241367567,1.4077262507392985,1.0056338876210256,0.7446699009578983,1.4559543310830236,1.0064861161752081,0.41523282226550007,0.998233469401592,1.2032460664859104,0.30837826739551044,0.6106856808157116,1.4620689405572653,1.062934128799256,1.1351664665609726,0.5812554816899287,0.6540858125145207,1.365972688090525,1.0350231755672914,1.2433992224844448,1.2130626698399254,1.3529927961623134,0.9328583566030408,1.5265786380337758,1.2228427104229793,0.9676420498410393,0.636896955706667,0.5348743875719969,1.3096586530690795,0.9518557390357583,1.105987173942193,0.33922664699468585,0.4137870027516377,1.4543705218715597,1.3188497191327384,1.0831963844626453,0.5160327581213813,0.5974523446598646,1.3889100436245365,0.8423863650575859,0.732874002504805,0.9827358143606304,0.7217278878164137,1.5294458972867022,0.9680925607044955,1.2029576614444506,0.663170984685969,1.1417335700067404,1.1330843524024412,0.6878739040754007,1.5999603396159894,1.2394501804151197,0.9242342456878949,-0.04079361909244206,0.983594431697444,0.985139875492642,1.4083746586309471,1.0705717000593407,1.5256167785881245,0.8985259900236567,0.45059177434297804,1.6228426616174563,1.0834593229160772,1.4920403408005118,1.1370509177176138,1.1043862947941019,1.1003790712924062,0.7946987834995312,1.3384070666841121,0.9526482878791189,0.8332278436183562,0.9747787972021512,0.6709619877366055,0.9218313301308071,0.9727589478037174,1.170471916569093,1.5059624939302898,0.49695980735684087,0.6610144873194269,0.7011565615963999,0.07478204297654101,0.941114028844963,1.0241230486255313,0.6015651682754897,0.8881927090197247,1.068398932300699,1.7927991171102309,1.1977722266318522,0.46873015705616594,0.8016403505656244,1.4815229031347565,1.8950580803273347,1.0358846743457464,0.9532916096074714,1.104413234310812,0.5585635691549498,0.762163030851769,0.42095954131575186,0.7652988153127855,0.5318709033388003,1.595690287629019,1.1327347167388877,1.2948934128425684,1.0816127489134952,1.7710964603879833,1.1994126915058474,1.3176068250347077,0.8405307594528545,0.5916383915751757,0.6858116646487381,1.2234955643624488,0.5567114336966055,1.4353761762754984,0.8918790375522453,1.2168441831216381,0.6991874125144794,1.0172021904965889,0.8260422567817839,0.7381093655090856,0.6406299425247224,1.4490473687555196,1.0319890001306449,0.965460870313225,0.9116306657322548,1.295019592636103,1.2407966356860967,0.9106823004560773,0.4341978107407206,1.2512717311920083,1.3198057553917373,1.3850748777629167,0.6164614335860222,1.256811629916303,1.640890440735933,1.2840796536345418,1.1888191092933162,1.4594518833327383,0.6282924506683742,1.5120412543436375,1.1623300258687053,1.1930353437969052,0.9222090541365224,1.0929982387920367,0.8172226775739069,0.9900869897649637,0.9558758297814629,1.199483718578505,1.7076344448052927,1.1828158630609822,1.494883322743625,1.087136996566688,0.6612512919424807,1.4834600083060314,1.7274734812935266,0.656383924717826,1.4118251307350524,1.0107568281334687,0.8583340511873782,0.8115088375834829,1.149321089871845,0.7503699233372256,0.9305208468697236,0.20905066462205946,0.6684317621257845,1.1501729126107052,0.9757063831028618,1.4945866475378975,1.1957104371622223,0.8549817809364022,0.7734399304148389,0.5454306449743045,1.0047424007059127,1.1502720030956115,1.4573226325537174,0.7420957673772488,1.4127054853880234,1.0106005180794806,1.3257642249933292,0.33578066377090043,1.0257672814686534,0.8880020383842507,0.8201262327436948,1.3381745963916285,0.5114860091699454,1.2313197774090554,0.8171991142690668,0.8696341817425168,0.9145798598686437,1.3809556958751228,1.2664781546050412,0.8900129482380612,1.2964237595001633,1.5497017453641297,0.5929024773803786,1.2361354750387417,0.9001576154527858,1.4192799847956756,0.6768157106936429,0.1060687549028081,1.3614033432934023,0.7607290941578609,1.0502442103302299,1.385830193506051,1.5126951073352595,1.1708732884965312,0.6137246714121846,1.3646477834380084,1.5214670946413869,0.8406681269913812,1.209687955863628,1.129091039133992,0.48405124039097414,1.3565966874879059,1.1626481484818594,0.44415939612836,1.3025606042393663,0.6690709069452399,1.3523411376253107,1.0512309233335515,1.5007109211894183,0.7587046227929646,0.9138146350924999,0.8313862795560116,1.849872436715637,0.731093394399264,1.0004592351439345,1.0571557992285996,0.7915106358547453,1.2325679005427994,1.1144433339273265,0.9721900149160924,0.887329534434942,1.5118870859301556,0.3089960293432902,0.956005419789227,1.7645238373953682,0.4371379964574329,0.772833211753403,1.0304395134663389,1.0847540613650521,1.3647221661638573],\"xaxis\":\"x\",\"y\":[\"My theoretical sample\",\"My theoretical sample\",\"My theoretical sample\",\"My theoretical sample\",\"My theoretical sample\",\"My theoretical sample\",\"My theoretical sample\",\"My theoretical sample\",\"My theoretical sample\",\"My theoretical sample\",\"My theoretical sample\",\"My theoretical sample\",\"My theoretical sample\",\"My theoretical sample\",\"My theoretical sample\",\"My theoretical sample\",\"My theoretical sample\",\"My theoretical sample\",\"My theoretical sample\",\"My theoretical sample\",\"My theoretical sample\",\"My theoretical sample\",\"My theoretical sample\",\"My theoretical sample\",\"My theoretical sample\",\"My theoretical sample\",\"My theoretical sample\",\"My theoretical sample\",\"My theoretical sample\",\"My theoretical sample\",\"My theoretical sample\",\"My theoretical sample\",\"My theoretical sample\",\"My theoretical sample\",\"My theoretical sample\",\"My theoretical sample\",\"My theoretical sample\",\"My theoretical sample\",\"My theoretical sample\",\"My theoretical sample\",\"My theoretical sample\",\"My theoretical sample\",\"My theoretical sample\",\"My theoretical sample\",\"My theoretical sample\",\"My theoretical sample\",\"My theoretical sample\",\"My theoretical sample\",\"My theoretical sample\",\"My theoretical sample\",\"My theoretical sample\",\"My theoretical sample\",\"My theoretical sample\",\"My theoretical sample\",\"My theoretical sample\",\"My theoretical sample\",\"My theoretical sample\",\"My theoretical sample\",\"My theoretical sample\",\"My theoretical sample\",\"My theoretical sample\",\"My theoretical sample\",\"My theoretical sample\",\"My theoretical sample\",\"My theoretical sample\",\"My theoretical sample\",\"My theoretical sample\",\"My theoretical sample\",\"My theoretical sample\",\"My theoretical sample\",\"My theoretical sample\",\"My theoretical sample\",\"My theoretical sample\",\"My theoretical sample\",\"My theoretical sample\",\"My theoretical sample\",\"My theoretical sample\",\"My theoretical sample\",\"My theoretical sample\",\"My theoretical sample\",\"My theoretical sample\",\"My theoretical sample\",\"My theoretical sample\",\"My theoretical sample\",\"My theoretical sample\",\"My theoretical sample\",\"My theoretical sample\",\"My theoretical sample\",\"My theoretical sample\",\"My theoretical sample\",\"My theoretical sample\",\"My theoretical sample\",\"My theoretical sample\",\"My theoretical sample\",\"My theoretical sample\",\"My theoretical sample\",\"My theoretical sample\",\"My theoretical sample\",\"My theoretical sample\",\"My theoretical sample\",\"My theoretical sample\",\"My theoretical sample\",\"My theoretical sample\",\"My theoretical sample\",\"My theoretical sample\",\"My theoretical sample\",\"My theoretical sample\",\"My theoretical sample\",\"My theoretical sample\",\"My theoretical sample\",\"My theoretical sample\",\"My theoretical sample\",\"My theoretical sample\",\"My theoretical sample\",\"My theoretical sample\",\"My theoretical sample\",\"My theoretical sample\",\"My theoretical sample\",\"My theoretical sample\",\"My theoretical sample\",\"My theoretical sample\",\"My theoretical sample\",\"My theoretical sample\",\"My theoretical sample\",\"My theoretical sample\",\"My theoretical sample\",\"My theoretical sample\",\"My theoretical sample\",\"My theoretical sample\",\"My theoretical sample\",\"My theoretical sample\",\"My theoretical sample\",\"My theoretical sample\",\"My theoretical sample\",\"My theoretical sample\",\"My theoretical sample\",\"My theoretical sample\",\"My theoretical sample\",\"My theoretical sample\",\"My theoretical sample\",\"My theoretical sample\",\"My theoretical sample\",\"My theoretical sample\",\"My theoretical sample\",\"My theoretical sample\",\"My theoretical sample\",\"My theoretical sample\",\"My theoretical sample\",\"My theoretical sample\",\"My theoretical sample\",\"My theoretical sample\",\"My theoretical sample\",\"My theoretical sample\",\"My theoretical sample\",\"My theoretical sample\",\"My theoretical sample\",\"My theoretical sample\",\"My theoretical sample\",\"My theoretical sample\",\"My theoretical sample\",\"My theoretical sample\",\"My theoretical sample\",\"My theoretical sample\",\"My theoretical sample\",\"My theoretical sample\",\"My theoretical sample\",\"My theoretical sample\",\"My theoretical sample\",\"My theoretical sample\",\"My theoretical sample\",\"My theoretical sample\",\"My theoretical sample\",\"My theoretical sample\",\"My theoretical sample\",\"My theoretical sample\",\"My theoretical sample\",\"My theoretical sample\",\"My theoretical sample\",\"My theoretical sample\",\"My theoretical sample\",\"My theoretical sample\",\"My theoretical sample\",\"My theoretical sample\",\"My theoretical sample\",\"My theoretical sample\",\"My theoretical sample\",\"My theoretical sample\",\"My theoretical sample\",\"My theoretical sample\",\"My theoretical sample\",\"My theoretical sample\",\"My theoretical sample\",\"My theoretical sample\",\"My theoretical sample\",\"My theoretical sample\",\"My theoretical sample\",\"My theoretical sample\",\"My theoretical sample\",\"My theoretical sample\",\"My theoretical sample\",\"My theoretical sample\",\"My theoretical sample\",\"My theoretical sample\",\"My theoretical sample\",\"My theoretical sample\",\"My theoretical sample\",\"My theoretical sample\",\"My theoretical sample\",\"My theoretical sample\",\"My theoretical sample\",\"My theoretical sample\",\"My theoretical sample\",\"My theoretical sample\",\"My theoretical sample\",\"My theoretical sample\",\"My theoretical sample\",\"My theoretical sample\",\"My theoretical sample\",\"My theoretical sample\",\"My theoretical sample\",\"My theoretical sample\",\"My theoretical sample\",\"My theoretical sample\",\"My theoretical sample\",\"My theoretical sample\",\"My theoretical sample\",\"My theoretical sample\",\"My theoretical sample\",\"My theoretical sample\",\"My theoretical sample\",\"My theoretical sample\",\"My theoretical sample\",\"My theoretical sample\",\"My theoretical sample\",\"My theoretical sample\",\"My theoretical sample\",\"My theoretical sample\",\"My theoretical sample\",\"My theoretical sample\",\"My theoretical sample\",\"My theoretical sample\",\"My theoretical sample\",\"My theoretical sample\",\"My theoretical sample\",\"My theoretical sample\",\"My theoretical sample\",\"My theoretical sample\",\"My theoretical sample\",\"My theoretical sample\",\"My theoretical sample\",\"My theoretical sample\",\"My theoretical sample\",\"My theoretical sample\",\"My theoretical sample\",\"My theoretical sample\",\"My theoretical sample\",\"My theoretical sample\",\"My theoretical sample\",\"My theoretical sample\",\"My theoretical sample\",\"My theoretical sample\",\"My theoretical sample\",\"My theoretical sample\",\"My theoretical sample\",\"My theoretical sample\",\"My theoretical sample\",\"My theoretical sample\",\"My theoretical sample\",\"My theoretical sample\",\"My theoretical sample\",\"My theoretical sample\",\"My theoretical sample\",\"My theoretical sample\",\"My theoretical sample\",\"My theoretical sample\",\"My theoretical sample\",\"My theoretical sample\",\"My theoretical sample\",\"My theoretical sample\",\"My theoretical sample\",\"My theoretical sample\",\"My theoretical sample\",\"My theoretical sample\",\"My theoretical sample\",\"My theoretical sample\",\"My theoretical sample\",\"My theoretical sample\",\"My theoretical sample\",\"My theoretical sample\",\"My theoretical sample\",\"My theoretical sample\",\"My theoretical sample\",\"My theoretical sample\",\"My theoretical sample\",\"My theoretical sample\",\"My theoretical sample\",\"My theoretical sample\",\"My theoretical sample\",\"My theoretical sample\",\"My theoretical sample\",\"My theoretical sample\",\"My theoretical sample\",\"My theoretical sample\",\"My theoretical sample\",\"My theoretical sample\",\"My theoretical sample\",\"My theoretical sample\",\"My theoretical sample\",\"My theoretical sample\",\"My theoretical sample\",\"My theoretical sample\",\"My theoretical sample\",\"My theoretical sample\",\"My theoretical sample\",\"My theoretical sample\",\"My theoretical sample\",\"My theoretical sample\",\"My theoretical sample\",\"My theoretical sample\"],\"yaxis\":\"y2\",\"type\":\"scatter\"},{\"legendgroup\":\"My actually observed sample\",\"marker\":{\"color\":\"rgb(255, 127, 14)\",\"symbol\":\"line-ns-open\"},\"mode\":\"markers\",\"name\":\"My actually observed sample\",\"showlegend\":false,\"x\":[0.8,0.7,0.3,1.6,1.4,1.7,1.2,0.8,1.1,1.7,1.5,1.3,1.0,0.8,1.0,0.5,0.8,0.6,0.7,0.5,1.2,0.5,0.8,1.4,0.7,1.2,1.1,1.0,0.9,0.6,0.9,1.8,0.4,0.5,0.4,0.9,0.6,0.8,0.5,0.4,0.2,1.1,1.0,0.7,0.8,0.4,1.5,1.0,1.4,1.3,0.9,1.5,0.9,0.9,0.1,1.2,0.6,0.8,0.6,1.2,1.2,0.8,0.8,0.8,1.6,0.8,1.6,1.0,1.0,0.8,0.8,0.5,0.7,0.7,0.7,0.7,1.0,0.9,1.1,0.6,0.8,1.4,1.7,1.5,0.9,0.3,0.8,1.0,0.9,1.2,1.2,0.9,1.8,0.9,0.4,0.9,0.6,0.5,0.5,1.0,0.8,1.5,1.4,0.4,2.1,0.6,0.2,0.5,1.1,1.8,0.6,0.6,0.8,0.9,1.1,1.2,0.6,0.7,1.0,1.0,0.6,0.9,1.2,0.6,1.4,0.5,1.0,0.6,0.9,1.4,1.1,1.0,2.0,1.0,1.5,0.6,1.0,1.2,1.0,0.7,0.7,0.8,0.6,0.7,1.0,0.4,0.9,1.5,1.0,0.7,0.7,0.9,0.7,1.1,0.4,0.4,1.2,0.6,0.6,0.5,0.7,0.7,1.2,1.5,1.0,1.0,1.4,1.1,0.4,0.8,1.3,1.0,1.0,0.6,1.2,0.8,1.0,0.7,0.9,0.7,0.9,1.2,1.3,0.7,0.6,1.1,0.6,1.0,0.8,0.8,1.4,0.5,1.6,0.5,0.4,1.2,0.6,0.5,0.5,0.6,0.8,0.9,1.4,0.7,0.8,0.9,0.5,0.7,0.4,0.9,1.2,1.3,0.9,0.3,0.4,1.7,1.0,0.7,0.4,0.4,0.9,0.6,1.3,1.0,1.6,0.5,0.6,0.6,0.7,0.7,1.5,1.1,0.5,0.4,1.4,0.8,0.7,0.5,0.5,0.7,1.1,0.9,0.8,0.5,0.8,1.2,1.2,0.8,1.0,0.8,1.6,1.4,0.5,1.0,0.8,1.2,1.2,0.8,0.6,0.6,1.3,0.7,0.5,0.4,1.5,1.2,0.8,0.5,1.1,0.5,1.5,0.6,1.0,0.9,0.5,1.0,1.0,0.3,0.6,0.8,1.5,1.0,0.8,1.0,0.6,0.5,1.2,0.7,1.1,0.7,1.2,1.3,1.5,1.7,0.5,0.7,0.7,0.4,1.0,1.0,1.7,1.3,1.4,0.4,0.8,0.5,0.8,1.4,1.7,0.9,0.7,0.9,1.0,0.5,1.1,0.7,0.7,0.9,1.0],\"xaxis\":\"x\",\"y\":[\"My actually observed sample\",\"My actually observed sample\",\"My actually observed sample\",\"My actually observed sample\",\"My actually observed sample\",\"My actually observed sample\",\"My actually observed sample\",\"My actually observed sample\",\"My actually observed sample\",\"My actually observed sample\",\"My actually observed sample\",\"My actually observed sample\",\"My actually observed sample\",\"My actually observed sample\",\"My actually observed sample\",\"My actually observed sample\",\"My actually observed sample\",\"My actually observed sample\",\"My actually observed sample\",\"My actually observed sample\",\"My actually observed sample\",\"My actually observed sample\",\"My actually observed sample\",\"My actually observed sample\",\"My actually observed sample\",\"My actually observed sample\",\"My actually observed sample\",\"My actually observed sample\",\"My actually observed sample\",\"My actually observed sample\",\"My actually observed sample\",\"My actually observed sample\",\"My actually observed sample\",\"My actually observed sample\",\"My actually observed sample\",\"My actually observed sample\",\"My actually observed sample\",\"My actually observed sample\",\"My actually observed sample\",\"My actually observed sample\",\"My actually observed sample\",\"My actually observed sample\",\"My actually observed sample\",\"My actually observed sample\",\"My actually observed sample\",\"My actually observed sample\",\"My actually observed sample\",\"My actually observed sample\",\"My actually observed sample\",\"My actually observed sample\",\"My actually observed sample\",\"My actually observed sample\",\"My actually observed sample\",\"My actually observed sample\",\"My actually observed sample\",\"My actually observed sample\",\"My actually observed sample\",\"My actually observed sample\",\"My actually observed sample\",\"My actually observed sample\",\"My actually observed sample\",\"My actually observed sample\",\"My actually observed sample\",\"My actually observed sample\",\"My actually observed sample\",\"My actually observed sample\",\"My actually observed sample\",\"My actually observed sample\",\"My actually observed sample\",\"My actually observed sample\",\"My actually observed sample\",\"My actually observed sample\",\"My actually observed sample\",\"My actually observed sample\",\"My actually observed sample\",\"My actually observed sample\",\"My actually observed sample\",\"My actually observed sample\",\"My actually observed sample\",\"My actually observed sample\",\"My actually observed sample\",\"My actually observed sample\",\"My actually observed sample\",\"My actually observed sample\",\"My actually observed sample\",\"My actually observed sample\",\"My actually observed sample\",\"My actually observed sample\",\"My actually observed sample\",\"My actually observed sample\",\"My actually observed sample\",\"My actually observed sample\",\"My actually observed sample\",\"My actually observed sample\",\"My actually observed sample\",\"My actually observed sample\",\"My actually observed sample\",\"My actually observed sample\",\"My actually observed sample\",\"My actually observed sample\",\"My actually observed sample\",\"My actually observed sample\",\"My actually observed sample\",\"My actually observed sample\",\"My actually observed sample\",\"My actually observed sample\",\"My actually observed sample\",\"My actually observed sample\",\"My actually observed sample\",\"My actually observed sample\",\"My actually observed sample\",\"My actually observed sample\",\"My actually observed sample\",\"My actually observed sample\",\"My actually observed sample\",\"My actually observed sample\",\"My actually observed sample\",\"My actually observed sample\",\"My actually observed sample\",\"My actually observed sample\",\"My actually observed sample\",\"My actually observed sample\",\"My actually observed sample\",\"My actually observed sample\",\"My actually observed sample\",\"My actually observed sample\",\"My actually observed sample\",\"My actually observed sample\",\"My actually observed sample\",\"My actually observed sample\",\"My actually observed sample\",\"My actually observed sample\",\"My actually observed sample\",\"My actually observed sample\",\"My actually observed sample\",\"My actually observed sample\",\"My actually observed sample\",\"My actually observed sample\",\"My actually observed sample\",\"My actually observed sample\",\"My actually observed sample\",\"My actually observed sample\",\"My actually observed sample\",\"My actually observed sample\",\"My actually observed sample\",\"My actually observed sample\",\"My actually observed sample\",\"My actually observed sample\",\"My actually observed sample\",\"My actually observed sample\",\"My actually observed sample\",\"My actually observed sample\",\"My actually observed sample\",\"My actually observed sample\",\"My actually observed sample\",\"My actually observed sample\",\"My actually observed sample\",\"My actually observed sample\",\"My actually observed sample\",\"My actually observed sample\",\"My actually observed sample\",\"My actually observed sample\",\"My actually observed sample\",\"My actually observed sample\",\"My actually observed sample\",\"My actually observed sample\",\"My actually observed sample\",\"My actually observed sample\",\"My actually observed sample\",\"My actually observed sample\",\"My actually observed sample\",\"My actually observed sample\",\"My actually observed sample\",\"My actually observed sample\",\"My actually observed sample\",\"My actually observed sample\",\"My actually observed sample\",\"My actually observed sample\",\"My actually observed sample\",\"My actually observed sample\",\"My actually observed sample\",\"My actually observed sample\",\"My actually observed sample\",\"My actually observed sample\",\"My actually observed sample\",\"My actually observed sample\",\"My actually observed sample\",\"My actually observed sample\",\"My actually observed sample\",\"My actually observed sample\",\"My actually observed sample\",\"My actually observed sample\",\"My actually observed sample\",\"My actually observed sample\",\"My actually observed sample\",\"My actually observed sample\",\"My actually observed sample\",\"My actually observed sample\",\"My actually observed sample\",\"My actually observed sample\",\"My actually observed sample\",\"My actually observed sample\",\"My actually observed sample\",\"My actually observed sample\",\"My actually observed sample\",\"My actually observed sample\",\"My actually observed sample\",\"My actually observed sample\",\"My actually observed sample\",\"My actually observed sample\",\"My actually observed sample\",\"My actually observed sample\",\"My actually observed sample\",\"My actually observed sample\",\"My actually observed sample\",\"My actually observed sample\",\"My actually observed sample\",\"My actually observed sample\",\"My actually observed sample\",\"My actually observed sample\",\"My actually observed sample\",\"My actually observed sample\",\"My actually observed sample\",\"My actually observed sample\",\"My actually observed sample\",\"My actually observed sample\",\"My actually observed sample\",\"My actually observed sample\",\"My actually observed sample\",\"My actually observed sample\",\"My actually observed sample\",\"My actually observed sample\",\"My actually observed sample\",\"My actually observed sample\",\"My actually observed sample\",\"My actually observed sample\",\"My actually observed sample\",\"My actually observed sample\",\"My actually observed sample\",\"My actually observed sample\",\"My actually observed sample\",\"My actually observed sample\",\"My actually observed sample\",\"My actually observed sample\",\"My actually observed sample\",\"My actually observed sample\",\"My actually observed sample\",\"My actually observed sample\",\"My actually observed sample\",\"My actually observed sample\",\"My actually observed sample\",\"My actually observed sample\",\"My actually observed sample\",\"My actually observed sample\",\"My actually observed sample\",\"My actually observed sample\",\"My actually observed sample\",\"My actually observed sample\",\"My actually observed sample\",\"My actually observed sample\",\"My actually observed sample\",\"My actually observed sample\",\"My actually observed sample\",\"My actually observed sample\",\"My actually observed sample\",\"My actually observed sample\",\"My actually observed sample\",\"My actually observed sample\",\"My actually observed sample\",\"My actually observed sample\",\"My actually observed sample\",\"My actually observed sample\",\"My actually observed sample\",\"My actually observed sample\",\"My actually observed sample\",\"My actually observed sample\",\"My actually observed sample\",\"My actually observed sample\",\"My actually observed sample\",\"My actually observed sample\",\"My actually observed sample\",\"My actually observed sample\",\"My actually observed sample\",\"My actually observed sample\",\"My actually observed sample\",\"My actually observed sample\",\"My actually observed sample\",\"My actually observed sample\",\"My actually observed sample\",\"My actually observed sample\",\"My actually observed sample\",\"My actually observed sample\",\"My actually observed sample\",\"My actually observed sample\",\"My actually observed sample\",\"My actually observed sample\",\"My actually observed sample\",\"My actually observed sample\",\"My actually observed sample\",\"My actually observed sample\",\"My actually observed sample\",\"My actually observed sample\",\"My actually observed sample\",\"My actually observed sample\",\"My actually observed sample\",\"My actually observed sample\",\"My actually observed sample\",\"My actually observed sample\",\"My actually observed sample\",\"My actually observed sample\",\"My actually observed sample\",\"My actually observed sample\",\"My actually observed sample\",\"My actually observed sample\",\"My actually observed sample\",\"My actually observed sample\",\"My actually observed sample\",\"My actually observed sample\",\"My actually observed sample\"],\"yaxis\":\"y2\",\"type\":\"scatter\"}],                        {\"barmode\":\"overlay\",\"hovermode\":\"closest\",\"legend\":{\"traceorder\":\"reversed\"},\"xaxis\":{\"anchor\":\"y2\",\"domain\":[0.0,1.0],\"zeroline\":false},\"yaxis\":{\"anchor\":\"free\",\"domain\":[0.35,1],\"position\":0.0},\"yaxis2\":{\"anchor\":\"x\",\"domain\":[0,0.25],\"dtick\":1,\"showticklabels\":false},\"template\":{\"data\":{\"histogram2dcontour\":[{\"type\":\"histogram2dcontour\",\"colorbar\":{\"outlinewidth\":0,\"ticks\":\"\"},\"colorscale\":[[0.0,\"#0d0887\"],[0.1111111111111111,\"#46039f\"],[0.2222222222222222,\"#7201a8\"],[0.3333333333333333,\"#9c179e\"],[0.4444444444444444,\"#bd3786\"],[0.5555555555555556,\"#d8576b\"],[0.6666666666666666,\"#ed7953\"],[0.7777777777777778,\"#fb9f3a\"],[0.8888888888888888,\"#fdca26\"],[1.0,\"#f0f921\"]]}],\"choropleth\":[{\"type\":\"choropleth\",\"colorbar\":{\"outlinewidth\":0,\"ticks\":\"\"}}],\"histogram2d\":[{\"type\":\"histogram2d\",\"colorbar\":{\"outlinewidth\":0,\"ticks\":\"\"},\"colorscale\":[[0.0,\"#0d0887\"],[0.1111111111111111,\"#46039f\"],[0.2222222222222222,\"#7201a8\"],[0.3333333333333333,\"#9c179e\"],[0.4444444444444444,\"#bd3786\"],[0.5555555555555556,\"#d8576b\"],[0.6666666666666666,\"#ed7953\"],[0.7777777777777778,\"#fb9f3a\"],[0.8888888888888888,\"#fdca26\"],[1.0,\"#f0f921\"]]}],\"heatmap\":[{\"type\":\"heatmap\",\"colorbar\":{\"outlinewidth\":0,\"ticks\":\"\"},\"colorscale\":[[0.0,\"#0d0887\"],[0.1111111111111111,\"#46039f\"],[0.2222222222222222,\"#7201a8\"],[0.3333333333333333,\"#9c179e\"],[0.4444444444444444,\"#bd3786\"],[0.5555555555555556,\"#d8576b\"],[0.6666666666666666,\"#ed7953\"],[0.7777777777777778,\"#fb9f3a\"],[0.8888888888888888,\"#fdca26\"],[1.0,\"#f0f921\"]]}],\"heatmapgl\":[{\"type\":\"heatmapgl\",\"colorbar\":{\"outlinewidth\":0,\"ticks\":\"\"},\"colorscale\":[[0.0,\"#0d0887\"],[0.1111111111111111,\"#46039f\"],[0.2222222222222222,\"#7201a8\"],[0.3333333333333333,\"#9c179e\"],[0.4444444444444444,\"#bd3786\"],[0.5555555555555556,\"#d8576b\"],[0.6666666666666666,\"#ed7953\"],[0.7777777777777778,\"#fb9f3a\"],[0.8888888888888888,\"#fdca26\"],[1.0,\"#f0f921\"]]}],\"contourcarpet\":[{\"type\":\"contourcarpet\",\"colorbar\":{\"outlinewidth\":0,\"ticks\":\"\"}}],\"contour\":[{\"type\":\"contour\",\"colorbar\":{\"outlinewidth\":0,\"ticks\":\"\"},\"colorscale\":[[0.0,\"#0d0887\"],[0.1111111111111111,\"#46039f\"],[0.2222222222222222,\"#7201a8\"],[0.3333333333333333,\"#9c179e\"],[0.4444444444444444,\"#bd3786\"],[0.5555555555555556,\"#d8576b\"],[0.6666666666666666,\"#ed7953\"],[0.7777777777777778,\"#fb9f3a\"],[0.8888888888888888,\"#fdca26\"],[1.0,\"#f0f921\"]]}],\"surface\":[{\"type\":\"surface\",\"colorbar\":{\"outlinewidth\":0,\"ticks\":\"\"},\"colorscale\":[[0.0,\"#0d0887\"],[0.1111111111111111,\"#46039f\"],[0.2222222222222222,\"#7201a8\"],[0.3333333333333333,\"#9c179e\"],[0.4444444444444444,\"#bd3786\"],[0.5555555555555556,\"#d8576b\"],[0.6666666666666666,\"#ed7953\"],[0.7777777777777778,\"#fb9f3a\"],[0.8888888888888888,\"#fdca26\"],[1.0,\"#f0f921\"]]}],\"mesh3d\":[{\"type\":\"mesh3d\",\"colorbar\":{\"outlinewidth\":0,\"ticks\":\"\"}}],\"scatter\":[{\"fillpattern\":{\"fillmode\":\"overlay\",\"size\":10,\"solidity\":0.2},\"type\":\"scatter\"}],\"parcoords\":[{\"type\":\"parcoords\",\"line\":{\"colorbar\":{\"outlinewidth\":0,\"ticks\":\"\"}}}],\"scatterpolargl\":[{\"type\":\"scatterpolargl\",\"marker\":{\"colorbar\":{\"outlinewidth\":0,\"ticks\":\"\"}}}],\"bar\":[{\"error_x\":{\"color\":\"#2a3f5f\"},\"error_y\":{\"color\":\"#2a3f5f\"},\"marker\":{\"line\":{\"color\":\"#E5ECF6\",\"width\":0.5},\"pattern\":{\"fillmode\":\"overlay\",\"size\":10,\"solidity\":0.2}},\"type\":\"bar\"}],\"scattergeo\":[{\"type\":\"scattergeo\",\"marker\":{\"colorbar\":{\"outlinewidth\":0,\"ticks\":\"\"}}}],\"scatterpolar\":[{\"type\":\"scatterpolar\",\"marker\":{\"colorbar\":{\"outlinewidth\":0,\"ticks\":\"\"}}}],\"histogram\":[{\"marker\":{\"pattern\":{\"fillmode\":\"overlay\",\"size\":10,\"solidity\":0.2}},\"type\":\"histogram\"}],\"scattergl\":[{\"type\":\"scattergl\",\"marker\":{\"colorbar\":{\"outlinewidth\":0,\"ticks\":\"\"}}}],\"scatter3d\":[{\"type\":\"scatter3d\",\"line\":{\"colorbar\":{\"outlinewidth\":0,\"ticks\":\"\"}},\"marker\":{\"colorbar\":{\"outlinewidth\":0,\"ticks\":\"\"}}}],\"scattermapbox\":[{\"type\":\"scattermapbox\",\"marker\":{\"colorbar\":{\"outlinewidth\":0,\"ticks\":\"\"}}}],\"scatterternary\":[{\"type\":\"scatterternary\",\"marker\":{\"colorbar\":{\"outlinewidth\":0,\"ticks\":\"\"}}}],\"scattercarpet\":[{\"type\":\"scattercarpet\",\"marker\":{\"colorbar\":{\"outlinewidth\":0,\"ticks\":\"\"}}}],\"carpet\":[{\"aaxis\":{\"endlinecolor\":\"#2a3f5f\",\"gridcolor\":\"white\",\"linecolor\":\"white\",\"minorgridcolor\":\"white\",\"startlinecolor\":\"#2a3f5f\"},\"baxis\":{\"endlinecolor\":\"#2a3f5f\",\"gridcolor\":\"white\",\"linecolor\":\"white\",\"minorgridcolor\":\"white\",\"startlinecolor\":\"#2a3f5f\"},\"type\":\"carpet\"}],\"table\":[{\"cells\":{\"fill\":{\"color\":\"#EBF0F8\"},\"line\":{\"color\":\"white\"}},\"header\":{\"fill\":{\"color\":\"#C8D4E3\"},\"line\":{\"color\":\"white\"}},\"type\":\"table\"}],\"barpolar\":[{\"marker\":{\"line\":{\"color\":\"#E5ECF6\",\"width\":0.5},\"pattern\":{\"fillmode\":\"overlay\",\"size\":10,\"solidity\":0.2}},\"type\":\"barpolar\"}],\"pie\":[{\"automargin\":true,\"type\":\"pie\"}]},\"layout\":{\"autotypenumbers\":\"strict\",\"colorway\":[\"#636efa\",\"#EF553B\",\"#00cc96\",\"#ab63fa\",\"#FFA15A\",\"#19d3f3\",\"#FF6692\",\"#B6E880\",\"#FF97FF\",\"#FECB52\"],\"font\":{\"color\":\"#2a3f5f\"},\"hovermode\":\"closest\",\"hoverlabel\":{\"align\":\"left\"},\"paper_bgcolor\":\"white\",\"plot_bgcolor\":\"#E5ECF6\",\"polar\":{\"bgcolor\":\"#E5ECF6\",\"angularaxis\":{\"gridcolor\":\"white\",\"linecolor\":\"white\",\"ticks\":\"\"},\"radialaxis\":{\"gridcolor\":\"white\",\"linecolor\":\"white\",\"ticks\":\"\"}},\"ternary\":{\"bgcolor\":\"#E5ECF6\",\"aaxis\":{\"gridcolor\":\"white\",\"linecolor\":\"white\",\"ticks\":\"\"},\"baxis\":{\"gridcolor\":\"white\",\"linecolor\":\"white\",\"ticks\":\"\"},\"caxis\":{\"gridcolor\":\"white\",\"linecolor\":\"white\",\"ticks\":\"\"}},\"coloraxis\":{\"colorbar\":{\"outlinewidth\":0,\"ticks\":\"\"}},\"colorscale\":{\"sequential\":[[0.0,\"#0d0887\"],[0.1111111111111111,\"#46039f\"],[0.2222222222222222,\"#7201a8\"],[0.3333333333333333,\"#9c179e\"],[0.4444444444444444,\"#bd3786\"],[0.5555555555555556,\"#d8576b\"],[0.6666666666666666,\"#ed7953\"],[0.7777777777777778,\"#fb9f3a\"],[0.8888888888888888,\"#fdca26\"],[1.0,\"#f0f921\"]],\"sequentialminus\":[[0.0,\"#0d0887\"],[0.1111111111111111,\"#46039f\"],[0.2222222222222222,\"#7201a8\"],[0.3333333333333333,\"#9c179e\"],[0.4444444444444444,\"#bd3786\"],[0.5555555555555556,\"#d8576b\"],[0.6666666666666666,\"#ed7953\"],[0.7777777777777778,\"#fb9f3a\"],[0.8888888888888888,\"#fdca26\"],[1.0,\"#f0f921\"]],\"diverging\":[[0,\"#8e0152\"],[0.1,\"#c51b7d\"],[0.2,\"#de77ae\"],[0.3,\"#f1b6da\"],[0.4,\"#fde0ef\"],[0.5,\"#f7f7f7\"],[0.6,\"#e6f5d0\"],[0.7,\"#b8e186\"],[0.8,\"#7fbc41\"],[0.9,\"#4d9221\"],[1,\"#276419\"]]},\"xaxis\":{\"gridcolor\":\"white\",\"linecolor\":\"white\",\"ticks\":\"\",\"title\":{\"standoff\":15},\"zerolinecolor\":\"white\",\"automargin\":true,\"zerolinewidth\":2},\"yaxis\":{\"gridcolor\":\"white\",\"linecolor\":\"white\",\"ticks\":\"\",\"title\":{\"standoff\":15},\"zerolinecolor\":\"white\",\"automargin\":true,\"zerolinewidth\":2},\"scene\":{\"xaxis\":{\"backgroundcolor\":\"#E5ECF6\",\"gridcolor\":\"white\",\"linecolor\":\"white\",\"showbackground\":true,\"ticks\":\"\",\"zerolinecolor\":\"white\",\"gridwidth\":2},\"yaxis\":{\"backgroundcolor\":\"#E5ECF6\",\"gridcolor\":\"white\",\"linecolor\":\"white\",\"showbackground\":true,\"ticks\":\"\",\"zerolinecolor\":\"white\",\"gridwidth\":2},\"zaxis\":{\"backgroundcolor\":\"#E5ECF6\",\"gridcolor\":\"white\",\"linecolor\":\"white\",\"showbackground\":true,\"ticks\":\"\",\"zerolinecolor\":\"white\",\"gridwidth\":2}},\"shapedefaults\":{\"line\":{\"color\":\"#2a3f5f\"}},\"annotationdefaults\":{\"arrowcolor\":\"#2a3f5f\",\"arrowhead\":0,\"arrowwidth\":1},\"geo\":{\"bgcolor\":\"white\",\"landcolor\":\"#E5ECF6\",\"subunitcolor\":\"white\",\"showland\":true,\"showlakes\":true,\"lakecolor\":\"white\"},\"title\":{\"x\":0.05},\"mapbox\":{\"style\":\"light\"}}}},                        {\"responsive\": true}                    ).then(function(){\n",
       "                            \n",
       "var gd = document.getElementById('fda30ada-b625-4f9c-8070-4ec015435685');\n",
       "var x = new MutationObserver(function (mutations, observer) {{\n",
       "        var display = window.getComputedStyle(gd).display;\n",
       "        if (!display || display === 'none') {{\n",
       "            console.log([gd, 'removed!']);\n",
       "            Plotly.purge(gd);\n",
       "            observer.disconnect();\n",
       "        }}\n",
       "}});\n",
       "\n",
       "// Listen for the removal of the full notebook cells\n",
       "var notebookContainer = gd.closest('#notebook-container');\n",
       "if (notebookContainer) {{\n",
       "    x.observe(notebookContainer, {childList: true});\n",
       "}}\n",
       "\n",
       "// Listen for the clearing of the current output cell\n",
       "var outputEl = gd.closest('.output');\n",
       "if (outputEl) {{\n",
       "    x.observe(outputEl, {childList: true});\n",
       "}}\n",
       "\n",
       "                        })                };                });            </script>        </div>"
      ]
     },
     "metadata": {},
     "output_type": "display_data"
    }
   ],
   "source": [
    "import plotly.figure_factory as ff\n",
    "\n",
    "hist_data = [my_theoretical_sample, ab_noNaN.Thick]\n",
    "\n",
    "group_labels = ['My theoretical sample', \n",
    "                'My actually observed sample']\n",
    "\n",
    "#(assuming population is N(mu=1, sigma=0.35)\n",
    "fig = ff.create_distplot(hist_data, group_labels, bin_size=.2)\n",
    "fig.show()"
   ]
  },
  {
   "cell_type": "code",
   "execution_count": 34,
   "id": "8fe4a9b6",
   "metadata": {},
   "outputs": [
    {
     "data": {
      "text/html": [
       "<div>\n",
       "<style scoped>\n",
       "    .dataframe tbody tr th:only-of-type {\n",
       "        vertical-align: middle;\n",
       "    }\n",
       "\n",
       "    .dataframe tbody tr th {\n",
       "        vertical-align: top;\n",
       "    }\n",
       "\n",
       "    .dataframe thead th {\n",
       "        text-align: right;\n",
       "    }\n",
       "</style>\n",
       "<table border=\"1\" class=\"dataframe\">\n",
       "  <thead>\n",
       "    <tr style=\"text-align: right;\">\n",
       "      <th></th>\n",
       "      <th>Title</th>\n",
       "      <th>Author</th>\n",
       "      <th>List Price</th>\n",
       "      <th>Amazon Price</th>\n",
       "      <th>Hard_or_Paper</th>\n",
       "      <th>NumPages</th>\n",
       "      <th>Publisher</th>\n",
       "      <th>Pub year</th>\n",
       "      <th>ISBN-10</th>\n",
       "      <th>Thick</th>\n",
       "      <th>my_theoretical_sample</th>\n",
       "    </tr>\n",
       "  </thead>\n",
       "  <tbody>\n",
       "    <tr>\n",
       "      <th>0</th>\n",
       "      <td>1,001 Facts that Will Scare the S#*t Out of Yo...</td>\n",
       "      <td>Cary McNeal</td>\n",
       "      <td>12.95</td>\n",
       "      <td>5.18</td>\n",
       "      <td>P</td>\n",
       "      <td>304</td>\n",
       "      <td>Adams Media</td>\n",
       "      <td>2010</td>\n",
       "      <td>1605506249</td>\n",
       "      <td>0.8</td>\n",
       "      <td>1.106623</td>\n",
       "    </tr>\n",
       "    <tr>\n",
       "      <th>1</th>\n",
       "      <td>21: Bringing Down the House - Movie Tie-In: Th...</td>\n",
       "      <td>Ben Mezrich</td>\n",
       "      <td>15.00</td>\n",
       "      <td>10.20</td>\n",
       "      <td>P</td>\n",
       "      <td>273</td>\n",
       "      <td>Free Press</td>\n",
       "      <td>2008</td>\n",
       "      <td>1416564195</td>\n",
       "      <td>0.7</td>\n",
       "      <td>0.972245</td>\n",
       "    </tr>\n",
       "    <tr>\n",
       "      <th>2</th>\n",
       "      <td>100 Best-Loved Poems (Dover Thrift Editions)</td>\n",
       "      <td>Smith</td>\n",
       "      <td>1.50</td>\n",
       "      <td>1.50</td>\n",
       "      <td>P</td>\n",
       "      <td>96</td>\n",
       "      <td>Dover Publications</td>\n",
       "      <td>1995</td>\n",
       "      <td>486285537</td>\n",
       "      <td>0.3</td>\n",
       "      <td>0.977264</td>\n",
       "    </tr>\n",
       "    <tr>\n",
       "      <th>3</th>\n",
       "      <td>1421: The Year China Discovered America</td>\n",
       "      <td>Gavin Menzies</td>\n",
       "      <td>15.99</td>\n",
       "      <td>10.87</td>\n",
       "      <td>P</td>\n",
       "      <td>672</td>\n",
       "      <td>Harper Perennial</td>\n",
       "      <td>2008</td>\n",
       "      <td>61564893</td>\n",
       "      <td>1.6</td>\n",
       "      <td>1.471118</td>\n",
       "    </tr>\n",
       "    <tr>\n",
       "      <th>4</th>\n",
       "      <td>1493: Uncovering the New World Columbus Created</td>\n",
       "      <td>Charles C. Mann</td>\n",
       "      <td>30.50</td>\n",
       "      <td>16.77</td>\n",
       "      <td>P</td>\n",
       "      <td>720</td>\n",
       "      <td>Knopf</td>\n",
       "      <td>2011</td>\n",
       "      <td>307265722</td>\n",
       "      <td>1.4</td>\n",
       "      <td>1.483449</td>\n",
       "    </tr>\n",
       "    <tr>\n",
       "      <th>...</th>\n",
       "      <td>...</td>\n",
       "      <td>...</td>\n",
       "      <td>...</td>\n",
       "      <td>...</td>\n",
       "      <td>...</td>\n",
       "      <td>...</td>\n",
       "      <td>...</td>\n",
       "      <td>...</td>\n",
       "      <td>...</td>\n",
       "      <td>...</td>\n",
       "      <td>...</td>\n",
       "    </tr>\n",
       "    <tr>\n",
       "      <th>320</th>\n",
       "      <td>Where the Sidewalk Ends</td>\n",
       "      <td>Shel Silverstein</td>\n",
       "      <td>18.99</td>\n",
       "      <td>12.24</td>\n",
       "      <td>H</td>\n",
       "      <td>192</td>\n",
       "      <td>HarperCollins</td>\n",
       "      <td>2004</td>\n",
       "      <td>60572345</td>\n",
       "      <td>1.1</td>\n",
       "      <td>0.437138</td>\n",
       "    </tr>\n",
       "    <tr>\n",
       "      <th>321</th>\n",
       "      <td>White Privilege</td>\n",
       "      <td>Paula S. Rothenberg</td>\n",
       "      <td>27.55</td>\n",
       "      <td>27.55</td>\n",
       "      <td>P</td>\n",
       "      <td>160</td>\n",
       "      <td>Worth Publishers</td>\n",
       "      <td>2011</td>\n",
       "      <td>1429233443</td>\n",
       "      <td>0.7</td>\n",
       "      <td>0.772833</td>\n",
       "    </tr>\n",
       "    <tr>\n",
       "      <th>322</th>\n",
       "      <td>Why I wore lipstick</td>\n",
       "      <td>Geralyn Lucas</td>\n",
       "      <td>12.95</td>\n",
       "      <td>5.18</td>\n",
       "      <td>P</td>\n",
       "      <td>224</td>\n",
       "      <td>St Martin's Griffin</td>\n",
       "      <td>2005</td>\n",
       "      <td>031233446X</td>\n",
       "      <td>0.7</td>\n",
       "      <td>1.030440</td>\n",
       "    </tr>\n",
       "    <tr>\n",
       "      <th>323</th>\n",
       "      <td>Worlds Together, Worlds Apart: A History of th...</td>\n",
       "      <td>Robert Tignor</td>\n",
       "      <td>97.50</td>\n",
       "      <td>97.50</td>\n",
       "      <td>P</td>\n",
       "      <td>480</td>\n",
       "      <td>W. W. Norton &amp; Company</td>\n",
       "      <td>2010</td>\n",
       "      <td>393934942</td>\n",
       "      <td>0.9</td>\n",
       "      <td>1.084754</td>\n",
       "    </tr>\n",
       "    <tr>\n",
       "      <th>324</th>\n",
       "      <td>Wuthering Heights</td>\n",
       "      <td>Emily Bronte</td>\n",
       "      <td>16.99</td>\n",
       "      <td>4.95</td>\n",
       "      <td>P</td>\n",
       "      <td>344</td>\n",
       "      <td>CreatSpace</td>\n",
       "      <td>2011</td>\n",
       "      <td>1463533411</td>\n",
       "      <td>1.0</td>\n",
       "      <td>1.364722</td>\n",
       "    </tr>\n",
       "  </tbody>\n",
       "</table>\n",
       "<p>319 rows × 11 columns</p>\n",
       "</div>"
      ],
      "text/plain": [
       "                                                 Title               Author  \\\n",
       "0    1,001 Facts that Will Scare the S#*t Out of Yo...          Cary McNeal   \n",
       "1    21: Bringing Down the House - Movie Tie-In: Th...          Ben Mezrich   \n",
       "2         100 Best-Loved Poems (Dover Thrift Editions)                Smith   \n",
       "3              1421: The Year China Discovered America        Gavin Menzies   \n",
       "4      1493: Uncovering the New World Columbus Created      Charles C. Mann   \n",
       "..                                                 ...                  ...   \n",
       "320                            Where the Sidewalk Ends     Shel Silverstein   \n",
       "321                                    White Privilege  Paula S. Rothenberg   \n",
       "322                                Why I wore lipstick        Geralyn Lucas   \n",
       "323  Worlds Together, Worlds Apart: A History of th...        Robert Tignor   \n",
       "324                                  Wuthering Heights         Emily Bronte   \n",
       "\n",
       "     List Price  Amazon Price Hard_or_Paper  NumPages               Publisher  \\\n",
       "0         12.95          5.18             P       304             Adams Media   \n",
       "1         15.00         10.20             P       273              Free Press   \n",
       "2          1.50          1.50             P        96      Dover Publications   \n",
       "3         15.99         10.87             P       672        Harper Perennial   \n",
       "4         30.50         16.77             P       720                   Knopf   \n",
       "..          ...           ...           ...       ...                     ...   \n",
       "320       18.99         12.24             H       192           HarperCollins   \n",
       "321       27.55         27.55             P       160        Worth Publishers   \n",
       "322       12.95          5.18             P       224     St Martin's Griffin   \n",
       "323       97.50         97.50             P       480  W. W. Norton & Company   \n",
       "324       16.99          4.95             P       344              CreatSpace   \n",
       "\n",
       "     Pub year     ISBN-10  Thick  my_theoretical_sample  \n",
       "0        2010  1605506249    0.8               1.106623  \n",
       "1        2008  1416564195    0.7               0.972245  \n",
       "2        1995   486285537    0.3               0.977264  \n",
       "3        2008    61564893    1.6               1.471118  \n",
       "4        2011   307265722    1.4               1.483449  \n",
       "..        ...         ...    ...                    ...  \n",
       "320      2004    60572345    1.1               0.437138  \n",
       "321      2011  1429233443    0.7               0.772833  \n",
       "322      2005  031233446X    0.7               1.030440  \n",
       "323      2010   393934942    0.9               1.084754  \n",
       "324      2011  1463533411    1.0               1.364722  \n",
       "\n",
       "[319 rows x 11 columns]"
      ]
     },
     "execution_count": 34,
     "metadata": {},
     "output_type": "execute_result"
    }
   ],
   "source": [
    "ab_noNaN['my_theoretical_sample'] = my_theoretical_sample\n",
    "ab_noNaN"
   ]
  },
  {
   "cell_type": "code",
   "execution_count": 36,
   "id": "3bc0ae4e",
   "metadata": {},
   "outputs": [
    {
     "data": {
      "application/vnd.plotly.v1+json": {
       "config": {
        "plotlyServerURL": "https://plot.ly"
       },
       "data": [
        {
         "alignmentgroup": "True",
         "hovertemplate": "Thick=%{x}<extra></extra>",
         "legendgroup": "",
         "marker": {
          "color": "#636efa"
         },
         "name": "",
         "notched": false,
         "offsetgroup": "",
         "orientation": "h",
         "showlegend": false,
         "type": "box",
         "x": [
          0.8,
          0.7,
          0.3,
          1.6,
          1.4,
          1.7,
          1.2,
          0.8,
          1.1,
          1.7,
          1.5,
          1.3,
          1,
          0.8,
          1,
          0.5,
          0.8,
          0.6,
          0.7,
          0.5,
          1.2,
          0.5,
          0.8,
          1.4,
          0.7,
          1.2,
          1.1,
          1,
          0.9,
          0.6,
          0.9,
          1.8,
          0.4,
          0.5,
          0.4,
          0.9,
          0.6,
          0.8,
          0.5,
          0.4,
          0.2,
          1.1,
          1,
          0.7,
          0.8,
          0.4,
          1.5,
          1,
          1.4,
          1.3,
          0.9,
          1.5,
          0.9,
          0.9,
          0.1,
          1.2,
          0.6,
          0.8,
          0.6,
          1.2,
          1.2,
          0.8,
          0.8,
          0.8,
          1.6,
          0.8,
          1.6,
          1,
          1,
          0.8,
          0.8,
          0.5,
          0.7,
          0.7,
          0.7,
          0.7,
          1,
          0.9,
          1.1,
          0.6,
          0.8,
          1.4,
          1.7,
          1.5,
          0.9,
          0.3,
          0.8,
          1,
          0.9,
          1.2,
          1.2,
          0.9,
          1.8,
          0.9,
          0.4,
          0.9,
          0.6,
          0.5,
          0.5,
          1,
          0.8,
          1.5,
          1.4,
          0.4,
          2.1,
          0.6,
          0.2,
          0.5,
          1.1,
          1.8,
          0.6,
          0.6,
          0.8,
          0.9,
          1.1,
          1.2,
          0.6,
          0.7,
          1,
          1,
          0.6,
          0.9,
          1.2,
          0.6,
          1.4,
          0.5,
          1,
          0.6,
          0.9,
          1.4,
          1.1,
          1,
          2,
          1,
          1.5,
          0.6,
          1,
          1.2,
          1,
          0.7,
          0.7,
          0.8,
          0.6,
          0.7,
          1,
          0.4,
          0.9,
          1.5,
          1,
          0.7,
          0.7,
          0.9,
          0.7,
          1.1,
          0.4,
          0.4,
          1.2,
          0.6,
          0.6,
          0.5,
          0.7,
          0.7,
          1.2,
          1.5,
          1,
          1,
          1.4,
          1.1,
          0.4,
          0.8,
          1.3,
          1,
          1,
          0.6,
          1.2,
          0.8,
          1,
          0.7,
          0.9,
          0.7,
          0.9,
          1.2,
          1.3,
          0.7,
          0.6,
          1.1,
          0.6,
          1,
          0.8,
          0.8,
          1.4,
          0.5,
          1.6,
          0.5,
          0.4,
          1.2,
          0.6,
          0.5,
          0.5,
          0.6,
          0.8,
          0.9,
          1.4,
          0.7,
          0.8,
          0.9,
          0.5,
          0.7,
          0.4,
          0.9,
          1.2,
          1.3,
          0.9,
          0.3,
          0.4,
          1.7,
          1,
          0.7,
          0.4,
          0.4,
          0.9,
          0.6,
          1.3,
          1,
          1.6,
          0.5,
          0.6,
          0.6,
          0.7,
          0.7,
          1.5,
          1.1,
          0.5,
          0.4,
          1.4,
          0.8,
          0.7,
          0.5,
          0.5,
          0.7,
          1.1,
          0.9,
          0.8,
          0.5,
          0.8,
          1.2,
          1.2,
          0.8,
          1,
          0.8,
          1.6,
          1.4,
          0.5,
          1,
          0.8,
          1.2,
          1.2,
          0.8,
          0.6,
          0.6,
          1.3,
          0.7,
          0.5,
          0.4,
          1.5,
          1.2,
          0.8,
          0.5,
          1.1,
          0.5,
          1.5,
          0.6,
          1,
          0.9,
          0.5,
          1,
          1,
          0.3,
          0.6,
          0.8,
          1.5,
          1,
          0.8,
          1,
          0.6,
          0.5,
          1.2,
          0.7,
          1.1,
          0.7,
          1.2,
          1.3,
          1.5,
          1.7,
          0.5,
          0.7,
          0.7,
          0.4,
          1,
          1,
          1.7,
          1.3,
          1.4,
          0.4,
          0.8,
          0.5,
          0.8,
          1.4,
          1.7,
          0.9,
          0.7,
          0.9,
          1,
          0.5,
          1.1,
          0.7,
          0.7,
          0.9,
          1
         ],
         "x0": " ",
         "xaxis": "x",
         "y0": " ",
         "yaxis": "y"
        }
       ],
       "layout": {
        "boxmode": "group",
        "legend": {
         "tracegroupgap": 0
        },
        "margin": {
         "t": 60
        },
        "template": {
         "data": {
          "bar": [
           {
            "error_x": {
             "color": "#2a3f5f"
            },
            "error_y": {
             "color": "#2a3f5f"
            },
            "marker": {
             "line": {
              "color": "#E5ECF6",
              "width": 0.5
             },
             "pattern": {
              "fillmode": "overlay",
              "size": 10,
              "solidity": 0.2
             }
            },
            "type": "bar"
           }
          ],
          "barpolar": [
           {
            "marker": {
             "line": {
              "color": "#E5ECF6",
              "width": 0.5
             },
             "pattern": {
              "fillmode": "overlay",
              "size": 10,
              "solidity": 0.2
             }
            },
            "type": "barpolar"
           }
          ],
          "carpet": [
           {
            "aaxis": {
             "endlinecolor": "#2a3f5f",
             "gridcolor": "white",
             "linecolor": "white",
             "minorgridcolor": "white",
             "startlinecolor": "#2a3f5f"
            },
            "baxis": {
             "endlinecolor": "#2a3f5f",
             "gridcolor": "white",
             "linecolor": "white",
             "minorgridcolor": "white",
             "startlinecolor": "#2a3f5f"
            },
            "type": "carpet"
           }
          ],
          "choropleth": [
           {
            "colorbar": {
             "outlinewidth": 0,
             "ticks": ""
            },
            "type": "choropleth"
           }
          ],
          "contour": [
           {
            "colorbar": {
             "outlinewidth": 0,
             "ticks": ""
            },
            "colorscale": [
             [
              0,
              "#0d0887"
             ],
             [
              0.1111111111111111,
              "#46039f"
             ],
             [
              0.2222222222222222,
              "#7201a8"
             ],
             [
              0.3333333333333333,
              "#9c179e"
             ],
             [
              0.4444444444444444,
              "#bd3786"
             ],
             [
              0.5555555555555556,
              "#d8576b"
             ],
             [
              0.6666666666666666,
              "#ed7953"
             ],
             [
              0.7777777777777778,
              "#fb9f3a"
             ],
             [
              0.8888888888888888,
              "#fdca26"
             ],
             [
              1,
              "#f0f921"
             ]
            ],
            "type": "contour"
           }
          ],
          "contourcarpet": [
           {
            "colorbar": {
             "outlinewidth": 0,
             "ticks": ""
            },
            "type": "contourcarpet"
           }
          ],
          "heatmap": [
           {
            "colorbar": {
             "outlinewidth": 0,
             "ticks": ""
            },
            "colorscale": [
             [
              0,
              "#0d0887"
             ],
             [
              0.1111111111111111,
              "#46039f"
             ],
             [
              0.2222222222222222,
              "#7201a8"
             ],
             [
              0.3333333333333333,
              "#9c179e"
             ],
             [
              0.4444444444444444,
              "#bd3786"
             ],
             [
              0.5555555555555556,
              "#d8576b"
             ],
             [
              0.6666666666666666,
              "#ed7953"
             ],
             [
              0.7777777777777778,
              "#fb9f3a"
             ],
             [
              0.8888888888888888,
              "#fdca26"
             ],
             [
              1,
              "#f0f921"
             ]
            ],
            "type": "heatmap"
           }
          ],
          "heatmapgl": [
           {
            "colorbar": {
             "outlinewidth": 0,
             "ticks": ""
            },
            "colorscale": [
             [
              0,
              "#0d0887"
             ],
             [
              0.1111111111111111,
              "#46039f"
             ],
             [
              0.2222222222222222,
              "#7201a8"
             ],
             [
              0.3333333333333333,
              "#9c179e"
             ],
             [
              0.4444444444444444,
              "#bd3786"
             ],
             [
              0.5555555555555556,
              "#d8576b"
             ],
             [
              0.6666666666666666,
              "#ed7953"
             ],
             [
              0.7777777777777778,
              "#fb9f3a"
             ],
             [
              0.8888888888888888,
              "#fdca26"
             ],
             [
              1,
              "#f0f921"
             ]
            ],
            "type": "heatmapgl"
           }
          ],
          "histogram": [
           {
            "marker": {
             "pattern": {
              "fillmode": "overlay",
              "size": 10,
              "solidity": 0.2
             }
            },
            "type": "histogram"
           }
          ],
          "histogram2d": [
           {
            "colorbar": {
             "outlinewidth": 0,
             "ticks": ""
            },
            "colorscale": [
             [
              0,
              "#0d0887"
             ],
             [
              0.1111111111111111,
              "#46039f"
             ],
             [
              0.2222222222222222,
              "#7201a8"
             ],
             [
              0.3333333333333333,
              "#9c179e"
             ],
             [
              0.4444444444444444,
              "#bd3786"
             ],
             [
              0.5555555555555556,
              "#d8576b"
             ],
             [
              0.6666666666666666,
              "#ed7953"
             ],
             [
              0.7777777777777778,
              "#fb9f3a"
             ],
             [
              0.8888888888888888,
              "#fdca26"
             ],
             [
              1,
              "#f0f921"
             ]
            ],
            "type": "histogram2d"
           }
          ],
          "histogram2dcontour": [
           {
            "colorbar": {
             "outlinewidth": 0,
             "ticks": ""
            },
            "colorscale": [
             [
              0,
              "#0d0887"
             ],
             [
              0.1111111111111111,
              "#46039f"
             ],
             [
              0.2222222222222222,
              "#7201a8"
             ],
             [
              0.3333333333333333,
              "#9c179e"
             ],
             [
              0.4444444444444444,
              "#bd3786"
             ],
             [
              0.5555555555555556,
              "#d8576b"
             ],
             [
              0.6666666666666666,
              "#ed7953"
             ],
             [
              0.7777777777777778,
              "#fb9f3a"
             ],
             [
              0.8888888888888888,
              "#fdca26"
             ],
             [
              1,
              "#f0f921"
             ]
            ],
            "type": "histogram2dcontour"
           }
          ],
          "mesh3d": [
           {
            "colorbar": {
             "outlinewidth": 0,
             "ticks": ""
            },
            "type": "mesh3d"
           }
          ],
          "parcoords": [
           {
            "line": {
             "colorbar": {
              "outlinewidth": 0,
              "ticks": ""
             }
            },
            "type": "parcoords"
           }
          ],
          "pie": [
           {
            "automargin": true,
            "type": "pie"
           }
          ],
          "scatter": [
           {
            "fillpattern": {
             "fillmode": "overlay",
             "size": 10,
             "solidity": 0.2
            },
            "type": "scatter"
           }
          ],
          "scatter3d": [
           {
            "line": {
             "colorbar": {
              "outlinewidth": 0,
              "ticks": ""
             }
            },
            "marker": {
             "colorbar": {
              "outlinewidth": 0,
              "ticks": ""
             }
            },
            "type": "scatter3d"
           }
          ],
          "scattercarpet": [
           {
            "marker": {
             "colorbar": {
              "outlinewidth": 0,
              "ticks": ""
             }
            },
            "type": "scattercarpet"
           }
          ],
          "scattergeo": [
           {
            "marker": {
             "colorbar": {
              "outlinewidth": 0,
              "ticks": ""
             }
            },
            "type": "scattergeo"
           }
          ],
          "scattergl": [
           {
            "marker": {
             "colorbar": {
              "outlinewidth": 0,
              "ticks": ""
             }
            },
            "type": "scattergl"
           }
          ],
          "scattermapbox": [
           {
            "marker": {
             "colorbar": {
              "outlinewidth": 0,
              "ticks": ""
             }
            },
            "type": "scattermapbox"
           }
          ],
          "scatterpolar": [
           {
            "marker": {
             "colorbar": {
              "outlinewidth": 0,
              "ticks": ""
             }
            },
            "type": "scatterpolar"
           }
          ],
          "scatterpolargl": [
           {
            "marker": {
             "colorbar": {
              "outlinewidth": 0,
              "ticks": ""
             }
            },
            "type": "scatterpolargl"
           }
          ],
          "scatterternary": [
           {
            "marker": {
             "colorbar": {
              "outlinewidth": 0,
              "ticks": ""
             }
            },
            "type": "scatterternary"
           }
          ],
          "surface": [
           {
            "colorbar": {
             "outlinewidth": 0,
             "ticks": ""
            },
            "colorscale": [
             [
              0,
              "#0d0887"
             ],
             [
              0.1111111111111111,
              "#46039f"
             ],
             [
              0.2222222222222222,
              "#7201a8"
             ],
             [
              0.3333333333333333,
              "#9c179e"
             ],
             [
              0.4444444444444444,
              "#bd3786"
             ],
             [
              0.5555555555555556,
              "#d8576b"
             ],
             [
              0.6666666666666666,
              "#ed7953"
             ],
             [
              0.7777777777777778,
              "#fb9f3a"
             ],
             [
              0.8888888888888888,
              "#fdca26"
             ],
             [
              1,
              "#f0f921"
             ]
            ],
            "type": "surface"
           }
          ],
          "table": [
           {
            "cells": {
             "fill": {
              "color": "#EBF0F8"
             },
             "line": {
              "color": "white"
             }
            },
            "header": {
             "fill": {
              "color": "#C8D4E3"
             },
             "line": {
              "color": "white"
             }
            },
            "type": "table"
           }
          ]
         },
         "layout": {
          "annotationdefaults": {
           "arrowcolor": "#2a3f5f",
           "arrowhead": 0,
           "arrowwidth": 1
          },
          "autotypenumbers": "strict",
          "coloraxis": {
           "colorbar": {
            "outlinewidth": 0,
            "ticks": ""
           }
          },
          "colorscale": {
           "diverging": [
            [
             0,
             "#8e0152"
            ],
            [
             0.1,
             "#c51b7d"
            ],
            [
             0.2,
             "#de77ae"
            ],
            [
             0.3,
             "#f1b6da"
            ],
            [
             0.4,
             "#fde0ef"
            ],
            [
             0.5,
             "#f7f7f7"
            ],
            [
             0.6,
             "#e6f5d0"
            ],
            [
             0.7,
             "#b8e186"
            ],
            [
             0.8,
             "#7fbc41"
            ],
            [
             0.9,
             "#4d9221"
            ],
            [
             1,
             "#276419"
            ]
           ],
           "sequential": [
            [
             0,
             "#0d0887"
            ],
            [
             0.1111111111111111,
             "#46039f"
            ],
            [
             0.2222222222222222,
             "#7201a8"
            ],
            [
             0.3333333333333333,
             "#9c179e"
            ],
            [
             0.4444444444444444,
             "#bd3786"
            ],
            [
             0.5555555555555556,
             "#d8576b"
            ],
            [
             0.6666666666666666,
             "#ed7953"
            ],
            [
             0.7777777777777778,
             "#fb9f3a"
            ],
            [
             0.8888888888888888,
             "#fdca26"
            ],
            [
             1,
             "#f0f921"
            ]
           ],
           "sequentialminus": [
            [
             0,
             "#0d0887"
            ],
            [
             0.1111111111111111,
             "#46039f"
            ],
            [
             0.2222222222222222,
             "#7201a8"
            ],
            [
             0.3333333333333333,
             "#9c179e"
            ],
            [
             0.4444444444444444,
             "#bd3786"
            ],
            [
             0.5555555555555556,
             "#d8576b"
            ],
            [
             0.6666666666666666,
             "#ed7953"
            ],
            [
             0.7777777777777778,
             "#fb9f3a"
            ],
            [
             0.8888888888888888,
             "#fdca26"
            ],
            [
             1,
             "#f0f921"
            ]
           ]
          },
          "colorway": [
           "#636efa",
           "#EF553B",
           "#00cc96",
           "#ab63fa",
           "#FFA15A",
           "#19d3f3",
           "#FF6692",
           "#B6E880",
           "#FF97FF",
           "#FECB52"
          ],
          "font": {
           "color": "#2a3f5f"
          },
          "geo": {
           "bgcolor": "white",
           "lakecolor": "white",
           "landcolor": "#E5ECF6",
           "showlakes": true,
           "showland": true,
           "subunitcolor": "white"
          },
          "hoverlabel": {
           "align": "left"
          },
          "hovermode": "closest",
          "mapbox": {
           "style": "light"
          },
          "paper_bgcolor": "white",
          "plot_bgcolor": "#E5ECF6",
          "polar": {
           "angularaxis": {
            "gridcolor": "white",
            "linecolor": "white",
            "ticks": ""
           },
           "bgcolor": "#E5ECF6",
           "radialaxis": {
            "gridcolor": "white",
            "linecolor": "white",
            "ticks": ""
           }
          },
          "scene": {
           "xaxis": {
            "backgroundcolor": "#E5ECF6",
            "gridcolor": "white",
            "gridwidth": 2,
            "linecolor": "white",
            "showbackground": true,
            "ticks": "",
            "zerolinecolor": "white"
           },
           "yaxis": {
            "backgroundcolor": "#E5ECF6",
            "gridcolor": "white",
            "gridwidth": 2,
            "linecolor": "white",
            "showbackground": true,
            "ticks": "",
            "zerolinecolor": "white"
           },
           "zaxis": {
            "backgroundcolor": "#E5ECF6",
            "gridcolor": "white",
            "gridwidth": 2,
            "linecolor": "white",
            "showbackground": true,
            "ticks": "",
            "zerolinecolor": "white"
           }
          },
          "shapedefaults": {
           "line": {
            "color": "#2a3f5f"
           }
          },
          "ternary": {
           "aaxis": {
            "gridcolor": "white",
            "linecolor": "white",
            "ticks": ""
           },
           "baxis": {
            "gridcolor": "white",
            "linecolor": "white",
            "ticks": ""
           },
           "bgcolor": "#E5ECF6",
           "caxis": {
            "gridcolor": "white",
            "linecolor": "white",
            "ticks": ""
           }
          },
          "title": {
           "x": 0.05
          },
          "xaxis": {
           "automargin": true,
           "gridcolor": "white",
           "linecolor": "white",
           "ticks": "",
           "title": {
            "standoff": 15
           },
           "zerolinecolor": "white",
           "zerolinewidth": 2
          },
          "yaxis": {
           "automargin": true,
           "gridcolor": "white",
           "linecolor": "white",
           "ticks": "",
           "title": {
            "standoff": 15
           },
           "zerolinecolor": "white",
           "zerolinewidth": 2
          }
         }
        },
        "xaxis": {
         "anchor": "y",
         "domain": [
          0,
          1
         ],
         "title": {
          "text": "Thick"
         }
        },
        "yaxis": {
         "anchor": "x",
         "domain": [
          0,
          1
         ]
        }
       }
      },
      "text/html": [
       "<div>                            <div id=\"8f89f4dd-5eca-4226-bc60-40f1653fab56\" class=\"plotly-graph-div\" style=\"height:525px; width:100%;\"></div>            <script type=\"text/javascript\">                require([\"plotly\"], function(Plotly) {                    window.PLOTLYENV=window.PLOTLYENV || {};                                    if (document.getElementById(\"8f89f4dd-5eca-4226-bc60-40f1653fab56\")) {                    Plotly.newPlot(                        \"8f89f4dd-5eca-4226-bc60-40f1653fab56\",                        [{\"alignmentgroup\":\"True\",\"hovertemplate\":\"Thick=%{x}\\u003cextra\\u003e\\u003c\\u002fextra\\u003e\",\"legendgroup\":\"\",\"marker\":{\"color\":\"#636efa\"},\"name\":\"\",\"notched\":false,\"offsetgroup\":\"\",\"orientation\":\"h\",\"showlegend\":false,\"x\":[0.8,0.7,0.3,1.6,1.4,1.7,1.2,0.8,1.1,1.7,1.5,1.3,1.0,0.8,1.0,0.5,0.8,0.6,0.7,0.5,1.2,0.5,0.8,1.4,0.7,1.2,1.1,1.0,0.9,0.6,0.9,1.8,0.4,0.5,0.4,0.9,0.6,0.8,0.5,0.4,0.2,1.1,1.0,0.7,0.8,0.4,1.5,1.0,1.4,1.3,0.9,1.5,0.9,0.9,0.1,1.2,0.6,0.8,0.6,1.2,1.2,0.8,0.8,0.8,1.6,0.8,1.6,1.0,1.0,0.8,0.8,0.5,0.7,0.7,0.7,0.7,1.0,0.9,1.1,0.6,0.8,1.4,1.7,1.5,0.9,0.3,0.8,1.0,0.9,1.2,1.2,0.9,1.8,0.9,0.4,0.9,0.6,0.5,0.5,1.0,0.8,1.5,1.4,0.4,2.1,0.6,0.2,0.5,1.1,1.8,0.6,0.6,0.8,0.9,1.1,1.2,0.6,0.7,1.0,1.0,0.6,0.9,1.2,0.6,1.4,0.5,1.0,0.6,0.9,1.4,1.1,1.0,2.0,1.0,1.5,0.6,1.0,1.2,1.0,0.7,0.7,0.8,0.6,0.7,1.0,0.4,0.9,1.5,1.0,0.7,0.7,0.9,0.7,1.1,0.4,0.4,1.2,0.6,0.6,0.5,0.7,0.7,1.2,1.5,1.0,1.0,1.4,1.1,0.4,0.8,1.3,1.0,1.0,0.6,1.2,0.8,1.0,0.7,0.9,0.7,0.9,1.2,1.3,0.7,0.6,1.1,0.6,1.0,0.8,0.8,1.4,0.5,1.6,0.5,0.4,1.2,0.6,0.5,0.5,0.6,0.8,0.9,1.4,0.7,0.8,0.9,0.5,0.7,0.4,0.9,1.2,1.3,0.9,0.3,0.4,1.7,1.0,0.7,0.4,0.4,0.9,0.6,1.3,1.0,1.6,0.5,0.6,0.6,0.7,0.7,1.5,1.1,0.5,0.4,1.4,0.8,0.7,0.5,0.5,0.7,1.1,0.9,0.8,0.5,0.8,1.2,1.2,0.8,1.0,0.8,1.6,1.4,0.5,1.0,0.8,1.2,1.2,0.8,0.6,0.6,1.3,0.7,0.5,0.4,1.5,1.2,0.8,0.5,1.1,0.5,1.5,0.6,1.0,0.9,0.5,1.0,1.0,0.3,0.6,0.8,1.5,1.0,0.8,1.0,0.6,0.5,1.2,0.7,1.1,0.7,1.2,1.3,1.5,1.7,0.5,0.7,0.7,0.4,1.0,1.0,1.7,1.3,1.4,0.4,0.8,0.5,0.8,1.4,1.7,0.9,0.7,0.9,1.0,0.5,1.1,0.7,0.7,0.9,1.0],\"x0\":\" \",\"xaxis\":\"x\",\"y0\":\" \",\"yaxis\":\"y\",\"type\":\"box\"}],                        {\"template\":{\"data\":{\"histogram2dcontour\":[{\"type\":\"histogram2dcontour\",\"colorbar\":{\"outlinewidth\":0,\"ticks\":\"\"},\"colorscale\":[[0.0,\"#0d0887\"],[0.1111111111111111,\"#46039f\"],[0.2222222222222222,\"#7201a8\"],[0.3333333333333333,\"#9c179e\"],[0.4444444444444444,\"#bd3786\"],[0.5555555555555556,\"#d8576b\"],[0.6666666666666666,\"#ed7953\"],[0.7777777777777778,\"#fb9f3a\"],[0.8888888888888888,\"#fdca26\"],[1.0,\"#f0f921\"]]}],\"choropleth\":[{\"type\":\"choropleth\",\"colorbar\":{\"outlinewidth\":0,\"ticks\":\"\"}}],\"histogram2d\":[{\"type\":\"histogram2d\",\"colorbar\":{\"outlinewidth\":0,\"ticks\":\"\"},\"colorscale\":[[0.0,\"#0d0887\"],[0.1111111111111111,\"#46039f\"],[0.2222222222222222,\"#7201a8\"],[0.3333333333333333,\"#9c179e\"],[0.4444444444444444,\"#bd3786\"],[0.5555555555555556,\"#d8576b\"],[0.6666666666666666,\"#ed7953\"],[0.7777777777777778,\"#fb9f3a\"],[0.8888888888888888,\"#fdca26\"],[1.0,\"#f0f921\"]]}],\"heatmap\":[{\"type\":\"heatmap\",\"colorbar\":{\"outlinewidth\":0,\"ticks\":\"\"},\"colorscale\":[[0.0,\"#0d0887\"],[0.1111111111111111,\"#46039f\"],[0.2222222222222222,\"#7201a8\"],[0.3333333333333333,\"#9c179e\"],[0.4444444444444444,\"#bd3786\"],[0.5555555555555556,\"#d8576b\"],[0.6666666666666666,\"#ed7953\"],[0.7777777777777778,\"#fb9f3a\"],[0.8888888888888888,\"#fdca26\"],[1.0,\"#f0f921\"]]}],\"heatmapgl\":[{\"type\":\"heatmapgl\",\"colorbar\":{\"outlinewidth\":0,\"ticks\":\"\"},\"colorscale\":[[0.0,\"#0d0887\"],[0.1111111111111111,\"#46039f\"],[0.2222222222222222,\"#7201a8\"],[0.3333333333333333,\"#9c179e\"],[0.4444444444444444,\"#bd3786\"],[0.5555555555555556,\"#d8576b\"],[0.6666666666666666,\"#ed7953\"],[0.7777777777777778,\"#fb9f3a\"],[0.8888888888888888,\"#fdca26\"],[1.0,\"#f0f921\"]]}],\"contourcarpet\":[{\"type\":\"contourcarpet\",\"colorbar\":{\"outlinewidth\":0,\"ticks\":\"\"}}],\"contour\":[{\"type\":\"contour\",\"colorbar\":{\"outlinewidth\":0,\"ticks\":\"\"},\"colorscale\":[[0.0,\"#0d0887\"],[0.1111111111111111,\"#46039f\"],[0.2222222222222222,\"#7201a8\"],[0.3333333333333333,\"#9c179e\"],[0.4444444444444444,\"#bd3786\"],[0.5555555555555556,\"#d8576b\"],[0.6666666666666666,\"#ed7953\"],[0.7777777777777778,\"#fb9f3a\"],[0.8888888888888888,\"#fdca26\"],[1.0,\"#f0f921\"]]}],\"surface\":[{\"type\":\"surface\",\"colorbar\":{\"outlinewidth\":0,\"ticks\":\"\"},\"colorscale\":[[0.0,\"#0d0887\"],[0.1111111111111111,\"#46039f\"],[0.2222222222222222,\"#7201a8\"],[0.3333333333333333,\"#9c179e\"],[0.4444444444444444,\"#bd3786\"],[0.5555555555555556,\"#d8576b\"],[0.6666666666666666,\"#ed7953\"],[0.7777777777777778,\"#fb9f3a\"],[0.8888888888888888,\"#fdca26\"],[1.0,\"#f0f921\"]]}],\"mesh3d\":[{\"type\":\"mesh3d\",\"colorbar\":{\"outlinewidth\":0,\"ticks\":\"\"}}],\"scatter\":[{\"fillpattern\":{\"fillmode\":\"overlay\",\"size\":10,\"solidity\":0.2},\"type\":\"scatter\"}],\"parcoords\":[{\"type\":\"parcoords\",\"line\":{\"colorbar\":{\"outlinewidth\":0,\"ticks\":\"\"}}}],\"scatterpolargl\":[{\"type\":\"scatterpolargl\",\"marker\":{\"colorbar\":{\"outlinewidth\":0,\"ticks\":\"\"}}}],\"bar\":[{\"error_x\":{\"color\":\"#2a3f5f\"},\"error_y\":{\"color\":\"#2a3f5f\"},\"marker\":{\"line\":{\"color\":\"#E5ECF6\",\"width\":0.5},\"pattern\":{\"fillmode\":\"overlay\",\"size\":10,\"solidity\":0.2}},\"type\":\"bar\"}],\"scattergeo\":[{\"type\":\"scattergeo\",\"marker\":{\"colorbar\":{\"outlinewidth\":0,\"ticks\":\"\"}}}],\"scatterpolar\":[{\"type\":\"scatterpolar\",\"marker\":{\"colorbar\":{\"outlinewidth\":0,\"ticks\":\"\"}}}],\"histogram\":[{\"marker\":{\"pattern\":{\"fillmode\":\"overlay\",\"size\":10,\"solidity\":0.2}},\"type\":\"histogram\"}],\"scattergl\":[{\"type\":\"scattergl\",\"marker\":{\"colorbar\":{\"outlinewidth\":0,\"ticks\":\"\"}}}],\"scatter3d\":[{\"type\":\"scatter3d\",\"line\":{\"colorbar\":{\"outlinewidth\":0,\"ticks\":\"\"}},\"marker\":{\"colorbar\":{\"outlinewidth\":0,\"ticks\":\"\"}}}],\"scattermapbox\":[{\"type\":\"scattermapbox\",\"marker\":{\"colorbar\":{\"outlinewidth\":0,\"ticks\":\"\"}}}],\"scatterternary\":[{\"type\":\"scatterternary\",\"marker\":{\"colorbar\":{\"outlinewidth\":0,\"ticks\":\"\"}}}],\"scattercarpet\":[{\"type\":\"scattercarpet\",\"marker\":{\"colorbar\":{\"outlinewidth\":0,\"ticks\":\"\"}}}],\"carpet\":[{\"aaxis\":{\"endlinecolor\":\"#2a3f5f\",\"gridcolor\":\"white\",\"linecolor\":\"white\",\"minorgridcolor\":\"white\",\"startlinecolor\":\"#2a3f5f\"},\"baxis\":{\"endlinecolor\":\"#2a3f5f\",\"gridcolor\":\"white\",\"linecolor\":\"white\",\"minorgridcolor\":\"white\",\"startlinecolor\":\"#2a3f5f\"},\"type\":\"carpet\"}],\"table\":[{\"cells\":{\"fill\":{\"color\":\"#EBF0F8\"},\"line\":{\"color\":\"white\"}},\"header\":{\"fill\":{\"color\":\"#C8D4E3\"},\"line\":{\"color\":\"white\"}},\"type\":\"table\"}],\"barpolar\":[{\"marker\":{\"line\":{\"color\":\"#E5ECF6\",\"width\":0.5},\"pattern\":{\"fillmode\":\"overlay\",\"size\":10,\"solidity\":0.2}},\"type\":\"barpolar\"}],\"pie\":[{\"automargin\":true,\"type\":\"pie\"}]},\"layout\":{\"autotypenumbers\":\"strict\",\"colorway\":[\"#636efa\",\"#EF553B\",\"#00cc96\",\"#ab63fa\",\"#FFA15A\",\"#19d3f3\",\"#FF6692\",\"#B6E880\",\"#FF97FF\",\"#FECB52\"],\"font\":{\"color\":\"#2a3f5f\"},\"hovermode\":\"closest\",\"hoverlabel\":{\"align\":\"left\"},\"paper_bgcolor\":\"white\",\"plot_bgcolor\":\"#E5ECF6\",\"polar\":{\"bgcolor\":\"#E5ECF6\",\"angularaxis\":{\"gridcolor\":\"white\",\"linecolor\":\"white\",\"ticks\":\"\"},\"radialaxis\":{\"gridcolor\":\"white\",\"linecolor\":\"white\",\"ticks\":\"\"}},\"ternary\":{\"bgcolor\":\"#E5ECF6\",\"aaxis\":{\"gridcolor\":\"white\",\"linecolor\":\"white\",\"ticks\":\"\"},\"baxis\":{\"gridcolor\":\"white\",\"linecolor\":\"white\",\"ticks\":\"\"},\"caxis\":{\"gridcolor\":\"white\",\"linecolor\":\"white\",\"ticks\":\"\"}},\"coloraxis\":{\"colorbar\":{\"outlinewidth\":0,\"ticks\":\"\"}},\"colorscale\":{\"sequential\":[[0.0,\"#0d0887\"],[0.1111111111111111,\"#46039f\"],[0.2222222222222222,\"#7201a8\"],[0.3333333333333333,\"#9c179e\"],[0.4444444444444444,\"#bd3786\"],[0.5555555555555556,\"#d8576b\"],[0.6666666666666666,\"#ed7953\"],[0.7777777777777778,\"#fb9f3a\"],[0.8888888888888888,\"#fdca26\"],[1.0,\"#f0f921\"]],\"sequentialminus\":[[0.0,\"#0d0887\"],[0.1111111111111111,\"#46039f\"],[0.2222222222222222,\"#7201a8\"],[0.3333333333333333,\"#9c179e\"],[0.4444444444444444,\"#bd3786\"],[0.5555555555555556,\"#d8576b\"],[0.6666666666666666,\"#ed7953\"],[0.7777777777777778,\"#fb9f3a\"],[0.8888888888888888,\"#fdca26\"],[1.0,\"#f0f921\"]],\"diverging\":[[0,\"#8e0152\"],[0.1,\"#c51b7d\"],[0.2,\"#de77ae\"],[0.3,\"#f1b6da\"],[0.4,\"#fde0ef\"],[0.5,\"#f7f7f7\"],[0.6,\"#e6f5d0\"],[0.7,\"#b8e186\"],[0.8,\"#7fbc41\"],[0.9,\"#4d9221\"],[1,\"#276419\"]]},\"xaxis\":{\"gridcolor\":\"white\",\"linecolor\":\"white\",\"ticks\":\"\",\"title\":{\"standoff\":15},\"zerolinecolor\":\"white\",\"automargin\":true,\"zerolinewidth\":2},\"yaxis\":{\"gridcolor\":\"white\",\"linecolor\":\"white\",\"ticks\":\"\",\"title\":{\"standoff\":15},\"zerolinecolor\":\"white\",\"automargin\":true,\"zerolinewidth\":2},\"scene\":{\"xaxis\":{\"backgroundcolor\":\"#E5ECF6\",\"gridcolor\":\"white\",\"linecolor\":\"white\",\"showbackground\":true,\"ticks\":\"\",\"zerolinecolor\":\"white\",\"gridwidth\":2},\"yaxis\":{\"backgroundcolor\":\"#E5ECF6\",\"gridcolor\":\"white\",\"linecolor\":\"white\",\"showbackground\":true,\"ticks\":\"\",\"zerolinecolor\":\"white\",\"gridwidth\":2},\"zaxis\":{\"backgroundcolor\":\"#E5ECF6\",\"gridcolor\":\"white\",\"linecolor\":\"white\",\"showbackground\":true,\"ticks\":\"\",\"zerolinecolor\":\"white\",\"gridwidth\":2}},\"shapedefaults\":{\"line\":{\"color\":\"#2a3f5f\"}},\"annotationdefaults\":{\"arrowcolor\":\"#2a3f5f\",\"arrowhead\":0,\"arrowwidth\":1},\"geo\":{\"bgcolor\":\"white\",\"landcolor\":\"#E5ECF6\",\"subunitcolor\":\"white\",\"showland\":true,\"showlakes\":true,\"lakecolor\":\"white\"},\"title\":{\"x\":0.05},\"mapbox\":{\"style\":\"light\"}}},\"xaxis\":{\"anchor\":\"y\",\"domain\":[0.0,1.0],\"title\":{\"text\":\"Thick\"}},\"yaxis\":{\"anchor\":\"x\",\"domain\":[0.0,1.0]},\"legend\":{\"tracegroupgap\":0},\"margin\":{\"t\":60},\"boxmode\":\"group\"},                        {\"responsive\": true}                    ).then(function(){\n",
       "                            \n",
       "var gd = document.getElementById('8f89f4dd-5eca-4226-bc60-40f1653fab56');\n",
       "var x = new MutationObserver(function (mutations, observer) {{\n",
       "        var display = window.getComputedStyle(gd).display;\n",
       "        if (!display || display === 'none') {{\n",
       "            console.log([gd, 'removed!']);\n",
       "            Plotly.purge(gd);\n",
       "            observer.disconnect();\n",
       "        }}\n",
       "}});\n",
       "\n",
       "// Listen for the removal of the full notebook cells\n",
       "var notebookContainer = gd.closest('#notebook-container');\n",
       "if (notebookContainer) {{\n",
       "    x.observe(notebookContainer, {childList: true});\n",
       "}}\n",
       "\n",
       "// Listen for the clearing of the current output cell\n",
       "var outputEl = gd.closest('.output');\n",
       "if (outputEl) {{\n",
       "    x.observe(outputEl, {childList: true});\n",
       "}}\n",
       "\n",
       "                        })                };                });            </script>        </div>"
      ]
     },
     "metadata": {},
     "output_type": "display_data"
    }
   ],
   "source": [
    "#px.boxplot(ab_noNaN, x='Thick')\n",
    "px.box(ab_noNaN, x='Thick')"
   ]
  },
  {
   "cell_type": "markdown",
   "id": "91f2a6a0",
   "metadata": {},
   "source": [
    "- 50th percentile (median)\n",
    "- 25th / 75th (quartile 1 / quartile 3) percentiles\n",
    "- whiskers = $\\approx$1.5*IQR (inter-quartile range)\n",
    "- bonus nice definition for outliers, too"
   ]
  },
  {
   "cell_type": "code",
   "execution_count": 37,
   "id": "37f15a8b",
   "metadata": {},
   "outputs": [
    {
     "data": {
      "application/vnd.plotly.v1+json": {
       "config": {
        "plotlyServerURL": "https://plot.ly"
       },
       "data": [
        {
         "alignmentgroup": "True",
         "hovertemplate": "my_theoretical_sample=%{x}<extra></extra>",
         "legendgroup": "",
         "marker": {
          "color": "#636efa"
         },
         "name": "",
         "notched": false,
         "offsetgroup": "",
         "orientation": "h",
         "showlegend": false,
         "type": "box",
         "x": [
          1.1066225103637195,
          0.9722454668455022,
          0.9772641262551858,
          1.4711181237072632,
          1.483448868041174,
          0.6916767109932962,
          0.7412212200727465,
          0.860166818575792,
          1.2059902046196713,
          1.536355642718692,
          1.425242435336631,
          0.8817577849125996,
          0.6673620639122065,
          1.3669151438515614,
          1.0554427495232572,
          0.7753807469153989,
          1.250214904425234,
          0.8934446319758524,
          0.9069469106904434,
          1.1057884226032797,
          0.35641250266933144,
          0.8068939829528667,
          1.1191482968704707,
          1.1580235071686968,
          1.627763103345894,
          0.9967664870898058,
          1.2870092112857834,
          0.8153358745138598,
          0.49675397799552035,
          1.0007303817506374,
          1.266459801512994,
          0.6673468840431664,
          1.0704705161340362,
          0.5990162096037863,
          0.8849219268468265,
          1.2940512195361613,
          0.45352784796909906,
          0.855665935849025,
          1.293509714230352,
          1.1131544559523756,
          1.304543317544688,
          0.5579651668900956,
          1.1045961243465567,
          1.0148683001383856,
          0.7812666177469175,
          0.6132643934324372,
          0.2929490363993078,
          1.2168139665880608,
          1.4431350794975901,
          1.3023697770361922,
          1.334986382013095,
          0.8053710521906396,
          1.431260833247529,
          1.1155264218637144,
          0.9643865881857544,
          1.3633799860406417,
          0.9660704019904852,
          0.7166765914383828,
          0.8203279526032297,
          1.0663866031015177,
          1.5222664722813444,
          0.5573033577072356,
          0.8374466552513731,
          0.8731678673514021,
          0.6963026746375747,
          1.2330338041885802,
          0.9436696499815459,
          0.2301000242991873,
          0.7303074637918932,
          0.9485635902645472,
          1.4170030605846247,
          1.4251009704341397,
          0.2314084207980711,
          1.2069453075462588,
          1.1676404982153477,
          1.4023220377531245,
          1.2246231312401894,
          0.20111475992960182,
          0.37761997553392324,
          1.1002491241367567,
          1.4077262507392985,
          1.0056338876210256,
          0.7446699009578983,
          1.4559543310830236,
          1.0064861161752081,
          0.41523282226550007,
          0.998233469401592,
          1.2032460664859104,
          0.30837826739551044,
          0.6106856808157116,
          1.4620689405572653,
          1.062934128799256,
          1.1351664665609726,
          0.5812554816899287,
          0.6540858125145207,
          1.365972688090525,
          1.0350231755672914,
          1.2433992224844448,
          1.2130626698399254,
          1.3529927961623134,
          0.9328583566030408,
          1.5265786380337758,
          1.2228427104229793,
          0.9676420498410393,
          0.636896955706667,
          0.5348743875719969,
          1.3096586530690795,
          0.9518557390357583,
          1.105987173942193,
          0.33922664699468585,
          0.4137870027516377,
          1.4543705218715597,
          1.3188497191327384,
          1.0831963844626453,
          0.5160327581213813,
          0.5974523446598646,
          1.3889100436245365,
          0.8423863650575859,
          0.732874002504805,
          0.9827358143606304,
          0.7217278878164137,
          1.5294458972867022,
          0.9680925607044955,
          1.2029576614444506,
          0.663170984685969,
          1.1417335700067404,
          1.1330843524024412,
          0.6878739040754007,
          1.5999603396159894,
          1.2394501804151197,
          0.9242342456878949,
          -0.04079361909244206,
          0.983594431697444,
          0.985139875492642,
          1.4083746586309471,
          1.0705717000593407,
          1.5256167785881245,
          0.8985259900236567,
          0.45059177434297804,
          1.6228426616174563,
          1.0834593229160772,
          1.4920403408005118,
          1.1370509177176138,
          1.1043862947941019,
          1.1003790712924062,
          0.7946987834995312,
          1.3384070666841121,
          0.9526482878791189,
          0.8332278436183562,
          0.9747787972021512,
          0.6709619877366055,
          0.9218313301308071,
          0.9727589478037174,
          1.170471916569093,
          1.5059624939302898,
          0.49695980735684087,
          0.6610144873194269,
          0.7011565615963999,
          0.07478204297654101,
          0.941114028844963,
          1.0241230486255313,
          0.6015651682754897,
          0.8881927090197247,
          1.068398932300699,
          1.7927991171102309,
          1.1977722266318522,
          0.46873015705616594,
          0.8016403505656244,
          1.4815229031347565,
          1.8950580803273347,
          1.0358846743457464,
          0.9532916096074714,
          1.104413234310812,
          0.5585635691549498,
          0.762163030851769,
          0.42095954131575186,
          0.7652988153127855,
          0.5318709033388003,
          1.595690287629019,
          1.1327347167388877,
          1.2948934128425684,
          1.0816127489134952,
          1.7710964603879833,
          1.1994126915058474,
          1.3176068250347077,
          0.8405307594528545,
          0.5916383915751757,
          0.6858116646487381,
          1.2234955643624488,
          0.5567114336966055,
          1.4353761762754984,
          0.8918790375522453,
          1.2168441831216381,
          0.6991874125144794,
          1.0172021904965889,
          0.8260422567817839,
          0.7381093655090856,
          0.6406299425247224,
          1.4490473687555196,
          1.0319890001306449,
          0.965460870313225,
          0.9116306657322548,
          1.295019592636103,
          1.2407966356860967,
          0.9106823004560773,
          0.4341978107407206,
          1.2512717311920083,
          1.3198057553917373,
          1.3850748777629167,
          0.6164614335860222,
          1.256811629916303,
          1.640890440735933,
          1.2840796536345418,
          1.1888191092933162,
          1.4594518833327383,
          0.6282924506683742,
          1.5120412543436375,
          1.1623300258687053,
          1.1930353437969052,
          0.9222090541365224,
          1.0929982387920367,
          0.8172226775739069,
          0.9900869897649637,
          0.9558758297814629,
          1.199483718578505,
          1.7076344448052927,
          1.1828158630609822,
          1.494883322743625,
          1.087136996566688,
          0.6612512919424807,
          1.4834600083060314,
          1.7274734812935266,
          0.656383924717826,
          1.4118251307350524,
          1.0107568281334687,
          0.8583340511873782,
          0.8115088375834829,
          1.149321089871845,
          0.7503699233372256,
          0.9305208468697236,
          0.20905066462205946,
          0.6684317621257845,
          1.1501729126107052,
          0.9757063831028618,
          1.4945866475378975,
          1.1957104371622223,
          0.8549817809364022,
          0.7734399304148389,
          0.5454306449743045,
          1.0047424007059127,
          1.1502720030956115,
          1.4573226325537174,
          0.7420957673772488,
          1.4127054853880234,
          1.0106005180794806,
          1.3257642249933292,
          0.33578066377090043,
          1.0257672814686534,
          0.8880020383842507,
          0.8201262327436948,
          1.3381745963916285,
          0.5114860091699454,
          1.2313197774090554,
          0.8171991142690668,
          0.8696341817425168,
          0.9145798598686437,
          1.3809556958751228,
          1.2664781546050412,
          0.8900129482380612,
          1.2964237595001633,
          1.5497017453641297,
          0.5929024773803786,
          1.2361354750387417,
          0.9001576154527858,
          1.4192799847956756,
          0.6768157106936429,
          0.1060687549028081,
          1.3614033432934023,
          0.7607290941578609,
          1.0502442103302299,
          1.385830193506051,
          1.5126951073352595,
          1.1708732884965312,
          0.6137246714121846,
          1.3646477834380084,
          1.5214670946413869,
          0.8406681269913812,
          1.209687955863628,
          1.129091039133992,
          0.48405124039097414,
          1.3565966874879059,
          1.1626481484818594,
          0.44415939612836,
          1.3025606042393663,
          0.6690709069452399,
          1.3523411376253107,
          1.0512309233335515,
          1.5007109211894183,
          0.7587046227929646,
          0.9138146350924999,
          0.8313862795560116,
          1.849872436715637,
          0.731093394399264,
          1.0004592351439345,
          1.0571557992285996,
          0.7915106358547453,
          1.2325679005427994,
          1.1144433339273265,
          0.9721900149160924,
          0.887329534434942,
          1.5118870859301556,
          0.3089960293432902,
          0.956005419789227,
          1.7645238373953682,
          0.4371379964574329,
          0.772833211753403,
          1.0304395134663389,
          1.0847540613650521,
          1.3647221661638573
         ],
         "x0": " ",
         "xaxis": "x",
         "y0": " ",
         "yaxis": "y"
        }
       ],
       "layout": {
        "boxmode": "group",
        "legend": {
         "tracegroupgap": 0
        },
        "margin": {
         "t": 60
        },
        "template": {
         "data": {
          "bar": [
           {
            "error_x": {
             "color": "#2a3f5f"
            },
            "error_y": {
             "color": "#2a3f5f"
            },
            "marker": {
             "line": {
              "color": "#E5ECF6",
              "width": 0.5
             },
             "pattern": {
              "fillmode": "overlay",
              "size": 10,
              "solidity": 0.2
             }
            },
            "type": "bar"
           }
          ],
          "barpolar": [
           {
            "marker": {
             "line": {
              "color": "#E5ECF6",
              "width": 0.5
             },
             "pattern": {
              "fillmode": "overlay",
              "size": 10,
              "solidity": 0.2
             }
            },
            "type": "barpolar"
           }
          ],
          "carpet": [
           {
            "aaxis": {
             "endlinecolor": "#2a3f5f",
             "gridcolor": "white",
             "linecolor": "white",
             "minorgridcolor": "white",
             "startlinecolor": "#2a3f5f"
            },
            "baxis": {
             "endlinecolor": "#2a3f5f",
             "gridcolor": "white",
             "linecolor": "white",
             "minorgridcolor": "white",
             "startlinecolor": "#2a3f5f"
            },
            "type": "carpet"
           }
          ],
          "choropleth": [
           {
            "colorbar": {
             "outlinewidth": 0,
             "ticks": ""
            },
            "type": "choropleth"
           }
          ],
          "contour": [
           {
            "colorbar": {
             "outlinewidth": 0,
             "ticks": ""
            },
            "colorscale": [
             [
              0,
              "#0d0887"
             ],
             [
              0.1111111111111111,
              "#46039f"
             ],
             [
              0.2222222222222222,
              "#7201a8"
             ],
             [
              0.3333333333333333,
              "#9c179e"
             ],
             [
              0.4444444444444444,
              "#bd3786"
             ],
             [
              0.5555555555555556,
              "#d8576b"
             ],
             [
              0.6666666666666666,
              "#ed7953"
             ],
             [
              0.7777777777777778,
              "#fb9f3a"
             ],
             [
              0.8888888888888888,
              "#fdca26"
             ],
             [
              1,
              "#f0f921"
             ]
            ],
            "type": "contour"
           }
          ],
          "contourcarpet": [
           {
            "colorbar": {
             "outlinewidth": 0,
             "ticks": ""
            },
            "type": "contourcarpet"
           }
          ],
          "heatmap": [
           {
            "colorbar": {
             "outlinewidth": 0,
             "ticks": ""
            },
            "colorscale": [
             [
              0,
              "#0d0887"
             ],
             [
              0.1111111111111111,
              "#46039f"
             ],
             [
              0.2222222222222222,
              "#7201a8"
             ],
             [
              0.3333333333333333,
              "#9c179e"
             ],
             [
              0.4444444444444444,
              "#bd3786"
             ],
             [
              0.5555555555555556,
              "#d8576b"
             ],
             [
              0.6666666666666666,
              "#ed7953"
             ],
             [
              0.7777777777777778,
              "#fb9f3a"
             ],
             [
              0.8888888888888888,
              "#fdca26"
             ],
             [
              1,
              "#f0f921"
             ]
            ],
            "type": "heatmap"
           }
          ],
          "heatmapgl": [
           {
            "colorbar": {
             "outlinewidth": 0,
             "ticks": ""
            },
            "colorscale": [
             [
              0,
              "#0d0887"
             ],
             [
              0.1111111111111111,
              "#46039f"
             ],
             [
              0.2222222222222222,
              "#7201a8"
             ],
             [
              0.3333333333333333,
              "#9c179e"
             ],
             [
              0.4444444444444444,
              "#bd3786"
             ],
             [
              0.5555555555555556,
              "#d8576b"
             ],
             [
              0.6666666666666666,
              "#ed7953"
             ],
             [
              0.7777777777777778,
              "#fb9f3a"
             ],
             [
              0.8888888888888888,
              "#fdca26"
             ],
             [
              1,
              "#f0f921"
             ]
            ],
            "type": "heatmapgl"
           }
          ],
          "histogram": [
           {
            "marker": {
             "pattern": {
              "fillmode": "overlay",
              "size": 10,
              "solidity": 0.2
             }
            },
            "type": "histogram"
           }
          ],
          "histogram2d": [
           {
            "colorbar": {
             "outlinewidth": 0,
             "ticks": ""
            },
            "colorscale": [
             [
              0,
              "#0d0887"
             ],
             [
              0.1111111111111111,
              "#46039f"
             ],
             [
              0.2222222222222222,
              "#7201a8"
             ],
             [
              0.3333333333333333,
              "#9c179e"
             ],
             [
              0.4444444444444444,
              "#bd3786"
             ],
             [
              0.5555555555555556,
              "#d8576b"
             ],
             [
              0.6666666666666666,
              "#ed7953"
             ],
             [
              0.7777777777777778,
              "#fb9f3a"
             ],
             [
              0.8888888888888888,
              "#fdca26"
             ],
             [
              1,
              "#f0f921"
             ]
            ],
            "type": "histogram2d"
           }
          ],
          "histogram2dcontour": [
           {
            "colorbar": {
             "outlinewidth": 0,
             "ticks": ""
            },
            "colorscale": [
             [
              0,
              "#0d0887"
             ],
             [
              0.1111111111111111,
              "#46039f"
             ],
             [
              0.2222222222222222,
              "#7201a8"
             ],
             [
              0.3333333333333333,
              "#9c179e"
             ],
             [
              0.4444444444444444,
              "#bd3786"
             ],
             [
              0.5555555555555556,
              "#d8576b"
             ],
             [
              0.6666666666666666,
              "#ed7953"
             ],
             [
              0.7777777777777778,
              "#fb9f3a"
             ],
             [
              0.8888888888888888,
              "#fdca26"
             ],
             [
              1,
              "#f0f921"
             ]
            ],
            "type": "histogram2dcontour"
           }
          ],
          "mesh3d": [
           {
            "colorbar": {
             "outlinewidth": 0,
             "ticks": ""
            },
            "type": "mesh3d"
           }
          ],
          "parcoords": [
           {
            "line": {
             "colorbar": {
              "outlinewidth": 0,
              "ticks": ""
             }
            },
            "type": "parcoords"
           }
          ],
          "pie": [
           {
            "automargin": true,
            "type": "pie"
           }
          ],
          "scatter": [
           {
            "fillpattern": {
             "fillmode": "overlay",
             "size": 10,
             "solidity": 0.2
            },
            "type": "scatter"
           }
          ],
          "scatter3d": [
           {
            "line": {
             "colorbar": {
              "outlinewidth": 0,
              "ticks": ""
             }
            },
            "marker": {
             "colorbar": {
              "outlinewidth": 0,
              "ticks": ""
             }
            },
            "type": "scatter3d"
           }
          ],
          "scattercarpet": [
           {
            "marker": {
             "colorbar": {
              "outlinewidth": 0,
              "ticks": ""
             }
            },
            "type": "scattercarpet"
           }
          ],
          "scattergeo": [
           {
            "marker": {
             "colorbar": {
              "outlinewidth": 0,
              "ticks": ""
             }
            },
            "type": "scattergeo"
           }
          ],
          "scattergl": [
           {
            "marker": {
             "colorbar": {
              "outlinewidth": 0,
              "ticks": ""
             }
            },
            "type": "scattergl"
           }
          ],
          "scattermapbox": [
           {
            "marker": {
             "colorbar": {
              "outlinewidth": 0,
              "ticks": ""
             }
            },
            "type": "scattermapbox"
           }
          ],
          "scatterpolar": [
           {
            "marker": {
             "colorbar": {
              "outlinewidth": 0,
              "ticks": ""
             }
            },
            "type": "scatterpolar"
           }
          ],
          "scatterpolargl": [
           {
            "marker": {
             "colorbar": {
              "outlinewidth": 0,
              "ticks": ""
             }
            },
            "type": "scatterpolargl"
           }
          ],
          "scatterternary": [
           {
            "marker": {
             "colorbar": {
              "outlinewidth": 0,
              "ticks": ""
             }
            },
            "type": "scatterternary"
           }
          ],
          "surface": [
           {
            "colorbar": {
             "outlinewidth": 0,
             "ticks": ""
            },
            "colorscale": [
             [
              0,
              "#0d0887"
             ],
             [
              0.1111111111111111,
              "#46039f"
             ],
             [
              0.2222222222222222,
              "#7201a8"
             ],
             [
              0.3333333333333333,
              "#9c179e"
             ],
             [
              0.4444444444444444,
              "#bd3786"
             ],
             [
              0.5555555555555556,
              "#d8576b"
             ],
             [
              0.6666666666666666,
              "#ed7953"
             ],
             [
              0.7777777777777778,
              "#fb9f3a"
             ],
             [
              0.8888888888888888,
              "#fdca26"
             ],
             [
              1,
              "#f0f921"
             ]
            ],
            "type": "surface"
           }
          ],
          "table": [
           {
            "cells": {
             "fill": {
              "color": "#EBF0F8"
             },
             "line": {
              "color": "white"
             }
            },
            "header": {
             "fill": {
              "color": "#C8D4E3"
             },
             "line": {
              "color": "white"
             }
            },
            "type": "table"
           }
          ]
         },
         "layout": {
          "annotationdefaults": {
           "arrowcolor": "#2a3f5f",
           "arrowhead": 0,
           "arrowwidth": 1
          },
          "autotypenumbers": "strict",
          "coloraxis": {
           "colorbar": {
            "outlinewidth": 0,
            "ticks": ""
           }
          },
          "colorscale": {
           "diverging": [
            [
             0,
             "#8e0152"
            ],
            [
             0.1,
             "#c51b7d"
            ],
            [
             0.2,
             "#de77ae"
            ],
            [
             0.3,
             "#f1b6da"
            ],
            [
             0.4,
             "#fde0ef"
            ],
            [
             0.5,
             "#f7f7f7"
            ],
            [
             0.6,
             "#e6f5d0"
            ],
            [
             0.7,
             "#b8e186"
            ],
            [
             0.8,
             "#7fbc41"
            ],
            [
             0.9,
             "#4d9221"
            ],
            [
             1,
             "#276419"
            ]
           ],
           "sequential": [
            [
             0,
             "#0d0887"
            ],
            [
             0.1111111111111111,
             "#46039f"
            ],
            [
             0.2222222222222222,
             "#7201a8"
            ],
            [
             0.3333333333333333,
             "#9c179e"
            ],
            [
             0.4444444444444444,
             "#bd3786"
            ],
            [
             0.5555555555555556,
             "#d8576b"
            ],
            [
             0.6666666666666666,
             "#ed7953"
            ],
            [
             0.7777777777777778,
             "#fb9f3a"
            ],
            [
             0.8888888888888888,
             "#fdca26"
            ],
            [
             1,
             "#f0f921"
            ]
           ],
           "sequentialminus": [
            [
             0,
             "#0d0887"
            ],
            [
             0.1111111111111111,
             "#46039f"
            ],
            [
             0.2222222222222222,
             "#7201a8"
            ],
            [
             0.3333333333333333,
             "#9c179e"
            ],
            [
             0.4444444444444444,
             "#bd3786"
            ],
            [
             0.5555555555555556,
             "#d8576b"
            ],
            [
             0.6666666666666666,
             "#ed7953"
            ],
            [
             0.7777777777777778,
             "#fb9f3a"
            ],
            [
             0.8888888888888888,
             "#fdca26"
            ],
            [
             1,
             "#f0f921"
            ]
           ]
          },
          "colorway": [
           "#636efa",
           "#EF553B",
           "#00cc96",
           "#ab63fa",
           "#FFA15A",
           "#19d3f3",
           "#FF6692",
           "#B6E880",
           "#FF97FF",
           "#FECB52"
          ],
          "font": {
           "color": "#2a3f5f"
          },
          "geo": {
           "bgcolor": "white",
           "lakecolor": "white",
           "landcolor": "#E5ECF6",
           "showlakes": true,
           "showland": true,
           "subunitcolor": "white"
          },
          "hoverlabel": {
           "align": "left"
          },
          "hovermode": "closest",
          "mapbox": {
           "style": "light"
          },
          "paper_bgcolor": "white",
          "plot_bgcolor": "#E5ECF6",
          "polar": {
           "angularaxis": {
            "gridcolor": "white",
            "linecolor": "white",
            "ticks": ""
           },
           "bgcolor": "#E5ECF6",
           "radialaxis": {
            "gridcolor": "white",
            "linecolor": "white",
            "ticks": ""
           }
          },
          "scene": {
           "xaxis": {
            "backgroundcolor": "#E5ECF6",
            "gridcolor": "white",
            "gridwidth": 2,
            "linecolor": "white",
            "showbackground": true,
            "ticks": "",
            "zerolinecolor": "white"
           },
           "yaxis": {
            "backgroundcolor": "#E5ECF6",
            "gridcolor": "white",
            "gridwidth": 2,
            "linecolor": "white",
            "showbackground": true,
            "ticks": "",
            "zerolinecolor": "white"
           },
           "zaxis": {
            "backgroundcolor": "#E5ECF6",
            "gridcolor": "white",
            "gridwidth": 2,
            "linecolor": "white",
            "showbackground": true,
            "ticks": "",
            "zerolinecolor": "white"
           }
          },
          "shapedefaults": {
           "line": {
            "color": "#2a3f5f"
           }
          },
          "ternary": {
           "aaxis": {
            "gridcolor": "white",
            "linecolor": "white",
            "ticks": ""
           },
           "baxis": {
            "gridcolor": "white",
            "linecolor": "white",
            "ticks": ""
           },
           "bgcolor": "#E5ECF6",
           "caxis": {
            "gridcolor": "white",
            "linecolor": "white",
            "ticks": ""
           }
          },
          "title": {
           "x": 0.05
          },
          "xaxis": {
           "automargin": true,
           "gridcolor": "white",
           "linecolor": "white",
           "ticks": "",
           "title": {
            "standoff": 15
           },
           "zerolinecolor": "white",
           "zerolinewidth": 2
          },
          "yaxis": {
           "automargin": true,
           "gridcolor": "white",
           "linecolor": "white",
           "ticks": "",
           "title": {
            "standoff": 15
           },
           "zerolinecolor": "white",
           "zerolinewidth": 2
          }
         }
        },
        "xaxis": {
         "anchor": "y",
         "domain": [
          0,
          1
         ],
         "title": {
          "text": "my_theoretical_sample"
         }
        },
        "yaxis": {
         "anchor": "x",
         "domain": [
          0,
          1
         ]
        }
       }
      },
      "text/html": [
       "<div>                            <div id=\"d62c98a0-fe12-422e-a34f-ea26dcc020b7\" class=\"plotly-graph-div\" style=\"height:525px; width:100%;\"></div>            <script type=\"text/javascript\">                require([\"plotly\"], function(Plotly) {                    window.PLOTLYENV=window.PLOTLYENV || {};                                    if (document.getElementById(\"d62c98a0-fe12-422e-a34f-ea26dcc020b7\")) {                    Plotly.newPlot(                        \"d62c98a0-fe12-422e-a34f-ea26dcc020b7\",                        [{\"alignmentgroup\":\"True\",\"hovertemplate\":\"my_theoretical_sample=%{x}\\u003cextra\\u003e\\u003c\\u002fextra\\u003e\",\"legendgroup\":\"\",\"marker\":{\"color\":\"#636efa\"},\"name\":\"\",\"notched\":false,\"offsetgroup\":\"\",\"orientation\":\"h\",\"showlegend\":false,\"x\":[1.1066225103637195,0.9722454668455022,0.9772641262551858,1.4711181237072632,1.483448868041174,0.6916767109932962,0.7412212200727465,0.860166818575792,1.2059902046196713,1.536355642718692,1.425242435336631,0.8817577849125996,0.6673620639122065,1.3669151438515614,1.0554427495232572,0.7753807469153989,1.250214904425234,0.8934446319758524,0.9069469106904434,1.1057884226032797,0.35641250266933144,0.8068939829528667,1.1191482968704707,1.1580235071686968,1.627763103345894,0.9967664870898058,1.2870092112857834,0.8153358745138598,0.49675397799552035,1.0007303817506374,1.266459801512994,0.6673468840431664,1.0704705161340362,0.5990162096037863,0.8849219268468265,1.2940512195361613,0.45352784796909906,0.855665935849025,1.293509714230352,1.1131544559523756,1.304543317544688,0.5579651668900956,1.1045961243465567,1.0148683001383856,0.7812666177469175,0.6132643934324372,0.2929490363993078,1.2168139665880608,1.4431350794975901,1.3023697770361922,1.334986382013095,0.8053710521906396,1.431260833247529,1.1155264218637144,0.9643865881857544,1.3633799860406417,0.9660704019904852,0.7166765914383828,0.8203279526032297,1.0663866031015177,1.5222664722813444,0.5573033577072356,0.8374466552513731,0.8731678673514021,0.6963026746375747,1.2330338041885802,0.9436696499815459,0.2301000242991873,0.7303074637918932,0.9485635902645472,1.4170030605846247,1.4251009704341397,0.2314084207980711,1.2069453075462588,1.1676404982153477,1.4023220377531245,1.2246231312401894,0.20111475992960182,0.37761997553392324,1.1002491241367567,1.4077262507392985,1.0056338876210256,0.7446699009578983,1.4559543310830236,1.0064861161752081,0.41523282226550007,0.998233469401592,1.2032460664859104,0.30837826739551044,0.6106856808157116,1.4620689405572653,1.062934128799256,1.1351664665609726,0.5812554816899287,0.6540858125145207,1.365972688090525,1.0350231755672914,1.2433992224844448,1.2130626698399254,1.3529927961623134,0.9328583566030408,1.5265786380337758,1.2228427104229793,0.9676420498410393,0.636896955706667,0.5348743875719969,1.3096586530690795,0.9518557390357583,1.105987173942193,0.33922664699468585,0.4137870027516377,1.4543705218715597,1.3188497191327384,1.0831963844626453,0.5160327581213813,0.5974523446598646,1.3889100436245365,0.8423863650575859,0.732874002504805,0.9827358143606304,0.7217278878164137,1.5294458972867022,0.9680925607044955,1.2029576614444506,0.663170984685969,1.1417335700067404,1.1330843524024412,0.6878739040754007,1.5999603396159894,1.2394501804151197,0.9242342456878949,-0.04079361909244206,0.983594431697444,0.985139875492642,1.4083746586309471,1.0705717000593407,1.5256167785881245,0.8985259900236567,0.45059177434297804,1.6228426616174563,1.0834593229160772,1.4920403408005118,1.1370509177176138,1.1043862947941019,1.1003790712924062,0.7946987834995312,1.3384070666841121,0.9526482878791189,0.8332278436183562,0.9747787972021512,0.6709619877366055,0.9218313301308071,0.9727589478037174,1.170471916569093,1.5059624939302898,0.49695980735684087,0.6610144873194269,0.7011565615963999,0.07478204297654101,0.941114028844963,1.0241230486255313,0.6015651682754897,0.8881927090197247,1.068398932300699,1.7927991171102309,1.1977722266318522,0.46873015705616594,0.8016403505656244,1.4815229031347565,1.8950580803273347,1.0358846743457464,0.9532916096074714,1.104413234310812,0.5585635691549498,0.762163030851769,0.42095954131575186,0.7652988153127855,0.5318709033388003,1.595690287629019,1.1327347167388877,1.2948934128425684,1.0816127489134952,1.7710964603879833,1.1994126915058474,1.3176068250347077,0.8405307594528545,0.5916383915751757,0.6858116646487381,1.2234955643624488,0.5567114336966055,1.4353761762754984,0.8918790375522453,1.2168441831216381,0.6991874125144794,1.0172021904965889,0.8260422567817839,0.7381093655090856,0.6406299425247224,1.4490473687555196,1.0319890001306449,0.965460870313225,0.9116306657322548,1.295019592636103,1.2407966356860967,0.9106823004560773,0.4341978107407206,1.2512717311920083,1.3198057553917373,1.3850748777629167,0.6164614335860222,1.256811629916303,1.640890440735933,1.2840796536345418,1.1888191092933162,1.4594518833327383,0.6282924506683742,1.5120412543436375,1.1623300258687053,1.1930353437969052,0.9222090541365224,1.0929982387920367,0.8172226775739069,0.9900869897649637,0.9558758297814629,1.199483718578505,1.7076344448052927,1.1828158630609822,1.494883322743625,1.087136996566688,0.6612512919424807,1.4834600083060314,1.7274734812935266,0.656383924717826,1.4118251307350524,1.0107568281334687,0.8583340511873782,0.8115088375834829,1.149321089871845,0.7503699233372256,0.9305208468697236,0.20905066462205946,0.6684317621257845,1.1501729126107052,0.9757063831028618,1.4945866475378975,1.1957104371622223,0.8549817809364022,0.7734399304148389,0.5454306449743045,1.0047424007059127,1.1502720030956115,1.4573226325537174,0.7420957673772488,1.4127054853880234,1.0106005180794806,1.3257642249933292,0.33578066377090043,1.0257672814686534,0.8880020383842507,0.8201262327436948,1.3381745963916285,0.5114860091699454,1.2313197774090554,0.8171991142690668,0.8696341817425168,0.9145798598686437,1.3809556958751228,1.2664781546050412,0.8900129482380612,1.2964237595001633,1.5497017453641297,0.5929024773803786,1.2361354750387417,0.9001576154527858,1.4192799847956756,0.6768157106936429,0.1060687549028081,1.3614033432934023,0.7607290941578609,1.0502442103302299,1.385830193506051,1.5126951073352595,1.1708732884965312,0.6137246714121846,1.3646477834380084,1.5214670946413869,0.8406681269913812,1.209687955863628,1.129091039133992,0.48405124039097414,1.3565966874879059,1.1626481484818594,0.44415939612836,1.3025606042393663,0.6690709069452399,1.3523411376253107,1.0512309233335515,1.5007109211894183,0.7587046227929646,0.9138146350924999,0.8313862795560116,1.849872436715637,0.731093394399264,1.0004592351439345,1.0571557992285996,0.7915106358547453,1.2325679005427994,1.1144433339273265,0.9721900149160924,0.887329534434942,1.5118870859301556,0.3089960293432902,0.956005419789227,1.7645238373953682,0.4371379964574329,0.772833211753403,1.0304395134663389,1.0847540613650521,1.3647221661638573],\"x0\":\" \",\"xaxis\":\"x\",\"y0\":\" \",\"yaxis\":\"y\",\"type\":\"box\"}],                        {\"template\":{\"data\":{\"histogram2dcontour\":[{\"type\":\"histogram2dcontour\",\"colorbar\":{\"outlinewidth\":0,\"ticks\":\"\"},\"colorscale\":[[0.0,\"#0d0887\"],[0.1111111111111111,\"#46039f\"],[0.2222222222222222,\"#7201a8\"],[0.3333333333333333,\"#9c179e\"],[0.4444444444444444,\"#bd3786\"],[0.5555555555555556,\"#d8576b\"],[0.6666666666666666,\"#ed7953\"],[0.7777777777777778,\"#fb9f3a\"],[0.8888888888888888,\"#fdca26\"],[1.0,\"#f0f921\"]]}],\"choropleth\":[{\"type\":\"choropleth\",\"colorbar\":{\"outlinewidth\":0,\"ticks\":\"\"}}],\"histogram2d\":[{\"type\":\"histogram2d\",\"colorbar\":{\"outlinewidth\":0,\"ticks\":\"\"},\"colorscale\":[[0.0,\"#0d0887\"],[0.1111111111111111,\"#46039f\"],[0.2222222222222222,\"#7201a8\"],[0.3333333333333333,\"#9c179e\"],[0.4444444444444444,\"#bd3786\"],[0.5555555555555556,\"#d8576b\"],[0.6666666666666666,\"#ed7953\"],[0.7777777777777778,\"#fb9f3a\"],[0.8888888888888888,\"#fdca26\"],[1.0,\"#f0f921\"]]}],\"heatmap\":[{\"type\":\"heatmap\",\"colorbar\":{\"outlinewidth\":0,\"ticks\":\"\"},\"colorscale\":[[0.0,\"#0d0887\"],[0.1111111111111111,\"#46039f\"],[0.2222222222222222,\"#7201a8\"],[0.3333333333333333,\"#9c179e\"],[0.4444444444444444,\"#bd3786\"],[0.5555555555555556,\"#d8576b\"],[0.6666666666666666,\"#ed7953\"],[0.7777777777777778,\"#fb9f3a\"],[0.8888888888888888,\"#fdca26\"],[1.0,\"#f0f921\"]]}],\"heatmapgl\":[{\"type\":\"heatmapgl\",\"colorbar\":{\"outlinewidth\":0,\"ticks\":\"\"},\"colorscale\":[[0.0,\"#0d0887\"],[0.1111111111111111,\"#46039f\"],[0.2222222222222222,\"#7201a8\"],[0.3333333333333333,\"#9c179e\"],[0.4444444444444444,\"#bd3786\"],[0.5555555555555556,\"#d8576b\"],[0.6666666666666666,\"#ed7953\"],[0.7777777777777778,\"#fb9f3a\"],[0.8888888888888888,\"#fdca26\"],[1.0,\"#f0f921\"]]}],\"contourcarpet\":[{\"type\":\"contourcarpet\",\"colorbar\":{\"outlinewidth\":0,\"ticks\":\"\"}}],\"contour\":[{\"type\":\"contour\",\"colorbar\":{\"outlinewidth\":0,\"ticks\":\"\"},\"colorscale\":[[0.0,\"#0d0887\"],[0.1111111111111111,\"#46039f\"],[0.2222222222222222,\"#7201a8\"],[0.3333333333333333,\"#9c179e\"],[0.4444444444444444,\"#bd3786\"],[0.5555555555555556,\"#d8576b\"],[0.6666666666666666,\"#ed7953\"],[0.7777777777777778,\"#fb9f3a\"],[0.8888888888888888,\"#fdca26\"],[1.0,\"#f0f921\"]]}],\"surface\":[{\"type\":\"surface\",\"colorbar\":{\"outlinewidth\":0,\"ticks\":\"\"},\"colorscale\":[[0.0,\"#0d0887\"],[0.1111111111111111,\"#46039f\"],[0.2222222222222222,\"#7201a8\"],[0.3333333333333333,\"#9c179e\"],[0.4444444444444444,\"#bd3786\"],[0.5555555555555556,\"#d8576b\"],[0.6666666666666666,\"#ed7953\"],[0.7777777777777778,\"#fb9f3a\"],[0.8888888888888888,\"#fdca26\"],[1.0,\"#f0f921\"]]}],\"mesh3d\":[{\"type\":\"mesh3d\",\"colorbar\":{\"outlinewidth\":0,\"ticks\":\"\"}}],\"scatter\":[{\"fillpattern\":{\"fillmode\":\"overlay\",\"size\":10,\"solidity\":0.2},\"type\":\"scatter\"}],\"parcoords\":[{\"type\":\"parcoords\",\"line\":{\"colorbar\":{\"outlinewidth\":0,\"ticks\":\"\"}}}],\"scatterpolargl\":[{\"type\":\"scatterpolargl\",\"marker\":{\"colorbar\":{\"outlinewidth\":0,\"ticks\":\"\"}}}],\"bar\":[{\"error_x\":{\"color\":\"#2a3f5f\"},\"error_y\":{\"color\":\"#2a3f5f\"},\"marker\":{\"line\":{\"color\":\"#E5ECF6\",\"width\":0.5},\"pattern\":{\"fillmode\":\"overlay\",\"size\":10,\"solidity\":0.2}},\"type\":\"bar\"}],\"scattergeo\":[{\"type\":\"scattergeo\",\"marker\":{\"colorbar\":{\"outlinewidth\":0,\"ticks\":\"\"}}}],\"scatterpolar\":[{\"type\":\"scatterpolar\",\"marker\":{\"colorbar\":{\"outlinewidth\":0,\"ticks\":\"\"}}}],\"histogram\":[{\"marker\":{\"pattern\":{\"fillmode\":\"overlay\",\"size\":10,\"solidity\":0.2}},\"type\":\"histogram\"}],\"scattergl\":[{\"type\":\"scattergl\",\"marker\":{\"colorbar\":{\"outlinewidth\":0,\"ticks\":\"\"}}}],\"scatter3d\":[{\"type\":\"scatter3d\",\"line\":{\"colorbar\":{\"outlinewidth\":0,\"ticks\":\"\"}},\"marker\":{\"colorbar\":{\"outlinewidth\":0,\"ticks\":\"\"}}}],\"scattermapbox\":[{\"type\":\"scattermapbox\",\"marker\":{\"colorbar\":{\"outlinewidth\":0,\"ticks\":\"\"}}}],\"scatterternary\":[{\"type\":\"scatterternary\",\"marker\":{\"colorbar\":{\"outlinewidth\":0,\"ticks\":\"\"}}}],\"scattercarpet\":[{\"type\":\"scattercarpet\",\"marker\":{\"colorbar\":{\"outlinewidth\":0,\"ticks\":\"\"}}}],\"carpet\":[{\"aaxis\":{\"endlinecolor\":\"#2a3f5f\",\"gridcolor\":\"white\",\"linecolor\":\"white\",\"minorgridcolor\":\"white\",\"startlinecolor\":\"#2a3f5f\"},\"baxis\":{\"endlinecolor\":\"#2a3f5f\",\"gridcolor\":\"white\",\"linecolor\":\"white\",\"minorgridcolor\":\"white\",\"startlinecolor\":\"#2a3f5f\"},\"type\":\"carpet\"}],\"table\":[{\"cells\":{\"fill\":{\"color\":\"#EBF0F8\"},\"line\":{\"color\":\"white\"}},\"header\":{\"fill\":{\"color\":\"#C8D4E3\"},\"line\":{\"color\":\"white\"}},\"type\":\"table\"}],\"barpolar\":[{\"marker\":{\"line\":{\"color\":\"#E5ECF6\",\"width\":0.5},\"pattern\":{\"fillmode\":\"overlay\",\"size\":10,\"solidity\":0.2}},\"type\":\"barpolar\"}],\"pie\":[{\"automargin\":true,\"type\":\"pie\"}]},\"layout\":{\"autotypenumbers\":\"strict\",\"colorway\":[\"#636efa\",\"#EF553B\",\"#00cc96\",\"#ab63fa\",\"#FFA15A\",\"#19d3f3\",\"#FF6692\",\"#B6E880\",\"#FF97FF\",\"#FECB52\"],\"font\":{\"color\":\"#2a3f5f\"},\"hovermode\":\"closest\",\"hoverlabel\":{\"align\":\"left\"},\"paper_bgcolor\":\"white\",\"plot_bgcolor\":\"#E5ECF6\",\"polar\":{\"bgcolor\":\"#E5ECF6\",\"angularaxis\":{\"gridcolor\":\"white\",\"linecolor\":\"white\",\"ticks\":\"\"},\"radialaxis\":{\"gridcolor\":\"white\",\"linecolor\":\"white\",\"ticks\":\"\"}},\"ternary\":{\"bgcolor\":\"#E5ECF6\",\"aaxis\":{\"gridcolor\":\"white\",\"linecolor\":\"white\",\"ticks\":\"\"},\"baxis\":{\"gridcolor\":\"white\",\"linecolor\":\"white\",\"ticks\":\"\"},\"caxis\":{\"gridcolor\":\"white\",\"linecolor\":\"white\",\"ticks\":\"\"}},\"coloraxis\":{\"colorbar\":{\"outlinewidth\":0,\"ticks\":\"\"}},\"colorscale\":{\"sequential\":[[0.0,\"#0d0887\"],[0.1111111111111111,\"#46039f\"],[0.2222222222222222,\"#7201a8\"],[0.3333333333333333,\"#9c179e\"],[0.4444444444444444,\"#bd3786\"],[0.5555555555555556,\"#d8576b\"],[0.6666666666666666,\"#ed7953\"],[0.7777777777777778,\"#fb9f3a\"],[0.8888888888888888,\"#fdca26\"],[1.0,\"#f0f921\"]],\"sequentialminus\":[[0.0,\"#0d0887\"],[0.1111111111111111,\"#46039f\"],[0.2222222222222222,\"#7201a8\"],[0.3333333333333333,\"#9c179e\"],[0.4444444444444444,\"#bd3786\"],[0.5555555555555556,\"#d8576b\"],[0.6666666666666666,\"#ed7953\"],[0.7777777777777778,\"#fb9f3a\"],[0.8888888888888888,\"#fdca26\"],[1.0,\"#f0f921\"]],\"diverging\":[[0,\"#8e0152\"],[0.1,\"#c51b7d\"],[0.2,\"#de77ae\"],[0.3,\"#f1b6da\"],[0.4,\"#fde0ef\"],[0.5,\"#f7f7f7\"],[0.6,\"#e6f5d0\"],[0.7,\"#b8e186\"],[0.8,\"#7fbc41\"],[0.9,\"#4d9221\"],[1,\"#276419\"]]},\"xaxis\":{\"gridcolor\":\"white\",\"linecolor\":\"white\",\"ticks\":\"\",\"title\":{\"standoff\":15},\"zerolinecolor\":\"white\",\"automargin\":true,\"zerolinewidth\":2},\"yaxis\":{\"gridcolor\":\"white\",\"linecolor\":\"white\",\"ticks\":\"\",\"title\":{\"standoff\":15},\"zerolinecolor\":\"white\",\"automargin\":true,\"zerolinewidth\":2},\"scene\":{\"xaxis\":{\"backgroundcolor\":\"#E5ECF6\",\"gridcolor\":\"white\",\"linecolor\":\"white\",\"showbackground\":true,\"ticks\":\"\",\"zerolinecolor\":\"white\",\"gridwidth\":2},\"yaxis\":{\"backgroundcolor\":\"#E5ECF6\",\"gridcolor\":\"white\",\"linecolor\":\"white\",\"showbackground\":true,\"ticks\":\"\",\"zerolinecolor\":\"white\",\"gridwidth\":2},\"zaxis\":{\"backgroundcolor\":\"#E5ECF6\",\"gridcolor\":\"white\",\"linecolor\":\"white\",\"showbackground\":true,\"ticks\":\"\",\"zerolinecolor\":\"white\",\"gridwidth\":2}},\"shapedefaults\":{\"line\":{\"color\":\"#2a3f5f\"}},\"annotationdefaults\":{\"arrowcolor\":\"#2a3f5f\",\"arrowhead\":0,\"arrowwidth\":1},\"geo\":{\"bgcolor\":\"white\",\"landcolor\":\"#E5ECF6\",\"subunitcolor\":\"white\",\"showland\":true,\"showlakes\":true,\"lakecolor\":\"white\"},\"title\":{\"x\":0.05},\"mapbox\":{\"style\":\"light\"}}},\"xaxis\":{\"anchor\":\"y\",\"domain\":[0.0,1.0],\"title\":{\"text\":\"my_theoretical_sample\"}},\"yaxis\":{\"anchor\":\"x\",\"domain\":[0.0,1.0]},\"legend\":{\"tracegroupgap\":0},\"margin\":{\"t\":60},\"boxmode\":\"group\"},                        {\"responsive\": true}                    ).then(function(){\n",
       "                            \n",
       "var gd = document.getElementById('d62c98a0-fe12-422e-a34f-ea26dcc020b7');\n",
       "var x = new MutationObserver(function (mutations, observer) {{\n",
       "        var display = window.getComputedStyle(gd).display;\n",
       "        if (!display || display === 'none') {{\n",
       "            console.log([gd, 'removed!']);\n",
       "            Plotly.purge(gd);\n",
       "            observer.disconnect();\n",
       "        }}\n",
       "}});\n",
       "\n",
       "// Listen for the removal of the full notebook cells\n",
       "var notebookContainer = gd.closest('#notebook-container');\n",
       "if (notebookContainer) {{\n",
       "    x.observe(notebookContainer, {childList: true});\n",
       "}}\n",
       "\n",
       "// Listen for the clearing of the current output cell\n",
       "var outputEl = gd.closest('.output');\n",
       "if (outputEl) {{\n",
       "    x.observe(outputEl, {childList: true});\n",
       "}}\n",
       "\n",
       "                        })                };                });            </script>        </div>"
      ]
     },
     "metadata": {},
     "output_type": "display_data"
    }
   ],
   "source": [
    "px.box(ab_noNaN, x='my_theoretical_sample')"
   ]
  },
  {
   "cell_type": "code",
   "execution_count": 41,
   "id": "fa3d7b76",
   "metadata": {},
   "outputs": [
    {
     "data": {
      "application/vnd.plotly.v1+json": {
       "config": {
        "plotlyServerURL": "https://plot.ly"
       },
       "data": [
        {
         "alignmentgroup": "True",
         "hovertemplate": "value=%{x}<br>variable=%{y}<extra></extra>",
         "legendgroup": "",
         "marker": {
          "color": "#636efa"
         },
         "name": "",
         "notched": false,
         "offsetgroup": "",
         "orientation": "h",
         "showlegend": false,
         "type": "box",
         "x": [
          0.8,
          0.7,
          0.3,
          1.6,
          1.4,
          1.7,
          1.2,
          0.8,
          1.1,
          1.7,
          1.5,
          1.3,
          1,
          0.8,
          1,
          0.5,
          0.8,
          0.6,
          0.7,
          0.5,
          1.2,
          0.5,
          0.8,
          1.4,
          0.7,
          1.2,
          1.1,
          1,
          0.9,
          0.6,
          0.9,
          1.8,
          0.4,
          0.5,
          0.4,
          0.9,
          0.6,
          0.8,
          0.5,
          0.4,
          0.2,
          1.1,
          1,
          0.7,
          0.8,
          0.4,
          1.5,
          1,
          1.4,
          1.3,
          0.9,
          1.5,
          0.9,
          0.9,
          0.1,
          1.2,
          0.6,
          0.8,
          0.6,
          1.2,
          1.2,
          0.8,
          0.8,
          0.8,
          1.6,
          0.8,
          1.6,
          1,
          1,
          0.8,
          0.8,
          0.5,
          0.7,
          0.7,
          0.7,
          0.7,
          1,
          0.9,
          1.1,
          0.6,
          0.8,
          1.4,
          1.7,
          1.5,
          0.9,
          0.3,
          0.8,
          1,
          0.9,
          1.2,
          1.2,
          0.9,
          1.8,
          0.9,
          0.4,
          0.9,
          0.6,
          0.5,
          0.5,
          1,
          0.8,
          1.5,
          1.4,
          0.4,
          2.1,
          0.6,
          0.2,
          0.5,
          1.1,
          1.8,
          0.6,
          0.6,
          0.8,
          0.9,
          1.1,
          1.2,
          0.6,
          0.7,
          1,
          1,
          0.6,
          0.9,
          1.2,
          0.6,
          1.4,
          0.5,
          1,
          0.6,
          0.9,
          1.4,
          1.1,
          1,
          2,
          1,
          1.5,
          0.6,
          1,
          1.2,
          1,
          0.7,
          0.7,
          0.8,
          0.6,
          0.7,
          1,
          0.4,
          0.9,
          1.5,
          1,
          0.7,
          0.7,
          0.9,
          0.7,
          1.1,
          0.4,
          0.4,
          1.2,
          0.6,
          0.6,
          0.5,
          0.7,
          0.7,
          1.2,
          1.5,
          1,
          1,
          1.4,
          1.1,
          0.4,
          0.8,
          1.3,
          1,
          1,
          0.6,
          1.2,
          0.8,
          1,
          0.7,
          0.9,
          0.7,
          0.9,
          1.2,
          1.3,
          0.7,
          0.6,
          1.1,
          0.6,
          1,
          0.8,
          0.8,
          1.4,
          0.5,
          1.6,
          0.5,
          0.4,
          1.2,
          0.6,
          0.5,
          0.5,
          0.6,
          0.8,
          0.9,
          1.4,
          0.7,
          0.8,
          0.9,
          0.5,
          0.7,
          0.4,
          0.9,
          1.2,
          1.3,
          0.9,
          0.3,
          0.4,
          1.7,
          1,
          0.7,
          0.4,
          0.4,
          0.9,
          0.6,
          1.3,
          1,
          1.6,
          0.5,
          0.6,
          0.6,
          0.7,
          0.7,
          1.5,
          1.1,
          0.5,
          0.4,
          1.4,
          0.8,
          0.7,
          0.5,
          0.5,
          0.7,
          1.1,
          0.9,
          0.8,
          0.5,
          0.8,
          1.2,
          1.2,
          0.8,
          1,
          0.8,
          1.6,
          1.4,
          0.5,
          1,
          0.8,
          1.2,
          1.2,
          0.8,
          0.6,
          0.6,
          1.3,
          0.7,
          0.5,
          0.4,
          1.5,
          1.2,
          0.8,
          0.5,
          1.1,
          0.5,
          1.5,
          0.6,
          1,
          0.9,
          0.5,
          1,
          1,
          0.3,
          0.6,
          0.8,
          1.5,
          1,
          0.8,
          1,
          0.6,
          0.5,
          1.2,
          0.7,
          1.1,
          0.7,
          1.2,
          1.3,
          1.5,
          1.7,
          0.5,
          0.7,
          0.7,
          0.4,
          1,
          1,
          1.7,
          1.3,
          1.4,
          0.4,
          0.8,
          0.5,
          0.8,
          1.4,
          1.7,
          0.9,
          0.7,
          0.9,
          1,
          0.5,
          1.1,
          0.7,
          0.7,
          0.9,
          1,
          1.1066225103637195,
          0.9722454668455022,
          0.9772641262551858,
          1.4711181237072632,
          1.483448868041174,
          0.6916767109932962,
          0.7412212200727465,
          0.860166818575792,
          1.2059902046196713,
          1.536355642718692,
          1.425242435336631,
          0.8817577849125996,
          0.6673620639122065,
          1.3669151438515614,
          1.0554427495232572,
          0.7753807469153989,
          1.250214904425234,
          0.8934446319758524,
          0.9069469106904434,
          1.1057884226032797,
          0.35641250266933144,
          0.8068939829528667,
          1.1191482968704707,
          1.1580235071686968,
          1.627763103345894,
          0.9967664870898058,
          1.2870092112857834,
          0.8153358745138598,
          0.49675397799552035,
          1.0007303817506374,
          1.266459801512994,
          0.6673468840431664,
          1.0704705161340362,
          0.5990162096037863,
          0.8849219268468265,
          1.2940512195361613,
          0.45352784796909906,
          0.855665935849025,
          1.293509714230352,
          1.1131544559523756,
          1.304543317544688,
          0.5579651668900956,
          1.1045961243465567,
          1.0148683001383856,
          0.7812666177469175,
          0.6132643934324372,
          0.2929490363993078,
          1.2168139665880608,
          1.4431350794975901,
          1.3023697770361922,
          1.334986382013095,
          0.8053710521906396,
          1.431260833247529,
          1.1155264218637144,
          0.9643865881857544,
          1.3633799860406417,
          0.9660704019904852,
          0.7166765914383828,
          0.8203279526032297,
          1.0663866031015177,
          1.5222664722813444,
          0.5573033577072356,
          0.8374466552513731,
          0.8731678673514021,
          0.6963026746375747,
          1.2330338041885802,
          0.9436696499815459,
          0.2301000242991873,
          0.7303074637918932,
          0.9485635902645472,
          1.4170030605846247,
          1.4251009704341397,
          0.2314084207980711,
          1.2069453075462588,
          1.1676404982153477,
          1.4023220377531245,
          1.2246231312401894,
          0.20111475992960182,
          0.37761997553392324,
          1.1002491241367567,
          1.4077262507392985,
          1.0056338876210256,
          0.7446699009578983,
          1.4559543310830236,
          1.0064861161752081,
          0.41523282226550007,
          0.998233469401592,
          1.2032460664859104,
          0.30837826739551044,
          0.6106856808157116,
          1.4620689405572653,
          1.062934128799256,
          1.1351664665609726,
          0.5812554816899287,
          0.6540858125145207,
          1.365972688090525,
          1.0350231755672914,
          1.2433992224844448,
          1.2130626698399254,
          1.3529927961623134,
          0.9328583566030408,
          1.5265786380337758,
          1.2228427104229793,
          0.9676420498410393,
          0.636896955706667,
          0.5348743875719969,
          1.3096586530690795,
          0.9518557390357583,
          1.105987173942193,
          0.33922664699468585,
          0.4137870027516377,
          1.4543705218715597,
          1.3188497191327384,
          1.0831963844626453,
          0.5160327581213813,
          0.5974523446598646,
          1.3889100436245365,
          0.8423863650575859,
          0.732874002504805,
          0.9827358143606304,
          0.7217278878164137,
          1.5294458972867022,
          0.9680925607044955,
          1.2029576614444506,
          0.663170984685969,
          1.1417335700067404,
          1.1330843524024412,
          0.6878739040754007,
          1.5999603396159894,
          1.2394501804151197,
          0.9242342456878949,
          -0.04079361909244206,
          0.983594431697444,
          0.985139875492642,
          1.4083746586309471,
          1.0705717000593407,
          1.5256167785881245,
          0.8985259900236567,
          0.45059177434297804,
          1.6228426616174563,
          1.0834593229160772,
          1.4920403408005118,
          1.1370509177176138,
          1.1043862947941019,
          1.1003790712924062,
          0.7946987834995312,
          1.3384070666841121,
          0.9526482878791189,
          0.8332278436183562,
          0.9747787972021512,
          0.6709619877366055,
          0.9218313301308071,
          0.9727589478037174,
          1.170471916569093,
          1.5059624939302898,
          0.49695980735684087,
          0.6610144873194269,
          0.7011565615963999,
          0.07478204297654101,
          0.941114028844963,
          1.0241230486255313,
          0.6015651682754897,
          0.8881927090197247,
          1.068398932300699,
          1.7927991171102309,
          1.1977722266318522,
          0.46873015705616594,
          0.8016403505656244,
          1.4815229031347565,
          1.8950580803273347,
          1.0358846743457464,
          0.9532916096074714,
          1.104413234310812,
          0.5585635691549498,
          0.762163030851769,
          0.42095954131575186,
          0.7652988153127855,
          0.5318709033388003,
          1.595690287629019,
          1.1327347167388877,
          1.2948934128425684,
          1.0816127489134952,
          1.7710964603879833,
          1.1994126915058474,
          1.3176068250347077,
          0.8405307594528545,
          0.5916383915751757,
          0.6858116646487381,
          1.2234955643624488,
          0.5567114336966055,
          1.4353761762754984,
          0.8918790375522453,
          1.2168441831216381,
          0.6991874125144794,
          1.0172021904965889,
          0.8260422567817839,
          0.7381093655090856,
          0.6406299425247224,
          1.4490473687555196,
          1.0319890001306449,
          0.965460870313225,
          0.9116306657322548,
          1.295019592636103,
          1.2407966356860967,
          0.9106823004560773,
          0.4341978107407206,
          1.2512717311920083,
          1.3198057553917373,
          1.3850748777629167,
          0.6164614335860222,
          1.256811629916303,
          1.640890440735933,
          1.2840796536345418,
          1.1888191092933162,
          1.4594518833327383,
          0.6282924506683742,
          1.5120412543436375,
          1.1623300258687053,
          1.1930353437969052,
          0.9222090541365224,
          1.0929982387920367,
          0.8172226775739069,
          0.9900869897649637,
          0.9558758297814629,
          1.199483718578505,
          1.7076344448052927,
          1.1828158630609822,
          1.494883322743625,
          1.087136996566688,
          0.6612512919424807,
          1.4834600083060314,
          1.7274734812935266,
          0.656383924717826,
          1.4118251307350524,
          1.0107568281334687,
          0.8583340511873782,
          0.8115088375834829,
          1.149321089871845,
          0.7503699233372256,
          0.9305208468697236,
          0.20905066462205946,
          0.6684317621257845,
          1.1501729126107052,
          0.9757063831028618,
          1.4945866475378975,
          1.1957104371622223,
          0.8549817809364022,
          0.7734399304148389,
          0.5454306449743045,
          1.0047424007059127,
          1.1502720030956115,
          1.4573226325537174,
          0.7420957673772488,
          1.4127054853880234,
          1.0106005180794806,
          1.3257642249933292,
          0.33578066377090043,
          1.0257672814686534,
          0.8880020383842507,
          0.8201262327436948,
          1.3381745963916285,
          0.5114860091699454,
          1.2313197774090554,
          0.8171991142690668,
          0.8696341817425168,
          0.9145798598686437,
          1.3809556958751228,
          1.2664781546050412,
          0.8900129482380612,
          1.2964237595001633,
          1.5497017453641297,
          0.5929024773803786,
          1.2361354750387417,
          0.9001576154527858,
          1.4192799847956756,
          0.6768157106936429,
          0.1060687549028081,
          1.3614033432934023,
          0.7607290941578609,
          1.0502442103302299,
          1.385830193506051,
          1.5126951073352595,
          1.1708732884965312,
          0.6137246714121846,
          1.3646477834380084,
          1.5214670946413869,
          0.8406681269913812,
          1.209687955863628,
          1.129091039133992,
          0.48405124039097414,
          1.3565966874879059,
          1.1626481484818594,
          0.44415939612836,
          1.3025606042393663,
          0.6690709069452399,
          1.3523411376253107,
          1.0512309233335515,
          1.5007109211894183,
          0.7587046227929646,
          0.9138146350924999,
          0.8313862795560116,
          1.849872436715637,
          0.731093394399264,
          1.0004592351439345,
          1.0571557992285996,
          0.7915106358547453,
          1.2325679005427994,
          1.1144433339273265,
          0.9721900149160924,
          0.887329534434942,
          1.5118870859301556,
          0.3089960293432902,
          0.956005419789227,
          1.7645238373953682,
          0.4371379964574329,
          0.772833211753403,
          1.0304395134663389,
          1.0847540613650521,
          1.3647221661638573
         ],
         "x0": " ",
         "xaxis": "x",
         "y": [
          "Thick",
          "Thick",
          "Thick",
          "Thick",
          "Thick",
          "Thick",
          "Thick",
          "Thick",
          "Thick",
          "Thick",
          "Thick",
          "Thick",
          "Thick",
          "Thick",
          "Thick",
          "Thick",
          "Thick",
          "Thick",
          "Thick",
          "Thick",
          "Thick",
          "Thick",
          "Thick",
          "Thick",
          "Thick",
          "Thick",
          "Thick",
          "Thick",
          "Thick",
          "Thick",
          "Thick",
          "Thick",
          "Thick",
          "Thick",
          "Thick",
          "Thick",
          "Thick",
          "Thick",
          "Thick",
          "Thick",
          "Thick",
          "Thick",
          "Thick",
          "Thick",
          "Thick",
          "Thick",
          "Thick",
          "Thick",
          "Thick",
          "Thick",
          "Thick",
          "Thick",
          "Thick",
          "Thick",
          "Thick",
          "Thick",
          "Thick",
          "Thick",
          "Thick",
          "Thick",
          "Thick",
          "Thick",
          "Thick",
          "Thick",
          "Thick",
          "Thick",
          "Thick",
          "Thick",
          "Thick",
          "Thick",
          "Thick",
          "Thick",
          "Thick",
          "Thick",
          "Thick",
          "Thick",
          "Thick",
          "Thick",
          "Thick",
          "Thick",
          "Thick",
          "Thick",
          "Thick",
          "Thick",
          "Thick",
          "Thick",
          "Thick",
          "Thick",
          "Thick",
          "Thick",
          "Thick",
          "Thick",
          "Thick",
          "Thick",
          "Thick",
          "Thick",
          "Thick",
          "Thick",
          "Thick",
          "Thick",
          "Thick",
          "Thick",
          "Thick",
          "Thick",
          "Thick",
          "Thick",
          "Thick",
          "Thick",
          "Thick",
          "Thick",
          "Thick",
          "Thick",
          "Thick",
          "Thick",
          "Thick",
          "Thick",
          "Thick",
          "Thick",
          "Thick",
          "Thick",
          "Thick",
          "Thick",
          "Thick",
          "Thick",
          "Thick",
          "Thick",
          "Thick",
          "Thick",
          "Thick",
          "Thick",
          "Thick",
          "Thick",
          "Thick",
          "Thick",
          "Thick",
          "Thick",
          "Thick",
          "Thick",
          "Thick",
          "Thick",
          "Thick",
          "Thick",
          "Thick",
          "Thick",
          "Thick",
          "Thick",
          "Thick",
          "Thick",
          "Thick",
          "Thick",
          "Thick",
          "Thick",
          "Thick",
          "Thick",
          "Thick",
          "Thick",
          "Thick",
          "Thick",
          "Thick",
          "Thick",
          "Thick",
          "Thick",
          "Thick",
          "Thick",
          "Thick",
          "Thick",
          "Thick",
          "Thick",
          "Thick",
          "Thick",
          "Thick",
          "Thick",
          "Thick",
          "Thick",
          "Thick",
          "Thick",
          "Thick",
          "Thick",
          "Thick",
          "Thick",
          "Thick",
          "Thick",
          "Thick",
          "Thick",
          "Thick",
          "Thick",
          "Thick",
          "Thick",
          "Thick",
          "Thick",
          "Thick",
          "Thick",
          "Thick",
          "Thick",
          "Thick",
          "Thick",
          "Thick",
          "Thick",
          "Thick",
          "Thick",
          "Thick",
          "Thick",
          "Thick",
          "Thick",
          "Thick",
          "Thick",
          "Thick",
          "Thick",
          "Thick",
          "Thick",
          "Thick",
          "Thick",
          "Thick",
          "Thick",
          "Thick",
          "Thick",
          "Thick",
          "Thick",
          "Thick",
          "Thick",
          "Thick",
          "Thick",
          "Thick",
          "Thick",
          "Thick",
          "Thick",
          "Thick",
          "Thick",
          "Thick",
          "Thick",
          "Thick",
          "Thick",
          "Thick",
          "Thick",
          "Thick",
          "Thick",
          "Thick",
          "Thick",
          "Thick",
          "Thick",
          "Thick",
          "Thick",
          "Thick",
          "Thick",
          "Thick",
          "Thick",
          "Thick",
          "Thick",
          "Thick",
          "Thick",
          "Thick",
          "Thick",
          "Thick",
          "Thick",
          "Thick",
          "Thick",
          "Thick",
          "Thick",
          "Thick",
          "Thick",
          "Thick",
          "Thick",
          "Thick",
          "Thick",
          "Thick",
          "Thick",
          "Thick",
          "Thick",
          "Thick",
          "Thick",
          "Thick",
          "Thick",
          "Thick",
          "Thick",
          "Thick",
          "Thick",
          "Thick",
          "Thick",
          "Thick",
          "Thick",
          "Thick",
          "Thick",
          "Thick",
          "Thick",
          "Thick",
          "Thick",
          "Thick",
          "Thick",
          "Thick",
          "Thick",
          "Thick",
          "Thick",
          "Thick",
          "Thick",
          "Thick",
          "Thick",
          "Thick",
          "Thick",
          "Thick",
          "Thick",
          "Thick",
          "Thick",
          "Thick",
          "Thick",
          "Thick",
          "Thick",
          "Thick",
          "Thick",
          "Thick",
          "Thick",
          "Thick",
          "Thick",
          "Thick",
          "Thick",
          "Thick",
          "Thick",
          "Thick",
          "Thick",
          "Thick",
          "my_theoretical_sample",
          "my_theoretical_sample",
          "my_theoretical_sample",
          "my_theoretical_sample",
          "my_theoretical_sample",
          "my_theoretical_sample",
          "my_theoretical_sample",
          "my_theoretical_sample",
          "my_theoretical_sample",
          "my_theoretical_sample",
          "my_theoretical_sample",
          "my_theoretical_sample",
          "my_theoretical_sample",
          "my_theoretical_sample",
          "my_theoretical_sample",
          "my_theoretical_sample",
          "my_theoretical_sample",
          "my_theoretical_sample",
          "my_theoretical_sample",
          "my_theoretical_sample",
          "my_theoretical_sample",
          "my_theoretical_sample",
          "my_theoretical_sample",
          "my_theoretical_sample",
          "my_theoretical_sample",
          "my_theoretical_sample",
          "my_theoretical_sample",
          "my_theoretical_sample",
          "my_theoretical_sample",
          "my_theoretical_sample",
          "my_theoretical_sample",
          "my_theoretical_sample",
          "my_theoretical_sample",
          "my_theoretical_sample",
          "my_theoretical_sample",
          "my_theoretical_sample",
          "my_theoretical_sample",
          "my_theoretical_sample",
          "my_theoretical_sample",
          "my_theoretical_sample",
          "my_theoretical_sample",
          "my_theoretical_sample",
          "my_theoretical_sample",
          "my_theoretical_sample",
          "my_theoretical_sample",
          "my_theoretical_sample",
          "my_theoretical_sample",
          "my_theoretical_sample",
          "my_theoretical_sample",
          "my_theoretical_sample",
          "my_theoretical_sample",
          "my_theoretical_sample",
          "my_theoretical_sample",
          "my_theoretical_sample",
          "my_theoretical_sample",
          "my_theoretical_sample",
          "my_theoretical_sample",
          "my_theoretical_sample",
          "my_theoretical_sample",
          "my_theoretical_sample",
          "my_theoretical_sample",
          "my_theoretical_sample",
          "my_theoretical_sample",
          "my_theoretical_sample",
          "my_theoretical_sample",
          "my_theoretical_sample",
          "my_theoretical_sample",
          "my_theoretical_sample",
          "my_theoretical_sample",
          "my_theoretical_sample",
          "my_theoretical_sample",
          "my_theoretical_sample",
          "my_theoretical_sample",
          "my_theoretical_sample",
          "my_theoretical_sample",
          "my_theoretical_sample",
          "my_theoretical_sample",
          "my_theoretical_sample",
          "my_theoretical_sample",
          "my_theoretical_sample",
          "my_theoretical_sample",
          "my_theoretical_sample",
          "my_theoretical_sample",
          "my_theoretical_sample",
          "my_theoretical_sample",
          "my_theoretical_sample",
          "my_theoretical_sample",
          "my_theoretical_sample",
          "my_theoretical_sample",
          "my_theoretical_sample",
          "my_theoretical_sample",
          "my_theoretical_sample",
          "my_theoretical_sample",
          "my_theoretical_sample",
          "my_theoretical_sample",
          "my_theoretical_sample",
          "my_theoretical_sample",
          "my_theoretical_sample",
          "my_theoretical_sample",
          "my_theoretical_sample",
          "my_theoretical_sample",
          "my_theoretical_sample",
          "my_theoretical_sample",
          "my_theoretical_sample",
          "my_theoretical_sample",
          "my_theoretical_sample",
          "my_theoretical_sample",
          "my_theoretical_sample",
          "my_theoretical_sample",
          "my_theoretical_sample",
          "my_theoretical_sample",
          "my_theoretical_sample",
          "my_theoretical_sample",
          "my_theoretical_sample",
          "my_theoretical_sample",
          "my_theoretical_sample",
          "my_theoretical_sample",
          "my_theoretical_sample",
          "my_theoretical_sample",
          "my_theoretical_sample",
          "my_theoretical_sample",
          "my_theoretical_sample",
          "my_theoretical_sample",
          "my_theoretical_sample",
          "my_theoretical_sample",
          "my_theoretical_sample",
          "my_theoretical_sample",
          "my_theoretical_sample",
          "my_theoretical_sample",
          "my_theoretical_sample",
          "my_theoretical_sample",
          "my_theoretical_sample",
          "my_theoretical_sample",
          "my_theoretical_sample",
          "my_theoretical_sample",
          "my_theoretical_sample",
          "my_theoretical_sample",
          "my_theoretical_sample",
          "my_theoretical_sample",
          "my_theoretical_sample",
          "my_theoretical_sample",
          "my_theoretical_sample",
          "my_theoretical_sample",
          "my_theoretical_sample",
          "my_theoretical_sample",
          "my_theoretical_sample",
          "my_theoretical_sample",
          "my_theoretical_sample",
          "my_theoretical_sample",
          "my_theoretical_sample",
          "my_theoretical_sample",
          "my_theoretical_sample",
          "my_theoretical_sample",
          "my_theoretical_sample",
          "my_theoretical_sample",
          "my_theoretical_sample",
          "my_theoretical_sample",
          "my_theoretical_sample",
          "my_theoretical_sample",
          "my_theoretical_sample",
          "my_theoretical_sample",
          "my_theoretical_sample",
          "my_theoretical_sample",
          "my_theoretical_sample",
          "my_theoretical_sample",
          "my_theoretical_sample",
          "my_theoretical_sample",
          "my_theoretical_sample",
          "my_theoretical_sample",
          "my_theoretical_sample",
          "my_theoretical_sample",
          "my_theoretical_sample",
          "my_theoretical_sample",
          "my_theoretical_sample",
          "my_theoretical_sample",
          "my_theoretical_sample",
          "my_theoretical_sample",
          "my_theoretical_sample",
          "my_theoretical_sample",
          "my_theoretical_sample",
          "my_theoretical_sample",
          "my_theoretical_sample",
          "my_theoretical_sample",
          "my_theoretical_sample",
          "my_theoretical_sample",
          "my_theoretical_sample",
          "my_theoretical_sample",
          "my_theoretical_sample",
          "my_theoretical_sample",
          "my_theoretical_sample",
          "my_theoretical_sample",
          "my_theoretical_sample",
          "my_theoretical_sample",
          "my_theoretical_sample",
          "my_theoretical_sample",
          "my_theoretical_sample",
          "my_theoretical_sample",
          "my_theoretical_sample",
          "my_theoretical_sample",
          "my_theoretical_sample",
          "my_theoretical_sample",
          "my_theoretical_sample",
          "my_theoretical_sample",
          "my_theoretical_sample",
          "my_theoretical_sample",
          "my_theoretical_sample",
          "my_theoretical_sample",
          "my_theoretical_sample",
          "my_theoretical_sample",
          "my_theoretical_sample",
          "my_theoretical_sample",
          "my_theoretical_sample",
          "my_theoretical_sample",
          "my_theoretical_sample",
          "my_theoretical_sample",
          "my_theoretical_sample",
          "my_theoretical_sample",
          "my_theoretical_sample",
          "my_theoretical_sample",
          "my_theoretical_sample",
          "my_theoretical_sample",
          "my_theoretical_sample",
          "my_theoretical_sample",
          "my_theoretical_sample",
          "my_theoretical_sample",
          "my_theoretical_sample",
          "my_theoretical_sample",
          "my_theoretical_sample",
          "my_theoretical_sample",
          "my_theoretical_sample",
          "my_theoretical_sample",
          "my_theoretical_sample",
          "my_theoretical_sample",
          "my_theoretical_sample",
          "my_theoretical_sample",
          "my_theoretical_sample",
          "my_theoretical_sample",
          "my_theoretical_sample",
          "my_theoretical_sample",
          "my_theoretical_sample",
          "my_theoretical_sample",
          "my_theoretical_sample",
          "my_theoretical_sample",
          "my_theoretical_sample",
          "my_theoretical_sample",
          "my_theoretical_sample",
          "my_theoretical_sample",
          "my_theoretical_sample",
          "my_theoretical_sample",
          "my_theoretical_sample",
          "my_theoretical_sample",
          "my_theoretical_sample",
          "my_theoretical_sample",
          "my_theoretical_sample",
          "my_theoretical_sample",
          "my_theoretical_sample",
          "my_theoretical_sample",
          "my_theoretical_sample",
          "my_theoretical_sample",
          "my_theoretical_sample",
          "my_theoretical_sample",
          "my_theoretical_sample",
          "my_theoretical_sample",
          "my_theoretical_sample",
          "my_theoretical_sample",
          "my_theoretical_sample",
          "my_theoretical_sample",
          "my_theoretical_sample",
          "my_theoretical_sample",
          "my_theoretical_sample",
          "my_theoretical_sample",
          "my_theoretical_sample",
          "my_theoretical_sample",
          "my_theoretical_sample",
          "my_theoretical_sample",
          "my_theoretical_sample",
          "my_theoretical_sample",
          "my_theoretical_sample",
          "my_theoretical_sample",
          "my_theoretical_sample",
          "my_theoretical_sample",
          "my_theoretical_sample",
          "my_theoretical_sample",
          "my_theoretical_sample",
          "my_theoretical_sample",
          "my_theoretical_sample",
          "my_theoretical_sample",
          "my_theoretical_sample",
          "my_theoretical_sample",
          "my_theoretical_sample",
          "my_theoretical_sample",
          "my_theoretical_sample",
          "my_theoretical_sample",
          "my_theoretical_sample",
          "my_theoretical_sample",
          "my_theoretical_sample",
          "my_theoretical_sample",
          "my_theoretical_sample",
          "my_theoretical_sample",
          "my_theoretical_sample",
          "my_theoretical_sample",
          "my_theoretical_sample",
          "my_theoretical_sample",
          "my_theoretical_sample",
          "my_theoretical_sample",
          "my_theoretical_sample",
          "my_theoretical_sample",
          "my_theoretical_sample",
          "my_theoretical_sample",
          "my_theoretical_sample",
          "my_theoretical_sample",
          "my_theoretical_sample",
          "my_theoretical_sample",
          "my_theoretical_sample",
          "my_theoretical_sample",
          "my_theoretical_sample",
          "my_theoretical_sample",
          "my_theoretical_sample",
          "my_theoretical_sample"
         ],
         "y0": " ",
         "yaxis": "y"
        }
       ],
       "layout": {
        "boxmode": "group",
        "legend": {
         "tracegroupgap": 0
        },
        "margin": {
         "t": 60
        },
        "template": {
         "data": {
          "bar": [
           {
            "error_x": {
             "color": "#2a3f5f"
            },
            "error_y": {
             "color": "#2a3f5f"
            },
            "marker": {
             "line": {
              "color": "#E5ECF6",
              "width": 0.5
             },
             "pattern": {
              "fillmode": "overlay",
              "size": 10,
              "solidity": 0.2
             }
            },
            "type": "bar"
           }
          ],
          "barpolar": [
           {
            "marker": {
             "line": {
              "color": "#E5ECF6",
              "width": 0.5
             },
             "pattern": {
              "fillmode": "overlay",
              "size": 10,
              "solidity": 0.2
             }
            },
            "type": "barpolar"
           }
          ],
          "carpet": [
           {
            "aaxis": {
             "endlinecolor": "#2a3f5f",
             "gridcolor": "white",
             "linecolor": "white",
             "minorgridcolor": "white",
             "startlinecolor": "#2a3f5f"
            },
            "baxis": {
             "endlinecolor": "#2a3f5f",
             "gridcolor": "white",
             "linecolor": "white",
             "minorgridcolor": "white",
             "startlinecolor": "#2a3f5f"
            },
            "type": "carpet"
           }
          ],
          "choropleth": [
           {
            "colorbar": {
             "outlinewidth": 0,
             "ticks": ""
            },
            "type": "choropleth"
           }
          ],
          "contour": [
           {
            "colorbar": {
             "outlinewidth": 0,
             "ticks": ""
            },
            "colorscale": [
             [
              0,
              "#0d0887"
             ],
             [
              0.1111111111111111,
              "#46039f"
             ],
             [
              0.2222222222222222,
              "#7201a8"
             ],
             [
              0.3333333333333333,
              "#9c179e"
             ],
             [
              0.4444444444444444,
              "#bd3786"
             ],
             [
              0.5555555555555556,
              "#d8576b"
             ],
             [
              0.6666666666666666,
              "#ed7953"
             ],
             [
              0.7777777777777778,
              "#fb9f3a"
             ],
             [
              0.8888888888888888,
              "#fdca26"
             ],
             [
              1,
              "#f0f921"
             ]
            ],
            "type": "contour"
           }
          ],
          "contourcarpet": [
           {
            "colorbar": {
             "outlinewidth": 0,
             "ticks": ""
            },
            "type": "contourcarpet"
           }
          ],
          "heatmap": [
           {
            "colorbar": {
             "outlinewidth": 0,
             "ticks": ""
            },
            "colorscale": [
             [
              0,
              "#0d0887"
             ],
             [
              0.1111111111111111,
              "#46039f"
             ],
             [
              0.2222222222222222,
              "#7201a8"
             ],
             [
              0.3333333333333333,
              "#9c179e"
             ],
             [
              0.4444444444444444,
              "#bd3786"
             ],
             [
              0.5555555555555556,
              "#d8576b"
             ],
             [
              0.6666666666666666,
              "#ed7953"
             ],
             [
              0.7777777777777778,
              "#fb9f3a"
             ],
             [
              0.8888888888888888,
              "#fdca26"
             ],
             [
              1,
              "#f0f921"
             ]
            ],
            "type": "heatmap"
           }
          ],
          "heatmapgl": [
           {
            "colorbar": {
             "outlinewidth": 0,
             "ticks": ""
            },
            "colorscale": [
             [
              0,
              "#0d0887"
             ],
             [
              0.1111111111111111,
              "#46039f"
             ],
             [
              0.2222222222222222,
              "#7201a8"
             ],
             [
              0.3333333333333333,
              "#9c179e"
             ],
             [
              0.4444444444444444,
              "#bd3786"
             ],
             [
              0.5555555555555556,
              "#d8576b"
             ],
             [
              0.6666666666666666,
              "#ed7953"
             ],
             [
              0.7777777777777778,
              "#fb9f3a"
             ],
             [
              0.8888888888888888,
              "#fdca26"
             ],
             [
              1,
              "#f0f921"
             ]
            ],
            "type": "heatmapgl"
           }
          ],
          "histogram": [
           {
            "marker": {
             "pattern": {
              "fillmode": "overlay",
              "size": 10,
              "solidity": 0.2
             }
            },
            "type": "histogram"
           }
          ],
          "histogram2d": [
           {
            "colorbar": {
             "outlinewidth": 0,
             "ticks": ""
            },
            "colorscale": [
             [
              0,
              "#0d0887"
             ],
             [
              0.1111111111111111,
              "#46039f"
             ],
             [
              0.2222222222222222,
              "#7201a8"
             ],
             [
              0.3333333333333333,
              "#9c179e"
             ],
             [
              0.4444444444444444,
              "#bd3786"
             ],
             [
              0.5555555555555556,
              "#d8576b"
             ],
             [
              0.6666666666666666,
              "#ed7953"
             ],
             [
              0.7777777777777778,
              "#fb9f3a"
             ],
             [
              0.8888888888888888,
              "#fdca26"
             ],
             [
              1,
              "#f0f921"
             ]
            ],
            "type": "histogram2d"
           }
          ],
          "histogram2dcontour": [
           {
            "colorbar": {
             "outlinewidth": 0,
             "ticks": ""
            },
            "colorscale": [
             [
              0,
              "#0d0887"
             ],
             [
              0.1111111111111111,
              "#46039f"
             ],
             [
              0.2222222222222222,
              "#7201a8"
             ],
             [
              0.3333333333333333,
              "#9c179e"
             ],
             [
              0.4444444444444444,
              "#bd3786"
             ],
             [
              0.5555555555555556,
              "#d8576b"
             ],
             [
              0.6666666666666666,
              "#ed7953"
             ],
             [
              0.7777777777777778,
              "#fb9f3a"
             ],
             [
              0.8888888888888888,
              "#fdca26"
             ],
             [
              1,
              "#f0f921"
             ]
            ],
            "type": "histogram2dcontour"
           }
          ],
          "mesh3d": [
           {
            "colorbar": {
             "outlinewidth": 0,
             "ticks": ""
            },
            "type": "mesh3d"
           }
          ],
          "parcoords": [
           {
            "line": {
             "colorbar": {
              "outlinewidth": 0,
              "ticks": ""
             }
            },
            "type": "parcoords"
           }
          ],
          "pie": [
           {
            "automargin": true,
            "type": "pie"
           }
          ],
          "scatter": [
           {
            "fillpattern": {
             "fillmode": "overlay",
             "size": 10,
             "solidity": 0.2
            },
            "type": "scatter"
           }
          ],
          "scatter3d": [
           {
            "line": {
             "colorbar": {
              "outlinewidth": 0,
              "ticks": ""
             }
            },
            "marker": {
             "colorbar": {
              "outlinewidth": 0,
              "ticks": ""
             }
            },
            "type": "scatter3d"
           }
          ],
          "scattercarpet": [
           {
            "marker": {
             "colorbar": {
              "outlinewidth": 0,
              "ticks": ""
             }
            },
            "type": "scattercarpet"
           }
          ],
          "scattergeo": [
           {
            "marker": {
             "colorbar": {
              "outlinewidth": 0,
              "ticks": ""
             }
            },
            "type": "scattergeo"
           }
          ],
          "scattergl": [
           {
            "marker": {
             "colorbar": {
              "outlinewidth": 0,
              "ticks": ""
             }
            },
            "type": "scattergl"
           }
          ],
          "scattermapbox": [
           {
            "marker": {
             "colorbar": {
              "outlinewidth": 0,
              "ticks": ""
             }
            },
            "type": "scattermapbox"
           }
          ],
          "scatterpolar": [
           {
            "marker": {
             "colorbar": {
              "outlinewidth": 0,
              "ticks": ""
             }
            },
            "type": "scatterpolar"
           }
          ],
          "scatterpolargl": [
           {
            "marker": {
             "colorbar": {
              "outlinewidth": 0,
              "ticks": ""
             }
            },
            "type": "scatterpolargl"
           }
          ],
          "scatterternary": [
           {
            "marker": {
             "colorbar": {
              "outlinewidth": 0,
              "ticks": ""
             }
            },
            "type": "scatterternary"
           }
          ],
          "surface": [
           {
            "colorbar": {
             "outlinewidth": 0,
             "ticks": ""
            },
            "colorscale": [
             [
              0,
              "#0d0887"
             ],
             [
              0.1111111111111111,
              "#46039f"
             ],
             [
              0.2222222222222222,
              "#7201a8"
             ],
             [
              0.3333333333333333,
              "#9c179e"
             ],
             [
              0.4444444444444444,
              "#bd3786"
             ],
             [
              0.5555555555555556,
              "#d8576b"
             ],
             [
              0.6666666666666666,
              "#ed7953"
             ],
             [
              0.7777777777777778,
              "#fb9f3a"
             ],
             [
              0.8888888888888888,
              "#fdca26"
             ],
             [
              1,
              "#f0f921"
             ]
            ],
            "type": "surface"
           }
          ],
          "table": [
           {
            "cells": {
             "fill": {
              "color": "#EBF0F8"
             },
             "line": {
              "color": "white"
             }
            },
            "header": {
             "fill": {
              "color": "#C8D4E3"
             },
             "line": {
              "color": "white"
             }
            },
            "type": "table"
           }
          ]
         },
         "layout": {
          "annotationdefaults": {
           "arrowcolor": "#2a3f5f",
           "arrowhead": 0,
           "arrowwidth": 1
          },
          "autotypenumbers": "strict",
          "coloraxis": {
           "colorbar": {
            "outlinewidth": 0,
            "ticks": ""
           }
          },
          "colorscale": {
           "diverging": [
            [
             0,
             "#8e0152"
            ],
            [
             0.1,
             "#c51b7d"
            ],
            [
             0.2,
             "#de77ae"
            ],
            [
             0.3,
             "#f1b6da"
            ],
            [
             0.4,
             "#fde0ef"
            ],
            [
             0.5,
             "#f7f7f7"
            ],
            [
             0.6,
             "#e6f5d0"
            ],
            [
             0.7,
             "#b8e186"
            ],
            [
             0.8,
             "#7fbc41"
            ],
            [
             0.9,
             "#4d9221"
            ],
            [
             1,
             "#276419"
            ]
           ],
           "sequential": [
            [
             0,
             "#0d0887"
            ],
            [
             0.1111111111111111,
             "#46039f"
            ],
            [
             0.2222222222222222,
             "#7201a8"
            ],
            [
             0.3333333333333333,
             "#9c179e"
            ],
            [
             0.4444444444444444,
             "#bd3786"
            ],
            [
             0.5555555555555556,
             "#d8576b"
            ],
            [
             0.6666666666666666,
             "#ed7953"
            ],
            [
             0.7777777777777778,
             "#fb9f3a"
            ],
            [
             0.8888888888888888,
             "#fdca26"
            ],
            [
             1,
             "#f0f921"
            ]
           ],
           "sequentialminus": [
            [
             0,
             "#0d0887"
            ],
            [
             0.1111111111111111,
             "#46039f"
            ],
            [
             0.2222222222222222,
             "#7201a8"
            ],
            [
             0.3333333333333333,
             "#9c179e"
            ],
            [
             0.4444444444444444,
             "#bd3786"
            ],
            [
             0.5555555555555556,
             "#d8576b"
            ],
            [
             0.6666666666666666,
             "#ed7953"
            ],
            [
             0.7777777777777778,
             "#fb9f3a"
            ],
            [
             0.8888888888888888,
             "#fdca26"
            ],
            [
             1,
             "#f0f921"
            ]
           ]
          },
          "colorway": [
           "#636efa",
           "#EF553B",
           "#00cc96",
           "#ab63fa",
           "#FFA15A",
           "#19d3f3",
           "#FF6692",
           "#B6E880",
           "#FF97FF",
           "#FECB52"
          ],
          "font": {
           "color": "#2a3f5f"
          },
          "geo": {
           "bgcolor": "white",
           "lakecolor": "white",
           "landcolor": "#E5ECF6",
           "showlakes": true,
           "showland": true,
           "subunitcolor": "white"
          },
          "hoverlabel": {
           "align": "left"
          },
          "hovermode": "closest",
          "mapbox": {
           "style": "light"
          },
          "paper_bgcolor": "white",
          "plot_bgcolor": "#E5ECF6",
          "polar": {
           "angularaxis": {
            "gridcolor": "white",
            "linecolor": "white",
            "ticks": ""
           },
           "bgcolor": "#E5ECF6",
           "radialaxis": {
            "gridcolor": "white",
            "linecolor": "white",
            "ticks": ""
           }
          },
          "scene": {
           "xaxis": {
            "backgroundcolor": "#E5ECF6",
            "gridcolor": "white",
            "gridwidth": 2,
            "linecolor": "white",
            "showbackground": true,
            "ticks": "",
            "zerolinecolor": "white"
           },
           "yaxis": {
            "backgroundcolor": "#E5ECF6",
            "gridcolor": "white",
            "gridwidth": 2,
            "linecolor": "white",
            "showbackground": true,
            "ticks": "",
            "zerolinecolor": "white"
           },
           "zaxis": {
            "backgroundcolor": "#E5ECF6",
            "gridcolor": "white",
            "gridwidth": 2,
            "linecolor": "white",
            "showbackground": true,
            "ticks": "",
            "zerolinecolor": "white"
           }
          },
          "shapedefaults": {
           "line": {
            "color": "#2a3f5f"
           }
          },
          "ternary": {
           "aaxis": {
            "gridcolor": "white",
            "linecolor": "white",
            "ticks": ""
           },
           "baxis": {
            "gridcolor": "white",
            "linecolor": "white",
            "ticks": ""
           },
           "bgcolor": "#E5ECF6",
           "caxis": {
            "gridcolor": "white",
            "linecolor": "white",
            "ticks": ""
           }
          },
          "title": {
           "x": 0.05
          },
          "xaxis": {
           "automargin": true,
           "gridcolor": "white",
           "linecolor": "white",
           "ticks": "",
           "title": {
            "standoff": 15
           },
           "zerolinecolor": "white",
           "zerolinewidth": 2
          },
          "yaxis": {
           "automargin": true,
           "gridcolor": "white",
           "linecolor": "white",
           "ticks": "",
           "title": {
            "standoff": 15
           },
           "zerolinecolor": "white",
           "zerolinewidth": 2
          }
         }
        },
        "xaxis": {
         "anchor": "y",
         "domain": [
          0,
          1
         ],
         "title": {
          "text": "value"
         }
        },
        "yaxis": {
         "anchor": "x",
         "domain": [
          0,
          1
         ],
         "title": {
          "text": "variable"
         }
        }
       }
      },
      "text/html": [
       "<div>                            <div id=\"70bad75a-f9ed-4f39-ae33-22f4f262b307\" class=\"plotly-graph-div\" style=\"height:525px; width:100%;\"></div>            <script type=\"text/javascript\">                require([\"plotly\"], function(Plotly) {                    window.PLOTLYENV=window.PLOTLYENV || {};                                    if (document.getElementById(\"70bad75a-f9ed-4f39-ae33-22f4f262b307\")) {                    Plotly.newPlot(                        \"70bad75a-f9ed-4f39-ae33-22f4f262b307\",                        [{\"alignmentgroup\":\"True\",\"hovertemplate\":\"value=%{x}\\u003cbr\\u003evariable=%{y}\\u003cextra\\u003e\\u003c\\u002fextra\\u003e\",\"legendgroup\":\"\",\"marker\":{\"color\":\"#636efa\"},\"name\":\"\",\"notched\":false,\"offsetgroup\":\"\",\"orientation\":\"h\",\"showlegend\":false,\"x\":[0.8,0.7,0.3,1.6,1.4,1.7,1.2,0.8,1.1,1.7,1.5,1.3,1.0,0.8,1.0,0.5,0.8,0.6,0.7,0.5,1.2,0.5,0.8,1.4,0.7,1.2,1.1,1.0,0.9,0.6,0.9,1.8,0.4,0.5,0.4,0.9,0.6,0.8,0.5,0.4,0.2,1.1,1.0,0.7,0.8,0.4,1.5,1.0,1.4,1.3,0.9,1.5,0.9,0.9,0.1,1.2,0.6,0.8,0.6,1.2,1.2,0.8,0.8,0.8,1.6,0.8,1.6,1.0,1.0,0.8,0.8,0.5,0.7,0.7,0.7,0.7,1.0,0.9,1.1,0.6,0.8,1.4,1.7,1.5,0.9,0.3,0.8,1.0,0.9,1.2,1.2,0.9,1.8,0.9,0.4,0.9,0.6,0.5,0.5,1.0,0.8,1.5,1.4,0.4,2.1,0.6,0.2,0.5,1.1,1.8,0.6,0.6,0.8,0.9,1.1,1.2,0.6,0.7,1.0,1.0,0.6,0.9,1.2,0.6,1.4,0.5,1.0,0.6,0.9,1.4,1.1,1.0,2.0,1.0,1.5,0.6,1.0,1.2,1.0,0.7,0.7,0.8,0.6,0.7,1.0,0.4,0.9,1.5,1.0,0.7,0.7,0.9,0.7,1.1,0.4,0.4,1.2,0.6,0.6,0.5,0.7,0.7,1.2,1.5,1.0,1.0,1.4,1.1,0.4,0.8,1.3,1.0,1.0,0.6,1.2,0.8,1.0,0.7,0.9,0.7,0.9,1.2,1.3,0.7,0.6,1.1,0.6,1.0,0.8,0.8,1.4,0.5,1.6,0.5,0.4,1.2,0.6,0.5,0.5,0.6,0.8,0.9,1.4,0.7,0.8,0.9,0.5,0.7,0.4,0.9,1.2,1.3,0.9,0.3,0.4,1.7,1.0,0.7,0.4,0.4,0.9,0.6,1.3,1.0,1.6,0.5,0.6,0.6,0.7,0.7,1.5,1.1,0.5,0.4,1.4,0.8,0.7,0.5,0.5,0.7,1.1,0.9,0.8,0.5,0.8,1.2,1.2,0.8,1.0,0.8,1.6,1.4,0.5,1.0,0.8,1.2,1.2,0.8,0.6,0.6,1.3,0.7,0.5,0.4,1.5,1.2,0.8,0.5,1.1,0.5,1.5,0.6,1.0,0.9,0.5,1.0,1.0,0.3,0.6,0.8,1.5,1.0,0.8,1.0,0.6,0.5,1.2,0.7,1.1,0.7,1.2,1.3,1.5,1.7,0.5,0.7,0.7,0.4,1.0,1.0,1.7,1.3,1.4,0.4,0.8,0.5,0.8,1.4,1.7,0.9,0.7,0.9,1.0,0.5,1.1,0.7,0.7,0.9,1.0,1.1066225103637195,0.9722454668455022,0.9772641262551858,1.4711181237072632,1.483448868041174,0.6916767109932962,0.7412212200727465,0.860166818575792,1.2059902046196713,1.536355642718692,1.425242435336631,0.8817577849125996,0.6673620639122065,1.3669151438515614,1.0554427495232572,0.7753807469153989,1.250214904425234,0.8934446319758524,0.9069469106904434,1.1057884226032797,0.35641250266933144,0.8068939829528667,1.1191482968704707,1.1580235071686968,1.627763103345894,0.9967664870898058,1.2870092112857834,0.8153358745138598,0.49675397799552035,1.0007303817506374,1.266459801512994,0.6673468840431664,1.0704705161340362,0.5990162096037863,0.8849219268468265,1.2940512195361613,0.45352784796909906,0.855665935849025,1.293509714230352,1.1131544559523756,1.304543317544688,0.5579651668900956,1.1045961243465567,1.0148683001383856,0.7812666177469175,0.6132643934324372,0.2929490363993078,1.2168139665880608,1.4431350794975901,1.3023697770361922,1.334986382013095,0.8053710521906396,1.431260833247529,1.1155264218637144,0.9643865881857544,1.3633799860406417,0.9660704019904852,0.7166765914383828,0.8203279526032297,1.0663866031015177,1.5222664722813444,0.5573033577072356,0.8374466552513731,0.8731678673514021,0.6963026746375747,1.2330338041885802,0.9436696499815459,0.2301000242991873,0.7303074637918932,0.9485635902645472,1.4170030605846247,1.4251009704341397,0.2314084207980711,1.2069453075462588,1.1676404982153477,1.4023220377531245,1.2246231312401894,0.20111475992960182,0.37761997553392324,1.1002491241367567,1.4077262507392985,1.0056338876210256,0.7446699009578983,1.4559543310830236,1.0064861161752081,0.41523282226550007,0.998233469401592,1.2032460664859104,0.30837826739551044,0.6106856808157116,1.4620689405572653,1.062934128799256,1.1351664665609726,0.5812554816899287,0.6540858125145207,1.365972688090525,1.0350231755672914,1.2433992224844448,1.2130626698399254,1.3529927961623134,0.9328583566030408,1.5265786380337758,1.2228427104229793,0.9676420498410393,0.636896955706667,0.5348743875719969,1.3096586530690795,0.9518557390357583,1.105987173942193,0.33922664699468585,0.4137870027516377,1.4543705218715597,1.3188497191327384,1.0831963844626453,0.5160327581213813,0.5974523446598646,1.3889100436245365,0.8423863650575859,0.732874002504805,0.9827358143606304,0.7217278878164137,1.5294458972867022,0.9680925607044955,1.2029576614444506,0.663170984685969,1.1417335700067404,1.1330843524024412,0.6878739040754007,1.5999603396159894,1.2394501804151197,0.9242342456878949,-0.04079361909244206,0.983594431697444,0.985139875492642,1.4083746586309471,1.0705717000593407,1.5256167785881245,0.8985259900236567,0.45059177434297804,1.6228426616174563,1.0834593229160772,1.4920403408005118,1.1370509177176138,1.1043862947941019,1.1003790712924062,0.7946987834995312,1.3384070666841121,0.9526482878791189,0.8332278436183562,0.9747787972021512,0.6709619877366055,0.9218313301308071,0.9727589478037174,1.170471916569093,1.5059624939302898,0.49695980735684087,0.6610144873194269,0.7011565615963999,0.07478204297654101,0.941114028844963,1.0241230486255313,0.6015651682754897,0.8881927090197247,1.068398932300699,1.7927991171102309,1.1977722266318522,0.46873015705616594,0.8016403505656244,1.4815229031347565,1.8950580803273347,1.0358846743457464,0.9532916096074714,1.104413234310812,0.5585635691549498,0.762163030851769,0.42095954131575186,0.7652988153127855,0.5318709033388003,1.595690287629019,1.1327347167388877,1.2948934128425684,1.0816127489134952,1.7710964603879833,1.1994126915058474,1.3176068250347077,0.8405307594528545,0.5916383915751757,0.6858116646487381,1.2234955643624488,0.5567114336966055,1.4353761762754984,0.8918790375522453,1.2168441831216381,0.6991874125144794,1.0172021904965889,0.8260422567817839,0.7381093655090856,0.6406299425247224,1.4490473687555196,1.0319890001306449,0.965460870313225,0.9116306657322548,1.295019592636103,1.2407966356860967,0.9106823004560773,0.4341978107407206,1.2512717311920083,1.3198057553917373,1.3850748777629167,0.6164614335860222,1.256811629916303,1.640890440735933,1.2840796536345418,1.1888191092933162,1.4594518833327383,0.6282924506683742,1.5120412543436375,1.1623300258687053,1.1930353437969052,0.9222090541365224,1.0929982387920367,0.8172226775739069,0.9900869897649637,0.9558758297814629,1.199483718578505,1.7076344448052927,1.1828158630609822,1.494883322743625,1.087136996566688,0.6612512919424807,1.4834600083060314,1.7274734812935266,0.656383924717826,1.4118251307350524,1.0107568281334687,0.8583340511873782,0.8115088375834829,1.149321089871845,0.7503699233372256,0.9305208468697236,0.20905066462205946,0.6684317621257845,1.1501729126107052,0.9757063831028618,1.4945866475378975,1.1957104371622223,0.8549817809364022,0.7734399304148389,0.5454306449743045,1.0047424007059127,1.1502720030956115,1.4573226325537174,0.7420957673772488,1.4127054853880234,1.0106005180794806,1.3257642249933292,0.33578066377090043,1.0257672814686534,0.8880020383842507,0.8201262327436948,1.3381745963916285,0.5114860091699454,1.2313197774090554,0.8171991142690668,0.8696341817425168,0.9145798598686437,1.3809556958751228,1.2664781546050412,0.8900129482380612,1.2964237595001633,1.5497017453641297,0.5929024773803786,1.2361354750387417,0.9001576154527858,1.4192799847956756,0.6768157106936429,0.1060687549028081,1.3614033432934023,0.7607290941578609,1.0502442103302299,1.385830193506051,1.5126951073352595,1.1708732884965312,0.6137246714121846,1.3646477834380084,1.5214670946413869,0.8406681269913812,1.209687955863628,1.129091039133992,0.48405124039097414,1.3565966874879059,1.1626481484818594,0.44415939612836,1.3025606042393663,0.6690709069452399,1.3523411376253107,1.0512309233335515,1.5007109211894183,0.7587046227929646,0.9138146350924999,0.8313862795560116,1.849872436715637,0.731093394399264,1.0004592351439345,1.0571557992285996,0.7915106358547453,1.2325679005427994,1.1144433339273265,0.9721900149160924,0.887329534434942,1.5118870859301556,0.3089960293432902,0.956005419789227,1.7645238373953682,0.4371379964574329,0.772833211753403,1.0304395134663389,1.0847540613650521,1.3647221661638573],\"x0\":\" \",\"xaxis\":\"x\",\"y\":[\"Thick\",\"Thick\",\"Thick\",\"Thick\",\"Thick\",\"Thick\",\"Thick\",\"Thick\",\"Thick\",\"Thick\",\"Thick\",\"Thick\",\"Thick\",\"Thick\",\"Thick\",\"Thick\",\"Thick\",\"Thick\",\"Thick\",\"Thick\",\"Thick\",\"Thick\",\"Thick\",\"Thick\",\"Thick\",\"Thick\",\"Thick\",\"Thick\",\"Thick\",\"Thick\",\"Thick\",\"Thick\",\"Thick\",\"Thick\",\"Thick\",\"Thick\",\"Thick\",\"Thick\",\"Thick\",\"Thick\",\"Thick\",\"Thick\",\"Thick\",\"Thick\",\"Thick\",\"Thick\",\"Thick\",\"Thick\",\"Thick\",\"Thick\",\"Thick\",\"Thick\",\"Thick\",\"Thick\",\"Thick\",\"Thick\",\"Thick\",\"Thick\",\"Thick\",\"Thick\",\"Thick\",\"Thick\",\"Thick\",\"Thick\",\"Thick\",\"Thick\",\"Thick\",\"Thick\",\"Thick\",\"Thick\",\"Thick\",\"Thick\",\"Thick\",\"Thick\",\"Thick\",\"Thick\",\"Thick\",\"Thick\",\"Thick\",\"Thick\",\"Thick\",\"Thick\",\"Thick\",\"Thick\",\"Thick\",\"Thick\",\"Thick\",\"Thick\",\"Thick\",\"Thick\",\"Thick\",\"Thick\",\"Thick\",\"Thick\",\"Thick\",\"Thick\",\"Thick\",\"Thick\",\"Thick\",\"Thick\",\"Thick\",\"Thick\",\"Thick\",\"Thick\",\"Thick\",\"Thick\",\"Thick\",\"Thick\",\"Thick\",\"Thick\",\"Thick\",\"Thick\",\"Thick\",\"Thick\",\"Thick\",\"Thick\",\"Thick\",\"Thick\",\"Thick\",\"Thick\",\"Thick\",\"Thick\",\"Thick\",\"Thick\",\"Thick\",\"Thick\",\"Thick\",\"Thick\",\"Thick\",\"Thick\",\"Thick\",\"Thick\",\"Thick\",\"Thick\",\"Thick\",\"Thick\",\"Thick\",\"Thick\",\"Thick\",\"Thick\",\"Thick\",\"Thick\",\"Thick\",\"Thick\",\"Thick\",\"Thick\",\"Thick\",\"Thick\",\"Thick\",\"Thick\",\"Thick\",\"Thick\",\"Thick\",\"Thick\",\"Thick\",\"Thick\",\"Thick\",\"Thick\",\"Thick\",\"Thick\",\"Thick\",\"Thick\",\"Thick\",\"Thick\",\"Thick\",\"Thick\",\"Thick\",\"Thick\",\"Thick\",\"Thick\",\"Thick\",\"Thick\",\"Thick\",\"Thick\",\"Thick\",\"Thick\",\"Thick\",\"Thick\",\"Thick\",\"Thick\",\"Thick\",\"Thick\",\"Thick\",\"Thick\",\"Thick\",\"Thick\",\"Thick\",\"Thick\",\"Thick\",\"Thick\",\"Thick\",\"Thick\",\"Thick\",\"Thick\",\"Thick\",\"Thick\",\"Thick\",\"Thick\",\"Thick\",\"Thick\",\"Thick\",\"Thick\",\"Thick\",\"Thick\",\"Thick\",\"Thick\",\"Thick\",\"Thick\",\"Thick\",\"Thick\",\"Thick\",\"Thick\",\"Thick\",\"Thick\",\"Thick\",\"Thick\",\"Thick\",\"Thick\",\"Thick\",\"Thick\",\"Thick\",\"Thick\",\"Thick\",\"Thick\",\"Thick\",\"Thick\",\"Thick\",\"Thick\",\"Thick\",\"Thick\",\"Thick\",\"Thick\",\"Thick\",\"Thick\",\"Thick\",\"Thick\",\"Thick\",\"Thick\",\"Thick\",\"Thick\",\"Thick\",\"Thick\",\"Thick\",\"Thick\",\"Thick\",\"Thick\",\"Thick\",\"Thick\",\"Thick\",\"Thick\",\"Thick\",\"Thick\",\"Thick\",\"Thick\",\"Thick\",\"Thick\",\"Thick\",\"Thick\",\"Thick\",\"Thick\",\"Thick\",\"Thick\",\"Thick\",\"Thick\",\"Thick\",\"Thick\",\"Thick\",\"Thick\",\"Thick\",\"Thick\",\"Thick\",\"Thick\",\"Thick\",\"Thick\",\"Thick\",\"Thick\",\"Thick\",\"Thick\",\"Thick\",\"Thick\",\"Thick\",\"Thick\",\"Thick\",\"Thick\",\"Thick\",\"Thick\",\"Thick\",\"Thick\",\"Thick\",\"Thick\",\"Thick\",\"Thick\",\"Thick\",\"Thick\",\"Thick\",\"Thick\",\"Thick\",\"Thick\",\"Thick\",\"Thick\",\"Thick\",\"Thick\",\"Thick\",\"Thick\",\"Thick\",\"Thick\",\"Thick\",\"Thick\",\"Thick\",\"Thick\",\"Thick\",\"Thick\",\"Thick\",\"Thick\",\"Thick\",\"Thick\",\"Thick\",\"Thick\",\"Thick\",\"my_theoretical_sample\",\"my_theoretical_sample\",\"my_theoretical_sample\",\"my_theoretical_sample\",\"my_theoretical_sample\",\"my_theoretical_sample\",\"my_theoretical_sample\",\"my_theoretical_sample\",\"my_theoretical_sample\",\"my_theoretical_sample\",\"my_theoretical_sample\",\"my_theoretical_sample\",\"my_theoretical_sample\",\"my_theoretical_sample\",\"my_theoretical_sample\",\"my_theoretical_sample\",\"my_theoretical_sample\",\"my_theoretical_sample\",\"my_theoretical_sample\",\"my_theoretical_sample\",\"my_theoretical_sample\",\"my_theoretical_sample\",\"my_theoretical_sample\",\"my_theoretical_sample\",\"my_theoretical_sample\",\"my_theoretical_sample\",\"my_theoretical_sample\",\"my_theoretical_sample\",\"my_theoretical_sample\",\"my_theoretical_sample\",\"my_theoretical_sample\",\"my_theoretical_sample\",\"my_theoretical_sample\",\"my_theoretical_sample\",\"my_theoretical_sample\",\"my_theoretical_sample\",\"my_theoretical_sample\",\"my_theoretical_sample\",\"my_theoretical_sample\",\"my_theoretical_sample\",\"my_theoretical_sample\",\"my_theoretical_sample\",\"my_theoretical_sample\",\"my_theoretical_sample\",\"my_theoretical_sample\",\"my_theoretical_sample\",\"my_theoretical_sample\",\"my_theoretical_sample\",\"my_theoretical_sample\",\"my_theoretical_sample\",\"my_theoretical_sample\",\"my_theoretical_sample\",\"my_theoretical_sample\",\"my_theoretical_sample\",\"my_theoretical_sample\",\"my_theoretical_sample\",\"my_theoretical_sample\",\"my_theoretical_sample\",\"my_theoretical_sample\",\"my_theoretical_sample\",\"my_theoretical_sample\",\"my_theoretical_sample\",\"my_theoretical_sample\",\"my_theoretical_sample\",\"my_theoretical_sample\",\"my_theoretical_sample\",\"my_theoretical_sample\",\"my_theoretical_sample\",\"my_theoretical_sample\",\"my_theoretical_sample\",\"my_theoretical_sample\",\"my_theoretical_sample\",\"my_theoretical_sample\",\"my_theoretical_sample\",\"my_theoretical_sample\",\"my_theoretical_sample\",\"my_theoretical_sample\",\"my_theoretical_sample\",\"my_theoretical_sample\",\"my_theoretical_sample\",\"my_theoretical_sample\",\"my_theoretical_sample\",\"my_theoretical_sample\",\"my_theoretical_sample\",\"my_theoretical_sample\",\"my_theoretical_sample\",\"my_theoretical_sample\",\"my_theoretical_sample\",\"my_theoretical_sample\",\"my_theoretical_sample\",\"my_theoretical_sample\",\"my_theoretical_sample\",\"my_theoretical_sample\",\"my_theoretical_sample\",\"my_theoretical_sample\",\"my_theoretical_sample\",\"my_theoretical_sample\",\"my_theoretical_sample\",\"my_theoretical_sample\",\"my_theoretical_sample\",\"my_theoretical_sample\",\"my_theoretical_sample\",\"my_theoretical_sample\",\"my_theoretical_sample\",\"my_theoretical_sample\",\"my_theoretical_sample\",\"my_theoretical_sample\",\"my_theoretical_sample\",\"my_theoretical_sample\",\"my_theoretical_sample\",\"my_theoretical_sample\",\"my_theoretical_sample\",\"my_theoretical_sample\",\"my_theoretical_sample\",\"my_theoretical_sample\",\"my_theoretical_sample\",\"my_theoretical_sample\",\"my_theoretical_sample\",\"my_theoretical_sample\",\"my_theoretical_sample\",\"my_theoretical_sample\",\"my_theoretical_sample\",\"my_theoretical_sample\",\"my_theoretical_sample\",\"my_theoretical_sample\",\"my_theoretical_sample\",\"my_theoretical_sample\",\"my_theoretical_sample\",\"my_theoretical_sample\",\"my_theoretical_sample\",\"my_theoretical_sample\",\"my_theoretical_sample\",\"my_theoretical_sample\",\"my_theoretical_sample\",\"my_theoretical_sample\",\"my_theoretical_sample\",\"my_theoretical_sample\",\"my_theoretical_sample\",\"my_theoretical_sample\",\"my_theoretical_sample\",\"my_theoretical_sample\",\"my_theoretical_sample\",\"my_theoretical_sample\",\"my_theoretical_sample\",\"my_theoretical_sample\",\"my_theoretical_sample\",\"my_theoretical_sample\",\"my_theoretical_sample\",\"my_theoretical_sample\",\"my_theoretical_sample\",\"my_theoretical_sample\",\"my_theoretical_sample\",\"my_theoretical_sample\",\"my_theoretical_sample\",\"my_theoretical_sample\",\"my_theoretical_sample\",\"my_theoretical_sample\",\"my_theoretical_sample\",\"my_theoretical_sample\",\"my_theoretical_sample\",\"my_theoretical_sample\",\"my_theoretical_sample\",\"my_theoretical_sample\",\"my_theoretical_sample\",\"my_theoretical_sample\",\"my_theoretical_sample\",\"my_theoretical_sample\",\"my_theoretical_sample\",\"my_theoretical_sample\",\"my_theoretical_sample\",\"my_theoretical_sample\",\"my_theoretical_sample\",\"my_theoretical_sample\",\"my_theoretical_sample\",\"my_theoretical_sample\",\"my_theoretical_sample\",\"my_theoretical_sample\",\"my_theoretical_sample\",\"my_theoretical_sample\",\"my_theoretical_sample\",\"my_theoretical_sample\",\"my_theoretical_sample\",\"my_theoretical_sample\",\"my_theoretical_sample\",\"my_theoretical_sample\",\"my_theoretical_sample\",\"my_theoretical_sample\",\"my_theoretical_sample\",\"my_theoretical_sample\",\"my_theoretical_sample\",\"my_theoretical_sample\",\"my_theoretical_sample\",\"my_theoretical_sample\",\"my_theoretical_sample\",\"my_theoretical_sample\",\"my_theoretical_sample\",\"my_theoretical_sample\",\"my_theoretical_sample\",\"my_theoretical_sample\",\"my_theoretical_sample\",\"my_theoretical_sample\",\"my_theoretical_sample\",\"my_theoretical_sample\",\"my_theoretical_sample\",\"my_theoretical_sample\",\"my_theoretical_sample\",\"my_theoretical_sample\",\"my_theoretical_sample\",\"my_theoretical_sample\",\"my_theoretical_sample\",\"my_theoretical_sample\",\"my_theoretical_sample\",\"my_theoretical_sample\",\"my_theoretical_sample\",\"my_theoretical_sample\",\"my_theoretical_sample\",\"my_theoretical_sample\",\"my_theoretical_sample\",\"my_theoretical_sample\",\"my_theoretical_sample\",\"my_theoretical_sample\",\"my_theoretical_sample\",\"my_theoretical_sample\",\"my_theoretical_sample\",\"my_theoretical_sample\",\"my_theoretical_sample\",\"my_theoretical_sample\",\"my_theoretical_sample\",\"my_theoretical_sample\",\"my_theoretical_sample\",\"my_theoretical_sample\",\"my_theoretical_sample\",\"my_theoretical_sample\",\"my_theoretical_sample\",\"my_theoretical_sample\",\"my_theoretical_sample\",\"my_theoretical_sample\",\"my_theoretical_sample\",\"my_theoretical_sample\",\"my_theoretical_sample\",\"my_theoretical_sample\",\"my_theoretical_sample\",\"my_theoretical_sample\",\"my_theoretical_sample\",\"my_theoretical_sample\",\"my_theoretical_sample\",\"my_theoretical_sample\",\"my_theoretical_sample\",\"my_theoretical_sample\",\"my_theoretical_sample\",\"my_theoretical_sample\",\"my_theoretical_sample\",\"my_theoretical_sample\",\"my_theoretical_sample\",\"my_theoretical_sample\",\"my_theoretical_sample\",\"my_theoretical_sample\",\"my_theoretical_sample\",\"my_theoretical_sample\",\"my_theoretical_sample\",\"my_theoretical_sample\",\"my_theoretical_sample\",\"my_theoretical_sample\",\"my_theoretical_sample\",\"my_theoretical_sample\",\"my_theoretical_sample\",\"my_theoretical_sample\",\"my_theoretical_sample\",\"my_theoretical_sample\",\"my_theoretical_sample\",\"my_theoretical_sample\",\"my_theoretical_sample\",\"my_theoretical_sample\",\"my_theoretical_sample\",\"my_theoretical_sample\",\"my_theoretical_sample\",\"my_theoretical_sample\",\"my_theoretical_sample\",\"my_theoretical_sample\",\"my_theoretical_sample\",\"my_theoretical_sample\",\"my_theoretical_sample\",\"my_theoretical_sample\",\"my_theoretical_sample\",\"my_theoretical_sample\",\"my_theoretical_sample\",\"my_theoretical_sample\",\"my_theoretical_sample\",\"my_theoretical_sample\",\"my_theoretical_sample\",\"my_theoretical_sample\",\"my_theoretical_sample\",\"my_theoretical_sample\",\"my_theoretical_sample\",\"my_theoretical_sample\",\"my_theoretical_sample\",\"my_theoretical_sample\",\"my_theoretical_sample\",\"my_theoretical_sample\",\"my_theoretical_sample\",\"my_theoretical_sample\",\"my_theoretical_sample\",\"my_theoretical_sample\",\"my_theoretical_sample\",\"my_theoretical_sample\",\"my_theoretical_sample\",\"my_theoretical_sample\",\"my_theoretical_sample\",\"my_theoretical_sample\",\"my_theoretical_sample\",\"my_theoretical_sample\",\"my_theoretical_sample\",\"my_theoretical_sample\",\"my_theoretical_sample\",\"my_theoretical_sample\",\"my_theoretical_sample\",\"my_theoretical_sample\",\"my_theoretical_sample\",\"my_theoretical_sample\"],\"y0\":\" \",\"yaxis\":\"y\",\"type\":\"box\"}],                        {\"template\":{\"data\":{\"histogram2dcontour\":[{\"type\":\"histogram2dcontour\",\"colorbar\":{\"outlinewidth\":0,\"ticks\":\"\"},\"colorscale\":[[0.0,\"#0d0887\"],[0.1111111111111111,\"#46039f\"],[0.2222222222222222,\"#7201a8\"],[0.3333333333333333,\"#9c179e\"],[0.4444444444444444,\"#bd3786\"],[0.5555555555555556,\"#d8576b\"],[0.6666666666666666,\"#ed7953\"],[0.7777777777777778,\"#fb9f3a\"],[0.8888888888888888,\"#fdca26\"],[1.0,\"#f0f921\"]]}],\"choropleth\":[{\"type\":\"choropleth\",\"colorbar\":{\"outlinewidth\":0,\"ticks\":\"\"}}],\"histogram2d\":[{\"type\":\"histogram2d\",\"colorbar\":{\"outlinewidth\":0,\"ticks\":\"\"},\"colorscale\":[[0.0,\"#0d0887\"],[0.1111111111111111,\"#46039f\"],[0.2222222222222222,\"#7201a8\"],[0.3333333333333333,\"#9c179e\"],[0.4444444444444444,\"#bd3786\"],[0.5555555555555556,\"#d8576b\"],[0.6666666666666666,\"#ed7953\"],[0.7777777777777778,\"#fb9f3a\"],[0.8888888888888888,\"#fdca26\"],[1.0,\"#f0f921\"]]}],\"heatmap\":[{\"type\":\"heatmap\",\"colorbar\":{\"outlinewidth\":0,\"ticks\":\"\"},\"colorscale\":[[0.0,\"#0d0887\"],[0.1111111111111111,\"#46039f\"],[0.2222222222222222,\"#7201a8\"],[0.3333333333333333,\"#9c179e\"],[0.4444444444444444,\"#bd3786\"],[0.5555555555555556,\"#d8576b\"],[0.6666666666666666,\"#ed7953\"],[0.7777777777777778,\"#fb9f3a\"],[0.8888888888888888,\"#fdca26\"],[1.0,\"#f0f921\"]]}],\"heatmapgl\":[{\"type\":\"heatmapgl\",\"colorbar\":{\"outlinewidth\":0,\"ticks\":\"\"},\"colorscale\":[[0.0,\"#0d0887\"],[0.1111111111111111,\"#46039f\"],[0.2222222222222222,\"#7201a8\"],[0.3333333333333333,\"#9c179e\"],[0.4444444444444444,\"#bd3786\"],[0.5555555555555556,\"#d8576b\"],[0.6666666666666666,\"#ed7953\"],[0.7777777777777778,\"#fb9f3a\"],[0.8888888888888888,\"#fdca26\"],[1.0,\"#f0f921\"]]}],\"contourcarpet\":[{\"type\":\"contourcarpet\",\"colorbar\":{\"outlinewidth\":0,\"ticks\":\"\"}}],\"contour\":[{\"type\":\"contour\",\"colorbar\":{\"outlinewidth\":0,\"ticks\":\"\"},\"colorscale\":[[0.0,\"#0d0887\"],[0.1111111111111111,\"#46039f\"],[0.2222222222222222,\"#7201a8\"],[0.3333333333333333,\"#9c179e\"],[0.4444444444444444,\"#bd3786\"],[0.5555555555555556,\"#d8576b\"],[0.6666666666666666,\"#ed7953\"],[0.7777777777777778,\"#fb9f3a\"],[0.8888888888888888,\"#fdca26\"],[1.0,\"#f0f921\"]]}],\"surface\":[{\"type\":\"surface\",\"colorbar\":{\"outlinewidth\":0,\"ticks\":\"\"},\"colorscale\":[[0.0,\"#0d0887\"],[0.1111111111111111,\"#46039f\"],[0.2222222222222222,\"#7201a8\"],[0.3333333333333333,\"#9c179e\"],[0.4444444444444444,\"#bd3786\"],[0.5555555555555556,\"#d8576b\"],[0.6666666666666666,\"#ed7953\"],[0.7777777777777778,\"#fb9f3a\"],[0.8888888888888888,\"#fdca26\"],[1.0,\"#f0f921\"]]}],\"mesh3d\":[{\"type\":\"mesh3d\",\"colorbar\":{\"outlinewidth\":0,\"ticks\":\"\"}}],\"scatter\":[{\"fillpattern\":{\"fillmode\":\"overlay\",\"size\":10,\"solidity\":0.2},\"type\":\"scatter\"}],\"parcoords\":[{\"type\":\"parcoords\",\"line\":{\"colorbar\":{\"outlinewidth\":0,\"ticks\":\"\"}}}],\"scatterpolargl\":[{\"type\":\"scatterpolargl\",\"marker\":{\"colorbar\":{\"outlinewidth\":0,\"ticks\":\"\"}}}],\"bar\":[{\"error_x\":{\"color\":\"#2a3f5f\"},\"error_y\":{\"color\":\"#2a3f5f\"},\"marker\":{\"line\":{\"color\":\"#E5ECF6\",\"width\":0.5},\"pattern\":{\"fillmode\":\"overlay\",\"size\":10,\"solidity\":0.2}},\"type\":\"bar\"}],\"scattergeo\":[{\"type\":\"scattergeo\",\"marker\":{\"colorbar\":{\"outlinewidth\":0,\"ticks\":\"\"}}}],\"scatterpolar\":[{\"type\":\"scatterpolar\",\"marker\":{\"colorbar\":{\"outlinewidth\":0,\"ticks\":\"\"}}}],\"histogram\":[{\"marker\":{\"pattern\":{\"fillmode\":\"overlay\",\"size\":10,\"solidity\":0.2}},\"type\":\"histogram\"}],\"scattergl\":[{\"type\":\"scattergl\",\"marker\":{\"colorbar\":{\"outlinewidth\":0,\"ticks\":\"\"}}}],\"scatter3d\":[{\"type\":\"scatter3d\",\"line\":{\"colorbar\":{\"outlinewidth\":0,\"ticks\":\"\"}},\"marker\":{\"colorbar\":{\"outlinewidth\":0,\"ticks\":\"\"}}}],\"scattermapbox\":[{\"type\":\"scattermapbox\",\"marker\":{\"colorbar\":{\"outlinewidth\":0,\"ticks\":\"\"}}}],\"scatterternary\":[{\"type\":\"scatterternary\",\"marker\":{\"colorbar\":{\"outlinewidth\":0,\"ticks\":\"\"}}}],\"scattercarpet\":[{\"type\":\"scattercarpet\",\"marker\":{\"colorbar\":{\"outlinewidth\":0,\"ticks\":\"\"}}}],\"carpet\":[{\"aaxis\":{\"endlinecolor\":\"#2a3f5f\",\"gridcolor\":\"white\",\"linecolor\":\"white\",\"minorgridcolor\":\"white\",\"startlinecolor\":\"#2a3f5f\"},\"baxis\":{\"endlinecolor\":\"#2a3f5f\",\"gridcolor\":\"white\",\"linecolor\":\"white\",\"minorgridcolor\":\"white\",\"startlinecolor\":\"#2a3f5f\"},\"type\":\"carpet\"}],\"table\":[{\"cells\":{\"fill\":{\"color\":\"#EBF0F8\"},\"line\":{\"color\":\"white\"}},\"header\":{\"fill\":{\"color\":\"#C8D4E3\"},\"line\":{\"color\":\"white\"}},\"type\":\"table\"}],\"barpolar\":[{\"marker\":{\"line\":{\"color\":\"#E5ECF6\",\"width\":0.5},\"pattern\":{\"fillmode\":\"overlay\",\"size\":10,\"solidity\":0.2}},\"type\":\"barpolar\"}],\"pie\":[{\"automargin\":true,\"type\":\"pie\"}]},\"layout\":{\"autotypenumbers\":\"strict\",\"colorway\":[\"#636efa\",\"#EF553B\",\"#00cc96\",\"#ab63fa\",\"#FFA15A\",\"#19d3f3\",\"#FF6692\",\"#B6E880\",\"#FF97FF\",\"#FECB52\"],\"font\":{\"color\":\"#2a3f5f\"},\"hovermode\":\"closest\",\"hoverlabel\":{\"align\":\"left\"},\"paper_bgcolor\":\"white\",\"plot_bgcolor\":\"#E5ECF6\",\"polar\":{\"bgcolor\":\"#E5ECF6\",\"angularaxis\":{\"gridcolor\":\"white\",\"linecolor\":\"white\",\"ticks\":\"\"},\"radialaxis\":{\"gridcolor\":\"white\",\"linecolor\":\"white\",\"ticks\":\"\"}},\"ternary\":{\"bgcolor\":\"#E5ECF6\",\"aaxis\":{\"gridcolor\":\"white\",\"linecolor\":\"white\",\"ticks\":\"\"},\"baxis\":{\"gridcolor\":\"white\",\"linecolor\":\"white\",\"ticks\":\"\"},\"caxis\":{\"gridcolor\":\"white\",\"linecolor\":\"white\",\"ticks\":\"\"}},\"coloraxis\":{\"colorbar\":{\"outlinewidth\":0,\"ticks\":\"\"}},\"colorscale\":{\"sequential\":[[0.0,\"#0d0887\"],[0.1111111111111111,\"#46039f\"],[0.2222222222222222,\"#7201a8\"],[0.3333333333333333,\"#9c179e\"],[0.4444444444444444,\"#bd3786\"],[0.5555555555555556,\"#d8576b\"],[0.6666666666666666,\"#ed7953\"],[0.7777777777777778,\"#fb9f3a\"],[0.8888888888888888,\"#fdca26\"],[1.0,\"#f0f921\"]],\"sequentialminus\":[[0.0,\"#0d0887\"],[0.1111111111111111,\"#46039f\"],[0.2222222222222222,\"#7201a8\"],[0.3333333333333333,\"#9c179e\"],[0.4444444444444444,\"#bd3786\"],[0.5555555555555556,\"#d8576b\"],[0.6666666666666666,\"#ed7953\"],[0.7777777777777778,\"#fb9f3a\"],[0.8888888888888888,\"#fdca26\"],[1.0,\"#f0f921\"]],\"diverging\":[[0,\"#8e0152\"],[0.1,\"#c51b7d\"],[0.2,\"#de77ae\"],[0.3,\"#f1b6da\"],[0.4,\"#fde0ef\"],[0.5,\"#f7f7f7\"],[0.6,\"#e6f5d0\"],[0.7,\"#b8e186\"],[0.8,\"#7fbc41\"],[0.9,\"#4d9221\"],[1,\"#276419\"]]},\"xaxis\":{\"gridcolor\":\"white\",\"linecolor\":\"white\",\"ticks\":\"\",\"title\":{\"standoff\":15},\"zerolinecolor\":\"white\",\"automargin\":true,\"zerolinewidth\":2},\"yaxis\":{\"gridcolor\":\"white\",\"linecolor\":\"white\",\"ticks\":\"\",\"title\":{\"standoff\":15},\"zerolinecolor\":\"white\",\"automargin\":true,\"zerolinewidth\":2},\"scene\":{\"xaxis\":{\"backgroundcolor\":\"#E5ECF6\",\"gridcolor\":\"white\",\"linecolor\":\"white\",\"showbackground\":true,\"ticks\":\"\",\"zerolinecolor\":\"white\",\"gridwidth\":2},\"yaxis\":{\"backgroundcolor\":\"#E5ECF6\",\"gridcolor\":\"white\",\"linecolor\":\"white\",\"showbackground\":true,\"ticks\":\"\",\"zerolinecolor\":\"white\",\"gridwidth\":2},\"zaxis\":{\"backgroundcolor\":\"#E5ECF6\",\"gridcolor\":\"white\",\"linecolor\":\"white\",\"showbackground\":true,\"ticks\":\"\",\"zerolinecolor\":\"white\",\"gridwidth\":2}},\"shapedefaults\":{\"line\":{\"color\":\"#2a3f5f\"}},\"annotationdefaults\":{\"arrowcolor\":\"#2a3f5f\",\"arrowhead\":0,\"arrowwidth\":1},\"geo\":{\"bgcolor\":\"white\",\"landcolor\":\"#E5ECF6\",\"subunitcolor\":\"white\",\"showland\":true,\"showlakes\":true,\"lakecolor\":\"white\"},\"title\":{\"x\":0.05},\"mapbox\":{\"style\":\"light\"}}},\"xaxis\":{\"anchor\":\"y\",\"domain\":[0.0,1.0],\"title\":{\"text\":\"value\"}},\"yaxis\":{\"anchor\":\"x\",\"domain\":[0.0,1.0],\"title\":{\"text\":\"variable\"}},\"legend\":{\"tracegroupgap\":0},\"margin\":{\"t\":60},\"boxmode\":\"group\"},                        {\"responsive\": true}                    ).then(function(){\n",
       "                            \n",
       "var gd = document.getElementById('70bad75a-f9ed-4f39-ae33-22f4f262b307');\n",
       "var x = new MutationObserver(function (mutations, observer) {{\n",
       "        var display = window.getComputedStyle(gd).display;\n",
       "        if (!display || display === 'none') {{\n",
       "            console.log([gd, 'removed!']);\n",
       "            Plotly.purge(gd);\n",
       "            observer.disconnect();\n",
       "        }}\n",
       "}});\n",
       "\n",
       "// Listen for the removal of the full notebook cells\n",
       "var notebookContainer = gd.closest('#notebook-container');\n",
       "if (notebookContainer) {{\n",
       "    x.observe(notebookContainer, {childList: true});\n",
       "}}\n",
       "\n",
       "// Listen for the clearing of the current output cell\n",
       "var outputEl = gd.closest('.output');\n",
       "if (outputEl) {{\n",
       "    x.observe(outputEl, {childList: true});\n",
       "}}\n",
       "\n",
       "                        })                };                });            </script>        </div>"
      ]
     },
     "metadata": {},
     "output_type": "display_data"
    }
   ],
   "source": [
    "# wide to tall/narrow/long? format\n",
    "\n",
    "samples_actual_and_theoretical = pd.melt(ab_noNaN, value_vars=['Thick','my_theoretical_sample'])\n",
    "px.box(samples_actual_and_theoretical, x='value',\n",
    "       y='variable')"
   ]
  },
  {
   "cell_type": "code",
   "execution_count": null,
   "id": "b118e933",
   "metadata": {},
   "outputs": [],
   "source": [
    "px.box(ab_noNaN, x='my_theoretical_sample'\n",
    "               , x='Thick'"
   ]
  }
 ],
 "metadata": {
  "kernelspec": {
   "display_name": "Python 3 (ipykernel)",
   "language": "python",
   "name": "python3"
  },
  "language_info": {
   "codemirror_mode": {
    "name": "ipython",
    "version": 3
   },
   "file_extension": ".py",
   "mimetype": "text/x-python",
   "name": "python",
   "nbconvert_exporter": "python",
   "pygments_lexer": "ipython3",
   "version": "3.10.8"
  }
 },
 "nbformat": 4,
 "nbformat_minor": 5
}
